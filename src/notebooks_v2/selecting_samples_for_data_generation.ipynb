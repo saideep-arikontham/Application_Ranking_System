{
 "cells": [
  {
   "cell_type": "markdown",
   "id": "f98ff63d82b275f2",
   "metadata": {
    "collapsed": false
   },
   "source": [
    "# Selecting samples for Synthetic data generation"
   ]
  },
  {
   "cell_type": "markdown",
   "id": "4f7c796252acc5d3",
   "metadata": {
    "collapsed": false
   },
   "source": [
    "## Importing libraries"
   ]
  },
  {
   "cell_type": "code",
   "execution_count": 1,
   "id": "initial_id",
   "metadata": {
    "ExecuteTime": {
     "end_time": "2025-03-08T22:56:47.220298Z",
     "start_time": "2025-03-08T22:56:47.218789Z"
    }
   },
   "outputs": [],
   "source": [
    "import pandas as pd\n",
    "import numpy as np\n",
    "import matplotlib.pyplot as plt\n",
    "import seaborn as sns"
   ]
  },
  {
   "cell_type": "code",
   "execution_count": 2,
   "id": "5542141a6ca2d5d5",
   "metadata": {
    "collapsed": false,
    "ExecuteTime": {
     "end_time": "2025-03-08T22:56:47.222427Z",
     "start_time": "2025-03-08T22:56:47.220871Z"
    }
   },
   "outputs": [],
   "source": [
    "path = \"/Users/saideepbunny/Projects/Application_Ranking_System\""
   ]
  },
  {
   "cell_type": "markdown",
   "id": "be1796d1d7e8efe0",
   "metadata": {
    "collapsed": false
   },
   "source": [
    "## Reading the data"
   ]
  },
  {
   "cell_type": "code",
   "execution_count": 3,
   "id": "2d00ecb0b77a81cb",
   "metadata": {
    "collapsed": false,
    "ExecuteTime": {
     "end_time": "2025-03-08T22:56:51.447108Z",
     "start_time": "2025-03-08T22:56:47.223054Z"
    }
   },
   "outputs": [
    {
     "data": {
      "text/plain": "                                                 job_link  \\\n0       https://www.linkedin.com/jobs/view/independent...   \n1       https://www.linkedin.com/jobs/view/chef-de-cui...   \n2       https://www.linkedin.com/jobs/view/cheese-spec...   \n3       https://www.linkedin.com/jobs/view/retail-dist...   \n4       https://www.linkedin.com/jobs/view/travel-rn-l...   \n...                                                   ...   \n125375  https://uk.linkedin.com/jobs/view/production-p...   \n125376  https://www.linkedin.com/jobs/view/store-manag...   \n125377  https://www.linkedin.com/jobs/view/sales-repre...   \n125378  https://www.linkedin.com/jobs/view/ft-center-s...   \n125379  https://www.linkedin.com/jobs/view/associate-a...   \n\n                  last_processed_time got_summary got_ner is_being_worked  \\\n0       2024-01-21 07:40:00.308133+00           t       t               f   \n1       2024-01-21 07:12:35.170823+00           t       t               f   \n2       2024-01-21 06:01:14.692423+00           t       t               f   \n3       2024-01-21 07:12:35.189652+00           t       t               f   \n4       2024-01-21 07:12:37.537623+00           t       t               f   \n...                               ...         ...     ...             ...   \n125375  2024-01-20 04:01:08.913697+00           t       t               f   \n125376  2024-01-20 05:12:47.255315+00           t       t               f   \n125377  2024-01-20 13:46:06.129745+00           t       t               f   \n125378  2024-01-20 13:46:10.289403+00           t       t               f   \n125379   2024-01-20 15:20:54.32033+00           t       t               f   \n\n                                 job_title                          company  \\\n0            Independent Real Estate Agent       Howard Hanna | Rand Realty   \n1                          Chef de Cuisine               Goodwin Recruiting   \n2                        Cheese Specialist                          Safeway   \n3       RETAIL DISTRICT MANAGER UNASSIGNED                   Dollar General   \n4               Travel RN - Long Term Care                CoreMedical Group   \n...                                    ...                              ...   \n125375                  Production Planner  Eat Real + PROPER | WARP Snacks   \n125376           Store Manager in Training              O'Reilly Auto Parts   \n125377                Sales Representative  American Fidelity Sales Careers   \n125378         FT Center Store Manager (H)                        Food Lion   \n125379           Associate Account Manager                          Lockton   \n\n                             job_location  first_seen    search_city  \\\n0                    Englewood Cliffs, NJ  2024-01-16      Pinehurst   \n1                          Brookfield, WI  2024-01-14      Milwaukee   \n2                          Mount Airy, MD  2024-01-14      Frederick   \n3                             Newport, NH  2024-01-14  New Hampshire   \n4                          Barnstable, MA  2024-01-14     Barnstable   \n...                                   ...         ...            ...   \n125375  Nuneaton, England, United Kingdom  2024-01-14       Hastings   \n125376                        Concord, NH  2024-01-14        Laconia   \n125377                        Altoona, PA  2024-01-14   Pennsylvania   \n125378                       Powhatan, VA  2024-01-14       Abingdon   \n125379                    Minneapolis, MN  2024-01-15    Lake Forest   \n\n        search_country             search_position   job_level job_type  \\\n0        United States           Real-Estate Clerk  Mid senior   Onsite   \n1        United States                   Sous Chef  Mid senior   Onsite   \n2        United States  Special Effects Specialist  Mid senior   Onsite   \n3        United States         Pressure Supervisor  Mid senior   Onsite   \n4        United States                  Nurse Head  Mid senior   Onsite   \n...                ...                         ...         ...      ...   \n125375  United Kingdom                   Scheduler  Mid senior   Onsite   \n125376   United States           Bakery Supervisor  Mid senior   Onsite   \n125377   United States  Group-Sales Representative   Associate   Onsite   \n125378   United States          Manager Employment  Mid senior   Onsite   \n125379   United States           Director Athletic  Mid senior   Onsite   \n\n                                               job_skills  \\\n0       Real Estate, Customer Service, Sales, Negotiat...   \n1       Chef de Cuisine, Executive Sous Chef, Hospital...   \n2       Retail, Grocery, Customer service, Merchandisi...   \n3       Retail Management, Profit and Loss Management,...   \n4       Travel Nursing, Long Term Care, RN (Registered...   \n...                                                   ...   \n125375  Production Planning, ERP (Access), Scheduling,...   \n125376  Sales, Leadership, Hiring, Training, Safety, C...   \n125377  Sales, Insurance, Account Management, Business...   \n125378  Grocery Department Management, Hiring and Trai...   \n125379  Account Management, Commercial Insurance, Micr...   \n\n                                              job_summary       id  \\\n0       Who We Are\\nRand Realty is a family-owned brok...        3   \n1       To Apply for this Job Click Here\\nMidwest Hosp...       20   \n2       CHEESE SPECIALIST\\nWhy you will choose us:\\nAl...       30   \n3       Dollar General Corporation has been delivering...       34   \n4       Core Medical Group is seeking a travel nurse R...       40   \n...                                                   ...      ...   \n125375  About WARP\\nPROPER and Eat Real were born out ...  1296269   \n125376  Assist store manager in areas of sales, appear...  1296275   \n125377  American Fidelity Assurance is now looking for...  1296347   \n125378  Address:\\nUSA-VA-Powhatan-1800 South Creek One...  1296358   \n125379  Responsibilities\\nYour Responsibilities\\nAssoc...  1296375   \n\n        summary_len  \n0              3944  \n1              2789  \n2              3714  \n3              4372  \n4              3163  \n...             ...  \n125375         2614  \n125376         4067  \n125377         3218  \n125378         5770  \n125379         3407  \n\n[125380 rows x 18 columns]",
      "text/html": "<div>\n<style scoped>\n    .dataframe tbody tr th:only-of-type {\n        vertical-align: middle;\n    }\n\n    .dataframe tbody tr th {\n        vertical-align: top;\n    }\n\n    .dataframe thead th {\n        text-align: right;\n    }\n</style>\n<table border=\"1\" class=\"dataframe\">\n  <thead>\n    <tr style=\"text-align: right;\">\n      <th></th>\n      <th>job_link</th>\n      <th>last_processed_time</th>\n      <th>got_summary</th>\n      <th>got_ner</th>\n      <th>is_being_worked</th>\n      <th>job_title</th>\n      <th>company</th>\n      <th>job_location</th>\n      <th>first_seen</th>\n      <th>search_city</th>\n      <th>search_country</th>\n      <th>search_position</th>\n      <th>job_level</th>\n      <th>job_type</th>\n      <th>job_skills</th>\n      <th>job_summary</th>\n      <th>id</th>\n      <th>summary_len</th>\n    </tr>\n  </thead>\n  <tbody>\n    <tr>\n      <th>0</th>\n      <td>https://www.linkedin.com/jobs/view/independent...</td>\n      <td>2024-01-21 07:40:00.308133+00</td>\n      <td>t</td>\n      <td>t</td>\n      <td>f</td>\n      <td>Independent Real Estate Agent</td>\n      <td>Howard Hanna | Rand Realty</td>\n      <td>Englewood Cliffs, NJ</td>\n      <td>2024-01-16</td>\n      <td>Pinehurst</td>\n      <td>United States</td>\n      <td>Real-Estate Clerk</td>\n      <td>Mid senior</td>\n      <td>Onsite</td>\n      <td>Real Estate, Customer Service, Sales, Negotiat...</td>\n      <td>Who We Are\\nRand Realty is a family-owned brok...</td>\n      <td>3</td>\n      <td>3944</td>\n    </tr>\n    <tr>\n      <th>1</th>\n      <td>https://www.linkedin.com/jobs/view/chef-de-cui...</td>\n      <td>2024-01-21 07:12:35.170823+00</td>\n      <td>t</td>\n      <td>t</td>\n      <td>f</td>\n      <td>Chef de Cuisine</td>\n      <td>Goodwin Recruiting</td>\n      <td>Brookfield, WI</td>\n      <td>2024-01-14</td>\n      <td>Milwaukee</td>\n      <td>United States</td>\n      <td>Sous Chef</td>\n      <td>Mid senior</td>\n      <td>Onsite</td>\n      <td>Chef de Cuisine, Executive Sous Chef, Hospital...</td>\n      <td>To Apply for this Job Click Here\\nMidwest Hosp...</td>\n      <td>20</td>\n      <td>2789</td>\n    </tr>\n    <tr>\n      <th>2</th>\n      <td>https://www.linkedin.com/jobs/view/cheese-spec...</td>\n      <td>2024-01-21 06:01:14.692423+00</td>\n      <td>t</td>\n      <td>t</td>\n      <td>f</td>\n      <td>Cheese Specialist</td>\n      <td>Safeway</td>\n      <td>Mount Airy, MD</td>\n      <td>2024-01-14</td>\n      <td>Frederick</td>\n      <td>United States</td>\n      <td>Special Effects Specialist</td>\n      <td>Mid senior</td>\n      <td>Onsite</td>\n      <td>Retail, Grocery, Customer service, Merchandisi...</td>\n      <td>CHEESE SPECIALIST\\nWhy you will choose us:\\nAl...</td>\n      <td>30</td>\n      <td>3714</td>\n    </tr>\n    <tr>\n      <th>3</th>\n      <td>https://www.linkedin.com/jobs/view/retail-dist...</td>\n      <td>2024-01-21 07:12:35.189652+00</td>\n      <td>t</td>\n      <td>t</td>\n      <td>f</td>\n      <td>RETAIL DISTRICT MANAGER UNASSIGNED</td>\n      <td>Dollar General</td>\n      <td>Newport, NH</td>\n      <td>2024-01-14</td>\n      <td>New Hampshire</td>\n      <td>United States</td>\n      <td>Pressure Supervisor</td>\n      <td>Mid senior</td>\n      <td>Onsite</td>\n      <td>Retail Management, Profit and Loss Management,...</td>\n      <td>Dollar General Corporation has been delivering...</td>\n      <td>34</td>\n      <td>4372</td>\n    </tr>\n    <tr>\n      <th>4</th>\n      <td>https://www.linkedin.com/jobs/view/travel-rn-l...</td>\n      <td>2024-01-21 07:12:37.537623+00</td>\n      <td>t</td>\n      <td>t</td>\n      <td>f</td>\n      <td>Travel RN - Long Term Care</td>\n      <td>CoreMedical Group</td>\n      <td>Barnstable, MA</td>\n      <td>2024-01-14</td>\n      <td>Barnstable</td>\n      <td>United States</td>\n      <td>Nurse Head</td>\n      <td>Mid senior</td>\n      <td>Onsite</td>\n      <td>Travel Nursing, Long Term Care, RN (Registered...</td>\n      <td>Core Medical Group is seeking a travel nurse R...</td>\n      <td>40</td>\n      <td>3163</td>\n    </tr>\n    <tr>\n      <th>...</th>\n      <td>...</td>\n      <td>...</td>\n      <td>...</td>\n      <td>...</td>\n      <td>...</td>\n      <td>...</td>\n      <td>...</td>\n      <td>...</td>\n      <td>...</td>\n      <td>...</td>\n      <td>...</td>\n      <td>...</td>\n      <td>...</td>\n      <td>...</td>\n      <td>...</td>\n      <td>...</td>\n      <td>...</td>\n      <td>...</td>\n    </tr>\n    <tr>\n      <th>125375</th>\n      <td>https://uk.linkedin.com/jobs/view/production-p...</td>\n      <td>2024-01-20 04:01:08.913697+00</td>\n      <td>t</td>\n      <td>t</td>\n      <td>f</td>\n      <td>Production Planner</td>\n      <td>Eat Real + PROPER | WARP Snacks</td>\n      <td>Nuneaton, England, United Kingdom</td>\n      <td>2024-01-14</td>\n      <td>Hastings</td>\n      <td>United Kingdom</td>\n      <td>Scheduler</td>\n      <td>Mid senior</td>\n      <td>Onsite</td>\n      <td>Production Planning, ERP (Access), Scheduling,...</td>\n      <td>About WARP\\nPROPER and Eat Real were born out ...</td>\n      <td>1296269</td>\n      <td>2614</td>\n    </tr>\n    <tr>\n      <th>125376</th>\n      <td>https://www.linkedin.com/jobs/view/store-manag...</td>\n      <td>2024-01-20 05:12:47.255315+00</td>\n      <td>t</td>\n      <td>t</td>\n      <td>f</td>\n      <td>Store Manager in Training</td>\n      <td>O'Reilly Auto Parts</td>\n      <td>Concord, NH</td>\n      <td>2024-01-14</td>\n      <td>Laconia</td>\n      <td>United States</td>\n      <td>Bakery Supervisor</td>\n      <td>Mid senior</td>\n      <td>Onsite</td>\n      <td>Sales, Leadership, Hiring, Training, Safety, C...</td>\n      <td>Assist store manager in areas of sales, appear...</td>\n      <td>1296275</td>\n      <td>4067</td>\n    </tr>\n    <tr>\n      <th>125377</th>\n      <td>https://www.linkedin.com/jobs/view/sales-repre...</td>\n      <td>2024-01-20 13:46:06.129745+00</td>\n      <td>t</td>\n      <td>t</td>\n      <td>f</td>\n      <td>Sales Representative</td>\n      <td>American Fidelity Sales Careers</td>\n      <td>Altoona, PA</td>\n      <td>2024-01-14</td>\n      <td>Pennsylvania</td>\n      <td>United States</td>\n      <td>Group-Sales Representative</td>\n      <td>Associate</td>\n      <td>Onsite</td>\n      <td>Sales, Insurance, Account Management, Business...</td>\n      <td>American Fidelity Assurance is now looking for...</td>\n      <td>1296347</td>\n      <td>3218</td>\n    </tr>\n    <tr>\n      <th>125378</th>\n      <td>https://www.linkedin.com/jobs/view/ft-center-s...</td>\n      <td>2024-01-20 13:46:10.289403+00</td>\n      <td>t</td>\n      <td>t</td>\n      <td>f</td>\n      <td>FT Center Store Manager (H)</td>\n      <td>Food Lion</td>\n      <td>Powhatan, VA</td>\n      <td>2024-01-14</td>\n      <td>Abingdon</td>\n      <td>United States</td>\n      <td>Manager Employment</td>\n      <td>Mid senior</td>\n      <td>Onsite</td>\n      <td>Grocery Department Management, Hiring and Trai...</td>\n      <td>Address:\\nUSA-VA-Powhatan-1800 South Creek One...</td>\n      <td>1296358</td>\n      <td>5770</td>\n    </tr>\n    <tr>\n      <th>125379</th>\n      <td>https://www.linkedin.com/jobs/view/associate-a...</td>\n      <td>2024-01-20 15:20:54.32033+00</td>\n      <td>t</td>\n      <td>t</td>\n      <td>f</td>\n      <td>Associate Account Manager</td>\n      <td>Lockton</td>\n      <td>Minneapolis, MN</td>\n      <td>2024-01-15</td>\n      <td>Lake Forest</td>\n      <td>United States</td>\n      <td>Director Athletic</td>\n      <td>Mid senior</td>\n      <td>Onsite</td>\n      <td>Account Management, Commercial Insurance, Micr...</td>\n      <td>Responsibilities\\nYour Responsibilities\\nAssoc...</td>\n      <td>1296375</td>\n      <td>3407</td>\n    </tr>\n  </tbody>\n</table>\n<p>125380 rows × 18 columns</p>\n</div>"
     },
     "execution_count": 3,
     "metadata": {},
     "output_type": "execute_result"
    }
   ],
   "source": [
    "df = pd.read_csv(f\"{path}/data/kaggle_linkedin_jd_skills_dataset/merged_selected_jd.csv\")\n",
    "df"
   ]
  },
  {
   "cell_type": "code",
   "execution_count": 4,
   "id": "978c07777ba51c82",
   "metadata": {
    "collapsed": false,
    "ExecuteTime": {
     "end_time": "2025-03-08T22:56:51.499385Z",
     "start_time": "2025-03-08T22:56:51.448222Z"
    }
   },
   "outputs": [
    {
     "data": {
      "text/plain": "job_link                 0\nlast_processed_time      0\ngot_summary              0\ngot_ner                  0\nis_being_worked          0\njob_title                0\ncompany                  3\njob_location             2\nfirst_seen               0\nsearch_city              0\nsearch_country           0\nsearch_position          0\njob_level                0\njob_type                 0\njob_skills             216\njob_summary              0\nid                       0\nsummary_len              0\ndtype: int64"
     },
     "execution_count": 4,
     "metadata": {},
     "output_type": "execute_result"
    }
   ],
   "source": [
    "df.isna().sum()"
   ]
  },
  {
   "cell_type": "code",
   "execution_count": 5,
   "id": "4448a4e494ddc8bc",
   "metadata": {
    "collapsed": false,
    "ExecuteTime": {
     "end_time": "2025-03-08T22:56:51.548478Z",
     "start_time": "2025-03-08T22:56:51.500065Z"
    }
   },
   "outputs": [],
   "source": [
    "#drop those records with null values in job_skills column\n",
    "df = df.dropna(subset=['job_skills']).copy()"
   ]
  },
  {
   "cell_type": "markdown",
   "id": "124bd18c213f73b1",
   "metadata": {
    "collapsed": false
   },
   "source": [
    "## Examining job summaries"
   ]
  },
  {
   "cell_type": "markdown",
   "id": "d7b45f8166ff3300",
   "metadata": {
    "collapsed": false
   },
   "source": [
    "### All job summaries"
   ]
  },
  {
   "cell_type": "code",
   "execution_count": 6,
   "id": "2d572fd3f2020dd8",
   "metadata": {
    "collapsed": false,
    "ExecuteTime": {
     "end_time": "2025-03-08T22:56:51.554321Z",
     "start_time": "2025-03-08T22:56:51.549403Z"
    }
   },
   "outputs": [
    {
     "name": "stdout",
     "output_type": "stream",
     "text": [
      "Who We Are\n",
      "Rand Realty is a family-owned brokerage born in 1984 when our founder, Marsha opened her new real estate office in a small town in Hudson Valley. Her vision was to build a brokerage strongly devoted to its agents and deeply committed to the community combining expertise and eye for detail with heart, soul and kindness. More than 35 years later, we've grown to more than 1,000 premier local agents with offices throughout Northern New Jersey, Westchester, Connecticut, The Bronx, Rockland, Dutchess, Putnam and Orange counties. Despite our growth or really, by virtue of it and the great people who have joined and represent our brand, the characteristics that defined us then, continue to dictate and delineate who we are.\n",
      "Today, Howard Hanna | Rand Realty is the preeminent real estate brokerage in New York, New Jersey and Connecticut, widely recognized as an industry leader for its agent training, career planning, technological innovation and market expertise. Build your career with the people who have your best interests in mind.\n",
      "Who You Are\n",
      "An Independent Real Estate Agent advises clients on every facet of the real estate sales and purchasing process. Conducting a real estate transaction can be a confusing and complicated process for clients so they depend on Independent Real Estate Agents to offer them expert advice, act as their advocate during negotiations and help them complete one of the most significant purchases and sales of their lives.\n",
      "The candidate should excel in customer service and understand the intricacies of home purchases and sales. Clients know that they have myriad real estate agents from which to choose, and it's up to you to make yourself stand out as unique and essential to meeting their real estate needs. This position is best suited for an individual who is self-motivated and enjoys working independently.\n",
      "In this role, you will...\n",
      "Network with other real estate professionals to market your home listings.\n",
      "Stay updated and informed on the local real estate market to be aware of current home listings and sales.\n",
      "Communicate effectively with all clients on a regular basis and answer their questions.\n",
      "Represent your clients during real estate negotiations and transactions.\n",
      "Show a desire to forge connections, build trust, and manage long-term relationships with individuals.\n",
      "Prepare documents such as representation contracts, purchase agreements, closing statements, deeds and leases.\n",
      "As a company, we will...\n",
      "Coach you through the licensing process for becoming a real estate agent.\n",
      "Provide you with training and support for best practices within our local real estate market.\n",
      "Offer you a flexible schedule so you can have a healthy work/life balance.\n",
      "Additional Details\n",
      "Compensation in the real estate market is related directly to a Real Estate Professional's performance. High-performing, dedicated agents have reasonable potential to make $50000 - $100000 / year or more after establishing a strong client base. You will find that the more time and work you put in, the more potential you will have for higher income.\n",
      "Notice: While a real estate license is not required to apply, you must obtain a real estate license before officially being hired. To earn a real estate license you will need to complete real estate classes (online or in-person) offered by an accredited learning institution and pass a state licensing exam. To learn more about the real estate licensing process, apply now and our recruiting team will provide additional details.\n",
      "Our Equal Opportunity Promise\n",
      "We are dedicated to fair hiring practices and operate as an equal opportunity employer. We do not discriminate on the basis of race, sexual orientation, age, marital status, religion, or nation of origin. We take pride in being exceptional leaders and citizens of our community and we're dedicated to treating all our potential employees with the same level of care and respect.\n",
      "Show more\n",
      "Show less\n"
     ]
    }
   ],
   "source": [
    "print(df.loc[0]['job_summary'])"
   ]
  },
  {
   "cell_type": "code",
   "execution_count": 7,
   "id": "e6738704748197a7",
   "metadata": {
    "collapsed": false,
    "ExecuteTime": {
     "end_time": "2025-03-08T22:56:51.560710Z",
     "start_time": "2025-03-08T22:56:51.556613Z"
    }
   },
   "outputs": [
    {
     "name": "stdout",
     "output_type": "stream",
     "text": [
      "To Apply for this Job Click Here\n",
      "Midwest Hospitality Group seeks a Chef de Cuisine to lead its Culinary Team. The ideal candidate will possess experience as a Chef de Cuisine and/or Executive Sous Chef in Independent Restaurants or Hotel Food & Beverage operations. Are you looking for a new challenge with a stable Company whose Culture is focused on providing the Guest with the highest quality Food and Service and offers growth opportunities? If so, please submit your resume today!\n",
      "Benefits\n",
      "Salary - $80,000 to $90,000\n",
      "Health insurance\n",
      "Life insurance\n",
      "Free Parking\n",
      "Shift Meals\n",
      "PTO immediately\n",
      "Company Discounts\n",
      "Responsibilities\n",
      "Ensure proper team coverage to execute a high level of production while keeping payroll costs in line\n",
      "Oversee ordering, receiving, storage (including temperature-setting) usage, and rotation of food\n",
      "Works with Maintenance in the repair of equipment and preventative maintenance programs\n",
      "Assists with menu development and engineering\n",
      "Leads culinary staff in the proper preparation of menu items and sanitation\n",
      "Spearheads the development and execution of special events, VIP parties, and staff events\n",
      "Facilitates all requested menu tastings for hotel events\n",
      "Maintains procedures for cost controls and product quality\n",
      "Responsible for safety and sanitation practices\n",
      "Requirements\n",
      "Minimum of High school education\n",
      "Apprenticeship, culinary schooling, or equivalent work experience beneficial\n",
      "ServSafe Certification\n",
      "3-5 years of experience in a full-service high-end hotel or resort with high volume in multiple outlets\n",
      "Dedication to the execution of food products, standard recipes, and proper preparation\n",
      "Understanding of food and labor cost controls, and other controllable costs\n",
      "Ability to multi-task and manage many tasks\n",
      "At Goodwin Recruiting we are committed to our core values. We take our value, Dedicated to Diversity & Inclusion, very seriously and will never discriminate against a candidate or client based on any protected classes. Our clients seek qualified candidates, and that is what we deliver. A person's age, gender, race, sexual orientation, gender identity, national origin, veteran or disability status, or arrest or conviction record has no bearing on whether he, she, or they are able to do the job. We evaluate the knowledge, skills, and abilities that meet the requirements of the position and aim to open doors and change lives. We value all people, understanding that uniqueness and diversity foster a stronger team that is innovative and brings varying perspectives to the table. We put our money where our mouth is and are proud of our efforts to identify a broad slate of candidates, with many hiring success stories to share.\n",
      "JOB ID\n",
      ": 126114 #post\n",
      "Rick Duarte\n",
      "To Apply for this Job Click Here\n",
      "$80,000 - $90,000\n",
      "Show more\n",
      "Show less\n"
     ]
    }
   ],
   "source": [
    "print(df.loc[1]['job_summary'])"
   ]
  },
  {
   "cell_type": "markdown",
   "id": "232e4a47b82a1bda",
   "metadata": {
    "collapsed": false
   },
   "source": [
    "We can see from the above sample that few of the job summaries specifically have \"Responsibilities\" in the text. Since it is not possible to evaluate all the ~125k records to see if the job summary includes Responsibilities, we can simply filter the records based on the existence of the string \"Responsibilities\"."
   ]
  },
  {
   "cell_type": "markdown",
   "id": "2b1ba86eb10f6218",
   "metadata": {
    "collapsed": false
   },
   "source": [
    "### Records containing \"Responsibilities\" in job summary"
   ]
  },
  {
   "cell_type": "code",
   "execution_count": 8,
   "id": "8873f1472312d540",
   "metadata": {
    "collapsed": false,
    "ExecuteTime": {
     "end_time": "2025-03-08T22:56:51.782336Z",
     "start_time": "2025-03-08T22:56:51.562624Z"
    }
   },
   "outputs": [
    {
     "data": {
      "text/plain": "                                                 job_link  \\\n1       https://www.linkedin.com/jobs/view/chef-de-cui...   \n7       https://www.linkedin.com/jobs/view/rad-tech-at...   \n8       https://www.linkedin.com/jobs/view/retail-stoc...   \n9       https://www.linkedin.com/jobs/view/grooming-sa...   \n10      https://ca.linkedin.com/jobs/view/senior-produ...   \n...                                                   ...   \n125374  https://www.linkedin.com/jobs/view/quality-aud...   \n125375  https://uk.linkedin.com/jobs/view/production-p...   \n125377  https://www.linkedin.com/jobs/view/sales-repre...   \n125378  https://www.linkedin.com/jobs/view/ft-center-s...   \n125379  https://www.linkedin.com/jobs/view/associate-a...   \n\n                  last_processed_time got_summary got_ner is_being_worked  \\\n1       2024-01-21 07:12:35.170823+00           t       t               f   \n7       2024-01-19 14:39:33.898387+00           t       t               f   \n8       2024-01-21 07:43:49.202444+00           t       t               f   \n9       2024-01-21 07:43:50.084041+00           t       t               f   \n10      2024-01-21 07:43:52.439593+00           t       t               f   \n...                               ...         ...     ...             ...   \n125374  2024-01-20 04:01:06.622679+00           t       t               f   \n125375  2024-01-20 04:01:08.913697+00           t       t               f   \n125377  2024-01-20 13:46:06.129745+00           t       t               f   \n125378  2024-01-20 13:46:10.289403+00           t       t               f   \n125379   2024-01-20 15:20:54.32033+00           t       t               f   \n\n                          job_title                           company  \\\n1                   Chef de Cuisine                Goodwin Recruiting   \n7                          Rad Tech  Virginia Mason Franciscan Health   \n8         Retail Stocking Team Lead           Burlington Stores, Inc.   \n9            Grooming Salon Manager                             Petco   \n10           Senior Product Manager                       Robert Half   \n...                             ...                               ...   \n125374              Quality Auditor                           ANGARAI   \n125375           Production Planner   Eat Real + PROPER | WARP Snacks   \n125377         Sales Representative   American Fidelity Sales Careers   \n125378  FT Center Store Manager (H)                         Food Lion   \n125379    Associate Account Manager                           Lockton   \n\n                             job_location  first_seen   search_city  \\\n1                          Brookfield, WI  2024-01-14     Milwaukee   \n7                             Seattle, WA  2024-01-13        Summit   \n8                            Chandler, AZ  2024-01-16      Chandler   \n9                            Sarasota, FL  2024-01-16      Sarasota   \n10               Calgary, Alberta, Canada  2024-01-14       Calgary   \n...                                   ...         ...           ...   \n125374                     Washington, DC  2024-01-14    Washington   \n125375  Nuneaton, England, United Kingdom  2024-01-14      Hastings   \n125377                        Altoona, PA  2024-01-14  Pennsylvania   \n125378                       Powhatan, VA  2024-01-14      Abingdon   \n125379                    Minneapolis, MN  2024-01-15   Lake Forest   \n\n        search_country             search_position   job_level job_type  \\\n1        United States                   Sous Chef  Mid senior   Onsite   \n7        United States                 Radiologist  Mid senior   Onsite   \n8        United States     Pattern-Shop Supervisor  Mid senior   Onsite   \n9        United States   Quality Assurance Monitor  Mid senior   Onsite   \n10              Canada                        Tier  Mid senior   Onsite   \n...                ...                         ...         ...      ...   \n125374   United States          Standards Engineer  Mid senior   Onsite   \n125375  United Kingdom                   Scheduler  Mid senior   Onsite   \n125377   United States  Group-Sales Representative   Associate   Onsite   \n125378   United States          Manager Employment  Mid senior   Onsite   \n125379   United States           Director Athletic  Mid senior   Onsite   \n\n                                               job_skills  \\\n1       Chef de Cuisine, Executive Sous Chef, Hospital...   \n7       Radiology, Diagnostic imaging, Xray, Fluorosco...   \n8       Retail stocking, Leadership, Problem solving, ...   \n9       Pet Grooming, Salon Management, Leadership, Cu...   \n10      Product Management, P&L Management, Sales Acum...   \n...                                                   ...   \n125374  Project Management, Quality Audits, Quality Co...   \n125375  Production Planning, ERP (Access), Scheduling,...   \n125377  Sales, Insurance, Account Management, Business...   \n125378  Grocery Department Management, Hiring and Trai...   \n125379  Account Management, Commercial Insurance, Micr...   \n\n                                              job_summary       id  \\\n1       To Apply for this Job Click Here\\nMidwest Hosp...       20   \n7       Overview\\nUp to a $10,000 sign on bonus**\\nVir...       79   \n8       LOCATION\\n2630 E Germann Rd Chandler AZ US 852...       85   \n9       Create a healthier, brighter future for pets, ...       92   \n10      Description\\nThe Role\\nJoin our client's dynam...       97   \n...                                                   ...      ...   \n125374  Job Title: Quality Auditor\\nJob Location:\\nWas...  1296268   \n125375  About WARP\\nPROPER and Eat Real were born out ...  1296269   \n125377  American Fidelity Assurance is now looking for...  1296347   \n125378  Address:\\nUSA-VA-Powhatan-1800 South Creek One...  1296358   \n125379  Responsibilities\\nYour Responsibilities\\nAssoc...  1296375   \n\n        summary_len  \n1              2789  \n7              2506  \n8              3009  \n9              5625  \n10             4454  \n...             ...  \n125374         2288  \n125375         2614  \n125377         3218  \n125378         5770  \n125379         3407  \n\n[56057 rows x 18 columns]",
      "text/html": "<div>\n<style scoped>\n    .dataframe tbody tr th:only-of-type {\n        vertical-align: middle;\n    }\n\n    .dataframe tbody tr th {\n        vertical-align: top;\n    }\n\n    .dataframe thead th {\n        text-align: right;\n    }\n</style>\n<table border=\"1\" class=\"dataframe\">\n  <thead>\n    <tr style=\"text-align: right;\">\n      <th></th>\n      <th>job_link</th>\n      <th>last_processed_time</th>\n      <th>got_summary</th>\n      <th>got_ner</th>\n      <th>is_being_worked</th>\n      <th>job_title</th>\n      <th>company</th>\n      <th>job_location</th>\n      <th>first_seen</th>\n      <th>search_city</th>\n      <th>search_country</th>\n      <th>search_position</th>\n      <th>job_level</th>\n      <th>job_type</th>\n      <th>job_skills</th>\n      <th>job_summary</th>\n      <th>id</th>\n      <th>summary_len</th>\n    </tr>\n  </thead>\n  <tbody>\n    <tr>\n      <th>1</th>\n      <td>https://www.linkedin.com/jobs/view/chef-de-cui...</td>\n      <td>2024-01-21 07:12:35.170823+00</td>\n      <td>t</td>\n      <td>t</td>\n      <td>f</td>\n      <td>Chef de Cuisine</td>\n      <td>Goodwin Recruiting</td>\n      <td>Brookfield, WI</td>\n      <td>2024-01-14</td>\n      <td>Milwaukee</td>\n      <td>United States</td>\n      <td>Sous Chef</td>\n      <td>Mid senior</td>\n      <td>Onsite</td>\n      <td>Chef de Cuisine, Executive Sous Chef, Hospital...</td>\n      <td>To Apply for this Job Click Here\\nMidwest Hosp...</td>\n      <td>20</td>\n      <td>2789</td>\n    </tr>\n    <tr>\n      <th>7</th>\n      <td>https://www.linkedin.com/jobs/view/rad-tech-at...</td>\n      <td>2024-01-19 14:39:33.898387+00</td>\n      <td>t</td>\n      <td>t</td>\n      <td>f</td>\n      <td>Rad Tech</td>\n      <td>Virginia Mason Franciscan Health</td>\n      <td>Seattle, WA</td>\n      <td>2024-01-13</td>\n      <td>Summit</td>\n      <td>United States</td>\n      <td>Radiologist</td>\n      <td>Mid senior</td>\n      <td>Onsite</td>\n      <td>Radiology, Diagnostic imaging, Xray, Fluorosco...</td>\n      <td>Overview\\nUp to a $10,000 sign on bonus**\\nVir...</td>\n      <td>79</td>\n      <td>2506</td>\n    </tr>\n    <tr>\n      <th>8</th>\n      <td>https://www.linkedin.com/jobs/view/retail-stoc...</td>\n      <td>2024-01-21 07:43:49.202444+00</td>\n      <td>t</td>\n      <td>t</td>\n      <td>f</td>\n      <td>Retail Stocking Team Lead</td>\n      <td>Burlington Stores, Inc.</td>\n      <td>Chandler, AZ</td>\n      <td>2024-01-16</td>\n      <td>Chandler</td>\n      <td>United States</td>\n      <td>Pattern-Shop Supervisor</td>\n      <td>Mid senior</td>\n      <td>Onsite</td>\n      <td>Retail stocking, Leadership, Problem solving, ...</td>\n      <td>LOCATION\\n2630 E Germann Rd Chandler AZ US 852...</td>\n      <td>85</td>\n      <td>3009</td>\n    </tr>\n    <tr>\n      <th>9</th>\n      <td>https://www.linkedin.com/jobs/view/grooming-sa...</td>\n      <td>2024-01-21 07:43:50.084041+00</td>\n      <td>t</td>\n      <td>t</td>\n      <td>f</td>\n      <td>Grooming Salon Manager</td>\n      <td>Petco</td>\n      <td>Sarasota, FL</td>\n      <td>2024-01-16</td>\n      <td>Sarasota</td>\n      <td>United States</td>\n      <td>Quality Assurance Monitor</td>\n      <td>Mid senior</td>\n      <td>Onsite</td>\n      <td>Pet Grooming, Salon Management, Leadership, Cu...</td>\n      <td>Create a healthier, brighter future for pets, ...</td>\n      <td>92</td>\n      <td>5625</td>\n    </tr>\n    <tr>\n      <th>10</th>\n      <td>https://ca.linkedin.com/jobs/view/senior-produ...</td>\n      <td>2024-01-21 07:43:52.439593+00</td>\n      <td>t</td>\n      <td>t</td>\n      <td>f</td>\n      <td>Senior Product Manager</td>\n      <td>Robert Half</td>\n      <td>Calgary, Alberta, Canada</td>\n      <td>2024-01-14</td>\n      <td>Calgary</td>\n      <td>Canada</td>\n      <td>Tier</td>\n      <td>Mid senior</td>\n      <td>Onsite</td>\n      <td>Product Management, P&amp;L Management, Sales Acum...</td>\n      <td>Description\\nThe Role\\nJoin our client's dynam...</td>\n      <td>97</td>\n      <td>4454</td>\n    </tr>\n    <tr>\n      <th>...</th>\n      <td>...</td>\n      <td>...</td>\n      <td>...</td>\n      <td>...</td>\n      <td>...</td>\n      <td>...</td>\n      <td>...</td>\n      <td>...</td>\n      <td>...</td>\n      <td>...</td>\n      <td>...</td>\n      <td>...</td>\n      <td>...</td>\n      <td>...</td>\n      <td>...</td>\n      <td>...</td>\n      <td>...</td>\n      <td>...</td>\n    </tr>\n    <tr>\n      <th>125374</th>\n      <td>https://www.linkedin.com/jobs/view/quality-aud...</td>\n      <td>2024-01-20 04:01:06.622679+00</td>\n      <td>t</td>\n      <td>t</td>\n      <td>f</td>\n      <td>Quality Auditor</td>\n      <td>ANGARAI</td>\n      <td>Washington, DC</td>\n      <td>2024-01-14</td>\n      <td>Washington</td>\n      <td>United States</td>\n      <td>Standards Engineer</td>\n      <td>Mid senior</td>\n      <td>Onsite</td>\n      <td>Project Management, Quality Audits, Quality Co...</td>\n      <td>Job Title: Quality Auditor\\nJob Location:\\nWas...</td>\n      <td>1296268</td>\n      <td>2288</td>\n    </tr>\n    <tr>\n      <th>125375</th>\n      <td>https://uk.linkedin.com/jobs/view/production-p...</td>\n      <td>2024-01-20 04:01:08.913697+00</td>\n      <td>t</td>\n      <td>t</td>\n      <td>f</td>\n      <td>Production Planner</td>\n      <td>Eat Real + PROPER | WARP Snacks</td>\n      <td>Nuneaton, England, United Kingdom</td>\n      <td>2024-01-14</td>\n      <td>Hastings</td>\n      <td>United Kingdom</td>\n      <td>Scheduler</td>\n      <td>Mid senior</td>\n      <td>Onsite</td>\n      <td>Production Planning, ERP (Access), Scheduling,...</td>\n      <td>About WARP\\nPROPER and Eat Real were born out ...</td>\n      <td>1296269</td>\n      <td>2614</td>\n    </tr>\n    <tr>\n      <th>125377</th>\n      <td>https://www.linkedin.com/jobs/view/sales-repre...</td>\n      <td>2024-01-20 13:46:06.129745+00</td>\n      <td>t</td>\n      <td>t</td>\n      <td>f</td>\n      <td>Sales Representative</td>\n      <td>American Fidelity Sales Careers</td>\n      <td>Altoona, PA</td>\n      <td>2024-01-14</td>\n      <td>Pennsylvania</td>\n      <td>United States</td>\n      <td>Group-Sales Representative</td>\n      <td>Associate</td>\n      <td>Onsite</td>\n      <td>Sales, Insurance, Account Management, Business...</td>\n      <td>American Fidelity Assurance is now looking for...</td>\n      <td>1296347</td>\n      <td>3218</td>\n    </tr>\n    <tr>\n      <th>125378</th>\n      <td>https://www.linkedin.com/jobs/view/ft-center-s...</td>\n      <td>2024-01-20 13:46:10.289403+00</td>\n      <td>t</td>\n      <td>t</td>\n      <td>f</td>\n      <td>FT Center Store Manager (H)</td>\n      <td>Food Lion</td>\n      <td>Powhatan, VA</td>\n      <td>2024-01-14</td>\n      <td>Abingdon</td>\n      <td>United States</td>\n      <td>Manager Employment</td>\n      <td>Mid senior</td>\n      <td>Onsite</td>\n      <td>Grocery Department Management, Hiring and Trai...</td>\n      <td>Address:\\nUSA-VA-Powhatan-1800 South Creek One...</td>\n      <td>1296358</td>\n      <td>5770</td>\n    </tr>\n    <tr>\n      <th>125379</th>\n      <td>https://www.linkedin.com/jobs/view/associate-a...</td>\n      <td>2024-01-20 15:20:54.32033+00</td>\n      <td>t</td>\n      <td>t</td>\n      <td>f</td>\n      <td>Associate Account Manager</td>\n      <td>Lockton</td>\n      <td>Minneapolis, MN</td>\n      <td>2024-01-15</td>\n      <td>Lake Forest</td>\n      <td>United States</td>\n      <td>Director Athletic</td>\n      <td>Mid senior</td>\n      <td>Onsite</td>\n      <td>Account Management, Commercial Insurance, Micr...</td>\n      <td>Responsibilities\\nYour Responsibilities\\nAssoc...</td>\n      <td>1296375</td>\n      <td>3407</td>\n    </tr>\n  </tbody>\n</table>\n<p>56057 rows × 18 columns</p>\n</div>"
     },
     "execution_count": 8,
     "metadata": {},
     "output_type": "execute_result"
    }
   ],
   "source": [
    "resp_df = df[df['job_summary'].str.contains(\"Responsibilities\")]\n",
    "resp_df"
   ]
  },
  {
   "cell_type": "code",
   "execution_count": 9,
   "id": "96b7790fa485d4d7",
   "metadata": {
    "collapsed": false,
    "ExecuteTime": {
     "end_time": "2025-03-08T22:56:51.787313Z",
     "start_time": "2025-03-08T22:56:51.784872Z"
    }
   },
   "outputs": [
    {
     "name": "stdout",
     "output_type": "stream",
     "text": [
      "Record 1:\n",
      "To Apply for this Job Click Here\n",
      "Midwest Hospitality Group seeks a Chef de Cuisine to lead its Culinary Team. The ideal candidate will possess experience as a Chef de Cuisine and/or Executive Sous Chef in Independent Restaurants or Hotel Food & Beverage operations. Are you looking for a new challenge with a stable Company whose Culture is focused on providing the Guest with the highest quality Food and Service and offers growth opportunities? If so, please submit your resume today!\n",
      "Benefits\n",
      "Salary - $80,000 to $90,000\n",
      "Health insurance\n",
      "Life insurance\n",
      "Free Parking\n",
      "Shift Meals\n",
      "PTO immediately\n",
      "Company Discounts\n",
      "Responsibilities\n",
      "Ensure proper team coverage to execute a high level of production while keeping payroll costs in line\n",
      "Oversee ordering, receiving, storage (including temperature-setting) usage, and rotation of food\n",
      "Works with Maintenance in the repair of equipment and preventative maintenance programs\n",
      "Assists with menu development and engineering\n",
      "Leads culinary staff in the proper preparation of menu items and sanitation\n",
      "Spearheads the development and execution of special events, VIP parties, and staff events\n",
      "Facilitates all requested menu tastings for hotel events\n",
      "Maintains procedures for cost controls and product quality\n",
      "Responsible for safety and sanitation practices\n",
      "Requirements\n",
      "Minimum of High school education\n",
      "Apprenticeship, culinary schooling, or equivalent work experience beneficial\n",
      "ServSafe Certification\n",
      "3-5 years of experience in a full-service high-end hotel or resort with high volume in multiple outlets\n",
      "Dedication to the execution of food products, standard recipes, and proper preparation\n",
      "Understanding of food and labor cost controls, and other controllable costs\n",
      "Ability to multi-task and manage many tasks\n",
      "At Goodwin Recruiting we are committed to our core values. We take our value, Dedicated to Diversity & Inclusion, very seriously and will never discriminate against a candidate or client based on any protected classes. Our clients seek qualified candidates, and that is what we deliver. A person's age, gender, race, sexual orientation, gender identity, national origin, veteran or disability status, or arrest or conviction record has no bearing on whether he, she, or they are able to do the job. We evaluate the knowledge, skills, and abilities that meet the requirements of the position and aim to open doors and change lives. We value all people, understanding that uniqueness and diversity foster a stronger team that is innovative and brings varying perspectives to the table. We put our money where our mouth is and are proud of our efforts to identify a broad slate of candidates, with many hiring success stories to share.\n",
      "JOB ID\n",
      ": 126114 #post\n",
      "Rick Duarte\n",
      "To Apply for this Job Click Here\n",
      "$80,000 - $90,000\n",
      "Show more\n",
      "Show less\n",
      "\n",
      "================================================================================\n",
      "\n",
      "Record 2:\n",
      "Overview\n",
      "Up to a $10,000 sign on bonus**\n",
      "Virginia Mason Franciscan Health is a 336 bed non-profit facility providing quality health care to patients and communities in and around Seattle Washington. We are part of CommonSpirit Health which operates 139 hospitals and more than 1,000 care sites across 21 states, making our services accessible to nearly 1 in 4 U.S. residents.\n",
      "Responsibilities\n",
      "As a Radiology Technologist at Virginia Mason, you will help capture usable diagnostic images from patients so the Radiologist can accurately diagnose and/or rule out different conditions.\n",
      "Every day you could perform any variety of imaging examinations such as x-rays, diagnostic fluoroscopy, to name a few. You will also need to enjoy working directly with people as you play a huge role in the patient experience.\n",
      "To be successful in this role, you’ll need to fully understand the importance of diagnostic imaging. This includes knowledge of the general imaging workflow, various patient positioning techniques, and capturing precise results for timely and accurate diagnosis.\n",
      "We deliver inspired people to do meaningful work.\"\n",
      "Qualifications\n",
      "This position requires a Washington State certification for Radiologic Technologist and a certificate from the American Registry of Radiological Technology (ARRT).\n",
      "Graduation from an approved accredited program for diagnostic radiologic or successful completion of alternative training is required.\n",
      "Must complete 24 hours of continuing medical education every two years.\n",
      "Must have a valid CPR license to be renewed every two years.\n",
      "Excellent interpersonal and communication skills; a thorough understanding of anatomy and physiology; strong organizational skills;\n",
      "a willingness to grow with technological changes occurring in the field; the ability to manage stressful situations appropriately;\n",
      "the ability to attend to multiple tasks and work independently; and the ability to be versatile, flexible are needed. Must be able to lift 50 pounds.\n",
      "Just as Virginia Mason is dedicated to improving the lives of our patients and our community, we are equally dedicated to your professional and personal success. With a wide range of perks that includes a comprehensive compensation and benefits package, and the opportunity to live in one of the most livable cities in the nation, you will find that an opportunity with Team Medicine is one worth taking.\n",
      "We are an equal opportunity/affirmative action employer.\n",
      "WAImaging\n",
      "Pay Range\n",
      "$36.89 - $53.49 /hour\n",
      "Show more\n",
      "Show less\n",
      "\n",
      "================================================================================\n",
      "\n",
      "Record 3:\n",
      "LOCATION\n",
      "2630 E Germann Rd Chandler AZ US 85286\n",
      "Overview\n",
      "If you have strong leadership skills, an interest in retail, and you thrive in a fast-paced environment, join Our Burlington Back of House/Receiving team as a\n",
      "Part Time Retail Stocking Team Lead\n",
      "!\n",
      "Retail Stocking Team Leads are a key part of our store’s leadership team. They play an integral role in leading Receiving Associates by becoming an extension of the Retail Stocking Team Supervisor. Our Retail Stocking Team Leads work behind the scenes to support our team members and help bring our merchandise displays to life. If you’re hands-on, lead by example, and have great problem-solving skills, we think you’ll be a great addition to our team!\n",
      "At Burlington, we live by our Core Values:\n",
      "Drive Results\n",
      "Trust & Respect Each Other\n",
      "Build Teams & Partnerships\n",
      "Burlington Benefits:\n",
      "Growth Opportunities\n",
      "Competitive Pay\n",
      "Flexible Hours\n",
      "15-30% Associate Discount\n",
      "Employee Assistance Program\n",
      "Key Responsibilities:\n",
      "Model company appropriate Back of House standards for receiving/stocking team\n",
      "Maintain a neat and orderly stock, receiving area and sales floor\n",
      "Drive associate compliance with company policies and standards\n",
      "Coordinate meal and break periods and monitor schedule adherence\n",
      "Coaching associates in the moment and providing recognition\n",
      "Requirements:\n",
      "Strong interpersonal skills with a positive and engaging attitude\n",
      "Ability to work a flexible schedule including nights, weekends and holidays as required\n",
      "Ability to move/handle/lift store merchandise weighing 40 lbs. or more, as well as the ability to stand and walk for extended periods of time\n",
      "At Burlington we’re opening more stores nationwide to provide you with even more locations to enjoy our amazing prices on the brands and styles you love. As we grow, you can too through a variety of training and development opportunities!\n",
      "Come join our team. You’re going to like it here!\n",
      "You will enjoy a competitive wage, flexible hours, and an associate discount. Part-time associates, based on hours worked, may be eligible for Burlington’s benefits package which includes medical coverage and a 401(k) plan. Part-time associates may also be eligible for up to 4 hours of paid time off annually after one year of service, up to 8 paid holidays, and paid sick time in accordance with applicable law. We are a rapidly growing brand, and provide a variety of training and development opportunities so our associates can grow with us.\n",
      "Our store teams work hard and have fun together! Burlington associates make a difference in the lives of customers, colleagues, and the communities where we live and work every day. Burlington Stores, Inc. is an equal opportunity employer committed to workplace diversity.\n",
      "Location\n",
      "US-AZ-Chandler\n",
      "Posting Number\n",
      "2023-204570\n",
      "Address\n",
      "2630 E Germann Rd\n",
      "Zip Code\n",
      "85286\n",
      "Workplace Type\n",
      "On-Site\n",
      "Position Type\n",
      "Regular Part-Time\n",
      "Career Site Category\n",
      "Store Associate\n",
      "Position Category\n",
      "Store Associate\n",
      "Evergreen\n",
      "Yes\n",
      "Min\n",
      "USD $15.35/Hour\n",
      "Mid\n",
      "USD $16.35/Hour\n",
      "Show more\n",
      "Show less\n",
      "\n",
      "================================================================================\n",
      "\n",
      "Record 4:\n",
      "Create a healthier, brighter future for pets, pet parents and people!\n",
      "If you want to make a real difference, create an exciting career path, feel welcome to be your whole self and nurture your wellbeing, Petco is the place for you.\n",
      "Our core values capture that spirit as we work to improve lives by doing what’s right for pets, people and our planet.\n",
      "We love all pets like our own\n",
      "We’re the future of the pet industry\n",
      "We’re here to improve lives\n",
      "We drive outstanding results together\n",
      "We’re welcome as we are\n",
      "Petco is a category-defining health and wellness company focused on improving the lives of pets, pet parents and Petco partners. We are 29,000 strong, working together across 1,500+ pet care centers, 250+ Vetco Total Care hospitals, hundreds of preventive care clinics, eight distribution centers and two support centers.\n",
      "Job Summary:\n",
      "As a Petco Grooming Salon Leader, you will be responsible for leading and managing the grooming salon operations to provide exceptional grooming services for our beloved pets. Your primary objective will be to ensure a high level of customer satisfaction, promote a positive work environment, and drive salon performance. You will oversee a team of professional groomers and support staff, ensuring they deliver excellent grooming services while maintaining the salon's cleanliness and safety standards. This role requires strong leadership, exceptional customer service skills, and a passion for animals.\n",
      "Your Petco Grooming Career\n",
      "Competitive base pay, plus incentive\n",
      "Medical, dental, vision and more\n",
      "401k and more\n",
      "Paid Time Off\n",
      "Petco Discounts\n",
      "All the supplies & equipment you need, including, clippers, blades, shears, shampoo, sprays, tools, etc.\n",
      "State of the art equipment, including bathing system, kennels, tables, and dryers\n",
      "Career development and growth opportunities, such as a Grooming Mentor and Grooming Instructor\n",
      "Responsibilities\n",
      "Salon Operations Management:\n",
      "Oversee day-to-day operations of the grooming salon, ensuring smooth and efficient workflows.\n",
      "Coordinate grooming appointments, manage scheduling, and optimize grooming capacity.\n",
      "Ensure compliance with company policies, procedures, and safety guidelines.\n",
      "Monitor and manage salon inventory, including grooming supplies\n",
      "Team Leadership and Development:\n",
      "Recruit, hire, train, and supervise a team of groomers and support staff.\n",
      "Provide ongoing coaching, feedback, and performance evaluations to salon team members.\n",
      "Foster a positive and collaborative work environment that encourages teamwork and professional growth.\n",
      "Conduct regular training sessions to enhance grooming skills and stay up to date with industry trends.\n",
      "Customer Service and Relationship Building:\n",
      "Provide exceptional customer service by addressing client inquiries, concerns, and requests.\n",
      "Build and maintain strong relationships with clients, ensuring their satisfaction and loyalty.\n",
      "Proactively resolve any customer issues or complaints related to grooming services.\n",
      "Utilize customer feedback to improve salon operations and enhance the overall customer experience.\n",
      "Quality Assurance and Safety Standards:\n",
      "Ensure grooming services adhere to Petco's quality and safety standards.\n",
      "Perform quality checks to maintain grooming excellence and consistency.\n",
      "Stay updated on industry grooming techniques, trends, and best practices.\n",
      "Maintain cleanliness and organization of the salon, ensuring a safe and comfortable environment for pets and staff.\n",
      "Performance Tracking and Reporting:\n",
      "Monitor salon performance metrics, including revenue, grooming appointments, and customer satisfaction.\n",
      "Analyze data and generate reports to identify areas of improvement and develop action plans.\n",
      "Collaborate with the store management team to meet sales targets and salon objectives.\n",
      "Implement strategies to drive salon growth, increase customer base, and enhance profitability.\n",
      "Requirements\n",
      "Previous experience in pet grooming, salon management, or a related field.\n",
      "Proven leadership skills with the ability to motivate and develop a team.\n",
      "Excellent customer service and interpersonal skills.\n",
      "Strong organizational and time management abilities.\n",
      "Knowledge of grooming techniques, breed standards, and pet care products.\n",
      "Ability to handle and groom pets of all sizes and temperaments.\n",
      "Proficiency in computer systems and salon management software.\n",
      "Flexibility to work evenings, weekends, and holidays as required.\n",
      "If you are passionate about pets, have a strong background in grooming, and possess exceptional leadership skills, we invite you to join our team as a Petco Grooming Salon Leader. Help us create a safe and enjoyable grooming experience for our furry friends and their owners while driving salon success and customer satisfaction.\n",
      "Petco Animal Supplies, Inc. is an Equal Opportunity Employer. All qualified applicants will receive consideration for employment without regard to race, color, religion, sex, sexual orientation, gender identity, national origin, disability, age, protected veteran status, or any other protected classification.\n",
      "To translate this webpage to Spanish or other languages on your internet browser click the translate button to the right of your browser address bar. Additional instruction can be found here: https://support.google.com/chrome/answer/173424?hl=en-GB&co=GENIE.Platform%3DDesktop\n",
      "Para Traducir Esta Página Web Al Español u Otros Idiomas En Su Navegador De Internet, Haga Clic En El Botón De Traducción a La Derecha De La Barra De Direcciones De Su Navegador. Puede Encontrar Instrucciones Adicionales Aquí\n",
      "https://support.google.com/chrome/answer/173424?hl=en-GB&co=GENIE.Platform%3DDesktop\n",
      "Show more\n",
      "Show less\n",
      "\n",
      "================================================================================\n",
      "\n",
      "Record 5:\n",
      "Description\n",
      "The Role\n",
      "Join our client's dynamic Product Management team as a Senior Product Manager in a full-time, permanent role. Take the lead in launching innovative products for oil and gas production and reservoir engineering applications. This pivotal role demands expertise in sub-surface to surface integration technologies, collaboration with tech leaders, roadmap definition, and active participation in user conferences to enhance product adoption and market presence. We are seeking a candidate with strong P& L management skills, exceptional sales acumen, and outstanding communication abilities.\n",
      "Key Responsibilities\n",
      "As a part of the Product Management team, reporting to the Head of Product, you will:\n",
      "Conduct thorough market research to identify emerging trends and customer needs in oil and gas, specifically in production and reservoir engineering.\n",
      "Oversee the product development phase, refining new and existing products.\n",
      "Coordinate with cross-functional teams for rigorous testing and quality assurance, ensuring products meet industry standards and client requirements.\n",
      "Develop a comprehensive go-to-market strategy, including positioning, pricing, and promotional tactics.\n",
      "Collaborate with the marketing team to design effective marketing collateral and sales tools.\n",
      "Manage the entire product lifecycle from ideation to market release, creating and maintaining a product roadmap aligned with market demands and corporate objectives.\n",
      "Demonstrate strong P& L management to drive product profitability and implement competitive pricing strategies.\n",
      "Utilize business development skills to enhance product uptake and cultivate strategic partnerships.\n",
      "Organize and preside over user conferences, fostering engagement with key stakeholders and obtaining feedback.\n",
      "Represent the organization at industry conferences, delivering presentations to showcase expertise and product innovations.\n",
      "What's on offer?\n",
      "Competitive salary\n",
      "Performance-based bonus program\n",
      "Learning and development opportunities\n",
      "RRSP contributions\n",
      "Top-tier medical and dental benefits, including a health spending account\n",
      "20 days of vacation per year plus flex days\n",
      "Quarterly wellness days\n",
      "Choice of transit pass or underground parking\n",
      "On-site gym, car wash, cafeteria, complimentary barista-style coffee, and more\n",
      "Hybrid work model: Minimum four days per week in the office with flexibility for one day per week remote work.\n",
      "Robert Half Ltd is committed to equal opportunity and we value diversity at our company. We do not discriminate on the basis of categories protected under local law.\n",
      "Requirements\n",
      "Your Skills & Experience\n",
      "Strong understanding of upstream oil and gas technologies.\n",
      "Outstanding written and verbal communication skills, with the ability to represent the company at industry events.\n",
      "Effective collaboration with technology leaders to define and execute product roadmaps.\n",
      "Customer-focused mindset, bringing value to our customers.\n",
      "Positive attitude, self-motivated, excellent time management, and communication skills in English.\n",
      "Minimum 5 years of B2B Product Management experience.\n",
      "Experience in launching software products for the Oil and Gas industry.\n",
      "If you are available immediately with the requirements listed above, click the “Apply Now!” link. For assistance with applying, please call Robert Half at (403) 264-5301 quoting job reference number 05000-0012852830.\n",
      "Robert Half would like to take this opportunity to thank all applicants in advance for their expressed interest!\n",
      "The job you want is just an app away. Whether remote or on-site, search for a job you’ll love with the Robert Half app. Download on the App Store or get it on Google Play.\n",
      "Robert Half is the world’s first and largest specialized talent solutions firm that connects highly qualified job seekers to opportunities at great companies. We offer contract, temporary and permanent placement solutions for finance and accounting, technology, marketing and creative, legal, and administrative and customer support roles.\n",
      "Robert Half works to put you in the best position to succeed. We provide access to top jobs, competitive compensation and benefits, and free online training. Stay on top of every opportunity - whenever you choose - even on the go.\n",
      "Questions? Call your local office at 1.888.490.4429. All applicants applying for Canadian job openings must be authorized to work in Canada.\n",
      "© 2024 Robert Half. By clicking “Apply Now,” you’re agreeing to\n",
      "Show more\n",
      "Show less\n",
      "\n",
      "================================================================================\n",
      "\n",
      "Record 6:\n",
      "Overview\n",
      "Our\n",
      "Home Sales Inspector\n",
      "position combines your need for freedom and competitive drive along with your desire to be part of a team. You’ll perform inspections on properties and make strategic recommendations to new and existing customers to help prevent pests and provide peace of mind. You’ll solve problems and build trusted relationships as an essential partner to protect their homes with confidence and care. Join a winning culture in a recession-resistant industry where you can maximize your financial potential with your high-performance sales skills!\n",
      "Responsibilities\n",
      "You will…\n",
      "Set appointments with property owners to inspect interior and exterior for wood destroying pests, including attics and crawl spaces - don't worry we will teach you how!\n",
      "Serve as a problem solver for customers by utilizing the in-depth training provided to decide on the best overall pest solution for each customer's needs.\n",
      "Achieve sales goals through prospecting new business and assigned leads\n",
      "Utilizing marketing tools to drive new business development.\n",
      "Conduct an inspection of the interior and exterior of the client’s commercial property—don’t worry, we teach you how!\n",
      "Make recommendations to clients based on your inspection and issues identified by addressing any questions, explaining the process and setting expectations.\n",
      "Use the iPad we provide to prepare sales agreements and help you stay organized—we will provide training on this too!\n",
      "Qualifications\n",
      "What type of benefits will you receive?\n",
      "Competitive earnings and a company vehicle with gas card\n",
      "Our average Sales Professionals earn $60K+ in their first year with our top performers earning $100K+\n",
      "Company provided iPhone and iPad with sales software\n",
      "Comprehensive benefits package including medical, dental, vision, maternity, & life Insurance\n",
      "401(k) plan with company match, employee stock purchase plan\n",
      "Paid vacation, holidays, and sick leave\n",
      "Employee discounts, tuition reimbursement, dependent scholarship awards\n",
      "Industry leading, quality, comprehensive training program\n",
      "What do you need to be successful?\n",
      "Previous sales experience preferred\n",
      "High School Diploma or equivalent required\n",
      "Valid driver’s license required with a good driving record\n",
      "Ability to pass a drug screen and background check is required\n",
      "Ability to obtain the appropriate pesticide license/certification if required (company paid)\n",
      "Ability to work in the field independently and interact with our great clients\n",
      "Ability to safely use a ladder within the manufacturer's weight capacity\n",
      "Ability to lift and carry up to 50 lbs.\n",
      "Safely access crawl spaces, attics, confined spaces, roof tops, etc. including the ability to climb or balance and stoop, kneel, crouch, or crawl\n",
      "Wear personal protective equipment (PPE) which sometimes requires an OSHA-compliant respirator\n",
      "Willing to work in different types of weather conditions\n",
      "Orkin is an Equal Opportunity/Protected Veterans/Individuals with Disabilities Employer\n",
      "Are you ready to join the Best in Pests? Orkin has been the industry leader for more than 120 years. Apply now!\n",
      "#ORK719IND\n",
      "Show more\n",
      "Show less\n",
      "\n",
      "================================================================================\n",
      "\n",
      "Record 7:\n",
      "Hiring Immediately for a Licensed Mental Health Counselor (LMHC)\n",
      "Needed\n",
      "We are giving a hire-on bonus for the Licensed Mental Health Counselor (LMHC) role\n",
      "We help people live their best life. We provide access to therapies for emotional health and wellness; services for substance use recovery, developmental disabilities, and acquired brain injury; services for housing and residential programming, and more. With respect, integrity, and compassion, we provide each individual served through person-driven programming to foster independence, community engagement, wellness, and recovery.\n",
      "We offer a work-life balance, the space to pursue passion projects, and the chance to get to know patients/participants!\n",
      "Are you a Licensed Mental Health Counselor (LMHC) in another state? No worries we will pay the fees for you to become licensed in the state!\n",
      "Responsibilities:\n",
      "Provide assessment and treatment planning, as well as consultation, as requested, in the development of pre-crisis and crisis plans, behavioral guidelines, risk assessments, positive behavior plans, medication treatment plans, etc.\n",
      "Complete required documentation in a timely manner, meeting regulatory standards.\n",
      "Utilize evidence-based screening tools as indicated by the clinical team.\n",
      "Work collaboratively with teams/ programs to develop and implement positive behavior support plans.\n",
      "Actively participate in all licensing and accreditation processes.\n",
      "Serve as a liaison to relevant service systems, state agencies, and community partners as needed.\n",
      "Create and maintain open and effective lines of communication in an effort to meet contract standards and promote the mission of MHA within the community.\n",
      "Establish and maintain relationships with local, state, federal, and private agencies and organizations to promote programs and to identify and secure potential new alliances, partnerships, and funding sources.\n",
      "Pursue activities to enhance personal and professional growth. Attend conferences, and classes, address groups, and represent the agency. Attend/participate in statewide meetings, task forces, committees, etc. relating to the area of expertise.\n",
      "Promote and integrate agency mission, values, philosophy, and principles.\n",
      "Perform other similar duties as assigned by the Clinic Director.\n",
      "Minimal Requirements:\n",
      "Master’s Degree in the mental health field is required\n",
      "Independent LMHC License\n",
      "Salary:\n",
      "$70,000-100,000\n",
      "Benefits:\n",
      "Monthly Productivity BONUSES\n",
      "Continued professional development\n",
      "Supervision provided with ongoing supervision available\n",
      "Team Environment\n",
      "Flexible Schedule\n",
      "PTO/Sick time\n",
      "403B with a 3% match\n",
      "1st time home buyers grant\n",
      "Health/Dental/Vision\n",
      "Dependent Care Accounts\n",
      "Hire on bonus\n",
      "We provide equal employment opportunities (EEO) to all employees and applicants for employment without regard to race, color, religion, sex, national origin, age, disability, or genetics. In addition to federal law requirements, we comply with applicable state and local laws governing nondiscrimination in employment in every location in which the company has facilities. This policy applies to all terms and conditions of employment, including recruiting, hiring, placement, promotion, termination, layoff, recall, transfer, leaves of absence, compensation and training.\n",
      "Apply now!\n",
      "Show more\n",
      "Show less\n",
      "\n",
      "================================================================================\n",
      "\n",
      "Record 8:\n",
      "Job Description\n",
      "DPR Construction is looking for a Concrete Foreman in the Charlotte, N.C. area.\n",
      "The Foreman, under the direction of the Concrete Superintendent & Project Manager carries out assignments related to concrete placement, finishing, curing and cutting, based on the proper selection of equipment, materials and finishing sequence needed to deliver an acceptable product.\n",
      "Principle Duties And Responsibilities\n",
      "REQUIRED: Experience with shoring, walls, trenching, slab on grade and foundations.\n",
      "Manage and supervise the planning, lay‐out, material storage, maintenance, and inspections of concrete finishing in accordance with all applicable plans, specifications, codes and industry standards.\n",
      "Plan and coordinate the efforts of the foremen and crewmen under his/her supervision and motivate them to accomplish the work safely, correctly and efficiently.\n",
      "Be able to perform all of the principal duties and accountabilities of craft workers under his/her supervision (general laborers/concrete form setters and concrete finishers).\n",
      "Lead and support all safety related processes and programs as requested.\n",
      "Engage with your work team to ensure we achieve zero injuries.\n",
      "Be proficient in scheduling, material control, estimating fundamentals, and job cost management in the Field Process Management System (FPMS).\n",
      "Be able to create and execute a schedule and monitor the craft employee’s work week schedule.\n",
      "Monitor/plan crew goals and proactively make changes necessary to keep crews on track with goals.\n",
      "Review and approve crew's timecards for correct hours and phase coding.\n",
      "Participate in incident investigations and report accidents and act to prevent future occurrences to project management and site safety.\n",
      "Assist in leading the investigation process as needed and review accidents and the causes with employees.\n",
      "Lead, complete, and sign off on daily pre‐job safety planning in the appropriate format. Identify safety hazards you or other employees may be subject to and take all necessary corrective action to eliminate or mitigate hazards.\n",
      "Assure all crew members understand, participate, and sign all pre‐job safety planning tools at start and end of shift.\n",
      "Understand and respond appropriately to all safety hazards and warning devices\n",
      "Follow established safety rules and regulations and maintain a safe and clean work environment.\n",
      "Use effective verbal and written communication skills.\n",
      "Listen to other employees and supervisor's suggestions, complaints, problems, safety concerns and recommendations, evaluate each and then devise and implement a plan of action based on that evaluation.\n",
      "Consult with supervisor and if needed HR on any issues.\n",
      "Plan and communicate with superintendent to assure that an adequate supply of tools, materials and equipment are available.\n",
      "Hands-on performance as needed and not limited to the placement and finish of concrete, to include finishing, curing, and cutting of concrete slabs.\n",
      "Patching and repairing of concrete work, concrete restoration and concrete joint treatments. * Applications of floor toppings.\n",
      "Ensures floor finishes meet project requirements consistent with floor flatness and floor levelness.\n",
      "Proficient in the use of the following tools and has the knowledge to use the equipment at the proper time of the place-finishing sequence: straight edges to establish grade, bull floats, mops and Highway Straight Edges, float blades, combo blades, and finish blades.\n",
      "Hand tools for floor finishing, edging, joint tooling. Single and double trowel machines.\n",
      "Curing, pump and vibratory equipment. Walk-behind trowels and double riders. Maintains up-to-date knowledge of all tools and equipment required. Ensures proper maintenance of place/finish equipment and tools.\n",
      "Work Environment: Outdoor working environment with constant exposure to extreme weather conditions: dirt, dust, fumes, and/or loud noises and high temperatures.\n",
      "Job Requirements\n",
      "Ability to read, understand and complete job related documents and forms via blue prints and use of tablet drawings and specifications.\n",
      "Know the abbreviated and common construction terms for the equipment and materials used\n",
      "Ability to calculate mathematical figures such as proportions, percentages, area, circumference, and volume\n",
      "Ability to work in a team environment\n",
      "Ability to deal with problems involving specific variables in standardized situations\n",
      "Ability to kneel, stoop, crouch, balance, climb, crawl and pull\n",
      "Must have the ability to exert heavy physical effort, handing average weight objects up to 50 pounds\n",
      "Have own transportation\n",
      "Pay based on experience and capabilities.\n",
      "Pay Based On Experience And Capabilities.\n",
      "DPR offers medical/dental/vision/life insurance and Paid Care Leave along with a 401(k) match for employees.\n",
      "DPR has been nationally recognized for its strong company culture, based on a well-defined purpose “We Exist to Build Great Things,” and four core values: integrity, enjoyment, uniqueness and ever forward. A flat, title-less organization that empowers people at all levels to make decisions, DPR ranked on FORTUNE’s “100 Best Companies to Work For” list for five consecutive years. For more information, visit http://www.dpr.com.\n",
      "Show more\n",
      "Show less\n",
      "\n",
      "================================================================================\n",
      "\n",
      "Record 9:\n",
      "Job Details\n",
      "Summary Of Responsibilities\n",
      "The Physical Therapist plans and executes rehabilitation programs to help patients return to a higher level of physical function. They also help manage or lessen the pain experienced by someone stricken with a degenerative condition or terminal disease. The Physical Therapist help patients through a combination of physical activity, reflexology, massage, and muscular and skeletal manipulation.\n",
      "Essential Functions\n",
      "Perform initial and ongoing physical therapy evaluations according to APTA Standards as well as state standards.\n",
      "Develop plan of treatment for each patient based on initial and ongoing evaluations including short- and long-term goals, collaboration demands of other staff members, and required patient and caregiver involvement.\n",
      "Implement treatment plan on a consistent schedule and adjust this schedule and plan according to patient progress.\n",
      "Document patient progress according to approved medical documentation and facility documentation procedures.\n",
      "Evaluate mobility, strength, and current level of patient function, while setting goals to improve in these areas that are scaled to patient abilities and realistically attainable.\n",
      "Report patient progress to patient, patient caregivers, and facility staff and healthcare professionals involved in ongoing treatment of patients.\n",
      "Develop a plan for patients following completion of their treatment plan with appropriate in-home care services.\n",
      "Monitors effectiveness of medication treatment, develop plan of care and provide education for patients and family members.\n",
      "Maintain professional and technical knowledge through attending educational workshops, reviewing professional publications, etc.\n",
      "Assist other facility staff members as needed to provide care and create a clean, orderly, and effective environment for rehabilitation and physical therapy.\n",
      "CORE COMPETENCIES\n",
      "Excellent oral and written communication skills\n",
      "Knowledge of responsible use of equipment, best practices for equipment use and preventative maintenance procedures.\n",
      "Strong sense of empathy and a compassionate outlook on physical therapy and the ability to motivate patients into pushing their limits in a responsible safe way.\n",
      "Experience with a wide range of patient age groups and injuries.\n",
      "High level of attention to detail\n",
      "Ability to prioritize and manage multiple tasks without direct supervision.\n",
      "Basic computer literacy and typing\n",
      "Patient focused\n",
      "Requirements\n",
      "REQUIRED EDUCATION, EXPERIENCE, AND/OR CERTIFICATIONS\n",
      "This position requires at least one year of experience providing physical therapy to patients in a fully equipped PT facility. Also required, a bachelor’s, master’s, or doctoral degree in physical therapy from a physical therapy program approved by the American Physical Therapy Association and a current physical therapy license in Arkansas.\n",
      "WORKING ENVIRONMENT AND PHYSICAL DEMANDS\n",
      "This is a full-time position. Days and hours of work are expected to fluctuate but at a minimum this position will be required to work from 8:00 a.m. to 5:00 p.m. (Monday through Thursday). and occasionally after regular business hours. Regular travel may be required. The position operates in a professional office environment and the incumbent, in the course of performing this position, spends time writing, typing, speaking, listening, driving, seeing (such as close, color and peripheral vision, depth perception and adjusted focus), standing, sitting, walking, and reaching. This positions also may require lifting, carrying, pushing, and/or pulling up to fifty (50) pounds while administering care to patients, etc.; stooping, kneeling, and/or crouching daily in delivery of patient care, obtaining equipment, etc.; standing and walking more than five (5) hours per day in administering patient care in multiple rooms; running, occasionally, in responding to patient care emergencies; and reaching, grasping, handling, and/or feeling five (5) or more hours per day in administering patient care, i.e. operating various radiologic equipment. The incumbent operates all standard office equipment, motor vehicles, and mobile phones. The work environment characteristics and physical demands described here are representative of those an employee encounters while performing the essential functions of this job.\n",
      "#ZR\n",
      "Show more\n",
      "Show less\n",
      "\n",
      "================================================================================\n",
      "\n",
      "Record 10:\n",
      "Senior Registered Manager for a group of semi-independent 16+ OFSTED regulated children's homes (LAC) Sheffield S.Yorkshire\n",
      "We are seeking a highly dedicated and experienced individual to join our team as a Senior Registered Manager for therapeutic semi-independent 16-24 years young persons home catering to Looked After Children (LAC).You will manage upto 3 /4 homes in the Sheffield Area.\n",
      "Our aim is to offer young people the support, protection and learning opportunities they require in preparation of leaving local authority care. We want to provide a platform to develop the social, emotional and practical skills that they will need to make a safe, rewarding and successful transition to adult life.\n",
      "Salary:\n",
      "£43,000-£48,000 per year plus bonus and benefits:\n",
      "Flexitime\n",
      "Work from home Schedule:\n",
      "Monday to Friday\n",
      "Sheffield: Responsibilities of Registered Manager\n",
      "As the Service Manager, you will be responsible for overseeing the overall operation of the home, ensuring the provision of a safe, supportive, and nurturing environment for the young people in our care.\n",
      "Your leadership and management skills will be instrumental in driving the delivery of high-quality care and support services, in accordance with relevant legislation, regulations, and OFSTED standards.\n",
      "Overall Management: Take overall responsibility for the management, operation, and development of the semi-independent children's home.\n",
      "Regulatory Compliance: Ensure compliance with all relevant legislation, regulations, and OFSTED standards, maintaining a good or outstanding rating for the home.\n",
      "Staff Supervision and Development: Provide leadership, supervision, and support to staff members, promoting a positive working environment and fostering continuous professional development.\n",
      "Care Planning and Assessment: Oversee the development and implementation of individual care plans for each resident, ensuring their specific needs, aspirations, and goals are met.\n",
      "Risk Management: Assess and manage risks associated with the young people in the home, implementing effective safeguarding procedures and maintaining a culture of safety.\n",
      "Partnership Working: Develop and maintain effective partnerships with local authorities, external agencies, and stakeholders, ensuring collaborative working to support positive outcomes for the young people.\n",
      "Budgeting and Resource Management: Manage the home's budget effectively, ensuring resources are allocated appropriately to meet the needs of the young people and achieve value for money.\n",
      "Reporting and Documentation: Maintain accurate and up-to-date records, preparing reports and documentation as required by OFSTED and other regulatory bodies.\n",
      "Complaints and Quality Assurance: Handle complaints in a timely and appropriate manner, implementing quality assurance measures to continually improve the service provided.\n",
      "Continuous Improvement: Stay updated with best practices, research, and developments in the field of residential care for LAC, implementing innovative approaches to enhance the quality of care.\n",
      "Qualifications And Experience Of Registered Manager\n",
      "A relevant professional qualification in social work, social care, or a related field (e.g., NVQ Level 5 in Leadership and Management for Care Services, Diploma in Leadership for Health and Social Care and Children and Young People's Services).\n",
      "Extensive experience in working with Looked After Children and young people aged 16+ within a residential care setting, with a thorough understanding of the challenges they face.\n",
      "Proven experience in a managerial or supervisory role within a residential care setting, with a track record of successful staff management and development. (Minimum 1 year)\n",
      "Strong knowledge of relevant legislation, regulations, and OFSTED requirements governing children's residential care services.\n",
      "Excellent communication, interpersonal, and leadership skills, with the ability to engage and build relationships with young people, staff, and external stakeholders.\n",
      "Sound decision-making and problem-solving abilities, with a proactive and solution-focused approach. -\n",
      "Ability to work collaboratively with multi-disciplinary teams and external agencies.\n",
      "A commitment to safeguarding and promoting the welfare of young people, adhering to the highest standards of professional conduct.\n",
      "Note: This job description provides a general outline of the key responsibilities and qualifications required for the role of the It may be subject to further customisation based on the specific needs of the organisation Job Type: Full-time Licence/Certification:\n",
      "DBS (required) For more information for the Registered Managers Role Sheffield contact Mick Hull Fieldview Care Recruitment Solutions\n",
      "Show more\n",
      "Show less\n",
      "\n",
      "================================================================================\n"
     ]
    }
   ],
   "source": [
    "for i in range(10):\n",
    "    print(f\"Record {i+1}:\")\n",
    "    print(resp_df.iloc[i]['job_summary'])\n",
    "    print(\"\\n================================================================================\\n\")"
   ]
  },
  {
   "cell_type": "markdown",
   "id": "f42a2725af29abe0",
   "metadata": {
    "collapsed": false
   },
   "source": [
    "## Statistics for summary length and skill count"
   ]
  },
  {
   "cell_type": "code",
   "execution_count": 10,
   "id": "7d62e4cefc4a8e90",
   "metadata": {
    "collapsed": false,
    "ExecuteTime": {
     "end_time": "2025-03-08T22:56:51.874133Z",
     "start_time": "2025-03-08T22:56:51.787922Z"
    }
   },
   "outputs": [
    {
     "name": "stderr",
     "output_type": "stream",
     "text": [
      "/var/folders/t5/tflj5hjs197_vv37fw2sdhdr0000gn/T/ipykernel_57662/3804758628.py:2: SettingWithCopyWarning: \n",
      "A value is trying to be set on a copy of a slice from a DataFrame.\n",
      "Try using .loc[row_indexer,col_indexer] = value instead\n",
      "\n",
      "See the caveats in the documentation: https://pandas.pydata.org/pandas-docs/stable/user_guide/indexing.html#returning-a-view-versus-a-copy\n",
      "  resp_df.loc[:,'skill_count'] = resp_df['job_skills'].apply(lambda x: len(x.split(\",\"))).copy()\n"
     ]
    }
   ],
   "source": [
    "#Splitting job skills by comma to get skill count\n",
    "resp_df.loc[:,'skill_count'] = resp_df['job_skills'].apply(lambda x: len(x.split(\",\"))).copy()\n"
   ]
  },
  {
   "cell_type": "code",
   "execution_count": 11,
   "id": "572b255f305ea54c",
   "metadata": {
    "collapsed": false,
    "ExecuteTime": {
     "end_time": "2025-03-08T22:56:52.535554Z",
     "start_time": "2025-03-08T22:56:51.875738Z"
    }
   },
   "outputs": [
    {
     "data": {
      "text/plain": "                                               job_title  \\\n0      2024 - Culinary Professionals - Assistant Kitc...   \n1      2024 - Culinary Professionals - Dining Hall Se...   \n2                     AE - Sales Leader (Full-Time) - US   \n3                     AE - Sales Leader (Full-Time) - US   \n4                     AE - Sales Leader (Full-Time) - US   \n...                                                  ...   \n37195                                    Yoga Instructor   \n37196                                    Yoga Instructor   \n37197                                    Yoga Instructor   \n37198                                    Yoga Instructor   \n37199                                    Yoga Instructor   \n\n                                             job_summary  summary_len  \\\n0      Wolfoods operates summer camp kitchens across ...         5863   \n1      Wolfoods operates summer camp kitchens across ...         5593   \n2      BE PART OF SOMETHING\\nREAL\\nYOUR ROLE\\nAs the ...         4932   \n3      BE PART OF SOMETHING\\nREAL\\nYOUR ROLE\\nAs the ...         4942   \n4      BE PART OF SOMETHING\\nREAL\\nYOUR ROLE\\nAs the ...         4944   \n...                                                  ...          ...   \n37195  Position Title:\\nYoga Instructor\\nLocation:\\nV...         2953   \n37196  Yoga Teacher for Vinyasa-Based Heated Yoga & S...         3782   \n37197  Yoga Teacher for Vinyasa-Based Heated Yoga & S...         2030   \n37198  Yoga Teacher for Vinyasa-Based Heated Yoga & S...         2213   \n37199  Yoga Teacher for Vinyasa-Based Heated Yoga & S...         2065   \n\n       skill_count  \n0               69  \n1               69  \n2               20  \n3               35  \n4               27  \n...            ...  \n37195            8  \n37196           15  \n37197           12  \n37198           23  \n37199           22  \n\n[37200 rows x 4 columns]",
      "text/html": "<div>\n<style scoped>\n    .dataframe tbody tr th:only-of-type {\n        vertical-align: middle;\n    }\n\n    .dataframe tbody tr th {\n        vertical-align: top;\n    }\n\n    .dataframe thead th {\n        text-align: right;\n    }\n</style>\n<table border=\"1\" class=\"dataframe\">\n  <thead>\n    <tr style=\"text-align: right;\">\n      <th></th>\n      <th>job_title</th>\n      <th>job_summary</th>\n      <th>summary_len</th>\n      <th>skill_count</th>\n    </tr>\n  </thead>\n  <tbody>\n    <tr>\n      <th>0</th>\n      <td>2024 - Culinary Professionals - Assistant Kitc...</td>\n      <td>Wolfoods operates summer camp kitchens across ...</td>\n      <td>5863</td>\n      <td>69</td>\n    </tr>\n    <tr>\n      <th>1</th>\n      <td>2024 - Culinary Professionals - Dining Hall Se...</td>\n      <td>Wolfoods operates summer camp kitchens across ...</td>\n      <td>5593</td>\n      <td>69</td>\n    </tr>\n    <tr>\n      <th>2</th>\n      <td>AE - Sales Leader (Full-Time) - US</td>\n      <td>BE PART OF SOMETHING\\nREAL\\nYOUR ROLE\\nAs the ...</td>\n      <td>4932</td>\n      <td>20</td>\n    </tr>\n    <tr>\n      <th>3</th>\n      <td>AE - Sales Leader (Full-Time) - US</td>\n      <td>BE PART OF SOMETHING\\nREAL\\nYOUR ROLE\\nAs the ...</td>\n      <td>4942</td>\n      <td>35</td>\n    </tr>\n    <tr>\n      <th>4</th>\n      <td>AE - Sales Leader (Full-Time) - US</td>\n      <td>BE PART OF SOMETHING\\nREAL\\nYOUR ROLE\\nAs the ...</td>\n      <td>4944</td>\n      <td>27</td>\n    </tr>\n    <tr>\n      <th>...</th>\n      <td>...</td>\n      <td>...</td>\n      <td>...</td>\n      <td>...</td>\n    </tr>\n    <tr>\n      <th>37195</th>\n      <td>Yoga Instructor</td>\n      <td>Position Title:\\nYoga Instructor\\nLocation:\\nV...</td>\n      <td>2953</td>\n      <td>8</td>\n    </tr>\n    <tr>\n      <th>37196</th>\n      <td>Yoga Instructor</td>\n      <td>Yoga Teacher for Vinyasa-Based Heated Yoga &amp; S...</td>\n      <td>3782</td>\n      <td>15</td>\n    </tr>\n    <tr>\n      <th>37197</th>\n      <td>Yoga Instructor</td>\n      <td>Yoga Teacher for Vinyasa-Based Heated Yoga &amp; S...</td>\n      <td>2030</td>\n      <td>12</td>\n    </tr>\n    <tr>\n      <th>37198</th>\n      <td>Yoga Instructor</td>\n      <td>Yoga Teacher for Vinyasa-Based Heated Yoga &amp; S...</td>\n      <td>2213</td>\n      <td>23</td>\n    </tr>\n    <tr>\n      <th>37199</th>\n      <td>Yoga Instructor</td>\n      <td>Yoga Teacher for Vinyasa-Based Heated Yoga &amp; S...</td>\n      <td>2065</td>\n      <td>22</td>\n    </tr>\n  </tbody>\n</table>\n<p>37200 rows × 4 columns</p>\n</div>"
     },
     "execution_count": 11,
     "metadata": {},
     "output_type": "execute_result"
    }
   ],
   "source": [
    "#getting max summary_len for each job title using groupby\n",
    "resp_df[['job_title', 'job_summary', 'summary_len', 'skill_count']].groupby(['job_title', 'job_summary']).aggregate({\"summary_len\":\"max\", \"skill_count\":\"max\"}).reset_index()"
   ]
  },
  {
   "cell_type": "code",
   "execution_count": 12,
   "id": "9abb8ccfd40e28c4",
   "metadata": {
    "collapsed": false,
    "ExecuteTime": {
     "end_time": "2025-03-08T22:56:52.541036Z",
     "start_time": "2025-03-08T22:56:52.536343Z"
    }
   },
   "outputs": [
    {
     "name": "stdout",
     "output_type": "stream",
     "text": [
      "Number of unique job titles: 1168\n"
     ]
    }
   ],
   "source": [
    "print(\"Number of unique job titles:\", resp_df['job_title'].nunique())"
   ]
  },
  {
   "cell_type": "markdown",
   "id": "4bf09e821568b004",
   "metadata": {
    "collapsed": false
   },
   "source": [
    "The plan is to obtain 1500 records for generating synthetic resumes. Therefore, it would be better to choose the job_summary that has the most information about the job. So, for each job title, I will select the record with max. summary_len. That makes 1168 records. For the rest of the records, I will select some famous job titles like Data Engineer, Data Scientist, etc., that have the highest number of skill_count"
   ]
  },
  {
   "cell_type": "markdown",
   "id": "a17d6b30b955c211",
   "metadata": {
    "collapsed": false
   },
   "source": [
    "## Final Sampling"
   ]
  },
  {
   "cell_type": "markdown",
   "id": "273590fb128340f3",
   "metadata": {
    "collapsed": false
   },
   "source": [
    "### Select limited job titles"
   ]
  },
  {
   "cell_type": "code",
   "execution_count": 13,
   "id": "71d75bfc0a3cbbeb",
   "metadata": {
    "collapsed": false,
    "ExecuteTime": {
     "end_time": "2025-03-08T22:56:52.544899Z",
     "start_time": "2025-03-08T22:56:52.541630Z"
    }
   },
   "outputs": [
    {
     "name": "stdout",
     "output_type": "stream",
     "text": [
      "104\n"
     ]
    }
   ],
   "source": [
    "selected_titles = ['Data Engineer', 'Senior Data Engineer', 'Lead Data Engineer', 'Data Analyst', 'Senior Data Analyst', 'Business Intelligence Analyst', 'Data Scientist', 'Senior Data Scientist', 'Machine Learning Engineer', 'Senior Machine Learning Engineer', 'Software Engineer', 'Senior Software Engineer', 'Software Developer', 'Senior Software Developer', 'Full Stack Developer', 'Senior Full Stack Developer', 'Senior Fullstack Engineer', 'DevOps Engineer', 'Senior DevOps Engineer', 'System Engineer', 'Senior System Engineer', 'Systems Engineer', 'Senior Systems Engineer', 'Senior Lead Engineer - Generative AI Product Engineering (Remote-Eligible)', 'UX Designer', 'Product Designer', 'Senior Product Designer', 'Quality Engineer', 'Senior Quality Engineer', 'Quality Assurance Engineer', 'Research Scientist', 'Senior Research Scientist', 'Applied Researcher I', 'Applied Researcher II', 'Distinguished Applied Researcher', 'Test Engineer', 'Senior Test Engineer', 'Automation Engineer', 'Cloud Engineer', 'Security Engineer', 'Senior Security Engineer', 'Site Reliability Engineer', 'Senior Site Reliability Engineer', 'AI Engineer', 'ML Engineer', 'Senior MLOps Engineer', 'Computer Vision Engineer', 'Senior Computer Vision Engineer', 'Embedded Software Engineer', 'Senior Embedded Software Engineer', 'Technical Architect', 'Solution Architect', 'Solutions Architect', 'Enterprise Architect', 'Technical Lead, Software Engineering', 'Blockchain Engineer', 'Robotics Engineer', 'Senior Robotics Engineer'] + ['Senior Systems Engineer', 'Senior Quality Engineer', 'Software Engineer', 'Senior Data Engineer', 'Senior Software Developer', 'Business Intelligence Analyst', 'Solutions Architect', 'Senior Data Scientist', 'Senior Data Analyst', 'Data Engineer', 'Senior Test Engineer', 'DevOps Engineer', 'Registered Nurse', 'Nurse Practitioner', 'Physical Therapist', 'Medical Technologist', 'Licensed Mental Health Counselor', 'Physician', 'Clinical Laboratory Scientist', 'Financial Analyst', 'Senior Tax Accountant', 'Project Coordinator', 'Business Development Representative', 'Marketing Coordinator', 'Audit Manager', 'Retail Store Manager', 'Sales Associate', 'Customer Service Representative', 'Restaurant Manager', 'Food Service Supervisor', 'Sales Manager', 'Retail Assistant Store Manager', 'Maintenance Technician', 'Quality Control Inspector', 'Production Planner', 'CNC Machinist', 'Construction Supervisor', 'Welder', 'Electrician', 'Operations Manager', 'Facilities Manager', 'HR Manager', 'Supply Chain Manager', 'Project Manager', 'Environmental Health & Safety Manager', 'Plant Controller']\n",
    "\n",
    "print(len(selected_titles))"
   ]
  },
  {
   "cell_type": "code",
   "execution_count": 14,
   "id": "1fc0b38140ce165f",
   "metadata": {
    "collapsed": false,
    "ExecuteTime": {
     "end_time": "2025-03-08T22:56:52.561002Z",
     "start_time": "2025-03-08T22:56:52.545506Z"
    }
   },
   "outputs": [
    {
     "data": {
      "text/plain": "                                                 job_link  \\\n26      https://www.linkedin.com/jobs/view/physical-th...   \n45      https://www.linkedin.com/jobs/view/project-coo...   \n60      https://www.linkedin.com/jobs/view/sales-manag...   \n63      https://www.linkedin.com/jobs/view/food-servic...   \n76      https://www.linkedin.com/jobs/view/marketing-c...   \n...                                                   ...   \n125304  https://www.linkedin.com/jobs/view/production-...   \n125308  https://www.linkedin.com/jobs/view/plant-contr...   \n125311  https://www.linkedin.com/jobs/view/supply-chai...   \n125340  https://www.linkedin.com/jobs/view/supply-chai...   \n125375  https://uk.linkedin.com/jobs/view/production-p...   \n\n                  last_processed_time got_summary got_ner is_being_worked  \\\n26      2024-01-21 08:08:52.028232+00           t       t               f   \n45      2024-01-21 08:08:28.123873+00           t       t               f   \n60      2024-01-21 07:39:57.333128+00           t       t               f   \n63      2024-01-21 08:08:34.452912+00           t       t               f   \n76      2024-01-21 08:20:46.482342+00           t       t               f   \n...                               ...         ...     ...             ...   \n125304  2024-01-21 07:39:32.812628+00           t       t               f   \n125308  2024-01-21 00:38:29.061053+00           t       t               f   \n125311  2024-01-21 07:11:54.013677+00           t       t               f   \n125340  2024-01-21 08:20:26.354909+00           t       t               f   \n125375  2024-01-20 04:01:08.913697+00           t       t               f   \n\n                      job_title  \\\n26           Physical Therapist   \n45          Project Coordinator   \n60                Sales Manager   \n63      Food Service Supervisor   \n76        Marketing Coordinator   \n...                         ...   \n125304       Production Planner   \n125308         Plant Controller   \n125311     Supply Chain Manager   \n125340     Supply Chain Manager   \n125375       Production Planner   \n\n                                              company  \\\n26                                   Hydro Recruiting   \n45      Facilities Maintenance Management, LLC. (FMM)   \n60                         Crestline Hotels & Resorts   \n63                                 Global Partners LP   \n76                                      Oldcastle APG   \n...                                               ...   \n125304                      Terra Sonic International   \n125308                                          Jobot   \n125311                                    Cypress HCM   \n125340                   Staffing Resource Group, Inc   \n125375                Eat Real + PROPER | WARP Snacks   \n\n                             job_location  first_seen       search_city  \\\n26                          Jonesboro, AR  2024-01-12          Arkansas   \n45                     Denham Springs, LA  2024-01-13         Louisiana   \n60                              Tampa, FL  2024-01-13          Seminole   \n63                         West Haven, CT  2024-01-14             Derby   \n76                         Minnetonka, MN  2024-01-14  South Saint Paul   \n...                                   ...         ...               ...   \n125304                       Marietta, OH  2024-01-16              Ohio   \n125308                       Lawrence, KS  2024-01-16            Kansas   \n125311                         Totowa, NJ  2024-01-16         Montclair   \n125340                      Billerica, MA  2024-01-14           Ipswich   \n125375  Nuneaton, England, United Kingdom  2024-01-14          Hastings   \n\n        search_country               search_position   job_level job_type  \\\n26       United States                 Acupuncturist  Mid senior   Onsite   \n45       United States           Program Coordinator  Mid senior   Onsite   \n60       United States                 Range Manager  Mid senior   Onsite   \n63       United States                       Starter  Mid senior   Onsite   \n76       United States                  Manager Pool   Associate   Onsite   \n...                ...                           ...         ...      ...   \n125304   United States                        Router  Mid senior   Onsite   \n125308   United States            Process Controller  Mid senior   Onsite   \n125311   United States  Manager Procurement Services  Mid senior   Onsite   \n125340   United States               Supervisor Shop  Mid senior   Onsite   \n125375  United Kingdom                     Scheduler  Mid senior   Onsite   \n\n                                               job_skills  \\\n26      Physical Therapy, Rehabilitation, Pain Managem...   \n45      Project Management, Communication, Scheduling,...   \n60      Sales Management, Sales Planning, Sales Execut...   \n63      Customer service, Food service, Inventory mana...   \n76      Brand Communications, Content Development, Con...   \n...                                                   ...   \n125304  Production Planning, Work Order Management, Ma...   \n125308  Plant Controller, Cost accounting, Medical Dev...   \n125311  Supply Chain Management, Planning, Execution, ...   \n125340  Supply Chain Management, Logistics, SAP MM, In...   \n125375  Production Planning, ERP (Access), Scheduling,...   \n\n                                              job_summary       id  \\\n26      Job Details\\nSummary Of Responsibilities\\nThe ...      190   \n45      FMM is seeking a motivated professional to ful...      400   \n60      The Residence Inn Tampa at USF/Medical Center ...      543   \n63      Job Description\\nAlltown Fresh is a newly laun...      600   \n76      Oldcastle APG, a CRH Company, is the leading p...      724   \n...                                                   ...      ...   \n125304  The Production Planner position supports the o...  1295510   \n125308  Want to learn more about this role and Jobot? ...  1295567   \n125311  Supply Chain Manager\\nThis exciting role will ...  1295612   \n125340  Job Description\\nSupply Chain Manager\\nLocatio...  1295865   \n125375  About WARP\\nPROPER and Eat Real were born out ...  1296269   \n\n        summary_len  skill_count  \n26             4322           60  \n45             2370           19  \n60             4137           24  \n63             4910           24  \n76             4517           27  \n...             ...          ...  \n125304         2649           39  \n125308         3603           13  \n125311         2633           29  \n125340         2746           18  \n125375         2614           14  \n\n[3887 rows x 19 columns]",
      "text/html": "<div>\n<style scoped>\n    .dataframe tbody tr th:only-of-type {\n        vertical-align: middle;\n    }\n\n    .dataframe tbody tr th {\n        vertical-align: top;\n    }\n\n    .dataframe thead th {\n        text-align: right;\n    }\n</style>\n<table border=\"1\" class=\"dataframe\">\n  <thead>\n    <tr style=\"text-align: right;\">\n      <th></th>\n      <th>job_link</th>\n      <th>last_processed_time</th>\n      <th>got_summary</th>\n      <th>got_ner</th>\n      <th>is_being_worked</th>\n      <th>job_title</th>\n      <th>company</th>\n      <th>job_location</th>\n      <th>first_seen</th>\n      <th>search_city</th>\n      <th>search_country</th>\n      <th>search_position</th>\n      <th>job_level</th>\n      <th>job_type</th>\n      <th>job_skills</th>\n      <th>job_summary</th>\n      <th>id</th>\n      <th>summary_len</th>\n      <th>skill_count</th>\n    </tr>\n  </thead>\n  <tbody>\n    <tr>\n      <th>26</th>\n      <td>https://www.linkedin.com/jobs/view/physical-th...</td>\n      <td>2024-01-21 08:08:52.028232+00</td>\n      <td>t</td>\n      <td>t</td>\n      <td>f</td>\n      <td>Physical Therapist</td>\n      <td>Hydro Recruiting</td>\n      <td>Jonesboro, AR</td>\n      <td>2024-01-12</td>\n      <td>Arkansas</td>\n      <td>United States</td>\n      <td>Acupuncturist</td>\n      <td>Mid senior</td>\n      <td>Onsite</td>\n      <td>Physical Therapy, Rehabilitation, Pain Managem...</td>\n      <td>Job Details\\nSummary Of Responsibilities\\nThe ...</td>\n      <td>190</td>\n      <td>4322</td>\n      <td>60</td>\n    </tr>\n    <tr>\n      <th>45</th>\n      <td>https://www.linkedin.com/jobs/view/project-coo...</td>\n      <td>2024-01-21 08:08:28.123873+00</td>\n      <td>t</td>\n      <td>t</td>\n      <td>f</td>\n      <td>Project Coordinator</td>\n      <td>Facilities Maintenance Management, LLC. (FMM)</td>\n      <td>Denham Springs, LA</td>\n      <td>2024-01-13</td>\n      <td>Louisiana</td>\n      <td>United States</td>\n      <td>Program Coordinator</td>\n      <td>Mid senior</td>\n      <td>Onsite</td>\n      <td>Project Management, Communication, Scheduling,...</td>\n      <td>FMM is seeking a motivated professional to ful...</td>\n      <td>400</td>\n      <td>2370</td>\n      <td>19</td>\n    </tr>\n    <tr>\n      <th>60</th>\n      <td>https://www.linkedin.com/jobs/view/sales-manag...</td>\n      <td>2024-01-21 07:39:57.333128+00</td>\n      <td>t</td>\n      <td>t</td>\n      <td>f</td>\n      <td>Sales Manager</td>\n      <td>Crestline Hotels &amp; Resorts</td>\n      <td>Tampa, FL</td>\n      <td>2024-01-13</td>\n      <td>Seminole</td>\n      <td>United States</td>\n      <td>Range Manager</td>\n      <td>Mid senior</td>\n      <td>Onsite</td>\n      <td>Sales Management, Sales Planning, Sales Execut...</td>\n      <td>The Residence Inn Tampa at USF/Medical Center ...</td>\n      <td>543</td>\n      <td>4137</td>\n      <td>24</td>\n    </tr>\n    <tr>\n      <th>63</th>\n      <td>https://www.linkedin.com/jobs/view/food-servic...</td>\n      <td>2024-01-21 08:08:34.452912+00</td>\n      <td>t</td>\n      <td>t</td>\n      <td>f</td>\n      <td>Food Service Supervisor</td>\n      <td>Global Partners LP</td>\n      <td>West Haven, CT</td>\n      <td>2024-01-14</td>\n      <td>Derby</td>\n      <td>United States</td>\n      <td>Starter</td>\n      <td>Mid senior</td>\n      <td>Onsite</td>\n      <td>Customer service, Food service, Inventory mana...</td>\n      <td>Job Description\\nAlltown Fresh is a newly laun...</td>\n      <td>600</td>\n      <td>4910</td>\n      <td>24</td>\n    </tr>\n    <tr>\n      <th>76</th>\n      <td>https://www.linkedin.com/jobs/view/marketing-c...</td>\n      <td>2024-01-21 08:20:46.482342+00</td>\n      <td>t</td>\n      <td>t</td>\n      <td>f</td>\n      <td>Marketing Coordinator</td>\n      <td>Oldcastle APG</td>\n      <td>Minnetonka, MN</td>\n      <td>2024-01-14</td>\n      <td>South Saint Paul</td>\n      <td>United States</td>\n      <td>Manager Pool</td>\n      <td>Associate</td>\n      <td>Onsite</td>\n      <td>Brand Communications, Content Development, Con...</td>\n      <td>Oldcastle APG, a CRH Company, is the leading p...</td>\n      <td>724</td>\n      <td>4517</td>\n      <td>27</td>\n    </tr>\n    <tr>\n      <th>...</th>\n      <td>...</td>\n      <td>...</td>\n      <td>...</td>\n      <td>...</td>\n      <td>...</td>\n      <td>...</td>\n      <td>...</td>\n      <td>...</td>\n      <td>...</td>\n      <td>...</td>\n      <td>...</td>\n      <td>...</td>\n      <td>...</td>\n      <td>...</td>\n      <td>...</td>\n      <td>...</td>\n      <td>...</td>\n      <td>...</td>\n      <td>...</td>\n    </tr>\n    <tr>\n      <th>125304</th>\n      <td>https://www.linkedin.com/jobs/view/production-...</td>\n      <td>2024-01-21 07:39:32.812628+00</td>\n      <td>t</td>\n      <td>t</td>\n      <td>f</td>\n      <td>Production Planner</td>\n      <td>Terra Sonic International</td>\n      <td>Marietta, OH</td>\n      <td>2024-01-16</td>\n      <td>Ohio</td>\n      <td>United States</td>\n      <td>Router</td>\n      <td>Mid senior</td>\n      <td>Onsite</td>\n      <td>Production Planning, Work Order Management, Ma...</td>\n      <td>The Production Planner position supports the o...</td>\n      <td>1295510</td>\n      <td>2649</td>\n      <td>39</td>\n    </tr>\n    <tr>\n      <th>125308</th>\n      <td>https://www.linkedin.com/jobs/view/plant-contr...</td>\n      <td>2024-01-21 00:38:29.061053+00</td>\n      <td>t</td>\n      <td>t</td>\n      <td>f</td>\n      <td>Plant Controller</td>\n      <td>Jobot</td>\n      <td>Lawrence, KS</td>\n      <td>2024-01-16</td>\n      <td>Kansas</td>\n      <td>United States</td>\n      <td>Process Controller</td>\n      <td>Mid senior</td>\n      <td>Onsite</td>\n      <td>Plant Controller, Cost accounting, Medical Dev...</td>\n      <td>Want to learn more about this role and Jobot? ...</td>\n      <td>1295567</td>\n      <td>3603</td>\n      <td>13</td>\n    </tr>\n    <tr>\n      <th>125311</th>\n      <td>https://www.linkedin.com/jobs/view/supply-chai...</td>\n      <td>2024-01-21 07:11:54.013677+00</td>\n      <td>t</td>\n      <td>t</td>\n      <td>f</td>\n      <td>Supply Chain Manager</td>\n      <td>Cypress HCM</td>\n      <td>Totowa, NJ</td>\n      <td>2024-01-16</td>\n      <td>Montclair</td>\n      <td>United States</td>\n      <td>Manager Procurement Services</td>\n      <td>Mid senior</td>\n      <td>Onsite</td>\n      <td>Supply Chain Management, Planning, Execution, ...</td>\n      <td>Supply Chain Manager\\nThis exciting role will ...</td>\n      <td>1295612</td>\n      <td>2633</td>\n      <td>29</td>\n    </tr>\n    <tr>\n      <th>125340</th>\n      <td>https://www.linkedin.com/jobs/view/supply-chai...</td>\n      <td>2024-01-21 08:20:26.354909+00</td>\n      <td>t</td>\n      <td>t</td>\n      <td>f</td>\n      <td>Supply Chain Manager</td>\n      <td>Staffing Resource Group, Inc</td>\n      <td>Billerica, MA</td>\n      <td>2024-01-14</td>\n      <td>Ipswich</td>\n      <td>United States</td>\n      <td>Supervisor Shop</td>\n      <td>Mid senior</td>\n      <td>Onsite</td>\n      <td>Supply Chain Management, Logistics, SAP MM, In...</td>\n      <td>Job Description\\nSupply Chain Manager\\nLocatio...</td>\n      <td>1295865</td>\n      <td>2746</td>\n      <td>18</td>\n    </tr>\n    <tr>\n      <th>125375</th>\n      <td>https://uk.linkedin.com/jobs/view/production-p...</td>\n      <td>2024-01-20 04:01:08.913697+00</td>\n      <td>t</td>\n      <td>t</td>\n      <td>f</td>\n      <td>Production Planner</td>\n      <td>Eat Real + PROPER | WARP Snacks</td>\n      <td>Nuneaton, England, United Kingdom</td>\n      <td>2024-01-14</td>\n      <td>Hastings</td>\n      <td>United Kingdom</td>\n      <td>Scheduler</td>\n      <td>Mid senior</td>\n      <td>Onsite</td>\n      <td>Production Planning, ERP (Access), Scheduling,...</td>\n      <td>About WARP\\nPROPER and Eat Real were born out ...</td>\n      <td>1296269</td>\n      <td>2614</td>\n      <td>14</td>\n    </tr>\n  </tbody>\n</table>\n<p>3887 rows × 19 columns</p>\n</div>"
     },
     "execution_count": 14,
     "metadata": {},
     "output_type": "execute_result"
    }
   ],
   "source": [
    "selected_jd = resp_df[resp_df['job_title'].isin(selected_titles)]\n",
    "selected_jd"
   ]
  },
  {
   "cell_type": "code",
   "execution_count": 15,
   "id": "db54e7c3463cd96e",
   "metadata": {
    "collapsed": false,
    "ExecuteTime": {
     "end_time": "2025-03-08T22:56:52.574978Z",
     "start_time": "2025-03-08T22:56:52.561679Z"
    }
   },
   "outputs": [
    {
     "data": {
      "text/plain": "                                               job_link  \\\n0     https://www.linkedin.com/jobs/view/applied-res...   \n1     https://www.linkedin.com/jobs/view/applied-res...   \n2     https://uk.linkedin.com/jobs/view/audit-manage...   \n3     https://uk.linkedin.com/jobs/view/audit-manage...   \n4     https://uk.linkedin.com/jobs/view/audit-manage...   \n...                                                 ...   \n2248  https://www.linkedin.com/jobs/view/welder-at-n...   \n2249  https://www.linkedin.com/jobs/view/welder-at-p...   \n2250  https://www.linkedin.com/jobs/view/welder-at-s...   \n2251  https://www.linkedin.com/jobs/view/welder-at-t...   \n2252  https://www.linkedin.com/jobs/view/welder-at-w...   \n\n                last_processed_time got_summary got_ner is_being_worked  \\\n0     2024-01-20 14:49:25.961976+00           t       t               f   \n1     2024-01-21 08:39:43.241279+00           t       t               f   \n2     2024-01-19 22:14:32.073908+00           t       t               f   \n3     2024-01-19 09:45:09.215838+00           t       t               f   \n4     2024-01-19 09:45:09.215838+00           t       t               f   \n...                             ...         ...     ...             ...   \n2248  2024-01-19 09:45:09.215838+00           t       t               f   \n2249  2024-01-19 09:45:09.215838+00           t       t               f   \n2250  2024-01-19 16:32:53.648536+00           t       t               f   \n2251  2024-01-19 09:45:09.215838+00           t       t               f   \n2252  2024-01-19 09:45:09.215838+00           t       t               f   \n\n                  job_title                              company  \\\n0      Applied Researcher I                    Jobs for Humanity   \n1     Applied Researcher II                    Jobs for Humanity   \n2             Audit Manager                                  8-i   \n3             Audit Manager                         ACCA Careers   \n4             Audit Manager                              AESC UK   \n...                     ...                                  ...   \n2248                 Welder              NorthPoint Search Group   \n2249                 Welder  Phoenix Fabricators & Erectors, LLC   \n2250                 Welder                 Satellite Industries   \n2251                 Welder         Textron Specialized Vehicles   \n2252                 Welder                 Waltonen Engineering   \n\n                             job_location  first_seen      search_city  \\\n0                             Concord, NH  2024-01-15       Manchester   \n1                        Poughkeepsie, NY  2024-01-15      New Windsor   \n2     Canterbury, England, United Kingdom  2024-01-14  Southend-on-Sea   \n3      Stevenage, England, United Kingdom  2024-01-13            Luton   \n4     Sunderland, England, United Kingdom  2024-01-12         Tyneside   \n...                                   ...         ...              ...   \n2248                            Byron, GA  2024-01-13            Macon   \n2249                             Avon, IN  2024-01-13       Plainfield   \n2250                        Dahlonega, GA  2024-01-14        Dahlonega   \n2251                     Cartersville, GA  2024-01-13          Georgia   \n2252                             Troy, MI  2024-01-13         Oak Park   \n\n      search_country               search_position   job_level job_type  \\\n0      United States             Director Research  Mid senior   Onsite   \n1      United States             Director Research  Mid senior   Onsite   \n2     United Kingdom                       Auditor  Mid senior   Onsite   \n3     United Kingdom                Director Stage  Mid senior   Onsite   \n4     United Kingdom                       Auditor  Mid senior   Onsite   \n...              ...                           ...         ...      ...   \n2248   United States  Electromechanical Technician  Mid senior   Onsite   \n2249   United States  Electromechanical Technician   Associate   Onsite   \n2250   United States  Electromechanical Technician  Mid senior   Onsite   \n2251   United States                     Locksmith   Associate   Onsite   \n2252   United States  Electromechanical Technician  Mid senior   Onsite   \n\n                                             job_skills  \\\n0     Pytorch, AWS Ultraclusters, Huggingface, Light...   \n1     Pytorch, AWS Ultraclusters, Huggingface, Light...   \n2     Audit, Auditing, Audit Manager, Audit Supervis...   \n3     Audit, Financial statements, FRS102, IFRS, Acc...   \n4     Internal Controls Knowledge, SarbanesOxley Act...   \n...                                                 ...   \n2248  Welding, MIG welding, TIG welding, Arc welding...   \n2249  Welding, Blueprint Reading, Oxy/Acetylene Torc...   \n2250  Welding, Aluminum welding, Stainless steel wel...   \n2251  Welding, Manufacturing, Blueprints, Quality co...   \n2252  Welding, Fabrication, Equipment maintenance, P...   \n\n                                            job_summary      id  summary_len  \\\n0     Company Description\\nJobs for Humanity is part...  909267         6345   \n1     Company Description\\nJobs for Humanity is part...  868355         6316   \n2     Don't miss this wonderful opportunity to join ...  804004         3142   \n3     Menzies LLP\\nWe are looking for an experienced...  339382         6142   \n4     Mission & Main Objectives:\\nThis Internal Audi...  528639         2443   \n...                                                 ...     ...          ...   \n2248  Job Title: Welder\\nLocation: Byron, Georgia\\nA...  611461         2687   \n2249  Phoenix Fabricators and Erectors, LLC (“Phoeni...  612713         2192   \n2250  Position Summary:\\nThe Welder will weld alumin...  749643         2646   \n2251  About Textron GSE\\nThe Textron GSE family of b...  641973         2687   \n2252  Waltonen is actively seeking a Welder to join ...  612626         2120   \n\n      skill_count  \n0              29  \n1              33  \n2              27  \n3              25  \n4              25  \n...           ...  \n2248           19  \n2249           17  \n2250           62  \n2251           18  \n2252           18  \n\n[2253 rows x 19 columns]",
      "text/html": "<div>\n<style scoped>\n    .dataframe tbody tr th:only-of-type {\n        vertical-align: middle;\n    }\n\n    .dataframe tbody tr th {\n        vertical-align: top;\n    }\n\n    .dataframe thead th {\n        text-align: right;\n    }\n</style>\n<table border=\"1\" class=\"dataframe\">\n  <thead>\n    <tr style=\"text-align: right;\">\n      <th></th>\n      <th>job_link</th>\n      <th>last_processed_time</th>\n      <th>got_summary</th>\n      <th>got_ner</th>\n      <th>is_being_worked</th>\n      <th>job_title</th>\n      <th>company</th>\n      <th>job_location</th>\n      <th>first_seen</th>\n      <th>search_city</th>\n      <th>search_country</th>\n      <th>search_position</th>\n      <th>job_level</th>\n      <th>job_type</th>\n      <th>job_skills</th>\n      <th>job_summary</th>\n      <th>id</th>\n      <th>summary_len</th>\n      <th>skill_count</th>\n    </tr>\n  </thead>\n  <tbody>\n    <tr>\n      <th>0</th>\n      <td>https://www.linkedin.com/jobs/view/applied-res...</td>\n      <td>2024-01-20 14:49:25.961976+00</td>\n      <td>t</td>\n      <td>t</td>\n      <td>f</td>\n      <td>Applied Researcher I</td>\n      <td>Jobs for Humanity</td>\n      <td>Concord, NH</td>\n      <td>2024-01-15</td>\n      <td>Manchester</td>\n      <td>United States</td>\n      <td>Director Research</td>\n      <td>Mid senior</td>\n      <td>Onsite</td>\n      <td>Pytorch, AWS Ultraclusters, Huggingface, Light...</td>\n      <td>Company Description\\nJobs for Humanity is part...</td>\n      <td>909267</td>\n      <td>6345</td>\n      <td>29</td>\n    </tr>\n    <tr>\n      <th>1</th>\n      <td>https://www.linkedin.com/jobs/view/applied-res...</td>\n      <td>2024-01-21 08:39:43.241279+00</td>\n      <td>t</td>\n      <td>t</td>\n      <td>f</td>\n      <td>Applied Researcher II</td>\n      <td>Jobs for Humanity</td>\n      <td>Poughkeepsie, NY</td>\n      <td>2024-01-15</td>\n      <td>New Windsor</td>\n      <td>United States</td>\n      <td>Director Research</td>\n      <td>Mid senior</td>\n      <td>Onsite</td>\n      <td>Pytorch, AWS Ultraclusters, Huggingface, Light...</td>\n      <td>Company Description\\nJobs for Humanity is part...</td>\n      <td>868355</td>\n      <td>6316</td>\n      <td>33</td>\n    </tr>\n    <tr>\n      <th>2</th>\n      <td>https://uk.linkedin.com/jobs/view/audit-manage...</td>\n      <td>2024-01-19 22:14:32.073908+00</td>\n      <td>t</td>\n      <td>t</td>\n      <td>f</td>\n      <td>Audit Manager</td>\n      <td>8-i</td>\n      <td>Canterbury, England, United Kingdom</td>\n      <td>2024-01-14</td>\n      <td>Southend-on-Sea</td>\n      <td>United Kingdom</td>\n      <td>Auditor</td>\n      <td>Mid senior</td>\n      <td>Onsite</td>\n      <td>Audit, Auditing, Audit Manager, Audit Supervis...</td>\n      <td>Don't miss this wonderful opportunity to join ...</td>\n      <td>804004</td>\n      <td>3142</td>\n      <td>27</td>\n    </tr>\n    <tr>\n      <th>3</th>\n      <td>https://uk.linkedin.com/jobs/view/audit-manage...</td>\n      <td>2024-01-19 09:45:09.215838+00</td>\n      <td>t</td>\n      <td>t</td>\n      <td>f</td>\n      <td>Audit Manager</td>\n      <td>ACCA Careers</td>\n      <td>Stevenage, England, United Kingdom</td>\n      <td>2024-01-13</td>\n      <td>Luton</td>\n      <td>United Kingdom</td>\n      <td>Director Stage</td>\n      <td>Mid senior</td>\n      <td>Onsite</td>\n      <td>Audit, Financial statements, FRS102, IFRS, Acc...</td>\n      <td>Menzies LLP\\nWe are looking for an experienced...</td>\n      <td>339382</td>\n      <td>6142</td>\n      <td>25</td>\n    </tr>\n    <tr>\n      <th>4</th>\n      <td>https://uk.linkedin.com/jobs/view/audit-manage...</td>\n      <td>2024-01-19 09:45:09.215838+00</td>\n      <td>t</td>\n      <td>t</td>\n      <td>f</td>\n      <td>Audit Manager</td>\n      <td>AESC UK</td>\n      <td>Sunderland, England, United Kingdom</td>\n      <td>2024-01-12</td>\n      <td>Tyneside</td>\n      <td>United Kingdom</td>\n      <td>Auditor</td>\n      <td>Mid senior</td>\n      <td>Onsite</td>\n      <td>Internal Controls Knowledge, SarbanesOxley Act...</td>\n      <td>Mission &amp; Main Objectives:\\nThis Internal Audi...</td>\n      <td>528639</td>\n      <td>2443</td>\n      <td>25</td>\n    </tr>\n    <tr>\n      <th>...</th>\n      <td>...</td>\n      <td>...</td>\n      <td>...</td>\n      <td>...</td>\n      <td>...</td>\n      <td>...</td>\n      <td>...</td>\n      <td>...</td>\n      <td>...</td>\n      <td>...</td>\n      <td>...</td>\n      <td>...</td>\n      <td>...</td>\n      <td>...</td>\n      <td>...</td>\n      <td>...</td>\n      <td>...</td>\n      <td>...</td>\n      <td>...</td>\n    </tr>\n    <tr>\n      <th>2248</th>\n      <td>https://www.linkedin.com/jobs/view/welder-at-n...</td>\n      <td>2024-01-19 09:45:09.215838+00</td>\n      <td>t</td>\n      <td>t</td>\n      <td>f</td>\n      <td>Welder</td>\n      <td>NorthPoint Search Group</td>\n      <td>Byron, GA</td>\n      <td>2024-01-13</td>\n      <td>Macon</td>\n      <td>United States</td>\n      <td>Electromechanical Technician</td>\n      <td>Mid senior</td>\n      <td>Onsite</td>\n      <td>Welding, MIG welding, TIG welding, Arc welding...</td>\n      <td>Job Title: Welder\\nLocation: Byron, Georgia\\nA...</td>\n      <td>611461</td>\n      <td>2687</td>\n      <td>19</td>\n    </tr>\n    <tr>\n      <th>2249</th>\n      <td>https://www.linkedin.com/jobs/view/welder-at-p...</td>\n      <td>2024-01-19 09:45:09.215838+00</td>\n      <td>t</td>\n      <td>t</td>\n      <td>f</td>\n      <td>Welder</td>\n      <td>Phoenix Fabricators &amp; Erectors, LLC</td>\n      <td>Avon, IN</td>\n      <td>2024-01-13</td>\n      <td>Plainfield</td>\n      <td>United States</td>\n      <td>Electromechanical Technician</td>\n      <td>Associate</td>\n      <td>Onsite</td>\n      <td>Welding, Blueprint Reading, Oxy/Acetylene Torc...</td>\n      <td>Phoenix Fabricators and Erectors, LLC (“Phoeni...</td>\n      <td>612713</td>\n      <td>2192</td>\n      <td>17</td>\n    </tr>\n    <tr>\n      <th>2250</th>\n      <td>https://www.linkedin.com/jobs/view/welder-at-s...</td>\n      <td>2024-01-19 16:32:53.648536+00</td>\n      <td>t</td>\n      <td>t</td>\n      <td>f</td>\n      <td>Welder</td>\n      <td>Satellite Industries</td>\n      <td>Dahlonega, GA</td>\n      <td>2024-01-14</td>\n      <td>Dahlonega</td>\n      <td>United States</td>\n      <td>Electromechanical Technician</td>\n      <td>Mid senior</td>\n      <td>Onsite</td>\n      <td>Welding, Aluminum welding, Stainless steel wel...</td>\n      <td>Position Summary:\\nThe Welder will weld alumin...</td>\n      <td>749643</td>\n      <td>2646</td>\n      <td>62</td>\n    </tr>\n    <tr>\n      <th>2251</th>\n      <td>https://www.linkedin.com/jobs/view/welder-at-t...</td>\n      <td>2024-01-19 09:45:09.215838+00</td>\n      <td>t</td>\n      <td>t</td>\n      <td>f</td>\n      <td>Welder</td>\n      <td>Textron Specialized Vehicles</td>\n      <td>Cartersville, GA</td>\n      <td>2024-01-13</td>\n      <td>Georgia</td>\n      <td>United States</td>\n      <td>Locksmith</td>\n      <td>Associate</td>\n      <td>Onsite</td>\n      <td>Welding, Manufacturing, Blueprints, Quality co...</td>\n      <td>About Textron GSE\\nThe Textron GSE family of b...</td>\n      <td>641973</td>\n      <td>2687</td>\n      <td>18</td>\n    </tr>\n    <tr>\n      <th>2252</th>\n      <td>https://www.linkedin.com/jobs/view/welder-at-w...</td>\n      <td>2024-01-19 09:45:09.215838+00</td>\n      <td>t</td>\n      <td>t</td>\n      <td>f</td>\n      <td>Welder</td>\n      <td>Waltonen Engineering</td>\n      <td>Troy, MI</td>\n      <td>2024-01-13</td>\n      <td>Oak Park</td>\n      <td>United States</td>\n      <td>Electromechanical Technician</td>\n      <td>Mid senior</td>\n      <td>Onsite</td>\n      <td>Welding, Fabrication, Equipment maintenance, P...</td>\n      <td>Waltonen is actively seeking a Welder to join ...</td>\n      <td>612626</td>\n      <td>2120</td>\n      <td>18</td>\n    </tr>\n  </tbody>\n</table>\n<p>2253 rows × 19 columns</p>\n</div>"
     },
     "execution_count": 15,
     "metadata": {},
     "output_type": "execute_result"
    }
   ],
   "source": [
    "# Group by job_title and company, then find index of row with max summary_len in each group\n",
    "idx = selected_jd.groupby(['job_title', 'company'])['summary_len'].idxmax()\n",
    "\n",
    "# Use these indices to filter the dataframe\n",
    "filtered_df = selected_jd.loc[idx]\n",
    "\n",
    "# Reset index if needed\n",
    "filtered_df = filtered_df.reset_index(drop=True)\n",
    "filtered_df"
   ]
  },
  {
   "cell_type": "code",
   "execution_count": 16,
   "id": "efd8e212f4213fdd",
   "metadata": {
    "collapsed": false,
    "ExecuteTime": {
     "end_time": "2025-03-08T22:56:52.587953Z",
     "start_time": "2025-03-08T22:56:52.577493Z"
    }
   },
   "outputs": [
    {
     "data": {
      "text/plain": "                                               job_link  \\\n2     https://uk.linkedin.com/jobs/view/audit-manage...   \n3     https://uk.linkedin.com/jobs/view/audit-manage...   \n4     https://uk.linkedin.com/jobs/view/audit-manage...   \n5     https://www.linkedin.com/jobs/view/audit-manag...   \n6     https://www.linkedin.com/jobs/view/audit-manag...   \n...                                                 ...   \n2222  https://www.linkedin.com/jobs/view/test-engine...   \n2223  https://www.linkedin.com/jobs/view/test-engine...   \n2224  https://www.linkedin.com/jobs/view/test-engine...   \n2225  https://www.linkedin.com/jobs/view/test-engine...   \n2226  https://www.linkedin.com/jobs/view/test-engine...   \n\n                last_processed_time got_summary got_ner is_being_worked  \\\n2     2024-01-19 22:14:32.073908+00           t       t               f   \n3     2024-01-19 09:45:09.215838+00           t       t               f   \n4     2024-01-19 09:45:09.215838+00           t       t               f   \n5     2024-01-19 09:45:09.215838+00           t       t               f   \n6     2024-01-20 10:01:02.122191+00           t       t               f   \n...                             ...         ...     ...             ...   \n2222  2024-01-19 09:45:09.215838+00           t       t               f   \n2223  2024-01-19 09:45:09.215838+00           t       t               f   \n2224  2024-01-19 09:45:09.215838+00           t       t               f   \n2225  2024-01-19 09:45:09.215838+00           t       t               f   \n2226  2024-01-19 09:45:09.215838+00           t       t               f   \n\n          job_title                             company  \\\n2     Audit Manager                                 8-i   \n3     Audit Manager                        ACCA Careers   \n4     Audit Manager                             AESC UK   \n5     Audit Manager                   Alera Group, Inc.   \n6     Audit Manager                   Ascendo Resources   \n...             ...                                 ...   \n2222  Test Engineer  Teledyne Microwave Solutions (TMS)   \n2223  Test Engineer              Trojan Battery Company   \n2224  Test Engineer                   US Tech Solutions   \n2225  Test Engineer                   Viking Range, LLC   \n2226  Test Engineer                   nFocus Solutions®   \n\n                                      job_location  first_seen  \\\n2              Canterbury, England, United Kingdom  2024-01-14   \n3               Stevenage, England, United Kingdom  2024-01-13   \n4              Sunderland, England, United Kingdom  2024-01-12   \n5                                    Manasquan, NJ  2024-01-12   \n6     Springfield, Massachusetts Metropolitan Area  2024-01-14   \n...                                            ...         ...   \n2222                             Mountain View, CA  2024-01-13   \n2223                                   Horsham, PA  2024-01-13   \n2224                                     Tempe, AZ  2024-01-13   \n2225                                 Greenwood, MS  2024-01-13   \n2226                                   Orlando, FL  2024-01-13   \n\n          search_city  search_country                    search_position  \\\n2     Southend-on-Sea  United Kingdom                            Auditor   \n3               Luton  United Kingdom                     Director Stage   \n4            Tyneside  United Kingdom                            Auditor   \n5         Asbury Park   United States                            Auditor   \n6         Springfield   United States                            Auditor   \n...               ...             ...                                ...   \n2222      Santa Clara   United States          Electronics-Test Engineer   \n2223       Norristown   United States  Computer Systems Hardware Analyst   \n2224         Glendale   United States                  Computer Operator   \n2225      Mississippi   United States                Commercial Engineer   \n2226         Avondale   United States                  Computer Operator   \n\n       job_level job_type                                         job_skills  \\\n2     Mid senior   Onsite  Audit, Auditing, Audit Manager, Audit Supervis...   \n3     Mid senior   Onsite  Audit, Financial statements, FRS102, IFRS, Acc...   \n4     Mid senior   Onsite  Internal Controls Knowledge, SarbanesOxley Act...   \n5      Associate   Onsite  Customer service, Critical thinking skills, At...   \n6     Mid senior   Onsite  Accounting, Auditing, Bookkeeping, Budget prep...   \n...          ...      ...                                                ...   \n2222  Mid senior   Onsite  Test Engineer, RF testing, Validation, Test se...   \n2223  Mid senior   Onsite  Lithiumion battery testing, Hardware testing, ...   \n2224  Mid senior   Onsite  Test Engineer, MSC Mechanical, Actuation Syste...   \n2225   Associate   Onsite  Electrical equipment, Mechanical equipment, Pn...   \n2226  Mid senior   Onsite  Agile Software Development, System Testing, Te...   \n\n                                            job_summary      id  summary_len  \\\n2     Don't miss this wonderful opportunity to join ...  804004         3142   \n3     Menzies LLP\\nWe are looking for an experienced...  339382         6142   \n4     Mission & Main Objectives:\\nThis Internal Audi...  528639         2443   \n5     Are you looking to be part of a company where ...  233178         2591   \n6     Job Description:\\nOur client is one of the nat...    5327         3565   \n...                                                 ...     ...          ...   \n2222  Teledyne Microwave Solutions has over 50 years...  613471         2587   \n2223  It's fun to work in a company where people tru...  257965         2200   \n2224  Duration:\\n06 months contract\\nJob Description...  255473         3160   \n2225  Viking Range, a division of Middleby, is an es...  501971         2826   \n2226  Role Summary\\nWork within an Agile Software De...   16993         3581   \n\n      skill_count  \n2              27  \n3              25  \n4              25  \n5              11  \n6              25  \n...           ...  \n2222           17  \n2223           33  \n2224           47  \n2225           24  \n2226           28  \n\n[2115 rows x 19 columns]",
      "text/html": "<div>\n<style scoped>\n    .dataframe tbody tr th:only-of-type {\n        vertical-align: middle;\n    }\n\n    .dataframe tbody tr th {\n        vertical-align: top;\n    }\n\n    .dataframe thead th {\n        text-align: right;\n    }\n</style>\n<table border=\"1\" class=\"dataframe\">\n  <thead>\n    <tr style=\"text-align: right;\">\n      <th></th>\n      <th>job_link</th>\n      <th>last_processed_time</th>\n      <th>got_summary</th>\n      <th>got_ner</th>\n      <th>is_being_worked</th>\n      <th>job_title</th>\n      <th>company</th>\n      <th>job_location</th>\n      <th>first_seen</th>\n      <th>search_city</th>\n      <th>search_country</th>\n      <th>search_position</th>\n      <th>job_level</th>\n      <th>job_type</th>\n      <th>job_skills</th>\n      <th>job_summary</th>\n      <th>id</th>\n      <th>summary_len</th>\n      <th>skill_count</th>\n    </tr>\n  </thead>\n  <tbody>\n    <tr>\n      <th>2</th>\n      <td>https://uk.linkedin.com/jobs/view/audit-manage...</td>\n      <td>2024-01-19 22:14:32.073908+00</td>\n      <td>t</td>\n      <td>t</td>\n      <td>f</td>\n      <td>Audit Manager</td>\n      <td>8-i</td>\n      <td>Canterbury, England, United Kingdom</td>\n      <td>2024-01-14</td>\n      <td>Southend-on-Sea</td>\n      <td>United Kingdom</td>\n      <td>Auditor</td>\n      <td>Mid senior</td>\n      <td>Onsite</td>\n      <td>Audit, Auditing, Audit Manager, Audit Supervis...</td>\n      <td>Don't miss this wonderful opportunity to join ...</td>\n      <td>804004</td>\n      <td>3142</td>\n      <td>27</td>\n    </tr>\n    <tr>\n      <th>3</th>\n      <td>https://uk.linkedin.com/jobs/view/audit-manage...</td>\n      <td>2024-01-19 09:45:09.215838+00</td>\n      <td>t</td>\n      <td>t</td>\n      <td>f</td>\n      <td>Audit Manager</td>\n      <td>ACCA Careers</td>\n      <td>Stevenage, England, United Kingdom</td>\n      <td>2024-01-13</td>\n      <td>Luton</td>\n      <td>United Kingdom</td>\n      <td>Director Stage</td>\n      <td>Mid senior</td>\n      <td>Onsite</td>\n      <td>Audit, Financial statements, FRS102, IFRS, Acc...</td>\n      <td>Menzies LLP\\nWe are looking for an experienced...</td>\n      <td>339382</td>\n      <td>6142</td>\n      <td>25</td>\n    </tr>\n    <tr>\n      <th>4</th>\n      <td>https://uk.linkedin.com/jobs/view/audit-manage...</td>\n      <td>2024-01-19 09:45:09.215838+00</td>\n      <td>t</td>\n      <td>t</td>\n      <td>f</td>\n      <td>Audit Manager</td>\n      <td>AESC UK</td>\n      <td>Sunderland, England, United Kingdom</td>\n      <td>2024-01-12</td>\n      <td>Tyneside</td>\n      <td>United Kingdom</td>\n      <td>Auditor</td>\n      <td>Mid senior</td>\n      <td>Onsite</td>\n      <td>Internal Controls Knowledge, SarbanesOxley Act...</td>\n      <td>Mission &amp; Main Objectives:\\nThis Internal Audi...</td>\n      <td>528639</td>\n      <td>2443</td>\n      <td>25</td>\n    </tr>\n    <tr>\n      <th>5</th>\n      <td>https://www.linkedin.com/jobs/view/audit-manag...</td>\n      <td>2024-01-19 09:45:09.215838+00</td>\n      <td>t</td>\n      <td>t</td>\n      <td>f</td>\n      <td>Audit Manager</td>\n      <td>Alera Group, Inc.</td>\n      <td>Manasquan, NJ</td>\n      <td>2024-01-12</td>\n      <td>Asbury Park</td>\n      <td>United States</td>\n      <td>Auditor</td>\n      <td>Associate</td>\n      <td>Onsite</td>\n      <td>Customer service, Critical thinking skills, At...</td>\n      <td>Are you looking to be part of a company where ...</td>\n      <td>233178</td>\n      <td>2591</td>\n      <td>11</td>\n    </tr>\n    <tr>\n      <th>6</th>\n      <td>https://www.linkedin.com/jobs/view/audit-manag...</td>\n      <td>2024-01-20 10:01:02.122191+00</td>\n      <td>t</td>\n      <td>t</td>\n      <td>f</td>\n      <td>Audit Manager</td>\n      <td>Ascendo Resources</td>\n      <td>Springfield, Massachusetts Metropolitan Area</td>\n      <td>2024-01-14</td>\n      <td>Springfield</td>\n      <td>United States</td>\n      <td>Auditor</td>\n      <td>Mid senior</td>\n      <td>Onsite</td>\n      <td>Accounting, Auditing, Bookkeeping, Budget prep...</td>\n      <td>Job Description:\\nOur client is one of the nat...</td>\n      <td>5327</td>\n      <td>3565</td>\n      <td>25</td>\n    </tr>\n    <tr>\n      <th>...</th>\n      <td>...</td>\n      <td>...</td>\n      <td>...</td>\n      <td>...</td>\n      <td>...</td>\n      <td>...</td>\n      <td>...</td>\n      <td>...</td>\n      <td>...</td>\n      <td>...</td>\n      <td>...</td>\n      <td>...</td>\n      <td>...</td>\n      <td>...</td>\n      <td>...</td>\n      <td>...</td>\n      <td>...</td>\n      <td>...</td>\n      <td>...</td>\n    </tr>\n    <tr>\n      <th>2222</th>\n      <td>https://www.linkedin.com/jobs/view/test-engine...</td>\n      <td>2024-01-19 09:45:09.215838+00</td>\n      <td>t</td>\n      <td>t</td>\n      <td>f</td>\n      <td>Test Engineer</td>\n      <td>Teledyne Microwave Solutions (TMS)</td>\n      <td>Mountain View, CA</td>\n      <td>2024-01-13</td>\n      <td>Santa Clara</td>\n      <td>United States</td>\n      <td>Electronics-Test Engineer</td>\n      <td>Mid senior</td>\n      <td>Onsite</td>\n      <td>Test Engineer, RF testing, Validation, Test se...</td>\n      <td>Teledyne Microwave Solutions has over 50 years...</td>\n      <td>613471</td>\n      <td>2587</td>\n      <td>17</td>\n    </tr>\n    <tr>\n      <th>2223</th>\n      <td>https://www.linkedin.com/jobs/view/test-engine...</td>\n      <td>2024-01-19 09:45:09.215838+00</td>\n      <td>t</td>\n      <td>t</td>\n      <td>f</td>\n      <td>Test Engineer</td>\n      <td>Trojan Battery Company</td>\n      <td>Horsham, PA</td>\n      <td>2024-01-13</td>\n      <td>Norristown</td>\n      <td>United States</td>\n      <td>Computer Systems Hardware Analyst</td>\n      <td>Mid senior</td>\n      <td>Onsite</td>\n      <td>Lithiumion battery testing, Hardware testing, ...</td>\n      <td>It's fun to work in a company where people tru...</td>\n      <td>257965</td>\n      <td>2200</td>\n      <td>33</td>\n    </tr>\n    <tr>\n      <th>2224</th>\n      <td>https://www.linkedin.com/jobs/view/test-engine...</td>\n      <td>2024-01-19 09:45:09.215838+00</td>\n      <td>t</td>\n      <td>t</td>\n      <td>f</td>\n      <td>Test Engineer</td>\n      <td>US Tech Solutions</td>\n      <td>Tempe, AZ</td>\n      <td>2024-01-13</td>\n      <td>Glendale</td>\n      <td>United States</td>\n      <td>Computer Operator</td>\n      <td>Mid senior</td>\n      <td>Onsite</td>\n      <td>Test Engineer, MSC Mechanical, Actuation Syste...</td>\n      <td>Duration:\\n06 months contract\\nJob Description...</td>\n      <td>255473</td>\n      <td>3160</td>\n      <td>47</td>\n    </tr>\n    <tr>\n      <th>2225</th>\n      <td>https://www.linkedin.com/jobs/view/test-engine...</td>\n      <td>2024-01-19 09:45:09.215838+00</td>\n      <td>t</td>\n      <td>t</td>\n      <td>f</td>\n      <td>Test Engineer</td>\n      <td>Viking Range, LLC</td>\n      <td>Greenwood, MS</td>\n      <td>2024-01-13</td>\n      <td>Mississippi</td>\n      <td>United States</td>\n      <td>Commercial Engineer</td>\n      <td>Associate</td>\n      <td>Onsite</td>\n      <td>Electrical equipment, Mechanical equipment, Pn...</td>\n      <td>Viking Range, a division of Middleby, is an es...</td>\n      <td>501971</td>\n      <td>2826</td>\n      <td>24</td>\n    </tr>\n    <tr>\n      <th>2226</th>\n      <td>https://www.linkedin.com/jobs/view/test-engine...</td>\n      <td>2024-01-19 09:45:09.215838+00</td>\n      <td>t</td>\n      <td>t</td>\n      <td>f</td>\n      <td>Test Engineer</td>\n      <td>nFocus Solutions®</td>\n      <td>Orlando, FL</td>\n      <td>2024-01-13</td>\n      <td>Avondale</td>\n      <td>United States</td>\n      <td>Computer Operator</td>\n      <td>Mid senior</td>\n      <td>Onsite</td>\n      <td>Agile Software Development, System Testing, Te...</td>\n      <td>Role Summary\\nWork within an Agile Software De...</td>\n      <td>16993</td>\n      <td>3581</td>\n      <td>28</td>\n    </tr>\n  </tbody>\n</table>\n<p>2115 rows × 19 columns</p>\n</div>"
     },
     "execution_count": 16,
     "metadata": {},
     "output_type": "execute_result"
    }
   ],
   "source": [
    "# Step 1: Count the occurrences of each job_title\n",
    "job_title_counts = filtered_df['job_title'].value_counts()\n",
    "\n",
    "# Step 2: Filter to only include job titles with more than 15 records\n",
    "valid_job_titles = job_title_counts[job_title_counts >= 15].index.tolist()\n",
    "\n",
    "# Step 3: Filter the original dataframe to only include these job titles\n",
    "result_df = filtered_df[filtered_df['job_title'].isin(valid_job_titles)].copy()\n",
    "result_df"
   ]
  },
  {
   "cell_type": "code",
   "execution_count": 17,
   "id": "fcf989c874cf407f",
   "metadata": {
    "collapsed": false,
    "ExecuteTime": {
     "end_time": "2025-03-08T22:56:52.617443Z",
     "start_time": "2025-03-08T22:56:52.588583Z"
    }
   },
   "outputs": [
    {
     "name": "stderr",
     "output_type": "stream",
     "text": [
      "/var/folders/t5/tflj5hjs197_vv37fw2sdhdr0000gn/T/ipykernel_57662/2125768498.py:4: DeprecationWarning: DataFrameGroupBy.apply operated on the grouping columns. This behavior is deprecated, and in a future version of pandas the grouping columns will be excluded from the operation. Either pass `include_groups=False` to exclude the groupings or explicitly select the grouping columns after groupby to silence this warning.\n",
      "  .apply(lambda x: x.nlargest(10, 'summary_len'))\n"
     ]
    },
    {
     "data": {
      "text/plain": "                                              job_link  \\\n0    https://uk.linkedin.com/jobs/view/audit-manage...   \n1    https://www.linkedin.com/jobs/view/audit-manag...   \n2    https://www.linkedin.com/jobs/view/audit-manag...   \n3    https://www.linkedin.com/jobs/view/audit-manag...   \n4    https://uk.linkedin.com/jobs/view/audit-manage...   \n..                                                 ...   \n495  https://www.linkedin.com/jobs/view/test-engine...   \n496  https://www.linkedin.com/jobs/view/test-engine...   \n497  https://www.linkedin.com/jobs/view/test-engine...   \n498  https://www.linkedin.com/jobs/view/test-engine...   \n499  https://www.linkedin.com/jobs/view/test-engine...   \n\n               last_processed_time got_summary got_ner is_being_worked  \\\n0    2024-01-19 09:45:09.215838+00           t       t               f   \n1    2024-01-19 15:33:11.588617+00           t       t               f   \n2    2024-01-19 09:45:09.215838+00           t       t               f   \n3    2024-01-19 09:45:09.215838+00           t       t               f   \n4    2024-01-20 06:56:42.454545+00           t       t               f   \n..                             ...         ...     ...             ...   \n495   2024-01-19 20:05:43.91119+00           t       t               f   \n496  2024-01-19 09:45:09.215838+00           t       t               f   \n497  2024-01-19 09:45:09.215838+00           t       t               f   \n498  2024-01-19 09:45:09.215838+00           t       t               f   \n499  2024-01-19 09:45:09.215838+00           t       t               f   \n\n         job_title                               company  \\\n0    Audit Manager                          ACCA Careers   \n1    Audit Manager                        Baker Tilly US   \n2    Audit Manager                                 KORE1   \n3    Audit Manager                                 Jobot   \n4    Audit Manager  Bishop Fleming Chartered Accountants   \n..             ...                                   ...   \n495  Test Engineer                           Stoke Space   \n496  Test Engineer                               Akkodis   \n497  Test Engineer                     nFocus Solutions®   \n498  Test Engineer                    Micross Components   \n499  Test Engineer                   SEGULA Technologies   \n\n                           job_location  first_seen     search_city  \\\n0    Stevenage, England, United Kingdom  2024-01-13           Luton   \n1                       Minneapolis, MN  2024-01-15           Orono   \n2                        Cincinnati, OH  2024-01-12      Cincinnati   \n3                          Cheyenne, WY  2024-01-12         Wyoming   \n4      Bristol, England, United Kingdom  2024-01-14         Bristol   \n..                                  ...         ...             ...   \n495                      Moses Lake, WA  2024-01-14         Ephrata   \n496                           Tempe, AZ  2024-01-12          Canyon   \n497                         Orlando, FL  2024-01-13        Avondale   \n498                    Los Alamitos, CA  2024-01-12        Pasadena   \n499                      Greensboro, NC  2024-01-12  North Carolina   \n\n     search_country                 search_position   job_level job_type  \\\n0    United Kingdom                  Director Stage  Mid senior   Onsite   \n1     United States                           Baker  Mid senior   Onsite   \n2     United States                         Auditor  Mid senior   Onsite   \n3     United States                         Auditor  Mid senior   Onsite   \n4    United Kingdom                            Tier  Mid senior   Onsite   \n..              ...                             ...         ...      ...   \n495   United States  Agricultural-Research Engineer  Mid senior   Onsite   \n496   United States  Agricultural-Research Engineer   Associate   Onsite   \n497   United States               Computer Operator  Mid senior   Onsite   \n498   United States  Agricultural-Research Engineer   Associate   Onsite   \n499   United States  Agricultural-Research Engineer   Associate   Onsite   \n\n                                            job_skills  \\\n0    Audit, Financial statements, FRS102, IFRS, Acc...   \n1    Accounting, Auditing, Assurance services, Fina...   \n2    Internal Audit Manager, Riskbased audit progra...   \n3    Audit, Leadership, Client Relationships, Strat...   \n4    Audit, Assurance, Accounting, Business Develop...   \n..                                                 ...   \n495  Fluid systems, Mechanical systems, Instrumenta...   \n496  Aerospace, Mechanical test environment, Mechan...   \n497  Agile Software Development, System Testing, Te...   \n498  Semiconductor Testing, Automated Test Equipmen...   \n499  Data acquisition, Data processing, Mechanical ...   \n\n                                           job_summary      id  summary_len  \\\n0    Menzies LLP\\nWe are looking for an experienced...  339382         6142   \n1    Overview\\nBaker Tilly US, LLP (Baker Tilly) is...   70598         5769   \n2    KORE1, a nationwide provider of staffing and r...   25866         5263   \n3    Want to learn more about this role and Jobot? ...  561971         5066   \n4    Description\\nLocation: Bristol\\nAbout The Role...  885770         4917   \n..                                                 ...     ...          ...   \n495  A thriving economy in space is needed to make ...   14991         4365   \n496  Akkodis is seeking a Test Engineer for a posit...  189702         3999   \n497  Role Summary\\nWork within an Agile Software De...   16993         3581   \n498  Job Summary:\\nPerforms LAT testing, builds bur...  568816         3510   \n499  Company Description\\nMUST be authorized to wor...  452512         3301   \n\n     skill_count  \n0             25  \n1             26  \n2             51  \n3             30  \n4             32  \n..           ...  \n495           15  \n496           33  \n497           28  \n498           40  \n499           16  \n\n[500 rows x 19 columns]",
      "text/html": "<div>\n<style scoped>\n    .dataframe tbody tr th:only-of-type {\n        vertical-align: middle;\n    }\n\n    .dataframe tbody tr th {\n        vertical-align: top;\n    }\n\n    .dataframe thead th {\n        text-align: right;\n    }\n</style>\n<table border=\"1\" class=\"dataframe\">\n  <thead>\n    <tr style=\"text-align: right;\">\n      <th></th>\n      <th>job_link</th>\n      <th>last_processed_time</th>\n      <th>got_summary</th>\n      <th>got_ner</th>\n      <th>is_being_worked</th>\n      <th>job_title</th>\n      <th>company</th>\n      <th>job_location</th>\n      <th>first_seen</th>\n      <th>search_city</th>\n      <th>search_country</th>\n      <th>search_position</th>\n      <th>job_level</th>\n      <th>job_type</th>\n      <th>job_skills</th>\n      <th>job_summary</th>\n      <th>id</th>\n      <th>summary_len</th>\n      <th>skill_count</th>\n    </tr>\n  </thead>\n  <tbody>\n    <tr>\n      <th>0</th>\n      <td>https://uk.linkedin.com/jobs/view/audit-manage...</td>\n      <td>2024-01-19 09:45:09.215838+00</td>\n      <td>t</td>\n      <td>t</td>\n      <td>f</td>\n      <td>Audit Manager</td>\n      <td>ACCA Careers</td>\n      <td>Stevenage, England, United Kingdom</td>\n      <td>2024-01-13</td>\n      <td>Luton</td>\n      <td>United Kingdom</td>\n      <td>Director Stage</td>\n      <td>Mid senior</td>\n      <td>Onsite</td>\n      <td>Audit, Financial statements, FRS102, IFRS, Acc...</td>\n      <td>Menzies LLP\\nWe are looking for an experienced...</td>\n      <td>339382</td>\n      <td>6142</td>\n      <td>25</td>\n    </tr>\n    <tr>\n      <th>1</th>\n      <td>https://www.linkedin.com/jobs/view/audit-manag...</td>\n      <td>2024-01-19 15:33:11.588617+00</td>\n      <td>t</td>\n      <td>t</td>\n      <td>f</td>\n      <td>Audit Manager</td>\n      <td>Baker Tilly US</td>\n      <td>Minneapolis, MN</td>\n      <td>2024-01-15</td>\n      <td>Orono</td>\n      <td>United States</td>\n      <td>Baker</td>\n      <td>Mid senior</td>\n      <td>Onsite</td>\n      <td>Accounting, Auditing, Assurance services, Fina...</td>\n      <td>Overview\\nBaker Tilly US, LLP (Baker Tilly) is...</td>\n      <td>70598</td>\n      <td>5769</td>\n      <td>26</td>\n    </tr>\n    <tr>\n      <th>2</th>\n      <td>https://www.linkedin.com/jobs/view/audit-manag...</td>\n      <td>2024-01-19 09:45:09.215838+00</td>\n      <td>t</td>\n      <td>t</td>\n      <td>f</td>\n      <td>Audit Manager</td>\n      <td>KORE1</td>\n      <td>Cincinnati, OH</td>\n      <td>2024-01-12</td>\n      <td>Cincinnati</td>\n      <td>United States</td>\n      <td>Auditor</td>\n      <td>Mid senior</td>\n      <td>Onsite</td>\n      <td>Internal Audit Manager, Riskbased audit progra...</td>\n      <td>KORE1, a nationwide provider of staffing and r...</td>\n      <td>25866</td>\n      <td>5263</td>\n      <td>51</td>\n    </tr>\n    <tr>\n      <th>3</th>\n      <td>https://www.linkedin.com/jobs/view/audit-manag...</td>\n      <td>2024-01-19 09:45:09.215838+00</td>\n      <td>t</td>\n      <td>t</td>\n      <td>f</td>\n      <td>Audit Manager</td>\n      <td>Jobot</td>\n      <td>Cheyenne, WY</td>\n      <td>2024-01-12</td>\n      <td>Wyoming</td>\n      <td>United States</td>\n      <td>Auditor</td>\n      <td>Mid senior</td>\n      <td>Onsite</td>\n      <td>Audit, Leadership, Client Relationships, Strat...</td>\n      <td>Want to learn more about this role and Jobot? ...</td>\n      <td>561971</td>\n      <td>5066</td>\n      <td>30</td>\n    </tr>\n    <tr>\n      <th>4</th>\n      <td>https://uk.linkedin.com/jobs/view/audit-manage...</td>\n      <td>2024-01-20 06:56:42.454545+00</td>\n      <td>t</td>\n      <td>t</td>\n      <td>f</td>\n      <td>Audit Manager</td>\n      <td>Bishop Fleming Chartered Accountants</td>\n      <td>Bristol, England, United Kingdom</td>\n      <td>2024-01-14</td>\n      <td>Bristol</td>\n      <td>United Kingdom</td>\n      <td>Tier</td>\n      <td>Mid senior</td>\n      <td>Onsite</td>\n      <td>Audit, Assurance, Accounting, Business Develop...</td>\n      <td>Description\\nLocation: Bristol\\nAbout The Role...</td>\n      <td>885770</td>\n      <td>4917</td>\n      <td>32</td>\n    </tr>\n    <tr>\n      <th>...</th>\n      <td>...</td>\n      <td>...</td>\n      <td>...</td>\n      <td>...</td>\n      <td>...</td>\n      <td>...</td>\n      <td>...</td>\n      <td>...</td>\n      <td>...</td>\n      <td>...</td>\n      <td>...</td>\n      <td>...</td>\n      <td>...</td>\n      <td>...</td>\n      <td>...</td>\n      <td>...</td>\n      <td>...</td>\n      <td>...</td>\n      <td>...</td>\n    </tr>\n    <tr>\n      <th>495</th>\n      <td>https://www.linkedin.com/jobs/view/test-engine...</td>\n      <td>2024-01-19 20:05:43.91119+00</td>\n      <td>t</td>\n      <td>t</td>\n      <td>f</td>\n      <td>Test Engineer</td>\n      <td>Stoke Space</td>\n      <td>Moses Lake, WA</td>\n      <td>2024-01-14</td>\n      <td>Ephrata</td>\n      <td>United States</td>\n      <td>Agricultural-Research Engineer</td>\n      <td>Mid senior</td>\n      <td>Onsite</td>\n      <td>Fluid systems, Mechanical systems, Instrumenta...</td>\n      <td>A thriving economy in space is needed to make ...</td>\n      <td>14991</td>\n      <td>4365</td>\n      <td>15</td>\n    </tr>\n    <tr>\n      <th>496</th>\n      <td>https://www.linkedin.com/jobs/view/test-engine...</td>\n      <td>2024-01-19 09:45:09.215838+00</td>\n      <td>t</td>\n      <td>t</td>\n      <td>f</td>\n      <td>Test Engineer</td>\n      <td>Akkodis</td>\n      <td>Tempe, AZ</td>\n      <td>2024-01-12</td>\n      <td>Canyon</td>\n      <td>United States</td>\n      <td>Agricultural-Research Engineer</td>\n      <td>Associate</td>\n      <td>Onsite</td>\n      <td>Aerospace, Mechanical test environment, Mechan...</td>\n      <td>Akkodis is seeking a Test Engineer for a posit...</td>\n      <td>189702</td>\n      <td>3999</td>\n      <td>33</td>\n    </tr>\n    <tr>\n      <th>497</th>\n      <td>https://www.linkedin.com/jobs/view/test-engine...</td>\n      <td>2024-01-19 09:45:09.215838+00</td>\n      <td>t</td>\n      <td>t</td>\n      <td>f</td>\n      <td>Test Engineer</td>\n      <td>nFocus Solutions®</td>\n      <td>Orlando, FL</td>\n      <td>2024-01-13</td>\n      <td>Avondale</td>\n      <td>United States</td>\n      <td>Computer Operator</td>\n      <td>Mid senior</td>\n      <td>Onsite</td>\n      <td>Agile Software Development, System Testing, Te...</td>\n      <td>Role Summary\\nWork within an Agile Software De...</td>\n      <td>16993</td>\n      <td>3581</td>\n      <td>28</td>\n    </tr>\n    <tr>\n      <th>498</th>\n      <td>https://www.linkedin.com/jobs/view/test-engine...</td>\n      <td>2024-01-19 09:45:09.215838+00</td>\n      <td>t</td>\n      <td>t</td>\n      <td>f</td>\n      <td>Test Engineer</td>\n      <td>Micross Components</td>\n      <td>Los Alamitos, CA</td>\n      <td>2024-01-12</td>\n      <td>Pasadena</td>\n      <td>United States</td>\n      <td>Agricultural-Research Engineer</td>\n      <td>Associate</td>\n      <td>Onsite</td>\n      <td>Semiconductor Testing, Automated Test Equipmen...</td>\n      <td>Job Summary:\\nPerforms LAT testing, builds bur...</td>\n      <td>568816</td>\n      <td>3510</td>\n      <td>40</td>\n    </tr>\n    <tr>\n      <th>499</th>\n      <td>https://www.linkedin.com/jobs/view/test-engine...</td>\n      <td>2024-01-19 09:45:09.215838+00</td>\n      <td>t</td>\n      <td>t</td>\n      <td>f</td>\n      <td>Test Engineer</td>\n      <td>SEGULA Technologies</td>\n      <td>Greensboro, NC</td>\n      <td>2024-01-12</td>\n      <td>North Carolina</td>\n      <td>United States</td>\n      <td>Agricultural-Research Engineer</td>\n      <td>Associate</td>\n      <td>Onsite</td>\n      <td>Data acquisition, Data processing, Mechanical ...</td>\n      <td>Company Description\\nMUST be authorized to wor...</td>\n      <td>452512</td>\n      <td>3301</td>\n      <td>16</td>\n    </tr>\n  </tbody>\n</table>\n<p>500 rows × 19 columns</p>\n</div>"
     },
     "execution_count": 17,
     "metadata": {},
     "output_type": "execute_result"
    }
   ],
   "source": [
    "# Step 4: Select top 16 records per job title based on summary_len\n",
    "result_df = (result_df\n",
    "             .groupby('job_title')\n",
    "             .apply(lambda x: x.nlargest(10, 'summary_len'))\n",
    "             .reset_index(drop=True)).copy()\n",
    "\n",
    "result_df"
   ]
  },
  {
   "cell_type": "code",
   "execution_count": 18,
   "id": "7e8370ea55f07a0e",
   "metadata": {
    "collapsed": false,
    "ExecuteTime": {
     "end_time": "2025-03-08T22:56:52.624537Z",
     "start_time": "2025-03-08T22:56:52.618679Z"
    }
   },
   "outputs": [
    {
     "data": {
      "text/plain": "       skill_count\ncount    500.00000\nmean      30.60400\nstd       13.97203\nmin        9.00000\n25%       21.00000\n50%       28.00000\n75%       37.00000\nmax      130.00000",
      "text/html": "<div>\n<style scoped>\n    .dataframe tbody tr th:only-of-type {\n        vertical-align: middle;\n    }\n\n    .dataframe tbody tr th {\n        vertical-align: top;\n    }\n\n    .dataframe thead th {\n        text-align: right;\n    }\n</style>\n<table border=\"1\" class=\"dataframe\">\n  <thead>\n    <tr style=\"text-align: right;\">\n      <th></th>\n      <th>skill_count</th>\n    </tr>\n  </thead>\n  <tbody>\n    <tr>\n      <th>count</th>\n      <td>500.00000</td>\n    </tr>\n    <tr>\n      <th>mean</th>\n      <td>30.60400</td>\n    </tr>\n    <tr>\n      <th>std</th>\n      <td>13.97203</td>\n    </tr>\n    <tr>\n      <th>min</th>\n      <td>9.00000</td>\n    </tr>\n    <tr>\n      <th>25%</th>\n      <td>21.00000</td>\n    </tr>\n    <tr>\n      <th>50%</th>\n      <td>28.00000</td>\n    </tr>\n    <tr>\n      <th>75%</th>\n      <td>37.00000</td>\n    </tr>\n    <tr>\n      <th>max</th>\n      <td>130.00000</td>\n    </tr>\n  </tbody>\n</table>\n</div>"
     },
     "execution_count": 18,
     "metadata": {},
     "output_type": "execute_result"
    }
   ],
   "source": [
    "result_df[['skill_count']].describe()"
   ]
  },
  {
   "cell_type": "code",
   "execution_count": 19,
   "id": "c9727b50c536b7e7",
   "metadata": {
    "collapsed": false,
    "ExecuteTime": {
     "end_time": "2025-03-08T22:56:52.668972Z",
     "start_time": "2025-03-08T22:56:52.625324Z"
    }
   },
   "outputs": [],
   "source": [
    "result_df.head(250).to_csv(f\"{path}/data/sampled_linkedin_jd_skills/sampled_data_v2/sampled_jd_resume_set1.csv\", index=False)\n",
    "result_df.tail(250).to_csv(f\"{path}/data/sampled_linkedin_jd_skills/sampled_data_v2/sampled_jd_resume_set2.csv\", index=False)"
   ]
  }
 ],
 "metadata": {
  "kernelspec": {
   "display_name": "Python 3 (ipykernel)",
   "language": "python",
   "name": "python3"
  },
  "language_info": {
   "codemirror_mode": {
    "name": "ipython",
    "version": 3
   },
   "file_extension": ".py",
   "mimetype": "text/x-python",
   "name": "python",
   "nbconvert_exporter": "python",
   "pygments_lexer": "ipython3",
   "version": "3.11.10"
  }
 },
 "nbformat": 4,
 "nbformat_minor": 5
}
