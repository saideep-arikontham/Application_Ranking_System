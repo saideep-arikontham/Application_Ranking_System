{
 "cells": [
  {
   "cell_type": "markdown",
   "id": "5938511e9ca304d0",
   "metadata": {
    "collapsed": false
   },
   "source": [
    "# Baseline Modelling"
   ]
  },
  {
   "cell_type": "markdown",
   "id": "c6c9bc98d6413f73",
   "metadata": {
    "collapsed": false
   },
   "source": [
    "## Importing libraries"
   ]
  },
  {
   "cell_type": "code",
   "execution_count": 1,
   "id": "initial_id",
   "metadata": {
    "ExecuteTime": {
     "end_time": "2025-03-10T04:02:11.075915Z",
     "start_time": "2025-03-10T04:02:06.334731Z"
    }
   },
   "outputs": [],
   "source": [
    "import pandas as pd\n",
    "import numpy as np\n",
    "import matplotlib.pyplot as plt\n",
    "import seaborn as sns\n",
    "\n",
    "import re\n",
    "import string\n",
    "import nltk\n",
    "from nltk.corpus import stopwords\n",
    "\n",
    "from sklearn.feature_extraction.text import TfidfVectorizer\n",
    "from scipy.sparse import hstack\n",
    "from sklearn.model_selection import train_test_split\n",
    "\n",
    "from sklearn.model_selection import cross_val_score, KFold\n",
    "from sklearn.tree import DecisionTreeClassifier\n",
    "from sklearn.ensemble import RandomForestClassifier\n",
    "from xgboost import XGBClassifier\n",
    "from sklearn.metrics import accuracy_score, precision_score, recall_score, f1_score, confusion_matrix, classification_report, make_scorer\n",
    "\n",
    "from sentence_transformers import SentenceTransformer\n"
   ]
  },
  {
   "cell_type": "code",
   "execution_count": 2,
   "id": "5120572f76dc6ace",
   "metadata": {
    "collapsed": false,
    "ExecuteTime": {
     "end_time": "2025-03-10T04:02:11.078924Z",
     "start_time": "2025-03-10T04:02:11.076695Z"
    }
   },
   "outputs": [],
   "source": [
    "path = \"/Users/saideepbunny/Projects/Application_Ranking_System\""
   ]
  },
  {
   "cell_type": "markdown",
   "id": "c2333ef71af2333d",
   "metadata": {
    "collapsed": false
   },
   "source": [
    "## Reading the data"
   ]
  },
  {
   "cell_type": "code",
   "execution_count": 3,
   "id": "601ff9ce3279e9c2",
   "metadata": {
    "collapsed": false,
    "ExecuteTime": {
     "end_time": "2025-03-10T04:02:11.296209Z",
     "start_time": "2025-03-10T04:02:11.079630Z"
    }
   },
   "outputs": [
    {
     "data": {
      "text/plain": "                                               job_data  \\\n0     Audit Manager\\nMenzies LLP\\nWe are looking for...   \n1     Audit Manager\\nMenzies LLP\\nWe are looking for...   \n2     Audit Manager\\nMenzies LLP\\nWe are looking for...   \n3     Audit Manager\\nMenzies LLP\\nWe are looking for...   \n4     Audit Manager\\nOverview\\nBaker Tilly US, LLP (...   \n...                                                 ...   \n3995  Test Engineer\\nJob Summary:\\nPerforms LAT test...   \n3996  Test Engineer\\nCompany Description\\nMUST be au...   \n3997  Test Engineer\\nCompany Description\\nMUST be au...   \n3998  Test Engineer\\nCompany Description\\nMUST be au...   \n3999  Test Engineer\\nCompany Description\\nMUST be au...   \n\n                                            resume_data              label  \n0     **Jennifer Oneal**\\n*+1 (555) 555-5555* *|* *j...  Complete Mismatch  \n1     **Christina Padilla DVM**\\n\\n*Email: christina...      Underwhelming  \n2     **Andrew Kirby**\\n*+44 00000 000000* *|* *andr...           Good Fit  \n3     **Erin Hicks**\\n*+1 (555) 555-5555* *|* *erin....      Overqualified  \n4     **Randy Smith**\\n*+1 (123) 456-7890* *|* *rand...  Complete Mismatch  \n...                                                 ...                ...  \n3995  # Darren Roberts\\n\\n*Email*: darren.roberts@em...      Overqualified  \n3996  **Lisa Wright**\\n*+1 (111) 111-1111* *|* *lisa...  Complete Mismatch  \n3997  # Daniel Meza\\n\\n*Greensboro, NC* *·* *(555) 5...      Underwhelming  \n3998  # William Torres\\n\\n*Greensboro, NC* *|* *will...           Good Fit  \n3999  # Robert Ramsey\\n\\n*Greensboro, NC | (555) 555...      Overqualified  \n\n[4000 rows x 3 columns]",
      "text/html": "<div>\n<style scoped>\n    .dataframe tbody tr th:only-of-type {\n        vertical-align: middle;\n    }\n\n    .dataframe tbody tr th {\n        vertical-align: top;\n    }\n\n    .dataframe thead th {\n        text-align: right;\n    }\n</style>\n<table border=\"1\" class=\"dataframe\">\n  <thead>\n    <tr style=\"text-align: right;\">\n      <th></th>\n      <th>job_data</th>\n      <th>resume_data</th>\n      <th>label</th>\n    </tr>\n  </thead>\n  <tbody>\n    <tr>\n      <th>0</th>\n      <td>Audit Manager\\nMenzies LLP\\nWe are looking for...</td>\n      <td>**Jennifer Oneal**\\n*+1 (555) 555-5555* *|* *j...</td>\n      <td>Complete Mismatch</td>\n    </tr>\n    <tr>\n      <th>1</th>\n      <td>Audit Manager\\nMenzies LLP\\nWe are looking for...</td>\n      <td>**Christina Padilla DVM**\\n\\n*Email: christina...</td>\n      <td>Underwhelming</td>\n    </tr>\n    <tr>\n      <th>2</th>\n      <td>Audit Manager\\nMenzies LLP\\nWe are looking for...</td>\n      <td>**Andrew Kirby**\\n*+44 00000 000000* *|* *andr...</td>\n      <td>Good Fit</td>\n    </tr>\n    <tr>\n      <th>3</th>\n      <td>Audit Manager\\nMenzies LLP\\nWe are looking for...</td>\n      <td>**Erin Hicks**\\n*+1 (555) 555-5555* *|* *erin....</td>\n      <td>Overqualified</td>\n    </tr>\n    <tr>\n      <th>4</th>\n      <td>Audit Manager\\nOverview\\nBaker Tilly US, LLP (...</td>\n      <td>**Randy Smith**\\n*+1 (123) 456-7890* *|* *rand...</td>\n      <td>Complete Mismatch</td>\n    </tr>\n    <tr>\n      <th>...</th>\n      <td>...</td>\n      <td>...</td>\n      <td>...</td>\n    </tr>\n    <tr>\n      <th>3995</th>\n      <td>Test Engineer\\nJob Summary:\\nPerforms LAT test...</td>\n      <td># Darren Roberts\\n\\n*Email*: darren.roberts@em...</td>\n      <td>Overqualified</td>\n    </tr>\n    <tr>\n      <th>3996</th>\n      <td>Test Engineer\\nCompany Description\\nMUST be au...</td>\n      <td>**Lisa Wright**\\n*+1 (111) 111-1111* *|* *lisa...</td>\n      <td>Complete Mismatch</td>\n    </tr>\n    <tr>\n      <th>3997</th>\n      <td>Test Engineer\\nCompany Description\\nMUST be au...</td>\n      <td># Daniel Meza\\n\\n*Greensboro, NC* *·* *(555) 5...</td>\n      <td>Underwhelming</td>\n    </tr>\n    <tr>\n      <th>3998</th>\n      <td>Test Engineer\\nCompany Description\\nMUST be au...</td>\n      <td># William Torres\\n\\n*Greensboro, NC* *|* *will...</td>\n      <td>Good Fit</td>\n    </tr>\n    <tr>\n      <th>3999</th>\n      <td>Test Engineer\\nCompany Description\\nMUST be au...</td>\n      <td># Robert Ramsey\\n\\n*Greensboro, NC | (555) 555...</td>\n      <td>Overqualified</td>\n    </tr>\n  </tbody>\n</table>\n<p>4000 rows × 3 columns</p>\n</div>"
     },
     "execution_count": 3,
     "metadata": {},
     "output_type": "execute_result"
    }
   ],
   "source": [
    "df = pd.read_csv(f\"{path}/data/synthetic_data/synthetic_data_v2/synthetic_data_v2.csv\")\n",
    "df"
   ]
  },
  {
   "cell_type": "code",
   "execution_count": 4,
   "id": "2a50d157b42d8a82",
   "metadata": {
    "collapsed": false,
    "ExecuteTime": {
     "end_time": "2025-03-10T04:02:11.298844Z",
     "start_time": "2025-03-10T04:02:11.296885Z"
    }
   },
   "outputs": [
    {
     "name": "stdout",
     "output_type": "stream",
     "text": [
      "Number of rows in the dataset: 4000\n",
      "Number of columns in the dataset: 3\n"
     ]
    }
   ],
   "source": [
    "print(\"Number of rows in the dataset:\", df.shape[0])\n",
    "print(\"Number of columns in the dataset:\", df.shape[1])"
   ]
  },
  {
   "cell_type": "code",
   "execution_count": 5,
   "id": "26be598b9db7348",
   "metadata": {
    "collapsed": false,
    "ExecuteTime": {
     "end_time": "2025-03-10T04:02:11.302521Z",
     "start_time": "2025-03-10T04:02:11.299294Z"
    }
   },
   "outputs": [
    {
     "data": {
      "text/plain": "label\nComplete Mismatch    1000\nUnderwhelming        1000\nGood Fit             1000\nOverqualified        1000\nName: count, dtype: int64"
     },
     "execution_count": 5,
     "metadata": {},
     "output_type": "execute_result"
    }
   ],
   "source": [
    "df['label'].value_counts()"
   ]
  },
  {
   "cell_type": "markdown",
   "id": "d652aa33a2d395ce",
   "metadata": {
    "collapsed": false
   },
   "source": [
    "## Data preprocessing"
   ]
  },
  {
   "cell_type": "code",
   "execution_count": 6,
   "id": "964cda1055b21dd8",
   "metadata": {
    "collapsed": false,
    "ExecuteTime": {
     "end_time": "2025-03-10T04:02:11.402541Z",
     "start_time": "2025-03-10T04:02:11.303167Z"
    }
   },
   "outputs": [
    {
     "name": "stdout",
     "output_type": "stream",
     "text": [
      "{'that', 'has', 'now', 'because', 'himself', 'o', \"i'm\", 'under', \"weren't\", \"won't\", 'they', 'with', 'through', 'do', 'some', 't', 'so', 'didn', 'to', 'an', 'above', 'aren', 'was', 'hers', \"haven't\", 'and', 'm', \"don't\", 'our', 'until', 'we', 'where', \"we've\", 'on', 'itself', 'won', 'myself', \"couldn't\", 'how', \"wasn't\", \"didn't\", 'up', \"we're\", 'shan', \"we'd\", 'when', 'can', 'between', 'have', 'underqualified', 'whom', 'her', 'against', 'most', 'be', \"you'll\", 'is', 'him', \"they'd\", 'ourselves', 'will', 'down', 'his', 'them', 'were', 'haven', 'a', 'than', 's', \"that'll\", 'the', 'which', 'y', 'yours', 'did', 'it', 'hadn', 'then', \"he'll\", \"we'll\", 'again', 'at', \"shan't\", \"she'll\", 'below', 'no', 'good', 'having', 're', 'your', 'in', 'yourselves', \"it'd\", 'there', 'why', 'are', \"you're\", 'its', \"isn't\", 'mismatch', 'she', 'while', 'ours', 'about', 'few', \"they'll\", 'herself', 'any', 'weren', 'd', 'themselves', 'doing', \"aren't\", 'only', 'all', 'what', \"i'd\", 'you', 'am', \"she's\", 'my', 'wasn', 'should', 'does', 'me', 'mustn', 'or', 'not', 'don', 'for', 'same', 'their', 'nor', 'been', 'during', \"they're\", 'too', 'had', 'needn', \"i'll\", \"should've\", 'ain', 'off', 'this', 'both', \"doesn't\", \"you'd\", 'as', \"he'd\", 'out', \"mightn't\", \"i've\", 'further', \"hadn't\", 'such', 'isn', \"shouldn't\", 'those', \"mustn't\", 'couldn', 'over', 'own', \"needn't\", 'doesn', \"they've\", \"wouldn't\", \"he's\", 'i', 'into', 'these', 'who', 'by', \"it'll\", 'overqualified', 'being', 'after', 'if', 'each', 'shouldn', 'from', \"it's\", 'other', 'mightn', \"she'd\", 'wouldn', \"you've\", 'before', 'hasn', 'more', 've', 'once', 'ma', 'of', 'he', 'very', 'here', 'theirs', 'just', 'but', 'yourself', \"hasn't\", 'll'}\n"
     ]
    },
    {
     "name": "stderr",
     "output_type": "stream",
     "text": [
      "[nltk_data] Downloading package stopwords to\n",
      "[nltk_data]     /Users/saideepbunny/nltk_data...\n",
      "[nltk_data]   Package stopwords is already up-to-date!\n"
     ]
    }
   ],
   "source": [
    "# Download stopwords if not already downloaded\n",
    "nltk.download('stopwords')\n",
    "stop_words = set(stopwords.words('english'))\n",
    "stop_words.add(\"overqualified\")\n",
    "stop_words.add(\"underqualified\")\n",
    "stop_words.add(\"mismatch\")\n",
    "stop_words.add(\"good\")\n",
    "print(stop_words)"
   ]
  },
  {
   "cell_type": "code",
   "execution_count": 7,
   "id": "58c3a1326fbe8f6a",
   "metadata": {
    "collapsed": false,
    "ExecuteTime": {
     "end_time": "2025-03-10T04:02:11.408065Z",
     "start_time": "2025-03-10T04:02:11.404052Z"
    }
   },
   "outputs": [],
   "source": [
    "def preprocess_text(text):\n",
    "    # Convert to lowercase\n",
    "    text = text.lower()\n",
    "\n",
    "    # Remove unwanted symbols except %, $, /, and .\n",
    "    text = re.sub(r\"[^a-z0-9\\s%$/.-]\", \"\", text)\n",
    "\n",
    "    # Preserve hyphens only when followed by a number (e.g., 2005-2010, 2010-present)\n",
    "    text = re.sub(r\"-(?!\\d)\", \"\", text)  # Remove hyphens not followed by a digit\n",
    "\n",
    "    # Preserve GPA-like formats (e.g., 3.8/4.0)\n",
    "    text = re.sub(r\"(?<!\\d)/|/(?!\\d)\", \" \", text)  # Remove '/' unless between numbers\n",
    "\n",
    "    # Remove periods (\".\") if they are immediately after a word but not numbers (e.g., \"good.\" → \"good\", but keep 3.8)\n",
    "    text = re.sub(r\"\\b(\\w+)\\.(?!\\d)\", r\"\\1\", text)\n",
    "\n",
    "    # Remove newline characters\n",
    "    text = text.replace(\"\\n\", \" \").replace(\"\\r\", \" \")\n",
    "\n",
    "    # Remove any show less and show more texts\n",
    "    text = text.replace(\"show less\", \"\").replace(\"show more\", \"\")\n",
    "    # Remove stopwords\n",
    "    stop_words = set(stopwords.words(\"english\"))\n",
    "    text = \" \".join(word for word in text.split() if word not in stop_words)\n",
    "\n",
    "    return text"
   ]
  },
  {
   "cell_type": "code",
   "execution_count": 8,
   "id": "be4ab91fc1810e47",
   "metadata": {
    "collapsed": false,
    "ExecuteTime": {
     "end_time": "2025-03-10T04:02:15.403049Z",
     "start_time": "2025-03-10T04:02:11.409208Z"
    }
   },
   "outputs": [],
   "source": [
    "df['job_data_preprocessed'] = df['job_data'].apply(preprocess_text)\n",
    "df['resume_data_preprocessed'] = df['resume_data'].apply(preprocess_text)"
   ]
  },
  {
   "cell_type": "code",
   "execution_count": 9,
   "id": "1f0082d39c1486be",
   "metadata": {
    "collapsed": false,
    "ExecuteTime": {
     "end_time": "2025-03-10T04:02:15.416471Z",
     "start_time": "2025-03-10T04:02:15.413295Z"
    }
   },
   "outputs": [
    {
     "name": "stdout",
     "output_type": "stream",
     "text": [
      "Audit Manager\n",
      "Menzies LLP\n",
      "We are looking for an experienced\n",
      "Audit Manager\n",
      "to join our growing\n",
      "Audit & Assurance\n",
      "department in our\n",
      "Stevenage Office.\n",
      "This is a role for an ambitious candidate who embraces our core values, whilst supporting the audit partners, helping our clients achieve their aspirations and developing our audit team.\n",
      "We have a hybrid working policy, career sponsor, excellent support, and personal and career development opportunities.\n",
      "Why Join Menzies?\n",
      "We are a UK based recognised employer of choice with office locations in London, Surrey, Hampshire, and South Wales (Cardiff).\n",
      "Join our family of 500 employees. Be a member and not just a number!\n",
      "We offer a dynamic and rewarding environment with exposure to a diverse range of clients and industry sectors.\n",
      "Our package and benefits are very competitive.\n",
      "Work life balance is part of our organisational culture,\n",
      "We believe in developing our staff throughout their career.\n",
      "Key Duties & Responsibilities\n",
      "Management of an audit focussed portfolio of clients.\n",
      "Overseeing the preparation of financial statements under FRS102 and IFRS.\n",
      "Attendance and contributions at client meetings.\n",
      "Completing audits with minimal supervision and within deadlines.\n",
      "Management and development of upcoming audit talent.\n",
      "Supervision & training of staff\n",
      "Financial management of portfolio taking control of WIP, billing and debt management.\n",
      "Involvement in business development, including maintaining own key contacts and fostering new relationships.\n",
      "Maintaining a good level of technical knowledge and being able to independently research issues forming your own solutions.\n",
      "The Person\n",
      "ACA/ ACCA qualified or equivalent.\n",
      "Solid experience in an accountancy practice working in an Audit focused role.\n",
      "Strong technical understanding of accounting and auditing standards.\n",
      "Excellent communication skills and ability to build strong client and team relationships.\n",
      "Ability to manage complicated projects and multiple stakeholders.\n",
      "Can build trusted relationships with clients and colleagues.\n",
      "Produces high quality work to a good technical standard.\n",
      "Strong organisational skills to effectively prioritise high volumes of work.\n",
      "Anticipates and resolves problems at an early stage to keep assignments on budget.\n",
      "Can identify opportunities for growth within existing client base and when to involve other service lines.\n",
      "Takes an active role in developing the team providing day to day support on technical and other matters.\n",
      "Experience in leading group audits and the preparation of consolidated accounts.\n",
      "Previous use of CaseWare or Mercia methodologies is desirable.\n",
      "Key Benefits We Offer, But Not Limited To\n",
      "Competitive base salary (we do yearly market research to ensure we offer a competitive salary to our employees and joining candidates)\n",
      "33 days annual leave entitlement a year inc. bank holidays (31.5 days for trainees)\n",
      "Annual buy and sell leave scheme.\n",
      "Private Medical Cover available to all employees (trainees can opt in for a salary sacrifice)\n",
      "Private Pension Matching Scheme: if employee contributes 2.5-5%, we match it and add another 3% on top!\n",
      "Employee Referral Bonus up to £10,000 for a successful placement\n",
      "Reimbursement of one professional subscription each year\n",
      "Dress for your day policy – you decide, not us!\n",
      "Life Assurance 4x your salary\n",
      "Group Income Protection – 75% of salary if long term sickness exceeds 6 months.\n",
      "Agile Working is embedded in our culture: we understand that everyone works in different ways and need flexibility within their working day.\n",
      "Learning and Development opportunities and Study Support throughout your Menzies career\n",
      "Career Coaching programme for Managers and above\n",
      "Better Place to Work Initiative: proactive benchmarking of the best DEI and wellbeing programmes to offer our employees and improve our employee experience.\n",
      "CSR Programme: each office will be involved in various charity and sporting activities to help raise funds and give back to the local community.\n",
      "Employee Assistance Programme - our EAP is available for all Menzies employees and their families. As well as being a support line for mental health counselling, it also offers practical financial, legal and life management advice 24 /7 and is completely confidential.\n",
      "Paid sick leave – a generous scheme to help you when you are struggling with health issues.\n",
      "Free flu jab, eyesight test and physical health checks\n",
      "Cycle to work scheme.\n",
      "Enhanced Parental + Family Leave: We are a place where you can combine both a career and a family so those going on Maternity Leave can expect 100% pay for 3 months and 50% pay for the next 6 weeks, those going on Paternity Leave can expect 100% pay for 2 weeks (both subject to eligibility). We also have Adoption and Shared Parental Leave\n",
      "Volunteering Scheme with a maximum of 2.5 days given by the Firm to match 2.5 days devoted to qualifying schemes by the employee in any 12-month period.\n",
      "Season Ticket Loan\n",
      "To find out more about our benefits please read here\n",
      "About Us\n",
      "Our focus at Menzies is providing a\n",
      "#BrighterThinking\n",
      "approach, going the extra mile to keep clients on-track to achieve their personal and business objectives. As a leading UK accountancy and advisory firm, we have a passion for advising entrepreneurs and SMEs through our sector-led teams.\n",
      "We apply the same principles to individuals within the Firm. Our people are ambitious, self-motivated, and encouraged to develop their skill set and realise their potential.\n",
      "#BrighterThinking\n",
      "is how we sum up the difference we make, as a firm, to our clients and in the way we hire and develop talent in Menzies. It’s finance and accounting expertise, combined with strategic commercial thinking and a promise to add real value across all areas of our clients' businesses.\n",
      "Agencies\n",
      "When we require external assistance with our vacancies, we will reach out to our PSL supply chain. Please be aware that we operate a very strict PSL policy with close relationships with our suppliers and cannot respond to agencies outside of the PSL. Please do not contact individual hiring managers.\n",
      "For further information, and to apply, please visit our website via the “Apply” button below.\n",
      "Show more\n",
      "Show less\n",
      "Audit, Financial statements, FRS102, IFRS, Accounting standards, Auditing standards, Client meetings, Project management, Stakeholder management, Technical knowledge, Research, Problem solving, Teamwork, Communication skills, Relationship building, Quality assurance, Organizational skills, Time management, Budgeting, Business development, Leadership, Mentoring, Training, CaseWare, Mercia methodologies\n",
      "\n",
      "******************************************************\n",
      "\n",
      "audit manager menzies llp looking experienced audit manager join growing audit assurance department stevenage office role ambitious candidate embraces core values whilst supporting audit partners helping clients achieve aspirations developing audit team hybrid working policy career sponsor excellent support personal career development opportunities join menzies uk based recognised employer choice office locations london surrey hampshire south wales cardiff join family 500 employees member number offer dynamic rewarding environment exposure diverse range clients industry sectors package benefits competitive work life balance part organisational culture believe developing staff throughout career key duties responsibilities management audit focussed portfolio clients overseeing preparation financial statements frs102 ifrs attendance contributions client meetings completing audits minimal supervision within deadlines management development upcoming audit talent supervision training staff financial management portfolio taking control wip billing debt management involvement business development including maintaining key contacts fostering new relationships maintaining good level technical knowledge able independently research issues forming solutions person aca acca qualified equivalent solid experience accountancy practice working audit focused role strong technical understanding accounting auditing standards excellent communication skills ability build strong client team relationships ability manage complicated projects multiple stakeholders build trusted relationships clients colleagues produces high quality work good technical standard strong organisational skills effectively prioritise high volumes work anticipates resolves problems early stage keep assignments budget identify opportunities growth within existing client base involve service lines takes active role developing team providing day day support technical matters experience leading group audits preparation consolidated accounts previous use caseware mercia methodologies desirable key benefits offer limited competitive base salary yearly market research ensure offer competitive salary employees joining candidates 33 days annual leave entitlement year inc bank holidays 31.5 days trainees annual buy sell leave scheme private medical cover available employees trainees opt salary sacrifice private pension matching scheme employee contributes 2.5-5% match add another 3% top employee referral bonus 10000 successful placement reimbursement one professional subscription year dress day policy decide us life assurance 4x salary group income protection 75% salary long term sickness exceeds 6 months agile working embedded culture understand everyone works different ways need flexibility within working day learning development opportunities study support throughout menzies career career coaching programme managers better place work initiative proactive benchmarking best dei wellbeing programmes offer employees improve employee experience csr programme office involved various charity sporting activities help raise funds give back local community employee assistance programme eap available menzies employees families well support line mental health counselling also offers practical financial legal life management advice 24 7 completely confidential paid sick leave generous scheme help struggling health issues free flu jab eyesight test physical health checks cycle work scheme enhanced parental family leave place combine career family going maternity leave expect 100% pay 3 months 50% pay next 6 weeks going paternity leave expect 100% pay 2 weeks subject eligibility also adoption shared parental leave volunteering scheme maximum 2.5 days given firm match 2.5 days devoted qualifying schemes employee 12month period season ticket loan find benefits please read us focus menzies providing brighterthinking approach going extra mile keep clients ontrack achieve personal business objectives leading uk accountancy advisory firm passion advising entrepreneurs smes sectorled teams apply principles individuals within firm people ambitious selfmotivated encouraged develop skill set realise potential brighterthinking sum difference make firm clients way hire develop talent menzies finance accounting expertise combined strategic commercial thinking promise add real value across areas clients businesses agencies require external assistance vacancies reach psl supply chain please aware operate strict psl policy close relationships suppliers cannot respond agencies outside psl please contact individual hiring managers information apply please visit website via apply button audit financial statements frs102 ifrs accounting standards auditing standards client meetings project management stakeholder management technical knowledge research problem solving teamwork communication skills relationship building quality assurance organizational skills time management budgeting business development leadership mentoring training caseware mercia methodologies\n"
     ]
    }
   ],
   "source": [
    "print(df.iloc[1]['job_data'])\n",
    "print(\"\\n******************************************************\\n\")\n",
    "print(df.iloc[1]['job_data_preprocessed'])"
   ]
  },
  {
   "cell_type": "code",
   "execution_count": 10,
   "id": "3fbfe1054b16c964",
   "metadata": {
    "collapsed": false,
    "ExecuteTime": {
     "end_time": "2025-03-10T04:02:15.419655Z",
     "start_time": "2025-03-10T04:02:15.417224Z"
    }
   },
   "outputs": [
    {
     "name": "stdout",
     "output_type": "stream",
     "text": [
      "**Christina Padilla DVM**\n",
      "\n",
      "*Email: christinapadilladmv@email.com* | *Phone: (123) 456-7890* | *LinkedIn: linkedin.com/in/christinapadilladmv*\n",
      "\n",
      "**Professional Summary**\n",
      "\n",
      "Highly motivated and dedicated professional with a strong background in financial management and auditing, seeking to transition into an Audit Manager role. Demonstrated experience in managing financial statements, conducting audits, and leading teams. Proficient in FRS102 and IFRS, with a solid understanding of accounting and auditing standards.\n",
      "\n",
      "**Skills**\n",
      "\n",
      "*Primary Skills*: Financial Management, Auditing, Team Leadership, Communication, Relationship Building\n",
      "\n",
      "*Technical Competencies*: FRS102, IFRS, Financial Statements, Accounting Standards, Auditing Standards, Client Meetings, Project Management, Stakeholder Management, Technical Knowledge, Research, Problem Solving\n",
      "\n",
      "*Complementary Abilities*: Organizational Skills, Time Management, Budgeting, Business Development, Mentoring, Training\n",
      "\n",
      "**Work Experience**\n",
      "\n",
      "*Financial Analyst, XYZ Corporation (2018-2022)*\n",
      "\n",
      "- Managed financial statements and conducted internal audits for a portfolio of clients, ensuring compliance with FRS102 and IFRS.\n",
      "- Collaborated with cross-functional teams to analyze financial data and provide recommendations for process improvements.\n",
      "- Led a team of 3 junior analysts, providing guidance and support in financial analysis and auditing tasks.\n",
      "\n",
      "*Senior Accountant, ABC Firm (2015-2018)*\n",
      "\n",
      "- Prepared financial statements and managed audit processes for small to medium-sized businesses.\n",
      "- Assisted in the development and implementation of new accounting policies and procedures.\n",
      "- Conducted research on accounting and auditing standards to ensure compliance and best practices.\n",
      "\n",
      "**Projects**\n",
      "\n",
      "*Implementation of New Accounting Software, ABC Firm (2017)*\n",
      "\n",
      "- Led a team of 2 accountants in the evaluation, selection, and implementation of a new accounting software system.\n",
      "- Resulted in a 25% increase in efficiency and accuracy of financial reporting.\n",
      "\n",
      "**Education**\n",
      "\n",
      "*Master of Science in Accounting, University of California, Berkeley (2014)*\n",
      "\n",
      "*Bachelor of Science in Business Administration, University of Southern California (2012)*\n",
      "\n",
      "**Certifications**\n",
      "\n",
      "*Certified Public Accountant (CPA), American Institute of Certified Public Accountants (AICPA) (2015)*\n",
      "\n",
      "**Publications/Research**\n",
      "\n",
      "*The Impact of New Accounting Standards on Small Businesses, Journal of Accounting and Finance (2016)*\n",
      "\n",
      "**Awards/Recognition**\n",
      "\n",
      "*Outstanding Performance Award, XYZ Corporation (2021)*\n",
      "\n",
      "*Employee of the Month, ABC Firm (2016)*\n",
      "\n",
      "\n",
      "******************************************************\n",
      "\n",
      "christina padilla dvm email christinapadilladmvemailcom phone 123 456-7890 linkedin linkedincom christinapadilladmv professional summary highly motivated dedicated professional strong background financial management auditing seeking transition audit manager role demonstrated experience managing financial statements conducting audits leading teams proficient frs102 ifrs solid understanding accounting auditing standards skills primary skills financial management auditing team leadership communication relationship building technical competencies frs102 ifrs financial statements accounting standards auditing standards client meetings project management stakeholder management technical knowledge research problem solving complementary abilities organizational skills time management budgeting business development mentoring training work experience financial analyst xyz corporation 2018-2022 managed financial statements conducted internal audits portfolio clients ensuring compliance frs102 ifrs collaborated crossfunctional teams analyze financial data provide recommendations process improvements led team 3 junior analysts providing guidance support financial analysis auditing tasks senior accountant abc firm 2015-2018 prepared financial statements managed audit processes small mediumsized businesses assisted development implementation new accounting policies procedures conducted research accounting auditing standards ensure compliance best practices projects implementation new accounting software abc firm 2017 led team 2 accountants evaluation selection implementation new accounting software system resulted 25% increase efficiency accuracy financial reporting education master science accounting university california berkeley 2014 bachelor science business administration university southern california 2012 certifications certified public accountant cpa american institute certified public accountants aicpa 2015 publications research impact new accounting standards small businesses journal accounting finance 2016 awards recognition outstanding performance award xyz corporation 2021 employee month abc firm 2016\n"
     ]
    }
   ],
   "source": [
    "print(df.iloc[1]['resume_data'])\n",
    "print(\"\\n******************************************************\\n\")\n",
    "print(df.iloc[1]['resume_data_preprocessed'])"
   ]
  },
  {
   "cell_type": "markdown",
   "id": "bbe64610082e1472",
   "metadata": {
    "collapsed": false
   },
   "source": [
    "## Modelling: Sentence Embeddings"
   ]
  },
  {
   "cell_type": "markdown",
   "id": "dd359693dd7374d8",
   "metadata": {
    "collapsed": false
   },
   "source": [
    "### Utility functions"
   ]
  },
  {
   "cell_type": "code",
   "execution_count": 11,
   "id": "94c938ad5dae2b04",
   "metadata": {
    "collapsed": false,
    "ExecuteTime": {
     "end_time": "2025-03-10T04:02:15.424969Z",
     "start_time": "2025-03-10T04:02:15.420316Z"
    }
   },
   "outputs": [],
   "source": [
    "def cross_validation_scores(model, X, y, n_splits=5):\n",
    "    # Define k-fold cross-validation\n",
    "    kf = KFold(n_splits=5, shuffle=True, random_state=42)\n",
    "    \n",
    "    # Perform cross-validation\n",
    "    scores = cross_val_score(model, X, y, cv=kf, scoring='accuracy')\n",
    "    \n",
    "    # Print results\n",
    "    print(f\"Cross-validation scores: {scores}\")\n",
    "    print(f\"Mean accuracy: {scores.mean():.4f}\")\n",
    "    print(f\"Standard deviation: {scores.std():.4f}\")\n",
    "    \n",
    "    \n",
    "def plot_confusion_matrix(y_true, y_pred, labels=None, title=\"Confusion Matrix\"):\n",
    "    \"\"\"\n",
    "    Displays a confusion matrix using seaborn heatmap.\n",
    "\n",
    "    Parameters:\n",
    "    y_true : list or array\n",
    "        True labels.\n",
    "    y_pred : list or array\n",
    "        Predicted labels.\n",
    "    labels : list, optional\n",
    "        Class labels for the confusion matrix.\n",
    "    title : str, optional\n",
    "        Title of the plot.\n",
    "    \"\"\"\n",
    "    cm = confusion_matrix(y_true, y_pred, labels=labels)\n",
    "    plt.figure(figsize=(8, 7))\n",
    "    sns.heatmap(cm, annot=True, fmt='d', cmap='Blues', xticklabels=labels, yticklabels=labels)\n",
    "    plt.xlabel(\"Predicted Label\")\n",
    "    plt.ylabel(\"True Label\")\n",
    "    plt.title(title)\n",
    "    plt.show()\n",
    "\n",
    "\n",
    "def chunk_text(text, max_length=512, overlap=50):\n",
    "    \"\"\"\n",
    "    Splits text into overlapping chunks.\n",
    "    \"\"\"\n",
    "    words = text.split()\n",
    "    chunks = []\n",
    "    for i in range(0, len(words), max_length - overlap):\n",
    "        chunk = \" \".join(words[i:i+max_length])\n",
    "        chunks.append(chunk)\n",
    "        if i + max_length >= len(words):\n",
    "            break\n",
    "    return chunks\n",
    "\n",
    "def get_text_embedding(text, model):\n",
    "    \"\"\"\n",
    "    Converts large text into embeddings using chunking + mean pooling.\n",
    "    \"\"\"\n",
    "    chunks = chunk_text(text)\n",
    "    embeddings = model.encode(chunks, convert_to_numpy=True)  # Get embeddings\n",
    "    return np.mean(embeddings, axis=0)  # Aggregate embeddings using mean pooling"
   ]
  },
  {
   "cell_type": "markdown",
   "id": "460289c62e12cd49",
   "metadata": {
    "collapsed": false
   },
   "source": [
    "### Generating embeddings"
   ]
  },
  {
   "cell_type": "code",
   "execution_count": 12,
   "id": "33b8a6de1385d511",
   "metadata": {
    "collapsed": false,
    "ExecuteTime": {
     "end_time": "2025-03-10T04:02:17.169802Z",
     "start_time": "2025-03-10T04:02:15.425636Z"
    }
   },
   "outputs": [],
   "source": [
    "embedding_df = pd.DataFrame()\n",
    "\n",
    "# Load a Transformer model\n",
    "embedding_model = SentenceTransformer('all-mpnet-base-v2') #768 dimension vector space\n"
   ]
  },
  {
   "cell_type": "code",
   "execution_count": 13,
   "id": "c636502b-627d-4b34-933c-0ca94953f3f7",
   "metadata": {
    "ExecuteTime": {
     "end_time": "2025-03-10T04:14:55.668046Z",
     "start_time": "2025-03-10T04:02:17.171820Z"
    }
   },
   "outputs": [
    {
     "data": {
      "text/plain": "           f_1       f_2           f_3       f_4       f_5       f_6  \\\n0     0.039902  0.019237  3.259629e-07  0.005269 -0.005995  0.022996   \n1     0.033731  0.014575 -1.989282e-03  0.001785 -0.006413  0.027760   \n2     0.032892  0.013800  3.890766e-03  0.003200 -0.017978  0.023132   \n3     0.033019  0.014608 -9.375568e-04  0.002512 -0.012864  0.027180   \n4     0.044420  0.040932 -2.001518e-02  0.004388  0.007145  0.024370   \n...        ...       ...           ...       ...       ...       ...   \n3995  0.017596 -0.016783 -4.980309e-02 -0.021874  0.006161  0.009479   \n3996  0.013627 -0.000653 -3.760924e-02 -0.009146 -0.013077 -0.003855   \n3997  0.025036 -0.016127 -4.624021e-02 -0.012599  0.023608 -0.001605   \n3998  0.002439 -0.027380 -4.248336e-02 -0.004193  0.021859  0.002401   \n3999 -0.000543 -0.009291 -4.387990e-02  0.010432  0.021729  0.006782   \n\n           f_7       f_8       f_9      f_10  ...     f_759     f_760  \\\n0    -0.020843  0.038934 -0.045135 -0.052423  ...  0.004539 -0.016708   \n1    -0.030911  0.041761 -0.042073 -0.043781  ... -0.003496 -0.017285   \n2    -0.029153  0.044440 -0.042092 -0.054451  ... -0.003161 -0.019347   \n3    -0.033369  0.044740 -0.039306 -0.049283  ... -0.003470 -0.019564   \n4    -0.032387  0.031219 -0.015131 -0.041179  ... -0.023790  0.034369   \n...        ...       ...       ...       ...  ...       ...       ...   \n3995  0.060287  0.027132 -0.001314 -0.017136  ...  0.009589  0.005898   \n3996 -0.006985  0.037001  0.003450 -0.058174  ... -0.012531  0.014639   \n3997  0.033035  0.004007 -0.009291 -0.077884  ... -0.016660  0.019386   \n3998  0.037243  0.029400 -0.029422 -0.069642  ... -0.008167  0.021736   \n3999  0.029098  0.035559 -0.010102 -0.068651  ... -0.008195  0.020818   \n\n         f_761     f_762     f_763     f_764     f_765     f_766     f_767  \\\n0    -0.007673  0.048415 -0.037936 -0.033232  0.032828  0.004612  0.016106   \n1    -0.028689  0.062904 -0.032291 -0.030862  0.046561  0.005631  0.025243   \n2    -0.020028  0.058405 -0.027469 -0.035354  0.044262  0.005733  0.033439   \n3    -0.019259  0.062359 -0.029758 -0.030552  0.041913  0.006736  0.028268   \n4    -0.066056  0.075000 -0.023851 -0.032413  0.012431 -0.022404  0.020373   \n...        ...       ...       ...       ...       ...       ...       ...   \n3995 -0.003005  0.019375 -0.050704  0.031338 -0.019991 -0.011120 -0.013836   \n3996  0.019925  0.022123 -0.023571 -0.003405 -0.033593 -0.011541  0.027266   \n3997  0.046822  0.008919 -0.005116  0.025305 -0.023257 -0.021600  0.006096   \n3998  0.030660  0.012810 -0.006992  0.029361 -0.022041 -0.024703  0.002900   \n3999  0.036730  0.017834 -0.014122  0.038759 -0.022205 -0.018707  0.008897   \n\n         f_768  \n0    -0.016075  \n1    -0.011054  \n2    -0.012772  \n3    -0.014451  \n4    -0.028323  \n...        ...  \n3995 -0.036627  \n3996 -0.023856  \n3997 -0.037539  \n3998 -0.028889  \n3999 -0.028932  \n\n[4000 rows x 768 columns]",
      "text/html": "<div>\n<style scoped>\n    .dataframe tbody tr th:only-of-type {\n        vertical-align: middle;\n    }\n\n    .dataframe tbody tr th {\n        vertical-align: top;\n    }\n\n    .dataframe thead th {\n        text-align: right;\n    }\n</style>\n<table border=\"1\" class=\"dataframe\">\n  <thead>\n    <tr style=\"text-align: right;\">\n      <th></th>\n      <th>f_1</th>\n      <th>f_2</th>\n      <th>f_3</th>\n      <th>f_4</th>\n      <th>f_5</th>\n      <th>f_6</th>\n      <th>f_7</th>\n      <th>f_8</th>\n      <th>f_9</th>\n      <th>f_10</th>\n      <th>...</th>\n      <th>f_759</th>\n      <th>f_760</th>\n      <th>f_761</th>\n      <th>f_762</th>\n      <th>f_763</th>\n      <th>f_764</th>\n      <th>f_765</th>\n      <th>f_766</th>\n      <th>f_767</th>\n      <th>f_768</th>\n    </tr>\n  </thead>\n  <tbody>\n    <tr>\n      <th>0</th>\n      <td>0.039902</td>\n      <td>0.019237</td>\n      <td>3.259629e-07</td>\n      <td>0.005269</td>\n      <td>-0.005995</td>\n      <td>0.022996</td>\n      <td>-0.020843</td>\n      <td>0.038934</td>\n      <td>-0.045135</td>\n      <td>-0.052423</td>\n      <td>...</td>\n      <td>0.004539</td>\n      <td>-0.016708</td>\n      <td>-0.007673</td>\n      <td>0.048415</td>\n      <td>-0.037936</td>\n      <td>-0.033232</td>\n      <td>0.032828</td>\n      <td>0.004612</td>\n      <td>0.016106</td>\n      <td>-0.016075</td>\n    </tr>\n    <tr>\n      <th>1</th>\n      <td>0.033731</td>\n      <td>0.014575</td>\n      <td>-1.989282e-03</td>\n      <td>0.001785</td>\n      <td>-0.006413</td>\n      <td>0.027760</td>\n      <td>-0.030911</td>\n      <td>0.041761</td>\n      <td>-0.042073</td>\n      <td>-0.043781</td>\n      <td>...</td>\n      <td>-0.003496</td>\n      <td>-0.017285</td>\n      <td>-0.028689</td>\n      <td>0.062904</td>\n      <td>-0.032291</td>\n      <td>-0.030862</td>\n      <td>0.046561</td>\n      <td>0.005631</td>\n      <td>0.025243</td>\n      <td>-0.011054</td>\n    </tr>\n    <tr>\n      <th>2</th>\n      <td>0.032892</td>\n      <td>0.013800</td>\n      <td>3.890766e-03</td>\n      <td>0.003200</td>\n      <td>-0.017978</td>\n      <td>0.023132</td>\n      <td>-0.029153</td>\n      <td>0.044440</td>\n      <td>-0.042092</td>\n      <td>-0.054451</td>\n      <td>...</td>\n      <td>-0.003161</td>\n      <td>-0.019347</td>\n      <td>-0.020028</td>\n      <td>0.058405</td>\n      <td>-0.027469</td>\n      <td>-0.035354</td>\n      <td>0.044262</td>\n      <td>0.005733</td>\n      <td>0.033439</td>\n      <td>-0.012772</td>\n    </tr>\n    <tr>\n      <th>3</th>\n      <td>0.033019</td>\n      <td>0.014608</td>\n      <td>-9.375568e-04</td>\n      <td>0.002512</td>\n      <td>-0.012864</td>\n      <td>0.027180</td>\n      <td>-0.033369</td>\n      <td>0.044740</td>\n      <td>-0.039306</td>\n      <td>-0.049283</td>\n      <td>...</td>\n      <td>-0.003470</td>\n      <td>-0.019564</td>\n      <td>-0.019259</td>\n      <td>0.062359</td>\n      <td>-0.029758</td>\n      <td>-0.030552</td>\n      <td>0.041913</td>\n      <td>0.006736</td>\n      <td>0.028268</td>\n      <td>-0.014451</td>\n    </tr>\n    <tr>\n      <th>4</th>\n      <td>0.044420</td>\n      <td>0.040932</td>\n      <td>-2.001518e-02</td>\n      <td>0.004388</td>\n      <td>0.007145</td>\n      <td>0.024370</td>\n      <td>-0.032387</td>\n      <td>0.031219</td>\n      <td>-0.015131</td>\n      <td>-0.041179</td>\n      <td>...</td>\n      <td>-0.023790</td>\n      <td>0.034369</td>\n      <td>-0.066056</td>\n      <td>0.075000</td>\n      <td>-0.023851</td>\n      <td>-0.032413</td>\n      <td>0.012431</td>\n      <td>-0.022404</td>\n      <td>0.020373</td>\n      <td>-0.028323</td>\n    </tr>\n    <tr>\n      <th>...</th>\n      <td>...</td>\n      <td>...</td>\n      <td>...</td>\n      <td>...</td>\n      <td>...</td>\n      <td>...</td>\n      <td>...</td>\n      <td>...</td>\n      <td>...</td>\n      <td>...</td>\n      <td>...</td>\n      <td>...</td>\n      <td>...</td>\n      <td>...</td>\n      <td>...</td>\n      <td>...</td>\n      <td>...</td>\n      <td>...</td>\n      <td>...</td>\n      <td>...</td>\n      <td>...</td>\n    </tr>\n    <tr>\n      <th>3995</th>\n      <td>0.017596</td>\n      <td>-0.016783</td>\n      <td>-4.980309e-02</td>\n      <td>-0.021874</td>\n      <td>0.006161</td>\n      <td>0.009479</td>\n      <td>0.060287</td>\n      <td>0.027132</td>\n      <td>-0.001314</td>\n      <td>-0.017136</td>\n      <td>...</td>\n      <td>0.009589</td>\n      <td>0.005898</td>\n      <td>-0.003005</td>\n      <td>0.019375</td>\n      <td>-0.050704</td>\n      <td>0.031338</td>\n      <td>-0.019991</td>\n      <td>-0.011120</td>\n      <td>-0.013836</td>\n      <td>-0.036627</td>\n    </tr>\n    <tr>\n      <th>3996</th>\n      <td>0.013627</td>\n      <td>-0.000653</td>\n      <td>-3.760924e-02</td>\n      <td>-0.009146</td>\n      <td>-0.013077</td>\n      <td>-0.003855</td>\n      <td>-0.006985</td>\n      <td>0.037001</td>\n      <td>0.003450</td>\n      <td>-0.058174</td>\n      <td>...</td>\n      <td>-0.012531</td>\n      <td>0.014639</td>\n      <td>0.019925</td>\n      <td>0.022123</td>\n      <td>-0.023571</td>\n      <td>-0.003405</td>\n      <td>-0.033593</td>\n      <td>-0.011541</td>\n      <td>0.027266</td>\n      <td>-0.023856</td>\n    </tr>\n    <tr>\n      <th>3997</th>\n      <td>0.025036</td>\n      <td>-0.016127</td>\n      <td>-4.624021e-02</td>\n      <td>-0.012599</td>\n      <td>0.023608</td>\n      <td>-0.001605</td>\n      <td>0.033035</td>\n      <td>0.004007</td>\n      <td>-0.009291</td>\n      <td>-0.077884</td>\n      <td>...</td>\n      <td>-0.016660</td>\n      <td>0.019386</td>\n      <td>0.046822</td>\n      <td>0.008919</td>\n      <td>-0.005116</td>\n      <td>0.025305</td>\n      <td>-0.023257</td>\n      <td>-0.021600</td>\n      <td>0.006096</td>\n      <td>-0.037539</td>\n    </tr>\n    <tr>\n      <th>3998</th>\n      <td>0.002439</td>\n      <td>-0.027380</td>\n      <td>-4.248336e-02</td>\n      <td>-0.004193</td>\n      <td>0.021859</td>\n      <td>0.002401</td>\n      <td>0.037243</td>\n      <td>0.029400</td>\n      <td>-0.029422</td>\n      <td>-0.069642</td>\n      <td>...</td>\n      <td>-0.008167</td>\n      <td>0.021736</td>\n      <td>0.030660</td>\n      <td>0.012810</td>\n      <td>-0.006992</td>\n      <td>0.029361</td>\n      <td>-0.022041</td>\n      <td>-0.024703</td>\n      <td>0.002900</td>\n      <td>-0.028889</td>\n    </tr>\n    <tr>\n      <th>3999</th>\n      <td>-0.000543</td>\n      <td>-0.009291</td>\n      <td>-4.387990e-02</td>\n      <td>0.010432</td>\n      <td>0.021729</td>\n      <td>0.006782</td>\n      <td>0.029098</td>\n      <td>0.035559</td>\n      <td>-0.010102</td>\n      <td>-0.068651</td>\n      <td>...</td>\n      <td>-0.008195</td>\n      <td>0.020818</td>\n      <td>0.036730</td>\n      <td>0.017834</td>\n      <td>-0.014122</td>\n      <td>0.038759</td>\n      <td>-0.022205</td>\n      <td>-0.018707</td>\n      <td>0.008897</td>\n      <td>-0.028932</td>\n    </tr>\n  </tbody>\n</table>\n<p>4000 rows × 768 columns</p>\n</div>"
     },
     "execution_count": 13,
     "metadata": {},
     "output_type": "execute_result"
    }
   ],
   "source": [
    "# Compute embeddings\n",
    "overall_data = \"Job Description:\\n\" + df['job_data_preprocessed'] + \"\\nResume:\\n\" + df['resume_data_preprocessed'] \n",
    "overall_d1 = overall_data.apply(lambda x: get_text_embedding(x, embedding_model))\n",
    "\n",
    "embedding_df = pd.DataFrame(overall_d1.tolist(), index=df.index, columns = [f\"f_{i+1}\" for i in range(len(overall_d1.tolist()[0]))])\n",
    "embedding_df"
   ]
  },
  {
   "cell_type": "markdown",
   "id": "5f56f728d50e54a9",
   "metadata": {
    "collapsed": false
   },
   "source": [
    "### Defining X and y"
   ]
  },
  {
   "cell_type": "code",
   "execution_count": 14,
   "id": "c0f6727c80883642",
   "metadata": {
    "collapsed": false,
    "ExecuteTime": {
     "end_time": "2025-03-10T04:14:55.679862Z",
     "start_time": "2025-03-10T04:14:55.672385Z"
    }
   },
   "outputs": [],
   "source": [
    "# Stack embeddings horizontally\n",
    "X = embedding_df.copy()\n",
    "y = df['label']"
   ]
  },
  {
   "cell_type": "markdown",
   "id": "1eee1875ec1e1e00",
   "metadata": {
    "collapsed": false
   },
   "source": [
    "### Train Test split"
   ]
  },
  {
   "cell_type": "code",
   "execution_count": 15,
   "id": "57e6ebaeee899b25",
   "metadata": {
    "collapsed": false,
    "ExecuteTime": {
     "end_time": "2025-03-10T04:14:55.744359Z",
     "start_time": "2025-03-10T04:14:55.682203Z"
    }
   },
   "outputs": [
    {
     "name": "stdout",
     "output_type": "stream",
     "text": [
      "Train data shape:  (3200, 768)\n",
      "Test data shape:  (800, 768)\n"
     ]
    }
   ],
   "source": [
    "# Assuming X contains features and y contains labels\n",
    "X_train, X_test, y_train, y_test = train_test_split(X, y, test_size=0.2, stratify=y)\n",
    "\n",
    "print(\"Train data shape: \", X_train.shape)\n",
    "print(\"Test data shape: \", X_test.shape)"
   ]
  },
  {
   "cell_type": "markdown",
   "id": "f27261b9d9331f1a",
   "metadata": {
    "collapsed": false
   },
   "source": [
    "### DecisionTreeClassifier"
   ]
  },
  {
   "cell_type": "code",
   "execution_count": 16,
   "id": "4aab57ffb0cab09b",
   "metadata": {
    "collapsed": false,
    "ExecuteTime": {
     "end_time": "2025-03-10T04:15:05.081769Z",
     "start_time": "2025-03-10T04:14:55.745007Z"
    }
   },
   "outputs": [
    {
     "name": "stdout",
     "output_type": "stream",
     "text": [
      "Cross-validation scores: [0.36875   0.3765625 0.3703125 0.4109375 0.403125 ]\n",
      "Mean accuracy: 0.3859\n",
      "Standard deviation: 0.0176\n"
     ]
    }
   ],
   "source": [
    "model_4class = DecisionTreeClassifier(random_state=42)  # Example model\n",
    "cross_validation_scores(model_4class, X_train, y_train, n_splits=5)"
   ]
  },
  {
   "cell_type": "code",
   "execution_count": 17,
   "id": "daa891ccaff03ca7",
   "metadata": {
    "collapsed": false,
    "ExecuteTime": {
     "end_time": "2025-03-10T04:15:06.969721Z",
     "start_time": "2025-03-10T04:15:05.083182Z"
    }
   },
   "outputs": [
    {
     "name": "stdout",
     "output_type": "stream",
     "text": [
      "\n",
      "Classification Report:\n",
      "                   precision    recall  f1-score   support\n",
      "\n",
      "Complete Mismatch       0.61      0.57      0.59       200\n",
      "         Good Fit       0.26      0.30      0.28       200\n",
      "    Overqualified       0.31      0.29      0.30       200\n",
      "    Underwhelming       0.36      0.35      0.36       200\n",
      "\n",
      "         accuracy                           0.38       800\n",
      "        macro avg       0.39      0.38      0.38       800\n",
      "     weighted avg       0.39      0.38      0.38       800\n"
     ]
    }
   ],
   "source": [
    "# Train model on full training set\n",
    "model_4class.fit(X_train, y_train)\n",
    "\n",
    "# Evaluate on test set\n",
    "y_pred = model_4class.predict(X_test)\n",
    "\n",
    "print(\"\\nClassification Report:\")\n",
    "print(classification_report(y_test, y_pred))"
   ]
  },
  {
   "cell_type": "code",
   "execution_count": 18,
   "id": "a65bb4c8ca3c9fe1",
   "metadata": {
    "collapsed": false,
    "ExecuteTime": {
     "end_time": "2025-03-10T04:15:07.366142Z",
     "start_time": "2025-03-10T04:15:06.970612Z"
    }
   },
   "outputs": [
    {
     "data": {
      "text/plain": "<Figure size 800x700 with 2 Axes>",
      "image/png": "[encoded data removed]"
     },
     "metadata": {},
     "output_type": "display_data"
    }
   ],
   "source": [
    "plot_confusion_matrix(y_test, y_pred, [\"Complete Mismatch\", \"Good Fit\", \"Overqualified\", \"Underwhelming\"])"
   ]
  },
  {
   "cell_type": "markdown",
   "id": "fbbb29ed9ac18b6a",
   "metadata": {
    "collapsed": false
   },
   "source": [
    "### RandomForestClassifier"
   ]
  },
  {
   "cell_type": "code",
   "execution_count": 19,
   "id": "3f9b234e0f61533d",
   "metadata": {
    "collapsed": false,
    "ExecuteTime": {
     "end_time": "2025-03-10T04:15:24.612785Z",
     "start_time": "2025-03-10T04:15:07.367207Z"
    }
   },
   "outputs": [
    {
     "name": "stdout",
     "output_type": "stream",
     "text": [
      "Cross-validation scores: [0.4453125 0.4484375 0.4359375 0.465625  0.4390625]\n",
      "Mean accuracy: 0.4469\n",
      "Standard deviation: 0.0104\n"
     ]
    }
   ],
   "source": [
    "model_4class = RandomForestClassifier(random_state=42)  # Example model\n",
    "cross_validation_scores(model_4class, X_train, y_train, n_splits=5)"
   ]
  },
  {
   "cell_type": "code",
   "execution_count": 20,
   "id": "87bf092b91d34cca",
   "metadata": {
    "collapsed": false,
    "ExecuteTime": {
     "end_time": "2025-03-10T04:15:29.189418Z",
     "start_time": "2025-03-10T04:15:24.614505Z"
    }
   },
   "outputs": [
    {
     "name": "stdout",
     "output_type": "stream",
     "text": [
      "\n",
      "Classification Report:\n",
      "                   precision    recall  f1-score   support\n",
      "\n",
      "Complete Mismatch       0.87      0.86      0.86       200\n",
      "         Good Fit       0.24      0.27      0.25       200\n",
      "    Overqualified       0.39      0.37      0.38       200\n",
      "    Underwhelming       0.42      0.40      0.41       200\n",
      "\n",
      "         accuracy                           0.47       800\n",
      "        macro avg       0.48      0.47      0.48       800\n",
      "     weighted avg       0.48      0.47      0.48       800\n"
     ]
    }
   ],
   "source": [
    "# Train model on full training set\n",
    "model_4class.fit(X_train, y_train)\n",
    "\n",
    "# Evaluate on test set\n",
    "y_pred = model_4class.predict(X_test)\n",
    "\n",
    "print(\"\\nClassification Report:\")\n",
    "print(classification_report(y_test, y_pred))"
   ]
  },
  {
   "cell_type": "code",
   "execution_count": 21,
   "id": "aded14e3e43ca406",
   "metadata": {
    "collapsed": false,
    "ExecuteTime": {
     "end_time": "2025-03-10T04:15:29.307574Z",
     "start_time": "2025-03-10T04:15:29.190149Z"
    }
   },
   "outputs": [
    {
     "data": {
      "text/plain": "<Figure size 800x700 with 2 Axes>",
      "image/png": "[encoded data removed]"
     },
     "metadata": {},
     "output_type": "display_data"
    }
   ],
   "source": [
    "plot_confusion_matrix(y_test, y_pred, [\"Complete Mismatch\", \"Good Fit\", \"Overqualified\", \"Underwhelming\"])"
   ]
  },
  {
   "cell_type": "markdown",
   "source": [
    "### XGBClassifier : Multi class classification"
   ],
   "metadata": {
    "collapsed": false
   },
   "id": "bdc837de0784bd62"
  },
  {
   "cell_type": "code",
   "outputs": [
    {
     "name": "stderr",
     "output_type": "stream",
     "text": [
      "/var/folders/t5/tflj5hjs197_vv37fw2sdhdr0000gn/T/ipykernel_86690/3337498069.py:2: FutureWarning: Downcasting behavior in `replace` is deprecated and will be removed in a future version. To retain the old behavior, explicitly call `result.infer_objects(copy=False)`. To opt-in to the future behavior, set `pd.set_option('future.no_silent_downcasting', True)`\n",
      "  y = df['label'].replace({\"Complete Mismatch\": 0, \"Underwhelming\":1, \"Good Fit\":2, \"Overqualified\":3})\n"
     ]
    }
   ],
   "source": [
    "X = embedding_df.copy()\n",
    "y = df['label'].replace({\"Complete Mismatch\": 0, \"Underwhelming\":1, \"Good Fit\":2, \"Overqualified\":3})"
   ],
   "metadata": {
    "collapsed": false,
    "ExecuteTime": {
     "end_time": "2025-03-10T04:15:29.327241Z",
     "start_time": "2025-03-10T04:15:29.308596Z"
    }
   },
   "id": "ef07d6d068cd4f5",
   "execution_count": 22
  },
  {
   "cell_type": "code",
   "outputs": [
    {
     "name": "stdout",
     "output_type": "stream",
     "text": [
      "Train data shape:  (3200, 768)\n",
      "Test data shape:  (800, 768)\n"
     ]
    }
   ],
   "source": [
    "# Assuming X contains features and y contains labels\n",
    "X_train, X_test, y_train, y_test = train_test_split(X, y, test_size=0.2, stratify=y)\n",
    "\n",
    "print(\"Train data shape: \", X_train.shape)\n",
    "print(\"Test data shape: \", X_test.shape)"
   ],
   "metadata": {
    "collapsed": false,
    "ExecuteTime": {
     "end_time": "2025-03-10T04:15:29.339214Z",
     "start_time": "2025-03-10T04:15:29.327898Z"
    }
   },
   "id": "2c424f3912572365",
   "execution_count": 23
  },
  {
   "cell_type": "code",
   "outputs": [
    {
     "name": "stdout",
     "output_type": "stream",
     "text": [
      "Cross-validation scores: [0.5703125 0.5890625 0.546875  0.56875   0.534375 ]\n",
      "Mean accuracy: 0.5619\n",
      "Standard deviation: 0.0192\n"
     ]
    }
   ],
   "source": [
    "xgb_4class = XGBClassifier(random_state=42)  # Example model\n",
    "cross_validation_scores(xgb_4class, X_train, y_train, n_splits=5)"
   ],
   "metadata": {
    "collapsed": false,
    "ExecuteTime": {
     "end_time": "2025-03-10T04:16:21.485833Z",
     "start_time": "2025-03-10T04:15:29.340034Z"
    }
   },
   "id": "f9831417cf281b84",
   "execution_count": 24
  },
  {
   "cell_type": "code",
   "outputs": [
    {
     "name": "stdout",
     "output_type": "stream",
     "text": [
      "\n",
      "Classification Report:\n",
      "              precision    recall  f1-score   support\n",
      "\n",
      "           0       0.96      0.81      0.88       200\n",
      "           1       0.63      0.62      0.63       200\n",
      "           2       0.38      0.43      0.41       200\n",
      "           3       0.50      0.52      0.51       200\n",
      "\n",
      "    accuracy                           0.60       800\n",
      "   macro avg       0.62      0.60      0.61       800\n",
      "weighted avg       0.62      0.60      0.61       800\n"
     ]
    }
   ],
   "source": [
    "# Train model on full training set\n",
    "xgb_4class.fit(X_train, y_train)\n",
    "\n",
    "# Evaluate on test set\n",
    "y_pred = xgb_4class.predict(X_test)\n",
    "\n",
    "print(\"\\nClassification Report:\")\n",
    "print(classification_report(y_test, y_pred))"
   ],
   "metadata": {
    "collapsed": false,
    "ExecuteTime": {
     "end_time": "2025-03-10T04:16:33.350269Z",
     "start_time": "2025-03-10T04:16:21.486956Z"
    }
   },
   "id": "af3c1855fbb7fd61",
   "execution_count": 25
  },
  {
   "cell_type": "code",
   "outputs": [
    {
     "data": {
      "text/plain": "<Figure size 800x700 with 2 Axes>",
      "image/png": "[encoded data removed]"
     },
     "metadata": {},
     "output_type": "display_data"
    }
   ],
   "source": [
    "plot_confusion_matrix(y_test, y_pred, [0, 1, 2, 3])"
   ],
   "metadata": {
    "collapsed": false,
    "ExecuteTime": {
     "end_time": "2025-03-10T04:16:33.430263Z",
     "start_time": "2025-03-10T04:16:33.351510Z"
    }
   },
   "id": "35532a85bab5e8cf",
   "execution_count": 26
  },
  {
   "cell_type": "markdown",
   "source": [
    "### XGBClassifier : Binary Classification"
   ],
   "metadata": {
    "collapsed": false
   },
   "id": "622d8352cc93f4f8"
  },
  {
   "cell_type": "markdown",
   "source": [
    "- Complete Mismatch and Underwhelming are bad fits (0)\n",
    "- Good fit and Overqualified are good fits (1)"
   ],
   "metadata": {
    "collapsed": false
   },
   "id": "1c597a05c9a1de17"
  },
  {
   "cell_type": "code",
   "outputs": [
    {
     "name": "stderr",
     "output_type": "stream",
     "text": [
      "/var/folders/t5/tflj5hjs197_vv37fw2sdhdr0000gn/T/ipykernel_86690/2897412205.py:2: FutureWarning: Downcasting behavior in `replace` is deprecated and will be removed in a future version. To retain the old behavior, explicitly call `result.infer_objects(copy=False)`. To opt-in to the future behavior, set `pd.set_option('future.no_silent_downcasting', True)`\n",
      "  y = df['label'].replace({\"Complete Mismatch\": 0, \"Underwhelming\":0, \"Good Fit\":1, \"Overqualified\":1})\n"
     ]
    }
   ],
   "source": [
    "X = embedding_df.copy()\n",
    "y = df['label'].replace({\"Complete Mismatch\": 0, \"Underwhelming\":0, \"Good Fit\":1, \"Overqualified\":1})"
   ],
   "metadata": {
    "collapsed": false,
    "ExecuteTime": {
     "end_time": "2025-03-10T04:16:33.438891Z",
     "start_time": "2025-03-10T04:16:33.431026Z"
    }
   },
   "id": "bf85374e95d4f5f3",
   "execution_count": 27
  },
  {
   "cell_type": "code",
   "outputs": [
    {
     "name": "stdout",
     "output_type": "stream",
     "text": [
      "Train data shape:  (3200, 768)\n",
      "Test data shape:  (800, 768)\n"
     ]
    }
   ],
   "source": [
    "# Assuming X contains features and y contains labels\n",
    "X_train, X_test, y_train, y_test = train_test_split(X, y, test_size=0.2, stratify=y)\n",
    "\n",
    "print(\"Train data shape: \", X_train.shape)\n",
    "print(\"Test data shape: \", X_test.shape)"
   ],
   "metadata": {
    "collapsed": false,
    "ExecuteTime": {
     "end_time": "2025-03-10T04:16:33.451897Z",
     "start_time": "2025-03-10T04:16:33.440126Z"
    }
   },
   "id": "d5c7fd0e5d8a581a",
   "execution_count": 28
  },
  {
   "cell_type": "code",
   "outputs": [
    {
     "name": "stdout",
     "output_type": "stream",
     "text": [
      "Cross-validation scores: [0.765625  0.7875    0.7953125 0.8125    0.8140625]\n",
      "Mean accuracy: 0.7950\n",
      "Standard deviation: 0.0178\n"
     ]
    }
   ],
   "source": [
    "xgb_2class = XGBClassifier(random_state=42)  # Example model\n",
    "cross_validation_scores(xgb_2class, X_train, y_train, n_splits=5)"
   ],
   "metadata": {
    "collapsed": false,
    "ExecuteTime": {
     "end_time": "2025-03-10T04:16:47.591037Z",
     "start_time": "2025-03-10T04:16:33.452774Z"
    }
   },
   "id": "3a5921ae3e4bbe1d",
   "execution_count": 29
  },
  {
   "cell_type": "code",
   "outputs": [
    {
     "name": "stdout",
     "output_type": "stream",
     "text": [
      "\n",
      "Classification Report:\n",
      "              precision    recall  f1-score   support\n",
      "\n",
      "           0       0.84      0.75      0.79       400\n",
      "           1       0.78      0.85      0.81       400\n",
      "\n",
      "    accuracy                           0.80       800\n",
      "   macro avg       0.81      0.80      0.80       800\n",
      "weighted avg       0.81      0.80      0.80       800\n"
     ]
    }
   ],
   "source": [
    "# Train model on full training set\n",
    "xgb_2class.fit(X_train, y_train)\n",
    "\n",
    "# Evaluate on test set\n",
    "y_pred = xgb_2class.predict(X_test)\n",
    "\n",
    "print(\"\\nClassification Report:\")\n",
    "print(classification_report(y_test, y_pred))"
   ],
   "metadata": {
    "collapsed": false,
    "ExecuteTime": {
     "end_time": "2025-03-10T04:16:50.811318Z",
     "start_time": "2025-03-10T04:16:47.592677Z"
    }
   },
   "id": "d66d3853a7c4ad32",
   "execution_count": 30
  },
  {
   "cell_type": "code",
   "outputs": [
    {
     "data": {
      "text/plain": "<Figure size 800x700 with 2 Axes>",
      "image/png": "[encoded data removed]"
     },
     "metadata": {},
     "output_type": "display_data"
    }
   ],
   "source": [
    "plot_confusion_matrix(y_test, y_pred, [0, 1])"
   ],
   "metadata": {
    "collapsed": false,
    "ExecuteTime": {
     "end_time": "2025-03-10T04:16:50.875896Z",
     "start_time": "2025-03-10T04:16:50.812377Z"
    }
   },
   "id": "95f3eafca73ed512",
   "execution_count": 31
  },
  {
   "cell_type": "code",
   "outputs": [],
   "source": [
    "rd=\"\"\"\n",
    "A Data Scientist with 3 years of experience in developing machine learning pipelines and models to address business needs. Also\n",
    "experienced in communicating insights to enhance strategic decision-making and improve performance outcomes.\n",
    "EDUCATION\n",
    "Master Of Science In Data Science\n",
    "Northeastern University | GPA: 3.93 / 4.00 Portland, Maine | Sep 2023\n",
    "- May 2025\n",
    "Bachelor Of Technology In Computer Science\n",
    "Vardhaman College of Engineering | GPA: 8.84 / 10.00 Hyderabad | May 2017\n",
    "- Jun 2021\n",
    "WORK EXPERIENCE\n",
    "Data Engineer Co-Op | Full-time Jul 2024\n",
    "- Present\n",
    "EAI at Northeastern University\n",
    "• Engineered an end-to-end claim complexity scoring ML pipeline for MEMIC, negating ~3 minutes of mannual classification per claim.\n",
    "• Developed a robust claim complexity scoring model and reduced false negatives by 20%, streamlining the Claim Assignment Engine's efficiency within 6 months.\n",
    "• Identified an issue with prediction validation, which led to employing advanced testing validated by statistical tests.\n",
    "• Revised the existing claim assignment process to automatically assign claims classified by scoring engine to agents by prioritizing highly complex claims, achieving 100% automation.\n",
    "• Communicated weekly insights to clients, enhancing strategic decision-making and improving performance outcomes through\n",
    "experimental findings and suggesting actionable plans.\n",
    "Azure Data Engineer | Full-time Aug 2021\n",
    "- Jul 2023\n",
    "LTIMindtree\n",
    "• Resolved customer issues from Azure cloud services with an average solution acceptance rate of 50%, consistently for over one year.\n",
    "• Utilized Azure Databricks data engineering environment to solve business problems for customers and improve data quality by 35%.\n",
    "• Automated ETL pipelines for big data extraction and processing using Data factory and Dataflows, reducing processing time by 40%.\n",
    "• Recognized as a highly motivated member of Azure Collective on Stack Overflow, contributing 404 answers and reaching 428k people.\n",
    "• Developed a Question Moderator Model that improved question validation efficiency, saving 10% of time monthly by minimizing\n",
    "invalid question engagement.\n",
    "PROJECTS\n",
    "Application Ranking System Sep 2024\n",
    "- Apr 2025\n",
    "• Built an AI-powered Application Ranking System using cosine similarity, FAISS, and a custom scoring formula for efficient ranking.\n",
    "Aims to improve hiring by reducing bias, rewarding well-crafted resumes, and offering a fair ranking system for job applications.\n",
    "Stance Detection Model Using Generative AI\n",
    "• Developed a Huggingface space using fine-tuned text classification LLM to detect the stance using manually labeled and synthetic data.\n",
    "Leveraged LoRA fine-tuning to train only ~1% of LLM's parameters in Roberta base model's architecture to achieve 0.80 accuracy.\n",
    "\n",
    "SKILLS\n",
    "Programming: Python, SQL Server, Java, Data Structures and Algorithms, Problem-\n",
    "solving skills\n",
    "Machine Learning: Machine Learning, Regression, Classification, Data Cleaning, Data preprocessing, Data transformation, Feature\n",
    "Engineering, Data Visualization, XGBoost, Cross Validation, Deep learning, Neural Networks, Natural Language Processing, Transformers,\n",
    "Sentiment Analysis, Huggingface, Large Language models, Fine tuning, Prompt Engineering, Generative AI, RAG, Agentic AI\n",
    "Libraries: NumPy, Pandas, Matplotlib, Scikit-\n",
    "Learn, xgboost, SciPy, spaCy, Pytorch, Tensorflow, Optuna, Langchain, ollama, transformers\n",
    "Others: Jupyter, Azure, Git, SSMS, PowerBI, Microsoft Excel, Databricks, PySpark, Documentation, Statistical analysis\n",
    "\"\"\"\n",
    "\n",
    "jd=\"\"\"\n",
    "Construction project engineer\n",
    "JARDINE is a premier construction management and general contracting firm based in Centerville, Utah. We specialize in commercial construction with a focus on historic renovations, mountain and resort construction, light industrial projects, pharmaceutical and nutraceutical facilities, clean rooms, lab spaces, retail environments, food & beverage spaces, and tenant improvements. Our approach prioritizes collaborative project delivery methods such as Construction Management/General Contracting, Design-Build, Design Assist, and Cost-Plus to ensure successful project outcomes.\n",
    "\n",
    "Role Description\n",
    "JARDINE is seeking a full-time, on-site Construction Project Engineer to join our team in the Salt Lake City Metropolitan Area. This role is instrumental in supporting project execution, ensuring smooth coordination between field teams, subcontractors, and project management. The Construction Project Engineer will be actively involved in project coordination, construction engineering, RFI's, submittals, and communication to drive project success.\n",
    "\n",
    "Key Responsibilities\n",
    "Project Coordination: Support project managers and field teams in scheduling, logistics, and workflow efficiency.\n",
    "Construction Engineering: Assist in design reviews, constructability analysis, and technical problem-solving.\n",
    "Quality Control: Ensure compliance with project specifications, safety standards, and best practices.\n",
    "Submittals & RFIs: Prepare, track, and manage submittals, RFIs, and change orders throughout the project lifecycle.\n",
    "Communication: Maintain clear and effective communication between project stakeholders, including subcontractors, suppliers, and clients.\n",
    "Documentation & Reporting: Keep detailed records of project progress, budgets, and schedules using construction management software.\n",
    "Qualifications\n",
    "Strong project coordination and construction engineering skills.\n",
    "Experience in RFI and submittal processes.\n",
    "Excellent written and verbal communication skills.\n",
    "Proficiency in construction project management software (e.g., Procore, Bluebeam, MS Project).\n",
    "Ability to read and interpret construction drawings and specifications.\n",
    "Bachelor’s degree in Construction Management, Civil Engineering, or a related field.\n",
    "Relevant certifications such as PE (Professional Engineer) or PMP (Project Management Professional) are a plus.\n",
    "Why Join JARDINE?\n",
    "Competitive salary based on experience.\n",
    "Health benefits, 401(k), and paid time off.\n",
    "Opportunities for career growth and professional development.\n",
    "A collaborative, team-oriented work environment.\n",
    "\n",
    "Project Coordination, Construction Engineering, RFI Process, Submittals Management, Quality Control, Scheduling, Logistics, Workflow Efficiency, Constructability Analysis, Technical Problem-Solving, Compliance with Safety Standards, Change Order Management, Stakeholder Communication, Documentation, Reporting, Construction Management Software (Procore, Bluebeam, MS Project), Construction Drawings Interpretation, Budget Tracking, Civil Engineering, Construction Management, Project Management, Professional Certifications (PE, PMP).\n",
    "\"\"\""
   ],
   "metadata": {
    "collapsed": false,
    "ExecuteTime": {
     "end_time": "2025-03-10T04:16:50.880102Z",
     "start_time": "2025-03-10T04:16:50.876895Z"
    }
   },
   "id": "ceda86b53063c60c",
   "execution_count": 32
  },
  {
   "cell_type": "code",
   "outputs": [
    {
     "data": {
      "text/plain": "                                            job_data  \\\n0  \\nConstruction project engineer\\nJARDINE is a ...   \n\n                                         resume_data  \n0  \\nA Data Scientist with 3 years of experience ...  ",
      "text/html": "<div>\n<style scoped>\n    .dataframe tbody tr th:only-of-type {\n        vertical-align: middle;\n    }\n\n    .dataframe tbody tr th {\n        vertical-align: top;\n    }\n\n    .dataframe thead th {\n        text-align: right;\n    }\n</style>\n<table border=\"1\" class=\"dataframe\">\n  <thead>\n    <tr style=\"text-align: right;\">\n      <th></th>\n      <th>job_data</th>\n      <th>resume_data</th>\n    </tr>\n  </thead>\n  <tbody>\n    <tr>\n      <th>0</th>\n      <td>\\nConstruction project engineer\\nJARDINE is a ...</td>\n      <td>\\nA Data Scientist with 3 years of experience ...</td>\n    </tr>\n  </tbody>\n</table>\n</div>"
     },
     "execution_count": 33,
     "metadata": {},
     "output_type": "execute_result"
    }
   ],
   "source": [
    "real_df = pd.DataFrame([{\"job_data\":jd, \"resume_data\":rd}])\n",
    "real_df"
   ],
   "metadata": {
    "collapsed": false,
    "ExecuteTime": {
     "end_time": "2025-03-10T04:16:50.892044Z",
     "start_time": "2025-03-10T04:16:50.886348Z"
    }
   },
   "id": "8276b116a4fe00b3",
   "execution_count": 33
  },
  {
   "cell_type": "code",
   "outputs": [
    {
     "data": {
      "text/plain": "       f_1       f_2       f_3       f_4       f_5       f_6       f_7  \\\n0  0.02746  0.074395 -0.044027 -0.020334  0.015358  0.010736 -0.013945   \n\n        f_8       f_9      f_10  ...    f_759     f_760     f_761     f_762  \\\n0  0.002697 -0.052822 -0.023759  ... -0.01144  0.003331 -0.016823  0.028028   \n\n   f_763     f_764     f_765     f_766     f_767    f_768  \n0 -0.008 -0.033974 -0.028421 -0.004494  0.002082 -0.03323  \n\n[1 rows x 768 columns]",
      "text/html": "<div>\n<style scoped>\n    .dataframe tbody tr th:only-of-type {\n        vertical-align: middle;\n    }\n\n    .dataframe tbody tr th {\n        vertical-align: top;\n    }\n\n    .dataframe thead th {\n        text-align: right;\n    }\n</style>\n<table border=\"1\" class=\"dataframe\">\n  <thead>\n    <tr style=\"text-align: right;\">\n      <th></th>\n      <th>f_1</th>\n      <th>f_2</th>\n      <th>f_3</th>\n      <th>f_4</th>\n      <th>f_5</th>\n      <th>f_6</th>\n      <th>f_7</th>\n      <th>f_8</th>\n      <th>f_9</th>\n      <th>f_10</th>\n      <th>...</th>\n      <th>f_759</th>\n      <th>f_760</th>\n      <th>f_761</th>\n      <th>f_762</th>\n      <th>f_763</th>\n      <th>f_764</th>\n      <th>f_765</th>\n      <th>f_766</th>\n      <th>f_767</th>\n      <th>f_768</th>\n    </tr>\n  </thead>\n  <tbody>\n    <tr>\n      <th>0</th>\n      <td>0.02746</td>\n      <td>0.074395</td>\n      <td>-0.044027</td>\n      <td>-0.020334</td>\n      <td>0.015358</td>\n      <td>0.010736</td>\n      <td>-0.013945</td>\n      <td>0.002697</td>\n      <td>-0.052822</td>\n      <td>-0.023759</td>\n      <td>...</td>\n      <td>-0.01144</td>\n      <td>0.003331</td>\n      <td>-0.016823</td>\n      <td>0.028028</td>\n      <td>-0.008</td>\n      <td>-0.033974</td>\n      <td>-0.028421</td>\n      <td>-0.004494</td>\n      <td>0.002082</td>\n      <td>-0.03323</td>\n    </tr>\n  </tbody>\n</table>\n<p>1 rows × 768 columns</p>\n</div>"
     },
     "execution_count": 34,
     "metadata": {},
     "output_type": "execute_result"
    }
   ],
   "source": [
    "real_df['job_data_preprocessed'] = real_df['job_data'].apply(preprocess_text)\n",
    "real_df['resume_data_preprocessed'] = real_df['resume_data'].apply(preprocess_text)\n",
    "\n",
    "# Compute embeddings\n",
    "combined_data = \"Job Description:\\n\" + real_df['job_data_preprocessed'] + \"\\nResume:\\n\" + real_df['resume_data_preprocessed'] \n",
    "combined_d1 = combined_data.apply(lambda x: get_text_embedding(x, embedding_model))\n",
    "\n",
    "edf = pd.DataFrame(combined_d1.tolist(), index=real_df.index, columns = [f\"f_{i+1}\" for i in range(len(combined_d1.tolist()[0]))])\n",
    "edf"
   ],
   "metadata": {
    "collapsed": false,
    "ExecuteTime": {
     "end_time": "2025-03-10T04:16:51.711069Z",
     "start_time": "2025-03-10T04:16:50.892721Z"
    }
   },
   "id": "7e0efe5792e8cfd6",
   "execution_count": 34
  },
  {
   "cell_type": "markdown",
   "source": [
    "### Results"
   ],
   "metadata": {
    "collapsed": false
   },
   "id": "710c853af31a06ca"
  },
  {
   "cell_type": "code",
   "outputs": [
    {
     "name": "stdout",
     "output_type": "stream",
     "text": [
      "Predicted category for 4-category classification:  [3]\n",
      "Predicted probabilities for 4-category classification:  [[0.07966397 0.29293332 0.261564   0.36583874]]\n"
     ]
    }
   ],
   "source": [
    "print(\"Predicted category for 4-category classification: \",xgb_4class.predict(edf))\n",
    "print(\"Predicted probabilities for 4-category classification: \",xgb_4class.predict_proba(edf))"
   ],
   "metadata": {
    "collapsed": false,
    "ExecuteTime": {
     "end_time": "2025-03-10T04:16:51.879368Z",
     "start_time": "2025-03-10T04:16:51.716405Z"
    }
   },
   "id": "1755860c286bfda0",
   "execution_count": 35
  },
  {
   "cell_type": "code",
   "outputs": [
    {
     "data": {
      "text/plain": "array([[0.07966397, 0.29293332, 0.261564  , 0.36583874]], dtype=float32)"
     },
     "execution_count": 36,
     "metadata": {},
     "output_type": "execute_result"
    }
   ],
   "source": [
    "xgb_4class.predict_proba(edf)"
   ],
   "metadata": {
    "collapsed": false,
    "ExecuteTime": {
     "end_time": "2025-03-10T04:16:51.985894Z",
     "start_time": "2025-03-10T04:16:51.880120Z"
    }
   },
   "id": "3c5865cd65f76342",
   "execution_count": 36
  },
  {
   "cell_type": "markdown",
   "source": [
    "#### Two Class prediction\n",
    "\n",
    "Expected output is 0 : Bad"
   ],
   "metadata": {
    "collapsed": false
   },
   "id": "3ae0e43e374db5b5"
  },
  {
   "cell_type": "code",
   "outputs": [
    {
     "name": "stdout",
     "output_type": "stream",
     "text": [
      "Predicted category for 2-category classification:  [1]\n",
      "Predicted category for 2-category classification:  [[0.01601696 0.98398304]]\n"
     ]
    }
   ],
   "source": [
    "print(\"Predicted category for 2-category classification: \",xgb_2class.predict(edf))\n",
    "print(\"Predicted category for 2-category classification: \",xgb_2class.predict_proba(edf))"
   ],
   "metadata": {
    "collapsed": false,
    "ExecuteTime": {
     "end_time": "2025-03-10T04:16:52.132306Z",
     "start_time": "2025-03-10T04:16:51.986710Z"
    }
   },
   "id": "5ee2e8261c72757b",
   "execution_count": 37
  },
  {
   "cell_type": "code",
   "outputs": [
    {
     "data": {
      "text/plain": "array([[0.01601696, 0.98398304]], dtype=float32)"
     },
     "execution_count": 38,
     "metadata": {},
     "output_type": "execute_result"
    }
   ],
   "source": [
    "xgb_2class.predict_proba(edf)"
   ],
   "metadata": {
    "collapsed": false,
    "ExecuteTime": {
     "end_time": "2025-03-10T04:16:52.209014Z",
     "start_time": "2025-03-10T04:16:52.133181Z"
    }
   },
   "id": "a6a53382c1c23d09",
   "execution_count": 38
  },
  {
   "cell_type": "markdown",
   "source": [
    "We can observe that these ML models are unable to generalize on a clear complete mismatch case above. The next step would be to use LLMs to perform the classification and decide whether fine-tuning is required or not."
   ],
   "metadata": {
    "collapsed": false
   },
   "id": "d60d21f652cdaec0"
  }
 ],
 "metadata": {
  "kernelspec": {
   "display_name": "Python (ARS)",
   "language": "python",
   "name": "ars"
  },
  "language_info": {
   "codemirror_mode": {
    "name": "ipython",
    "version": 3
   },
   "file_extension": ".py",
   "mimetype": "text/x-python",
   "name": "python",
   "nbconvert_exporter": "python",
   "pygments_lexer": "ipython3",
   "version": "3.12.1"
  }
 },
 "nbformat": 4,
 "nbformat_minor": 5
}
