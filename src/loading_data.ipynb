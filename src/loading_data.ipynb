{
 "cells": [
  {
   "cell_type": "markdown",
   "id": "f01bbbc0",
   "metadata": {},
   "source": [
    "# Loading the data"
   ]
  },
  {
   "cell_type": "markdown",
   "id": "fe157e43",
   "metadata": {},
   "source": [
    "## Importing libraries"
   ]
  },
  {
   "cell_type": "code",
   "execution_count": 1,
   "id": "90fdcdc0-bb0d-4459-add5-b2b49f94dc44",
   "metadata": {
    "ExecuteTime": {
     "end_time": "2025-01-26T02:27:04.402808Z",
     "start_time": "2025-01-26T02:27:03.521815Z"
    }
   },
   "outputs": [],
   "source": [
    "import pandas as pd\n",
    "from datasets import load_dataset\n",
    "\n",
    "import os\n",
    "import sys\n",
    "from pathlib import Path"
   ]
  },
  {
   "cell_type": "code",
   "execution_count": 2,
   "id": "4b8ed398",
   "metadata": {
    "ExecuteTime": {
     "end_time": "2025-01-26T02:27:04.406634Z",
     "start_time": "2025-01-26T02:27:04.403717Z"
    }
   },
   "outputs": [
    {
     "name": "stdout",
     "output_type": "stream",
     "text": [
      "/Users/saideepbunny/Projects/Application_Ranking_System\n"
     ]
    }
   ],
   "source": [
    "path = Path(os.path.dirname(os.getcwd()))\n",
    "path = str(path)\n",
    "print(path)\n",
    "sys.path.insert(1, path)"
   ]
  },
  {
   "cell_type": "markdown",
   "id": "43421180",
   "metadata": {},
   "source": [
    "## Downloading data"
   ]
  },
  {
   "cell_type": "code",
   "execution_count": 3,
   "id": "c5996e1d",
   "metadata": {
    "ExecuteTime": {
     "end_time": "2025-01-26T02:27:05.358829Z",
     "start_time": "2025-01-26T02:27:04.407354Z"
    }
   },
   "outputs": [
    {
     "data": {
      "text/plain": "DatasetDict({\n    train: Dataset({\n        features: ['resume_text', 'job_description_text', 'label'],\n        num_rows: 6241\n    })\n    test: Dataset({\n        features: ['resume_text', 'job_description_text', 'label'],\n        num_rows: 1759\n    })\n})"
     },
     "execution_count": 3,
     "metadata": {},
     "output_type": "execute_result"
    }
   ],
   "source": [
    "ds = load_dataset(\"cnamuangtoun/resume-job-description-fit\")\n",
    "ds"
   ]
  },
  {
   "cell_type": "markdown",
   "id": "3c846851",
   "metadata": {},
   "source": [
    "## Reading data"
   ]
  },
  {
   "cell_type": "markdown",
   "id": "b3bfb0b2",
   "metadata": {},
   "source": [
    "### Train data"
   ]
  },
  {
   "cell_type": "code",
   "execution_count": 4,
   "id": "186118b3",
   "metadata": {
    "ExecuteTime": {
     "end_time": "2025-01-26T02:27:05.649525Z",
     "start_time": "2025-01-26T02:27:05.360896Z"
    }
   },
   "outputs": [
    {
     "data": {
      "text/plain": "                                            resume_text  \\\n0     SummaryHighly motivated Sales Associate with e...   \n1     Professional SummaryCurrently working with Cat...   \n2     SummaryI started my construction career in Jun...   \n3     SummaryCertified Electrical Foremanwith thirte...   \n4     SummaryWith extensive experience in business/r...   \n...                                                 ...   \n6236  SummaryResults-driven Data Entry Clerk with ex...   \n6237  Professional SummaryWith the attitude of learn...   \n6238  Summary•        \\nOver\\nThree years of extensi...   \n6239  ProfileAbility to prioritize and multi-task in...   \n6240  SummaryFull stack Software Engineer with 8+ ye...   \n\n                                   job_description_text     label  \n0     Net2Source Inc. is an award-winning total work...    No Fit  \n1     At Salas OBrien we tell our clients that were ...    No Fit  \n2     Schweitzer Engineering Laboratories (SEL) Infr...    No Fit  \n3     Mizick Miller & Company, Inc. is looking for a...    No Fit  \n4     Life at Capgemini\\nCapgemini supports all aspe...    No Fit  \n...                                                 ...       ...  \n6236  Hi,\\nHope you are doing great today. Please fi...  Good Fit  \n6237  Job Title: DHT - Front End Software Engineer W...  Good Fit  \n6238  LHH Recruitment Solutions is looking for a Sof...  Good Fit  \n6239  Our client is a growing Medical Device company...  Good Fit  \n6240  Robert Half is looking for a Senior Full Stack...  Good Fit  \n\n[6241 rows x 3 columns]",
      "text/html": "<div>\n<style scoped>\n    .dataframe tbody tr th:only-of-type {\n        vertical-align: middle;\n    }\n\n    .dataframe tbody tr th {\n        vertical-align: top;\n    }\n\n    .dataframe thead th {\n        text-align: right;\n    }\n</style>\n<table border=\"1\" class=\"dataframe\">\n  <thead>\n    <tr style=\"text-align: right;\">\n      <th></th>\n      <th>resume_text</th>\n      <th>job_description_text</th>\n      <th>label</th>\n    </tr>\n  </thead>\n  <tbody>\n    <tr>\n      <th>0</th>\n      <td>SummaryHighly motivated Sales Associate with e...</td>\n      <td>Net2Source Inc. is an award-winning total work...</td>\n      <td>No Fit</td>\n    </tr>\n    <tr>\n      <th>1</th>\n      <td>Professional SummaryCurrently working with Cat...</td>\n      <td>At Salas OBrien we tell our clients that were ...</td>\n      <td>No Fit</td>\n    </tr>\n    <tr>\n      <th>2</th>\n      <td>SummaryI started my construction career in Jun...</td>\n      <td>Schweitzer Engineering Laboratories (SEL) Infr...</td>\n      <td>No Fit</td>\n    </tr>\n    <tr>\n      <th>3</th>\n      <td>SummaryCertified Electrical Foremanwith thirte...</td>\n      <td>Mizick Miller &amp; Company, Inc. is looking for a...</td>\n      <td>No Fit</td>\n    </tr>\n    <tr>\n      <th>4</th>\n      <td>SummaryWith extensive experience in business/r...</td>\n      <td>Life at Capgemini\\nCapgemini supports all aspe...</td>\n      <td>No Fit</td>\n    </tr>\n    <tr>\n      <th>...</th>\n      <td>...</td>\n      <td>...</td>\n      <td>...</td>\n    </tr>\n    <tr>\n      <th>6236</th>\n      <td>SummaryResults-driven Data Entry Clerk with ex...</td>\n      <td>Hi,\\nHope you are doing great today. Please fi...</td>\n      <td>Good Fit</td>\n    </tr>\n    <tr>\n      <th>6237</th>\n      <td>Professional SummaryWith the attitude of learn...</td>\n      <td>Job Title: DHT - Front End Software Engineer W...</td>\n      <td>Good Fit</td>\n    </tr>\n    <tr>\n      <th>6238</th>\n      <td>Summary•        \\nOver\\nThree years of extensi...</td>\n      <td>LHH Recruitment Solutions is looking for a Sof...</td>\n      <td>Good Fit</td>\n    </tr>\n    <tr>\n      <th>6239</th>\n      <td>ProfileAbility to prioritize and multi-task in...</td>\n      <td>Our client is a growing Medical Device company...</td>\n      <td>Good Fit</td>\n    </tr>\n    <tr>\n      <th>6240</th>\n      <td>SummaryFull stack Software Engineer with 8+ ye...</td>\n      <td>Robert Half is looking for a Senior Full Stack...</td>\n      <td>Good Fit</td>\n    </tr>\n  </tbody>\n</table>\n<p>6241 rows × 3 columns</p>\n</div>"
     },
     "execution_count": 4,
     "metadata": {},
     "output_type": "execute_result"
    }
   ],
   "source": [
    "train_df = pd.DataFrame(ds['train'])\n",
    "train_df"
   ]
  },
  {
   "cell_type": "code",
   "execution_count": 5,
   "id": "8f758085",
   "metadata": {
    "ExecuteTime": {
     "end_time": "2025-01-26T02:27:05.655839Z",
     "start_time": "2025-01-26T02:27:05.650265Z"
    }
   },
   "outputs": [
    {
     "data": {
      "text/plain": "label\nNo Fit           3143\nPotential Fit    1556\nGood Fit         1542\nName: count, dtype: int64"
     },
     "execution_count": 5,
     "metadata": {},
     "output_type": "execute_result"
    }
   ],
   "source": [
    "train_df['label'].value_counts()"
   ]
  },
  {
   "cell_type": "markdown",
   "id": "7f122bb6",
   "metadata": {},
   "source": [
    "### Test data"
   ]
  },
  {
   "cell_type": "code",
   "execution_count": 6,
   "id": "79c333cc",
   "metadata": {
    "ExecuteTime": {
     "end_time": "2025-01-26T02:27:05.748637Z",
     "start_time": "2025-01-26T02:27:05.656595Z"
    }
   },
   "outputs": [
    {
     "data": {
      "text/plain": "                                            resume_text  \\\n0     Summary7+ years of experience as a BI develope...   \n1     Professional BackgroundAnalyst versed in data ...   \n2     Executive ProfileDedicated professional with t...   \n3     Summarytyee\\nHighlightsMicrosoft Excel, Word, ...   \n4     SummaryEIT certified Engineer and ASTQB Certif...   \n...                                                 ...   \n1754  SummaryHighly motivated Sales Associate with e...   \n1755  SummaryWireless communications engineer with e...   \n1756  Professional ProfileCapable International Tax ...   \n1757  SummaryData Engineeringwith experience in Desi...   \n1758  SummaryResults-driven Data Entry Clerk with ex...   \n\n                                   job_description_text     label  \n0     Key Responsibilities:Create intricate wiring n...    No Fit  \n1     Personal development and becoming the best you...    No Fit  \n2     Location: Tampa, FL\\nExp: 7-10 Yrs\\nSPOC: Tush...    No Fit  \n3     Primary Location: Melbourne, Florida\\nV-Soft C...    No Fit  \n4     At Oregon Specialty Group the Accounting & Pay...    No Fit  \n...                                                 ...       ...  \n1754  Position Type: Full-Time, W2 Direct Hire. (Mus...  Good Fit  \n1755  Location: Tampa, FL\\nExp: 7-10 Yrs\\nSPOC: Tush...  Good Fit  \n1756  Backed by a leading growth equity firm, an LA ...  Good Fit  \n1757  Allergan Data Labs is on a mission to transfor...  Good Fit  \n1758  Title: Sr. Data EngineerLocation: Austin, TxDu...  Good Fit  \n\n[1759 rows x 3 columns]",
      "text/html": "<div>\n<style scoped>\n    .dataframe tbody tr th:only-of-type {\n        vertical-align: middle;\n    }\n\n    .dataframe tbody tr th {\n        vertical-align: top;\n    }\n\n    .dataframe thead th {\n        text-align: right;\n    }\n</style>\n<table border=\"1\" class=\"dataframe\">\n  <thead>\n    <tr style=\"text-align: right;\">\n      <th></th>\n      <th>resume_text</th>\n      <th>job_description_text</th>\n      <th>label</th>\n    </tr>\n  </thead>\n  <tbody>\n    <tr>\n      <th>0</th>\n      <td>Summary7+ years of experience as a BI develope...</td>\n      <td>Key Responsibilities:Create intricate wiring n...</td>\n      <td>No Fit</td>\n    </tr>\n    <tr>\n      <th>1</th>\n      <td>Professional BackgroundAnalyst versed in data ...</td>\n      <td>Personal development and becoming the best you...</td>\n      <td>No Fit</td>\n    </tr>\n    <tr>\n      <th>2</th>\n      <td>Executive ProfileDedicated professional with t...</td>\n      <td>Location: Tampa, FL\\nExp: 7-10 Yrs\\nSPOC: Tush...</td>\n      <td>No Fit</td>\n    </tr>\n    <tr>\n      <th>3</th>\n      <td>Summarytyee\\nHighlightsMicrosoft Excel, Word, ...</td>\n      <td>Primary Location: Melbourne, Florida\\nV-Soft C...</td>\n      <td>No Fit</td>\n    </tr>\n    <tr>\n      <th>4</th>\n      <td>SummaryEIT certified Engineer and ASTQB Certif...</td>\n      <td>At Oregon Specialty Group the Accounting &amp; Pay...</td>\n      <td>No Fit</td>\n    </tr>\n    <tr>\n      <th>...</th>\n      <td>...</td>\n      <td>...</td>\n      <td>...</td>\n    </tr>\n    <tr>\n      <th>1754</th>\n      <td>SummaryHighly motivated Sales Associate with e...</td>\n      <td>Position Type: Full-Time, W2 Direct Hire. (Mus...</td>\n      <td>Good Fit</td>\n    </tr>\n    <tr>\n      <th>1755</th>\n      <td>SummaryWireless communications engineer with e...</td>\n      <td>Location: Tampa, FL\\nExp: 7-10 Yrs\\nSPOC: Tush...</td>\n      <td>Good Fit</td>\n    </tr>\n    <tr>\n      <th>1756</th>\n      <td>Professional ProfileCapable International Tax ...</td>\n      <td>Backed by a leading growth equity firm, an LA ...</td>\n      <td>Good Fit</td>\n    </tr>\n    <tr>\n      <th>1757</th>\n      <td>SummaryData Engineeringwith experience in Desi...</td>\n      <td>Allergan Data Labs is on a mission to transfor...</td>\n      <td>Good Fit</td>\n    </tr>\n    <tr>\n      <th>1758</th>\n      <td>SummaryResults-driven Data Entry Clerk with ex...</td>\n      <td>Title: Sr. Data EngineerLocation: Austin, TxDu...</td>\n      <td>Good Fit</td>\n    </tr>\n  </tbody>\n</table>\n<p>1759 rows × 3 columns</p>\n</div>"
     },
     "execution_count": 6,
     "metadata": {},
     "output_type": "execute_result"
    }
   ],
   "source": [
    "test_df = pd.DataFrame(ds['test'])\n",
    "test_df"
   ]
  },
  {
   "cell_type": "code",
   "execution_count": 7,
   "id": "a7c727da",
   "metadata": {
    "ExecuteTime": {
     "end_time": "2025-01-26T02:27:05.754362Z",
     "start_time": "2025-01-26T02:27:05.749841Z"
    }
   },
   "outputs": [
    {
     "data": {
      "text/plain": "label\nNo Fit           857\nGood Fit         458\nPotential Fit    444\nName: count, dtype: int64"
     },
     "execution_count": 7,
     "metadata": {},
     "output_type": "execute_result"
    }
   ],
   "source": [
    "test_df['label'].value_counts()"
   ]
  },
  {
   "cell_type": "markdown",
   "id": "2eab7ea9",
   "metadata": {},
   "source": [
    "### Entire data"
   ]
  },
  {
   "cell_type": "code",
   "execution_count": 8,
   "id": "09fde9a1",
   "metadata": {
    "ExecuteTime": {
     "end_time": "2025-01-26T02:27:05.761728Z",
     "start_time": "2025-01-26T02:27:05.755941Z"
    }
   },
   "outputs": [
    {
     "data": {
      "text/plain": "                                            resume_text  \\\n0     SummaryHighly motivated Sales Associate with e...   \n1     Professional SummaryCurrently working with Cat...   \n2     SummaryI started my construction career in Jun...   \n3     SummaryCertified Electrical Foremanwith thirte...   \n4     SummaryWith extensive experience in business/r...   \n...                                                 ...   \n1754  SummaryHighly motivated Sales Associate with e...   \n1755  SummaryWireless communications engineer with e...   \n1756  Professional ProfileCapable International Tax ...   \n1757  SummaryData Engineeringwith experience in Desi...   \n1758  SummaryResults-driven Data Entry Clerk with ex...   \n\n                                   job_description_text     label  \n0     Net2Source Inc. is an award-winning total work...    No Fit  \n1     At Salas OBrien we tell our clients that were ...    No Fit  \n2     Schweitzer Engineering Laboratories (SEL) Infr...    No Fit  \n3     Mizick Miller & Company, Inc. is looking for a...    No Fit  \n4     Life at Capgemini\\nCapgemini supports all aspe...    No Fit  \n...                                                 ...       ...  \n1754  Position Type: Full-Time, W2 Direct Hire. (Mus...  Good Fit  \n1755  Location: Tampa, FL\\nExp: 7-10 Yrs\\nSPOC: Tush...  Good Fit  \n1756  Backed by a leading growth equity firm, an LA ...  Good Fit  \n1757  Allergan Data Labs is on a mission to transfor...  Good Fit  \n1758  Title: Sr. Data EngineerLocation: Austin, TxDu...  Good Fit  \n\n[8000 rows x 3 columns]",
      "text/html": "<div>\n<style scoped>\n    .dataframe tbody tr th:only-of-type {\n        vertical-align: middle;\n    }\n\n    .dataframe tbody tr th {\n        vertical-align: top;\n    }\n\n    .dataframe thead th {\n        text-align: right;\n    }\n</style>\n<table border=\"1\" class=\"dataframe\">\n  <thead>\n    <tr style=\"text-align: right;\">\n      <th></th>\n      <th>resume_text</th>\n      <th>job_description_text</th>\n      <th>label</th>\n    </tr>\n  </thead>\n  <tbody>\n    <tr>\n      <th>0</th>\n      <td>SummaryHighly motivated Sales Associate with e...</td>\n      <td>Net2Source Inc. is an award-winning total work...</td>\n      <td>No Fit</td>\n    </tr>\n    <tr>\n      <th>1</th>\n      <td>Professional SummaryCurrently working with Cat...</td>\n      <td>At Salas OBrien we tell our clients that were ...</td>\n      <td>No Fit</td>\n    </tr>\n    <tr>\n      <th>2</th>\n      <td>SummaryI started my construction career in Jun...</td>\n      <td>Schweitzer Engineering Laboratories (SEL) Infr...</td>\n      <td>No Fit</td>\n    </tr>\n    <tr>\n      <th>3</th>\n      <td>SummaryCertified Electrical Foremanwith thirte...</td>\n      <td>Mizick Miller &amp; Company, Inc. is looking for a...</td>\n      <td>No Fit</td>\n    </tr>\n    <tr>\n      <th>4</th>\n      <td>SummaryWith extensive experience in business/r...</td>\n      <td>Life at Capgemini\\nCapgemini supports all aspe...</td>\n      <td>No Fit</td>\n    </tr>\n    <tr>\n      <th>...</th>\n      <td>...</td>\n      <td>...</td>\n      <td>...</td>\n    </tr>\n    <tr>\n      <th>1754</th>\n      <td>SummaryHighly motivated Sales Associate with e...</td>\n      <td>Position Type: Full-Time, W2 Direct Hire. (Mus...</td>\n      <td>Good Fit</td>\n    </tr>\n    <tr>\n      <th>1755</th>\n      <td>SummaryWireless communications engineer with e...</td>\n      <td>Location: Tampa, FL\\nExp: 7-10 Yrs\\nSPOC: Tush...</td>\n      <td>Good Fit</td>\n    </tr>\n    <tr>\n      <th>1756</th>\n      <td>Professional ProfileCapable International Tax ...</td>\n      <td>Backed by a leading growth equity firm, an LA ...</td>\n      <td>Good Fit</td>\n    </tr>\n    <tr>\n      <th>1757</th>\n      <td>SummaryData Engineeringwith experience in Desi...</td>\n      <td>Allergan Data Labs is on a mission to transfor...</td>\n      <td>Good Fit</td>\n    </tr>\n    <tr>\n      <th>1758</th>\n      <td>SummaryResults-driven Data Entry Clerk with ex...</td>\n      <td>Title: Sr. Data EngineerLocation: Austin, TxDu...</td>\n      <td>Good Fit</td>\n    </tr>\n  </tbody>\n</table>\n<p>8000 rows × 3 columns</p>\n</div>"
     },
     "execution_count": 8,
     "metadata": {},
     "output_type": "execute_result"
    }
   ],
   "source": [
    "data = pd.concat([train_df, test_df])\n",
    "data"
   ]
  },
  {
   "cell_type": "code",
   "execution_count": 9,
   "id": "7ee56c7f",
   "metadata": {
    "ExecuteTime": {
     "end_time": "2025-01-26T02:27:05.766618Z",
     "start_time": "2025-01-26T02:27:05.762286Z"
    }
   },
   "outputs": [
    {
     "data": {
      "text/plain": "label\nNo Fit           4000\nPotential Fit    2000\nGood Fit         2000\nName: count, dtype: int64"
     },
     "execution_count": 9,
     "metadata": {},
     "output_type": "execute_result"
    }
   ],
   "source": [
    "data['label'].value_counts()"
   ]
  },
  {
   "cell_type": "markdown",
   "id": "41ef2f2c",
   "metadata": {},
   "source": [
    "## Saving the data"
   ]
  },
  {
   "cell_type": "code",
   "execution_count": 10,
   "id": "16da5b36",
   "metadata": {
    "ExecuteTime": {
     "end_time": "2025-01-26T02:27:05.839743Z",
     "start_time": "2025-01-26T02:27:05.769403Z"
    }
   },
   "outputs": [
    {
     "data": {
      "text/plain": "Saving the dataset (0/1 shards):   0%|          | 0/6241 [00:00<?, ? examples/s]",
      "application/vnd.jupyter.widget-view+json": {
       "version_major": 2,
       "version_minor": 0,
       "model_id": "fca5bcff717148f281c7444ab4867355"
      }
     },
     "metadata": {},
     "output_type": "display_data"
    },
    {
     "data": {
      "text/plain": "Saving the dataset (0/1 shards):   0%|          | 0/1759 [00:00<?, ? examples/s]",
      "application/vnd.jupyter.widget-view+json": {
       "version_major": 2,
       "version_minor": 0,
       "model_id": "e4b7f8ea706e4582a8a6c5bf242aedfc"
      }
     },
     "metadata": {},
     "output_type": "display_data"
    }
   ],
   "source": [
    "ds.save_to_disk(f'{path}/data/resume_jd_fit_dataset')"
   ]
  }
 ],
 "metadata": {
  "kernelspec": {
   "display_name": "ARS",
   "language": "python",
   "name": "python3"
  },
  "language_info": {
   "codemirror_mode": {
    "name": "ipython",
    "version": 3
   },
   "file_extension": ".py",
   "mimetype": "text/x-python",
   "name": "python",
   "nbconvert_exporter": "python",
   "pygments_lexer": "ipython3",
   "version": "3.12.1"
  }
 },
 "nbformat": 4,
 "nbformat_minor": 5
}
