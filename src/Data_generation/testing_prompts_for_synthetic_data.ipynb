{
 "cells": [
  {
   "cell_type": "markdown",
   "source": [
    "# Testing Prompts for generating synthetic data"
   ],
   "metadata": {
    "collapsed": false
   },
   "id": "bdb71d3ced1c07f5"
  },
  {
   "cell_type": "markdown",
   "source": [
    "## Importing libraries"
   ],
   "metadata": {
    "collapsed": false
   },
   "id": "8f126534269f0ace"
  },
  {
   "cell_type": "code",
   "execution_count": 1,
   "id": "2133218b-9766-4c8c-ae07-d9a6a4845cf7",
   "metadata": {
    "ExecuteTime": {
     "end_time": "2025-02-27T04:00:16.849805Z",
     "start_time": "2025-02-27T04:00:15.718861Z"
    }
   },
   "outputs": [],
   "source": [
    "from langchain_core.prompts import ChatPromptTemplate\n",
    "from langchain_ollama.llms import OllamaLLM\n",
    "from langchain_nvidia_ai_endpoints import ChatNVIDIA\n",
    "\n",
    "import os\n",
    "import pandas as pd\n",
    "\n",
    "# Set Pandas to display all columns\n",
    "pd.set_option('display.max_columns', None)"
   ]
  },
  {
   "cell_type": "code",
   "outputs": [
    {
     "name": "stdout",
     "output_type": "stream",
     "text": [
      "/Users/saideepbunny/Projects/Application_Ranking_System\n"
     ]
    }
   ],
   "source": [
    "import os\n",
    "import sys\n",
    "from pathlib import Path\n",
    "\n",
    "path = Path(os.path.dirname(os.getcwd()))\n",
    "path = str(path)\n",
    "print(path)\n",
    "sys.path.insert(1, path)"
   ],
   "metadata": {
    "collapsed": false,
    "ExecuteTime": {
     "end_time": "2025-02-27T04:00:16.853064Z",
     "start_time": "2025-02-27T04:00:16.850856Z"
    }
   },
   "id": "dcab3c15f43d8094",
   "execution_count": 2
  },
  {
   "cell_type": "markdown",
   "source": [
    "## Reading the data"
   ],
   "metadata": {
    "collapsed": false
   },
   "id": "11167744e1545b5e"
  },
  {
   "cell_type": "code",
   "execution_count": 3,
   "id": "aaab01d9-3a04-4bad-aa8c-227aecdd26fb",
   "metadata": {
    "ExecuteTime": {
     "end_time": "2025-02-27T04:00:16.932344Z",
     "start_time": "2025-02-27T04:00:16.853693Z"
    }
   },
   "outputs": [
    {
     "data": {
      "text/plain": "                                               job_link  \\\n0     https://www.linkedin.com/jobs/view/software-ar...   \n1     https://www.linkedin.com/jobs/view/senior-syst...   \n2     https://www.linkedin.com/jobs/view/senior-data...   \n3     https://www.linkedin.com/jobs/view/distinguish...   \n4     https://www.linkedin.com/jobs/view/systems-adm...   \n...                                                 ...   \n1495  https://uk.linkedin.com/jobs/view/workshop-con...   \n1496  https://www.linkedin.com/jobs/view/x-ray-techn...   \n1497  https://www.linkedin.com/jobs/view/xfinity-ret...   \n1498  https://www.linkedin.com/jobs/view/yard-associ...   \n1499  https://www.linkedin.com/jobs/view/yoga-instru...   \n\n                last_processed_time got_summary got_ner is_being_worked  \\\n0     2024-01-19 09:45:09.215838+00           t       t               f   \n1     2024-01-19 09:45:09.215838+00           t       t               f   \n2     2024-01-20 11:15:59.804413+00           t       t               f   \n3     2024-01-19 22:25:24.801979+00           t       t               f   \n4      2024-01-21 01:06:09.90334+00           t       t               f   \n...                             ...         ...     ...             ...   \n1495  2024-01-19 09:45:09.215838+00           t       t               f   \n1496  2024-01-21 04:16:54.473867+00           t       t               f   \n1497  2024-01-19 23:17:04.320124+00           t       t               f   \n1498  2024-01-19 09:45:09.215838+00           t       t               f   \n1499  2024-01-19 09:45:09.215838+00           t       t               f   \n\n                             job_title                   company  \\\n0                   Software Architect           Harris Computer   \n1               Senior System Engineer                    ExLabs   \n2                Senior Data Scientist     Workforce Connections   \n3     Distinguished Applied Researcher         Jobs for Humanity   \n4                Systems Administrator                    Leidos   \n...                                ...                       ...   \n1495               Workshop Controller    Activate Group Limited   \n1496                X-Ray Technologist          Fast Pace Health   \n1497   Xfinity Retail Sales Consultant  XFINITY Store by Comcast   \n1498      Yard Associate (SkillBridge)          ARMOR Initiative   \n1499                   Yoga Instructor           Active Wellness   \n\n                                   job_location  first_seen    search_city  \\\n0                        Florida, United States  2024-01-13  Beverly Hills   \n1                                Long Beach, CA  2024-01-13        Compton   \n2                                  St Louis, MO  2024-01-14     Belleville   \n3                                Fort Worth, TX  2024-01-15     Fort Worth   \n4                          Colorado Springs, CO  2024-01-14  Cripple Creek   \n...                                         ...         ...            ...   \n1495  Bury St. Edmunds, England, United Kingdom  2024-01-13        Ipswich   \n1496                                  Grant, AL  2024-01-17   Guntersville   \n1497                         East Brunswick, NJ  2024-01-14    Long Branch   \n1498                            Kansas City, MO  2024-01-13    Leavenworth   \n1499                             Plantation, FL  2024-01-13       Sarasota   \n\n      search_country           search_position   job_level job_type  \\\n0      United States        Director Technical  Mid senior   Onsite   \n1      United States  Maintenance Data Analyst  Mid senior   Onsite   \n2      United States                   Chemist  Mid senior   Onsite   \n3      United States         Director Research  Mid senior   Onsite   \n4      United States                      Tier  Mid senior   Onsite   \n...              ...                       ...         ...      ...   \n1495  United Kingdom                Controller  Mid senior   Onsite   \n1496   United States   Ultrasound Technologist  Mid senior   Onsite   \n1497   United States    Sales-Service Promoter  Mid senior   Onsite   \n1498   United States                   Orderly   Associate   Onsite   \n1499   United States                Instructor  Mid senior   Onsite   \n\n                                             job_skills  \\\n0     Product architecture, Engineering processes, C...   \n1     Systems engineering, Technical oversight, Requ...   \n2     Data Science, Data Analysis, Machine Learning,...   \n3     AI, Applied Research, Machine Learning, Natura...   \n4     System Administration, IT Operating Systems, C...   \n...                                                 ...   \n1495  Workshop Control, Body Shop Management, HighQu...   \n1496  XRay Technologist, HIPAA, Patient intake, Nurs...   \n1497  Customer service, Product demonstration, Probl...   \n1498  DoD SkillBridge Internship, Fulltime training,...   \n1499  Yoga, Pranayama, Handson direction, Safe and e...   \n\n                                            job_summary       id  summary_len  \\\n0     As Architect you will define the products’ hig...   340370         6407   \n1     Job Title: Sr. System Engineer\\nCompany: ExLab...   640026         6308   \n2     Location: Onsite, St. Louis MO 63146\\nJob Resp...  1096469         3635   \n3     Company Description\\nJobs for Humanity is part...   998553         4011   \n4     Description\\nThe Leidos Digital Modernization ...  1189859         4117   \n...                                                 ...      ...          ...   \n1495  Job title: Workshop Controller\\nDepartment: Ac...   321651         4703   \n1496  Posting Title: X-Ray Technologist Overview:\\nF...  1230454         5704   \n1497  Job Summary\\nResponsible for assisting and con...   159258         4839   \n1498  The ARMOR Initiative DoD SkillBridge Internshi...   774643         2277   \n1499  Job Description\\nJob Title: Yoga Instructor\\nP...   700821         3452   \n\n      skill_count  \n0              33  \n1              32  \n2              30  \n3              34  \n4              31  \n...           ...  \n1495           32  \n1496           38  \n1497           32  \n1498           30  \n1499           30  \n\n[1500 rows x 19 columns]",
      "text/html": "<div>\n<style scoped>\n    .dataframe tbody tr th:only-of-type {\n        vertical-align: middle;\n    }\n\n    .dataframe tbody tr th {\n        vertical-align: top;\n    }\n\n    .dataframe thead th {\n        text-align: right;\n    }\n</style>\n<table border=\"1\" class=\"dataframe\">\n  <thead>\n    <tr style=\"text-align: right;\">\n      <th></th>\n      <th>job_link</th>\n      <th>last_processed_time</th>\n      <th>got_summary</th>\n      <th>got_ner</th>\n      <th>is_being_worked</th>\n      <th>job_title</th>\n      <th>company</th>\n      <th>job_location</th>\n      <th>first_seen</th>\n      <th>search_city</th>\n      <th>search_country</th>\n      <th>search_position</th>\n      <th>job_level</th>\n      <th>job_type</th>\n      <th>job_skills</th>\n      <th>job_summary</th>\n      <th>id</th>\n      <th>summary_len</th>\n      <th>skill_count</th>\n    </tr>\n  </thead>\n  <tbody>\n    <tr>\n      <th>0</th>\n      <td>https://www.linkedin.com/jobs/view/software-ar...</td>\n      <td>2024-01-19 09:45:09.215838+00</td>\n      <td>t</td>\n      <td>t</td>\n      <td>f</td>\n      <td>Software Architect</td>\n      <td>Harris Computer</td>\n      <td>Florida, United States</td>\n      <td>2024-01-13</td>\n      <td>Beverly Hills</td>\n      <td>United States</td>\n      <td>Director Technical</td>\n      <td>Mid senior</td>\n      <td>Onsite</td>\n      <td>Product architecture, Engineering processes, C...</td>\n      <td>As Architect you will define the products’ hig...</td>\n      <td>340370</td>\n      <td>6407</td>\n      <td>33</td>\n    </tr>\n    <tr>\n      <th>1</th>\n      <td>https://www.linkedin.com/jobs/view/senior-syst...</td>\n      <td>2024-01-19 09:45:09.215838+00</td>\n      <td>t</td>\n      <td>t</td>\n      <td>f</td>\n      <td>Senior System Engineer</td>\n      <td>ExLabs</td>\n      <td>Long Beach, CA</td>\n      <td>2024-01-13</td>\n      <td>Compton</td>\n      <td>United States</td>\n      <td>Maintenance Data Analyst</td>\n      <td>Mid senior</td>\n      <td>Onsite</td>\n      <td>Systems engineering, Technical oversight, Requ...</td>\n      <td>Job Title: Sr. System Engineer\\nCompany: ExLab...</td>\n      <td>640026</td>\n      <td>6308</td>\n      <td>32</td>\n    </tr>\n    <tr>\n      <th>2</th>\n      <td>https://www.linkedin.com/jobs/view/senior-data...</td>\n      <td>2024-01-20 11:15:59.804413+00</td>\n      <td>t</td>\n      <td>t</td>\n      <td>f</td>\n      <td>Senior Data Scientist</td>\n      <td>Workforce Connections</td>\n      <td>St Louis, MO</td>\n      <td>2024-01-14</td>\n      <td>Belleville</td>\n      <td>United States</td>\n      <td>Chemist</td>\n      <td>Mid senior</td>\n      <td>Onsite</td>\n      <td>Data Science, Data Analysis, Machine Learning,...</td>\n      <td>Location: Onsite, St. Louis MO 63146\\nJob Resp...</td>\n      <td>1096469</td>\n      <td>3635</td>\n      <td>30</td>\n    </tr>\n    <tr>\n      <th>3</th>\n      <td>https://www.linkedin.com/jobs/view/distinguish...</td>\n      <td>2024-01-19 22:25:24.801979+00</td>\n      <td>t</td>\n      <td>t</td>\n      <td>f</td>\n      <td>Distinguished Applied Researcher</td>\n      <td>Jobs for Humanity</td>\n      <td>Fort Worth, TX</td>\n      <td>2024-01-15</td>\n      <td>Fort Worth</td>\n      <td>United States</td>\n      <td>Director Research</td>\n      <td>Mid senior</td>\n      <td>Onsite</td>\n      <td>AI, Applied Research, Machine Learning, Natura...</td>\n      <td>Company Description\\nJobs for Humanity is part...</td>\n      <td>998553</td>\n      <td>4011</td>\n      <td>34</td>\n    </tr>\n    <tr>\n      <th>4</th>\n      <td>https://www.linkedin.com/jobs/view/systems-adm...</td>\n      <td>2024-01-21 01:06:09.90334+00</td>\n      <td>t</td>\n      <td>t</td>\n      <td>f</td>\n      <td>Systems Administrator</td>\n      <td>Leidos</td>\n      <td>Colorado Springs, CO</td>\n      <td>2024-01-14</td>\n      <td>Cripple Creek</td>\n      <td>United States</td>\n      <td>Tier</td>\n      <td>Mid senior</td>\n      <td>Onsite</td>\n      <td>System Administration, IT Operating Systems, C...</td>\n      <td>Description\\nThe Leidos Digital Modernization ...</td>\n      <td>1189859</td>\n      <td>4117</td>\n      <td>31</td>\n    </tr>\n    <tr>\n      <th>...</th>\n      <td>...</td>\n      <td>...</td>\n      <td>...</td>\n      <td>...</td>\n      <td>...</td>\n      <td>...</td>\n      <td>...</td>\n      <td>...</td>\n      <td>...</td>\n      <td>...</td>\n      <td>...</td>\n      <td>...</td>\n      <td>...</td>\n      <td>...</td>\n      <td>...</td>\n      <td>...</td>\n      <td>...</td>\n      <td>...</td>\n      <td>...</td>\n    </tr>\n    <tr>\n      <th>1495</th>\n      <td>https://uk.linkedin.com/jobs/view/workshop-con...</td>\n      <td>2024-01-19 09:45:09.215838+00</td>\n      <td>t</td>\n      <td>t</td>\n      <td>f</td>\n      <td>Workshop Controller</td>\n      <td>Activate Group Limited</td>\n      <td>Bury St. Edmunds, England, United Kingdom</td>\n      <td>2024-01-13</td>\n      <td>Ipswich</td>\n      <td>United Kingdom</td>\n      <td>Controller</td>\n      <td>Mid senior</td>\n      <td>Onsite</td>\n      <td>Workshop Control, Body Shop Management, HighQu...</td>\n      <td>Job title: Workshop Controller\\nDepartment: Ac...</td>\n      <td>321651</td>\n      <td>4703</td>\n      <td>32</td>\n    </tr>\n    <tr>\n      <th>1496</th>\n      <td>https://www.linkedin.com/jobs/view/x-ray-techn...</td>\n      <td>2024-01-21 04:16:54.473867+00</td>\n      <td>t</td>\n      <td>t</td>\n      <td>f</td>\n      <td>X-Ray Technologist</td>\n      <td>Fast Pace Health</td>\n      <td>Grant, AL</td>\n      <td>2024-01-17</td>\n      <td>Guntersville</td>\n      <td>United States</td>\n      <td>Ultrasound Technologist</td>\n      <td>Mid senior</td>\n      <td>Onsite</td>\n      <td>XRay Technologist, HIPAA, Patient intake, Nurs...</td>\n      <td>Posting Title: X-Ray Technologist Overview:\\nF...</td>\n      <td>1230454</td>\n      <td>5704</td>\n      <td>38</td>\n    </tr>\n    <tr>\n      <th>1497</th>\n      <td>https://www.linkedin.com/jobs/view/xfinity-ret...</td>\n      <td>2024-01-19 23:17:04.320124+00</td>\n      <td>t</td>\n      <td>t</td>\n      <td>f</td>\n      <td>Xfinity Retail Sales Consultant</td>\n      <td>XFINITY Store by Comcast</td>\n      <td>East Brunswick, NJ</td>\n      <td>2024-01-14</td>\n      <td>Long Branch</td>\n      <td>United States</td>\n      <td>Sales-Service Promoter</td>\n      <td>Mid senior</td>\n      <td>Onsite</td>\n      <td>Customer service, Product demonstration, Probl...</td>\n      <td>Job Summary\\nResponsible for assisting and con...</td>\n      <td>159258</td>\n      <td>4839</td>\n      <td>32</td>\n    </tr>\n    <tr>\n      <th>1498</th>\n      <td>https://www.linkedin.com/jobs/view/yard-associ...</td>\n      <td>2024-01-19 09:45:09.215838+00</td>\n      <td>t</td>\n      <td>t</td>\n      <td>f</td>\n      <td>Yard Associate (SkillBridge)</td>\n      <td>ARMOR Initiative</td>\n      <td>Kansas City, MO</td>\n      <td>2024-01-13</td>\n      <td>Leavenworth</td>\n      <td>United States</td>\n      <td>Orderly</td>\n      <td>Associate</td>\n      <td>Onsite</td>\n      <td>DoD SkillBridge Internship, Fulltime training,...</td>\n      <td>The ARMOR Initiative DoD SkillBridge Internshi...</td>\n      <td>774643</td>\n      <td>2277</td>\n      <td>30</td>\n    </tr>\n    <tr>\n      <th>1499</th>\n      <td>https://www.linkedin.com/jobs/view/yoga-instru...</td>\n      <td>2024-01-19 09:45:09.215838+00</td>\n      <td>t</td>\n      <td>t</td>\n      <td>f</td>\n      <td>Yoga Instructor</td>\n      <td>Active Wellness</td>\n      <td>Plantation, FL</td>\n      <td>2024-01-13</td>\n      <td>Sarasota</td>\n      <td>United States</td>\n      <td>Instructor</td>\n      <td>Mid senior</td>\n      <td>Onsite</td>\n      <td>Yoga, Pranayama, Handson direction, Safe and e...</td>\n      <td>Job Description\\nJob Title: Yoga Instructor\\nP...</td>\n      <td>700821</td>\n      <td>3452</td>\n      <td>30</td>\n    </tr>\n  </tbody>\n</table>\n<p>1500 rows × 19 columns</p>\n</div>"
     },
     "execution_count": 3,
     "metadata": {},
     "output_type": "execute_result"
    }
   ],
   "source": [
    "df = pd.read_csv(f\"{path}/data/kaggle_linkedin_jd_skills_dataset/sampled_jd_skills.csv\")\n",
    "df"
   ]
  },
  {
   "cell_type": "markdown",
   "source": [
    "## Testing prompts"
   ],
   "metadata": {
    "collapsed": false
   },
   "id": "8c3ef317b8959c9d"
  },
  {
   "cell_type": "code",
   "outputs": [],
   "source": [
    "i=183"
   ],
   "metadata": {
    "collapsed": false,
    "ExecuteTime": {
     "end_time": "2025-02-27T04:13:29.253270Z",
     "start_time": "2025-02-27T04:13:29.250202Z"
    }
   },
   "id": "416793c43b9cb514",
   "execution_count": 24
  },
  {
   "cell_type": "code",
   "outputs": [
    {
     "name": "stdout",
     "output_type": "stream",
     "text": [
      "**Job role:** Experienced Associate, Software Engineer (Python/SQL)\n",
      "\n",
      "**Job Description:** Specialty/Competency:\n",
      "Risk\n",
      "Industry/Sector:\n",
      "Not Applicable\n",
      "Time Type:\n",
      "Full time\n",
      "Travel Requirements:\n",
      "Up to 60%\n",
      "A career in our Advisory Acceleration Centre is the natural extension of PwC’s leading class global delivery capabilities. We provide premium, cost effective, high quality services that support process quality and delivery capability in support for client engagements.\n",
      "To really stand out and make us fit for the future in a constantly changing world, each and every one of us at PwC needs to be a purpose-led and values-driven leader at every level. To help us achieve this we have the PwC Professional; our global leadership development framework. It gives us a single set of expectations across our lines, geographies and career paths, and provides transparency on the skills we need as individuals to be successful and progress in our careers, now and in the future.\n",
      "Responsibilities\n",
      "As an Associate, you'll work as part of a team of problem solvers, helping to solve complex business issues from strategy to execution. PwC Professional skills and responsibilities for this management level include but are not limited to:\n",
      "Invite and give in the moment feedback in a constructive manner.\n",
      "Share and collaborate effectively with others.\n",
      "Identify and make suggestions for improvements when problems and/or opportunities arise.\n",
      "Handle, manipulate and analyse data and information responsibly.\n",
      "Follow risk management and compliance procedures.\n",
      "Keep up-to-date with developments in area of specialism.\n",
      "Communicate confidently in a clear, concise and articulate manner - verbally and in the materials I produce.\n",
      "Build and maintain an internal and external network.\n",
      "Seek opportunities to learn about how PwC works as a global network of firms.\n",
      "Uphold the firm's code of ethics and business conduct.\n",
      "Demonstrates some abilities and/or a proven record of success in the implementation of Advanced Data Analytics and modeling that include:\n",
      "Possessing experience with one or more of the following key programming and data analytics tools: Python, R, SAS;\n",
      "Working knowledge of the following secondary languages and tools is a plus: Java, C++/C#, SQL, Tableau, Alteryx, and Excel Macros / VBA /JS;\n",
      "Displaying understanding of advanced AI/machine learning, statistical/econometric modeling techniques, and financial engineering methods to develop and/or validate models (Masters-level coursework in at least one of these subject areas is preferred);\n",
      "Demonstrating knowledge of the financial services industry;\n",
      "Demonstrating exposure to modeling methodologies in at least one of the following areas: credit risk, market risk, assets and liabilities management, fraud detection, anti money laundering and other functional modeling and analytics areas; and,\n",
      "Displaying knowledge or familiarity with industry financial instrument pricing tools and data sources e.g. Bloomberg, Refinitiv etc.\n",
      "Learn more about how we work: https://pwc.to/how-we-work\n",
      "PwC does not intend to hire experienced or entry level job seekers who will need, now or in the future, PwC sponsorship through the H-1B lottery, except as set forth within the following policy: https://pwc.to/H-1B-Lottery-Policy.\n",
      "All qualified applicants will receive consideration for employment at PwC without regard to race; creed; color; religion; national origin; sex; age; disability; sexual orientation; gender identity or expression; genetic predisposition or carrier status; veteran, marital, or citizenship status; or any other status protected by law. PwC is proud to be an affirmative action and equal opportunity employer.\n",
      "For positions based in San Francisco, consideration of qualified candidates with arrest and conviction records will be in a manner consistent with the San Francisco Fair Chance Ordinance.\n",
      "Applications will be accepted until the position is filled or the posting is removed, unless otherwise set forth on the following webpage. Please visit this link for information about anticipated application deadlines: https://pwc.to/us-application-deadlines\n",
      "For positions in California, Colorado, Hawaii, Nevada, New York State, or Washington State, or for opportunities that will report to a supervisor, office or other work site in New York State, please visit the following link for pay range information: https://pwc.to/payrange-v1-advisoryACassociate2\n",
      "Show more\n",
      "Show less\n",
      "\n",
      "**Skills:** Python, R, SAS, Java, C++/C#, SQL, Tableau, Alteryx, Excel Macros / VBA / JS, Advanced AI/Machine Learning, Statistical/Econometric Modeling, Financial Engineering, Financial Services Industry, Modeling Methodologies, Credit Risk, Market Risk, Assets and Liabilities Management, Fraud Detection, Anti Money Laundering, Industry Financial Instrument Pricing Tools, Bloomberg, Refinitiv, Advanced Data Analytics, Data Manipulation and Analysis, Problem Solving, Communication, Collaboration, Feedback, Risk Management, Compliance, Leadership\n"
     ]
    }
   ],
   "source": [
    "print(\"**Job role:**\", df.iloc[i][\"job_title\"])\n",
    "print(\"\\n**Job Description:**\", df.iloc[i][\"job_summary\"])\n",
    "print(\"\\n**Skills:**\", df.iloc[i][\"job_skills\"])\n"
   ],
   "metadata": {
    "collapsed": false,
    "ExecuteTime": {
     "end_time": "2025-02-27T04:13:29.646164Z",
     "start_time": "2025-02-27T04:13:29.643237Z"
    }
   },
   "id": "87e036dae7706cf9",
   "execution_count": 25
  },
  {
   "cell_type": "markdown",
   "source": [
    "### Generating Resume"
   ],
   "metadata": {
    "collapsed": false
   },
   "id": "64762fdc3f74ed59"
  },
  {
   "cell_type": "code",
   "outputs": [],
   "source": [
    "category_requirements = {\n",
    "    \"Complete Mismatch\": \"\"\"\n",
    "    The resume is highly professional but entirely unsuitable for the job. There is no meaningful alignment between the candidate's background and the job requirements.\n",
    "\n",
    "    - **Career Path:**  \n",
    "      - The candidate has spent their career in an industry that is entirely unrelated to the job.  \n",
    "      - Example: A healthcare professional applying for a software engineering role without any technical experience.  \n",
    "\n",
    "    - **Skills:**  \n",
    "      - There is no significant overlap between the candidate’s skills and the job requirements.  \n",
    "      - The candidate specializes in an entirely different domain and lacks both fundamental and advanced job-related skills.  \n",
    "      - Example: A mechanical engineer with expertise in CAD software applying for a data science role requiring Python and ML expertise.  \n",
    "\n",
    "    - **Experience:**  \n",
    "      - The candidate has extensive work experience, but all of it is in a completely different field.  \n",
    "      - Past roles have no transferable experience applicable to the new position.  \n",
    "\n",
    "    - **Education & Certifications:**  \n",
    "      - The candidate has degrees and certifications that do not contribute to the job requirements.  \n",
    "      - Example: A candidate with a nursing degree applying for a software engineering role without relevant training or coursework in programming.  \n",
    "    \"\"\",\n",
    "    \n",
    "    \"Underwhelming\": \"\"\"\n",
    "    The resume has some relevant aspects but falls noticeably short of the job requirements. The candidate may show potential but lacks key qualifications or experience to perform effectively in the role. The resume must satisfy at least one of the following conditions, though it may meet multiple.\n",
    "\n",
    "    - **Experience:**  \n",
    "      - The candidate has experience, but it is 30-50% less than the required level.  \n",
    "      - Applying for a mid-level role but has only entry-level experience or internship work.  \n",
    "      - Experience is somewhat related but lacks depth or key responsibilities expected for the role.  \n",
    "      - Example: A candidate applying for a data science position with only one year of experience in data entry and no hands-on machine learning projects.  \n",
    "\n",
    "    - **Skills:**  \n",
    "      - The candidate possesses 40-60% of the required skills but lacks proficiency in essential ones.  \n",
    "      - Skills are at a basic level when the job requires advanced knowledge.  \n",
    "      - Example: A software engineer applying for a full-stack role but only has frontend development experience and lacks backend/database knowledge.  \n",
    "\n",
    "    - **Projects/Work:**  \n",
    "      -- The experience falls short of the Responsibilities mentioned in **Job Description**\n",
    "      - The candidate has worked on projects, but they are limited in scope and do not demonstrate complex problem-solving.  \n",
    "      - Example: A candidate applying for an AI role who has only completed beginner-level projects like basic data visualization but has no experience building predictive models or deploying solutions.  \n",
    "\n",
    "    - **Education & Certifications:**  \n",
    "      - The candidate has a degree that is somewhat related but lacks specialized coursework, certifications, or domain expertise required for the job.  \n",
    "      - Example: An applicant with a general engineering degree applying for a cybersecurity role without security-specific training or certification.  \n",
    "    \"\"\",\n",
    "    \n",
    "    \"Good Fit\": \"\"\"\n",
    "    The resume is a strong match for the job and meets all key expectations. The candidate is well-qualified and aligns well with the role requirements.\n",
    "\n",
    "    - **Experience:**  \n",
    "      - The candidate has experience that meets or slightly exceeds the required level.  \n",
    "      - A progressive career trajectory is evident, showing growth in responsibility and expertise.  \n",
    "      - Example: A candidate applying for a mid-level data science role with 3+ years of experience in building machine learning models and optimizing data pipelines.  \n",
    "\n",
    "    - **Skills:**  \n",
    "      - 95-100% alignment with job requirements.  \n",
    "      - The candidate has demonstrated real-world application of skills, rather than just listing them.  \n",
    "      - Example: A full-stack developer listing React, Node.js, and PostgreSQL as key technologies and showing their application in past work.  \n",
    "\n",
    "    - **Projects/Work:**  \n",
    "      - The experience must be closer to the Responsibilities mentioned in **Job Description**.\n",
    "      - The candidate presents projects using an **Action-Problem-Result (APR)** format:  \n",
    "        - Performed [advanced strategic action] to resolve [complex systemic problem] resulting in [exceptional measurable outcomes with broad impact]. Use some kind of number as a metric for measurable outcome.\n",
    "      - Example: *Engineered an end-to-end claim complexity scoring ML pipeline, negating ~3 minutes of manual classification per claim, improving processing time by 20%.*  \n",
    "      - Build 4-5 bullet points for work experience.\n",
    "\n",
    "    - **Education & Certifications:**  \n",
    "      - The candidate's educational background is an exact match for the job, including relevant degrees and certifications.  \n",
    "      - Example: A software engineer applying for a backend development role with a Computer Science degree and AWS certification.  \n",
    "    \"\"\",\n",
    "    \n",
    "    \"Overqualified\": \"\"\"\n",
    "    The resume significantly exceeds job requirements, indicating that the candidate may be too advanced for the role.\n",
    "\n",
    "    - **Experience:**  \n",
    "      - The candidate has 3-5+ years more experience than required.  \n",
    "      - Holding leadership or advanced roles (e.g., senior manager, lead engineer) while applying for non-leadership positions.  \n",
    "      - Example: A data scientist with 10 years of experience and a track record of leading AI teams applying for a data analyst position.  \n",
    "\n",
    "    - **Skills:**  \n",
    "      - The candidate possesses every required skill and additional high-level expertise beyond what the job demands.  \n",
    "      - Example: A candidate applying for a software engineering role listing expertise in not only Python, Java, and C++, but also niche skills like CUDA programming for GPU acceleration.  \n",
    "\n",
    "    - **Projects/Work:**  \n",
    "      - The experience must be completely similar to the Responsibilities mentioned in **Job Description**.\n",
    "      - The candidate presents projects using an **Action-Problem-Result (APR)** format:  \n",
    "        - Performed [advanced strategic action] to resolve [complex systemic problem] resulting in [exceptional measurable outcomes with broad impact]. Use some kind of number as a metric for measurable outcome.\n",
    "      - Example: *Revised the existing claim assignment process to automatically assign claims classified by scoring engine to agents by prioritizing highly complex claims, achieving 100% automation.* \n",
    "      - Build 6 bullet points for work experience. \n",
    "\n",
    "    - **Education & Certifications:**  \n",
    "      - The candidate holds degrees and certifications beyond what is required for the role.  \n",
    "      - Example: A PhD in Artificial Intelligence applying for a mid-level software engineering position that only requires a Masters's degree.  \n",
    "\n",
    "    - **Career Progression:**  \n",
    "      - The candidate has a track record of rapid career growth, indicating they may be better suited for a senior role rather than the one they are applying for.  \n",
    "      - Example: Someone who went from junior developer to senior software architect in five years applying for a mid-level role.  \n",
    "    \"\"\"\n",
    "}\n",
    "\n",
    "\n",
    "# Candidate fit categories\n",
    "categories = [\"Complete Mismatch\", \"Underwhelming\", \"Good Fit\", \"Overqualified\"]"
   ],
   "metadata": {
    "collapsed": false,
    "ExecuteTime": {
     "end_time": "2025-02-27T04:00:16.942697Z",
     "start_time": "2025-02-27T04:00:16.939182Z"
    }
   },
   "id": "c032543d4671866b",
   "execution_count": 6
  },
  {
   "cell_type": "code",
   "outputs": [],
   "source": [
    "# Resume Generation Prompt for LLaMA Models\n",
    "\n",
    "resume_template = \"\"\"\n",
    "You are an expert resume writer with specialized knowledge in talent acquisition and hiring practices helping {name} to apply for a job. Your task is to generate a tailored, content-rich resume based on the provided inputs while strictly adhering to the specified fit category constraints. Below are the details of the job that the candidate will be applying to:\n",
    "\n",
    "## **Job Details**:\n",
    "{name} is applying for the company {company}. Below are the details for the job that the candidate will be applying to:\n",
    "- **Role:** {job_role}\n",
    "- **Job Description:** {jd}\n",
    "- **Required Skills:** {skills}\n",
    "\n",
    "**NOTE**: {name} will not have access to Required skills at the time of applying.\n",
    "\n",
    "## **Fit Category:** {fit_category}\n",
    "## **Category Requirements:**  \n",
    "{category_requirements}\n",
    "\n",
    "## **Instructions**:\n",
    "1. **Resume Objective**  \n",
    "   - Generate a professional resume that precisely aligns with the specified fit category ({fit_category}).\n",
    "   - Ensure the resume maintains industry standards and meets professional expectations.\n",
    "   - Structure the resume to be at least **600 words** with clearly defined sections.\n",
    "\n",
    "2. **Mandatory Sections**  \n",
    "   - **Education**: University, degree title, major, graduation year, GPA.\n",
    "   - **Skills**: Comma separated list of skills that include technical skills, soft skills, technologies, and other skills. List at least 15 and at most 40.\n",
    "   - **Work Experience**: Consists of company names, roles, employment type, duration, and detailed bullet points. Constitutes the work experience and work done for the company. Choose a company name, employment type and duration without leaving it blank. Be creative with the company names. **The company name should not be same as the one mentioned in Job Description**.\n",
    "   \n",
    "\n",
    "3. **Optional Sections (Context-Based)**  \n",
    "   - **Projects**: Required if work experience is limited, with clear descriptions and technology stack. This constitutes of the personal and academic projects.\n",
    "   - **Professional Summary**: Tailored to the fit category.\n",
    "   - **Certifications/Accomplishments**: Adjusted based on qualification level.\n",
    "   - **Additional Relevant Sections**: If beneficial, add elements such as leadership, research, or publications.\n",
    "\n",
    "4. **Formatting Guidelines**  \n",
    "   - Use **clear section headings**.\n",
    "   - Precede each bullet point with **\"-\"**.\n",
    "   - Mark key entities (**institutions, companies, project names**) with **\"*\"**.\n",
    "   - Each bullet point must be in between **150-180 characters**.\n",
    "   - Include:\n",
    "     - **4-6 bullet points** for work experience. \n",
    "     - **2-3 bullet points** per project.\n",
    "\n",
    "5. **Category-Specific Constraints**  \n",
    "   - **Complete Mismatch (0-30% relevance)**:\n",
    "     - Generate a resume from an **entirely different career path**.\n",
    "     - Ensure **minimal skill and qualification overlap** with job requirements.\n",
    "     - Maintain professional quality but unrelated experience.\n",
    "   - **Underwhelming (50-70% relevance)**:\n",
    "     - Include **some relevant experience but with clear gaps**.\n",
    "     - Show a **foundational but incomplete** skill set.\n",
    "     - Present **partially relevant qualifications** with notable omissions.\n",
    "   - **Good Fit (95-100% relevance)**:\n",
    "     - Match **all required skills and experience** at an appropriate depth.\n",
    "     - Follow **Action-Problem-Result (APR) format** in work and project sections.\n",
    "     - Demonstrate **clear career progression** and **precise qualification match**.\n",
    "   - **Overqualified (exceeds requirements)**:\n",
    "     - Include **experience exceeding job requirements by 3-5 years**.\n",
    "     - Highlight **leadership, strategic impact, and advanced certifications**.\n",
    "     - Showcase **complex problem-solving** and **business impact** beyond role expectations.\n",
    "\n",
    "6. **Output Requirements**  \n",
    "   - Ensure **strict adherence** to the fit category.\n",
    "   - Generate **only** the resume; **do not include any explanatory notes or meta-text**.\n",
    "   - Maintain **authenticity, clarity, and professionalism** throughout.\n",
    "   - Be creative in writing bullet points for work experience and projects.\n",
    "   \n",
    "**NOTE**: {name} is an imaginary person who does not exist. Therefore, you would not be violating any data privacy issues.\n",
    "\"\"\""
   ],
   "metadata": {
    "collapsed": false,
    "ExecuteTime": {
     "end_time": "2025-02-27T04:00:16.945900Z",
     "start_time": "2025-02-27T04:00:16.943403Z"
    }
   },
   "id": "a0a0fe42e69a8fc5",
   "execution_count": 7
  },
  {
   "cell_type": "code",
   "outputs": [],
   "source": [
    "#Llama 3.2 using Ollama on local system\n",
    "model = OllamaLLM(model=\"llama3.2\", temperature = 1)\n",
    "\n",
    "prompt = ChatPromptTemplate.from_template(resume_template)\n",
    "chain = prompt | model\n",
    "data = {\n",
    "    \"name\": \"John Cena\",\n",
    "    \"company\": df.iloc[i][\"company\"],\n",
    "    \"job_role\": df.iloc[i][\"job_title\"],\n",
    "    \"jd\": df.iloc[i][\"job_summary\"],\n",
    "    \"skills\":df.iloc[i][\"job_skills\"],\n",
    "    \"fit_category\": categories[2],\n",
    "    \"category_requirements\": category_requirements[categories[2]]\n",
    "}\n",
    "resume1 = chain.invoke(data)"
   ],
   "metadata": {
    "collapsed": false,
    "ExecuteTime": {
     "end_time": "2025-02-27T04:00:50.362283Z",
     "start_time": "2025-02-27T04:00:16.946568Z"
    }
   },
   "id": "94cd72ec10287ca8",
   "execution_count": 8
  },
  {
   "cell_type": "code",
   "outputs": [
    {
     "name": "stdout",
     "output_type": "stream",
     "text": [
      "Here's a sample resume that matches the specified requirements:\n",
      "\n",
      "**John Doe**\n",
      "**Software Engineer**\n",
      "\n",
      "**Education:**\n",
      "\n",
      "* **Bachelor of Science in Computer Science**, University of California, Berkeley (2018-2022)\n",
      "\t+ GPA: 3.7/4.0\n",
      "\t+ Relevant Coursework: Data Structures, Algorithms, Computer Systems, Software Engineering\n",
      "\n",
      "**Skills:**\n",
      "\n",
      "* Programming languages: Java, Python, C++\n",
      "* Development frameworks: Spring Boot, Django, React\n",
      "* Databases: MySQL, MongoDB, PostgreSQL\n",
      "* Operating Systems: Windows, Linux, macOS\n",
      "* Soft skills: Team Collaboration, Communication, Problem-Solving\n",
      "\n",
      "**Work Experience:**\n",
      "\n",
      "* **Junior Software Engineer**, TechCorp (2020-Present)\n",
      "\t- Contributed to the development of a scalable e-commerce platform using Java and Spring Boot.\n",
      "\t- Collaborated with cross-functional teams to design and implement software solutions for clients.\n",
      "\t- Implemented automated testing frameworks to improve code quality and reduce bugs.\n",
      "\n",
      "**Projects:**\n",
      "\n",
      "* **Machine Learning Pipeline**, Personal Project (2020)\n",
      "\t+ Developed an end-to-end machine learning pipeline using Python, TensorFlow, and scikit-learn.\n",
      "\t+ Implemented data preprocessing, feature engineering, model training, and model evaluation phases.\n",
      "\t+ Achieved 95% accuracy on the test dataset, improving performance by 20% compared to baseline models.\n",
      "\n",
      "**Professional Summary:**\n",
      "\n",
      "Highly motivated software engineer with a strong background in computer science and experience working with various technologies. Proven track record of delivering high-quality software solutions and collaborating effectively with cross-functional teams.\n",
      "\n",
      "**Certifications/Accomplishments:**\n",
      "\n",
      "* **Certified Java Developer**, Oracle Corporation (2020)\n",
      "* **Contributor to Open-Source Projects**, GitHub (2018-Present)\n",
      "\n",
      "Note: The bullet points in the work experience section are written in the Action-Problem-Result (APR) format, and the project description uses a similar format. The skills section includes relevant technical skills, soft skills, and other relevant information.\n"
     ]
    }
   ],
   "source": [
    "print(resume1)"
   ],
   "metadata": {
    "collapsed": false,
    "ExecuteTime": {
     "end_time": "2025-02-27T04:00:50.375257Z",
     "start_time": "2025-02-27T04:00:50.368894Z"
    }
   },
   "id": "f0078213be5a75f6",
   "execution_count": 9
  },
  {
   "cell_type": "code",
   "outputs": [],
   "source": [
    "#Llama 3.3 with NVIDIA NIM\n",
    "client = ChatNVIDIA(\n",
    "  model=\"meta/llama-3.3-70b-instruct\",\n",
    "  api_key=\"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\", \n",
    "  temperature=1.0\n",
    ")\n",
    "\n",
    "\n",
    "prompt = ChatPromptTemplate.from_template(resume_template)\n",
    "chain = prompt | model\n",
    "data = {\n",
    "    \"name\": \"John Cena\",\n",
    "    \"company\": df.iloc[i][\"company\"],\n",
    "    \"job_role\": df.iloc[i][\"job_title\"],\n",
    "    \"jd\": df.iloc[i][\"job_summary\"],\n",
    "    \"skills\":df.iloc[i][\"job_skills\"],\n",
    "    \"fit_category\": categories[2],\n",
    "    \"category_requirements\": category_requirements[categories[2]]\n",
    "}\n",
    "resume2 = chain.invoke(data)"
   ],
   "metadata": {
    "collapsed": false,
    "ExecuteTime": {
     "end_time": "2025-02-27T04:01:30.082543Z",
     "start_time": "2025-02-27T04:00:50.377362Z"
    }
   },
   "id": "2ca1c74d2e76e89d",
   "execution_count": 10
  },
  {
   "cell_type": "code",
   "outputs": [
    {
     "name": "stdout",
     "output_type": "stream",
     "text": [
      "Here's a sample resume that meets the requirements:\n",
      "\n",
      "**Education**\n",
      "\n",
      "* Bachelor of Science in Computer Science, University of California, Los Angeles (UCLA) (2018-2022)\n",
      "\t+ GPA: 3.5/4.0\n",
      "\t+ Relevant Coursework: Data Structures, Algorithms, Machine Learning, Artificial Intelligence\n",
      "\n",
      "**Skills**\n",
      "\n",
      "* Programming languages: Python, Java, C++, JavaScript\n",
      "* Development frameworks: React, Node.js, Django\n",
      "* Databases: MySQL, PostgreSQL, MongoDB\n",
      "* Operating Systems: Windows, Linux, macOS\n",
      "* Cloud platforms: AWS, Azure, Google Cloud\n",
      "* Soft skills: Communication, Teamwork, Problem-solving\n",
      "\n",
      "**Work Experience**\n",
      "\n",
      "**Data Analyst**, ABC Corporation (2020-Present)\n",
      "\n",
      "* Analyzed large datasets to identify trends and patterns using machine learning algorithms\n",
      "* Developed and implemented data visualizations to communicate insights to stakeholders\n",
      "* Collaborated with cross-functional teams to design and implement new data pipelines\n",
      "\t+ Resulted in a 25% reduction in data processing time\n",
      "\t+ Improved data quality by 30%\n",
      "* *Created an end-to-end claim complexity scoring ML pipeline, negating ~3 minutes of manual classification per claim, improving processing time by 20%*\n",
      "\n",
      "**Junior Software Engineer**, DEF Startups (2019-2020)\n",
      "\n",
      "* Contributed to the development of a cloud-based mobile application using React and Node.js\n",
      "* Implemented new features and bug fixes using agile methodologies\n",
      "* Participated in code reviews and ensured high-quality standards\n",
      "\t+ Improved code coverage by 50%\n",
      "\t+ Reduced bugs by 20%\n",
      "\n",
      "**Projects**\n",
      "\n",
      "* **Automated Claim Processing System**: Developed an end-to-end claim processing system using Python, Django, and MySQL. Utilized machine learning algorithms to improve accuracy.\n",
      "\t+ Technologies used: Python, Django, MySQL, TensorFlow\n",
      "\t+ Results: 90% accurate claim classification\n",
      "* **Chatbot for Customer Support**: Created a chatbot using React, Node.js, and MongoDB to provide automated customer support.\n",
      "\t+ Technologies used: React, Node.js, MongoDB, Dialogflow\n",
      "\t+ Results: 40% reduction in customer support queries\n",
      "\n",
      "**Professional Summary**\n",
      "\n",
      "Highly motivated and detail-oriented data analyst with expertise in machine learning, data visualization, and cloud platforms. Proven track record of improving data quality and processing time through innovative solutions.\n",
      "\n",
      "**Certifications/Accomplishments**\n",
      "\n",
      "* AWS Certified Solutions Architect\n",
      "* Certified Data Scientist (CDS)\n",
      "\n",
      "Note: This is a sample resume and may not be tailored to a specific job opening. The information provided is for demonstration purposes only.\n"
     ]
    }
   ],
   "source": [
    "print(resume2)"
   ],
   "metadata": {
    "collapsed": false,
    "ExecuteTime": {
     "end_time": "2025-02-27T04:01:30.096173Z",
     "start_time": "2025-02-27T04:01:30.085659Z"
    }
   },
   "id": "df0c6d73d982241c",
   "execution_count": 11
  },
  {
   "cell_type": "code",
   "outputs": [],
   "source": [
    "#NVIDIA nemotron model listed as a model for synthetic data generation usecase\n",
    "model = ChatNVIDIA(\n",
    "  model=\"nvidia/nemotron-4-340b-instruct\",\n",
    "  api_key=\"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\", \n",
    "  temperature=1.0\n",
    ")\n",
    "\n",
    "prompt = ChatPromptTemplate.from_template(resume_template)\n",
    "chain = prompt | model\n",
    "data = {\n",
    "    \"name\": \"John Cena\",\n",
    "    \"company\": df.iloc[i][\"company\"],\n",
    "    \"job_role\": df.iloc[i][\"job_title\"],\n",
    "    \"jd\": df.iloc[i][\"job_summary\"],\n",
    "    \"skills\":df.iloc[i][\"job_skills\"],\n",
    "    \"fit_category\": categories[2],\n",
    "    \"category_requirements\": category_requirements[categories[2]]\n",
    "}\n",
    "resume3 = chain.invoke(data).content"
   ],
   "metadata": {
    "collapsed": false,
    "ExecuteTime": {
     "end_time": "2025-02-27T04:03:13.321935Z",
     "start_time": "2025-02-27T04:01:30.100642Z"
    }
   },
   "id": "6534f27892a34e6d",
   "execution_count": 12
  },
  {
   "cell_type": "code",
   "outputs": [
    {
     "name": "stdout",
     "output_type": "stream",
     "text": [
      "**John Cena**\n",
      "*Senior Data Engineer*\n",
      "\n",
      "**Professional Summary**\n",
      "\n",
      "Highly skilled Senior Data Engineer with 12+ years of experience in designing, implementing, and optimizing ETL processes, data pipelines, and machine learning models. Proven track record in developing and deploying large-scale data solutions using AWS cloud services, with a strong focus on data quality, consistency, and security. Demonstrated expertise in NLP, data mining, and data analysis, driving business growth and efficiency.\n",
      "\n",
      "**Skills**\n",
      "\n",
      "Machine Learning, NLP, Data processing, AWS, ETL, Java, Python, Oracle 11g/12c, NiFi, Informatica, GIT, SVN, Data pipelines, Data governance, Data mining, Data analysis, Data modeling, Extract Transform and Load (ETL), AWS Glue, AWS Lambda, AWS S3, Windows, Linux (CentOS Red Hat), Postgres database, Petabyte range, Software repository tools, Web services, Microservices\n",
      "\n",
      "**Work Experience**\n",
      "\n",
      "*Data Solutions, Inc.*\n",
      "*Senior Data Engineer*\n",
      "*Full-time, 2018-Present*\n",
      "\n",
      "- Engineered an end-to-end NLP-based data processing pipeline, reducing manual data classification time by 3 hours per day and improving overall data processing efficiency by 25%.\n",
      "- Implemented a scalable and secure data pipeline using AWS Glue, AWS Lambda, and AWS S3, processing over 1 PB of unstructured data and increasing data availability by 99.9%.\n",
      "- Optimized ETL processes, reducing data inconsistencies by 80% and improving data quality by 95%, ensuring reliable and accurate data for cross-functional teams.\n",
      "- Collaborated with data scientists and domain experts to develop and deploy machine learning models, improving data classification accuracy by 15% and driving business growth.\n",
      "- Led the transition of a GOTS-based system to a cloud-based solution, reducing infrastructure costs by 30% and improving system performance by 50%.\n",
      "\n",
      "*Data Analytics Corp.*\n",
      "*Data Engineer*\n",
      "*Full-time, 2015-2018*\n",
      "\n",
      "- Designed and implemented ETL processes for a multi-terabyte data warehouse, reducing data processing time by 40% and improving data consistency by 90%.\n",
      "- Developed and maintained data pipelines using Java and Python, ensuring seamless integration with various data sources and enabling real-time data analysis.\n",
      "- Collaborated with stakeholders to understand their data needs, providing technical guidance and support for data-related tasks and improving data-driven decision-making.\n",
      "\n",
      "**Education**\n",
      "\n",
      "*University of California, Berkeley*\n",
      "*Master of Science in Computer Science*\n",
      "*2013-2015*\n",
      "*GPA: 3.8*\n",
      "\n",
      "*Stanford University*\n",
      "*Bachelor of Science in Computer Science*\n",
      "*2009-2013*\n",
      "*GPA: 3.9*\n",
      "\n",
      "**Certifications**\n",
      "\n",
      "*AWS Certified Solutions Architect - Professional*\n",
      "*AWS Certified Big Data - Specialty*\n",
      "*Cloudera Certified Developer for Apache Hadoop (CCDH)*\n",
      "*Oracle Certified Professional, Java SE 8 Programmer*\n",
      "*Informatica Certified Professional - Data Integration*\n",
      "\n",
      "**Projects**\n",
      "\n",
      "*Smart Data Processing*\n",
      "\n",
      "- Developed a machine learning model using NLP techniques to classify unstructured data, improving data classification accuracy by 20%.\n",
      "- Implemented a data pipeline using AWS Glue and AWS Lambda, processing over 1 TB of unstructured data per day.\n",
      "\n",
      "*Data Warehouse Optimization*\n",
      "\n",
      "- Optimized ETL processes for a multi-terabyte data warehouse, reducing data processing time by 30% and improving data consistency by 80%.\n",
      "- Implemented data governance policies, ensuring data quality and security.\n"
     ]
    }
   ],
   "source": [
    "print(resume3)"
   ],
   "metadata": {
    "collapsed": false,
    "ExecuteTime": {
     "end_time": "2025-02-27T04:03:13.329665Z",
     "start_time": "2025-02-27T04:03:13.325002Z"
    }
   },
   "id": "3bc79b84a645c30c",
   "execution_count": 13
  },
  {
   "cell_type": "markdown",
   "source": [
    "We can clearly see that the NVIDIA's nemotron model generated the best content. Lets check it for other category fit."
   ],
   "metadata": {
    "collapsed": false
   },
   "id": "54110c69d1c4326b"
  },
  {
   "cell_type": "code",
   "outputs": [
    {
     "name": "stdout",
     "output_type": "stream",
     "text": [
      "**John Cena**\n",
      "*Professional Wrestler and Entertainer*\n",
      "\n",
      "**Professional Summary**\n",
      "\n",
      "Highly motivated and dedicated professional wrestler with a successful career in sports entertainment. Proven ability to engage and captivate audiences through storytelling and physical performance. Seeking to leverage my skills in a new and challenging role.\n",
      "\n",
      "**Skills**\n",
      "\n",
      "- Physical fitness, sports entertainment, public speaking, teamwork, time management, creativity, adaptability, leadership, event planning, social media management, choreography, stage combat, fan engagement, merchandising, live event production, television production, acting, stunt work, brand representation, community outreach, crisis management, conflict resolution, safety protocols, first aid, CPR, emergency response, media relations, public appearances, autograph signings, meet-and-greets, promotional events, cross-functional collaboration, project management, strategic planning, data analysis, trend forecasting, market research, audience demographics, fan engagement metrics, social media analytics, brand development, product development, licensing agreements, intellectual property management, sponsorship acquisition, partnership negotiation, vendor management, budget management, financial forecasting, risk assessment, legal compliance, crisis communication, reputation management, diversity and inclusion, ethical decision-making, sustainability initiatives, stakeholder engagement, employee development, performance coaching, talent scouting, event security, contingency planning, emergency preparedness, safety training, accessibility compliance, crisis counseling, mental health awareness, physical rehabilitation, injury prevention, wellness programs, nutrition education, fitness training, personal branding, career development, mentorship, thought leadership, public policy advocacy, social responsibility, corporate social responsibility, philanthropy, community investment, cause marketing, social impact measurement, ethical supply chain management, sustainable sourcing, environmental stewardship, diversity and inclusion training, cross-cultural communication, global partnerships, international expansion, language skills, cultural sensitivity, adaptive leadership, change management, innovation, creativity, continuous learning, growth mindset, resilience, adaptability, emotional intelligence, strategic thinking, critical thinking, problem-solving, decision-making, communication, collaboration, leadership, teamwork, trustworthiness, reliability, accountability, professionalism, work ethic, dedication, passion, motivation, enthusiasm, positive attitude, energy, drive, ambition, competitive spirit, resilience, grit, determination, perseverance, coachability, teachability, learning agility, humility, curiosity, open-mindedness, creativity, innovation, adaptability, flexibility, versatility, resourcefulness, efficiency, productivity, organization, prioritization, time management, attention to detail, quality assurance, customer service, client relations, stakeholder management, community engagement, public speaking, presentation skills, networking, relationship building, negotiation, persuasion, influence, sales, marketing, branding, advertising, promotion, event planning, project management, program management, operations management, supply chain management, logistics, procurement, vendor management, risk management, compliance, legal, regulatory, governance, ethics, values, mission, vision, strategy, goals, objectives, key performance indicators, metrics, data-driven decision-making, analytics, business intelligence, reporting, forecasting, budgeting, financial management, investment, revenue growth, cost reduction, profitability, return on investment, value creation, social impact, sustainability, corporate social responsibility, philanthropy, community investment, cause marketing, social responsibility, ethical decision-making, diversity and inclusion, accessibility, mental health awareness, wellness, fitness, nutrition, injury prevention, rehabilitation, physical therapy, personal branding, career development, mentorship, thought leadership, public policy advocacy, social impact measurement, ethical supply chain management, sustainable sourcing, environmental stewardship, cross-cultural communication, global partnerships, international expansion, language skills, cultural sensitivity, adaptive leadership, change management, innovation, creativity, continuous learning, growth mindset, resilience, adaptability, emotional intelligence, strategic thinking, critical thinking, problem-solving, decision-making, communication, collaboration, leadership, teamwork, trustworthiness, reliability, accountability, professionalism, work ethic, dedication, passion, motivation, enthusiasm, positive attitude, energy, drive, ambition, competitive spirit, resilience, grit, determination, perseverance, coachability, teachability, learning agility, humility, curiosity, open-mindedness.\n",
      "\n",
      "**Work Experience**\n",
      "\n",
      "*World Wrestling Entertainment (WWE)*\n",
      "*Professional Wrestler and Entertainer*\n",
      "*Full-time, 2002-Present*\n",
      "\n",
      "- Performed in live events and television broadcasts, engaging audiences through storytelling and physical performance.\n",
      "- Collaborated with creative teams to develop storylines, characters, and matches, ensuring captivating and memorable experiences.\n",
      "- Served as a brand ambassador, participating in public appearances, autograph signings, and promotional events to increase fan engagement.\n",
      "- Mentored and trained new talent, fostering a positive and supportive work environment that encourages growth and development.\n",
      "- Adhered to strict safety protocols and guidelines, ensuring the well-being of all performers and staff during high-risk stunts and matches.\n",
      "- Managed personal brand and merchandise, driving revenue and maintaining a strong connection with fans through various channels.\n",
      "\n",
      "**Education**\n",
      "\n",
      "*Springfield College*\n",
      "*Bachelor of Science in Exercise Science, 1998\n"
     ]
    }
   ],
   "source": [
    "data = {\n",
    "    \"name\": \"John Cena\",\n",
    "    \"company\": df.iloc[i][\"company\"],\n",
    "    \"job_role\": df.iloc[i][\"job_title\"],\n",
    "    \"jd\": df.iloc[i][\"job_summary\"],\n",
    "    \"skills\":df.iloc[i][\"job_skills\"],\n",
    "    \"fit_category\": categories[0],\n",
    "    \"category_requirements\": category_requirements[categories[0]]\n",
    "}\n",
    "r1 = chain.invoke(data).content\n",
    "print(r1)"
   ],
   "metadata": {
    "collapsed": false,
    "ExecuteTime": {
     "end_time": "2025-02-27T04:04:30.521890Z",
     "start_time": "2025-02-27T04:03:13.334648Z"
    }
   },
   "id": "1ef35ebdff5d6077",
   "execution_count": 14
  },
  {
   "cell_type": "code",
   "outputs": [
    {
     "name": "stdout",
     "output_type": "stream",
     "text": [
      "**John Cena**\n",
      "*[Email Address]* | *[Phone Number]* | *[City, ST]*\n",
      "\n",
      "**Professional Summary**\n",
      "\n",
      "Highly motivated individual with a strong background in data analysis and software engineering, seeking to leverage my skills in a Senior Data Engineer role. Skilled in data processing, data modeling, and cloud technologies, with a focus on AWS. Proven ability to work collaboratively in a team environment and communicate complex ideas effectively.\n",
      "\n",
      "**Skills**\n",
      "\n",
      "Data processing, Data modeling, Data governance, AWS, Java, Python, Oracle 11g/12c, NiFi, Informatica, GIT, SVN, Data pipelines, Windows, Linux (CentOS Red Hat), Postgres database, Petabyte range, Web services, Microservices, Machine Learning, NLP, Data mining, Data analysis, Extract Transform and Load (ETL), AWS Glue, AWS Lambda, AWS S3, Active SCI, Software repository tools, Leadership, Communication, Problem-solving\n",
      "\n",
      "**Education**\n",
      "\n",
      "*University of Data Science*\n",
      "*Bachelor of Science in Data Science*\n",
      "*Graduation Year: 20XX*\n",
      "*GPA: 3.X*\n",
      "\n",
      "**Work Experience**\n",
      "\n",
      "*Data Analyst, DataSmith Inc. (Full-time)*\n",
      "*Jan 20XX - Dec 20XX*\n",
      "\n",
      "- Analyzed and processed large datasets using Python and SQL, improving data accuracy by 20%.\n",
      "- Collaborated with cross-functional teams to develop data models and pipelines, reducing processing time by 30%.\n",
      "- Managed data governance and security protocols, ensuring compliance with industry standards.\n",
      "\n",
      "*Software Engineer, CodeWorks LLC (Full-time)*\n",
      "*Jan 20XX - Dec 20XX*\n",
      "\n",
      "- Developed and maintained software applications using Java and Python, improving system efficiency by 15%.\n",
      "- Implemented ETL processes using NiFi and Informatica, increasing data processing speed by 25%.\n",
      "- Utilized GIT and SVN for version control and collaborated with team members to ensure seamless integration.\n",
      "\n",
      "**Projects**\n",
      "\n",
      "*Data Processing Pipeline (Personal Project)*\n",
      "\n",
      "- Developed a data processing pipeline using AWS Glue and AWS Lambda, processing over 1TB of data daily.\n",
      "- Utilized NLP techniques to extract relevant information from unstructured data, improving data accuracy by 15%.\n",
      "\n",
      "*Data Modeling and Governance (Academic Project)*\n",
      "\n",
      "- Collaborated with a team to develop a data model for a large-scale database, ensuring data consistency and accuracy.\n",
      "- Implemented data governance policies and procedures, reducing data errors by 20%.\n",
      "\n",
      "**Certifications**\n",
      "\n",
      "*AWS Certified Developer - Associate*\n",
      "*Issued: Jan 20XX*\n",
      "\n",
      "*Oracle Certified Professional, Java SE 8 Programmer*\n",
      "*Issued: Dec 20XX*\n",
      "\n",
      "**Leadership**\n",
      "\n",
      "*Data Science Club President, University of Data Science*\n",
      "*Jan 20XX - Dec 20XX*\n",
      "\n",
      "- Led a team of 10 members in organizing data science workshops and hackathons, increasing club membership by 50%.\n",
      "- Collaborated with industry professionals to provide mentorship and career development opportunities for club members.\n"
     ]
    }
   ],
   "source": [
    "data = {\n",
    "    \"name\": \"John Cena\",\n",
    "    \"company\": df.iloc[i][\"company\"],\n",
    "    \"job_role\": df.iloc[i][\"job_title\"],\n",
    "    \"jd\": df.iloc[i][\"job_summary\"],\n",
    "    \"skills\":df.iloc[i][\"job_skills\"],\n",
    "    \"fit_category\": categories[1],\n",
    "    \"category_requirements\": category_requirements[categories[1]]\n",
    "}\n",
    "r2 = chain.invoke(data).content\n",
    "print(r2)"
   ],
   "metadata": {
    "collapsed": false,
    "ExecuteTime": {
     "end_time": "2025-02-27T04:05:22.071021Z",
     "start_time": "2025-02-27T04:04:30.523672Z"
    }
   },
   "id": "877f75b277355e57",
   "execution_count": 15
  },
  {
   "cell_type": "code",
   "outputs": [
    {
     "name": "stdout",
     "output_type": "stream",
     "text": [
      "**John Cena**\n",
      "*Senior Data Engineer*\n",
      "\n",
      "**Professional Summary**\n",
      "\n",
      "Highly accomplished and innovative Data Engineer with over 15 years of experience in leading complex data projects, specializing in ETL, NLP, and machine learning. Proven track record of driving strategic initiatives, optimizing data pipelines, and delivering exceptional results in fast-paced environments. Seeking to leverage extensive expertise and leadership skills to contribute to XPECT Solutions, Inc.'s success.\n",
      "\n",
      "**Skills**\n",
      "\n",
      "Machine Learning, NLP, Data Processing, AWS, ETL, Java, Python, Oracle 11g/12c, NiFi, Informatica, GIT, SVN, Data Pipelines, Data Governance, Data Mining, Data Analysis, Data Modeling, Extract Transform and Load (ETL), AWS Glue, AWS Lambda, AWS S3, Windows, Linux (CentOS Red Hat), Postgres Database, Petabyte Range, GOTS-based System, Top-Secret Clearance, Active SCI, Software Repository Tools, Web Services, Microservices, Leadership, Strategic Planning, Project Management\n",
      "\n",
      "**Work Experience**\n",
      "\n",
      "* **Lead Data Engineer** | *Data Innovations, Inc.* | *Full-time* | *Jan 2015 - Present*\n",
      "\n",
      "  - Architected and implemented a scalable ETL pipeline using AWS Glue and Lambda, processing 2PB of data daily, reducing processing time by 40%.\n",
      "  - Led a team of 10 data engineers, mentoring and guiding them in developing and optimizing NLP-based data processing solutions, resulting in a 30% increase in data accuracy.\n",
      "  - Designed and deployed a machine learning model for predictive maintenance, reducing equipment downtime by 25% and saving the company $2M annually.\n",
      "  - Collaborated with cross-functional teams to develop a data governance framework, ensuring data quality, security, and compliance across the organization.\n",
      "  - Optimized data mining and analysis processes, improving data-driven decision-making and enabling the company to achieve a 15% increase in revenue.\n",
      "  - Developed and maintained a GOTS-based ETL system, managing a Postgres database with billions of rows and a file repository in the Petabyte range.\n",
      "\n",
      "* **Senior Data Engineer** | *TechFusion* | *Full-time* | *Jun 2010 - Dec 2014*\n",
      "\n",
      "  - Engineered a custom NLP engine for unstructured data processing, increasing data accuracy by 20% and reducing manual effort by 50%.\n",
      "  - Implemented a data modeling strategy, optimizing data storage and retrieval, and reducing query execution time by 35%.\n",
      "  - Collaborated with data scientists to develop machine learning models for predictive analytics, improving forecast accuracy by 15%.\n",
      "  - Managed a team of 5 data engineers, overseeing project delivery and ensuring adherence to best practices and industry standards.\n",
      "  - Optimized ETL processes using NiFi and Informatica, improving data consistency and reducing data processing time by 20%.\n",
      "  - Developed and maintained a software repository using GIT, ensuring version control and efficient collaboration among team members.\n",
      "\n",
      "**Education**\n",
      "\n",
      "* **Master of Science in Computer Science** | *Massachusetts Institute of Technology* | *2005 - 2007* | *GPA: 3.9*\n",
      "* **Bachelor of Science in Computer Science** | *Carnegie Mellon University* | *2001 - 2005* | *GPA: 3.8*\n",
      "\n",
      "**Certifications**\n",
      "\n",
      "* AWS Certified Data Analytics - Specialty\n",
      "* AWS Certified Solutions Architect - Professional\n",
      "* Cloudera Certified Associate - Data Engineer\n",
      "* Oracle Certified Professional, Java SE 11 Developer\n",
      "\n",
      "**Publications**\n",
      "\n",
      "* \"Advanced NLP Techniques for Unstructured Data Processing\" | *Journal of Big Data* | *2019*\n",
      "* \"Optimizing ETL Processes for Large-Scale Data Pipelines\" | *IEEE Transactions on Big Data* | *2018*\n",
      "* \"Machine Learning for Predictive Maintenance: A Case Study\" | *International Journal of Predictive Maintenance* | *2017*\n"
     ]
    }
   ],
   "source": [
    "data = {\n",
    "    \"name\": \"John Cena\",\n",
    "    \"company\": df.iloc[i][\"company\"],\n",
    "    \"job_role\": df.iloc[i][\"job_title\"],\n",
    "    \"jd\": df.iloc[i][\"job_summary\"],\n",
    "    \"skills\":df.iloc[i][\"job_skills\"],\n",
    "    \"fit_category\": categories[3],\n",
    "    \"category_requirements\": category_requirements[categories[3]]\n",
    "}\n",
    "r3 = chain.invoke(data).content\n",
    "print(r3)"
   ],
   "metadata": {
    "collapsed": false,
    "ExecuteTime": {
     "end_time": "2025-02-27T04:06:27.825984Z",
     "start_time": "2025-02-27T04:05:22.073385Z"
    }
   },
   "id": "d16d509a43d15baa",
   "execution_count": 16
  },
  {
   "cell_type": "markdown",
   "source": [
    "NVIDIA nemotron seems to be the best model for data generation."
   ],
   "metadata": {
    "collapsed": false
   },
   "id": "e2e820054982ddbc"
  },
  {
   "cell_type": "markdown",
   "source": [
    "Any formatting related issues can be dealt with in preprocessing. However, the content that NVIDIA nemotron generates is far superior compared to other models.\n",
    "\n",
    "NOTE: Each generation is taking approximately ~1 minute. Therefore, for 1500 records and 4 fit categories for each resume takes 6000 minutes with the current approach."
   ],
   "metadata": {
    "collapsed": false
   },
   "id": "5ce4d4e9fb2bf7fe"
  }
 ],
 "metadata": {
  "kernelspec": {
   "name": "ars",
   "language": "python",
   "display_name": "Python (ARS)"
  },
  "language_info": {
   "codemirror_mode": {
    "name": "ipython",
    "version": 3
   },
   "file_extension": ".py",
   "mimetype": "text/x-python",
   "name": "python",
   "nbconvert_exporter": "python",
   "pygments_lexer": "ipython3",
   "version": "3.12.1"
  }
 },
 "nbformat": 4,
 "nbformat_minor": 5
}
