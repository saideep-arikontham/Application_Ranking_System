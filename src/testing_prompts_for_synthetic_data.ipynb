{
 "cells": [
  {
   "cell_type": "markdown",
   "source": [
    "# Testing Prompts for generating synthetic data"
   ],
   "metadata": {
    "collapsed": false
   },
   "id": "bdb71d3ced1c07f5"
  },
  {
   "cell_type": "markdown",
   "source": [
    "## Importing libraries"
   ],
   "metadata": {
    "collapsed": false
   },
   "id": "8f126534269f0ace"
  },
  {
   "cell_type": "code",
   "execution_count": 1,
   "id": "2133218b-9766-4c8c-ae07-d9a6a4845cf7",
   "metadata": {
    "ExecuteTime": {
     "end_time": "2025-02-10T03:05:14.979853Z",
     "start_time": "2025-02-10T03:05:13.865083Z"
    }
   },
   "outputs": [],
   "source": [
    "from langchain_core.prompts import ChatPromptTemplate\n",
    "from langchain_ollama.llms import OllamaLLM\n",
    "\n",
    "import os\n",
    "import pandas as pd\n",
    "\n",
    "# Set Pandas to display all columns\n",
    "pd.set_option('display.max_columns', None)"
   ]
  },
  {
   "cell_type": "code",
   "outputs": [
    {
     "name": "stdout",
     "output_type": "stream",
     "text": [
      "/Users/saideepbunny/Projects/Application_Ranking_System\n"
     ]
    }
   ],
   "source": [
    "import os\n",
    "import sys\n",
    "from pathlib import Path\n",
    "\n",
    "path = Path(os.path.dirname(os.getcwd()))\n",
    "path = str(path)\n",
    "print(path)\n",
    "sys.path.insert(1, path)"
   ],
   "metadata": {
    "collapsed": false,
    "ExecuteTime": {
     "end_time": "2025-02-10T03:05:14.983385Z",
     "start_time": "2025-02-10T03:05:14.980966Z"
    }
   },
   "id": "dcab3c15f43d8094",
   "execution_count": 2
  },
  {
   "cell_type": "markdown",
   "source": [
    "## Reading the data"
   ],
   "metadata": {
    "collapsed": false
   },
   "id": "11167744e1545b5e"
  },
  {
   "cell_type": "code",
   "execution_count": 3,
   "id": "aaab01d9-3a04-4bad-aa8c-227aecdd26fb",
   "metadata": {
    "ExecuteTime": {
     "end_time": "2025-02-10T03:05:24.883012Z",
     "start_time": "2025-02-10T03:05:14.984116Z"
    }
   },
   "outputs": [
    {
     "data": {
      "text/plain": "                   Job Id     Experience Qualifications Salary Range  \\\n0        1089843540111562  5 to 15 Years         M.Tech    $59K-$99K   \n1         398454096642776  2 to 12 Years            BCA   $56K-$116K   \n2         481640072963533  0 to 12 Years            PhD   $61K-$104K   \n3         688192671473044  4 to 11 Years            PhD    $65K-$91K   \n4         117057806156508  1 to 12 Years            MBA    $64K-$87K   \n...                   ...            ...            ...          ...   \n1615935   134563577088850  0 to 12 Years         B.Tech   $64K-$114K   \n1615936   618604818190827  2 to 14 Years         M.Tech   $62K-$130K   \n1615937   615471367712200  4 to 15 Years            BCA    $60K-$96K   \n1615938   804137342023945  5 to 15 Years            BCA   $65K-$103K   \n1615939   404645755314484  1 to 11 Years            BBA   $56K-$109K   \n\n                  location            Country  latitude  longitude  Work Type  \\\n0                  Douglas        Isle of Man   54.2361    -4.5481     Intern   \n1                 Ashgabat       Turkmenistan   38.9697    59.5563     Intern   \n2                    Macao   Macao SAR, China   22.1987   113.5439  Temporary   \n3               Porto-Novo              Benin    9.3077     2.3158  Full-Time   \n4                 Santiago              Chile  -35.6751   -71.5429     Intern   \n...                    ...                ...       ...        ...        ...   \n1615935  Malabo (de jure),  Equatorial Guinea    1.6508    10.2679  Full-Time   \n1615936             Warsaw             Poland   51.9194    19.1451     Intern   \n1615937           Ashgabat       Turkmenistan   38.9697    59.5563  Part-Time   \n1615938        Ouagadougou       Burkina Faso   12.2383    -1.5616  Full-Time   \n1615939             Asmara            Eritrea   15.1794    39.7823  Part-Time   \n\n         Company Size Job Posting Date Preference      Contact Person  \\\n0               26801       2022-04-24     Female  Brandon Cunningham   \n1              100340       2022-12-19     Female    Francisco Larsen   \n2               84525       2022-09-14       Male         Gary Gibson   \n3              129896       2023-02-25     Female          Joy Lucero   \n4               53944       2022-10-11     Female       Julie Johnson   \n...               ...              ...        ...                 ...   \n1615935         18281       2022-05-19       Both        Shawn Cortez   \n1615936         63621       2023-03-14       Male         Steven Diaz   \n1615937        114287       2022-01-23     Female       Bryan Morales   \n1615938         45009       2021-12-28     Female         Steven Dunn   \n1615939         87637       2022-10-01       Male      Jennifer Moore   \n\n                       Contact                     Job Title  \\\n0         001-381-930-7517x737  Digital Marketing Specialist   \n1                 461-509-4216                 Web Developer   \n2                   9687619505            Operations Manager   \n3        +1-820-643-5431x47576              Network Engineer   \n4            343.975.4702x9340                 Event Manager   \n...                        ...                           ...   \n1615935           950-451-5843           Mechanical Engineer   \n1615936     676.387.1572x71877                    IT Manager   \n1615937      537.384.6193x5284           Mechanical Engineer   \n1615938     (484)257-4755x5346                HR Coordinator   \n1615939          (989)703-9723                 Event Planner   \n\n                               Role           Job Portal  \\\n0              Social Media Manager             Snagajob   \n1            Frontend Web Developer             Idealist   \n2           Quality Control Manager         Jobs2Careers   \n3         Wireless Network Engineer             FlexJobs   \n4                Conference Manager         Jobs2Careers   \n...                             ...                  ...   \n1615935  Mechanical Design Engineer         ZipRecruiter   \n1615936                 IT Director              USAJOBS   \n1615937  Mechanical Design Engineer               Indeed   \n1615938        Training Coordinator  Stack Overflow Jobs   \n1615939             Wedding Planner              USAJOBS   \n\n                                           Job Description  \\\n0        Social Media Managers oversee an organizations...   \n1        Frontend Web Developers design and implement u...   \n2        Quality Control Managers establish and enforce...   \n3        Wireless Network Engineers design, implement, ...   \n4        A Conference Manager coordinates and manages c...   \n...                                                    ...   \n1615935  Mechanical Design Engineers create and develop...   \n1615936  An IT Director oversees an organizations IT de...   \n1615937  Mechanical Design Engineers create and develop...   \n1615938  Training Coordinators design and implement emp...   \n1615939  Wedding Planners specialize in organizing wedd...   \n\n                                                  Benefits  \\\n0        {'Flexible Spending Accounts (FSAs), Relocatio...   \n1        {'Health Insurance, Retirement Plans, Paid Tim...   \n2        {'Legal Assistance, Bonuses and Incentive Prog...   \n3        {'Transportation Benefits, Professional Develo...   \n4        {'Flexible Spending Accounts (FSAs), Relocatio...   \n...                                                    ...   \n1615935  {'Employee Assistance Programs (EAP), Tuition ...   \n1615936  {'Health Insurance, Retirement Plans, Paid Tim...   \n1615937  {'Tuition Reimbursement, Stock Options or Equi...   \n1615938  {'Casual Dress Code, Social and Recreational A...   \n1615939  {'Transportation Benefits, Professional Develo...   \n\n                                                    skills  \\\n0        Social media platforms (e.g., Facebook, Twitte...   \n1        HTML, CSS, JavaScript Frontend frameworks (e.g...   \n2        Quality control processes and methodologies St...   \n3        Wireless network design and architecture Wi-Fi...   \n4        Event planning Conference logistics Budget man...   \n...                                                    ...   \n1615935  Mechanical engineering CAD software (e.g., Sol...   \n1615936  Strategic IT planning Leadership and managemen...   \n1615937  Mechanical engineering CAD software (e.g., Sol...   \n1615938  Training program coordination Training materia...   \n1615939  Wedding planning Venue selection Catering and ...   \n\n                                          Responsibilities  \\\n0        Manage and grow social media accounts, create ...   \n1        Design and code user interfaces for websites, ...   \n2        Establish and enforce quality control standard...   \n3        Design, configure, and optimize wireless netwo...   \n4        Specialize in conference and convention planni...   \n...                                                    ...   \n1615935  Design mechanical systems, components, and pro...   \n1615936  Provide strategic leadership for IT department...   \n1615937  Design mechanical systems, components, and pro...   \n1615938  Coordinate employee training programs, track t...   \n1615939  Specialize in wedding planning, assisting coup...   \n\n                                  Company  \\\n0                       Icahn Enterprises   \n1            PNC Financial Services Group   \n2        United Services Automobile Assn.   \n3                                    Hess   \n4                            Cairn Energy   \n...                                   ...   \n1615935               The Hershey Company   \n1615936                               EQT   \n1615937                               KLA   \n1615938               Mahindra & Mahindra   \n1615939                     Ashtead Group   \n\n                                           Company Profile  \n0        {\"Sector\":\"Diversified\",\"Industry\":\"Diversifie...  \n1        {\"Sector\":\"Financial Services\",\"Industry\":\"Com...  \n2        {\"Sector\":\"Insurance\",\"Industry\":\"Insurance: P...  \n3        {\"Sector\":\"Energy\",\"Industry\":\"Mining, Crude-O...  \n4        {\"Sector\":\"Energy\",\"Industry\":\"Energy - Oil & ...  \n...                                                    ...  \n1615935  {\"Sector\":\"Food and Beverage/Confectionery\",\"I...  \n1615936  {\"Sector\":\"Energy\",\"Industry\":\"Energy\",\"City\":...  \n1615937  {\"Sector\":\"Technology\",\"Industry\":\"Semiconduct...  \n1615938  {\"Sector\":\"Automotive\",\"Industry\":\"Automotive\"...  \n1615939  {\"Sector\":\"Equipment Rental\",\"Industry\":\"Equip...  \n\n[1615940 rows x 23 columns]",
      "text/html": "<div>\n<style scoped>\n    .dataframe tbody tr th:only-of-type {\n        vertical-align: middle;\n    }\n\n    .dataframe tbody tr th {\n        vertical-align: top;\n    }\n\n    .dataframe thead th {\n        text-align: right;\n    }\n</style>\n<table border=\"1\" class=\"dataframe\">\n  <thead>\n    <tr style=\"text-align: right;\">\n      <th></th>\n      <th>Job Id</th>\n      <th>Experience</th>\n      <th>Qualifications</th>\n      <th>Salary Range</th>\n      <th>location</th>\n      <th>Country</th>\n      <th>latitude</th>\n      <th>longitude</th>\n      <th>Work Type</th>\n      <th>Company Size</th>\n      <th>Job Posting Date</th>\n      <th>Preference</th>\n      <th>Contact Person</th>\n      <th>Contact</th>\n      <th>Job Title</th>\n      <th>Role</th>\n      <th>Job Portal</th>\n      <th>Job Description</th>\n      <th>Benefits</th>\n      <th>skills</th>\n      <th>Responsibilities</th>\n      <th>Company</th>\n      <th>Company Profile</th>\n    </tr>\n  </thead>\n  <tbody>\n    <tr>\n      <th>0</th>\n      <td>1089843540111562</td>\n      <td>5 to 15 Years</td>\n      <td>M.Tech</td>\n      <td>$59K-$99K</td>\n      <td>Douglas</td>\n      <td>Isle of Man</td>\n      <td>54.2361</td>\n      <td>-4.5481</td>\n      <td>Intern</td>\n      <td>26801</td>\n      <td>2022-04-24</td>\n      <td>Female</td>\n      <td>Brandon Cunningham</td>\n      <td>001-381-930-7517x737</td>\n      <td>Digital Marketing Specialist</td>\n      <td>Social Media Manager</td>\n      <td>Snagajob</td>\n      <td>Social Media Managers oversee an organizations...</td>\n      <td>{'Flexible Spending Accounts (FSAs), Relocatio...</td>\n      <td>Social media platforms (e.g., Facebook, Twitte...</td>\n      <td>Manage and grow social media accounts, create ...</td>\n      <td>Icahn Enterprises</td>\n      <td>{\"Sector\":\"Diversified\",\"Industry\":\"Diversifie...</td>\n    </tr>\n    <tr>\n      <th>1</th>\n      <td>398454096642776</td>\n      <td>2 to 12 Years</td>\n      <td>BCA</td>\n      <td>$56K-$116K</td>\n      <td>Ashgabat</td>\n      <td>Turkmenistan</td>\n      <td>38.9697</td>\n      <td>59.5563</td>\n      <td>Intern</td>\n      <td>100340</td>\n      <td>2022-12-19</td>\n      <td>Female</td>\n      <td>Francisco Larsen</td>\n      <td>461-509-4216</td>\n      <td>Web Developer</td>\n      <td>Frontend Web Developer</td>\n      <td>Idealist</td>\n      <td>Frontend Web Developers design and implement u...</td>\n      <td>{'Health Insurance, Retirement Plans, Paid Tim...</td>\n      <td>HTML, CSS, JavaScript Frontend frameworks (e.g...</td>\n      <td>Design and code user interfaces for websites, ...</td>\n      <td>PNC Financial Services Group</td>\n      <td>{\"Sector\":\"Financial Services\",\"Industry\":\"Com...</td>\n    </tr>\n    <tr>\n      <th>2</th>\n      <td>481640072963533</td>\n      <td>0 to 12 Years</td>\n      <td>PhD</td>\n      <td>$61K-$104K</td>\n      <td>Macao</td>\n      <td>Macao SAR, China</td>\n      <td>22.1987</td>\n      <td>113.5439</td>\n      <td>Temporary</td>\n      <td>84525</td>\n      <td>2022-09-14</td>\n      <td>Male</td>\n      <td>Gary Gibson</td>\n      <td>9687619505</td>\n      <td>Operations Manager</td>\n      <td>Quality Control Manager</td>\n      <td>Jobs2Careers</td>\n      <td>Quality Control Managers establish and enforce...</td>\n      <td>{'Legal Assistance, Bonuses and Incentive Prog...</td>\n      <td>Quality control processes and methodologies St...</td>\n      <td>Establish and enforce quality control standard...</td>\n      <td>United Services Automobile Assn.</td>\n      <td>{\"Sector\":\"Insurance\",\"Industry\":\"Insurance: P...</td>\n    </tr>\n    <tr>\n      <th>3</th>\n      <td>688192671473044</td>\n      <td>4 to 11 Years</td>\n      <td>PhD</td>\n      <td>$65K-$91K</td>\n      <td>Porto-Novo</td>\n      <td>Benin</td>\n      <td>9.3077</td>\n      <td>2.3158</td>\n      <td>Full-Time</td>\n      <td>129896</td>\n      <td>2023-02-25</td>\n      <td>Female</td>\n      <td>Joy Lucero</td>\n      <td>+1-820-643-5431x47576</td>\n      <td>Network Engineer</td>\n      <td>Wireless Network Engineer</td>\n      <td>FlexJobs</td>\n      <td>Wireless Network Engineers design, implement, ...</td>\n      <td>{'Transportation Benefits, Professional Develo...</td>\n      <td>Wireless network design and architecture Wi-Fi...</td>\n      <td>Design, configure, and optimize wireless netwo...</td>\n      <td>Hess</td>\n      <td>{\"Sector\":\"Energy\",\"Industry\":\"Mining, Crude-O...</td>\n    </tr>\n    <tr>\n      <th>4</th>\n      <td>117057806156508</td>\n      <td>1 to 12 Years</td>\n      <td>MBA</td>\n      <td>$64K-$87K</td>\n      <td>Santiago</td>\n      <td>Chile</td>\n      <td>-35.6751</td>\n      <td>-71.5429</td>\n      <td>Intern</td>\n      <td>53944</td>\n      <td>2022-10-11</td>\n      <td>Female</td>\n      <td>Julie Johnson</td>\n      <td>343.975.4702x9340</td>\n      <td>Event Manager</td>\n      <td>Conference Manager</td>\n      <td>Jobs2Careers</td>\n      <td>A Conference Manager coordinates and manages c...</td>\n      <td>{'Flexible Spending Accounts (FSAs), Relocatio...</td>\n      <td>Event planning Conference logistics Budget man...</td>\n      <td>Specialize in conference and convention planni...</td>\n      <td>Cairn Energy</td>\n      <td>{\"Sector\":\"Energy\",\"Industry\":\"Energy - Oil &amp; ...</td>\n    </tr>\n    <tr>\n      <th>...</th>\n      <td>...</td>\n      <td>...</td>\n      <td>...</td>\n      <td>...</td>\n      <td>...</td>\n      <td>...</td>\n      <td>...</td>\n      <td>...</td>\n      <td>...</td>\n      <td>...</td>\n      <td>...</td>\n      <td>...</td>\n      <td>...</td>\n      <td>...</td>\n      <td>...</td>\n      <td>...</td>\n      <td>...</td>\n      <td>...</td>\n      <td>...</td>\n      <td>...</td>\n      <td>...</td>\n      <td>...</td>\n      <td>...</td>\n    </tr>\n    <tr>\n      <th>1615935</th>\n      <td>134563577088850</td>\n      <td>0 to 12 Years</td>\n      <td>B.Tech</td>\n      <td>$64K-$114K</td>\n      <td>Malabo (de jure),</td>\n      <td>Equatorial Guinea</td>\n      <td>1.6508</td>\n      <td>10.2679</td>\n      <td>Full-Time</td>\n      <td>18281</td>\n      <td>2022-05-19</td>\n      <td>Both</td>\n      <td>Shawn Cortez</td>\n      <td>950-451-5843</td>\n      <td>Mechanical Engineer</td>\n      <td>Mechanical Design Engineer</td>\n      <td>ZipRecruiter</td>\n      <td>Mechanical Design Engineers create and develop...</td>\n      <td>{'Employee Assistance Programs (EAP), Tuition ...</td>\n      <td>Mechanical engineering CAD software (e.g., Sol...</td>\n      <td>Design mechanical systems, components, and pro...</td>\n      <td>The Hershey Company</td>\n      <td>{\"Sector\":\"Food and Beverage/Confectionery\",\"I...</td>\n    </tr>\n    <tr>\n      <th>1615936</th>\n      <td>618604818190827</td>\n      <td>2 to 14 Years</td>\n      <td>M.Tech</td>\n      <td>$62K-$130K</td>\n      <td>Warsaw</td>\n      <td>Poland</td>\n      <td>51.9194</td>\n      <td>19.1451</td>\n      <td>Intern</td>\n      <td>63621</td>\n      <td>2023-03-14</td>\n      <td>Male</td>\n      <td>Steven Diaz</td>\n      <td>676.387.1572x71877</td>\n      <td>IT Manager</td>\n      <td>IT Director</td>\n      <td>USAJOBS</td>\n      <td>An IT Director oversees an organizations IT de...</td>\n      <td>{'Health Insurance, Retirement Plans, Paid Tim...</td>\n      <td>Strategic IT planning Leadership and managemen...</td>\n      <td>Provide strategic leadership for IT department...</td>\n      <td>EQT</td>\n      <td>{\"Sector\":\"Energy\",\"Industry\":\"Energy\",\"City\":...</td>\n    </tr>\n    <tr>\n      <th>1615937</th>\n      <td>615471367712200</td>\n      <td>4 to 15 Years</td>\n      <td>BCA</td>\n      <td>$60K-$96K</td>\n      <td>Ashgabat</td>\n      <td>Turkmenistan</td>\n      <td>38.9697</td>\n      <td>59.5563</td>\n      <td>Part-Time</td>\n      <td>114287</td>\n      <td>2022-01-23</td>\n      <td>Female</td>\n      <td>Bryan Morales</td>\n      <td>537.384.6193x5284</td>\n      <td>Mechanical Engineer</td>\n      <td>Mechanical Design Engineer</td>\n      <td>Indeed</td>\n      <td>Mechanical Design Engineers create and develop...</td>\n      <td>{'Tuition Reimbursement, Stock Options or Equi...</td>\n      <td>Mechanical engineering CAD software (e.g., Sol...</td>\n      <td>Design mechanical systems, components, and pro...</td>\n      <td>KLA</td>\n      <td>{\"Sector\":\"Technology\",\"Industry\":\"Semiconduct...</td>\n    </tr>\n    <tr>\n      <th>1615938</th>\n      <td>804137342023945</td>\n      <td>5 to 15 Years</td>\n      <td>BCA</td>\n      <td>$65K-$103K</td>\n      <td>Ouagadougou</td>\n      <td>Burkina Faso</td>\n      <td>12.2383</td>\n      <td>-1.5616</td>\n      <td>Full-Time</td>\n      <td>45009</td>\n      <td>2021-12-28</td>\n      <td>Female</td>\n      <td>Steven Dunn</td>\n      <td>(484)257-4755x5346</td>\n      <td>HR Coordinator</td>\n      <td>Training Coordinator</td>\n      <td>Stack Overflow Jobs</td>\n      <td>Training Coordinators design and implement emp...</td>\n      <td>{'Casual Dress Code, Social and Recreational A...</td>\n      <td>Training program coordination Training materia...</td>\n      <td>Coordinate employee training programs, track t...</td>\n      <td>Mahindra &amp; Mahindra</td>\n      <td>{\"Sector\":\"Automotive\",\"Industry\":\"Automotive\"...</td>\n    </tr>\n    <tr>\n      <th>1615939</th>\n      <td>404645755314484</td>\n      <td>1 to 11 Years</td>\n      <td>BBA</td>\n      <td>$56K-$109K</td>\n      <td>Asmara</td>\n      <td>Eritrea</td>\n      <td>15.1794</td>\n      <td>39.7823</td>\n      <td>Part-Time</td>\n      <td>87637</td>\n      <td>2022-10-01</td>\n      <td>Male</td>\n      <td>Jennifer Moore</td>\n      <td>(989)703-9723</td>\n      <td>Event Planner</td>\n      <td>Wedding Planner</td>\n      <td>USAJOBS</td>\n      <td>Wedding Planners specialize in organizing wedd...</td>\n      <td>{'Transportation Benefits, Professional Develo...</td>\n      <td>Wedding planning Venue selection Catering and ...</td>\n      <td>Specialize in wedding planning, assisting coup...</td>\n      <td>Ashtead Group</td>\n      <td>{\"Sector\":\"Equipment Rental\",\"Industry\":\"Equip...</td>\n    </tr>\n  </tbody>\n</table>\n<p>1615940 rows × 23 columns</p>\n</div>"
     },
     "execution_count": 3,
     "metadata": {},
     "output_type": "execute_result"
    }
   ],
   "source": [
    "df = pd.read_csv(f\"{path}/data/job_descriptions.csv\")\n",
    "df"
   ]
  },
  {
   "cell_type": "markdown",
   "source": [
    "## Testing prompts"
   ],
   "metadata": {
    "collapsed": false
   },
   "id": "8c3ef317b8959c9d"
  },
  {
   "cell_type": "code",
   "outputs": [],
   "source": [
    "i=1"
   ],
   "metadata": {
    "collapsed": false,
    "ExecuteTime": {
     "end_time": "2025-02-10T03:05:24.886071Z",
     "start_time": "2025-02-10T03:05:24.884149Z"
    }
   },
   "id": "416793c43b9cb514",
   "execution_count": 4
  },
  {
   "cell_type": "code",
   "outputs": [
    {
     "name": "stdout",
     "output_type": "stream",
     "text": [
      "**Job Role:** Frontend Web Developer\n",
      "**Experience:** 2 to 12 Years\n",
      "**Qualifications:** BCA\n",
      "**Salary Range:** $56K-$116K\n",
      "**Company:** PNC Financial Services Group\n",
      "**Company Profile:** {\"Sector\":\"Financial Services\",\"Industry\":\"Commercial Banks\",\"City\":\"Pittsburgh\",\"State\":\"Pennsylvania\",\"Zip\":\"15222\",\"Website\":\"www.pnc.com\",\"Ticker\":\"PNC\",\"CEO\":\"William S. Demchak\"}\n"
     ]
    }
   ],
   "source": [
    "print(\"**Job Role:**\", df.iloc[i][\"Role\"])\n",
    "print(\"**Experience:**\", df.iloc[i][\"Experience\"])\n",
    "print(\"**Qualifications:**\", df.iloc[i][\"Qualifications\"])\n",
    "print(\"**Salary Range:**\", df.iloc[i][\"Salary Range\"])\n",
    "print(\"**Company:**\", df.iloc[i][\"Company\"])\n",
    "print(\"**Company Profile:**\", df.iloc[i][\"Company Profile\"])"
   ],
   "metadata": {
    "collapsed": false,
    "ExecuteTime": {
     "end_time": "2025-02-10T03:05:24.890187Z",
     "start_time": "2025-02-10T03:05:24.887592Z"
    }
   },
   "id": "87e036dae7706cf9",
   "execution_count": 5
  },
  {
   "cell_type": "markdown",
   "source": [
    "### Generating elaborated Job Description"
   ],
   "metadata": {
    "collapsed": false
   },
   "id": "2bdaf38a6d2f39d3"
  },
  {
   "cell_type": "code",
   "execution_count": 6,
   "id": "0cbaa586-328c-42f0-81e9-19c755337202",
   "metadata": {
    "ExecuteTime": {
     "end_time": "2025-02-10T03:05:24.892760Z",
     "start_time": "2025-02-10T03:05:24.890733Z"
    }
   },
   "outputs": [],
   "source": [
    "jd_template = f\"\"\"\n",
    "You are a creative and experienced job recruiter tasked with crafting a **detailed, engaging, and relevant job description** that aligns with the provided job role, required experience, qualification, salary range, and company profile. Your goal is to produce a description that resonates with potential candidates while highlighting the unique aspects of the role and organization.\n",
    "\n",
    "### **Input Details**:\n",
    "- **Job Role**: A concise summary of the role associated with the job position.\n",
    "- **Years of Experience**: A range (0 to 16 years) specifying the required experience level.\n",
    "- **Qualification Required**: The minimum qualification required for the job.\n",
    "- **Salary Range**: The range of salary offered for the job, which should influence the complexity of the description.\n",
    "- **Company Profile**: A brief overview of the company's vision, mission, and culture.\n",
    "\n",
    "### **Instructions**:\n",
    "- Write a **detailed and compelling job description** containing **50 to 250 words**.\n",
    "- Ensure the description aligns with the provided **years of experience** and **salary range**:\n",
    "  - For higher experience levels, salaries or qualification, emphasize strategic responsibilities, leadership opportunities, or advanced expertise.\n",
    "  - For entry-level roles or lower salary ranges, focus on growth potential, mentorship, and foundational contributions.\n",
    "- Integrate the **Job Role, Qualification Required, and Company Profile** seamlessly into the description to make it appealing and relevant.\n",
    "- Add creative elements that reflect the company’s unique culture and vision while maintaining professionalism.\n",
    "- Avoid using generic language; instead, tailor the description to the specific inputs provided.\n",
    "- **Do not include additional sections** such as \"Responsibilities,\" \"Skills,\" or \"Qualifications.\" Focus exclusively on crafting the job description.\n",
    "\n",
    "### **Input**:\n",
    "**Job Role**: {{job_role}}  \n",
    "**Years of Experience**: {{exp_req}}  \n",
    "**Qualification Required**: {{qualification}}  \n",
    "**Salary Range**: {{salary}}  \n",
    "**Company Profile**: {{profile}}  \n",
    "\n",
    "### **Output**:\n",
    "Generate only the **detailed, relevant, and creative job description**. Avoid any additional text, headings, or formatting outside of the description itself.\n",
    "\"\"\""
   ]
  },
  {
   "cell_type": "code",
   "outputs": [],
   "source": [
    "model = OllamaLLM(model=\"llama3.2\", temperature = 1)\n",
    "\n",
    "prompt = ChatPromptTemplate.from_template(jd_template)\n",
    "chain = prompt | model\n",
    "data = {\n",
    "    \"job_role\": df.iloc[i][\"Role\"],\n",
    "    \"exp_req\": df.iloc[i][\"Experience\"],\n",
    "    \"qualification\": df.iloc[i][\"Qualifications\"],\n",
    "    \"salary\": df.iloc[i][\"Salary Range\"],\n",
    "    \"profile\": df.iloc[i][\"Company Profile\"]\n",
    "}\n",
    "jd = chain.invoke(data)"
   ],
   "metadata": {
    "collapsed": false,
    "ExecuteTime": {
     "end_time": "2025-02-10T03:05:44.763388Z",
     "start_time": "2025-02-10T03:05:24.893281Z"
    }
   },
   "id": "a6ada3c5077dde64",
   "execution_count": 7
  },
  {
   "cell_type": "code",
   "outputs": [
    {
     "name": "stdout",
     "output_type": "stream",
     "text": [
      "As a Frontend Web Developer at PNC, you will be part of a talented team that leverages cutting-edge technology to drive business growth in Pittsburgh's financial services sector. With a strong educational background in Business and Computer Applications (BCA) and 2-12 years of experience in developing dynamic web applications, you'll play a crucial role in shaping the online presence of one of America's most iconic banks.\n",
      "\n",
      "In this exciting opportunity, you will focus on crafting visually appealing user interfaces, implementing responsive designs, and ensuring seamless cross-browser compatibility. Your technical expertise will be leveraged to develop innovative digital solutions that enhance customer engagement, streamline processes, and drive efficiency.\n",
      "\n",
      "As a strategic partner in our commercial banking division, you will have opportunities to collaborate with cross-functional teams, share knowledge, and contribute to the evolution of PNC's web development practices. With a salary range of $56K-$116K, this role offers a competitive compensation package that reflects your value as a seasoned professional.\n",
      "\n",
      "As you join PNC, you'll be part of a culture that values innovation, collaboration, and teamwork. Our organization is driven by a shared commitment to excellence, integrity, and customer-centricity, reflecting our CEO William S. Demchak's vision for the future. If you're passionate about web development, eager to grow professionally, and excited about the prospect of contributing to PNC's success, we encourage you to apply for this challenging and rewarding role.\n"
     ]
    }
   ],
   "source": [
    "print(jd)"
   ],
   "metadata": {
    "collapsed": false,
    "ExecuteTime": {
     "end_time": "2025-02-10T03:05:44.788202Z",
     "start_time": "2025-02-10T03:05:44.765175Z"
    }
   },
   "id": "8df43d971759c345",
   "execution_count": 8
  },
  {
   "cell_type": "markdown",
   "source": [
    "### Generating skills"
   ],
   "metadata": {
    "collapsed": false
   },
   "id": "2ca214030edbb6d8"
  },
  {
   "cell_type": "code",
   "execution_count": 9,
   "id": "2eeb69cd-39ca-4727-91ef-90412dc65dc2",
   "metadata": {
    "ExecuteTime": {
     "end_time": "2025-02-10T03:05:44.795140Z",
     "start_time": "2025-02-10T03:05:44.789585Z"
    }
   },
   "outputs": [],
   "source": [
    "s_template = f\"\"\"\n",
    "You are a professional job recruiter tasked with creating a **comprehensive and precise list of skills** required for a specific job role. Your goal is to generate a detailed set of skills based on the provided job role, years of experience, qualifications, salary range, company profile, and job description.\n",
    "\n",
    "### **Input Details**:\n",
    "- **Job Role**: A concise summary of the role associated with the job position.\n",
    "- **Years of Experience**: A range (0 to 16 years) specifying the required experience level.\n",
    "- **Qualification Required**: The minimum qualification required for the job.\n",
    "- **Salary Range**: The range of salary offered for the job, which should influence the complexity and expertise of required skills.\n",
    "- **Company Profile**: A brief overview of the company's vision, mission, culture, and work environment.\n",
    "- **Job Description**: A detailed description of the job role, outlining its purpose and expectations.\n",
    "\n",
    "### **Instructions**:\n",
    "- Generate a **comma-separated list** of skills relevant to the job. The skills must be categorized but presented without headings, as follows:\n",
    "  - **Soft Skills**: Workplace and interpersonal skills critical for the role (e.g., communication, problem-solving, adaptability).\n",
    "  - **Technical Skills**: Domain-specific abilities or knowledge areas essential for job success (e.g., programming, data analysis, system troubleshooting).\n",
    "  - **Technology Skills**: Tools, software, frameworks, or platforms commonly used for the job (e.g., cloud platforms, databases, development tools).\n",
    "- Ensure the output includes:\n",
    "  - **10 to 15 unique soft skills** that are relevant to the job role and aligned with the years of experience.\n",
    "  - **5 to 10 unique technical skills** tailored to the job requirements and expertise needed.\n",
    "  - **10 to 15 unique technology-related skills** directly applicable to tools and platforms specified in the job description.\n",
    "- Ensure that the skills are:\n",
    "  - **Relevant**: Clearly aligned with the provided job role and inputs.\n",
    "  - **Non-redundant**: Avoid repeating the same skill across different categories.\n",
    "  - **Diverse**: Covering a broad range of capabilities suited to the role, experience, and salary range.\n",
    "- Write the output as a **single comma-separated list of skills**. \n",
    "- Do **not include headings**, additional text, or formatting outside of the skills list.\n",
    "\n",
    "### **Input**:\n",
    "**Job Role**: {{job_role}}  \n",
    "**Years of Experience**: {{exp_req}}  \n",
    "**Qualification Required**: {{qualification}}  \n",
    "**Salary Range**: {{salary}}  \n",
    "**Company Profile**: {{profile}}  \n",
    "**Job Description**: {{jd}}\n",
    "\n",
    "### **Output**:\n",
    "Generate only a **comma-separated list of relevant skills** satisfying the given constraints. Do not include any additional text, headings, or formatting outside of the list.\n",
    "\"\"\"\n"
   ]
  },
  {
   "cell_type": "code",
   "outputs": [],
   "source": [
    "model = OllamaLLM(model=\"llama3.2\", temperature = 1)\n",
    "\n",
    "prompt = ChatPromptTemplate.from_template(s_template)\n",
    "chain = prompt | model\n",
    "data = {\n",
    "    \"job_role\": df.iloc[i][\"Role\"],\n",
    "    \"exp_req\": df.iloc[i][\"Experience\"],\n",
    "    \"qualification\": df.iloc[i][\"Qualifications\"],\n",
    "    \"salary\": df.iloc[i][\"Salary Range\"],\n",
    "    \"profile\": df.iloc[i][\"Company Profile\"],\n",
    "    \"jd\": jd\n",
    "}\n",
    "skills = chain.invoke(data)"
   ],
   "metadata": {
    "collapsed": false,
    "ExecuteTime": {
     "end_time": "2025-02-10T03:05:52.896825Z",
     "start_time": "2025-02-10T03:05:44.795754Z"
    }
   },
   "id": "1fa3fb38f0b52b11",
   "execution_count": 10
  },
  {
   "cell_type": "code",
   "outputs": [
    {
     "name": "stdout",
     "output_type": "stream",
     "text": [
      "Soft Skills: communication, problem-solving, adaptability, teamwork, time management, leadership, customer service, critical thinking, creativity, innovation\n",
      "Technical Skills: front-end development, responsive design, cross-browser compatibility, HTML5, CSS3, JavaScript, web application development, server-side programming, database integration, testing and debugging\n",
      "Technology Skills: React.js, Node.js, MongoDB, PostgreSQL, HTML5 Canvas, CSS Grid, Webpack, Babel, Bootstrap\n"
     ]
    }
   ],
   "source": [
    "print(skills)"
   ],
   "metadata": {
    "collapsed": false,
    "ExecuteTime": {
     "end_time": "2025-02-10T03:05:52.914335Z",
     "start_time": "2025-02-10T03:05:52.904216Z"
    }
   },
   "id": "a5fadbe09ebd3bbc",
   "execution_count": 11
  },
  {
   "cell_type": "markdown",
   "source": [
    "### Generating Job responsibilities"
   ],
   "metadata": {
    "collapsed": false
   },
   "id": "fcb0077ad9fb07b5"
  },
  {
   "cell_type": "code",
   "outputs": [],
   "source": [
    "jr_template = f\"\"\"\n",
    "You are a professional job recruiter tasked with generating a detailed, precise, and structured list of **key job responsibilities** for a specific role. Your goal is to create a clear and actionable description that aligns with the job role, years of experience, qualifications, salary range, company profile, job description, and skills.\n",
    "\n",
    "### **Input Details**:\n",
    "- **Job Role**: A concise summary of the role associated with the job position.\n",
    "- **Years of Experience**: A range (0 to 16 years) specifying the required experience level.\n",
    "- **Qualification Required**: The minimum qualification required for the job.\n",
    "- **Salary Range**: The range of salary offered for the job, which should influence the complexity and expectations of responsibilities.\n",
    "- **Company Profile**: A brief overview of the company's vision, mission, and culture.\n",
    "- **Job Description**: A detailed overview of the job role, its purpose, and primary expectations.\n",
    "- **Skills**: A comma-separated list of both technical and soft skills relevant to the role.\n",
    "\n",
    "### **Instructions**:\n",
    "- Generate a **structured, detailed list of 8 to 15 bullet points** describing the **core job responsibilities**.\n",
    "- Ensure that the responsibilities include:\n",
    "  - **Experience-based requirements**: Start with high-level expectations for years of professional experience and specific qualifications.\n",
    "  - **Technical expertise**: Highlight responsibilities that reflect the provided technical and technology-related skills.\n",
    "  - **Role-specific tasks**: Describe actionable, measurable, and impactful responsibilities aligned with the job role and description.\n",
    "  - **Soft skills and collaboration**: Integrate soft skills (e.g., communication, problem-solving) into responsibilities where relevant.\n",
    "- **Ensure diversity** in the responsibilities to cover different facets of the role, such as technical tasks, strategic goals, collaboration, troubleshooting, optimization, and stakeholder communication.\n",
    "- **Align complexity and depth** of the responsibilities with the provided **years of experience** and **salary range**:\n",
    "  - For higher experience and salary levels, emphasize leadership, strategic initiatives, and complex tasks.\n",
    "  - For lower experience and salary levels, focus on learning opportunities, foundational contributions, and growth potential.\n",
    "- Write each responsibility in **clear, concise, and professional sentences** for easy readability.\n",
    "\n",
    "### **Input**:\n",
    "**Job Role**: {{job_role}}  \n",
    "**Years of Experience**: {{exp_req}}  \n",
    "**Qualification Required**: {{qualification}}  \n",
    "**Salary Range**: {{salary}}  \n",
    "**Company Profile**: {{profile}}  \n",
    "**Job Description**: {{jd}}  \n",
    "**Skills**: {{skills}}\n",
    "\n",
    "### **Output**:\n",
    "Provide a structured, detailed list of job responsibilities as bullet points. Avoid including any extra text, headings, or formatting outside of the list. The tone should be professional, detailed, and engaging.\n",
    "\"\"\"\n"
   ],
   "metadata": {
    "ExecuteTime": {
     "end_time": "2025-02-10T03:05:52.922608Z",
     "start_time": "2025-02-10T03:05:52.916765Z"
    }
   },
   "id": "e21e33ce-1feb-4709-9bc9-4766eb536bb2",
   "execution_count": 12
  },
  {
   "cell_type": "code",
   "outputs": [],
   "source": [
    "model = OllamaLLM(model=\"llama3.2\", temperature = 1)\n",
    "\n",
    "prompt = ChatPromptTemplate.from_template(jr_template)\n",
    "chain = prompt | model\n",
    "data = {\n",
    "    \"job_role\": df.iloc[i][\"Role\"],\n",
    "    \"exp_req\": df.iloc[i][\"Experience\"],\n",
    "    \"qualification\": df.iloc[i][\"Qualifications\"],\n",
    "    \"salary\": df.iloc[i][\"Salary Range\"],\n",
    "    \"profile\": df.iloc[i][\"Company Profile\"],\n",
    "    \"jd\": jd,\n",
    "    \"skills\":skills\n",
    "}\n",
    "jr = chain.invoke(data)"
   ],
   "metadata": {
    "collapsed": false,
    "ExecuteTime": {
     "end_time": "2025-02-10T03:06:12.697675Z",
     "start_time": "2025-02-10T03:05:52.924391Z"
    }
   },
   "id": "132f4566f42d71b2",
   "execution_count": 13
  },
  {
   "cell_type": "code",
   "outputs": [
    {
     "name": "stdout",
     "output_type": "stream",
     "text": [
      "• Develop visually appealing user interfaces with a focus on responsive design and cross-browser compatibility for PNC's commercial banking division website and other digital platforms.\n",
      "• Implement dynamic web applications using HTML5, CSS3, JavaScript, and server-side programming languages such as Node.js to enhance customer engagement and streamline processes.\n",
      "• Ensure seamless integration of database systems like MongoDB and PostgreSQL to store and retrieve data efficiently.\n",
      "• Collaborate with cross-functional teams to share knowledge, contribute to the evolution of PNC's web development practices, and drive business growth in Pittsburgh's financial services sector.\n",
      "• Troubleshoot and resolve technical issues related to front-end development, server-side programming, and database integration to ensure high-quality digital solutions.\n",
      "• Optimize code efficiency using tools such as Webpack, Babel, and Bootstrap to improve application performance and scalability.\n",
      "• Participate in testing and debugging processes to ensure compatibility across various browsers and devices.\n",
      "• Develop and maintain a robust knowledge base of web development frameworks, libraries, and technologies to drive innovation and improvement in digital solutions.\n",
      "• Provide technical leadership and guidance to junior developers and team members on front-end development best practices, code quality, and testing methodologies.\n",
      "• Enhance customer experience by implementing user-friendly interfaces, intuitive navigation, and seamless communication between online and offline channels.\n",
      "• Stay up-to-date with industry trends, emerging technologies, and advancements in web development to drive business growth and competitive advantage for PNC.\n",
      "• Collaborate with product management teams to design and develop digital solutions that meet business objectives, enhance customer engagement, and drive revenue growth.\n"
     ]
    }
   ],
   "source": [
    "print(jr)"
   ],
   "metadata": {
    "collapsed": false,
    "ExecuteTime": {
     "end_time": "2025-02-10T03:06:12.726969Z",
     "start_time": "2025-02-10T03:06:12.716048Z"
    }
   },
   "id": "1d805e779ef5a09",
   "execution_count": 14
  },
  {
   "cell_type": "markdown",
   "source": [
    "### Generating Resume"
   ],
   "metadata": {
    "collapsed": false
   },
   "id": "64762fdc3f74ed59"
  },
  {
   "cell_type": "code",
   "outputs": [],
   "source": [
    "category_requirements = {\n",
    "    \"complete_mismatch\": \"\"\"\n",
    "    Resume is not at all a fit for job description. Below are some of the constraints: \n",
    "        - Use a completely different career path.\n",
    "        - Include skills from a different domain.\n",
    "        - Maintain professional quality despite the mismatch.\n",
    "        - Other fields like experience, highest qualification do not matter here as the career path is completely different.\n",
    "    \"\"\",\n",
    "    \"underwhelming\": \"\"\"\n",
    "    Resume falls short in certain aspects and is an underwhelming for job description. Below are some of the constraints: \n",
    "        - Include relevant field but insufficient experience.\n",
    "        - Miss some critical required skills.\n",
    "        - Include partial qualification matches.\n",
    "        - Show insufficient project experience.\n",
    "    \"\"\",\n",
    "     \"good\": \"\"\"\n",
    "     Resume is a perfect for job description. Below are some of the constraints: \n",
    "        - Match all required qualifications.\n",
    "        - Include relevant project experience or work experience.\n",
    "        - Show appropriate skill level with almost 95%-100% skill match.\n",
    "        - Demonstrate progression in career.\n",
    "        - Bullet points for Projects or Work experience section must include APR format. Action + Problem solved + Result.\n",
    "    \"\"\",\n",
    "    \"overqualified\": \"\"\"\n",
    "    Resume is over qualified for job description. Below are some of the constraints: \n",
    "        - Exceed required experience by 3-5 years.\n",
    "        - Show higher level skills, qualifications and responsibilities.\n",
    "        - Include additional advanced certifications, work experience or project work.\n",
    "        - Demonstrate a progressive and over-qualified career.\n",
    "        - Bullet points for Projects or Work experience section must include APR format. Action + Problem solved + Result.\n",
    "    \"\"\"\n",
    "}"
   ],
   "metadata": {
    "collapsed": false,
    "ExecuteTime": {
     "end_time": "2025-02-10T03:06:12.732005Z",
     "start_time": "2025-02-10T03:06:12.728175Z"
    }
   },
   "id": "c032543d4671866b",
   "execution_count": 15
  },
  {
   "cell_type": "code",
   "outputs": [],
   "source": [
    "# Define the template\n",
    "resume_template = \"\"\"\n",
    "You are a professional resume writer tasked with generating a resume based on the following inputs and requirements:\n",
    "\n",
    "## **Job Details**:\n",
    "- Role: {job_role}\n",
    "- Experience required: {exp_req}\n",
    "- Required Education: {qualification}\n",
    "- Job Description: {jd}\n",
    "- Job Responsibilities: {jr}\n",
    "- Required Skills: {skills}\n",
    "\n",
    "\n",
    "Fit Category: {fit_category}\n",
    "Category Requirements:\n",
    "{category_requirements}\n",
    "\n",
    "## **Instructions**:\n",
    "1. Generate a professional resume that matches the specified fit category ({fit_category}) while adhering to its constraints.\n",
    "2. The resume must be 500-700 words and include these mandatory sections:\n",
    "   - Education\n",
    "   - Skills\n",
    "   - Work Experience (If no experience, compensate with robust Projects section)\n",
    "\n",
    "3. Include relevant optional sections based on the context:\n",
    "   - Professional Summary\n",
    "   - Projects (Required if limited work experience; Optional if extensive experience)\n",
    "   - Certifications/Accomplishments\n",
    "   - Other relevant sections as needed\n",
    "\n",
    "4. Guidelines for Section information:\n",
    "    - Education : Write University name, degree name, major name and gpa\n",
    "    - Skills : Soft skills, technical skills, technologies, frameworks etc., separated by comma\n",
    "    - Work Experience : Company name, role, Part-time or full-time, number of  years worked and the respective bullet points.\n",
    "    - Professional Summary : Professional summary of the candidate\n",
    "    - Projects : Project name, and their respective bullets describing what they did.\n",
    "    - Certifications : list of certifications and accomplishments\n",
    "\n",
    "5. Format Guidelines:\n",
    "   - Use clear section headings\n",
    "   - Maintain professional formatting\n",
    "   - Ensure content aligns with fit category requirements\n",
    "   - Balance between work experience and projects based on the role and fit category wherever applicable.\n",
    "\n",
    "6. Specific Requirements:\n",
    "   - For complete_mismatch: Create a professional resume from a different career path. Should be 0-30% match to the Job details.\n",
    "   - For underwhelming: Include relevant but insufficient experience/skills. Should be 50-70% match to the Job details.\n",
    "   - For good_fit: Match 95-100% of requirements with appropriate progression.\n",
    "   - For overqualified: Exceed requirements with advanced qualifications.\n",
    "\n",
    "## **Output**:\n",
    "Generate a professional resume following these guidelines while maintaining authenticity and relevance adhering to all the constraints given. Avoid including any extra text, headings, or formatting outside of what is required.\n",
    "\"\"\"\n"
   ],
   "metadata": {
    "collapsed": false,
    "ExecuteTime": {
     "end_time": "2025-02-10T03:06:12.735822Z",
     "start_time": "2025-02-10T03:06:12.732975Z"
    }
   },
   "id": "a0a0fe42e69a8fc5",
   "execution_count": 16
  },
  {
   "cell_type": "code",
   "outputs": [],
   "source": [
    "model = OllamaLLM(model=\"llama3.2\", temperature = 1)\n",
    "\n",
    "prompt = ChatPromptTemplate.from_template(resume_template)\n",
    "chain = prompt | model\n",
    "data = {\n",
    "    \"job_role\": df.iloc[i][\"Role\"],\n",
    "    \"exp_req\": df.iloc[i][\"Experience\"],\n",
    "    \"qualification\": df.iloc[i][\"Qualifications\"],\n",
    "    \"jd\": jd,\n",
    "    \"jr\":jr,\n",
    "    \"skills\":skills,\n",
    "    \"fit_category\": \"Good\",\n",
    "    \"category_requirements\": category_requirements[\"good\"]\n",
    "}\n",
    "resume = chain.invoke(data)"
   ],
   "metadata": {
    "collapsed": false,
    "ExecuteTime": {
     "end_time": "2025-02-10T03:09:50.210697Z",
     "start_time": "2025-02-10T03:08:56.015982Z"
    }
   },
   "id": "94cd72ec10287ca8",
   "execution_count": 20
  },
  {
   "cell_type": "code",
   "outputs": [
    {
     "name": "stdout",
     "output_type": "stream",
     "text": [
      "**Full Name:** Rohan D. Patel\n",
      "**Contact Information:**\n",
      "\n",
      "- Phone: +1 123 456 7890\n",
      "- Email: rohan.patel@email.com\n",
      "- LinkedIn Profile: linkedin.com/in/rohandompattel\n",
      "- Address: Pittsburgh, PA, USA\n",
      "\n",
      "**Professional Summary:**\n",
      "Highly skilled Frontend Web Developer with a strong educational background in Business and Computer Applications (BCA) and 8 years of experience developing dynamic web applications. Proficient in a range of front-end development technologies including HTML5, CSS3, JavaScript, React.js, Node.js, MongoDB, PostgreSQL, and Bootstrap. Proven track record of delivering high-quality digital solutions that enhance customer engagement and drive business growth.\n",
      "\n",
      "**Education:**\n",
      "\n",
      "- **Bachelor of Computer Applications (BCA), Carnegie Mellon University**, Pittsburgh, PA, USA\n",
      "    • Date: 2009 - 2013\n",
      "    • GPA: 3.5/4.0\n",
      "    • Major: Business and Computer Applications\n",
      "\n",
      "**Skills:**\n",
      "\n",
      "Soft Skills:\n",
      "Communication, Problem-Solving, Adaptability, Teamwork, Time Management, Leadership, Customer Service, Critical Thinking, Creativity, Innovation\n",
      "\n",
      "Technical Skills:\n",
      "Front-end development, Responsive design, Cross-browser compatibility, HTML5, CSS3, JavaScript, Web application development, Server-side programming, Database integration, Testing and debugging\n",
      "\n",
      "Technology Skills: \n",
      "React.js, Node.js, MongoDB, PostgreSQL, HTML5 Canvas, CSS Grid, Webpack, Babel, Bootstrap\n",
      "\n",
      "**Work Experience:**\n",
      "\n",
      "- **Frontend Web Developer**, TechForge Inc., Pittsburgh, PA, USA\n",
      "    • Duration: Full-time, 8 years (2013 - 2021)\n",
      "    • Role: Frontend Web Developer\n",
      "    • Company Overview: TechForge Inc. is a leading web development company specializing in creating innovative digital solutions for various industries.\n",
      "\n",
      "    **Key Achievements:**\n",
      "\n",
      "    • Developed and deployed a cutting-edge e-commerce platform using React.js, Node.js, MongoDB, and Bootstrap, resulting in a 25% increase in online sales.\n",
      "    • Collaborated with cross-functional teams to design and develop visually appealing user interfaces and responsive designs for multiple projects, enhancing customer engagement by 30%.\n",
      "    • Implemented server-side programming languages such as JavaScript and Node.js to streamline processes and improve application performance by 50%.\n",
      "\n",
      "    **Project Work:**\n",
      "\n",
      "    - Project Name: E-commerce Platform\n",
      "      Action: Designed and developed the front-end of an e-commerce platform using React.js.\n",
      "      Problem Solved: Ensured seamless cross-browser compatibility, high-quality user interfaces, and responsive designs that enhanced customer engagement.\n",
      "      Result: The project resulted in a 25% increase in online sales.\n",
      "\n",
      "    - Project Name: Digital Marketing Portal\n",
      "      Action: Implemented server-side programming languages such as JavaScript to streamline processes and improve application performance.\n",
      "      Problem Solved: Resolved technical issues related to front-end development, server-side programming, and database integration to ensure high-quality digital solutions.\n",
      "      Result: The project enhanced customer engagement by 30% and improved user experience.\n",
      "\n",
      "- **Intern**, PNC Financial Services Group, Pittsburgh, PA, USA\n",
      "    • Duration: Part-time (4 months)\n",
      "    • Role: Frontend Web Development Intern\n",
      "    • Company Overview: PNC Financial Services Group is a leading financial services organization providing banking, investing, retirement services, and more.\n",
      "\n",
      "    **Project Work:**\n",
      "\n",
      "    - Project Name: Digital Marketing Portal\n",
      "      Action: Assisted in designing the user interface and implementing responsive design techniques.\n",
      "      Problem Solved: Implemented dynamic web applications using HTML5, CSS3, JavaScript, and server-side programming languages to enhance customer engagement and streamline processes.\n",
      "      Result: The project enhanced customer experience by improving online interactions.\n",
      "\n",
      "**Certifications/Awards:**\n",
      "\n",
      "- Certified Web Developer (CWD), Carnegie Mellon University\n",
      "- Winner of the 2017 Hackathon Competition\n",
      "\n",
      "Note that the candidate Rohan D. Patel is highly experienced in developing dynamic web applications with expertise in React.js, Node.js, MongoDB, PostgreSQL, and Bootstrap. The candidate has extensive experience working on e-commerce platforms, digital marketing portals, and other projects that focus on improving customer engagement and enhancing user experience.\n"
     ]
    }
   ],
   "source": [
    "print(resume)"
   ],
   "metadata": {
    "collapsed": false,
    "ExecuteTime": {
     "end_time": "2025-02-10T03:09:50.258098Z",
     "start_time": "2025-02-10T03:09:50.224063Z"
    }
   },
   "id": "f0078213be5a75f6",
   "execution_count": 21
  },
  {
   "cell_type": "code",
   "outputs": [],
   "source": [],
   "metadata": {
    "collapsed": false
   },
   "id": "323818754b7c0cca"
  }
 ],
 "metadata": {
  "kernelspec": {
   "name": "ars",
   "language": "python",
   "display_name": "Python (ARS)"
  },
  "language_info": {
   "codemirror_mode": {
    "name": "ipython",
    "version": 3
   },
   "file_extension": ".py",
   "mimetype": "text/x-python",
   "name": "python",
   "nbconvert_exporter": "python",
   "pygments_lexer": "ipython3",
   "version": "3.12.1"
  }
 },
 "nbformat": 4,
 "nbformat_minor": 5
}
