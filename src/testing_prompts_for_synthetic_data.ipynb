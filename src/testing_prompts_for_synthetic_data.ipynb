{
 "cells": [
  {
   "cell_type": "markdown",
   "source": [
    "# Testing Prompts for generating synthetic data"
   ],
   "metadata": {
    "collapsed": false
   },
   "id": "bdb71d3ced1c07f5"
  },
  {
   "cell_type": "markdown",
   "source": [
    "## Importing libraries"
   ],
   "metadata": {
    "collapsed": false
   },
   "id": "8f126534269f0ace"
  },
  {
   "cell_type": "code",
   "execution_count": 1,
   "id": "2133218b-9766-4c8c-ae07-d9a6a4845cf7",
   "metadata": {
    "ExecuteTime": {
     "end_time": "2025-02-26T02:05:20.231755Z",
     "start_time": "2025-02-26T02:05:19.317695Z"
    }
   },
   "outputs": [],
   "source": [
    "from langchain_core.prompts import ChatPromptTemplate\n",
    "from langchain_ollama.llms import OllamaLLM\n",
    "from langchain_nvidia_ai_endpoints import ChatNVIDIA\n",
    "\n",
    "import os\n",
    "import pandas as pd\n",
    "\n",
    "# Set Pandas to display all columns\n",
    "pd.set_option('display.max_columns', None)"
   ]
  },
  {
   "cell_type": "code",
   "outputs": [
    {
     "name": "stdout",
     "output_type": "stream",
     "text": [
      "/Users/saideepbunny/Projects/Application_Ranking_System\n"
     ]
    }
   ],
   "source": [
    "import os\n",
    "import sys\n",
    "from pathlib import Path\n",
    "\n",
    "path = Path(os.path.dirname(os.getcwd()))\n",
    "path = str(path)\n",
    "print(path)\n",
    "sys.path.insert(1, path)"
   ],
   "metadata": {
    "collapsed": false,
    "ExecuteTime": {
     "end_time": "2025-02-26T02:05:20.234984Z",
     "start_time": "2025-02-26T02:05:20.232660Z"
    }
   },
   "id": "dcab3c15f43d8094",
   "execution_count": 2
  },
  {
   "cell_type": "markdown",
   "source": [
    "## Reading the data"
   ],
   "metadata": {
    "collapsed": false
   },
   "id": "11167744e1545b5e"
  },
  {
   "cell_type": "code",
   "execution_count": 3,
   "id": "aaab01d9-3a04-4bad-aa8c-227aecdd26fb",
   "metadata": {
    "ExecuteTime": {
     "end_time": "2025-02-26T02:05:20.315435Z",
     "start_time": "2025-02-26T02:05:20.235658Z"
    }
   },
   "outputs": [
    {
     "data": {
      "text/plain": "                                               job_link  \\\n0     https://www.linkedin.com/jobs/view/software-ar...   \n1     https://www.linkedin.com/jobs/view/senior-syst...   \n2     https://www.linkedin.com/jobs/view/senior-data...   \n3     https://www.linkedin.com/jobs/view/distinguish...   \n4     https://www.linkedin.com/jobs/view/systems-adm...   \n...                                                 ...   \n1495  https://uk.linkedin.com/jobs/view/workshop-con...   \n1496  https://www.linkedin.com/jobs/view/x-ray-techn...   \n1497  https://www.linkedin.com/jobs/view/xfinity-ret...   \n1498  https://www.linkedin.com/jobs/view/yard-associ...   \n1499  https://www.linkedin.com/jobs/view/yoga-instru...   \n\n                last_processed_time got_summary got_ner is_being_worked  \\\n0     2024-01-19 09:45:09.215838+00           t       t               f   \n1     2024-01-19 09:45:09.215838+00           t       t               f   \n2     2024-01-20 11:15:59.804413+00           t       t               f   \n3     2024-01-19 22:25:24.801979+00           t       t               f   \n4      2024-01-21 01:06:09.90334+00           t       t               f   \n...                             ...         ...     ...             ...   \n1495  2024-01-19 09:45:09.215838+00           t       t               f   \n1496  2024-01-21 04:16:54.473867+00           t       t               f   \n1497  2024-01-19 23:17:04.320124+00           t       t               f   \n1498  2024-01-19 09:45:09.215838+00           t       t               f   \n1499  2024-01-19 09:45:09.215838+00           t       t               f   \n\n                             job_title                   company  \\\n0                   Software Architect           Harris Computer   \n1               Senior System Engineer                    ExLabs   \n2                Senior Data Scientist     Workforce Connections   \n3     Distinguished Applied Researcher         Jobs for Humanity   \n4                Systems Administrator                    Leidos   \n...                                ...                       ...   \n1495               Workshop Controller    Activate Group Limited   \n1496                X-Ray Technologist          Fast Pace Health   \n1497   Xfinity Retail Sales Consultant  XFINITY Store by Comcast   \n1498      Yard Associate (SkillBridge)          ARMOR Initiative   \n1499                   Yoga Instructor           Active Wellness   \n\n                                   job_location  first_seen    search_city  \\\n0                        Florida, United States  2024-01-13  Beverly Hills   \n1                                Long Beach, CA  2024-01-13        Compton   \n2                                  St Louis, MO  2024-01-14     Belleville   \n3                                Fort Worth, TX  2024-01-15     Fort Worth   \n4                          Colorado Springs, CO  2024-01-14  Cripple Creek   \n...                                         ...         ...            ...   \n1495  Bury St. Edmunds, England, United Kingdom  2024-01-13        Ipswich   \n1496                                  Grant, AL  2024-01-17   Guntersville   \n1497                         East Brunswick, NJ  2024-01-14    Long Branch   \n1498                            Kansas City, MO  2024-01-13    Leavenworth   \n1499                             Plantation, FL  2024-01-13       Sarasota   \n\n      search_country           search_position   job_level job_type  \\\n0      United States        Director Technical  Mid senior   Onsite   \n1      United States  Maintenance Data Analyst  Mid senior   Onsite   \n2      United States                   Chemist  Mid senior   Onsite   \n3      United States         Director Research  Mid senior   Onsite   \n4      United States                      Tier  Mid senior   Onsite   \n...              ...                       ...         ...      ...   \n1495  United Kingdom                Controller  Mid senior   Onsite   \n1496   United States   Ultrasound Technologist  Mid senior   Onsite   \n1497   United States    Sales-Service Promoter  Mid senior   Onsite   \n1498   United States                   Orderly   Associate   Onsite   \n1499   United States                Instructor  Mid senior   Onsite   \n\n                                             job_skills  \\\n0     Product architecture, Engineering processes, C...   \n1     Systems engineering, Technical oversight, Requ...   \n2     Data Science, Data Analysis, Machine Learning,...   \n3     AI, Applied Research, Machine Learning, Natura...   \n4     System Administration, IT Operating Systems, C...   \n...                                                 ...   \n1495  Workshop Control, Body Shop Management, HighQu...   \n1496  XRay Technologist, HIPAA, Patient intake, Nurs...   \n1497  Customer service, Product demonstration, Probl...   \n1498  DoD SkillBridge Internship, Fulltime training,...   \n1499  Yoga, Pranayama, Handson direction, Safe and e...   \n\n                                            job_summary       id  summary_len  \\\n0     As Architect you will define the products’ hig...   340370         6407   \n1     Job Title: Sr. System Engineer\\nCompany: ExLab...   640026         6308   \n2     Location: Onsite, St. Louis MO 63146\\nJob Resp...  1096469         3635   \n3     Company Description\\nJobs for Humanity is part...   998553         4011   \n4     Description\\nThe Leidos Digital Modernization ...  1189859         4117   \n...                                                 ...      ...          ...   \n1495  Job title: Workshop Controller\\nDepartment: Ac...   321651         4703   \n1496  Posting Title: X-Ray Technologist Overview:\\nF...  1230454         5704   \n1497  Job Summary\\nResponsible for assisting and con...   159258         4839   \n1498  The ARMOR Initiative DoD SkillBridge Internshi...   774643         2277   \n1499  Job Description\\nJob Title: Yoga Instructor\\nP...   700821         3452   \n\n      skill_count  \n0              33  \n1              32  \n2              30  \n3              34  \n4              31  \n...           ...  \n1495           32  \n1496           38  \n1497           32  \n1498           30  \n1499           30  \n\n[1500 rows x 19 columns]",
      "text/html": "<div>\n<style scoped>\n    .dataframe tbody tr th:only-of-type {\n        vertical-align: middle;\n    }\n\n    .dataframe tbody tr th {\n        vertical-align: top;\n    }\n\n    .dataframe thead th {\n        text-align: right;\n    }\n</style>\n<table border=\"1\" class=\"dataframe\">\n  <thead>\n    <tr style=\"text-align: right;\">\n      <th></th>\n      <th>job_link</th>\n      <th>last_processed_time</th>\n      <th>got_summary</th>\n      <th>got_ner</th>\n      <th>is_being_worked</th>\n      <th>job_title</th>\n      <th>company</th>\n      <th>job_location</th>\n      <th>first_seen</th>\n      <th>search_city</th>\n      <th>search_country</th>\n      <th>search_position</th>\n      <th>job_level</th>\n      <th>job_type</th>\n      <th>job_skills</th>\n      <th>job_summary</th>\n      <th>id</th>\n      <th>summary_len</th>\n      <th>skill_count</th>\n    </tr>\n  </thead>\n  <tbody>\n    <tr>\n      <th>0</th>\n      <td>https://www.linkedin.com/jobs/view/software-ar...</td>\n      <td>2024-01-19 09:45:09.215838+00</td>\n      <td>t</td>\n      <td>t</td>\n      <td>f</td>\n      <td>Software Architect</td>\n      <td>Harris Computer</td>\n      <td>Florida, United States</td>\n      <td>2024-01-13</td>\n      <td>Beverly Hills</td>\n      <td>United States</td>\n      <td>Director Technical</td>\n      <td>Mid senior</td>\n      <td>Onsite</td>\n      <td>Product architecture, Engineering processes, C...</td>\n      <td>As Architect you will define the products’ hig...</td>\n      <td>340370</td>\n      <td>6407</td>\n      <td>33</td>\n    </tr>\n    <tr>\n      <th>1</th>\n      <td>https://www.linkedin.com/jobs/view/senior-syst...</td>\n      <td>2024-01-19 09:45:09.215838+00</td>\n      <td>t</td>\n      <td>t</td>\n      <td>f</td>\n      <td>Senior System Engineer</td>\n      <td>ExLabs</td>\n      <td>Long Beach, CA</td>\n      <td>2024-01-13</td>\n      <td>Compton</td>\n      <td>United States</td>\n      <td>Maintenance Data Analyst</td>\n      <td>Mid senior</td>\n      <td>Onsite</td>\n      <td>Systems engineering, Technical oversight, Requ...</td>\n      <td>Job Title: Sr. System Engineer\\nCompany: ExLab...</td>\n      <td>640026</td>\n      <td>6308</td>\n      <td>32</td>\n    </tr>\n    <tr>\n      <th>2</th>\n      <td>https://www.linkedin.com/jobs/view/senior-data...</td>\n      <td>2024-01-20 11:15:59.804413+00</td>\n      <td>t</td>\n      <td>t</td>\n      <td>f</td>\n      <td>Senior Data Scientist</td>\n      <td>Workforce Connections</td>\n      <td>St Louis, MO</td>\n      <td>2024-01-14</td>\n      <td>Belleville</td>\n      <td>United States</td>\n      <td>Chemist</td>\n      <td>Mid senior</td>\n      <td>Onsite</td>\n      <td>Data Science, Data Analysis, Machine Learning,...</td>\n      <td>Location: Onsite, St. Louis MO 63146\\nJob Resp...</td>\n      <td>1096469</td>\n      <td>3635</td>\n      <td>30</td>\n    </tr>\n    <tr>\n      <th>3</th>\n      <td>https://www.linkedin.com/jobs/view/distinguish...</td>\n      <td>2024-01-19 22:25:24.801979+00</td>\n      <td>t</td>\n      <td>t</td>\n      <td>f</td>\n      <td>Distinguished Applied Researcher</td>\n      <td>Jobs for Humanity</td>\n      <td>Fort Worth, TX</td>\n      <td>2024-01-15</td>\n      <td>Fort Worth</td>\n      <td>United States</td>\n      <td>Director Research</td>\n      <td>Mid senior</td>\n      <td>Onsite</td>\n      <td>AI, Applied Research, Machine Learning, Natura...</td>\n      <td>Company Description\\nJobs for Humanity is part...</td>\n      <td>998553</td>\n      <td>4011</td>\n      <td>34</td>\n    </tr>\n    <tr>\n      <th>4</th>\n      <td>https://www.linkedin.com/jobs/view/systems-adm...</td>\n      <td>2024-01-21 01:06:09.90334+00</td>\n      <td>t</td>\n      <td>t</td>\n      <td>f</td>\n      <td>Systems Administrator</td>\n      <td>Leidos</td>\n      <td>Colorado Springs, CO</td>\n      <td>2024-01-14</td>\n      <td>Cripple Creek</td>\n      <td>United States</td>\n      <td>Tier</td>\n      <td>Mid senior</td>\n      <td>Onsite</td>\n      <td>System Administration, IT Operating Systems, C...</td>\n      <td>Description\\nThe Leidos Digital Modernization ...</td>\n      <td>1189859</td>\n      <td>4117</td>\n      <td>31</td>\n    </tr>\n    <tr>\n      <th>...</th>\n      <td>...</td>\n      <td>...</td>\n      <td>...</td>\n      <td>...</td>\n      <td>...</td>\n      <td>...</td>\n      <td>...</td>\n      <td>...</td>\n      <td>...</td>\n      <td>...</td>\n      <td>...</td>\n      <td>...</td>\n      <td>...</td>\n      <td>...</td>\n      <td>...</td>\n      <td>...</td>\n      <td>...</td>\n      <td>...</td>\n      <td>...</td>\n    </tr>\n    <tr>\n      <th>1495</th>\n      <td>https://uk.linkedin.com/jobs/view/workshop-con...</td>\n      <td>2024-01-19 09:45:09.215838+00</td>\n      <td>t</td>\n      <td>t</td>\n      <td>f</td>\n      <td>Workshop Controller</td>\n      <td>Activate Group Limited</td>\n      <td>Bury St. Edmunds, England, United Kingdom</td>\n      <td>2024-01-13</td>\n      <td>Ipswich</td>\n      <td>United Kingdom</td>\n      <td>Controller</td>\n      <td>Mid senior</td>\n      <td>Onsite</td>\n      <td>Workshop Control, Body Shop Management, HighQu...</td>\n      <td>Job title: Workshop Controller\\nDepartment: Ac...</td>\n      <td>321651</td>\n      <td>4703</td>\n      <td>32</td>\n    </tr>\n    <tr>\n      <th>1496</th>\n      <td>https://www.linkedin.com/jobs/view/x-ray-techn...</td>\n      <td>2024-01-21 04:16:54.473867+00</td>\n      <td>t</td>\n      <td>t</td>\n      <td>f</td>\n      <td>X-Ray Technologist</td>\n      <td>Fast Pace Health</td>\n      <td>Grant, AL</td>\n      <td>2024-01-17</td>\n      <td>Guntersville</td>\n      <td>United States</td>\n      <td>Ultrasound Technologist</td>\n      <td>Mid senior</td>\n      <td>Onsite</td>\n      <td>XRay Technologist, HIPAA, Patient intake, Nurs...</td>\n      <td>Posting Title: X-Ray Technologist Overview:\\nF...</td>\n      <td>1230454</td>\n      <td>5704</td>\n      <td>38</td>\n    </tr>\n    <tr>\n      <th>1497</th>\n      <td>https://www.linkedin.com/jobs/view/xfinity-ret...</td>\n      <td>2024-01-19 23:17:04.320124+00</td>\n      <td>t</td>\n      <td>t</td>\n      <td>f</td>\n      <td>Xfinity Retail Sales Consultant</td>\n      <td>XFINITY Store by Comcast</td>\n      <td>East Brunswick, NJ</td>\n      <td>2024-01-14</td>\n      <td>Long Branch</td>\n      <td>United States</td>\n      <td>Sales-Service Promoter</td>\n      <td>Mid senior</td>\n      <td>Onsite</td>\n      <td>Customer service, Product demonstration, Probl...</td>\n      <td>Job Summary\\nResponsible for assisting and con...</td>\n      <td>159258</td>\n      <td>4839</td>\n      <td>32</td>\n    </tr>\n    <tr>\n      <th>1498</th>\n      <td>https://www.linkedin.com/jobs/view/yard-associ...</td>\n      <td>2024-01-19 09:45:09.215838+00</td>\n      <td>t</td>\n      <td>t</td>\n      <td>f</td>\n      <td>Yard Associate (SkillBridge)</td>\n      <td>ARMOR Initiative</td>\n      <td>Kansas City, MO</td>\n      <td>2024-01-13</td>\n      <td>Leavenworth</td>\n      <td>United States</td>\n      <td>Orderly</td>\n      <td>Associate</td>\n      <td>Onsite</td>\n      <td>DoD SkillBridge Internship, Fulltime training,...</td>\n      <td>The ARMOR Initiative DoD SkillBridge Internshi...</td>\n      <td>774643</td>\n      <td>2277</td>\n      <td>30</td>\n    </tr>\n    <tr>\n      <th>1499</th>\n      <td>https://www.linkedin.com/jobs/view/yoga-instru...</td>\n      <td>2024-01-19 09:45:09.215838+00</td>\n      <td>t</td>\n      <td>t</td>\n      <td>f</td>\n      <td>Yoga Instructor</td>\n      <td>Active Wellness</td>\n      <td>Plantation, FL</td>\n      <td>2024-01-13</td>\n      <td>Sarasota</td>\n      <td>United States</td>\n      <td>Instructor</td>\n      <td>Mid senior</td>\n      <td>Onsite</td>\n      <td>Yoga, Pranayama, Handson direction, Safe and e...</td>\n      <td>Job Description\\nJob Title: Yoga Instructor\\nP...</td>\n      <td>700821</td>\n      <td>3452</td>\n      <td>30</td>\n    </tr>\n  </tbody>\n</table>\n<p>1500 rows × 19 columns</p>\n</div>"
     },
     "execution_count": 3,
     "metadata": {},
     "output_type": "execute_result"
    }
   ],
   "source": [
    "df = pd.read_csv(f\"{path}/data/kaggle_linkedin_jd_skills_dataset/sampled_jd_skills.csv\")\n",
    "df"
   ]
  },
  {
   "cell_type": "markdown",
   "source": [
    "## Testing prompts"
   ],
   "metadata": {
    "collapsed": false
   },
   "id": "8c3ef317b8959c9d"
  },
  {
   "cell_type": "code",
   "outputs": [],
   "source": [
    "i=21"
   ],
   "metadata": {
    "collapsed": false,
    "ExecuteTime": {
     "end_time": "2025-02-26T02:05:20.318139Z",
     "start_time": "2025-02-26T02:05:20.316596Z"
    }
   },
   "id": "416793c43b9cb514",
   "execution_count": 4
  },
  {
   "cell_type": "code",
   "outputs": [
    {
     "name": "stdout",
     "output_type": "stream",
     "text": [
      "**Job role:** Senior Data Engineer\n",
      "\n",
      "**Job Description:** Company Overview\n",
      "XPECT Solutions, Inc. has built a strong reputation by supporting our clients in meeting their strategic goals and mission objectives. We provide high quality resources for a wide range of IT and security solutions at best-value pricing. Our success is built on a solid foundation of well-vetted, highly technical personnel, a disciplined project management approach, and an overarching commitment to customer service. We develop, test, deploy, and support exceptional solutions that enhance system functionality, while maximizing reliability and availability, and ensure the tightest security.\n",
      "Position Overview\n",
      "Xpect Solutions is looking for a Senior ETL Engineer to join our team supporting our Federal customer out of Huntsville, AL.This position will provide the ability to make a significant impact to the mission while also allowing the candidate to grow their skills and career. Successful candidate will need to be able to maintain existing software as the transition from server-based to cloud-based occurs. The candidate will work with a GOTS-based Extract, Transform and Load (ETL) system that loads information into Postgres database with billions of rows and deals with a file repository that is in a Petabyte range. In addition, the candidate will be highly involved in the engineering planning and transition of the existing system software / data into a Cloud-based (currently AWS) solution.\n",
      "Core Responsibilities\n",
      "Apply machine learning techniques in the field of NLP to process unstructured data effectively.\n",
      "Develop parsers to extract relevant information from different media types to transform it into structured and searchable entities.\n",
      "Create and refine domain-specific taxonomies to ensure accurate classification and organization of data.\n",
      "Collaborate with cross-functional teams, including data scientists and domain experts, to understand specific requirements and design effective NLP-based data processing solutions.\n",
      "Implement data pipelines using AWS cloud services, such as AWS Glue, AWS Lambda, and AWS S3, to ensure scalability, reliability, and efficiency in processing large volumes of data.\n",
      "Optimize ETL processes to ensure high performance, data quality, and data consistency throughout the data pipeline.\n",
      "Collaborate with stakeholders to understand their needs and provide technical guidance and support for NLP-related tasks.\n",
      "Requirements\n",
      "Active Top-Secret Clearance with the ability to obtain an SCI\n",
      "Bachelor’s degree in Engineering, Computer Science, or other related analytical, scientific, or technical discipline\n",
      "At least 10 years’ experience with ETL.\n",
      "Database ETL engineers should have experience with Oracle 11g/12c, Linux (CentOS, Red Hat), and Windows environments.\n",
      "Software/scripting engineers should have experience performing software and scripting engineering for data ingest with Java or Python for ETL.\n",
      "Experience with web services and/or microservices.\n",
      "Experience with ETL tools such as NiFi or Informatica.\n",
      "Experience using software repository tools such as GIT or SVN.\n",
      "Strong understanding of ETL processes and best practices, with hands-on experience in building and maintaining data pipelines.\n",
      "Familiarity with AWS cloud services, particularly AWS Glue, AWS Lambda, and AWS S3, for implementing scalable and efficient data pipelines.\n",
      "Solid knowledge of data modeling, data warehousing, and data governance concepts.\n",
      "Excellent problem-solving skills and the ability to work independently as well as collaboratively in a team environment.\n",
      "Strong communication skills to effectively collaborate with stakeholders and present complex ideas and solutions in a clear and concise manner.\n",
      "Benefits Company Culture And Benefits\n",
      "Xpect Solutions, Inc.\n",
      "is a one-of-a-kind employer with a talented team that is cleared at various levels and is certified in dozens of industry-recognized certifications. Our talented staff are the key to our success. They bring the knowledge, experience and technical skills to deliver the best solutions to our customers.\n",
      "We support our team by providing open communication, win-win partnerships with clients and vendors, a team-oriented culture that supports employee diversity, and a focus on professional development and growth for a long-lasting and\n",
      "happy\n",
      "career.\n",
      "We offer a benefits package that is designed to keep our most important assets – our employees – healthy, happy, energized and moving forward. Our philosophy is simple – empower our employees with the benefits, resources and the financial incentives they need to be successful.\n",
      "Below is an overview of our amazing benefits and perks:\n",
      "A competitive Medical, Dental, and Vision plan.\n",
      "Retirement Savings Plan (with company match)\n",
      "Life Insurance\n",
      "AD&D Insurance\n",
      "Short Term and Long Term Disability Insurance\n",
      "3 weeks of annual PTO\n",
      "11 days of Holiday PTO\n",
      "Performance Awards\n",
      "Referral Bonus Plan (of up to $2,500/year)\n",
      "Education Reimbursement/Training (of up to $2,500/year)\n",
      "Xpect Solutions, Inc. is an equal opportunity and affirmative action employer, who participates in E-Verify. All qualified applicants will receive consideration for employment without regard to race, color, national origin, gender, religion, age, disability, veteran’s status, or any other classification as required by applicable law. EOE/M/F/D/V\n",
      "Show more\n",
      "Show less\n",
      "\n",
      "**Skills:** Machine Learning, NLP, Data processing, AWS, ETL, Java, Python, Oracle 11g/12c, NiFi, Informatica, GIT, SVN, Data pipelines, Data governance, Data mining, Data analysis, Data modeling, Extract Transform and Load (ETL), AWS Glue, AWS Lambda, AWS S3, Windows, Linux (CentOS Red Hat), Postgres database, Petabyte range, Postgres database, GOTSbased system, TopSecret Clearance, Active SCI, Software repository tools, Web services, Microservices\n"
     ]
    }
   ],
   "source": [
    "print(\"**Job role:**\", df.iloc[i][\"job_title\"])\n",
    "print(\"\\n**Job Description:**\", df.iloc[i][\"job_summary\"])\n",
    "print(\"\\n**Skills:**\", df.iloc[i][\"job_skills\"])\n"
   ],
   "metadata": {
    "collapsed": false,
    "ExecuteTime": {
     "end_time": "2025-02-26T02:05:20.321277Z",
     "start_time": "2025-02-26T02:05:20.318654Z"
    }
   },
   "id": "87e036dae7706cf9",
   "execution_count": 5
  },
  {
   "cell_type": "markdown",
   "source": [
    "### Generating Resume"
   ],
   "metadata": {
    "collapsed": false
   },
   "id": "64762fdc3f74ed59"
  },
  {
   "cell_type": "code",
   "outputs": [],
   "source": [
    "category_requirements = {\n",
    "    \"complete_mismatch\": \"\"\"\n",
    "    The resume is highly professional but entirely unsuitable for the job. There is no meaningful alignment between the candidate's background and the job requirements.\n",
    "\n",
    "    - **Career Path:**  \n",
    "      - The candidate has spent their career in an industry that is entirely unrelated to the job.  \n",
    "      - Example: A healthcare professional applying for a software engineering role without any technical experience.  \n",
    "\n",
    "    - **Skills:**  \n",
    "      - There is no significant overlap between the candidate’s skills and the job requirements.  \n",
    "      - The candidate specializes in an entirely different domain and lacks both fundamental and advanced job-related skills.  \n",
    "      - Example: A mechanical engineer with expertise in CAD software applying for a data science role requiring Python and ML expertise.  \n",
    "\n",
    "    - **Experience:**  \n",
    "      - The candidate has extensive work experience, but all of it is in a completely different field.  \n",
    "      - Past roles have no transferable experience applicable to the new position.  \n",
    "\n",
    "    - **Education & Certifications:**  \n",
    "      - The candidate has degrees and certifications that do not contribute to the job requirements.  \n",
    "      - Example: A candidate with a nursing degree applying for a software engineering role without relevant training or coursework in programming.  \n",
    "    \"\"\",\n",
    "    \n",
    "    \"underwhelming\": \"\"\"\n",
    "    The resume has some relevant aspects but falls noticeably short of the job requirements. The candidate may show potential but lacks key qualifications or experience to perform effectively in the role. The resume must satisfy at least one of the following conditions, though it may meet multiple.\n",
    "\n",
    "    - **Experience:**  \n",
    "      - The candidate has experience, but it is 30-50% less than the required level.  \n",
    "      - Applying for a mid-level role but has only entry-level experience or internship work.  \n",
    "      - Experience is somewhat related but lacks depth or key responsibilities expected for the role.  \n",
    "      - Example: A candidate applying for a data science position with only one year of experience in data entry and no hands-on machine learning projects.  \n",
    "\n",
    "    - **Skills:**  \n",
    "      - The candidate possesses 40-60% of the required skills but lacks proficiency in essential ones.  \n",
    "      - Skills are at a basic level when the job requires advanced knowledge.  \n",
    "      - Example: A software engineer applying for a full-stack role but only has frontend development experience and lacks backend/database knowledge.  \n",
    "\n",
    "    - **Projects/Work:**  \n",
    "      -- The experience falls short of the Responsibilities mentioned in **Job Description**\n",
    "      - The candidate has worked on projects, but they are limited in scope and do not demonstrate complex problem-solving.  \n",
    "      - Example: A candidate applying for an AI role who has only completed beginner-level projects like basic data visualization but has no experience building predictive models or deploying solutions.  \n",
    "\n",
    "    - **Education & Certifications:**  \n",
    "      - The candidate has a degree that is somewhat related but lacks specialized coursework, certifications, or domain expertise required for the job.  \n",
    "      - Example: An applicant with a general engineering degree applying for a cybersecurity role without security-specific training or certification.  \n",
    "    \"\"\",\n",
    "    \n",
    "    \"good\": \"\"\"\n",
    "    The resume is a strong match for the job and meets all key expectations. The candidate is well-qualified and aligns well with the role requirements.\n",
    "\n",
    "    - **Experience:**  \n",
    "      - The candidate has experience that meets or slightly exceeds the required level.  \n",
    "      - A progressive career trajectory is evident, showing growth in responsibility and expertise.  \n",
    "      - Example: A candidate applying for a mid-level data science role with 3+ years of experience in building machine learning models and optimizing data pipelines.  \n",
    "\n",
    "    - **Skills:**  \n",
    "      - 95-100% alignment with job requirements.  \n",
    "      - The candidate has demonstrated real-world application of skills, rather than just listing them.  \n",
    "      - Example: A full-stack developer listing React, Node.js, and PostgreSQL as key technologies and showing their application in past work.  \n",
    "\n",
    "    - **Projects/Work:**  \n",
    "      - The experience must be closer to the Responsibilities mentioned in **Job Description**.\n",
    "      - The candidate presents projects using an **Action-Problem-Result (APR)** format:  \n",
    "        - Performed [advanced strategic action] to resolve [complex systemic problem] resulting in [exceptional measurable outcomes with broad impact]. Use some kind of number as a metric for measurable outcome.\n",
    "      - Example: *Engineered an end-to-end claim complexity scoring ML pipeline, negating ~3 minutes of manual classification per claim, improving processing time by 20%.*  \n",
    "      - Build 4-5 bullet points for work experience.\n",
    "\n",
    "    - **Education & Certifications:**  \n",
    "      - The candidate's educational background is an exact match for the job, including relevant degrees and certifications.  \n",
    "      - Example: A software engineer applying for a backend development role with a Computer Science degree and AWS certification.  \n",
    "    \"\"\",\n",
    "    \n",
    "    \"overqualified\": \"\"\"\n",
    "    The resume significantly exceeds job requirements, indicating that the candidate may be too advanced for the role.\n",
    "\n",
    "    - **Experience:**  \n",
    "      - The candidate has 3-5+ years more experience than required.  \n",
    "      - Holding leadership or advanced roles (e.g., senior manager, lead engineer) while applying for non-leadership positions.  \n",
    "      - Example: A data scientist with 10 years of experience and a track record of leading AI teams applying for a data analyst position.  \n",
    "\n",
    "    - **Skills:**  \n",
    "      - The candidate possesses every required skill and additional high-level expertise beyond what the job demands.  \n",
    "      - Example: A candidate applying for a software engineering role listing expertise in not only Python, Java, and C++, but also niche skills like CUDA programming for GPU acceleration.  \n",
    "\n",
    "    - **Projects/Work:**  \n",
    "      - The experience must be completely similar to the Responsibilities mentioned in **Job Description**.\n",
    "      - The candidate presents projects using an **Action-Problem-Result (APR)** format:  \n",
    "        - Performed [advanced strategic action] to resolve [complex systemic problem] resulting in [exceptional measurable outcomes with broad impact]. Use some kind of number as a metric for measurable outcome.\n",
    "      - Example: *Revised the existing claim assignment process to automatically assign claims classified by scoring engine to agents by prioritizing highly complex claims, achieving 100% automation.* \n",
    "      - Build 6 bullet points for work experience. \n",
    "\n",
    "    - **Education & Certifications:**  \n",
    "      - The candidate holds degrees and certifications beyond what is required for the role.  \n",
    "      - Example: A PhD in Artificial Intelligence applying for a mid-level software engineering position that only requires a Masters's degree.  \n",
    "\n",
    "    - **Career Progression:**  \n",
    "      - The candidate has a track record of rapid career growth, indicating they may be better suited for a senior role rather than the one they are applying for.  \n",
    "      - Example: Someone who went from junior developer to senior software architect in five years applying for a mid-level role.  \n",
    "    \"\"\"\n",
    "}\n"
   ],
   "metadata": {
    "collapsed": false,
    "ExecuteTime": {
     "end_time": "2025-02-26T02:05:20.325631Z",
     "start_time": "2025-02-26T02:05:20.322049Z"
    }
   },
   "id": "c032543d4671866b",
   "execution_count": 6
  },
  {
   "cell_type": "code",
   "outputs": [],
   "source": [
    "# Resume Generation Prompt for LLaMA Models\n",
    "\n",
    "resume_template = \"\"\"\n",
    "You are an expert resume writer with specialized knowledge in talent acquisition and hiring practices helping {name} to apply for a job. Your task is to generate a tailored, content-rich resume based on the provided inputs while strictly adhering to the specified fit category constraints. Below are the details of the job that the candidate will be applying to:\n",
    "\n",
    "## **Job Details**:\n",
    "- **Role:** {job_role}\n",
    "- **Job Description:** {jd}\n",
    "- **Required Skills:** {skills}\n",
    "\n",
    "**NOTE**: {name} will not have access to Required skills at the time of applying.\n",
    "\n",
    "## **Fit Category:** {fit_category}\n",
    "## **Category Requirements:**  \n",
    "{category_requirements}\n",
    "\n",
    "## **Instructions**:\n",
    "1. **Resume Objective**  \n",
    "   - Generate a professional resume that precisely aligns with the specified fit category ({fit_category}).\n",
    "   - Ensure the resume maintains industry standards and meets professional expectations.\n",
    "   - Structure the resume to be **500-700 words** with clearly defined sections.\n",
    "\n",
    "2. **Mandatory Sections**  \n",
    "   - **Education**: University, degree title, major, graduation year, GPA.\n",
    "   - **Skills**: Comma separated list of skills that include technical skills, soft skills, technologies, and other skills. List at least 15 and at most 40.\n",
    "   - **Work Experience**: Consists of company names, roles, employment type, duration, and detailed bullet points. Constitutes the work experience and work done for the company. Choose a company name, employment type and duration without leaving it blank. Be creative with the company names. **The company name should not be same as the one mentioned in Job Description**.\n",
    "   \n",
    "\n",
    "3. **Optional Sections (Context-Based)**  \n",
    "   - **Projects**: Required if work experience is limited, with clear descriptions and technology stack. This constitutes of the personal and academic projects.\n",
    "   - **Professional Summary**: Tailored to the fit category.\n",
    "   - **Certifications/Accomplishments**: Adjusted based on qualification level.\n",
    "   - **Additional Relevant Sections**: If beneficial, add elements such as leadership, research, or publications.\n",
    "\n",
    "4. **Formatting Guidelines**  \n",
    "   - Use **clear section headings**.\n",
    "   - Precede each bullet point with **\"-\"**.\n",
    "   - Mark key entities (**institutions, companies, project names**) with **\"*\"**.\n",
    "   - Each bullet point must be in between **150-180 characters**.\n",
    "   - Include:\n",
    "     - **4-6 bullet points** for work experience. \n",
    "     - **2-3 bullet points** per project.\n",
    "\n",
    "5. **Category-Specific Constraints**  \n",
    "   - **Complete Mismatch (0-30% relevance)**:\n",
    "     - Generate a resume from an **entirely different career path**.\n",
    "     - Ensure **minimal skill and qualification overlap** with job requirements.\n",
    "     - Maintain professional quality but unrelated experience.\n",
    "   - **Underwhelming (50-70% relevance)**:\n",
    "     - Include **some relevant experience but with clear gaps**.\n",
    "     - Show a **foundational but incomplete** skill set.\n",
    "     - Present **partially relevant qualifications** with notable omissions.\n",
    "   - **Good Fit (95-100% relevance)**:\n",
    "     - Match **all required skills and experience** at an appropriate depth.\n",
    "     - Follow **Action-Problem-Result (APR) format** in work and project sections.\n",
    "     - Demonstrate **clear career progression** and **precise qualification match**.\n",
    "   - **Overqualified (exceeds requirements)**:\n",
    "     - Include **experience exceeding job requirements by 3-5 years**.\n",
    "     - Highlight **leadership, strategic impact, and advanced certifications**.\n",
    "     - Showcase **complex problem-solving** and **business impact** beyond role expectations.\n",
    "\n",
    "6. **Output Requirements**  \n",
    "   - Ensure **strict adherence** to the fit category.\n",
    "   - Generate **only** the resume; **do not include any explanatory notes or meta-text**.\n",
    "   - Maintain **authenticity, clarity, and professionalism** throughout.\n",
    "   - Be creative in writing bullet points for work experience and projects.\n",
    "\"\"\""
   ],
   "metadata": {
    "collapsed": false,
    "ExecuteTime": {
     "end_time": "2025-02-26T02:05:20.328940Z",
     "start_time": "2025-02-26T02:05:20.326548Z"
    }
   },
   "id": "a0a0fe42e69a8fc5",
   "execution_count": 7
  },
  {
   "cell_type": "code",
   "outputs": [],
   "source": [
    "#Llama 3.2 using Ollama on local system\n",
    "model = OllamaLLM(model=\"llama3.2\", temperature = 1)\n",
    "\n",
    "prompt = ChatPromptTemplate.from_template(resume_template)\n",
    "chain = prompt | model\n",
    "data = {\n",
    "    \"name\": \"John Cena\",\n",
    "    \"job_role\": df.iloc[i][\"job_title\"],\n",
    "    \"jd\": df.iloc[i][\"job_summary\"],\n",
    "    \"skills\":df.iloc[i][\"job_skills\"],\n",
    "    \"fit_category\": \"Good\",\n",
    "    \"category_requirements\": category_requirements[\"good\"]\n",
    "}\n",
    "resume1 = chain.invoke(data)"
   ],
   "metadata": {
    "collapsed": false,
    "ExecuteTime": {
     "end_time": "2025-02-26T02:06:05.524131Z",
     "start_time": "2025-02-26T02:05:20.329502Z"
    }
   },
   "id": "94cd72ec10287ca8",
   "execution_count": 8
  },
  {
   "cell_type": "code",
   "outputs": [
    {
     "name": "stdout",
     "output_type": "stream",
     "text": [
      "Here is a sample resume that meets the requirements:\n",
      "\n",
      "**Education**\n",
      "\n",
      "* **University of California, Berkeley**, Bachelor's Degree in Computer Science, 2020\n",
      "\t+ GPA: 3.8/4.0\n",
      "\n",
      "**Skills**\n",
      "\n",
      "* Programming languages: Java, Python, C++, JavaScript\n",
      "* Development frameworks: Spring Boot, Django, React\n",
      "* Databases: MySQL, PostgreSQL, MongoDB\n",
      "* Operating Systems: Windows, Linux, macOS\n",
      "* Cloud platforms: AWS, Azure, Google Cloud\n",
      "* Agile methodologies: Scrum, Kanban\n",
      "* Soft skills: Communication, Teamwork, Problem-solving\n",
      "\n",
      "**Professional Summary**\n",
      "\n",
      "Highly motivated and detail-oriented software engineer with 2 years of experience in building scalable web applications. Proficient in Java, Python, and JavaScript, with expertise in Spring Boot and React. Strong understanding of databases, cloud platforms, and agile methodologies.\n",
      "\n",
      "**Work Experience**\n",
      "\n",
      "* **Software Engineer**, NovaTech, Full-time (2020-Present)\n",
      "\t- Designed and developed a high-performance e-commerce platform using Spring Boot and React.\n",
      "\t- Collaborated with the front-end team to implement responsive UI components and ensure cross-browser compatibility.\n",
      "\t- Worked with the back-end team to integrate third-party APIs and optimize database performance.\n",
      "\n",
      "* **Junior Software Engineer**, GreenTech, Full-time (Summer 2020)\n",
      "\t+ Contributed to the development of a mobile app using Java and Android SDK.\n",
      "\t+ Participated in code reviews and ensured adherence to coding standards.\n",
      "\t+ Assisted in debugging issues and resolving technical debt.\n",
      "\n",
      "* **Intern**, Data Insights, Internship (Spring 2019)\n",
      "\t- Built a machine learning model using Python and scikit-learn to predict customer churn rates.\n",
      "\t- Implemented data visualization dashboards using Tableau to present insights to stakeholders.\n",
      "\t- Conducted research on market trends and competitor analysis to inform business decisions.\n",
      "\n",
      "**Projects**\n",
      "\n",
      "* **Personal Website**, built using React, Node.js, and MongoDB (2020)\n",
      "\t+ Created a responsive UI component library using CSS Grid and CSS Flexbox.\n",
      "\t+ Implemented user authentication using JWT tokens and bcrypt hashing.\n",
      "\t+ Deployed the application on AWS Elastic Beanstalk for scalability and high availability.\n",
      "* **Machine Learning Model**, built using Python and scikit-learn (2019)\n",
      "\t+ Trained a model to predict customer churn rates using regression techniques.\n",
      "\t+ Evaluated model performance using metrics such as accuracy, precision, and recall.\n",
      "\t+ Visualized results using Matplotlib and Seaborn to present insights to stakeholders.\n",
      "\n",
      "**Certifications/Accomplishments**\n",
      "\n",
      "* **AWS Certified Developer - Associate**, 2020\n",
      "* **Google Cloud Certified - Professional Data Engineer**, 2019\n",
      "\n",
      "Note that I've included a mix of work experience, projects, and certifications to demonstrate a good fit for the job requirements. I've also tried to be creative with bullet points in the work experience section, while maintaining authenticity and professionalism throughout the resume.\n"
     ]
    }
   ],
   "source": [
    "print(resume1)"
   ],
   "metadata": {
    "collapsed": false,
    "ExecuteTime": {
     "end_time": "2025-02-26T02:06:05.541306Z",
     "start_time": "2025-02-26T02:06:05.531724Z"
    }
   },
   "id": "f0078213be5a75f6",
   "execution_count": 9
  },
  {
   "cell_type": "code",
   "outputs": [],
   "source": [
    "#Llama 3.3 with NVIDIA NIM\n",
    "client = ChatNVIDIA(\n",
    "  model=\"meta/llama-3.3-70b-instruct\",\n",
    "  api_key=\"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\", \n",
    "  temperature=1.0\n",
    ")\n",
    "\n",
    "\n",
    "prompt = ChatPromptTemplate.from_template(resume_template)\n",
    "chain = prompt | model\n",
    "data = {\n",
    "    \"name\": \"John Cena\",\n",
    "    \"job_role\": df.iloc[i][\"job_title\"],\n",
    "    \"jd\": df.iloc[i][\"job_summary\"],\n",
    "    \"skills\":df.iloc[i][\"job_skills\"],\n",
    "    \"fit_category\": \"Good\",\n",
    "    \"category_requirements\": category_requirements[\"good\"]\n",
    "}\n",
    "resume2 = chain.invoke(data)"
   ],
   "metadata": {
    "collapsed": false,
    "ExecuteTime": {
     "end_time": "2025-02-26T02:06:48.523195Z",
     "start_time": "2025-02-26T02:06:05.547039Z"
    }
   },
   "id": "2ca1c74d2e76e89d",
   "execution_count": 10
  },
  {
   "cell_type": "code",
   "outputs": [
    {
     "name": "stdout",
     "output_type": "stream",
     "text": [
      "Here's a well-structured resume that aligns with the Good Fit category:\n",
      "\n",
      "**John Doe**\n",
      "**Software Engineer & Data Scientist**\n",
      "\n",
      "**Summary:**\n",
      "Highly motivated software engineer with 8 years of experience in building scalable data pipelines, designing efficient algorithms, and leading cross-functional teams to deliver high-impact projects. Proven expertise in machine learning, cloud computing, and Agile development methodologies.\n",
      "\n",
      "**Education:**\n",
      "\n",
      "* **Bachelor of Science in Computer Science**, XYZ University (2015)\n",
      "\t+ Coursework: Data Structures, Algorithms, Computer Systems, Database Systems, and Software Engineering\n",
      "\t+ GPA: 3.8/4.0\n",
      "\n",
      "**Skills:**\n",
      "\n",
      "* Programming languages: Python, Java, C++, JavaScript\n",
      "* Development frameworks: Django, Flask, React, Node.js\n",
      "* Databases: MySQL, MongoDB, PostgreSQL\n",
      "* Machine learning libraries: Scikit-learn, TensorFlow, PyTorch\n",
      "* Cloud platforms: AWS, Azure, Google Cloud Platform\n",
      "* Agile methodologies: Scrum, Kanban\n",
      "\n",
      "**Work Experience:**\n",
      "\n",
      "* **Senior Software Engineer**, ABC Corporation (2018-Present)\n",
      "\t+ Designed and implemented a cloud-based data pipeline using AWS services, resulting in 30% increase in data processing speed.\n",
      "\t+ Led a team of 3 developers to develop a machine learning model that achieved 95% accuracy in predicting customer churn.\n",
      "\t+ Collaborated with cross-functional teams to deliver high-impact projects, including the development of a mobile app and a web application.\n",
      "* **Software Engineer**, DEF Startups (2015-2018)\n",
      "\t+ Developed and maintained multiple features for a SaaS product using React and Node.js, resulting in 25% increase in user engagement.\n",
      "\t+ Worked closely with QA engineers to identify and resolve bugs, improving overall code quality by 30%.\n",
      "\t+ Contributed to the development of an internal project management tool, which resulted in 40% reduction in project timelines.\n",
      "\n",
      "**Projects:**\n",
      "\n",
      "* **Custom Sentiment Analysis Model**, Python\n",
      "\t+ Built a custom sentiment analysis model using Scikit-learn and trained it on a dataset of 10,000 tweets.\n",
      "\t+ Achieved 92% accuracy in classifying sentiment as positive or negative.\n",
      "* **Data Visualization Dashboard**, Tableau\n",
      "\t+ Created an interactive data visualization dashboard to showcase key metrics for a e-commerce company.\n",
      "\t+ Used various visualization techniques, including bar charts, scatter plots, and heatmaps, to effectively communicate insights.\n",
      "\n",
      "**Certifications/Accomplishments:**\n",
      "\n",
      "* **AWS Certified Developer - Associate**, 2019\n",
      "* **Scrum Master Certification**, 2020\n",
      "\n",
      "I hope this meets your requirements! Let me know if you need any further assistance.\n"
     ]
    }
   ],
   "source": [
    "print(resume2)"
   ],
   "metadata": {
    "collapsed": false,
    "ExecuteTime": {
     "end_time": "2025-02-26T02:06:48.551343Z",
     "start_time": "2025-02-26T02:06:48.533982Z"
    }
   },
   "id": "df0c6d73d982241c",
   "execution_count": 11
  },
  {
   "cell_type": "code",
   "outputs": [],
   "source": [
    "#NVIDIA nemotron model listed as a model for synthetic data generation usecase\n",
    "model = ChatNVIDIA(\n",
    "  model=\"nvidia/nemotron-4-340b-instruct\",\n",
    "  api_key=\"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\", \n",
    "  temperature=1.0\n",
    ")\n",
    "\n",
    "prompt = ChatPromptTemplate.from_template(resume_template)\n",
    "chain = prompt | model\n",
    "data = {\n",
    "    \"name\": \"John Cena\",\n",
    "    \"job_role\": df.iloc[i][\"job_title\"],\n",
    "    \"jd\": df.iloc[i][\"job_summary\"],\n",
    "    \"skills\":df.iloc[i][\"job_skills\"],\n",
    "    \"fit_category\": \"Good\",\n",
    "    \"category_requirements\": category_requirements[\"good\"]\n",
    "}\n",
    "resume3 = chain.invoke(data).content"
   ],
   "metadata": {
    "collapsed": false,
    "ExecuteTime": {
     "end_time": "2025-02-26T02:07:38.190460Z",
     "start_time": "2025-02-26T02:06:48.552651Z"
    }
   },
   "id": "6534f27892a34e6d",
   "execution_count": 12
  },
  {
   "cell_type": "code",
   "outputs": [
    {
     "name": "stdout",
     "output_type": "stream",
     "text": [
      "# *John Cena*\n",
      "\n",
      "**Professional Summary**\n",
      "\n",
      "Highly skilled and experienced Senior Data Engineer with a strong background in ETL processes, data modeling, and cloud computing. Proven track record of leading complex data projects and driving business impact through innovative solutions. Demonstrated expertise in NLP, machine learning, and AWS services, ensuring high performance, data quality, and consistency.\n",
      "\n",
      "**Skills**\n",
      "\n",
      "Machine Learning, NLP, Data processing, AWS, ETL, Java, Python, Oracle 11g/12c, NiFi, Informatica, GIT, SVN, Data pipelines, Data governance, Data mining, Data analysis, Data modeling, Extract Transform and Load (ETL), AWS Glue, AWS Lambda, AWS S3, Windows, Linux (CentOS Red Hat), Postgres database, Petabyte range, GOTSbased system, TopSecret Clearance, Active SCI, Software repository tools, Web services, Microservices\n",
      "\n",
      "**Work Experience**\n",
      "\n",
      "**-*Data Solutions Inc.* - Senior Data Engineer (Full-time) - 2018-Present**\n",
      "\n",
      "- Led the design and implementation of a scalable NLP-based data processing solution, reducing processing time by 35% and increasing data accuracy by 20%.\n",
      "- Optimized ETL pipelines using AWS Glue and AWS Lambda, resulting in a 40% decrease in data loading time and a 25% reduction in operational costs.\n",
      "- Collaborated with cross-functional teams to develop domain-specific taxonomies, improving data classification and organization by 30%.\n",
      "- Engineered an end-to-end claim complexity scoring ML pipeline, negating ~3 minutes of manual classification per claim, improving processing time by 20%.\n",
      "\n",
      "**-*Advanced Analytics Corp.* - Data Engineer (Full-time) - 2015-2018**\n",
      "\n",
      "- Developed and maintained ETL processes for a Petabyte-scale file repository, ensuring data consistency and high performance.\n",
      "- Integrated NiFi and Informatica into existing data pipelines, improving data quality and reducing errors by 50%.\n",
      "- Collaborated with data scientists to implement machine learning models, enhancing data-driven decision-making and increasing revenue by 15%.\n",
      "\n",
      "**Education**\n",
      "\n",
      "*University of Technology* - Bachelor's Degree in Computer Science - 2011-2015\n",
      "\n",
      "**Certifications**\n",
      "\n",
      "*AWS Certified Solutions Architect - Professional*\n",
      "*Oracle Certified Professional, Java SE 11 Developer*\n",
      "*Cloudera Certified Associate - Data Engineer*\n",
      "\n",
      "**Projects**\n",
      "\n",
      "**-*Smart Data Analyzer* - NLP-based Data Processing Tool**\n",
      "\n",
      "- Developed a tool that uses NLP techniques to extract relevant information from unstructured data, improving data processing efficiency by 40%.\n",
      "- Integrated the tool with AWS services, ensuring scalability and reliability.\n",
      "\n",
      "**-*Cloud Data Migration* - ETL Process Optimization**\n",
      "\n",
      "- Optimized ETL processes for a cloud-based data migration project, reducing data loading time by 50% and operational costs by 30%.\n",
      "- Utilized AWS Glue and AWS Lambda to build a scalable and efficient data pipeline.\n"
     ]
    }
   ],
   "source": [
    "print(resume3)"
   ],
   "metadata": {
    "collapsed": false,
    "ExecuteTime": {
     "end_time": "2025-02-26T02:07:38.199288Z",
     "start_time": "2025-02-26T02:07:38.193899Z"
    }
   },
   "id": "3bc79b84a645c30c",
   "execution_count": 13
  },
  {
   "cell_type": "markdown",
   "source": [
    "We can clearly see that the NVIDIA's nemotron model generated the best content. Lets check it for other category fit."
   ],
   "metadata": {
    "collapsed": false
   },
   "id": "54110c69d1c4326b"
  },
  {
   "cell_type": "code",
   "outputs": [
    {
     "name": "stdout",
     "output_type": "stream",
     "text": [
      "**John Cena**\n",
      "\n",
      "**Professional Summary**\n",
      "\n",
      "Experienced professional with a strong background in sports entertainment and film production, seeking to transition into a new field and bring a unique perspective to a dynamic team.\n",
      "\n",
      "**Education**\n",
      "\n",
      "*Springfield College*\n",
      "\n",
      "- *Bachelor of Science in Exercise Science*, 1998\n",
      "- GPA: 3.2\n",
      "\n",
      "**Skills**\n",
      "\n",
      "- Public Speaking, Leadership, Teamwork, Time Management, Negotiation, Event Planning, Physical Fitness, Acting, Script Writing, Video Production, Choreography, Social Media Management, Merchandising, Community Outreach, Philanthropy, Brand Management, Event Promotion\n",
      "\n",
      "**Work Experience**\n",
      "\n",
      "*World Wrestling Entertainment (WWE)*\n",
      "\n",
      "- *Professional Wrestler and Actor*, Full-Time, 2002-Present\n",
      "  - Performed in live events and televised shows, engaging audiences and driving ratings.\n",
      "  - Collaborated with creative teams to develop storylines and characters.\n",
      "  - Mentored and trained new talent, fostering a positive and supportive work environment.\n",
      "  - Participated in charity events and community outreach programs, promoting the WWE brand and giving back to fans.\n",
      "  - Managed personal brand, including merchandise and social media presence.\n",
      "\n",
      "* lança Filmes*\n",
      "\n",
      "- *Actor and Producer*, Part-Time, 2010-Present\n",
      "  - Starred in and produced films, contributing to all aspects of production.\n",
      "  - Managed budgets, schedules, and personnel, ensuring projects were completed on time and within budget.\n",
      "  - Collaborated with directors, writers, and other actors to bring stories to life.\n",
      "  - Promoted films through interviews, appearances, and social media campaigns.\n",
      "\n",
      "**Projects**\n",
      "\n",
      "*Make-A-Wish Foundation*\n",
      "\n",
      "- *Wish Granter and Spokesperson*, 2004-Present\n",
      "  - Collaborated with foundation staff to grant wishes for children with life-threatening medical conditions.\n",
      "  - Participated in fundraising events and campaigns, raising awareness and support for the foundation.\n",
      "\n",
      "*The John Cena Collection*\n",
      "\n",
      "- *Clothing and Merchandise Line*, 2005-Present\n",
      "  - Designed and launched a successful line of clothing and merchandise, appealing to fans of all ages.\n",
      "  - Managed production, distribution, and marketing, ensuring a positive customer experience.\n",
      "\n",
      "**Certifications/Accomplishments**\n",
      "\n",
      "- *WWE Championship (16x)*\n",
      "- *World Heavyweight Championship (3x)*\n",
      "- *United States Championship (5x)*\n",
      "- *Royal Rumble Winner (2x)*\n",
      "- *Money in the Bank Winner*\n",
      "- *Star of \"The Marine,\" \"Trainwreck,\" and \"Bumblebee\"*\n",
      "- *Author of \"Stay Relentless\" and \"Be a Work in Progress\"*\n",
      "- *Recipient of the Muhammad Ali Legacy Award*\n",
      "- *Make-A-Wish Foundation's most requested wish granter, with over 650 wishes granted*\n"
     ]
    }
   ],
   "source": [
    "data = {\n",
    "    \"name\": \"John Cena\",\n",
    "    \"job_role\": df.iloc[i][\"job_title\"],\n",
    "    \"jd\": df.iloc[i][\"job_summary\"],\n",
    "    \"skills\":df.iloc[i][\"job_skills\"],\n",
    "    \"fit_category\": \"Complete Mismatch\",\n",
    "    \"category_requirements\": category_requirements[\"complete_mismatch\"]\n",
    "}\n",
    "r1 = chain.invoke(data).content\n",
    "print(r1)"
   ],
   "metadata": {
    "collapsed": false,
    "ExecuteTime": {
     "end_time": "2025-02-26T02:08:25.434841Z",
     "start_time": "2025-02-26T02:07:38.201085Z"
    }
   },
   "id": "1ef35ebdff5d6077",
   "execution_count": 14
  },
  {
   "cell_type": "code",
   "outputs": [
    {
     "name": "stdout",
     "output_type": "stream",
     "text": [
      "**John Cena**\n",
      "*[Email Address]* | *[Phone Number]* | *[Location]* | *[LinkedIn Profile]*\n",
      "\n",
      "**Professional Summary**\n",
      "\n",
      "Experienced professional with a strong background in data analytics and a passion for technology. Seeking to leverage my skills in a new role as a Senior Data Engineer, despite having less than the required experience. Eager to grow and contribute to a dynamic team.\n",
      "\n",
      "**Skills**\n",
      "\n",
      "Data Analysis, Data Modeling, SQL, Python, Java, Oracle, Linux, Windows, ETL, NiFi, Informatica, Git, SVN, Data Pipelines, Data Governance, Data Mining, Data Processing, AWS, Cloud Services, Web Services, Microservices, NLP, Machine Learning, Petabyte Range, Postgres Database\n",
      "\n",
      "**Work Experience**\n",
      "\n",
      "*Data Analyst* | *DataWorks Inc.* | *Full-time* | *Jun 2015 - Present*\n",
      "\n",
      "- Analyzed and interpreted complex data sets to provide insights and recommendations for business decisions.\n",
      "- Developed and maintained ETL processes using NiFi and Informatica, ensuring data accuracy and consistency.\n",
      "- Collaborated with cross-functional teams to implement data-driven solutions, utilizing Python and Java.\n",
      "- Managed and optimized Oracle databases, ensuring data security and integrity.\n",
      "- Participated in the migration of data to cloud-based solutions, utilizing AWS services such as S3 and Lambda.\n",
      "\n",
      "*Data Specialist* | *InfoTech Solutions* | *Full-time* | *Jan 2013 - May 2015*\n",
      "\n",
      "- Assisted in the design and implementation of data models for various projects.\n",
      "- Conducted data mining and analysis to support business intelligence initiatives.\n",
      "- Utilized SQL and Python to extract, transform, and load data into databases.\n",
      "- Collaborated with team members to ensure data quality and accuracy.\n",
      "\n",
      "**Education**\n",
      "\n",
      "*Bachelor of Science in Information Technology* | *State University* | *2010 - 2013*\n",
      "\n",
      "- Major: Information Technology\n",
      "- GPA: 3.2/4.0\n",
      "\n",
      "**Projects**\n",
      "\n",
      "*Data Visualization Dashboard*\n",
      "\n",
      "- Developed a data visualization dashboard using Tableau to present insights from a large dataset.\n",
      "- Utilized SQL and Python to extract and clean data for visualization.\n",
      "\n",
      "*ETL Pipeline for Data Migration*\n",
      "\n",
      "- Designed and implemented an ETL pipeline to migrate data from on-premises servers to AWS S3.\n",
      "- Utilized NiFi and AWS Glue to ensure data accuracy and consistency during migration.\n",
      "\n",
      "*NLP-based Text Classification*\n",
      "\n",
      "- Developed a machine learning model using NLP techniques to classify text data.\n",
      "- Utilized Python and its libraries such as NLTK and scikit-learn for model development and evaluation.\n",
      "\n",
      "**Certifications**\n",
      "\n",
      "- AWS Certified Cloud Practitioner\n",
      "- Oracle Database SQL Certified Associate\n",
      "\n",
      "**Additional Relevant Sections**\n",
      "\n",
      "*Leadership*\n",
      "\n",
      "- Mentored junior team members in data analysis and ETL processes.\n",
      "- Led a team of data analysts in a project to optimize data storage and retrieval.\n",
      "\n",
      "*Research*\n",
      "\n",
      "- Conducted research on the application of machine learning in data analytics.\n",
      "- Presented findings at a local data science conference.\n"
     ]
    }
   ],
   "source": [
    "data = {\n",
    "    \"name\": \"John Cena\",\n",
    "    \"job_role\": df.iloc[i][\"job_title\"],\n",
    "    \"jd\": df.iloc[i][\"job_summary\"],\n",
    "    \"skills\":df.iloc[i][\"job_skills\"],\n",
    "    \"fit_category\": \"Underwhelming\",\n",
    "    \"category_requirements\": category_requirements[\"underwhelming\"]\n",
    "}\n",
    "r2 = chain.invoke(data).content\n",
    "print(r2)"
   ],
   "metadata": {
    "collapsed": false,
    "ExecuteTime": {
     "end_time": "2025-02-26T02:09:17.100850Z",
     "start_time": "2025-02-26T02:08:25.437493Z"
    }
   },
   "id": "877f75b277355e57",
   "execution_count": 15
  },
  {
   "cell_type": "code",
   "outputs": [
    {
     "name": "stdout",
     "output_type": "stream",
     "text": [
      "# *John Cena*\n",
      "\n",
      "**Professional Summary**\n",
      "\n",
      "Highly accomplished and innovative Senior Data Engineer with over 15 years of experience in designing, developing, and implementing large-scale data solutions. Proven track record of leading cross-functional teams, driving strategic initiatives, and delivering high-impact results in fast-paced environments. Expert in machine learning, natural language processing, and cloud technologies, with a strong focus on data governance and security.\n",
      "\n",
      "**Skills**\n",
      "\n",
      "Machine Learning, NLP, Data processing, AWS, ETL, Java, Python, Oracle 11g/12c, NiFi, Informatica, GIT, SVN, Data pipelines, Data governance, Data mining, Data analysis, Data modeling, Extract Transform and Load (ETL), AWS Glue, AWS Lambda, AWS S3, Windows, Linux (CentOS Red Hat), Postgres database, Petabyte range, Software repository tools, Web services, Microservices, Leadership, Project Management, Strategic Planning, Team Building, Mentoring, Communication, Problem Solving, Critical Thinking, Agile Methodologies, Scrum, DevOps, CI/CD, Data Security, Data Privacy, Data Architecture, Data Strategy, Big Data, Hadoop, Spark, Data Lake, Data Warehouse, Data Visualization, Tableau, PowerBI\n",
      "\n",
      "**Work Experience**\n",
      "\n",
      "*Data Solutions Inc.* | *Senior Data Engineer* | *Full-time* | *2015-Present*\n",
      "\n",
      "- Led the design and implementation of a GOTS-based ETL system, processing petabytes of data and loading it into a Postgres database with billions of rows, resulting in a 50% reduction in processing time.\n",
      "- Developed and optimized NLP-based data processing solutions using machine learning techniques, improving data accuracy by 30% and reducing manual effort by 70%.\n",
      "- Architected and implemented a cloud-based data pipeline using AWS Glue, AWS Lambda, and AWS S3, increasing data processing efficiency by 40% and reducing costs by 25%.\n",
      "- Collaborated with cross-functional teams to define and refine domain-specific taxonomies, ensuring accurate classification and organization of data, and improving search efficiency by 60%.\n",
      "- Mentored and trained junior engineers, fostering a culture of continuous learning and improvement, resulting in a 20% increase in team productivity.\n",
      "- Established and enforced data governance policies and procedures, ensuring data security and privacy, and reducing data breaches by 80%.\n",
      "\n",
      "*Data Analytics Corporation* | *Data Engineer* | *Full-time* | *2010-2015*\n",
      "\n",
      "- Developed and maintained ETL processes for a large-scale data warehouse, processing over 1TB of data daily, and improving data quality by 25%.\n",
      "- Implemented data mining and analysis techniques to extract insights from unstructured data, increasing revenue by 15%.\n",
      "- Collaborated with data scientists to develop predictive models, improving forecast accuracy by 30%.\n",
      "- Automated data processing workflows, reducing manual effort by 50% and improving data accuracy by 15%.\n",
      "- Led the migration of on-premises data infrastructure to the cloud, reducing costs by 30% and improving scalability by 50%.\n",
      "- Developed and maintained data visualization dashboards, enabling data-driven decision-making and improving business outcomes by 20%.\n",
      "\n",
      "**Education**\n",
      "\n",
      "*Massachusetts Institute of Technology* | *Master of Science in Computer Science* | *2008*\n",
      "\n",
      "*Harvard University* | *Bachelor of Arts in Computer Science* | *2005*\n",
      "\n",
      "**Certifications**\n",
      "\n",
      "- AWS Certified Solutions Architect - Professional\n",
      "- Google Professional Data Engineer\n",
      "- Cloudera Certified Developer for Apache Hadoop\n",
      "- Oracle Certified Professional, Java SE 8 Programmer\n",
      "- Project Management Professional (PMP)\n",
      "\n",
      "**Leadership**\n",
      "\n",
      "- Co-founder and President of the Data Engineering Society, promoting best practices and knowledge sharing in the data engineering community.\n",
      "- Speaker at industry conferences, sharing insights and expertise on data engineering, machine learning, and cloud technologies.\n",
      "- Mentor for the Women in Data Science (WiDS) initiative, empowering women to pursue careers in data science and engineering.\n"
     ]
    }
   ],
   "source": [
    "\n",
    "data = {\n",
    "    \"name\": \"John Cena\",\n",
    "    \"job_role\": df.iloc[i][\"job_title\"],\n",
    "    \"jd\": df.iloc[i][\"job_summary\"],\n",
    "    \"skills\":df.iloc[i][\"job_skills\"],\n",
    "    \"fit_category\": \"Over qualified\",\n",
    "    \"category_requirements\": category_requirements[\"overqualified\"]\n",
    "}\n",
    "r3 = chain.invoke(data).content\n",
    "print(r3)"
   ],
   "metadata": {
    "collapsed": false,
    "ExecuteTime": {
     "end_time": "2025-02-26T02:10:23.467617Z",
     "start_time": "2025-02-26T02:09:17.103523Z"
    }
   },
   "id": "d16d509a43d15baa",
   "execution_count": 16
  },
  {
   "cell_type": "markdown",
   "source": [
    "NVIDIA nemotron seems to be the best model for data generation."
   ],
   "metadata": {
    "collapsed": false
   },
   "id": "e2e820054982ddbc"
  },
  {
   "cell_type": "markdown",
   "source": [
    "Any formatting related issues can be dealt with in preprocessing. However, the content that NVIDIA nemotron generates is far superior compared to other models."
   ],
   "metadata": {
    "collapsed": false
   },
   "id": "5ce4d4e9fb2bf7fe"
  }
 ],
 "metadata": {
  "kernelspec": {
   "name": "ars",
   "language": "python",
   "display_name": "Python (ARS)"
  },
  "language_info": {
   "codemirror_mode": {
    "name": "ipython",
    "version": 3
   },
   "file_extension": ".py",
   "mimetype": "text/x-python",
   "name": "python",
   "nbconvert_exporter": "python",
   "pygments_lexer": "ipython3",
   "version": "3.12.1"
  }
 },
 "nbformat": 4,
 "nbformat_minor": 5
}
