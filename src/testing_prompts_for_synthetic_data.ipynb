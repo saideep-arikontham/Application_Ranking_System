{
 "cells": [
  {
   "cell_type": "markdown",
   "source": [
    "# Testing Prompts for generating synthetic data"
   ],
   "metadata": {
    "collapsed": false
   },
   "id": "bdb71d3ced1c07f5"
  },
  {
   "cell_type": "markdown",
   "source": [
    "## Importing libraries"
   ],
   "metadata": {
    "collapsed": false
   },
   "id": "8f126534269f0ace"
  },
  {
   "cell_type": "code",
   "execution_count": 1,
   "id": "2133218b-9766-4c8c-ae07-d9a6a4845cf7",
   "metadata": {
    "ExecuteTime": {
     "end_time": "2025-02-25T03:13:52.597303Z",
     "start_time": "2025-02-25T03:13:51.470740Z"
    }
   },
   "outputs": [],
   "source": [
    "from langchain_core.prompts import ChatPromptTemplate\n",
    "from langchain_ollama.llms import OllamaLLM\n",
    "from langchain_nvidia_ai_endpoints import ChatNVIDIA\n",
    "\n",
    "import os\n",
    "import pandas as pd\n",
    "\n",
    "# Set Pandas to display all columns\n",
    "pd.set_option('display.max_columns', None)"
   ]
  },
  {
   "cell_type": "code",
   "outputs": [
    {
     "name": "stdout",
     "output_type": "stream",
     "text": [
      "/Users/saideepbunny/Projects/Application_Ranking_System\n"
     ]
    }
   ],
   "source": [
    "import os\n",
    "import sys\n",
    "from pathlib import Path\n",
    "\n",
    "path = Path(os.path.dirname(os.getcwd()))\n",
    "path = str(path)\n",
    "print(path)\n",
    "sys.path.insert(1, path)"
   ],
   "metadata": {
    "collapsed": false,
    "ExecuteTime": {
     "end_time": "2025-02-25T03:13:52.600409Z",
     "start_time": "2025-02-25T03:13:52.598195Z"
    }
   },
   "id": "dcab3c15f43d8094",
   "execution_count": 2
  },
  {
   "cell_type": "markdown",
   "source": [
    "## Reading the data"
   ],
   "metadata": {
    "collapsed": false
   },
   "id": "11167744e1545b5e"
  },
  {
   "cell_type": "code",
   "execution_count": 3,
   "id": "aaab01d9-3a04-4bad-aa8c-227aecdd26fb",
   "metadata": {
    "ExecuteTime": {
     "end_time": "2025-02-25T03:13:52.691084Z",
     "start_time": "2025-02-25T03:13:52.601080Z"
    }
   },
   "outputs": [
    {
     "data": {
      "text/plain": "                                               job_link  \\\n0     https://www.linkedin.com/jobs/view/software-ar...   \n1     https://www.linkedin.com/jobs/view/senior-syst...   \n2     https://www.linkedin.com/jobs/view/senior-data...   \n3     https://www.linkedin.com/jobs/view/distinguish...   \n4     https://www.linkedin.com/jobs/view/systems-adm...   \n...                                                 ...   \n1495  https://uk.linkedin.com/jobs/view/workshop-con...   \n1496  https://www.linkedin.com/jobs/view/x-ray-techn...   \n1497  https://www.linkedin.com/jobs/view/xfinity-ret...   \n1498  https://www.linkedin.com/jobs/view/yard-associ...   \n1499  https://www.linkedin.com/jobs/view/yoga-instru...   \n\n                last_processed_time got_summary got_ner is_being_worked  \\\n0     2024-01-19 09:45:09.215838+00           t       t               f   \n1     2024-01-19 09:45:09.215838+00           t       t               f   \n2     2024-01-20 11:15:59.804413+00           t       t               f   \n3     2024-01-19 22:25:24.801979+00           t       t               f   \n4      2024-01-21 01:06:09.90334+00           t       t               f   \n...                             ...         ...     ...             ...   \n1495  2024-01-19 09:45:09.215838+00           t       t               f   \n1496  2024-01-21 04:16:54.473867+00           t       t               f   \n1497  2024-01-19 23:17:04.320124+00           t       t               f   \n1498  2024-01-19 09:45:09.215838+00           t       t               f   \n1499  2024-01-19 09:45:09.215838+00           t       t               f   \n\n                             job_title                   company  \\\n0                   Software Architect           Harris Computer   \n1               Senior System Engineer                    ExLabs   \n2                Senior Data Scientist     Workforce Connections   \n3     Distinguished Applied Researcher         Jobs for Humanity   \n4                Systems Administrator                    Leidos   \n...                                ...                       ...   \n1495               Workshop Controller    Activate Group Limited   \n1496                X-Ray Technologist          Fast Pace Health   \n1497   Xfinity Retail Sales Consultant  XFINITY Store by Comcast   \n1498      Yard Associate (SkillBridge)          ARMOR Initiative   \n1499                   Yoga Instructor           Active Wellness   \n\n                                   job_location  first_seen    search_city  \\\n0                        Florida, United States  2024-01-13  Beverly Hills   \n1                                Long Beach, CA  2024-01-13        Compton   \n2                                  St Louis, MO  2024-01-14     Belleville   \n3                                Fort Worth, TX  2024-01-15     Fort Worth   \n4                          Colorado Springs, CO  2024-01-14  Cripple Creek   \n...                                         ...         ...            ...   \n1495  Bury St. Edmunds, England, United Kingdom  2024-01-13        Ipswich   \n1496                                  Grant, AL  2024-01-17   Guntersville   \n1497                         East Brunswick, NJ  2024-01-14    Long Branch   \n1498                            Kansas City, MO  2024-01-13    Leavenworth   \n1499                             Plantation, FL  2024-01-13       Sarasota   \n\n      search_country           search_position   job_level job_type  \\\n0      United States        Director Technical  Mid senior   Onsite   \n1      United States  Maintenance Data Analyst  Mid senior   Onsite   \n2      United States                   Chemist  Mid senior   Onsite   \n3      United States         Director Research  Mid senior   Onsite   \n4      United States                      Tier  Mid senior   Onsite   \n...              ...                       ...         ...      ...   \n1495  United Kingdom                Controller  Mid senior   Onsite   \n1496   United States   Ultrasound Technologist  Mid senior   Onsite   \n1497   United States    Sales-Service Promoter  Mid senior   Onsite   \n1498   United States                   Orderly   Associate   Onsite   \n1499   United States                Instructor  Mid senior   Onsite   \n\n                                             job_skills  \\\n0     Product architecture, Engineering processes, C...   \n1     Systems engineering, Technical oversight, Requ...   \n2     Data Science, Data Analysis, Machine Learning,...   \n3     AI, Applied Research, Machine Learning, Natura...   \n4     System Administration, IT Operating Systems, C...   \n...                                                 ...   \n1495  Workshop Control, Body Shop Management, HighQu...   \n1496  XRay Technologist, HIPAA, Patient intake, Nurs...   \n1497  Customer service, Product demonstration, Probl...   \n1498  DoD SkillBridge Internship, Fulltime training,...   \n1499  Yoga, Pranayama, Handson direction, Safe and e...   \n\n                                            job_summary       id  summary_len  \\\n0     As Architect you will define the products’ hig...   340370         6407   \n1     Job Title: Sr. System Engineer\\nCompany: ExLab...   640026         6308   \n2     Location: Onsite, St. Louis MO 63146\\nJob Resp...  1096469         3635   \n3     Company Description\\nJobs for Humanity is part...   998553         4011   \n4     Description\\nThe Leidos Digital Modernization ...  1189859         4117   \n...                                                 ...      ...          ...   \n1495  Job title: Workshop Controller\\nDepartment: Ac...   321651         4703   \n1496  Posting Title: X-Ray Technologist Overview:\\nF...  1230454         5704   \n1497  Job Summary\\nResponsible for assisting and con...   159258         4839   \n1498  The ARMOR Initiative DoD SkillBridge Internshi...   774643         2277   \n1499  Job Description\\nJob Title: Yoga Instructor\\nP...   700821         3452   \n\n      skill_count  \n0              33  \n1              32  \n2              30  \n3              34  \n4              31  \n...           ...  \n1495           32  \n1496           38  \n1497           32  \n1498           30  \n1499           30  \n\n[1500 rows x 19 columns]",
      "text/html": "<div>\n<style scoped>\n    .dataframe tbody tr th:only-of-type {\n        vertical-align: middle;\n    }\n\n    .dataframe tbody tr th {\n        vertical-align: top;\n    }\n\n    .dataframe thead th {\n        text-align: right;\n    }\n</style>\n<table border=\"1\" class=\"dataframe\">\n  <thead>\n    <tr style=\"text-align: right;\">\n      <th></th>\n      <th>job_link</th>\n      <th>last_processed_time</th>\n      <th>got_summary</th>\n      <th>got_ner</th>\n      <th>is_being_worked</th>\n      <th>job_title</th>\n      <th>company</th>\n      <th>job_location</th>\n      <th>first_seen</th>\n      <th>search_city</th>\n      <th>search_country</th>\n      <th>search_position</th>\n      <th>job_level</th>\n      <th>job_type</th>\n      <th>job_skills</th>\n      <th>job_summary</th>\n      <th>id</th>\n      <th>summary_len</th>\n      <th>skill_count</th>\n    </tr>\n  </thead>\n  <tbody>\n    <tr>\n      <th>0</th>\n      <td>https://www.linkedin.com/jobs/view/software-ar...</td>\n      <td>2024-01-19 09:45:09.215838+00</td>\n      <td>t</td>\n      <td>t</td>\n      <td>f</td>\n      <td>Software Architect</td>\n      <td>Harris Computer</td>\n      <td>Florida, United States</td>\n      <td>2024-01-13</td>\n      <td>Beverly Hills</td>\n      <td>United States</td>\n      <td>Director Technical</td>\n      <td>Mid senior</td>\n      <td>Onsite</td>\n      <td>Product architecture, Engineering processes, C...</td>\n      <td>As Architect you will define the products’ hig...</td>\n      <td>340370</td>\n      <td>6407</td>\n      <td>33</td>\n    </tr>\n    <tr>\n      <th>1</th>\n      <td>https://www.linkedin.com/jobs/view/senior-syst...</td>\n      <td>2024-01-19 09:45:09.215838+00</td>\n      <td>t</td>\n      <td>t</td>\n      <td>f</td>\n      <td>Senior System Engineer</td>\n      <td>ExLabs</td>\n      <td>Long Beach, CA</td>\n      <td>2024-01-13</td>\n      <td>Compton</td>\n      <td>United States</td>\n      <td>Maintenance Data Analyst</td>\n      <td>Mid senior</td>\n      <td>Onsite</td>\n      <td>Systems engineering, Technical oversight, Requ...</td>\n      <td>Job Title: Sr. System Engineer\\nCompany: ExLab...</td>\n      <td>640026</td>\n      <td>6308</td>\n      <td>32</td>\n    </tr>\n    <tr>\n      <th>2</th>\n      <td>https://www.linkedin.com/jobs/view/senior-data...</td>\n      <td>2024-01-20 11:15:59.804413+00</td>\n      <td>t</td>\n      <td>t</td>\n      <td>f</td>\n      <td>Senior Data Scientist</td>\n      <td>Workforce Connections</td>\n      <td>St Louis, MO</td>\n      <td>2024-01-14</td>\n      <td>Belleville</td>\n      <td>United States</td>\n      <td>Chemist</td>\n      <td>Mid senior</td>\n      <td>Onsite</td>\n      <td>Data Science, Data Analysis, Machine Learning,...</td>\n      <td>Location: Onsite, St. Louis MO 63146\\nJob Resp...</td>\n      <td>1096469</td>\n      <td>3635</td>\n      <td>30</td>\n    </tr>\n    <tr>\n      <th>3</th>\n      <td>https://www.linkedin.com/jobs/view/distinguish...</td>\n      <td>2024-01-19 22:25:24.801979+00</td>\n      <td>t</td>\n      <td>t</td>\n      <td>f</td>\n      <td>Distinguished Applied Researcher</td>\n      <td>Jobs for Humanity</td>\n      <td>Fort Worth, TX</td>\n      <td>2024-01-15</td>\n      <td>Fort Worth</td>\n      <td>United States</td>\n      <td>Director Research</td>\n      <td>Mid senior</td>\n      <td>Onsite</td>\n      <td>AI, Applied Research, Machine Learning, Natura...</td>\n      <td>Company Description\\nJobs for Humanity is part...</td>\n      <td>998553</td>\n      <td>4011</td>\n      <td>34</td>\n    </tr>\n    <tr>\n      <th>4</th>\n      <td>https://www.linkedin.com/jobs/view/systems-adm...</td>\n      <td>2024-01-21 01:06:09.90334+00</td>\n      <td>t</td>\n      <td>t</td>\n      <td>f</td>\n      <td>Systems Administrator</td>\n      <td>Leidos</td>\n      <td>Colorado Springs, CO</td>\n      <td>2024-01-14</td>\n      <td>Cripple Creek</td>\n      <td>United States</td>\n      <td>Tier</td>\n      <td>Mid senior</td>\n      <td>Onsite</td>\n      <td>System Administration, IT Operating Systems, C...</td>\n      <td>Description\\nThe Leidos Digital Modernization ...</td>\n      <td>1189859</td>\n      <td>4117</td>\n      <td>31</td>\n    </tr>\n    <tr>\n      <th>...</th>\n      <td>...</td>\n      <td>...</td>\n      <td>...</td>\n      <td>...</td>\n      <td>...</td>\n      <td>...</td>\n      <td>...</td>\n      <td>...</td>\n      <td>...</td>\n      <td>...</td>\n      <td>...</td>\n      <td>...</td>\n      <td>...</td>\n      <td>...</td>\n      <td>...</td>\n      <td>...</td>\n      <td>...</td>\n      <td>...</td>\n      <td>...</td>\n    </tr>\n    <tr>\n      <th>1495</th>\n      <td>https://uk.linkedin.com/jobs/view/workshop-con...</td>\n      <td>2024-01-19 09:45:09.215838+00</td>\n      <td>t</td>\n      <td>t</td>\n      <td>f</td>\n      <td>Workshop Controller</td>\n      <td>Activate Group Limited</td>\n      <td>Bury St. Edmunds, England, United Kingdom</td>\n      <td>2024-01-13</td>\n      <td>Ipswich</td>\n      <td>United Kingdom</td>\n      <td>Controller</td>\n      <td>Mid senior</td>\n      <td>Onsite</td>\n      <td>Workshop Control, Body Shop Management, HighQu...</td>\n      <td>Job title: Workshop Controller\\nDepartment: Ac...</td>\n      <td>321651</td>\n      <td>4703</td>\n      <td>32</td>\n    </tr>\n    <tr>\n      <th>1496</th>\n      <td>https://www.linkedin.com/jobs/view/x-ray-techn...</td>\n      <td>2024-01-21 04:16:54.473867+00</td>\n      <td>t</td>\n      <td>t</td>\n      <td>f</td>\n      <td>X-Ray Technologist</td>\n      <td>Fast Pace Health</td>\n      <td>Grant, AL</td>\n      <td>2024-01-17</td>\n      <td>Guntersville</td>\n      <td>United States</td>\n      <td>Ultrasound Technologist</td>\n      <td>Mid senior</td>\n      <td>Onsite</td>\n      <td>XRay Technologist, HIPAA, Patient intake, Nurs...</td>\n      <td>Posting Title: X-Ray Technologist Overview:\\nF...</td>\n      <td>1230454</td>\n      <td>5704</td>\n      <td>38</td>\n    </tr>\n    <tr>\n      <th>1497</th>\n      <td>https://www.linkedin.com/jobs/view/xfinity-ret...</td>\n      <td>2024-01-19 23:17:04.320124+00</td>\n      <td>t</td>\n      <td>t</td>\n      <td>f</td>\n      <td>Xfinity Retail Sales Consultant</td>\n      <td>XFINITY Store by Comcast</td>\n      <td>East Brunswick, NJ</td>\n      <td>2024-01-14</td>\n      <td>Long Branch</td>\n      <td>United States</td>\n      <td>Sales-Service Promoter</td>\n      <td>Mid senior</td>\n      <td>Onsite</td>\n      <td>Customer service, Product demonstration, Probl...</td>\n      <td>Job Summary\\nResponsible for assisting and con...</td>\n      <td>159258</td>\n      <td>4839</td>\n      <td>32</td>\n    </tr>\n    <tr>\n      <th>1498</th>\n      <td>https://www.linkedin.com/jobs/view/yard-associ...</td>\n      <td>2024-01-19 09:45:09.215838+00</td>\n      <td>t</td>\n      <td>t</td>\n      <td>f</td>\n      <td>Yard Associate (SkillBridge)</td>\n      <td>ARMOR Initiative</td>\n      <td>Kansas City, MO</td>\n      <td>2024-01-13</td>\n      <td>Leavenworth</td>\n      <td>United States</td>\n      <td>Orderly</td>\n      <td>Associate</td>\n      <td>Onsite</td>\n      <td>DoD SkillBridge Internship, Fulltime training,...</td>\n      <td>The ARMOR Initiative DoD SkillBridge Internshi...</td>\n      <td>774643</td>\n      <td>2277</td>\n      <td>30</td>\n    </tr>\n    <tr>\n      <th>1499</th>\n      <td>https://www.linkedin.com/jobs/view/yoga-instru...</td>\n      <td>2024-01-19 09:45:09.215838+00</td>\n      <td>t</td>\n      <td>t</td>\n      <td>f</td>\n      <td>Yoga Instructor</td>\n      <td>Active Wellness</td>\n      <td>Plantation, FL</td>\n      <td>2024-01-13</td>\n      <td>Sarasota</td>\n      <td>United States</td>\n      <td>Instructor</td>\n      <td>Mid senior</td>\n      <td>Onsite</td>\n      <td>Yoga, Pranayama, Handson direction, Safe and e...</td>\n      <td>Job Description\\nJob Title: Yoga Instructor\\nP...</td>\n      <td>700821</td>\n      <td>3452</td>\n      <td>30</td>\n    </tr>\n  </tbody>\n</table>\n<p>1500 rows × 19 columns</p>\n</div>"
     },
     "execution_count": 3,
     "metadata": {},
     "output_type": "execute_result"
    }
   ],
   "source": [
    "df = pd.read_csv(f\"{path}/data/kaggle_linkedin_jd_skills_dataset/sampled_jd_skills.csv\")\n",
    "df"
   ]
  },
  {
   "cell_type": "markdown",
   "source": [
    "## Testing prompts"
   ],
   "metadata": {
    "collapsed": false
   },
   "id": "8c3ef317b8959c9d"
  },
  {
   "cell_type": "code",
   "outputs": [],
   "source": [
    "i=1"
   ],
   "metadata": {
    "collapsed": false,
    "ExecuteTime": {
     "end_time": "2025-02-25T03:13:52.694164Z",
     "start_time": "2025-02-25T03:13:52.692460Z"
    }
   },
   "id": "416793c43b9cb514",
   "execution_count": 4
  },
  {
   "cell_type": "code",
   "outputs": [
    {
     "name": "stdout",
     "output_type": "stream",
     "text": [
      "**Qualifications:** Senior System Engineer\n",
      "**Job Role:** Job Title: Sr. System Engineer\n",
      "Company: ExLabs\n",
      "Location: Long Beach, CA\n",
      "Job Type: Full-time\n",
      "About ExLabs:\n",
      "ExLabs is a pioneering aerospace company developing next-generation technology platforms for space exploration and resource capture. We are dedicated to pushing the boundaries of technology and innovation to unlock the vast potential of space for the benefit of humanity. We specialize in the development of advanced large-scale space vehicles and technologies, leveraging the latest innovations to tackle the challenges of space debris mitigation, object capture and control, deep space exploration, and resource acquisition.\n",
      "At ExLabs our goal is to accelerate the utilization of space resources by providing unprecedented near-Earth access to natural objects. Our vehicle is being developed for object capture and trajectory alterations and redirection, providing multi-use technology capable of orbital debris mitigation, de-orbiting, and more. This next generation of vehicles will ultimately carry out deep space missions designed to capture and deliver asteroid resources, enabling access for resource extraction for industrial and scientific research.\n",
      "Role Overview:\n",
      "As a Senior Systems Engineer, you will be responsible for overseeing the end-to-end lifecycle of systems, from requirements analysis and design to implementation, testing, and maintenance. Your expertise will be critical in ensuring the reliability, scalability, and efficiency of our systems architecture.\n",
      "Key Responsibilities:\n",
      "Systems engineering technical lead for the international engineering group.\n",
      "Provides technical oversight and expertise to spacecraft systems engineering teams.\n",
      "Leads / reviews requirements analysis, requirements decomposition and assignment of requirements to appropriate functional areas of responsibility and manages traceability of requirements back to customer specifications and system level derived requirements.\n",
      "Leads / reviews design synthesis and generation of supporting design documentation which includes technical specifications, interface control documents, test plans and procedures, and test conformance to specifications through verification cross reference matrix (VCRM)\n",
      "Ensures technical performance, quality, and adherence to established policies and processes.\n",
      "Develops and presents project/program design reviews for both internal and external customer audiences.\n",
      "Leads or assists in project/program schedule and budget planning, subcontract control, risk management.\n",
      "Leads or assists in management over systems engineering team and other teams of functional design engineers.\n",
      "Participates in responses to request for information (RFI), request for proposal (RFP) and new business development pursuits, including on-site and off-site technical interchange meetings and technical capability demonstrations.\n",
      "Qualifications:\n",
      "Strong communication skills (both written and oral) and formal presentation skills are required\n",
      "Leadership skills, with the ability to guide the technical direction/vision for a given project. Must also be a strong contributor to integrated product teams internal and external to the company\n",
      "Active Secret or Top-Secret US DoD clearance preferred but not necessary\n",
      "Experience with US government export laws and regulations\n",
      "Experience and/or working knowledge in Digital Engineering, Model Based Systems Engineering\n",
      "Experience with spacecraft systems for different orbit, altitudes and inclination, including deep space missions\n",
      "Experience in risk management, project planning, and technical project management\n",
      "Experience managing projects that include system integration, system verification, and formal qualification, including supporting integration and qualification events at vendor or client locations\n",
      "Effective problem-solving skills and the ability to meet critical deadlines\n",
      "Experience in requirements management and documentation\n",
      "Experience in the use of Word, Excel, PowerPoint, MS Project, Visio, DOORs or similar tools\n",
      "Education:\n",
      "Bachelor’s or Master’s degree in Computer Science, Information Technology, or a related field.\n",
      "10 years of experience in systems engineering, with a focus on designing and maintaining complex systems.\n",
      "Proven experience in a senior or lead role.\n",
      "Strong knowledge of systems architecture, hardware, software, and networking.\n",
      "Knowledge of materials and manufacturing processes suitable for space applications.\n",
      "Knowledge of qualification and acceptance test standards (e.g. GEVS and similar).\n",
      "Communication and Collaboration:\n",
      "Excellent communication skills, with the ability to convey technical concepts to both technical and non-technical stakeholders.\n",
      "Proven ability to collaborate effectively in cross-functional teams.\n",
      "At ExLabs, we are passionate about pushing the boundaries of space exploration and technology development. If you have a deep passion for space and the desire to make a significant impact in the industry, we invite you to join our team at ExLabs. Together, we will shape the future of space exploration and unlock the limitless potential of the cosmos.\n",
      "This role will be eligible for all of the below offered by the company. We embrace healthy work-life balance, and living healthy fulfilling lives as we journey together to explore the edges of the known possible.\n",
      "Benefits\n",
      "Best-in-class healthcare, dental, and vision.\n",
      "Life insurance\n",
      "Unlimited PTO\n",
      "401K\n",
      "Paternity/maternity leave\n",
      "Free Lunch\n",
      "Sponsored exploration & learning programs\n",
      "The full-time annual salary range for this job is:\n",
      "$140,000-$190,000\n",
      "ExLabs is an Equal Opportunity Employer. All qualified applicants will receive consideration for employment without regard to sex, race, color, religion, national origin, citizenship, ancestry, age, marital status, physical or mental disability, medical condition, genetic information, pregnancy or perceived pregnancy, gender, gender identity, gender expression, sexual orientation, protected military or veteran status or any other characteristic or condition protected by Federal, state or local law.\n",
      "Due to rules imposed by the US Government, ExLabs will not accept applications from citizens of designated countries or those born in a designated country unless they are Legal Permanent Residents of the U.S or have other protected status under 8 U.S.C. 1324b(a)(3).\n",
      "Show more\n",
      "Show less\n",
      "**Experience:** Systems engineering, Technical oversight, Requirements analysis, Design synthesis, Design documentation, Technical performance, Project/program design reviews, Project/program schedule, Budget planning, Subcontract control, Risk management, Systems integration, System verification, Formal qualification, Problemsolving skills, Word, Excel, PowerPoint, MS Project, Visio, DOORs, Computer Science, Information Technology, Systems architecture, Hardware, Software, Networking, Materials, Manufacturing processes, Qualification and acceptance test standards, Communication, Collaboration\n"
     ]
    }
   ],
   "source": [
    "print(\"**Qualifications:**\", df.iloc[i][\"job_title\"])\n",
    "print(\"**Job Role:**\", df.iloc[i][\"job_summary\"])\n",
    "print(\"**Experience:**\", df.iloc[i][\"job_skills\"])\n"
   ],
   "metadata": {
    "collapsed": false,
    "ExecuteTime": {
     "end_time": "2025-02-25T03:13:52.696883Z",
     "start_time": "2025-02-25T03:13:52.694694Z"
    }
   },
   "id": "87e036dae7706cf9",
   "execution_count": 5
  },
  {
   "cell_type": "markdown",
   "source": [
    "### Generating Resume"
   ],
   "metadata": {
    "collapsed": false
   },
   "id": "64762fdc3f74ed59"
  },
  {
   "cell_type": "code",
   "outputs": [],
   "source": [
    "category_requirements = {\n",
    "    \"complete_mismatch\": \"\"\"\n",
    "    Resume is highly professional but entirely unsuitable for the job.\n",
    "\n",
    "    - **Career Path:** Unrelated industry (e.g., healthcare for software engineering).  \n",
    "    - **Skills:** No overlap with required skills; expertise in an unrelated domain.  \n",
    "    - **Experience:** Strong accomplishments but in irrelevant fields.  \n",
    "    - **Education & Certifications:** Unrelated qualifications with no relevance to the job.  \n",
    "    \"\"\",\n",
    "    \n",
    "    \"underwhelming\": \"\"\"\n",
    "    Resume has some relevance but falls short of requirements.\n",
    "\n",
    "    - **Experience:** 30-50% less than required; entry-level instead of mid-level.  \n",
    "    - **Skills:** Lacks 40-60% of key skills; basic proficiency instead of advanced.  \n",
    "    - **Projects/Work:** Limited scope, lacks complex problem-solving.  \n",
    "    - **Education:** Partially relevant degree; missing specialized training.  \n",
    "    \"\"\",\n",
    "    \n",
    "    \"good\": \"\"\"\n",
    "    Resume is a strong match for the job.\n",
    "\n",
    "    - **Experience:** Meets role expectations; progressive career growth.  \n",
    "    - **Skills:** 95-100% alignment; demonstrated real-world application.  \n",
    "    - **Projects/Work:** Clear impact using Action-Problem-Result (APR) format: 'Performed [advanced strategic action] to resolve [complex systemic problem] resulting in [exceptional measurable outcomes with broad impact]'. Example: Engineered an end-to-end claim complexity scoring ML pipeline, negating ~3 minutes of manual classification per claim.\n",
    "    - **Education:** Exact match with required qualifications and certifications.  \n",
    "    \"\"\",\n",
    "    \n",
    "    \"overqualified\": \"\"\"\n",
    "    Resume significantly exceeds job requirements.\n",
    "\n",
    "    - **Experience:** 3-5 years beyond needed; leadership roles for non-leadership positions.  \n",
    "    - **Skills:** 100% match + additional high-level skills.  \n",
    "    - **Projects/Work:** APR format showing strategic, high-impact contributions. APR format: 'Performed [advanced strategic action] to resolve [complex systemic problem] resulting in [exceptional measurable outcomes with broad impact]'. Example: Revised the existing claim assignment process to automatically assign claims classified by scoring engine to agents by prioritizing highly complex claims, achieving 100% automation.\n",
    "    - **Education:** Advanced degrees/certifications beyond role needs.  \n",
    "    - **Career Progression:** Rapid growth, senior-level achievements.  \n",
    "    \"\"\"\n",
    "}"
   ],
   "metadata": {
    "collapsed": false,
    "ExecuteTime": {
     "end_time": "2025-02-25T03:13:52.699769Z",
     "start_time": "2025-02-25T03:13:52.697705Z"
    }
   },
   "id": "c032543d4671866b",
   "execution_count": 6
  },
  {
   "cell_type": "code",
   "outputs": [],
   "source": [
    "# Resume Generation Prompt for LLaMA Models\n",
    "\n",
    "resume_template = \"\"\"\n",
    "You are an expert resume writer with specialized knowledge in talent acquisition and hiring practices. Your task is to generate a tailored, content-rich resume based on the provided inputs while strictly adhering to the specified fit category constraints.\n",
    "\n",
    "## **Job Details**:\n",
    "- **Role:** {job_role}\n",
    "- **Job Description:** {jd}\n",
    "- **Required Skills:** {skills}\n",
    "\n",
    "## **Fit Category:** {fit_category}\n",
    "## **Category Requirements:**  \n",
    "{category_requirements}\n",
    "\n",
    "## **Instructions**:\n",
    "1. **Resume Objective**  \n",
    "   - Generate a professional resume that precisely aligns with the specified fit category ({fit_category}).\n",
    "   - Ensure the resume maintains industry standards and meets professional expectations.\n",
    "   - Structure the resume to be **500-700 words** with clearly defined sections.\n",
    "\n",
    "2. **Mandatory Sections**  \n",
    "   - **Education**: University, degree title, major, graduation year, GPA.\n",
    "   - **Skills**: Comma separated list of skills that include technical skills, soft skills, technologies, and other skills. List at least 15 and at most 40.\n",
    "   - **Work Experience**: Consists of company names, roles, employment type, duration, and detailed bullet points. Constitutes the work experience and work done for the company. Choose a company name, employment type and duration without leaving it blank.\n",
    "   \n",
    "\n",
    "3. **Optional Sections (Context-Based)**  \n",
    "   - **Projects**: Required if work experience is limited, with clear descriptions and technology stack. This constitutes of the personal and academic projects.\n",
    "   - **Professional Summary**: Tailored to the fit category.\n",
    "   - **Certifications/Accomplishments**: Adjusted based on qualification level.\n",
    "   - **Additional Relevant Sections**: If beneficial, add elements such as leadership, research, or publications.\n",
    "\n",
    "4. **Formatting Guidelines**  \n",
    "   - Use **clear section headings**.\n",
    "   - Precede each bullet point with **\"-\"**.\n",
    "   - Mark key entities (**institutions, companies, project names**) with **\"*\"**.\n",
    "   - Keep bullet points **≤180 characters**.\n",
    "   - Include:\n",
    "     - **4-6 bullet points** for work experience.\n",
    "     - **2-3 bullet points** per project.\n",
    "\n",
    "5. **Category-Specific Constraints**  \n",
    "   - **Complete Mismatch (0-30% relevance)**:\n",
    "     - Generate a resume from an **entirely different career path**.\n",
    "     - Ensure **minimal skill and qualification overlap** with job requirements.\n",
    "     - Maintain professional quality but unrelated experience.\n",
    "   - **Underwhelming (50-70% relevance)**:\n",
    "     - Include **some relevant experience but with clear gaps**.\n",
    "     - Show a **foundational but incomplete** skill set.\n",
    "     - Present **partially relevant qualifications** with notable omissions.\n",
    "   - **Good Fit (95-100% relevance)**:\n",
    "     - Match **all required skills and experience** at an appropriate depth.\n",
    "     - Follow **Action-Problem-Result (APR) format** in work and project sections.\n",
    "     - Demonstrate **clear career progression** and **precise qualification match**.\n",
    "   - **Overqualified (exceeds requirements)**:\n",
    "     - Include **experience exceeding job requirements by 3-5 years**.\n",
    "     - Highlight **leadership, strategic impact, and advanced certifications**.\n",
    "     - Showcase **complex problem-solving** and **business impact** beyond role expectations.\n",
    "\n",
    "6. **Output Requirements**  \n",
    "   - Ensure **strict adherence** to the fit category.\n",
    "   - Generate **only** the resume; **do not include any explanatory notes or meta-text**.\n",
    "   - Maintain **authenticity, clarity, and professionalism** throughout.\n",
    "\"\"\""
   ],
   "metadata": {
    "collapsed": false,
    "ExecuteTime": {
     "end_time": "2025-02-25T03:13:52.702654Z",
     "start_time": "2025-02-25T03:13:52.700323Z"
    }
   },
   "id": "a0a0fe42e69a8fc5",
   "execution_count": 7
  },
  {
   "cell_type": "code",
   "outputs": [],
   "source": [
    "#Llama 3.2 using Ollama on local system\n",
    "model = OllamaLLM(model=\"llama3.2\", temperature = 1)\n",
    "\n",
    "prompt = ChatPromptTemplate.from_template(resume_template)\n",
    "chain = prompt | model\n",
    "data = {\n",
    "    \"job_role\": df.iloc[i][\"job_title\"],\n",
    "    \"jd\": df.iloc[i][\"job_summary\"],\n",
    "    \"skills\":df.iloc[i][\"job_skills\"],\n",
    "    \"fit_category\": \"Good\",\n",
    "    \"category_requirements\": category_requirements[\"good\"]\n",
    "}\n",
    "resume1 = chain.invoke(data)"
   ],
   "metadata": {
    "collapsed": false,
    "ExecuteTime": {
     "end_time": "2025-02-25T03:14:46.130066Z",
     "start_time": "2025-02-25T03:13:52.703199Z"
    }
   },
   "id": "94cd72ec10287ca8",
   "execution_count": 8
  },
  {
   "cell_type": "code",
   "outputs": [
    {
     "name": "stdout",
     "output_type": "stream",
     "text": [
      "Here is a sample resume for a candidate with a good match for the job.\n",
      "\n",
      "**Systems Engineer**\n",
      "**Michael E. Anderson**\n",
      "\n",
      "**Contact Information:**\n",
      "- Phone: (555) 123-4567\n",
      "- Email: [michaelanderson@email.com](mailto:michaelanderson@email.com)\n",
      "- LinkedIn: linkedin.com/in/michael-anderson-5b6a9a12\n",
      "\n",
      "**Summary:**\n",
      "Highly motivated and experienced systems engineer with over 8 years of experience in designing, developing, testing, and maintaining complex software systems. Proven track record of delivering high-quality solutions on time and within budget. Skilled in a variety of programming languages, including C++, Java, and Python.\n",
      "\n",
      "**Education:**\n",
      "\n",
      "- Bachelor's Degree in Computer Science, Stanford University (2014)\n",
      "- GPA: 3.8/4.0\n",
      "\n",
      "**Skills:**\n",
      "C++, Java, Python, Systems Engineering, Requirements Analysis, Design Synthesis, Technical Performance, Project Management, Subcontract Control, Risk Management, Cloud Computing, Containerization.\n",
      "\n",
      "**Work Experience:**\n",
      "\n",
      "- **Systems Engineer**, ABC Corporation (2020 - Present)\n",
      "    - Designed and developed a cloud-based machine learning pipeline to automate claim complexity scoring for insurance claims.\n",
      "    - Collaborated with cross-functional teams to deliver high-quality solutions on time and within budget.\n",
      "    - Utilized Agile methodologies to facilitate iterative development, continuous testing, and continuous delivery of software products.\n",
      "\n",
      "- **Systems Engineer**, DEF Inc. (2018 - 2020)\n",
      "    - Managed the design, development, testing, and deployment of a large-scale IoT project for a major retail company.\n",
      "    - Worked closely with stakeholders to understand system requirements and develop technical solutions that met their needs.\n",
      "    - Implemented automated testing scripts to ensure high-quality software delivery.\n",
      "\n",
      "- **Junior Systems Engineer**, GHI Solutions (2016 - 2018)\n",
      "    - Assisted in the design, development, testing, and deployment of a cloud-based application for a startup company.\n",
      "    - Worked on a team to deliver a complex software project within a tight timeline and budget.\n",
      "    - Participated in code reviews and ensured adherence to coding standards.\n",
      "\n",
      "**Projects:**\n",
      "\n",
      "- **AI-Powered Claims Complexity Scoring Pipeline**\n",
      "  - Developed a machine learning pipeline using TensorFlow and Python to automate claim complexity scoring for insurance claims. \n",
      "  - Utilized natural language processing techniques to identify complex claims patterns.\n",
      "  - Implemented automated testing scripts to ensure high-quality software delivery.\n",
      "- **Cloud-Based IoT Project for Retail Company**\n",
      "  - Designed and developed a cloud-based IoT project for a major retail company using AWS and Python.\n",
      "  - Worked closely with stakeholders to understand system requirements and develop technical solutions that met their needs.\n",
      "  - Implemented automated testing scripts to ensure high-quality software delivery.\n",
      "\n",
      "**Certifications/Accomplishments:**\n",
      "\n",
      "- **Certified Scrum Master (CSM)**, Scrum Alliance\n",
      "- **AWS Certified Developer - Associate**, Amazon Web Services\n",
      "\n",
      "**Professional Summary:**\n",
      "Highly motivated and experienced systems engineer with a strong background in design, development, testing, and maintenance of complex software systems. Skilled in a variety of programming languages, including C++, Java, and Python. Proven track record of delivering high-quality solutions on time and within budget.\n",
      "\n",
      "Note: The candidate has around 8 years of experience as a systems engineer with experience in requirements analysis, design synthesis, technical performance, project management, subcontract control, risk management, cloud computing, containerization, and machine learning pipeline development.\n"
     ]
    }
   ],
   "source": [
    "print(resume1)"
   ],
   "metadata": {
    "collapsed": false,
    "ExecuteTime": {
     "end_time": "2025-02-25T03:14:46.143648Z",
     "start_time": "2025-02-25T03:14:46.132161Z"
    }
   },
   "id": "f0078213be5a75f6",
   "execution_count": 9
  },
  {
   "cell_type": "code",
   "outputs": [],
   "source": [
    "#Llama 3.3 with NVIDIA NIM\n",
    "client = ChatNVIDIA(\n",
    "  model=\"meta/llama-3.3-70b-instruct\",\n",
    "  api_key=\"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\", \n",
    "  temperature=1.0,\n",
    "  top_p=0.7\n",
    ")\n",
    "\n",
    "\n",
    "prompt = ChatPromptTemplate.from_template(resume_template)\n",
    "chain = prompt | model\n",
    "data = {\n",
    "    \"job_role\": df.iloc[i][\"job_title\"],\n",
    "    \"jd\": df.iloc[i][\"job_summary\"],\n",
    "    \"skills\":df.iloc[i][\"job_skills\"],\n",
    "    \"fit_category\": \"Good\",\n",
    "    \"category_requirements\": category_requirements[\"good\"]\n",
    "}\n",
    "resume2 = chain.invoke(data)"
   ],
   "metadata": {
    "collapsed": false,
    "ExecuteTime": {
     "end_time": "2025-02-25T03:15:31.849125Z",
     "start_time": "2025-02-25T03:14:46.146127Z"
    }
   },
   "id": "2ca1c74d2e76e89d",
   "execution_count": 10
  },
  {
   "cell_type": "code",
   "outputs": [
    {
     "name": "stdout",
     "output_type": "stream",
     "text": [
      "**Summary**\n",
      "\n",
      "A seasoned systems engineer with a strong background in technical oversight, requirements analysis, and design synthesis. Proven track record of delivering high-quality solutions and managing complex projects from conception to completion.\n",
      "\n",
      "**Education**\n",
      "\n",
      "* Bachelor's Degree in Computer Science, University of California, Berkeley, CA (2015)\n",
      "\t+ GPA: 3.8/4.0\n",
      "\t+ Coursework: Data Structures, Algorithms, Computer Systems, Software Engineering\n",
      "\n",
      "**Skills**\n",
      "\n",
      "Systems engineering, technical oversight, requirements analysis, design synthesis, software development, project management, problem-solving, communication, teamwork, leadership.\n",
      "\n",
      "**Technical Skills**\n",
      "\n",
      "* Programming languages: Java, Python, C++\n",
      "* Development frameworks: Spring, Django\n",
      "* Databases: MySQL, PostgreSQL\n",
      "* Operating Systems: Windows, Linux, macOS\n",
      "* Agile methodologies: Scrum, Kanban\n",
      "\n",
      "**Professional Summary**\n",
      "\n",
      "Highly motivated and experienced systems engineer with a strong background in technical oversight, requirements analysis, and design synthesis. Proven track record of delivering high-quality solutions and managing complex projects from conception to completion.\n",
      "\n",
      "**Work Experience**\n",
      "\n",
      "### Systems Engineer, ABC Corporation (2018-Present)\n",
      "\n",
      "* Managed the development and deployment of multiple large-scale software applications using agile methodologies\n",
      "* Conducted technical assessments of existing systems and provided recommendations for improvement\n",
      "* Collaborated with cross-functional teams to develop and implement new features and functionalities\n",
      "* Mentored junior engineers and provided guidance on best practices and industry standards\n",
      "\n",
      "### Software Engineer, DEF Startups (2015-2018)\n",
      "\n",
      "* Contributed to the development of multiple software applications using Java and Python\n",
      "* Participated in code reviews and ensured high-quality code standards were met\n",
      "* Collaborated with QA teams to identify and resolve bugs\n",
      "* Developed and maintained technical documentation for new features and functionality\n",
      "\n",
      "### Consultant, GHI Consulting (Summer 2014)\n",
      "\n",
      "* Assisted clients in identifying and addressing technical issues with their existing systems\n",
      "* Conducted feasibility studies and provided recommendations for system upgrades or replacements\n",
      "* Collaborated with clients to develop and implement new technical solutions\n",
      "\n",
      "**Projects**\n",
      "\n",
      "### Advanced ML Pipeline for Claims Complexity Scoring\n",
      "\n",
      "* Performed design, development, and deployment of an end-to-end machine learning pipeline using TensorFlow and Python\n",
      "* Implemented data preprocessing, feature engineering, model training, and model evaluation phases\n",
      "* Achieved a 25% reduction in manual classification time per claim\n",
      "\n",
      "### Cloud-Based E-commerce Platform for Small Businesses\n",
      "\n",
      "* Designed and developed a cloud-based e-commerce platform using Node.js and Express\n",
      "* Implemented scalable architecture to handle high traffic and large user bases\n",
      "* Conducted performance testing and optimization to ensure smooth user experience\n",
      "\n",
      "**Certifications/Accomplishments**\n",
      "\n",
      "* Certified Scrum Master (CSM)\n",
      "* Certified Agile Practitioner (CAPM)\n",
      "\n",
      "### Research Publications\n",
      "\n",
      "* \"Machine Learning for Predictive Maintenance in Industrial Systems\"\n",
      "\t+ Journal of Intelligent Information Systems, Vol. 50, No. 2, pp. 287-302\n",
      "* \"Cloud Computing for E-commerce Platforms: A Review\"\n",
      "\t+ International Journal of Cloud Computing, 2019, Vol. 10(1), pp. 1-15\n"
     ]
    }
   ],
   "source": [
    "print(resume2)"
   ],
   "metadata": {
    "collapsed": false,
    "ExecuteTime": {
     "end_time": "2025-02-25T03:15:31.855462Z",
     "start_time": "2025-02-25T03:15:31.851626Z"
    }
   },
   "id": "df0c6d73d982241c",
   "execution_count": 11
  },
  {
   "cell_type": "code",
   "outputs": [],
   "source": [
    "#NVIDIA nemotron model listed as a model for synthetic data generation usecase\n",
    "model = ChatNVIDIA(\n",
    "  model=\"nvidia/nemotron-4-340b-instruct\",\n",
    "  api_key=\"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\", \n",
    "  temperature=1.0,\n",
    "  top_p=0.7\n",
    ")\n",
    "\n",
    "prompt = ChatPromptTemplate.from_template(resume_template)\n",
    "chain = prompt | model\n",
    "data = {\n",
    "    \"job_role\": df.iloc[i][\"job_title\"],\n",
    "    \"jd\": df.iloc[i][\"job_summary\"],\n",
    "    \"skills\":df.iloc[i][\"job_skills\"],\n",
    "    \"fit_category\": \"Good\",\n",
    "    \"category_requirements\": category_requirements[\"good\"]\n",
    "}\n",
    "resume3 = chain.invoke(data).content"
   ],
   "metadata": {
    "collapsed": false,
    "ExecuteTime": {
     "end_time": "2025-02-25T03:16:24.687427Z",
     "start_time": "2025-02-25T03:15:31.856275Z"
    }
   },
   "id": "6534f27892a34e6d",
   "execution_count": 12
  },
  {
   "cell_type": "code",
   "outputs": [
    {
     "name": "stdout",
     "output_type": "stream",
     "text": [
      "*John Doe*\n",
      "\n",
      "**Professional Summary**\n",
      "\n",
      "Highly skilled Senior Systems Engineer with 12+ years of experience in designing, implementing, and maintaining complex systems. Proven track record in leading international engineering groups, providing technical oversight, and ensuring system reliability, scalability, and efficiency. Expertise in spacecraft systems engineering, requirements analysis, design synthesis, and project management.\n",
      "\n",
      "**Skills**\n",
      "\n",
      "Systems engineering, Technical oversight, Requirements analysis, Design synthesis, Design documentation, Technical performance, Project/program design reviews, Project/program schedule, Budget planning, Subcontract control, Risk management, Systems integration, System verification, Formal qualification, Problem-solving skills, Word, Excel, PowerPoint, MS Project, Visio, DOORs, Computer Science, Information Technology, Systems architecture, Hardware, Software, Networking, Materials, Manufacturing processes, Qualification and acceptance test standards, Communication, Collaboration\n",
      "\n",
      "**Work Experience**\n",
      "\n",
      "*ExLabs, Long Beach, CA*\n",
      "\n",
      "*Senior Systems Engineer, Full-time, 2018-Present*\n",
      "\n",
      "- Led international engineering group as technical lead, overseeing spacecraft systems engineering teams and ensuring adherence to established policies and processes.\n",
      "- Managed requirements analysis, decomposition, and assignment for complex space vehicles and technologies, resulting in successful object capture and trajectory alterations.\n",
      "- Synthesized designs and generated supporting documentation, including technical specifications, interface control documents, test plans, and procedures for deep space missions.\n",
      "- Ensured technical performance, quality, and compliance with US government export laws and regulations, leading to successful project/program design reviews for both internal and external customer audiences.\n",
      "\n",
      "*Aerospace Corp, El Segundo, CA*\n",
      "\n",
      "*Systems Engineer, Full-time, 2012-2018*\n",
      "\n",
      "- Collaborated with cross-functional teams to design and implement advanced large-scale space vehicles and technologies for space exploration and resource capture.\n",
      "- Led systems integration, verification, and formal qualification efforts, supporting integration and qualification events at vendor or client locations.\n",
      "- Managed project planning, risk management, and technical project management, resulting in successful project completion and customer satisfaction.\n",
      "\n",
      "**Education**\n",
      "\n",
      "*University of Southern California, Los Angeles, CA*\n",
      "\n",
      "*Master of Science in Computer Science, 2010*\n",
      "\n",
      "*GPA: 3.8/4.0*\n",
      "\n",
      "*University of California, Los Angeles, CA*\n",
      "\n",
      "*Bachelor of Science in Computer Science, 2008*\n",
      "\n",
      "*GPA: 3.6/4.0*\n",
      "\n",
      "**Certifications/Accomplishments**\n",
      "\n",
      "- Certified Systems Engineering Professional (CSEP)\n",
      "- Project Management Professional (PMP)\n",
      "- Secret US DoD clearance\n",
      "\n",
      "**Projects**\n",
      "\n",
      "*Spacecraft Systems Engineering for Deep Space Missions*\n",
      "\n",
      "- Led systems engineering efforts for a deep space mission, resulting in successful object capture and delivery of asteroid resources for industrial and scientific research.\n",
      "- Utilized Model Based Systems Engineering and Digital Engineering to optimize system design and performance.\n",
      "\n",
      "*Orbital Debris Mitigation and De-orbiting System*\n",
      "\n",
      "- Designed and implemented a multi-use technology capable of orbital debris mitigation, de-orbiting, and trajectory alterations, reducing space debris by 25%.\n",
      "- Collaborated with international partners to ensure compliance with international space debris mitigation guidelines.\n"
     ]
    }
   ],
   "source": [
    "print(resume3)"
   ],
   "metadata": {
    "collapsed": false,
    "ExecuteTime": {
     "end_time": "2025-02-25T03:16:24.693309Z",
     "start_time": "2025-02-25T03:16:24.689398Z"
    }
   },
   "id": "3bc79b84a645c30c",
   "execution_count": 13
  },
  {
   "cell_type": "markdown",
   "source": [
    "We can clearly see that the NVIDIA's nemotron model generated the best content. Lets check it for other category fit."
   ],
   "metadata": {
    "collapsed": false
   },
   "id": "54110c69d1c4326b"
  },
  {
   "cell_type": "code",
   "outputs": [
    {
     "name": "stdout",
     "output_type": "stream",
     "text": [
      "**Professional Summary**\n",
      "\n",
      "Highly skilled and dedicated healthcare professional with a strong background in patient care, medical research, and team management. Proven track record of success in driving clinical operations and improving patient outcomes in fast-paced hospital environments.\n",
      "\n",
      "**Education**\n",
      "\n",
      "*University of California, Los Angeles (UCLA)*\n",
      "\n",
      "- Bachelor of Science in Nursing, 2005\n",
      "- GPA: 3.8\n",
      "\n",
      "**Skills**\n",
      "\n",
      "- Patient care, medical research, team management, clinical operations, healthcare administration, patient education, medical terminology, HIPAA compliance, electronic health records, medication administration, patient advocacy, healthcare policy, medical ethics, nursing education, patient safety, healthcare quality improvement\n",
      "\n",
      "**Work Experience**\n",
      "\n",
      "*Nurse Manager, Cedars-Sinai Medical Center (Los Angeles, CA)*\n",
      "\n",
      "- Full-time, 2010-2020\n",
      "\t+ Oversaw daily operations of a 30-bed medical-surgical unit, managing a team of 25 nurses and support staff.\n",
      "\t+ Implemented evidence-based practices to improve patient care and safety, reducing hospital-acquired infections by 20%.\n",
      "\t+ Collaborated with interdisciplinary teams to develop and implement patient care plans, ensuring optimal patient outcomes.\n",
      "\t+ Managed unit budget, reducing expenses by 10% through efficient resource allocation and process improvements.\n",
      "\n",
      "*Staff Nurse, UCLA Medical Center (Los Angeles, CA)*\n",
      "\n",
      "- Full-time, 2005-2010\n",
      "\t+ Provided direct patient care in a medical-surgical unit, managing a caseload of up to 10 patients per shift.\n",
      "\t+ Collaborated with healthcare teams to develop and implement patient care plans, ensuring high-quality care and patient satisfaction.\n",
      "\t+ Participated in quality improvement initiatives, contributing to a 15% reduction in patient falls and a 10% improvement in patient satisfaction scores.\n",
      "\n",
      "**Certifications/Accomplishments**\n",
      "\n",
      "- Registered Nurse (RN), California Board of Registered Nursing\n",
      "- Certified Nurse Manager and Leader (CNML), American Organization for Nursing Leadership\n",
      "- Recipient of the Daisy Award for Extraordinary Nurses, 2015\n",
      "\n",
      "**Leadership**\n",
      "\n",
      "- Served as a preceptor for new graduate nurses, providing guidance and support during their transition to professional practice.\n",
      "- Chaired the hospital's Nursing Practice Council, driving evidence-based practice and quality improvement initiatives.\n",
      "- Presented at regional and national nursing conferences on topics related to patient safety, quality improvement, and leadership.\n"
     ]
    }
   ],
   "source": [
    "data = {\n",
    "    \"job_role\": df.iloc[i][\"job_title\"],\n",
    "    \"jd\": df.iloc[i][\"job_summary\"],\n",
    "    \"skills\":df.iloc[i][\"job_skills\"],\n",
    "    \"fit_category\": \"Complete Mismatch\",\n",
    "    \"category_requirements\": category_requirements[\"complete_mismatch\"]\n",
    "}\n",
    "r1 = chain.invoke(data).content\n",
    "print(r1)"
   ],
   "metadata": {
    "collapsed": false,
    "ExecuteTime": {
     "end_time": "2025-02-25T03:17:05.542745Z",
     "start_time": "2025-02-25T03:16:24.695560Z"
    }
   },
   "id": "1ef35ebdff5d6077",
   "execution_count": 14
  },
  {
   "cell_type": "code",
   "outputs": [
    {
     "name": "stdout",
     "output_type": "stream",
     "text": [
      "**Professional Summary**\n",
      "\n",
      "Recent graduate with a Bachelor's degree in Information Technology, seeking to leverage academic knowledge and limited experience in a junior-level role. Possesses basic proficiency in systems engineering and technical oversight.\n",
      "\n",
      "**Education**\n",
      "\n",
      "*University of California, Los Angeles*\n",
      "\n",
      "- Bachelor of Science in Information Technology, 2022\n",
      "- GPA: 3.2\n",
      "\n",
      "**Skills**\n",
      "\n",
      "- Systems engineering, Technical oversight, Requirements analysis, Design documentation, Project/program design reviews, Project/program schedule, Budget planning, Subcontract control, Risk management, Systems integration, System verification, Formal qualification, Problem-solving skills, Word, Excel, PowerPoint, MS Project, Visio, DOORs, Computer Science, Information Technology, Systems architecture, Hardware, Software, Networking, Materials, Manufacturing processes, Qualification and acceptance test standards, Communication, Collaboration\n",
      "\n",
      "**Work Experience**\n",
      "\n",
      "*IT Support Specialist, Local Tech Company, Part-time (2019-2022)*\n",
      "\n",
      "- Provided technical support to end-users, troubleshooting hardware and software issues.\n",
      "- Assisted in the deployment and maintenance of network infrastructure.\n",
      "- Collaborated with senior engineers on small-scale projects, gaining exposure to systems engineering principles.\n",
      "\n",
      "**Projects**\n",
      "\n",
      "*Home Automation System (Academic Project)*\n",
      "\n",
      "- Designed and implemented a home automation system using Raspberry Pi and Python.\n",
      "- Integrated various sensors and actuators to control lighting, temperature, and security systems.\n",
      "\n",
      "*Network Monitoring Tool (Personal Project)*\n",
      "\n",
      "- Developed a network monitoring tool using Python and SNMP to track network performance and identify potential issues.\n",
      "- Implemented a user-friendly interface for easy data visualization and analysis.\n",
      "\n",
      "**Certifications**\n",
      "\n",
      "- CompTIA A+ Certification (2021)\n",
      "- Cisco Certified Network Associate (CCNA) (2022)\n",
      "\n",
      "**Additional Relevant Sections**\n",
      "\n",
      "*Leadership*\n",
      "\n",
      "- Served as a team leader in a university-level IT competition, guiding the team to a top-three finish.\n",
      "\n",
      "*Research*\n",
      "\n",
      "- Conducted research on the impact of IoT devices on network security, presenting findings at a university symposium.\n"
     ]
    }
   ],
   "source": [
    "data = {\n",
    "    \"job_role\": df.iloc[i][\"job_title\"],\n",
    "    \"jd\": df.iloc[i][\"job_summary\"],\n",
    "    \"skills\":df.iloc[i][\"job_skills\"],\n",
    "    \"fit_category\": \"Underwhelming\",\n",
    "    \"category_requirements\": category_requirements[\"underwhelming\"]\n",
    "}\n",
    "r2 = chain.invoke(data).content\n",
    "print(r2)"
   ],
   "metadata": {
    "collapsed": false,
    "ExecuteTime": {
     "end_time": "2025-02-25T03:17:40.359807Z",
     "start_time": "2025-02-25T03:17:05.544910Z"
    }
   },
   "id": "877f75b277355e57",
   "execution_count": 15
  },
  {
   "cell_type": "code",
   "outputs": [
    {
     "name": "stdout",
     "output_type": "stream",
     "text": [
      "**Professional Summary**\n",
      "\n",
      "Recent graduate with a Bachelor's degree in Information Technology, seeking to leverage academic knowledge and limited experience in a junior-level role. Possesses basic proficiency in systems engineering and technical oversight.\n",
      "\n",
      "**Education**\n",
      "\n",
      "*University of California, Los Angeles*\n",
      "\n",
      "- Bachelor of Science in Information Technology, 2022\n",
      "- GPA: 3.2\n",
      "\n",
      "**Skills**\n",
      "\n",
      "- Systems engineering, Technical oversight, Requirements analysis, Design documentation, Project/program design reviews, Project/program schedule, Budget planning, Subcontract control, Risk management, Systems integration, System verification, Formal qualification, Problem-solving skills, Word, Excel, PowerPoint, MS Project, Visio, DOORs, Computer Science, Information Technology, Systems architecture, Hardware, Software, Networking, Materials, Manufacturing processes, Qualification and acceptance test standards, Communication, Collaboration\n",
      "\n",
      "**Work Experience**\n",
      "\n",
      "*IT Support Specialist, Local Tech Company, Part-time (2019-2022)*\n",
      "\n",
      "- Provided technical support to end-users, troubleshooting hardware and software issues.\n",
      "- Assisted in the deployment and maintenance of network infrastructure.\n",
      "- Collaborated with senior engineers on small-scale projects, gaining exposure to systems engineering principles.\n",
      "\n",
      "**Projects**\n",
      "\n",
      "*Home Automation System (Academic Project)*\n",
      "\n",
      "- Designed and implemented a home automation system using Raspberry Pi and Python.\n",
      "- Integrated various sensors and actuators to control lighting, temperature, and security systems.\n",
      "\n",
      "*Network Monitoring Tool (Personal Project)*\n",
      "\n",
      "- Developed a network monitoring tool using Python and SNMP to track network performance and identify potential issues.\n",
      "- Implemented a user-friendly interface for easy data visualization and analysis.\n",
      "\n",
      "**Certifications**\n",
      "\n",
      "- CompTIA A+ Certification (2021)\n",
      "- Cisco Certified Network Associate (CCNA) (2022)\n",
      "\n",
      "**Additional Relevant Sections**\n",
      "\n",
      "*Leadership*\n",
      "\n",
      "- Served as a team leader in a university-level IT competition, guiding the team to a top-three finish.\n",
      "\n",
      "*Research*\n",
      "\n",
      "- Conducted research on the impact of IoT devices on network security, presenting findings at a university symposium.\n"
     ]
    }
   ],
   "source": [
    "data = {\n",
    "    \"job_role\": df.iloc[i][\"job_title\"],\n",
    "    \"jd\": df.iloc[i][\"job_summary\"],\n",
    "    \"skills\":df.iloc[i][\"job_skills\"],\n",
    "    \"fit_category\": \"Underwhelming\",\n",
    "    \"category_requirements\": category_requirements[\"underwhelming\"]\n",
    "}\n",
    "r2 = chain.invoke(data).content\n",
    "print(r2)"
   ],
   "metadata": {
    "collapsed": false,
    "ExecuteTime": {
     "end_time": "2025-02-25T03:18:15.077351Z",
     "start_time": "2025-02-25T03:17:40.361435Z"
    }
   },
   "id": "b315bbcc15557b4b",
   "execution_count": 16
  },
  {
   "cell_type": "code",
   "outputs": [
    {
     "name": "stdout",
     "output_type": "stream",
     "text": [
      "**Professional Summary**\n",
      "\n",
      "Highly accomplished and experienced Senior Systems Engineer with a proven track record of leading complex projects and driving strategic impact in the aerospace industry. Possesses a unique blend of technical expertise, leadership skills, and business acumen, with a strong focus on innovation and pushing the boundaries of space exploration.\n",
      "\n",
      "**Education**\n",
      "\n",
      "*University of California, Los Angeles (UCLA)*\n",
      "\n",
      "- Master of Science in Aerospace Engineering, 2005\n",
      "- Bachelor of Science in Aerospace Engineering, 2003\n",
      "- GPA: 3.9/4.0\n",
      "\n",
      "**Skills**\n",
      "\n",
      "- Systems engineering, Technical oversight, Requirements analysis, Design synthesis, Design documentation, Technical performance, Project/program design reviews, Project/program schedule, Budget planning, Subcontract control, Risk management, Systems integration, System verification, Formal qualification, Problem-solving skills, Word, Excel, PowerPoint, MS Project, Visio, DOORs, Computer Science, Information Technology, Systems architecture, Hardware, Software, Networking, Materials, Manufacturing processes, Qualification and acceptance test standards, Communication, Collaboration, Leadership, Strategic planning, Business development, Digital Engineering, Model Based Systems Engineering, Spacecraft systems, Deep space missions, Risk management, Project planning, Technical project management, US government export laws and regulations\n",
      "\n",
      "**Work Experience**\n",
      "\n",
      "*ExLabs, Long Beach, CA*\n",
      "\n",
      "- *Senior Systems Engineer, 2015-Present (Full-time)*\n",
      "  - Led the international engineering group as the technical lead, providing oversight and expertise to spacecraft systems engineering teams.\n",
      "  - Managed the end-to-end lifecycle of systems, from requirements analysis to implementation, testing, and maintenance, ensuring reliability, scalability, and efficiency.\n",
      "  - Drove the development and presentation of project/program design reviews for both internal and external customer audiences, resulting in successful project execution and client satisfaction.\n",
      "\n",
      "*NASA Jet Propulsion Laboratory, Pasadena, CA*\n",
      "\n",
      "- *Systems Engineer, 2005-2015 (Full-time)*\n",
      "  - Led the design and implementation of advanced large-scale space vehicles and technologies, focusing on space debris mitigation, object capture and control, deep space exploration, and resource acquisition.\n",
      "  - Managed the integration, system verification, and formal qualification of projects, including supporting integration and qualification events at vendor or client locations.\n",
      "  - Developed and executed risk management strategies, project planning, and technical project management, ensuring on-time and on-budget project delivery.\n",
      "\n",
      "**Certifications/Accomplishments**\n",
      "\n",
      "- Certified Systems Engineering Professional (CSEP)\n",
      "- Project Management Professional (PMP)\n",
      "- Top-Secret US DoD clearance\n",
      "\n",
      "**Leadership**\n",
      "\n",
      "- Mentored and managed teams of functional design engineers, fostering a culture of innovation, collaboration, and continuous learning.\n",
      "- Participated in new business development pursuits, including on-site and off-site technical interchange meetings and technical capability demonstrations, resulting in successful contract awards.\n",
      "\n",
      "**Publications**\n",
      "\n",
      "- Co-authored multiple papers on advanced space systems and technologies in leading aerospace journals and conferences.\n"
     ]
    }
   ],
   "source": [
    "\n",
    "data = {\n",
    "    \"job_role\": df.iloc[i][\"job_title\"],\n",
    "    \"jd\": df.iloc[i][\"job_summary\"],\n",
    "    \"skills\":df.iloc[i][\"job_skills\"],\n",
    "    \"fit_category\": \"Over qualified\",\n",
    "    \"category_requirements\": category_requirements[\"overqualified\"]\n",
    "}\n",
    "r3 = chain.invoke(data).content\n",
    "print(r3)"
   ],
   "metadata": {
    "collapsed": false,
    "ExecuteTime": {
     "end_time": "2025-02-25T03:19:03.702617Z",
     "start_time": "2025-02-25T03:18:15.079956Z"
    }
   },
   "id": "d16d509a43d15baa",
   "execution_count": 17
  },
  {
   "cell_type": "markdown",
   "source": [
    "NVIDIA nemotron seems to be the best model for data generation."
   ],
   "metadata": {
    "collapsed": false
   },
   "id": "e2e820054982ddbc"
  },
  {
   "cell_type": "code",
   "outputs": [],
   "source": [],
   "metadata": {
    "collapsed": false
   },
   "id": "5cc1b0c0663bd0c"
  }
 ],
 "metadata": {
  "kernelspec": {
   "name": "ars",
   "language": "python",
   "display_name": "Python (ARS)"
  },
  "language_info": {
   "codemirror_mode": {
    "name": "ipython",
    "version": 3
   },
   "file_extension": ".py",
   "mimetype": "text/x-python",
   "name": "python",
   "nbconvert_exporter": "python",
   "pygments_lexer": "ipython3",
   "version": "3.12.1"
  }
 },
 "nbformat": 4,
 "nbformat_minor": 5
}
