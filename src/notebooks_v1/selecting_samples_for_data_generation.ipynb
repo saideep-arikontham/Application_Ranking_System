{
 "cells": [
  {
   "cell_type": "markdown",
   "source": [
    "# Selecting samples for Synthetic data generation"
   ],
   "metadata": {
    "collapsed": false
   },
   "id": "f98ff63d82b275f2"
  },
  {
   "cell_type": "markdown",
   "source": [
    "## Importing libraries"
   ],
   "metadata": {
    "collapsed": false
   },
   "id": "4f7c796252acc5d3"
  },
  {
   "cell_type": "code",
   "execution_count": 1,
   "id": "initial_id",
   "metadata": {
    "collapsed": true,
    "ExecuteTime": {
     "end_time": "2025-02-28T00:54:09.491205Z",
     "start_time": "2025-02-28T00:54:09.489687Z"
    }
   },
   "outputs": [],
   "source": [
    "import pandas as pd\n",
    "import numpy as np\n",
    "import matplotlib.pyplot as plt\n",
    "import seaborn as sns"
   ]
  },
  {
   "cell_type": "code",
   "outputs": [
    {
     "name": "stdout",
     "output_type": "stream",
     "text": [
      "/Users/saideepbunny/Projects/Application_Ranking_System\n"
     ]
    }
   ],
   "source": [
    "import os\n",
    "import sys\n",
    "from pathlib import Path\n",
    "\n",
    "path = Path(os.path.dirname(os.getcwd()))\n",
    "path = str(path)\n",
    "print(path)\n",
    "sys.path.insert(1, path)"
   ],
   "metadata": {
    "collapsed": false,
    "ExecuteTime": {
     "end_time": "2025-02-28T00:54:09.494415Z",
     "start_time": "2025-02-28T00:54:09.491705Z"
    }
   },
   "id": "5542141a6ca2d5d5",
   "execution_count": 2
  },
  {
   "cell_type": "markdown",
   "source": [
    "## Reading the data"
   ],
   "metadata": {
    "collapsed": false
   },
   "id": "be1796d1d7e8efe0"
  },
  {
   "cell_type": "code",
   "outputs": [
    {
     "data": {
      "text/plain": "                                                 job_link  \\\n0       https://www.linkedin.com/jobs/view/independent...   \n1       https://www.linkedin.com/jobs/view/chef-de-cui...   \n2       https://www.linkedin.com/jobs/view/cheese-spec...   \n3       https://www.linkedin.com/jobs/view/retail-dist...   \n4       https://www.linkedin.com/jobs/view/travel-rn-l...   \n...                                                   ...   \n125375  https://uk.linkedin.com/jobs/view/production-p...   \n125376  https://www.linkedin.com/jobs/view/store-manag...   \n125377  https://www.linkedin.com/jobs/view/sales-repre...   \n125378  https://www.linkedin.com/jobs/view/ft-center-s...   \n125379  https://www.linkedin.com/jobs/view/associate-a...   \n\n                  last_processed_time got_summary got_ner is_being_worked  \\\n0       2024-01-21 07:40:00.308133+00           t       t               f   \n1       2024-01-21 07:12:35.170823+00           t       t               f   \n2       2024-01-21 06:01:14.692423+00           t       t               f   \n3       2024-01-21 07:12:35.189652+00           t       t               f   \n4       2024-01-21 07:12:37.537623+00           t       t               f   \n...                               ...         ...     ...             ...   \n125375  2024-01-20 04:01:08.913697+00           t       t               f   \n125376  2024-01-20 05:12:47.255315+00           t       t               f   \n125377  2024-01-20 13:46:06.129745+00           t       t               f   \n125378  2024-01-20 13:46:10.289403+00           t       t               f   \n125379   2024-01-20 15:20:54.32033+00           t       t               f   \n\n                                 job_title                          company  \\\n0            Independent Real Estate Agent       Howard Hanna | Rand Realty   \n1                          Chef de Cuisine               Goodwin Recruiting   \n2                        Cheese Specialist                          Safeway   \n3       RETAIL DISTRICT MANAGER UNASSIGNED                   Dollar General   \n4               Travel RN - Long Term Care                CoreMedical Group   \n...                                    ...                              ...   \n125375                  Production Planner  Eat Real + PROPER | WARP Snacks   \n125376           Store Manager in Training              O'Reilly Auto Parts   \n125377                Sales Representative  American Fidelity Sales Careers   \n125378         FT Center Store Manager (H)                        Food Lion   \n125379           Associate Account Manager                          Lockton   \n\n                             job_location  first_seen    search_city  \\\n0                    Englewood Cliffs, NJ  2024-01-16      Pinehurst   \n1                          Brookfield, WI  2024-01-14      Milwaukee   \n2                          Mount Airy, MD  2024-01-14      Frederick   \n3                             Newport, NH  2024-01-14  New Hampshire   \n4                          Barnstable, MA  2024-01-14     Barnstable   \n...                                   ...         ...            ...   \n125375  Nuneaton, England, United Kingdom  2024-01-14       Hastings   \n125376                        Concord, NH  2024-01-14        Laconia   \n125377                        Altoona, PA  2024-01-14   Pennsylvania   \n125378                       Powhatan, VA  2024-01-14       Abingdon   \n125379                    Minneapolis, MN  2024-01-15    Lake Forest   \n\n        search_country             search_position   job_level job_type  \\\n0        United States           Real-Estate Clerk  Mid senior   Onsite   \n1        United States                   Sous Chef  Mid senior   Onsite   \n2        United States  Special Effects Specialist  Mid senior   Onsite   \n3        United States         Pressure Supervisor  Mid senior   Onsite   \n4        United States                  Nurse Head  Mid senior   Onsite   \n...                ...                         ...         ...      ...   \n125375  United Kingdom                   Scheduler  Mid senior   Onsite   \n125376   United States           Bakery Supervisor  Mid senior   Onsite   \n125377   United States  Group-Sales Representative   Associate   Onsite   \n125378   United States          Manager Employment  Mid senior   Onsite   \n125379   United States           Director Athletic  Mid senior   Onsite   \n\n                                               job_skills  \\\n0       Real Estate, Customer Service, Sales, Negotiat...   \n1       Chef de Cuisine, Executive Sous Chef, Hospital...   \n2       Retail, Grocery, Customer service, Merchandisi...   \n3       Retail Management, Profit and Loss Management,...   \n4       Travel Nursing, Long Term Care, RN (Registered...   \n...                                                   ...   \n125375  Production Planning, ERP (Access), Scheduling,...   \n125376  Sales, Leadership, Hiring, Training, Safety, C...   \n125377  Sales, Insurance, Account Management, Business...   \n125378  Grocery Department Management, Hiring and Trai...   \n125379  Account Management, Commercial Insurance, Micr...   \n\n                                              job_summary       id  \\\n0       Who We Are\\nRand Realty is a family-owned brok...        3   \n1       To Apply for this Job Click Here\\nMidwest Hosp...       20   \n2       CHEESE SPECIALIST\\nWhy you will choose us:\\nAl...       30   \n3       Dollar General Corporation has been delivering...       34   \n4       Core Medical Group is seeking a travel nurse R...       40   \n...                                                   ...      ...   \n125375  About WARP\\nPROPER and Eat Real were born out ...  1296269   \n125376  Assist store manager in areas of sales, appear...  1296275   \n125377  American Fidelity Assurance is now looking for...  1296347   \n125378  Address:\\nUSA-VA-Powhatan-1800 South Creek One...  1296358   \n125379  Responsibilities\\nYour Responsibilities\\nAssoc...  1296375   \n\n        summary_len  \n0              3944  \n1              2789  \n2              3714  \n3              4372  \n4              3163  \n...             ...  \n125375         2614  \n125376         4067  \n125377         3218  \n125378         5770  \n125379         3407  \n\n[125380 rows x 18 columns]",
      "text/html": "<div>\n<style scoped>\n    .dataframe tbody tr th:only-of-type {\n        vertical-align: middle;\n    }\n\n    .dataframe tbody tr th {\n        vertical-align: top;\n    }\n\n    .dataframe thead th {\n        text-align: right;\n    }\n</style>\n<table border=\"1\" class=\"dataframe\">\n  <thead>\n    <tr style=\"text-align: right;\">\n      <th></th>\n      <th>job_link</th>\n      <th>last_processed_time</th>\n      <th>got_summary</th>\n      <th>got_ner</th>\n      <th>is_being_worked</th>\n      <th>job_title</th>\n      <th>company</th>\n      <th>job_location</th>\n      <th>first_seen</th>\n      <th>search_city</th>\n      <th>search_country</th>\n      <th>search_position</th>\n      <th>job_level</th>\n      <th>job_type</th>\n      <th>job_skills</th>\n      <th>job_summary</th>\n      <th>id</th>\n      <th>summary_len</th>\n    </tr>\n  </thead>\n  <tbody>\n    <tr>\n      <th>0</th>\n      <td>https://www.linkedin.com/jobs/view/independent...</td>\n      <td>2024-01-21 07:40:00.308133+00</td>\n      <td>t</td>\n      <td>t</td>\n      <td>f</td>\n      <td>Independent Real Estate Agent</td>\n      <td>Howard Hanna | Rand Realty</td>\n      <td>Englewood Cliffs, NJ</td>\n      <td>2024-01-16</td>\n      <td>Pinehurst</td>\n      <td>United States</td>\n      <td>Real-Estate Clerk</td>\n      <td>Mid senior</td>\n      <td>Onsite</td>\n      <td>Real Estate, Customer Service, Sales, Negotiat...</td>\n      <td>Who We Are\\nRand Realty is a family-owned brok...</td>\n      <td>3</td>\n      <td>3944</td>\n    </tr>\n    <tr>\n      <th>1</th>\n      <td>https://www.linkedin.com/jobs/view/chef-de-cui...</td>\n      <td>2024-01-21 07:12:35.170823+00</td>\n      <td>t</td>\n      <td>t</td>\n      <td>f</td>\n      <td>Chef de Cuisine</td>\n      <td>Goodwin Recruiting</td>\n      <td>Brookfield, WI</td>\n      <td>2024-01-14</td>\n      <td>Milwaukee</td>\n      <td>United States</td>\n      <td>Sous Chef</td>\n      <td>Mid senior</td>\n      <td>Onsite</td>\n      <td>Chef de Cuisine, Executive Sous Chef, Hospital...</td>\n      <td>To Apply for this Job Click Here\\nMidwest Hosp...</td>\n      <td>20</td>\n      <td>2789</td>\n    </tr>\n    <tr>\n      <th>2</th>\n      <td>https://www.linkedin.com/jobs/view/cheese-spec...</td>\n      <td>2024-01-21 06:01:14.692423+00</td>\n      <td>t</td>\n      <td>t</td>\n      <td>f</td>\n      <td>Cheese Specialist</td>\n      <td>Safeway</td>\n      <td>Mount Airy, MD</td>\n      <td>2024-01-14</td>\n      <td>Frederick</td>\n      <td>United States</td>\n      <td>Special Effects Specialist</td>\n      <td>Mid senior</td>\n      <td>Onsite</td>\n      <td>Retail, Grocery, Customer service, Merchandisi...</td>\n      <td>CHEESE SPECIALIST\\nWhy you will choose us:\\nAl...</td>\n      <td>30</td>\n      <td>3714</td>\n    </tr>\n    <tr>\n      <th>3</th>\n      <td>https://www.linkedin.com/jobs/view/retail-dist...</td>\n      <td>2024-01-21 07:12:35.189652+00</td>\n      <td>t</td>\n      <td>t</td>\n      <td>f</td>\n      <td>RETAIL DISTRICT MANAGER UNASSIGNED</td>\n      <td>Dollar General</td>\n      <td>Newport, NH</td>\n      <td>2024-01-14</td>\n      <td>New Hampshire</td>\n      <td>United States</td>\n      <td>Pressure Supervisor</td>\n      <td>Mid senior</td>\n      <td>Onsite</td>\n      <td>Retail Management, Profit and Loss Management,...</td>\n      <td>Dollar General Corporation has been delivering...</td>\n      <td>34</td>\n      <td>4372</td>\n    </tr>\n    <tr>\n      <th>4</th>\n      <td>https://www.linkedin.com/jobs/view/travel-rn-l...</td>\n      <td>2024-01-21 07:12:37.537623+00</td>\n      <td>t</td>\n      <td>t</td>\n      <td>f</td>\n      <td>Travel RN - Long Term Care</td>\n      <td>CoreMedical Group</td>\n      <td>Barnstable, MA</td>\n      <td>2024-01-14</td>\n      <td>Barnstable</td>\n      <td>United States</td>\n      <td>Nurse Head</td>\n      <td>Mid senior</td>\n      <td>Onsite</td>\n      <td>Travel Nursing, Long Term Care, RN (Registered...</td>\n      <td>Core Medical Group is seeking a travel nurse R...</td>\n      <td>40</td>\n      <td>3163</td>\n    </tr>\n    <tr>\n      <th>...</th>\n      <td>...</td>\n      <td>...</td>\n      <td>...</td>\n      <td>...</td>\n      <td>...</td>\n      <td>...</td>\n      <td>...</td>\n      <td>...</td>\n      <td>...</td>\n      <td>...</td>\n      <td>...</td>\n      <td>...</td>\n      <td>...</td>\n      <td>...</td>\n      <td>...</td>\n      <td>...</td>\n      <td>...</td>\n      <td>...</td>\n    </tr>\n    <tr>\n      <th>125375</th>\n      <td>https://uk.linkedin.com/jobs/view/production-p...</td>\n      <td>2024-01-20 04:01:08.913697+00</td>\n      <td>t</td>\n      <td>t</td>\n      <td>f</td>\n      <td>Production Planner</td>\n      <td>Eat Real + PROPER | WARP Snacks</td>\n      <td>Nuneaton, England, United Kingdom</td>\n      <td>2024-01-14</td>\n      <td>Hastings</td>\n      <td>United Kingdom</td>\n      <td>Scheduler</td>\n      <td>Mid senior</td>\n      <td>Onsite</td>\n      <td>Production Planning, ERP (Access), Scheduling,...</td>\n      <td>About WARP\\nPROPER and Eat Real were born out ...</td>\n      <td>1296269</td>\n      <td>2614</td>\n    </tr>\n    <tr>\n      <th>125376</th>\n      <td>https://www.linkedin.com/jobs/view/store-manag...</td>\n      <td>2024-01-20 05:12:47.255315+00</td>\n      <td>t</td>\n      <td>t</td>\n      <td>f</td>\n      <td>Store Manager in Training</td>\n      <td>O'Reilly Auto Parts</td>\n      <td>Concord, NH</td>\n      <td>2024-01-14</td>\n      <td>Laconia</td>\n      <td>United States</td>\n      <td>Bakery Supervisor</td>\n      <td>Mid senior</td>\n      <td>Onsite</td>\n      <td>Sales, Leadership, Hiring, Training, Safety, C...</td>\n      <td>Assist store manager in areas of sales, appear...</td>\n      <td>1296275</td>\n      <td>4067</td>\n    </tr>\n    <tr>\n      <th>125377</th>\n      <td>https://www.linkedin.com/jobs/view/sales-repre...</td>\n      <td>2024-01-20 13:46:06.129745+00</td>\n      <td>t</td>\n      <td>t</td>\n      <td>f</td>\n      <td>Sales Representative</td>\n      <td>American Fidelity Sales Careers</td>\n      <td>Altoona, PA</td>\n      <td>2024-01-14</td>\n      <td>Pennsylvania</td>\n      <td>United States</td>\n      <td>Group-Sales Representative</td>\n      <td>Associate</td>\n      <td>Onsite</td>\n      <td>Sales, Insurance, Account Management, Business...</td>\n      <td>American Fidelity Assurance is now looking for...</td>\n      <td>1296347</td>\n      <td>3218</td>\n    </tr>\n    <tr>\n      <th>125378</th>\n      <td>https://www.linkedin.com/jobs/view/ft-center-s...</td>\n      <td>2024-01-20 13:46:10.289403+00</td>\n      <td>t</td>\n      <td>t</td>\n      <td>f</td>\n      <td>FT Center Store Manager (H)</td>\n      <td>Food Lion</td>\n      <td>Powhatan, VA</td>\n      <td>2024-01-14</td>\n      <td>Abingdon</td>\n      <td>United States</td>\n      <td>Manager Employment</td>\n      <td>Mid senior</td>\n      <td>Onsite</td>\n      <td>Grocery Department Management, Hiring and Trai...</td>\n      <td>Address:\\nUSA-VA-Powhatan-1800 South Creek One...</td>\n      <td>1296358</td>\n      <td>5770</td>\n    </tr>\n    <tr>\n      <th>125379</th>\n      <td>https://www.linkedin.com/jobs/view/associate-a...</td>\n      <td>2024-01-20 15:20:54.32033+00</td>\n      <td>t</td>\n      <td>t</td>\n      <td>f</td>\n      <td>Associate Account Manager</td>\n      <td>Lockton</td>\n      <td>Minneapolis, MN</td>\n      <td>2024-01-15</td>\n      <td>Lake Forest</td>\n      <td>United States</td>\n      <td>Director Athletic</td>\n      <td>Mid senior</td>\n      <td>Onsite</td>\n      <td>Account Management, Commercial Insurance, Micr...</td>\n      <td>Responsibilities\\nYour Responsibilities\\nAssoc...</td>\n      <td>1296375</td>\n      <td>3407</td>\n    </tr>\n  </tbody>\n</table>\n<p>125380 rows × 18 columns</p>\n</div>"
     },
     "execution_count": 3,
     "metadata": {},
     "output_type": "execute_result"
    }
   ],
   "source": [
    "df = pd.read_csv(f\"{path}/data/kaggle_linkedin_jd_skills_dataset/merged_selected_jd.csv\")\n",
    "df"
   ],
   "metadata": {
    "collapsed": false,
    "ExecuteTime": {
     "end_time": "2025-02-28T00:54:13.369913Z",
     "start_time": "2025-02-28T00:54:09.495562Z"
    }
   },
   "id": "2d00ecb0b77a81cb",
   "execution_count": 3
  },
  {
   "cell_type": "code",
   "outputs": [
    {
     "data": {
      "text/plain": "job_link                 0\nlast_processed_time      0\ngot_summary              0\ngot_ner                  0\nis_being_worked          0\njob_title                0\ncompany                  3\njob_location             2\nfirst_seen               0\nsearch_city              0\nsearch_country           0\nsearch_position          0\njob_level                0\njob_type                 0\njob_skills             216\njob_summary              0\nid                       0\nsummary_len              0\ndtype: int64"
     },
     "execution_count": 4,
     "metadata": {},
     "output_type": "execute_result"
    }
   ],
   "source": [
    "df.isna().sum()"
   ],
   "metadata": {
    "collapsed": false,
    "ExecuteTime": {
     "end_time": "2025-02-28T00:54:13.419723Z",
     "start_time": "2025-02-28T00:54:13.370865Z"
    }
   },
   "id": "978c07777ba51c82",
   "execution_count": 4
  },
  {
   "cell_type": "code",
   "outputs": [],
   "source": [
    "#drop those records with null values in job_skills column\n",
    "df = df.dropna(subset=['job_skills']).copy()"
   ],
   "metadata": {
    "collapsed": false,
    "ExecuteTime": {
     "end_time": "2025-02-28T00:54:13.462764Z",
     "start_time": "2025-02-28T00:54:13.420290Z"
    }
   },
   "id": "4448a4e494ddc8bc",
   "execution_count": 5
  },
  {
   "cell_type": "markdown",
   "source": [
    "## Examining job summaries"
   ],
   "metadata": {
    "collapsed": false
   },
   "id": "124bd18c213f73b1"
  },
  {
   "cell_type": "markdown",
   "source": [
    "### All job summaries"
   ],
   "metadata": {
    "collapsed": false
   },
   "id": "d7b45f8166ff3300"
  },
  {
   "cell_type": "code",
   "outputs": [
    {
     "name": "stdout",
     "output_type": "stream",
     "text": [
      "Who We Are\n",
      "Rand Realty is a family-owned brokerage born in 1984 when our founder, Marsha opened her new real estate office in a small town in Hudson Valley. Her vision was to build a brokerage strongly devoted to its agents and deeply committed to the community combining expertise and eye for detail with heart, soul and kindness. More than 35 years later, we've grown to more than 1,000 premier local agents with offices throughout Northern New Jersey, Westchester, Connecticut, The Bronx, Rockland, Dutchess, Putnam and Orange counties. Despite our growth or really, by virtue of it and the great people who have joined and represent our brand, the characteristics that defined us then, continue to dictate and delineate who we are.\n",
      "Today, Howard Hanna | Rand Realty is the preeminent real estate brokerage in New York, New Jersey and Connecticut, widely recognized as an industry leader for its agent training, career planning, technological innovation and market expertise. Build your career with the people who have your best interests in mind.\n",
      "Who You Are\n",
      "An Independent Real Estate Agent advises clients on every facet of the real estate sales and purchasing process. Conducting a real estate transaction can be a confusing and complicated process for clients so they depend on Independent Real Estate Agents to offer them expert advice, act as their advocate during negotiations and help them complete one of the most significant purchases and sales of their lives.\n",
      "The candidate should excel in customer service and understand the intricacies of home purchases and sales. Clients know that they have myriad real estate agents from which to choose, and it's up to you to make yourself stand out as unique and essential to meeting their real estate needs. This position is best suited for an individual who is self-motivated and enjoys working independently.\n",
      "In this role, you will...\n",
      "Network with other real estate professionals to market your home listings.\n",
      "Stay updated and informed on the local real estate market to be aware of current home listings and sales.\n",
      "Communicate effectively with all clients on a regular basis and answer their questions.\n",
      "Represent your clients during real estate negotiations and transactions.\n",
      "Show a desire to forge connections, build trust, and manage long-term relationships with individuals.\n",
      "Prepare documents such as representation contracts, purchase agreements, closing statements, deeds and leases.\n",
      "As a company, we will...\n",
      "Coach you through the licensing process for becoming a real estate agent.\n",
      "Provide you with training and support for best practices within our local real estate market.\n",
      "Offer you a flexible schedule so you can have a healthy work/life balance.\n",
      "Additional Details\n",
      "Compensation in the real estate market is related directly to a Real Estate Professional's performance. High-performing, dedicated agents have reasonable potential to make $50000 - $100000 / year or more after establishing a strong client base. You will find that the more time and work you put in, the more potential you will have for higher income.\n",
      "Notice: While a real estate license is not required to apply, you must obtain a real estate license before officially being hired. To earn a real estate license you will need to complete real estate classes (online or in-person) offered by an accredited learning institution and pass a state licensing exam. To learn more about the real estate licensing process, apply now and our recruiting team will provide additional details.\n",
      "Our Equal Opportunity Promise\n",
      "We are dedicated to fair hiring practices and operate as an equal opportunity employer. We do not discriminate on the basis of race, sexual orientation, age, marital status, religion, or nation of origin. We take pride in being exceptional leaders and citizens of our community and we're dedicated to treating all our potential employees with the same level of care and respect.\n",
      "Show more\n",
      "Show less\n"
     ]
    }
   ],
   "source": [
    "print(df.loc[0]['job_summary'])"
   ],
   "metadata": {
    "collapsed": false,
    "ExecuteTime": {
     "end_time": "2025-02-28T00:54:13.468991Z",
     "start_time": "2025-02-28T00:54:13.463622Z"
    }
   },
   "id": "2d572fd3f2020dd8",
   "execution_count": 6
  },
  {
   "cell_type": "code",
   "outputs": [
    {
     "name": "stdout",
     "output_type": "stream",
     "text": [
      "To Apply for this Job Click Here\n",
      "Midwest Hospitality Group seeks a Chef de Cuisine to lead its Culinary Team. The ideal candidate will possess experience as a Chef de Cuisine and/or Executive Sous Chef in Independent Restaurants or Hotel Food & Beverage operations. Are you looking for a new challenge with a stable Company whose Culture is focused on providing the Guest with the highest quality Food and Service and offers growth opportunities? If so, please submit your resume today!\n",
      "Benefits\n",
      "Salary - $80,000 to $90,000\n",
      "Health insurance\n",
      "Life insurance\n",
      "Free Parking\n",
      "Shift Meals\n",
      "PTO immediately\n",
      "Company Discounts\n",
      "Responsibilities\n",
      "Ensure proper team coverage to execute a high level of production while keeping payroll costs in line\n",
      "Oversee ordering, receiving, storage (including temperature-setting) usage, and rotation of food\n",
      "Works with Maintenance in the repair of equipment and preventative maintenance programs\n",
      "Assists with menu development and engineering\n",
      "Leads culinary staff in the proper preparation of menu items and sanitation\n",
      "Spearheads the development and execution of special events, VIP parties, and staff events\n",
      "Facilitates all requested menu tastings for hotel events\n",
      "Maintains procedures for cost controls and product quality\n",
      "Responsible for safety and sanitation practices\n",
      "Requirements\n",
      "Minimum of High school education\n",
      "Apprenticeship, culinary schooling, or equivalent work experience beneficial\n",
      "ServSafe Certification\n",
      "3-5 years of experience in a full-service high-end hotel or resort with high volume in multiple outlets\n",
      "Dedication to the execution of food products, standard recipes, and proper preparation\n",
      "Understanding of food and labor cost controls, and other controllable costs\n",
      "Ability to multi-task and manage many tasks\n",
      "At Goodwin Recruiting we are committed to our core values. We take our value, Dedicated to Diversity & Inclusion, very seriously and will never discriminate against a candidate or client based on any protected classes. Our clients seek qualified candidates, and that is what we deliver. A person's age, gender, race, sexual orientation, gender identity, national origin, veteran or disability status, or arrest or conviction record has no bearing on whether he, she, or they are able to do the job. We evaluate the knowledge, skills, and abilities that meet the requirements of the position and aim to open doors and change lives. We value all people, understanding that uniqueness and diversity foster a stronger team that is innovative and brings varying perspectives to the table. We put our money where our mouth is and are proud of our efforts to identify a broad slate of candidates, with many hiring success stories to share.\n",
      "JOB ID\n",
      ": 126114 #post\n",
      "Rick Duarte\n",
      "To Apply for this Job Click Here\n",
      "$80,000 - $90,000\n",
      "Show more\n",
      "Show less\n"
     ]
    }
   ],
   "source": [
    "print(df.loc[1]['job_summary'])"
   ],
   "metadata": {
    "collapsed": false,
    "ExecuteTime": {
     "end_time": "2025-02-28T00:54:13.473020Z",
     "start_time": "2025-02-28T00:54:13.469704Z"
    }
   },
   "id": "e6738704748197a7",
   "execution_count": 7
  },
  {
   "cell_type": "markdown",
   "source": [
    "We can see from the above sample that few of the job summaries specifically have \"Responsibilities\" in the text. Since it is not possible to evaluate all the ~125k records to see if the job summary includes Responsibilities, we can simply filter the records based on the existence of the string \"Responsibilities\"."
   ],
   "metadata": {
    "collapsed": false
   },
   "id": "232e4a47b82a1bda"
  },
  {
   "cell_type": "markdown",
   "source": [
    "### Records containing \"Responsibilities\" in job summary"
   ],
   "metadata": {
    "collapsed": false
   },
   "id": "2b1ba86eb10f6218"
  },
  {
   "cell_type": "code",
   "outputs": [
    {
     "data": {
      "text/plain": "                                                 job_link  \\\n1       https://www.linkedin.com/jobs/view/chef-de-cui...   \n7       https://www.linkedin.com/jobs/view/rad-tech-at...   \n8       https://www.linkedin.com/jobs/view/retail-stoc...   \n9       https://www.linkedin.com/jobs/view/grooming-sa...   \n10      https://ca.linkedin.com/jobs/view/senior-produ...   \n...                                                   ...   \n125374  https://www.linkedin.com/jobs/view/quality-aud...   \n125375  https://uk.linkedin.com/jobs/view/production-p...   \n125377  https://www.linkedin.com/jobs/view/sales-repre...   \n125378  https://www.linkedin.com/jobs/view/ft-center-s...   \n125379  https://www.linkedin.com/jobs/view/associate-a...   \n\n                  last_processed_time got_summary got_ner is_being_worked  \\\n1       2024-01-21 07:12:35.170823+00           t       t               f   \n7       2024-01-19 14:39:33.898387+00           t       t               f   \n8       2024-01-21 07:43:49.202444+00           t       t               f   \n9       2024-01-21 07:43:50.084041+00           t       t               f   \n10      2024-01-21 07:43:52.439593+00           t       t               f   \n...                               ...         ...     ...             ...   \n125374  2024-01-20 04:01:06.622679+00           t       t               f   \n125375  2024-01-20 04:01:08.913697+00           t       t               f   \n125377  2024-01-20 13:46:06.129745+00           t       t               f   \n125378  2024-01-20 13:46:10.289403+00           t       t               f   \n125379   2024-01-20 15:20:54.32033+00           t       t               f   \n\n                          job_title                           company  \\\n1                   Chef de Cuisine                Goodwin Recruiting   \n7                          Rad Tech  Virginia Mason Franciscan Health   \n8         Retail Stocking Team Lead           Burlington Stores, Inc.   \n9            Grooming Salon Manager                             Petco   \n10           Senior Product Manager                       Robert Half   \n...                             ...                               ...   \n125374              Quality Auditor                           ANGARAI   \n125375           Production Planner   Eat Real + PROPER | WARP Snacks   \n125377         Sales Representative   American Fidelity Sales Careers   \n125378  FT Center Store Manager (H)                         Food Lion   \n125379    Associate Account Manager                           Lockton   \n\n                             job_location  first_seen   search_city  \\\n1                          Brookfield, WI  2024-01-14     Milwaukee   \n7                             Seattle, WA  2024-01-13        Summit   \n8                            Chandler, AZ  2024-01-16      Chandler   \n9                            Sarasota, FL  2024-01-16      Sarasota   \n10               Calgary, Alberta, Canada  2024-01-14       Calgary   \n...                                   ...         ...           ...   \n125374                     Washington, DC  2024-01-14    Washington   \n125375  Nuneaton, England, United Kingdom  2024-01-14      Hastings   \n125377                        Altoona, PA  2024-01-14  Pennsylvania   \n125378                       Powhatan, VA  2024-01-14      Abingdon   \n125379                    Minneapolis, MN  2024-01-15   Lake Forest   \n\n        search_country             search_position   job_level job_type  \\\n1        United States                   Sous Chef  Mid senior   Onsite   \n7        United States                 Radiologist  Mid senior   Onsite   \n8        United States     Pattern-Shop Supervisor  Mid senior   Onsite   \n9        United States   Quality Assurance Monitor  Mid senior   Onsite   \n10              Canada                        Tier  Mid senior   Onsite   \n...                ...                         ...         ...      ...   \n125374   United States          Standards Engineer  Mid senior   Onsite   \n125375  United Kingdom                   Scheduler  Mid senior   Onsite   \n125377   United States  Group-Sales Representative   Associate   Onsite   \n125378   United States          Manager Employment  Mid senior   Onsite   \n125379   United States           Director Athletic  Mid senior   Onsite   \n\n                                               job_skills  \\\n1       Chef de Cuisine, Executive Sous Chef, Hospital...   \n7       Radiology, Diagnostic imaging, Xray, Fluorosco...   \n8       Retail stocking, Leadership, Problem solving, ...   \n9       Pet Grooming, Salon Management, Leadership, Cu...   \n10      Product Management, P&L Management, Sales Acum...   \n...                                                   ...   \n125374  Project Management, Quality Audits, Quality Co...   \n125375  Production Planning, ERP (Access), Scheduling,...   \n125377  Sales, Insurance, Account Management, Business...   \n125378  Grocery Department Management, Hiring and Trai...   \n125379  Account Management, Commercial Insurance, Micr...   \n\n                                              job_summary       id  \\\n1       To Apply for this Job Click Here\\nMidwest Hosp...       20   \n7       Overview\\nUp to a $10,000 sign on bonus**\\nVir...       79   \n8       LOCATION\\n2630 E Germann Rd Chandler AZ US 852...       85   \n9       Create a healthier, brighter future for pets, ...       92   \n10      Description\\nThe Role\\nJoin our client's dynam...       97   \n...                                                   ...      ...   \n125374  Job Title: Quality Auditor\\nJob Location:\\nWas...  1296268   \n125375  About WARP\\nPROPER and Eat Real were born out ...  1296269   \n125377  American Fidelity Assurance is now looking for...  1296347   \n125378  Address:\\nUSA-VA-Powhatan-1800 South Creek One...  1296358   \n125379  Responsibilities\\nYour Responsibilities\\nAssoc...  1296375   \n\n        summary_len  \n1              2789  \n7              2506  \n8              3009  \n9              5625  \n10             4454  \n...             ...  \n125374         2288  \n125375         2614  \n125377         3218  \n125378         5770  \n125379         3407  \n\n[56057 rows x 18 columns]",
      "text/html": "<div>\n<style scoped>\n    .dataframe tbody tr th:only-of-type {\n        vertical-align: middle;\n    }\n\n    .dataframe tbody tr th {\n        vertical-align: top;\n    }\n\n    .dataframe thead th {\n        text-align: right;\n    }\n</style>\n<table border=\"1\" class=\"dataframe\">\n  <thead>\n    <tr style=\"text-align: right;\">\n      <th></th>\n      <th>job_link</th>\n      <th>last_processed_time</th>\n      <th>got_summary</th>\n      <th>got_ner</th>\n      <th>is_being_worked</th>\n      <th>job_title</th>\n      <th>company</th>\n      <th>job_location</th>\n      <th>first_seen</th>\n      <th>search_city</th>\n      <th>search_country</th>\n      <th>search_position</th>\n      <th>job_level</th>\n      <th>job_type</th>\n      <th>job_skills</th>\n      <th>job_summary</th>\n      <th>id</th>\n      <th>summary_len</th>\n    </tr>\n  </thead>\n  <tbody>\n    <tr>\n      <th>1</th>\n      <td>https://www.linkedin.com/jobs/view/chef-de-cui...</td>\n      <td>2024-01-21 07:12:35.170823+00</td>\n      <td>t</td>\n      <td>t</td>\n      <td>f</td>\n      <td>Chef de Cuisine</td>\n      <td>Goodwin Recruiting</td>\n      <td>Brookfield, WI</td>\n      <td>2024-01-14</td>\n      <td>Milwaukee</td>\n      <td>United States</td>\n      <td>Sous Chef</td>\n      <td>Mid senior</td>\n      <td>Onsite</td>\n      <td>Chef de Cuisine, Executive Sous Chef, Hospital...</td>\n      <td>To Apply for this Job Click Here\\nMidwest Hosp...</td>\n      <td>20</td>\n      <td>2789</td>\n    </tr>\n    <tr>\n      <th>7</th>\n      <td>https://www.linkedin.com/jobs/view/rad-tech-at...</td>\n      <td>2024-01-19 14:39:33.898387+00</td>\n      <td>t</td>\n      <td>t</td>\n      <td>f</td>\n      <td>Rad Tech</td>\n      <td>Virginia Mason Franciscan Health</td>\n      <td>Seattle, WA</td>\n      <td>2024-01-13</td>\n      <td>Summit</td>\n      <td>United States</td>\n      <td>Radiologist</td>\n      <td>Mid senior</td>\n      <td>Onsite</td>\n      <td>Radiology, Diagnostic imaging, Xray, Fluorosco...</td>\n      <td>Overview\\nUp to a $10,000 sign on bonus**\\nVir...</td>\n      <td>79</td>\n      <td>2506</td>\n    </tr>\n    <tr>\n      <th>8</th>\n      <td>https://www.linkedin.com/jobs/view/retail-stoc...</td>\n      <td>2024-01-21 07:43:49.202444+00</td>\n      <td>t</td>\n      <td>t</td>\n      <td>f</td>\n      <td>Retail Stocking Team Lead</td>\n      <td>Burlington Stores, Inc.</td>\n      <td>Chandler, AZ</td>\n      <td>2024-01-16</td>\n      <td>Chandler</td>\n      <td>United States</td>\n      <td>Pattern-Shop Supervisor</td>\n      <td>Mid senior</td>\n      <td>Onsite</td>\n      <td>Retail stocking, Leadership, Problem solving, ...</td>\n      <td>LOCATION\\n2630 E Germann Rd Chandler AZ US 852...</td>\n      <td>85</td>\n      <td>3009</td>\n    </tr>\n    <tr>\n      <th>9</th>\n      <td>https://www.linkedin.com/jobs/view/grooming-sa...</td>\n      <td>2024-01-21 07:43:50.084041+00</td>\n      <td>t</td>\n      <td>t</td>\n      <td>f</td>\n      <td>Grooming Salon Manager</td>\n      <td>Petco</td>\n      <td>Sarasota, FL</td>\n      <td>2024-01-16</td>\n      <td>Sarasota</td>\n      <td>United States</td>\n      <td>Quality Assurance Monitor</td>\n      <td>Mid senior</td>\n      <td>Onsite</td>\n      <td>Pet Grooming, Salon Management, Leadership, Cu...</td>\n      <td>Create a healthier, brighter future for pets, ...</td>\n      <td>92</td>\n      <td>5625</td>\n    </tr>\n    <tr>\n      <th>10</th>\n      <td>https://ca.linkedin.com/jobs/view/senior-produ...</td>\n      <td>2024-01-21 07:43:52.439593+00</td>\n      <td>t</td>\n      <td>t</td>\n      <td>f</td>\n      <td>Senior Product Manager</td>\n      <td>Robert Half</td>\n      <td>Calgary, Alberta, Canada</td>\n      <td>2024-01-14</td>\n      <td>Calgary</td>\n      <td>Canada</td>\n      <td>Tier</td>\n      <td>Mid senior</td>\n      <td>Onsite</td>\n      <td>Product Management, P&amp;L Management, Sales Acum...</td>\n      <td>Description\\nThe Role\\nJoin our client's dynam...</td>\n      <td>97</td>\n      <td>4454</td>\n    </tr>\n    <tr>\n      <th>...</th>\n      <td>...</td>\n      <td>...</td>\n      <td>...</td>\n      <td>...</td>\n      <td>...</td>\n      <td>...</td>\n      <td>...</td>\n      <td>...</td>\n      <td>...</td>\n      <td>...</td>\n      <td>...</td>\n      <td>...</td>\n      <td>...</td>\n      <td>...</td>\n      <td>...</td>\n      <td>...</td>\n      <td>...</td>\n      <td>...</td>\n    </tr>\n    <tr>\n      <th>125374</th>\n      <td>https://www.linkedin.com/jobs/view/quality-aud...</td>\n      <td>2024-01-20 04:01:06.622679+00</td>\n      <td>t</td>\n      <td>t</td>\n      <td>f</td>\n      <td>Quality Auditor</td>\n      <td>ANGARAI</td>\n      <td>Washington, DC</td>\n      <td>2024-01-14</td>\n      <td>Washington</td>\n      <td>United States</td>\n      <td>Standards Engineer</td>\n      <td>Mid senior</td>\n      <td>Onsite</td>\n      <td>Project Management, Quality Audits, Quality Co...</td>\n      <td>Job Title: Quality Auditor\\nJob Location:\\nWas...</td>\n      <td>1296268</td>\n      <td>2288</td>\n    </tr>\n    <tr>\n      <th>125375</th>\n      <td>https://uk.linkedin.com/jobs/view/production-p...</td>\n      <td>2024-01-20 04:01:08.913697+00</td>\n      <td>t</td>\n      <td>t</td>\n      <td>f</td>\n      <td>Production Planner</td>\n      <td>Eat Real + PROPER | WARP Snacks</td>\n      <td>Nuneaton, England, United Kingdom</td>\n      <td>2024-01-14</td>\n      <td>Hastings</td>\n      <td>United Kingdom</td>\n      <td>Scheduler</td>\n      <td>Mid senior</td>\n      <td>Onsite</td>\n      <td>Production Planning, ERP (Access), Scheduling,...</td>\n      <td>About WARP\\nPROPER and Eat Real were born out ...</td>\n      <td>1296269</td>\n      <td>2614</td>\n    </tr>\n    <tr>\n      <th>125377</th>\n      <td>https://www.linkedin.com/jobs/view/sales-repre...</td>\n      <td>2024-01-20 13:46:06.129745+00</td>\n      <td>t</td>\n      <td>t</td>\n      <td>f</td>\n      <td>Sales Representative</td>\n      <td>American Fidelity Sales Careers</td>\n      <td>Altoona, PA</td>\n      <td>2024-01-14</td>\n      <td>Pennsylvania</td>\n      <td>United States</td>\n      <td>Group-Sales Representative</td>\n      <td>Associate</td>\n      <td>Onsite</td>\n      <td>Sales, Insurance, Account Management, Business...</td>\n      <td>American Fidelity Assurance is now looking for...</td>\n      <td>1296347</td>\n      <td>3218</td>\n    </tr>\n    <tr>\n      <th>125378</th>\n      <td>https://www.linkedin.com/jobs/view/ft-center-s...</td>\n      <td>2024-01-20 13:46:10.289403+00</td>\n      <td>t</td>\n      <td>t</td>\n      <td>f</td>\n      <td>FT Center Store Manager (H)</td>\n      <td>Food Lion</td>\n      <td>Powhatan, VA</td>\n      <td>2024-01-14</td>\n      <td>Abingdon</td>\n      <td>United States</td>\n      <td>Manager Employment</td>\n      <td>Mid senior</td>\n      <td>Onsite</td>\n      <td>Grocery Department Management, Hiring and Trai...</td>\n      <td>Address:\\nUSA-VA-Powhatan-1800 South Creek One...</td>\n      <td>1296358</td>\n      <td>5770</td>\n    </tr>\n    <tr>\n      <th>125379</th>\n      <td>https://www.linkedin.com/jobs/view/associate-a...</td>\n      <td>2024-01-20 15:20:54.32033+00</td>\n      <td>t</td>\n      <td>t</td>\n      <td>f</td>\n      <td>Associate Account Manager</td>\n      <td>Lockton</td>\n      <td>Minneapolis, MN</td>\n      <td>2024-01-15</td>\n      <td>Lake Forest</td>\n      <td>United States</td>\n      <td>Director Athletic</td>\n      <td>Mid senior</td>\n      <td>Onsite</td>\n      <td>Account Management, Commercial Insurance, Micr...</td>\n      <td>Responsibilities\\nYour Responsibilities\\nAssoc...</td>\n      <td>1296375</td>\n      <td>3407</td>\n    </tr>\n  </tbody>\n</table>\n<p>56057 rows × 18 columns</p>\n</div>"
     },
     "execution_count": 8,
     "metadata": {},
     "output_type": "execute_result"
    }
   ],
   "source": [
    "resp_df = df[df['job_summary'].str.contains(\"Responsibilities\")]\n",
    "resp_df"
   ],
   "metadata": {
    "collapsed": false,
    "ExecuteTime": {
     "end_time": "2025-02-28T00:54:13.680851Z",
     "start_time": "2025-02-28T00:54:13.473945Z"
    }
   },
   "id": "8873f1472312d540",
   "execution_count": 8
  },
  {
   "cell_type": "code",
   "outputs": [
    {
     "name": "stdout",
     "output_type": "stream",
     "text": [
      "Record 1:\n",
      "To Apply for this Job Click Here\n",
      "Midwest Hospitality Group seeks a Chef de Cuisine to lead its Culinary Team. The ideal candidate will possess experience as a Chef de Cuisine and/or Executive Sous Chef in Independent Restaurants or Hotel Food & Beverage operations. Are you looking for a new challenge with a stable Company whose Culture is focused on providing the Guest with the highest quality Food and Service and offers growth opportunities? If so, please submit your resume today!\n",
      "Benefits\n",
      "Salary - $80,000 to $90,000\n",
      "Health insurance\n",
      "Life insurance\n",
      "Free Parking\n",
      "Shift Meals\n",
      "PTO immediately\n",
      "Company Discounts\n",
      "Responsibilities\n",
      "Ensure proper team coverage to execute a high level of production while keeping payroll costs in line\n",
      "Oversee ordering, receiving, storage (including temperature-setting) usage, and rotation of food\n",
      "Works with Maintenance in the repair of equipment and preventative maintenance programs\n",
      "Assists with menu development and engineering\n",
      "Leads culinary staff in the proper preparation of menu items and sanitation\n",
      "Spearheads the development and execution of special events, VIP parties, and staff events\n",
      "Facilitates all requested menu tastings for hotel events\n",
      "Maintains procedures for cost controls and product quality\n",
      "Responsible for safety and sanitation practices\n",
      "Requirements\n",
      "Minimum of High school education\n",
      "Apprenticeship, culinary schooling, or equivalent work experience beneficial\n",
      "ServSafe Certification\n",
      "3-5 years of experience in a full-service high-end hotel or resort with high volume in multiple outlets\n",
      "Dedication to the execution of food products, standard recipes, and proper preparation\n",
      "Understanding of food and labor cost controls, and other controllable costs\n",
      "Ability to multi-task and manage many tasks\n",
      "At Goodwin Recruiting we are committed to our core values. We take our value, Dedicated to Diversity & Inclusion, very seriously and will never discriminate against a candidate or client based on any protected classes. Our clients seek qualified candidates, and that is what we deliver. A person's age, gender, race, sexual orientation, gender identity, national origin, veteran or disability status, or arrest or conviction record has no bearing on whether he, she, or they are able to do the job. We evaluate the knowledge, skills, and abilities that meet the requirements of the position and aim to open doors and change lives. We value all people, understanding that uniqueness and diversity foster a stronger team that is innovative and brings varying perspectives to the table. We put our money where our mouth is and are proud of our efforts to identify a broad slate of candidates, with many hiring success stories to share.\n",
      "JOB ID\n",
      ": 126114 #post\n",
      "Rick Duarte\n",
      "To Apply for this Job Click Here\n",
      "$80,000 - $90,000\n",
      "Show more\n",
      "Show less\n",
      "\n",
      "================================================================================\n",
      "\n",
      "Record 2:\n",
      "Overview\n",
      "Up to a $10,000 sign on bonus**\n",
      "Virginia Mason Franciscan Health is a 336 bed non-profit facility providing quality health care to patients and communities in and around Seattle Washington. We are part of CommonSpirit Health which operates 139 hospitals and more than 1,000 care sites across 21 states, making our services accessible to nearly 1 in 4 U.S. residents.\n",
      "Responsibilities\n",
      "As a Radiology Technologist at Virginia Mason, you will help capture usable diagnostic images from patients so the Radiologist can accurately diagnose and/or rule out different conditions.\n",
      "Every day you could perform any variety of imaging examinations such as x-rays, diagnostic fluoroscopy, to name a few. You will also need to enjoy working directly with people as you play a huge role in the patient experience.\n",
      "To be successful in this role, you’ll need to fully understand the importance of diagnostic imaging. This includes knowledge of the general imaging workflow, various patient positioning techniques, and capturing precise results for timely and accurate diagnosis.\n",
      "We deliver inspired people to do meaningful work.\"\n",
      "Qualifications\n",
      "This position requires a Washington State certification for Radiologic Technologist and a certificate from the American Registry of Radiological Technology (ARRT).\n",
      "Graduation from an approved accredited program for diagnostic radiologic or successful completion of alternative training is required.\n",
      "Must complete 24 hours of continuing medical education every two years.\n",
      "Must have a valid CPR license to be renewed every two years.\n",
      "Excellent interpersonal and communication skills; a thorough understanding of anatomy and physiology; strong organizational skills;\n",
      "a willingness to grow with technological changes occurring in the field; the ability to manage stressful situations appropriately;\n",
      "the ability to attend to multiple tasks and work independently; and the ability to be versatile, flexible are needed. Must be able to lift 50 pounds.\n",
      "Just as Virginia Mason is dedicated to improving the lives of our patients and our community, we are equally dedicated to your professional and personal success. With a wide range of perks that includes a comprehensive compensation and benefits package, and the opportunity to live in one of the most livable cities in the nation, you will find that an opportunity with Team Medicine is one worth taking.\n",
      "We are an equal opportunity/affirmative action employer.\n",
      "WAImaging\n",
      "Pay Range\n",
      "$36.89 - $53.49 /hour\n",
      "Show more\n",
      "Show less\n",
      "\n",
      "================================================================================\n",
      "\n",
      "Record 3:\n",
      "LOCATION\n",
      "2630 E Germann Rd Chandler AZ US 85286\n",
      "Overview\n",
      "If you have strong leadership skills, an interest in retail, and you thrive in a fast-paced environment, join Our Burlington Back of House/Receiving team as a\n",
      "Part Time Retail Stocking Team Lead\n",
      "!\n",
      "Retail Stocking Team Leads are a key part of our store’s leadership team. They play an integral role in leading Receiving Associates by becoming an extension of the Retail Stocking Team Supervisor. Our Retail Stocking Team Leads work behind the scenes to support our team members and help bring our merchandise displays to life. If you’re hands-on, lead by example, and have great problem-solving skills, we think you’ll be a great addition to our team!\n",
      "At Burlington, we live by our Core Values:\n",
      "Drive Results\n",
      "Trust & Respect Each Other\n",
      "Build Teams & Partnerships\n",
      "Burlington Benefits:\n",
      "Growth Opportunities\n",
      "Competitive Pay\n",
      "Flexible Hours\n",
      "15-30% Associate Discount\n",
      "Employee Assistance Program\n",
      "Key Responsibilities:\n",
      "Model company appropriate Back of House standards for receiving/stocking team\n",
      "Maintain a neat and orderly stock, receiving area and sales floor\n",
      "Drive associate compliance with company policies and standards\n",
      "Coordinate meal and break periods and monitor schedule adherence\n",
      "Coaching associates in the moment and providing recognition\n",
      "Requirements:\n",
      "Strong interpersonal skills with a positive and engaging attitude\n",
      "Ability to work a flexible schedule including nights, weekends and holidays as required\n",
      "Ability to move/handle/lift store merchandise weighing 40 lbs. or more, as well as the ability to stand and walk for extended periods of time\n",
      "At Burlington we’re opening more stores nationwide to provide you with even more locations to enjoy our amazing prices on the brands and styles you love. As we grow, you can too through a variety of training and development opportunities!\n",
      "Come join our team. You’re going to like it here!\n",
      "You will enjoy a competitive wage, flexible hours, and an associate discount. Part-time associates, based on hours worked, may be eligible for Burlington’s benefits package which includes medical coverage and a 401(k) plan. Part-time associates may also be eligible for up to 4 hours of paid time off annually after one year of service, up to 8 paid holidays, and paid sick time in accordance with applicable law. We are a rapidly growing brand, and provide a variety of training and development opportunities so our associates can grow with us.\n",
      "Our store teams work hard and have fun together! Burlington associates make a difference in the lives of customers, colleagues, and the communities where we live and work every day. Burlington Stores, Inc. is an equal opportunity employer committed to workplace diversity.\n",
      "Location\n",
      "US-AZ-Chandler\n",
      "Posting Number\n",
      "2023-204570\n",
      "Address\n",
      "2630 E Germann Rd\n",
      "Zip Code\n",
      "85286\n",
      "Workplace Type\n",
      "On-Site\n",
      "Position Type\n",
      "Regular Part-Time\n",
      "Career Site Category\n",
      "Store Associate\n",
      "Position Category\n",
      "Store Associate\n",
      "Evergreen\n",
      "Yes\n",
      "Min\n",
      "USD $15.35/Hour\n",
      "Mid\n",
      "USD $16.35/Hour\n",
      "Show more\n",
      "Show less\n",
      "\n",
      "================================================================================\n",
      "\n",
      "Record 4:\n",
      "Create a healthier, brighter future for pets, pet parents and people!\n",
      "If you want to make a real difference, create an exciting career path, feel welcome to be your whole self and nurture your wellbeing, Petco is the place for you.\n",
      "Our core values capture that spirit as we work to improve lives by doing what’s right for pets, people and our planet.\n",
      "We love all pets like our own\n",
      "We’re the future of the pet industry\n",
      "We’re here to improve lives\n",
      "We drive outstanding results together\n",
      "We’re welcome as we are\n",
      "Petco is a category-defining health and wellness company focused on improving the lives of pets, pet parents and Petco partners. We are 29,000 strong, working together across 1,500+ pet care centers, 250+ Vetco Total Care hospitals, hundreds of preventive care clinics, eight distribution centers and two support centers.\n",
      "Job Summary:\n",
      "As a Petco Grooming Salon Leader, you will be responsible for leading and managing the grooming salon operations to provide exceptional grooming services for our beloved pets. Your primary objective will be to ensure a high level of customer satisfaction, promote a positive work environment, and drive salon performance. You will oversee a team of professional groomers and support staff, ensuring they deliver excellent grooming services while maintaining the salon's cleanliness and safety standards. This role requires strong leadership, exceptional customer service skills, and a passion for animals.\n",
      "Your Petco Grooming Career\n",
      "Competitive base pay, plus incentive\n",
      "Medical, dental, vision and more\n",
      "401k and more\n",
      "Paid Time Off\n",
      "Petco Discounts\n",
      "All the supplies & equipment you need, including, clippers, blades, shears, shampoo, sprays, tools, etc.\n",
      "State of the art equipment, including bathing system, kennels, tables, and dryers\n",
      "Career development and growth opportunities, such as a Grooming Mentor and Grooming Instructor\n",
      "Responsibilities\n",
      "Salon Operations Management:\n",
      "Oversee day-to-day operations of the grooming salon, ensuring smooth and efficient workflows.\n",
      "Coordinate grooming appointments, manage scheduling, and optimize grooming capacity.\n",
      "Ensure compliance with company policies, procedures, and safety guidelines.\n",
      "Monitor and manage salon inventory, including grooming supplies\n",
      "Team Leadership and Development:\n",
      "Recruit, hire, train, and supervise a team of groomers and support staff.\n",
      "Provide ongoing coaching, feedback, and performance evaluations to salon team members.\n",
      "Foster a positive and collaborative work environment that encourages teamwork and professional growth.\n",
      "Conduct regular training sessions to enhance grooming skills and stay up to date with industry trends.\n",
      "Customer Service and Relationship Building:\n",
      "Provide exceptional customer service by addressing client inquiries, concerns, and requests.\n",
      "Build and maintain strong relationships with clients, ensuring their satisfaction and loyalty.\n",
      "Proactively resolve any customer issues or complaints related to grooming services.\n",
      "Utilize customer feedback to improve salon operations and enhance the overall customer experience.\n",
      "Quality Assurance and Safety Standards:\n",
      "Ensure grooming services adhere to Petco's quality and safety standards.\n",
      "Perform quality checks to maintain grooming excellence and consistency.\n",
      "Stay updated on industry grooming techniques, trends, and best practices.\n",
      "Maintain cleanliness and organization of the salon, ensuring a safe and comfortable environment for pets and staff.\n",
      "Performance Tracking and Reporting:\n",
      "Monitor salon performance metrics, including revenue, grooming appointments, and customer satisfaction.\n",
      "Analyze data and generate reports to identify areas of improvement and develop action plans.\n",
      "Collaborate with the store management team to meet sales targets and salon objectives.\n",
      "Implement strategies to drive salon growth, increase customer base, and enhance profitability.\n",
      "Requirements\n",
      "Previous experience in pet grooming, salon management, or a related field.\n",
      "Proven leadership skills with the ability to motivate and develop a team.\n",
      "Excellent customer service and interpersonal skills.\n",
      "Strong organizational and time management abilities.\n",
      "Knowledge of grooming techniques, breed standards, and pet care products.\n",
      "Ability to handle and groom pets of all sizes and temperaments.\n",
      "Proficiency in computer systems and salon management software.\n",
      "Flexibility to work evenings, weekends, and holidays as required.\n",
      "If you are passionate about pets, have a strong background in grooming, and possess exceptional leadership skills, we invite you to join our team as a Petco Grooming Salon Leader. Help us create a safe and enjoyable grooming experience for our furry friends and their owners while driving salon success and customer satisfaction.\n",
      "Petco Animal Supplies, Inc. is an Equal Opportunity Employer. All qualified applicants will receive consideration for employment without regard to race, color, religion, sex, sexual orientation, gender identity, national origin, disability, age, protected veteran status, or any other protected classification.\n",
      "To translate this webpage to Spanish or other languages on your internet browser click the translate button to the right of your browser address bar. Additional instruction can be found here: https://support.google.com/chrome/answer/173424?hl=en-GB&co=GENIE.Platform%3DDesktop\n",
      "Para Traducir Esta Página Web Al Español u Otros Idiomas En Su Navegador De Internet, Haga Clic En El Botón De Traducción a La Derecha De La Barra De Direcciones De Su Navegador. Puede Encontrar Instrucciones Adicionales Aquí\n",
      "https://support.google.com/chrome/answer/173424?hl=en-GB&co=GENIE.Platform%3DDesktop\n",
      "Show more\n",
      "Show less\n",
      "\n",
      "================================================================================\n",
      "\n",
      "Record 5:\n",
      "Description\n",
      "The Role\n",
      "Join our client's dynamic Product Management team as a Senior Product Manager in a full-time, permanent role. Take the lead in launching innovative products for oil and gas production and reservoir engineering applications. This pivotal role demands expertise in sub-surface to surface integration technologies, collaboration with tech leaders, roadmap definition, and active participation in user conferences to enhance product adoption and market presence. We are seeking a candidate with strong P& L management skills, exceptional sales acumen, and outstanding communication abilities.\n",
      "Key Responsibilities\n",
      "As a part of the Product Management team, reporting to the Head of Product, you will:\n",
      "Conduct thorough market research to identify emerging trends and customer needs in oil and gas, specifically in production and reservoir engineering.\n",
      "Oversee the product development phase, refining new and existing products.\n",
      "Coordinate with cross-functional teams for rigorous testing and quality assurance, ensuring products meet industry standards and client requirements.\n",
      "Develop a comprehensive go-to-market strategy, including positioning, pricing, and promotional tactics.\n",
      "Collaborate with the marketing team to design effective marketing collateral and sales tools.\n",
      "Manage the entire product lifecycle from ideation to market release, creating and maintaining a product roadmap aligned with market demands and corporate objectives.\n",
      "Demonstrate strong P& L management to drive product profitability and implement competitive pricing strategies.\n",
      "Utilize business development skills to enhance product uptake and cultivate strategic partnerships.\n",
      "Organize and preside over user conferences, fostering engagement with key stakeholders and obtaining feedback.\n",
      "Represent the organization at industry conferences, delivering presentations to showcase expertise and product innovations.\n",
      "What's on offer?\n",
      "Competitive salary\n",
      "Performance-based bonus program\n",
      "Learning and development opportunities\n",
      "RRSP contributions\n",
      "Top-tier medical and dental benefits, including a health spending account\n",
      "20 days of vacation per year plus flex days\n",
      "Quarterly wellness days\n",
      "Choice of transit pass or underground parking\n",
      "On-site gym, car wash, cafeteria, complimentary barista-style coffee, and more\n",
      "Hybrid work model: Minimum four days per week in the office with flexibility for one day per week remote work.\n",
      "Robert Half Ltd is committed to equal opportunity and we value diversity at our company. We do not discriminate on the basis of categories protected under local law.\n",
      "Requirements\n",
      "Your Skills & Experience\n",
      "Strong understanding of upstream oil and gas technologies.\n",
      "Outstanding written and verbal communication skills, with the ability to represent the company at industry events.\n",
      "Effective collaboration with technology leaders to define and execute product roadmaps.\n",
      "Customer-focused mindset, bringing value to our customers.\n",
      "Positive attitude, self-motivated, excellent time management, and communication skills in English.\n",
      "Minimum 5 years of B2B Product Management experience.\n",
      "Experience in launching software products for the Oil and Gas industry.\n",
      "If you are available immediately with the requirements listed above, click the “Apply Now!” link. For assistance with applying, please call Robert Half at (403) 264-5301 quoting job reference number 05000-0012852830.\n",
      "Robert Half would like to take this opportunity to thank all applicants in advance for their expressed interest!\n",
      "The job you want is just an app away. Whether remote or on-site, search for a job you’ll love with the Robert Half app. Download on the App Store or get it on Google Play.\n",
      "Robert Half is the world’s first and largest specialized talent solutions firm that connects highly qualified job seekers to opportunities at great companies. We offer contract, temporary and permanent placement solutions for finance and accounting, technology, marketing and creative, legal, and administrative and customer support roles.\n",
      "Robert Half works to put you in the best position to succeed. We provide access to top jobs, competitive compensation and benefits, and free online training. Stay on top of every opportunity - whenever you choose - even on the go.\n",
      "Questions? Call your local office at 1.888.490.4429. All applicants applying for Canadian job openings must be authorized to work in Canada.\n",
      "© 2024 Robert Half. By clicking “Apply Now,” you’re agreeing to\n",
      "Show more\n",
      "Show less\n",
      "\n",
      "================================================================================\n",
      "\n",
      "Record 6:\n",
      "Overview\n",
      "Our\n",
      "Home Sales Inspector\n",
      "position combines your need for freedom and competitive drive along with your desire to be part of a team. You’ll perform inspections on properties and make strategic recommendations to new and existing customers to help prevent pests and provide peace of mind. You’ll solve problems and build trusted relationships as an essential partner to protect their homes with confidence and care. Join a winning culture in a recession-resistant industry where you can maximize your financial potential with your high-performance sales skills!\n",
      "Responsibilities\n",
      "You will…\n",
      "Set appointments with property owners to inspect interior and exterior for wood destroying pests, including attics and crawl spaces - don't worry we will teach you how!\n",
      "Serve as a problem solver for customers by utilizing the in-depth training provided to decide on the best overall pest solution for each customer's needs.\n",
      "Achieve sales goals through prospecting new business and assigned leads\n",
      "Utilizing marketing tools to drive new business development.\n",
      "Conduct an inspection of the interior and exterior of the client’s commercial property—don’t worry, we teach you how!\n",
      "Make recommendations to clients based on your inspection and issues identified by addressing any questions, explaining the process and setting expectations.\n",
      "Use the iPad we provide to prepare sales agreements and help you stay organized—we will provide training on this too!\n",
      "Qualifications\n",
      "What type of benefits will you receive?\n",
      "Competitive earnings and a company vehicle with gas card\n",
      "Our average Sales Professionals earn $60K+ in their first year with our top performers earning $100K+\n",
      "Company provided iPhone and iPad with sales software\n",
      "Comprehensive benefits package including medical, dental, vision, maternity, & life Insurance\n",
      "401(k) plan with company match, employee stock purchase plan\n",
      "Paid vacation, holidays, and sick leave\n",
      "Employee discounts, tuition reimbursement, dependent scholarship awards\n",
      "Industry leading, quality, comprehensive training program\n",
      "What do you need to be successful?\n",
      "Previous sales experience preferred\n",
      "High School Diploma or equivalent required\n",
      "Valid driver’s license required with a good driving record\n",
      "Ability to pass a drug screen and background check is required\n",
      "Ability to obtain the appropriate pesticide license/certification if required (company paid)\n",
      "Ability to work in the field independently and interact with our great clients\n",
      "Ability to safely use a ladder within the manufacturer's weight capacity\n",
      "Ability to lift and carry up to 50 lbs.\n",
      "Safely access crawl spaces, attics, confined spaces, roof tops, etc. including the ability to climb or balance and stoop, kneel, crouch, or crawl\n",
      "Wear personal protective equipment (PPE) which sometimes requires an OSHA-compliant respirator\n",
      "Willing to work in different types of weather conditions\n",
      "Orkin is an Equal Opportunity/Protected Veterans/Individuals with Disabilities Employer\n",
      "Are you ready to join the Best in Pests? Orkin has been the industry leader for more than 120 years. Apply now!\n",
      "#ORK719IND\n",
      "Show more\n",
      "Show less\n",
      "\n",
      "================================================================================\n",
      "\n",
      "Record 7:\n",
      "Hiring Immediately for a Licensed Mental Health Counselor (LMHC)\n",
      "Needed\n",
      "We are giving a hire-on bonus for the Licensed Mental Health Counselor (LMHC) role\n",
      "We help people live their best life. We provide access to therapies for emotional health and wellness; services for substance use recovery, developmental disabilities, and acquired brain injury; services for housing and residential programming, and more. With respect, integrity, and compassion, we provide each individual served through person-driven programming to foster independence, community engagement, wellness, and recovery.\n",
      "We offer a work-life balance, the space to pursue passion projects, and the chance to get to know patients/participants!\n",
      "Are you a Licensed Mental Health Counselor (LMHC) in another state? No worries we will pay the fees for you to become licensed in the state!\n",
      "Responsibilities:\n",
      "Provide assessment and treatment planning, as well as consultation, as requested, in the development of pre-crisis and crisis plans, behavioral guidelines, risk assessments, positive behavior plans, medication treatment plans, etc.\n",
      "Complete required documentation in a timely manner, meeting regulatory standards.\n",
      "Utilize evidence-based screening tools as indicated by the clinical team.\n",
      "Work collaboratively with teams/ programs to develop and implement positive behavior support plans.\n",
      "Actively participate in all licensing and accreditation processes.\n",
      "Serve as a liaison to relevant service systems, state agencies, and community partners as needed.\n",
      "Create and maintain open and effective lines of communication in an effort to meet contract standards and promote the mission of MHA within the community.\n",
      "Establish and maintain relationships with local, state, federal, and private agencies and organizations to promote programs and to identify and secure potential new alliances, partnerships, and funding sources.\n",
      "Pursue activities to enhance personal and professional growth. Attend conferences, and classes, address groups, and represent the agency. Attend/participate in statewide meetings, task forces, committees, etc. relating to the area of expertise.\n",
      "Promote and integrate agency mission, values, philosophy, and principles.\n",
      "Perform other similar duties as assigned by the Clinic Director.\n",
      "Minimal Requirements:\n",
      "Master’s Degree in the mental health field is required\n",
      "Independent LMHC License\n",
      "Salary:\n",
      "$70,000-100,000\n",
      "Benefits:\n",
      "Monthly Productivity BONUSES\n",
      "Continued professional development\n",
      "Supervision provided with ongoing supervision available\n",
      "Team Environment\n",
      "Flexible Schedule\n",
      "PTO/Sick time\n",
      "403B with a 3% match\n",
      "1st time home buyers grant\n",
      "Health/Dental/Vision\n",
      "Dependent Care Accounts\n",
      "Hire on bonus\n",
      "We provide equal employment opportunities (EEO) to all employees and applicants for employment without regard to race, color, religion, sex, national origin, age, disability, or genetics. In addition to federal law requirements, we comply with applicable state and local laws governing nondiscrimination in employment in every location in which the company has facilities. This policy applies to all terms and conditions of employment, including recruiting, hiring, placement, promotion, termination, layoff, recall, transfer, leaves of absence, compensation and training.\n",
      "Apply now!\n",
      "Show more\n",
      "Show less\n",
      "\n",
      "================================================================================\n",
      "\n",
      "Record 8:\n",
      "Job Description\n",
      "DPR Construction is looking for a Concrete Foreman in the Charlotte, N.C. area.\n",
      "The Foreman, under the direction of the Concrete Superintendent & Project Manager carries out assignments related to concrete placement, finishing, curing and cutting, based on the proper selection of equipment, materials and finishing sequence needed to deliver an acceptable product.\n",
      "Principle Duties And Responsibilities\n",
      "REQUIRED: Experience with shoring, walls, trenching, slab on grade and foundations.\n",
      "Manage and supervise the planning, lay‐out, material storage, maintenance, and inspections of concrete finishing in accordance with all applicable plans, specifications, codes and industry standards.\n",
      "Plan and coordinate the efforts of the foremen and crewmen under his/her supervision and motivate them to accomplish the work safely, correctly and efficiently.\n",
      "Be able to perform all of the principal duties and accountabilities of craft workers under his/her supervision (general laborers/concrete form setters and concrete finishers).\n",
      "Lead and support all safety related processes and programs as requested.\n",
      "Engage with your work team to ensure we achieve zero injuries.\n",
      "Be proficient in scheduling, material control, estimating fundamentals, and job cost management in the Field Process Management System (FPMS).\n",
      "Be able to create and execute a schedule and monitor the craft employee’s work week schedule.\n",
      "Monitor/plan crew goals and proactively make changes necessary to keep crews on track with goals.\n",
      "Review and approve crew's timecards for correct hours and phase coding.\n",
      "Participate in incident investigations and report accidents and act to prevent future occurrences to project management and site safety.\n",
      "Assist in leading the investigation process as needed and review accidents and the causes with employees.\n",
      "Lead, complete, and sign off on daily pre‐job safety planning in the appropriate format. Identify safety hazards you or other employees may be subject to and take all necessary corrective action to eliminate or mitigate hazards.\n",
      "Assure all crew members understand, participate, and sign all pre‐job safety planning tools at start and end of shift.\n",
      "Understand and respond appropriately to all safety hazards and warning devices\n",
      "Follow established safety rules and regulations and maintain a safe and clean work environment.\n",
      "Use effective verbal and written communication skills.\n",
      "Listen to other employees and supervisor's suggestions, complaints, problems, safety concerns and recommendations, evaluate each and then devise and implement a plan of action based on that evaluation.\n",
      "Consult with supervisor and if needed HR on any issues.\n",
      "Plan and communicate with superintendent to assure that an adequate supply of tools, materials and equipment are available.\n",
      "Hands-on performance as needed and not limited to the placement and finish of concrete, to include finishing, curing, and cutting of concrete slabs.\n",
      "Patching and repairing of concrete work, concrete restoration and concrete joint treatments. * Applications of floor toppings.\n",
      "Ensures floor finishes meet project requirements consistent with floor flatness and floor levelness.\n",
      "Proficient in the use of the following tools and has the knowledge to use the equipment at the proper time of the place-finishing sequence: straight edges to establish grade, bull floats, mops and Highway Straight Edges, float blades, combo blades, and finish blades.\n",
      "Hand tools for floor finishing, edging, joint tooling. Single and double trowel machines.\n",
      "Curing, pump and vibratory equipment. Walk-behind trowels and double riders. Maintains up-to-date knowledge of all tools and equipment required. Ensures proper maintenance of place/finish equipment and tools.\n",
      "Work Environment: Outdoor working environment with constant exposure to extreme weather conditions: dirt, dust, fumes, and/or loud noises and high temperatures.\n",
      "Job Requirements\n",
      "Ability to read, understand and complete job related documents and forms via blue prints and use of tablet drawings and specifications.\n",
      "Know the abbreviated and common construction terms for the equipment and materials used\n",
      "Ability to calculate mathematical figures such as proportions, percentages, area, circumference, and volume\n",
      "Ability to work in a team environment\n",
      "Ability to deal with problems involving specific variables in standardized situations\n",
      "Ability to kneel, stoop, crouch, balance, climb, crawl and pull\n",
      "Must have the ability to exert heavy physical effort, handing average weight objects up to 50 pounds\n",
      "Have own transportation\n",
      "Pay based on experience and capabilities.\n",
      "Pay Based On Experience And Capabilities.\n",
      "DPR offers medical/dental/vision/life insurance and Paid Care Leave along with a 401(k) match for employees.\n",
      "DPR has been nationally recognized for its strong company culture, based on a well-defined purpose “We Exist to Build Great Things,” and four core values: integrity, enjoyment, uniqueness and ever forward. A flat, title-less organization that empowers people at all levels to make decisions, DPR ranked on FORTUNE’s “100 Best Companies to Work For” list for five consecutive years. For more information, visit http://www.dpr.com.\n",
      "Show more\n",
      "Show less\n",
      "\n",
      "================================================================================\n",
      "\n",
      "Record 9:\n",
      "Job Details\n",
      "Summary Of Responsibilities\n",
      "The Physical Therapist plans and executes rehabilitation programs to help patients return to a higher level of physical function. They also help manage or lessen the pain experienced by someone stricken with a degenerative condition or terminal disease. The Physical Therapist help patients through a combination of physical activity, reflexology, massage, and muscular and skeletal manipulation.\n",
      "Essential Functions\n",
      "Perform initial and ongoing physical therapy evaluations according to APTA Standards as well as state standards.\n",
      "Develop plan of treatment for each patient based on initial and ongoing evaluations including short- and long-term goals, collaboration demands of other staff members, and required patient and caregiver involvement.\n",
      "Implement treatment plan on a consistent schedule and adjust this schedule and plan according to patient progress.\n",
      "Document patient progress according to approved medical documentation and facility documentation procedures.\n",
      "Evaluate mobility, strength, and current level of patient function, while setting goals to improve in these areas that are scaled to patient abilities and realistically attainable.\n",
      "Report patient progress to patient, patient caregivers, and facility staff and healthcare professionals involved in ongoing treatment of patients.\n",
      "Develop a plan for patients following completion of their treatment plan with appropriate in-home care services.\n",
      "Monitors effectiveness of medication treatment, develop plan of care and provide education for patients and family members.\n",
      "Maintain professional and technical knowledge through attending educational workshops, reviewing professional publications, etc.\n",
      "Assist other facility staff members as needed to provide care and create a clean, orderly, and effective environment for rehabilitation and physical therapy.\n",
      "CORE COMPETENCIES\n",
      "Excellent oral and written communication skills\n",
      "Knowledge of responsible use of equipment, best practices for equipment use and preventative maintenance procedures.\n",
      "Strong sense of empathy and a compassionate outlook on physical therapy and the ability to motivate patients into pushing their limits in a responsible safe way.\n",
      "Experience with a wide range of patient age groups and injuries.\n",
      "High level of attention to detail\n",
      "Ability to prioritize and manage multiple tasks without direct supervision.\n",
      "Basic computer literacy and typing\n",
      "Patient focused\n",
      "Requirements\n",
      "REQUIRED EDUCATION, EXPERIENCE, AND/OR CERTIFICATIONS\n",
      "This position requires at least one year of experience providing physical therapy to patients in a fully equipped PT facility. Also required, a bachelor’s, master’s, or doctoral degree in physical therapy from a physical therapy program approved by the American Physical Therapy Association and a current physical therapy license in Arkansas.\n",
      "WORKING ENVIRONMENT AND PHYSICAL DEMANDS\n",
      "This is a full-time position. Days and hours of work are expected to fluctuate but at a minimum this position will be required to work from 8:00 a.m. to 5:00 p.m. (Monday through Thursday). and occasionally after regular business hours. Regular travel may be required. The position operates in a professional office environment and the incumbent, in the course of performing this position, spends time writing, typing, speaking, listening, driving, seeing (such as close, color and peripheral vision, depth perception and adjusted focus), standing, sitting, walking, and reaching. This positions also may require lifting, carrying, pushing, and/or pulling up to fifty (50) pounds while administering care to patients, etc.; stooping, kneeling, and/or crouching daily in delivery of patient care, obtaining equipment, etc.; standing and walking more than five (5) hours per day in administering patient care in multiple rooms; running, occasionally, in responding to patient care emergencies; and reaching, grasping, handling, and/or feeling five (5) or more hours per day in administering patient care, i.e. operating various radiologic equipment. The incumbent operates all standard office equipment, motor vehicles, and mobile phones. The work environment characteristics and physical demands described here are representative of those an employee encounters while performing the essential functions of this job.\n",
      "#ZR\n",
      "Show more\n",
      "Show less\n",
      "\n",
      "================================================================================\n",
      "\n",
      "Record 10:\n",
      "Senior Registered Manager for a group of semi-independent 16+ OFSTED regulated children's homes (LAC) Sheffield S.Yorkshire\n",
      "We are seeking a highly dedicated and experienced individual to join our team as a Senior Registered Manager for therapeutic semi-independent 16-24 years young persons home catering to Looked After Children (LAC).You will manage upto 3 /4 homes in the Sheffield Area.\n",
      "Our aim is to offer young people the support, protection and learning opportunities they require in preparation of leaving local authority care. We want to provide a platform to develop the social, emotional and practical skills that they will need to make a safe, rewarding and successful transition to adult life.\n",
      "Salary:\n",
      "£43,000-£48,000 per year plus bonus and benefits:\n",
      "Flexitime\n",
      "Work from home Schedule:\n",
      "Monday to Friday\n",
      "Sheffield: Responsibilities of Registered Manager\n",
      "As the Service Manager, you will be responsible for overseeing the overall operation of the home, ensuring the provision of a safe, supportive, and nurturing environment for the young people in our care.\n",
      "Your leadership and management skills will be instrumental in driving the delivery of high-quality care and support services, in accordance with relevant legislation, regulations, and OFSTED standards.\n",
      "Overall Management: Take overall responsibility for the management, operation, and development of the semi-independent children's home.\n",
      "Regulatory Compliance: Ensure compliance with all relevant legislation, regulations, and OFSTED standards, maintaining a good or outstanding rating for the home.\n",
      "Staff Supervision and Development: Provide leadership, supervision, and support to staff members, promoting a positive working environment and fostering continuous professional development.\n",
      "Care Planning and Assessment: Oversee the development and implementation of individual care plans for each resident, ensuring their specific needs, aspirations, and goals are met.\n",
      "Risk Management: Assess and manage risks associated with the young people in the home, implementing effective safeguarding procedures and maintaining a culture of safety.\n",
      "Partnership Working: Develop and maintain effective partnerships with local authorities, external agencies, and stakeholders, ensuring collaborative working to support positive outcomes for the young people.\n",
      "Budgeting and Resource Management: Manage the home's budget effectively, ensuring resources are allocated appropriately to meet the needs of the young people and achieve value for money.\n",
      "Reporting and Documentation: Maintain accurate and up-to-date records, preparing reports and documentation as required by OFSTED and other regulatory bodies.\n",
      "Complaints and Quality Assurance: Handle complaints in a timely and appropriate manner, implementing quality assurance measures to continually improve the service provided.\n",
      "Continuous Improvement: Stay updated with best practices, research, and developments in the field of residential care for LAC, implementing innovative approaches to enhance the quality of care.\n",
      "Qualifications And Experience Of Registered Manager\n",
      "A relevant professional qualification in social work, social care, or a related field (e.g., NVQ Level 5 in Leadership and Management for Care Services, Diploma in Leadership for Health and Social Care and Children and Young People's Services).\n",
      "Extensive experience in working with Looked After Children and young people aged 16+ within a residential care setting, with a thorough understanding of the challenges they face.\n",
      "Proven experience in a managerial or supervisory role within a residential care setting, with a track record of successful staff management and development. (Minimum 1 year)\n",
      "Strong knowledge of relevant legislation, regulations, and OFSTED requirements governing children's residential care services.\n",
      "Excellent communication, interpersonal, and leadership skills, with the ability to engage and build relationships with young people, staff, and external stakeholders.\n",
      "Sound decision-making and problem-solving abilities, with a proactive and solution-focused approach. -\n",
      "Ability to work collaboratively with multi-disciplinary teams and external agencies.\n",
      "A commitment to safeguarding and promoting the welfare of young people, adhering to the highest standards of professional conduct.\n",
      "Note: This job description provides a general outline of the key responsibilities and qualifications required for the role of the It may be subject to further customisation based on the specific needs of the organisation Job Type: Full-time Licence/Certification:\n",
      "DBS (required) For more information for the Registered Managers Role Sheffield contact Mick Hull Fieldview Care Recruitment Solutions\n",
      "Show more\n",
      "Show less\n",
      "\n",
      "================================================================================\n"
     ]
    }
   ],
   "source": [
    "for i in range(10):\n",
    "    print(f\"Record {i+1}:\")\n",
    "    print(resp_df.iloc[i]['job_summary'])\n",
    "    print(\"\\n================================================================================\\n\")"
   ],
   "metadata": {
    "collapsed": false,
    "ExecuteTime": {
     "end_time": "2025-02-28T00:54:13.685946Z",
     "start_time": "2025-02-28T00:54:13.682823Z"
    }
   },
   "id": "96b7790fa485d4d7",
   "execution_count": 9
  },
  {
   "cell_type": "markdown",
   "source": [
    "## Statistics for summary length and skill count"
   ],
   "metadata": {
    "collapsed": false
   },
   "id": "f42a2725af29abe0"
  },
  {
   "cell_type": "code",
   "outputs": [
    {
     "name": "stderr",
     "output_type": "stream",
     "text": [
      "/var/folders/t5/tflj5hjs197_vv37fw2sdhdr0000gn/T/ipykernel_11981/3804758628.py:2: SettingWithCopyWarning: \n",
      "A value is trying to be set on a copy of a slice from a DataFrame.\n",
      "Try using .loc[row_indexer,col_indexer] = value instead\n",
      "\n",
      "See the caveats in the documentation: https://pandas.pydata.org/pandas-docs/stable/user_guide/indexing.html#returning-a-view-versus-a-copy\n",
      "  resp_df.loc[:,'skill_count'] = resp_df['job_skills'].apply(lambda x: len(x.split(\",\"))).copy()\n"
     ]
    }
   ],
   "source": [
    "#Splitting job skills by comma to get skill count\n",
    "resp_df.loc[:,'skill_count'] = resp_df['job_skills'].apply(lambda x: len(x.split(\",\"))).copy()\n"
   ],
   "metadata": {
    "collapsed": false,
    "ExecuteTime": {
     "end_time": "2025-02-28T00:54:13.758746Z",
     "start_time": "2025-02-28T00:54:13.686882Z"
    }
   },
   "id": "7d62e4cefc4a8e90",
   "execution_count": 10
  },
  {
   "cell_type": "code",
   "outputs": [
    {
     "data": {
      "text/plain": "                                                    summary_len  skill_count\njob_title                                                                   \n2024 - Culinary Professionals - Assistant Kitch...         5863           69\n2024 - Culinary Professionals - Dining Hall Ser...         5593           69\nAE - Sales Leader (Full-Time) - US                         4997           46\nARNP                                                       6175           56\nASSISTANT MANAGER                                          5375           99\n...                                                         ...          ...\nWorkshop Controller                                        4703           32\nX-Ray Technologist                                         6213           41\nXfinity Retail Sales Consultant                            4972           32\nYard Associate (SkillBridge)                               2292           48\nYoga Instructor                                            3782           30\n\n[1168 rows x 2 columns]",
      "text/html": "<div>\n<style scoped>\n    .dataframe tbody tr th:only-of-type {\n        vertical-align: middle;\n    }\n\n    .dataframe tbody tr th {\n        vertical-align: top;\n    }\n\n    .dataframe thead th {\n        text-align: right;\n    }\n</style>\n<table border=\"1\" class=\"dataframe\">\n  <thead>\n    <tr style=\"text-align: right;\">\n      <th></th>\n      <th>summary_len</th>\n      <th>skill_count</th>\n    </tr>\n    <tr>\n      <th>job_title</th>\n      <th></th>\n      <th></th>\n    </tr>\n  </thead>\n  <tbody>\n    <tr>\n      <th>2024 - Culinary Professionals - Assistant Kitchen Manager / Sous Chef</th>\n      <td>5863</td>\n      <td>69</td>\n    </tr>\n    <tr>\n      <th>2024 - Culinary Professionals - Dining Hall Service Manager</th>\n      <td>5593</td>\n      <td>69</td>\n    </tr>\n    <tr>\n      <th>AE - Sales Leader (Full-Time) - US</th>\n      <td>4997</td>\n      <td>46</td>\n    </tr>\n    <tr>\n      <th>ARNP</th>\n      <td>6175</td>\n      <td>56</td>\n    </tr>\n    <tr>\n      <th>ASSISTANT MANAGER</th>\n      <td>5375</td>\n      <td>99</td>\n    </tr>\n    <tr>\n      <th>...</th>\n      <td>...</td>\n      <td>...</td>\n    </tr>\n    <tr>\n      <th>Workshop Controller</th>\n      <td>4703</td>\n      <td>32</td>\n    </tr>\n    <tr>\n      <th>X-Ray Technologist</th>\n      <td>6213</td>\n      <td>41</td>\n    </tr>\n    <tr>\n      <th>Xfinity Retail Sales Consultant</th>\n      <td>4972</td>\n      <td>32</td>\n    </tr>\n    <tr>\n      <th>Yard Associate (SkillBridge)</th>\n      <td>2292</td>\n      <td>48</td>\n    </tr>\n    <tr>\n      <th>Yoga Instructor</th>\n      <td>3782</td>\n      <td>30</td>\n    </tr>\n  </tbody>\n</table>\n<p>1168 rows × 2 columns</p>\n</div>"
     },
     "execution_count": 11,
     "metadata": {},
     "output_type": "execute_result"
    }
   ],
   "source": [
    "#getting max summary_len for each job title using groupby\n",
    "resp_df[['job_title', 'summary_len', 'skill_count']].groupby(['job_title']).aggregate({\"summary_len\":\"max\", \"skill_count\":\"max\"})"
   ],
   "metadata": {
    "collapsed": false,
    "ExecuteTime": {
     "end_time": "2025-02-28T00:54:13.772075Z",
     "start_time": "2025-02-28T00:54:13.759295Z"
    }
   },
   "id": "572b255f305ea54c",
   "execution_count": 11
  },
  {
   "cell_type": "code",
   "outputs": [
    {
     "name": "stdout",
     "output_type": "stream",
     "text": [
      "Number of unique job titles: 1168\n"
     ]
    }
   ],
   "source": [
    "print(\"Number of unique job titles:\", resp_df['job_title'].nunique())"
   ],
   "metadata": {
    "collapsed": false,
    "ExecuteTime": {
     "end_time": "2025-02-28T00:54:13.779110Z",
     "start_time": "2025-02-28T00:54:13.772805Z"
    }
   },
   "id": "9abb8ccfd40e28c4",
   "execution_count": 12
  },
  {
   "cell_type": "markdown",
   "source": [
    "The plan is to obtain 1500 records for generating synthetic resumes. Therefore, it would be better to choose the job_summary that has the most information about the job. So, for each job title, I will select the record with max. summary_len. That makes 1168 records. For the rest of the records, I will select some famous job titles like Data Engineer, Data Scientist, etc., that have the highest number of skill_count"
   ],
   "metadata": {
    "collapsed": false
   },
   "id": "4bf09e821568b004"
  },
  {
   "cell_type": "markdown",
   "source": [
    "## Final Sampling"
   ],
   "metadata": {
    "collapsed": false
   },
   "id": "a17d6b30b955c211"
  },
  {
   "cell_type": "markdown",
   "source": [
    "### Sample 1 Job per job title"
   ],
   "metadata": {
    "collapsed": false
   },
   "id": "273590fb128340f3"
  },
  {
   "cell_type": "code",
   "outputs": [
    {
     "data": {
      "text/plain": "                                               job_link  \\\n0     https://www.linkedin.com/jobs/view/2024-culina...   \n1     https://www.linkedin.com/jobs/view/2024-culina...   \n2     https://www.linkedin.com/jobs/view/ae-sales-le...   \n3     https://www.linkedin.com/jobs/view/arnp-at-fas...   \n4     https://www.linkedin.com/jobs/view/assistant-m...   \n...                                                 ...   \n1009  https://uk.linkedin.com/jobs/view/workshop-con...   \n1010  https://www.linkedin.com/jobs/view/x-ray-techn...   \n1011  https://www.linkedin.com/jobs/view/xfinity-ret...   \n1012  https://www.linkedin.com/jobs/view/yard-associ...   \n1013  https://www.linkedin.com/jobs/view/yoga-instru...   \n\n                last_processed_time got_summary got_ner is_being_worked  \\\n0      2024-01-19 14:51:42.44518+00           t       t               f   \n1     2024-01-19 12:35:58.423951+00           t       t               f   \n2     2024-01-19 09:45:09.215838+00           t       t               f   \n3     2024-01-20 11:08:01.254837+00           t       t               f   \n4     2024-01-20 03:22:05.147606+00           t       t               f   \n...                             ...         ...     ...             ...   \n1009  2024-01-19 09:45:09.215838+00           t       t               f   \n1010  2024-01-21 04:16:54.473867+00           t       t               f   \n1011  2024-01-19 23:17:04.320124+00           t       t               f   \n1012  2024-01-19 09:45:09.215838+00           t       t               f   \n1013  2024-01-19 09:45:09.215838+00           t       t               f   \n\n                                              job_title  \\\n0     2024 - Culinary Professionals - Assistant Kitc...   \n1     2024 - Culinary Professionals - Dining Hall Se...   \n2                    AE - Sales Leader (Full-Time) - US   \n3                                                  ARNP   \n4                                     ASSISTANT MANAGER   \n...                                                 ...   \n1009                                Workshop Controller   \n1010                                 X-Ray Technologist   \n1011                    Xfinity Retail Sales Consultant   \n1012                       Yard Associate (SkillBridge)   \n1013                                    Yoga Instructor   \n\n                             company  \\\n0                     Wolfoods, Inc.   \n1                     Wolfoods, Inc.   \n2     AMERICAN EAGLE OUTFITTERS INC.   \n3                   Fast Pace Health   \n4           d'Lite Healthy On The Go   \n...                              ...   \n1009          Activate Group Limited   \n1010                Fast Pace Health   \n1011        XFINITY Store by Comcast   \n1012                ARMOR Initiative   \n1013                 Active Wellness   \n\n                                   job_location  first_seen   search_city  \\\n0                                Oconomowoc, WI  2024-01-14     Wisconsin   \n1                                 Anchorage, AK  2024-01-15        Alaska   \n2                                Providence, RI  2024-01-12     Attleboro   \n3                                     Prien, LA  2024-01-14  Lake Charles   \n4                                Scottsdale, AZ  2024-01-15      Chandler   \n...                                         ...         ...           ...   \n1009  Bury St. Edmunds, England, United Kingdom  2024-01-13       Ipswich   \n1010                                  Grant, AL  2024-01-17  Guntersville   \n1011                         East Brunswick, NJ  2024-01-14   Long Branch   \n1012                            Kansas City, MO  2024-01-13   Leavenworth   \n1013                             Plantation, FL  2024-01-13      Sarasota   \n\n      search_country          search_position   job_level job_type  \\\n0      United States                Sous Chef  Mid senior   Onsite   \n1      United States           Cook Fast Food  Mid senior   Onsite   \n2      United States        Account Executive  Mid senior   Onsite   \n3      United States       Nurse Practitioner  Mid senior   Onsite   \n4      United States          Complaint Clerk  Mid senior   Onsite   \n...              ...                      ...         ...      ...   \n1009  United Kingdom               Controller  Mid senior   Onsite   \n1010   United States  Ultrasound Technologist  Mid senior   Onsite   \n1011   United States   Sales-Service Promoter  Mid senior   Onsite   \n1012   United States                  Orderly   Associate   Onsite   \n1013   United States               Instructor  Mid senior   Onsite   \n\n                                             job_skills  \\\n0     Culinary Skills, Scratch Food Production, Supe...   \n1     Project Management, Control Inventory, Communi...   \n2     Sales Leadership, LOD (Leader on Duty), Guest ...   \n3     Family Nurse Practitioner, Teamwork, Communica...   \n4     Restaurant management, Leadership, Customer se...   \n...                                                 ...   \n1009  Workshop Control, Body Shop Management, HighQu...   \n1010  XRay Technologist, HIPAA, Patient intake, Nurs...   \n1011  Customer service, Product demonstration, Probl...   \n1012  DoD SkillBridge Internship, Fulltime training,...   \n1013  Yoga, Pranayama, Handson direction, Safe and e...   \n\n                                            job_summary       id  summary_len  \\\n0     Wolfoods operates summer camp kitchens across ...    62736         5863   \n1     Wolfoods operates summer camp kitchens across ...    34791         5593   \n2     BE PART OF SOMETHING\\nREAL\\nYOUR ROLE\\nAs the ...   623445         4994   \n3     Posting Title: Family Nurse Practitioner Overv...   955798         6118   \n4     Location: Scottsdale, AZ\\nEmployment Type: Ful...    13071         5375   \n...                                                 ...      ...          ...   \n1009  Job title: Workshop Controller\\nDepartment: Ac...   321651         4703   \n1010  Posting Title: X-Ray Technologist Overview:\\nF...  1230454         5704   \n1011  Job Summary\\nResponsible for assisting and con...   159258         4839   \n1012  The ARMOR Initiative DoD SkillBridge Internshi...   774643         2277   \n1013  Job Description\\nJob Title: Yoga Instructor\\nP...   700821         3452   \n\n      skill_count  \n0              30  \n1              43  \n2              30  \n3              31  \n4              43  \n...           ...  \n1009           32  \n1010           38  \n1011           32  \n1012           30  \n1013           30  \n\n[1008 rows x 19 columns]",
      "text/html": "<div>\n<style scoped>\n    .dataframe tbody tr th:only-of-type {\n        vertical-align: middle;\n    }\n\n    .dataframe tbody tr th {\n        vertical-align: top;\n    }\n\n    .dataframe thead th {\n        text-align: right;\n    }\n</style>\n<table border=\"1\" class=\"dataframe\">\n  <thead>\n    <tr style=\"text-align: right;\">\n      <th></th>\n      <th>job_link</th>\n      <th>last_processed_time</th>\n      <th>got_summary</th>\n      <th>got_ner</th>\n      <th>is_being_worked</th>\n      <th>job_title</th>\n      <th>company</th>\n      <th>job_location</th>\n      <th>first_seen</th>\n      <th>search_city</th>\n      <th>search_country</th>\n      <th>search_position</th>\n      <th>job_level</th>\n      <th>job_type</th>\n      <th>job_skills</th>\n      <th>job_summary</th>\n      <th>id</th>\n      <th>summary_len</th>\n      <th>skill_count</th>\n    </tr>\n  </thead>\n  <tbody>\n    <tr>\n      <th>0</th>\n      <td>https://www.linkedin.com/jobs/view/2024-culina...</td>\n      <td>2024-01-19 14:51:42.44518+00</td>\n      <td>t</td>\n      <td>t</td>\n      <td>f</td>\n      <td>2024 - Culinary Professionals - Assistant Kitc...</td>\n      <td>Wolfoods, Inc.</td>\n      <td>Oconomowoc, WI</td>\n      <td>2024-01-14</td>\n      <td>Wisconsin</td>\n      <td>United States</td>\n      <td>Sous Chef</td>\n      <td>Mid senior</td>\n      <td>Onsite</td>\n      <td>Culinary Skills, Scratch Food Production, Supe...</td>\n      <td>Wolfoods operates summer camp kitchens across ...</td>\n      <td>62736</td>\n      <td>5863</td>\n      <td>30</td>\n    </tr>\n    <tr>\n      <th>1</th>\n      <td>https://www.linkedin.com/jobs/view/2024-culina...</td>\n      <td>2024-01-19 12:35:58.423951+00</td>\n      <td>t</td>\n      <td>t</td>\n      <td>f</td>\n      <td>2024 - Culinary Professionals - Dining Hall Se...</td>\n      <td>Wolfoods, Inc.</td>\n      <td>Anchorage, AK</td>\n      <td>2024-01-15</td>\n      <td>Alaska</td>\n      <td>United States</td>\n      <td>Cook Fast Food</td>\n      <td>Mid senior</td>\n      <td>Onsite</td>\n      <td>Project Management, Control Inventory, Communi...</td>\n      <td>Wolfoods operates summer camp kitchens across ...</td>\n      <td>34791</td>\n      <td>5593</td>\n      <td>43</td>\n    </tr>\n    <tr>\n      <th>2</th>\n      <td>https://www.linkedin.com/jobs/view/ae-sales-le...</td>\n      <td>2024-01-19 09:45:09.215838+00</td>\n      <td>t</td>\n      <td>t</td>\n      <td>f</td>\n      <td>AE - Sales Leader (Full-Time) - US</td>\n      <td>AMERICAN EAGLE OUTFITTERS INC.</td>\n      <td>Providence, RI</td>\n      <td>2024-01-12</td>\n      <td>Attleboro</td>\n      <td>United States</td>\n      <td>Account Executive</td>\n      <td>Mid senior</td>\n      <td>Onsite</td>\n      <td>Sales Leadership, LOD (Leader on Duty), Guest ...</td>\n      <td>BE PART OF SOMETHING\\nREAL\\nYOUR ROLE\\nAs the ...</td>\n      <td>623445</td>\n      <td>4994</td>\n      <td>30</td>\n    </tr>\n    <tr>\n      <th>3</th>\n      <td>https://www.linkedin.com/jobs/view/arnp-at-fas...</td>\n      <td>2024-01-20 11:08:01.254837+00</td>\n      <td>t</td>\n      <td>t</td>\n      <td>f</td>\n      <td>ARNP</td>\n      <td>Fast Pace Health</td>\n      <td>Prien, LA</td>\n      <td>2024-01-14</td>\n      <td>Lake Charles</td>\n      <td>United States</td>\n      <td>Nurse Practitioner</td>\n      <td>Mid senior</td>\n      <td>Onsite</td>\n      <td>Family Nurse Practitioner, Teamwork, Communica...</td>\n      <td>Posting Title: Family Nurse Practitioner Overv...</td>\n      <td>955798</td>\n      <td>6118</td>\n      <td>31</td>\n    </tr>\n    <tr>\n      <th>4</th>\n      <td>https://www.linkedin.com/jobs/view/assistant-m...</td>\n      <td>2024-01-20 03:22:05.147606+00</td>\n      <td>t</td>\n      <td>t</td>\n      <td>f</td>\n      <td>ASSISTANT MANAGER</td>\n      <td>d'Lite Healthy On The Go</td>\n      <td>Scottsdale, AZ</td>\n      <td>2024-01-15</td>\n      <td>Chandler</td>\n      <td>United States</td>\n      <td>Complaint Clerk</td>\n      <td>Mid senior</td>\n      <td>Onsite</td>\n      <td>Restaurant management, Leadership, Customer se...</td>\n      <td>Location: Scottsdale, AZ\\nEmployment Type: Ful...</td>\n      <td>13071</td>\n      <td>5375</td>\n      <td>43</td>\n    </tr>\n    <tr>\n      <th>...</th>\n      <td>...</td>\n      <td>...</td>\n      <td>...</td>\n      <td>...</td>\n      <td>...</td>\n      <td>...</td>\n      <td>...</td>\n      <td>...</td>\n      <td>...</td>\n      <td>...</td>\n      <td>...</td>\n      <td>...</td>\n      <td>...</td>\n      <td>...</td>\n      <td>...</td>\n      <td>...</td>\n      <td>...</td>\n      <td>...</td>\n      <td>...</td>\n    </tr>\n    <tr>\n      <th>1009</th>\n      <td>https://uk.linkedin.com/jobs/view/workshop-con...</td>\n      <td>2024-01-19 09:45:09.215838+00</td>\n      <td>t</td>\n      <td>t</td>\n      <td>f</td>\n      <td>Workshop Controller</td>\n      <td>Activate Group Limited</td>\n      <td>Bury St. Edmunds, England, United Kingdom</td>\n      <td>2024-01-13</td>\n      <td>Ipswich</td>\n      <td>United Kingdom</td>\n      <td>Controller</td>\n      <td>Mid senior</td>\n      <td>Onsite</td>\n      <td>Workshop Control, Body Shop Management, HighQu...</td>\n      <td>Job title: Workshop Controller\\nDepartment: Ac...</td>\n      <td>321651</td>\n      <td>4703</td>\n      <td>32</td>\n    </tr>\n    <tr>\n      <th>1010</th>\n      <td>https://www.linkedin.com/jobs/view/x-ray-techn...</td>\n      <td>2024-01-21 04:16:54.473867+00</td>\n      <td>t</td>\n      <td>t</td>\n      <td>f</td>\n      <td>X-Ray Technologist</td>\n      <td>Fast Pace Health</td>\n      <td>Grant, AL</td>\n      <td>2024-01-17</td>\n      <td>Guntersville</td>\n      <td>United States</td>\n      <td>Ultrasound Technologist</td>\n      <td>Mid senior</td>\n      <td>Onsite</td>\n      <td>XRay Technologist, HIPAA, Patient intake, Nurs...</td>\n      <td>Posting Title: X-Ray Technologist Overview:\\nF...</td>\n      <td>1230454</td>\n      <td>5704</td>\n      <td>38</td>\n    </tr>\n    <tr>\n      <th>1011</th>\n      <td>https://www.linkedin.com/jobs/view/xfinity-ret...</td>\n      <td>2024-01-19 23:17:04.320124+00</td>\n      <td>t</td>\n      <td>t</td>\n      <td>f</td>\n      <td>Xfinity Retail Sales Consultant</td>\n      <td>XFINITY Store by Comcast</td>\n      <td>East Brunswick, NJ</td>\n      <td>2024-01-14</td>\n      <td>Long Branch</td>\n      <td>United States</td>\n      <td>Sales-Service Promoter</td>\n      <td>Mid senior</td>\n      <td>Onsite</td>\n      <td>Customer service, Product demonstration, Probl...</td>\n      <td>Job Summary\\nResponsible for assisting and con...</td>\n      <td>159258</td>\n      <td>4839</td>\n      <td>32</td>\n    </tr>\n    <tr>\n      <th>1012</th>\n      <td>https://www.linkedin.com/jobs/view/yard-associ...</td>\n      <td>2024-01-19 09:45:09.215838+00</td>\n      <td>t</td>\n      <td>t</td>\n      <td>f</td>\n      <td>Yard Associate (SkillBridge)</td>\n      <td>ARMOR Initiative</td>\n      <td>Kansas City, MO</td>\n      <td>2024-01-13</td>\n      <td>Leavenworth</td>\n      <td>United States</td>\n      <td>Orderly</td>\n      <td>Associate</td>\n      <td>Onsite</td>\n      <td>DoD SkillBridge Internship, Fulltime training,...</td>\n      <td>The ARMOR Initiative DoD SkillBridge Internshi...</td>\n      <td>774643</td>\n      <td>2277</td>\n      <td>30</td>\n    </tr>\n    <tr>\n      <th>1013</th>\n      <td>https://www.linkedin.com/jobs/view/yoga-instru...</td>\n      <td>2024-01-19 09:45:09.215838+00</td>\n      <td>t</td>\n      <td>t</td>\n      <td>f</td>\n      <td>Yoga Instructor</td>\n      <td>Active Wellness</td>\n      <td>Plantation, FL</td>\n      <td>2024-01-13</td>\n      <td>Sarasota</td>\n      <td>United States</td>\n      <td>Instructor</td>\n      <td>Mid senior</td>\n      <td>Onsite</td>\n      <td>Yoga, Pranayama, Handson direction, Safe and e...</td>\n      <td>Job Description\\nJob Title: Yoga Instructor\\nP...</td>\n      <td>700821</td>\n      <td>3452</td>\n      <td>30</td>\n    </tr>\n  </tbody>\n</table>\n<p>1008 rows × 19 columns</p>\n</div>"
     },
     "execution_count": 13,
     "metadata": {},
     "output_type": "execute_result"
    }
   ],
   "source": [
    "#Getting job that has maximum length job_summary for each job title\n",
    "temp = resp_df[resp_df['skill_count'] >=30].copy()\n",
    "resp_df_max = temp.loc[temp.groupby('job_title')['summary_len'].idxmax()].reset_index(drop=True).copy()\n",
    "resp_df_max = resp_df_max.drop_duplicates(keep='first', subset=['job_summary'])\n",
    "resp_df_max"
   ],
   "metadata": {
    "collapsed": false,
    "ExecuteTime": {
     "end_time": "2025-02-28T00:54:13.805632Z",
     "start_time": "2025-02-28T00:54:13.780280Z"
    }
   },
   "id": "7d68c9ee063359e1",
   "execution_count": 13
  },
  {
   "cell_type": "markdown",
   "source": [
    "### Sampling remaining 339 Jobs"
   ],
   "metadata": {
    "collapsed": false
   },
   "id": "6d958dc3e88232fc"
  },
  {
   "cell_type": "code",
   "outputs": [],
   "source": [
    "#Getting Series of unique job_titles\n",
    "job_titles = resp_df['job_title'].value_counts().index"
   ],
   "metadata": {
    "collapsed": false,
    "ExecuteTime": {
     "end_time": "2025-02-28T00:54:13.811257Z",
     "start_time": "2025-02-28T00:54:13.806266Z"
    }
   },
   "id": "150ede3393d2b711",
   "execution_count": 14
  },
  {
   "cell_type": "code",
   "outputs": [
    {
     "data": {
      "text/plain": "50"
     },
     "execution_count": 15,
     "metadata": {},
     "output_type": "execute_result"
    }
   ],
   "source": [
    "#Gathering other job titles\n",
    "title_subset = job_titles[job_titles.str.contains(\"Data\")].tolist() + job_titles[job_titles.str.contains(\"Software\")].tolist() + job_titles[job_titles.str.contains(\"Research\")].tolist() + job_titles[job_titles.str.contains(\"Generative\")].tolist() + job_titles[job_titles.str.contains(\"System\")].tolist() + job_titles[job_titles.str.contains(\"UX\")].tolist()\n",
    "\n",
    "len(title_subset)"
   ],
   "metadata": {
    "collapsed": false,
    "ExecuteTime": {
     "end_time": "2025-02-28T00:54:13.816005Z",
     "start_time": "2025-02-28T00:54:13.811974Z"
    }
   },
   "id": "5cf2b8e87956dee5",
   "execution_count": 15
  },
  {
   "cell_type": "code",
   "outputs": [
    {
     "data": {
      "text/plain": "                                                 job_link  \\\n34064   https://www.linkedin.com/jobs/view/software-ar...   \n63847   https://www.linkedin.com/jobs/view/senior-syst...   \n106562  https://www.linkedin.com/jobs/view/senior-data...   \n97378   https://www.linkedin.com/jobs/view/distinguish...   \n115276  https://www.linkedin.com/jobs/view/systems-adm...   \n...                                                   ...   \n112773  https://www.linkedin.com/jobs/view/business-sy...   \n63885   https://www.linkedin.com/jobs/view/software-ar...   \n52900   https://www.linkedin.com/jobs/view/principal-s...   \n15817   https://uk.linkedin.com/jobs/view/lead-systems...   \n57584   https://www.linkedin.com/jobs/view/senior-data...   \n\n                  last_processed_time got_summary got_ner is_being_worked  \\\n34064   2024-01-19 09:45:09.215838+00           t       t               f   \n63847   2024-01-19 09:45:09.215838+00           t       t               f   \n106562  2024-01-20 11:15:59.804413+00           t       t               f   \n97378   2024-01-19 22:25:24.801979+00           t       t               f   \n115276   2024-01-21 01:06:09.90334+00           t       t               f   \n...                               ...         ...     ...             ...   \n112773   2024-01-20 16:33:23.92565+00           t       t               f   \n63885   2024-01-19 09:45:09.215838+00           t       t               f   \n52900   2024-01-19 09:45:09.215838+00           t       t               f   \n15817   2024-01-19 23:23:21.954466+00           t       t               f   \n57584   2024-01-19 09:45:09.215838+00           t       t               f   \n\n                               job_title                company  \\\n34064                 Software Architect        Harris Computer   \n63847             Senior System Engineer                 ExLabs   \n106562             Senior Data Scientist  Workforce Connections   \n97378   Distinguished Applied Researcher      Jobs for Humanity   \n115276             Systems Administrator                 Leidos   \n...                                  ...                    ...   \n112773          Business Systems Analyst           SPECTRAFORCE   \n63885                 Software Architect   Software People Inc.   \n52900        Principal Software Engineer      Syrinx Consulting   \n15817              Lead Systems Engineer              Matchtech   \n57584               Senior Data Engineer             Bio-Techne   \n\n                                job_location  first_seen    search_city  \\\n34064                 Florida, United States  2024-01-13  Beverly Hills   \n63847                         Long Beach, CA  2024-01-13        Compton   \n106562                          St Louis, MO  2024-01-14     Belleville   \n97378                         Fort Worth, TX  2024-01-15     Fort Worth   \n115276                  Colorado Springs, CO  2024-01-14  Cripple Creek   \n...                                      ...         ...            ...   \n112773                           Seattle, WA  2024-01-14         Summit   \n63885                             Albany, NY  2024-01-13         Cohoes   \n52900                            Bedford, MA  2024-01-13      Haverhill   \n15817   Farnborough, England, United Kingdom  2024-01-14        Reading   \n57584                         Centennial, CO  2024-01-13         Aurora   \n\n        search_country                    search_position   job_level  \\\n34064    United States                 Director Technical  Mid senior   \n63847    United States           Maintenance Data Analyst  Mid senior   \n106562   United States                            Chemist  Mid senior   \n97378    United States                  Director Research  Mid senior   \n115276   United States                               Tier  Mid senior   \n...                ...                                ...         ...   \n112773   United States                    Systems Analyst  Mid senior   \n63885    United States                              Guide  Mid senior   \n52900    United States  Computer Systems Hardware Analyst  Mid senior   \n15817   United Kingdom  Computer Systems Hardware Analyst  Mid senior   \n57584    United States            Data Base Administrator  Mid senior   \n\n       job_type                                         job_skills  \\\n34064    Onsite  Product architecture, Engineering processes, C...   \n63847    Onsite  Systems engineering, Technical oversight, Requ...   \n106562   Onsite  Data Science, Data Analysis, Machine Learning,...   \n97378    Onsite  AI, Applied Research, Machine Learning, Natura...   \n115276   Onsite  System Administration, IT Operating Systems, C...   \n...         ...                                                ...   \n112773   Onsite  Business Systems Analyst, SuccessFactors Emplo...   \n63885    Onsite  Systems Architecture, Enterprise Architecture,...   \n52900    Onsite  Agile Development, Software Development, Techn...   \n15817    Onsite  Security Clearance, Systems Engineering, Proje...   \n57584    Onsite  Data Pipeline Architecture, Data Flow Optimiza...   \n\n                                              job_summary       id  \\\n34064   As Architect you will define the products’ hig...   340370   \n63847   Job Title: Sr. System Engineer\\nCompany: ExLab...   640026   \n106562  Location: Onsite, St. Louis MO 63146\\nJob Resp...  1096469   \n97378   Company Description\\nJobs for Humanity is part...   998553   \n115276  Description\\nThe Leidos Digital Modernization ...  1189859   \n...                                                   ...      ...   \n112773  Job Title- Business Systems Analyst\\nDuration-...  1162353   \n63885   Client: New York State Office of the State Com...   640468   \n52900   In this role, you will work in an agile develo...   522773   \n15817   Overview\\nImportant:\\nAll applicants must be a...   160544   \n57584   Job Details\\nLevel\\nSenior\\nJob Location\\nCent...   572221   \n\n        summary_len  skill_count  \n34064          6407           33  \n63847          6308           32  \n106562         3635           30  \n97378          4011           34  \n115276         4117           31  \n...             ...          ...  \n112773         3214           37  \n63885          3501           40  \n52900          2968           31  \n15817          3683           49  \n57584          5128           40  \n\n[492 rows x 19 columns]",
      "text/html": "<div>\n<style scoped>\n    .dataframe tbody tr th:only-of-type {\n        vertical-align: middle;\n    }\n\n    .dataframe tbody tr th {\n        vertical-align: top;\n    }\n\n    .dataframe thead th {\n        text-align: right;\n    }\n</style>\n<table border=\"1\" class=\"dataframe\">\n  <thead>\n    <tr style=\"text-align: right;\">\n      <th></th>\n      <th>job_link</th>\n      <th>last_processed_time</th>\n      <th>got_summary</th>\n      <th>got_ner</th>\n      <th>is_being_worked</th>\n      <th>job_title</th>\n      <th>company</th>\n      <th>job_location</th>\n      <th>first_seen</th>\n      <th>search_city</th>\n      <th>search_country</th>\n      <th>search_position</th>\n      <th>job_level</th>\n      <th>job_type</th>\n      <th>job_skills</th>\n      <th>job_summary</th>\n      <th>id</th>\n      <th>summary_len</th>\n      <th>skill_count</th>\n    </tr>\n  </thead>\n  <tbody>\n    <tr>\n      <th>34064</th>\n      <td>https://www.linkedin.com/jobs/view/software-ar...</td>\n      <td>2024-01-19 09:45:09.215838+00</td>\n      <td>t</td>\n      <td>t</td>\n      <td>f</td>\n      <td>Software Architect</td>\n      <td>Harris Computer</td>\n      <td>Florida, United States</td>\n      <td>2024-01-13</td>\n      <td>Beverly Hills</td>\n      <td>United States</td>\n      <td>Director Technical</td>\n      <td>Mid senior</td>\n      <td>Onsite</td>\n      <td>Product architecture, Engineering processes, C...</td>\n      <td>As Architect you will define the products’ hig...</td>\n      <td>340370</td>\n      <td>6407</td>\n      <td>33</td>\n    </tr>\n    <tr>\n      <th>63847</th>\n      <td>https://www.linkedin.com/jobs/view/senior-syst...</td>\n      <td>2024-01-19 09:45:09.215838+00</td>\n      <td>t</td>\n      <td>t</td>\n      <td>f</td>\n      <td>Senior System Engineer</td>\n      <td>ExLabs</td>\n      <td>Long Beach, CA</td>\n      <td>2024-01-13</td>\n      <td>Compton</td>\n      <td>United States</td>\n      <td>Maintenance Data Analyst</td>\n      <td>Mid senior</td>\n      <td>Onsite</td>\n      <td>Systems engineering, Technical oversight, Requ...</td>\n      <td>Job Title: Sr. System Engineer\\nCompany: ExLab...</td>\n      <td>640026</td>\n      <td>6308</td>\n      <td>32</td>\n    </tr>\n    <tr>\n      <th>106562</th>\n      <td>https://www.linkedin.com/jobs/view/senior-data...</td>\n      <td>2024-01-20 11:15:59.804413+00</td>\n      <td>t</td>\n      <td>t</td>\n      <td>f</td>\n      <td>Senior Data Scientist</td>\n      <td>Workforce Connections</td>\n      <td>St Louis, MO</td>\n      <td>2024-01-14</td>\n      <td>Belleville</td>\n      <td>United States</td>\n      <td>Chemist</td>\n      <td>Mid senior</td>\n      <td>Onsite</td>\n      <td>Data Science, Data Analysis, Machine Learning,...</td>\n      <td>Location: Onsite, St. Louis MO 63146\\nJob Resp...</td>\n      <td>1096469</td>\n      <td>3635</td>\n      <td>30</td>\n    </tr>\n    <tr>\n      <th>97378</th>\n      <td>https://www.linkedin.com/jobs/view/distinguish...</td>\n      <td>2024-01-19 22:25:24.801979+00</td>\n      <td>t</td>\n      <td>t</td>\n      <td>f</td>\n      <td>Distinguished Applied Researcher</td>\n      <td>Jobs for Humanity</td>\n      <td>Fort Worth, TX</td>\n      <td>2024-01-15</td>\n      <td>Fort Worth</td>\n      <td>United States</td>\n      <td>Director Research</td>\n      <td>Mid senior</td>\n      <td>Onsite</td>\n      <td>AI, Applied Research, Machine Learning, Natura...</td>\n      <td>Company Description\\nJobs for Humanity is part...</td>\n      <td>998553</td>\n      <td>4011</td>\n      <td>34</td>\n    </tr>\n    <tr>\n      <th>115276</th>\n      <td>https://www.linkedin.com/jobs/view/systems-adm...</td>\n      <td>2024-01-21 01:06:09.90334+00</td>\n      <td>t</td>\n      <td>t</td>\n      <td>f</td>\n      <td>Systems Administrator</td>\n      <td>Leidos</td>\n      <td>Colorado Springs, CO</td>\n      <td>2024-01-14</td>\n      <td>Cripple Creek</td>\n      <td>United States</td>\n      <td>Tier</td>\n      <td>Mid senior</td>\n      <td>Onsite</td>\n      <td>System Administration, IT Operating Systems, C...</td>\n      <td>Description\\nThe Leidos Digital Modernization ...</td>\n      <td>1189859</td>\n      <td>4117</td>\n      <td>31</td>\n    </tr>\n    <tr>\n      <th>...</th>\n      <td>...</td>\n      <td>...</td>\n      <td>...</td>\n      <td>...</td>\n      <td>...</td>\n      <td>...</td>\n      <td>...</td>\n      <td>...</td>\n      <td>...</td>\n      <td>...</td>\n      <td>...</td>\n      <td>...</td>\n      <td>...</td>\n      <td>...</td>\n      <td>...</td>\n      <td>...</td>\n      <td>...</td>\n      <td>...</td>\n      <td>...</td>\n    </tr>\n    <tr>\n      <th>112773</th>\n      <td>https://www.linkedin.com/jobs/view/business-sy...</td>\n      <td>2024-01-20 16:33:23.92565+00</td>\n      <td>t</td>\n      <td>t</td>\n      <td>f</td>\n      <td>Business Systems Analyst</td>\n      <td>SPECTRAFORCE</td>\n      <td>Seattle, WA</td>\n      <td>2024-01-14</td>\n      <td>Summit</td>\n      <td>United States</td>\n      <td>Systems Analyst</td>\n      <td>Mid senior</td>\n      <td>Onsite</td>\n      <td>Business Systems Analyst, SuccessFactors Emplo...</td>\n      <td>Job Title- Business Systems Analyst\\nDuration-...</td>\n      <td>1162353</td>\n      <td>3214</td>\n      <td>37</td>\n    </tr>\n    <tr>\n      <th>63885</th>\n      <td>https://www.linkedin.com/jobs/view/software-ar...</td>\n      <td>2024-01-19 09:45:09.215838+00</td>\n      <td>t</td>\n      <td>t</td>\n      <td>f</td>\n      <td>Software Architect</td>\n      <td>Software People Inc.</td>\n      <td>Albany, NY</td>\n      <td>2024-01-13</td>\n      <td>Cohoes</td>\n      <td>United States</td>\n      <td>Guide</td>\n      <td>Mid senior</td>\n      <td>Onsite</td>\n      <td>Systems Architecture, Enterprise Architecture,...</td>\n      <td>Client: New York State Office of the State Com...</td>\n      <td>640468</td>\n      <td>3501</td>\n      <td>40</td>\n    </tr>\n    <tr>\n      <th>52900</th>\n      <td>https://www.linkedin.com/jobs/view/principal-s...</td>\n      <td>2024-01-19 09:45:09.215838+00</td>\n      <td>t</td>\n      <td>t</td>\n      <td>f</td>\n      <td>Principal Software Engineer</td>\n      <td>Syrinx Consulting</td>\n      <td>Bedford, MA</td>\n      <td>2024-01-13</td>\n      <td>Haverhill</td>\n      <td>United States</td>\n      <td>Computer Systems Hardware Analyst</td>\n      <td>Mid senior</td>\n      <td>Onsite</td>\n      <td>Agile Development, Software Development, Techn...</td>\n      <td>In this role, you will work in an agile develo...</td>\n      <td>522773</td>\n      <td>2968</td>\n      <td>31</td>\n    </tr>\n    <tr>\n      <th>15817</th>\n      <td>https://uk.linkedin.com/jobs/view/lead-systems...</td>\n      <td>2024-01-19 23:23:21.954466+00</td>\n      <td>t</td>\n      <td>t</td>\n      <td>f</td>\n      <td>Lead Systems Engineer</td>\n      <td>Matchtech</td>\n      <td>Farnborough, England, United Kingdom</td>\n      <td>2024-01-14</td>\n      <td>Reading</td>\n      <td>United Kingdom</td>\n      <td>Computer Systems Hardware Analyst</td>\n      <td>Mid senior</td>\n      <td>Onsite</td>\n      <td>Security Clearance, Systems Engineering, Proje...</td>\n      <td>Overview\\nImportant:\\nAll applicants must be a...</td>\n      <td>160544</td>\n      <td>3683</td>\n      <td>49</td>\n    </tr>\n    <tr>\n      <th>57584</th>\n      <td>https://www.linkedin.com/jobs/view/senior-data...</td>\n      <td>2024-01-19 09:45:09.215838+00</td>\n      <td>t</td>\n      <td>t</td>\n      <td>f</td>\n      <td>Senior Data Engineer</td>\n      <td>Bio-Techne</td>\n      <td>Centennial, CO</td>\n      <td>2024-01-13</td>\n      <td>Aurora</td>\n      <td>United States</td>\n      <td>Data Base Administrator</td>\n      <td>Mid senior</td>\n      <td>Onsite</td>\n      <td>Data Pipeline Architecture, Data Flow Optimiza...</td>\n      <td>Job Details\\nLevel\\nSenior\\nJob Location\\nCent...</td>\n      <td>572221</td>\n      <td>5128</td>\n      <td>40</td>\n    </tr>\n  </tbody>\n</table>\n<p>492 rows × 19 columns</p>\n</div>"
     },
     "execution_count": 16,
     "metadata": {},
     "output_type": "execute_result"
    }
   ],
   "source": [
    "# Filter the DataFrame first\n",
    "filtered_resp_df = resp_df[(resp_df['job_title'].isin(title_subset)) & (resp_df['skill_count'] >= 30) & (~resp_df['id'].isin(resp_df_max['id']))]\n",
    "\n",
    "# Check if you have at least 339 records to sample\n",
    "if len(filtered_resp_df) >= 492:\n",
    "    resp_df_sample = filtered_resp_df.sample(n=492, random_state=32)\n",
    "else:\n",
    "    resp_df_sample = filtered_resp_df  # or handle this case as required\n",
    "    print(f\"Warning: Only {len(resp_df_sample)} records available; fewer than 492.\")\n",
    "\n",
    "resp_df_sample"
   ],
   "metadata": {
    "collapsed": false,
    "ExecuteTime": {
     "end_time": "2025-02-28T00:54:13.827541Z",
     "start_time": "2025-02-28T00:54:13.816608Z"
    }
   },
   "id": "518bd15974637e2a",
   "execution_count": 16
  },
  {
   "cell_type": "code",
   "outputs": [
    {
     "data": {
      "text/plain": "                                               job_link  \\\n0     https://www.linkedin.com/jobs/view/software-ar...   \n1     https://www.linkedin.com/jobs/view/senior-syst...   \n2     https://www.linkedin.com/jobs/view/senior-data...   \n3     https://www.linkedin.com/jobs/view/distinguish...   \n4     https://www.linkedin.com/jobs/view/systems-adm...   \n...                                                 ...   \n1495  https://uk.linkedin.com/jobs/view/workshop-con...   \n1496  https://www.linkedin.com/jobs/view/x-ray-techn...   \n1497  https://www.linkedin.com/jobs/view/xfinity-ret...   \n1498  https://www.linkedin.com/jobs/view/yard-associ...   \n1499  https://www.linkedin.com/jobs/view/yoga-instru...   \n\n                last_processed_time got_summary got_ner is_being_worked  \\\n0     2024-01-19 09:45:09.215838+00           t       t               f   \n1     2024-01-19 09:45:09.215838+00           t       t               f   \n2     2024-01-20 11:15:59.804413+00           t       t               f   \n3     2024-01-19 22:25:24.801979+00           t       t               f   \n4      2024-01-21 01:06:09.90334+00           t       t               f   \n...                             ...         ...     ...             ...   \n1495  2024-01-19 09:45:09.215838+00           t       t               f   \n1496  2024-01-21 04:16:54.473867+00           t       t               f   \n1497  2024-01-19 23:17:04.320124+00           t       t               f   \n1498  2024-01-19 09:45:09.215838+00           t       t               f   \n1499  2024-01-19 09:45:09.215838+00           t       t               f   \n\n                             job_title                   company  \\\n0                   Software Architect           Harris Computer   \n1               Senior System Engineer                    ExLabs   \n2                Senior Data Scientist     Workforce Connections   \n3     Distinguished Applied Researcher         Jobs for Humanity   \n4                Systems Administrator                    Leidos   \n...                                ...                       ...   \n1495               Workshop Controller    Activate Group Limited   \n1496                X-Ray Technologist          Fast Pace Health   \n1497   Xfinity Retail Sales Consultant  XFINITY Store by Comcast   \n1498      Yard Associate (SkillBridge)          ARMOR Initiative   \n1499                   Yoga Instructor           Active Wellness   \n\n                                   job_location  first_seen    search_city  \\\n0                        Florida, United States  2024-01-13  Beverly Hills   \n1                                Long Beach, CA  2024-01-13        Compton   \n2                                  St Louis, MO  2024-01-14     Belleville   \n3                                Fort Worth, TX  2024-01-15     Fort Worth   \n4                          Colorado Springs, CO  2024-01-14  Cripple Creek   \n...                                         ...         ...            ...   \n1495  Bury St. Edmunds, England, United Kingdom  2024-01-13        Ipswich   \n1496                                  Grant, AL  2024-01-17   Guntersville   \n1497                         East Brunswick, NJ  2024-01-14    Long Branch   \n1498                            Kansas City, MO  2024-01-13    Leavenworth   \n1499                             Plantation, FL  2024-01-13       Sarasota   \n\n      search_country           search_position   job_level job_type  \\\n0      United States        Director Technical  Mid senior   Onsite   \n1      United States  Maintenance Data Analyst  Mid senior   Onsite   \n2      United States                   Chemist  Mid senior   Onsite   \n3      United States         Director Research  Mid senior   Onsite   \n4      United States                      Tier  Mid senior   Onsite   \n...              ...                       ...         ...      ...   \n1495  United Kingdom                Controller  Mid senior   Onsite   \n1496   United States   Ultrasound Technologist  Mid senior   Onsite   \n1497   United States    Sales-Service Promoter  Mid senior   Onsite   \n1498   United States                   Orderly   Associate   Onsite   \n1499   United States                Instructor  Mid senior   Onsite   \n\n                                             job_skills  \\\n0     Product architecture, Engineering processes, C...   \n1     Systems engineering, Technical oversight, Requ...   \n2     Data Science, Data Analysis, Machine Learning,...   \n3     AI, Applied Research, Machine Learning, Natura...   \n4     System Administration, IT Operating Systems, C...   \n...                                                 ...   \n1495  Workshop Control, Body Shop Management, HighQu...   \n1496  XRay Technologist, HIPAA, Patient intake, Nurs...   \n1497  Customer service, Product demonstration, Probl...   \n1498  DoD SkillBridge Internship, Fulltime training,...   \n1499  Yoga, Pranayama, Handson direction, Safe and e...   \n\n                                            job_summary       id  summary_len  \\\n0     As Architect you will define the products’ hig...   340370         6407   \n1     Job Title: Sr. System Engineer\\nCompany: ExLab...   640026         6308   \n2     Location: Onsite, St. Louis MO 63146\\nJob Resp...  1096469         3635   \n3     Company Description\\nJobs for Humanity is part...   998553         4011   \n4     Description\\nThe Leidos Digital Modernization ...  1189859         4117   \n...                                                 ...      ...          ...   \n1495  Job title: Workshop Controller\\nDepartment: Ac...   321651         4703   \n1496  Posting Title: X-Ray Technologist Overview:\\nF...  1230454         5704   \n1497  Job Summary\\nResponsible for assisting and con...   159258         4839   \n1498  The ARMOR Initiative DoD SkillBridge Internshi...   774643         2277   \n1499  Job Description\\nJob Title: Yoga Instructor\\nP...   700821         3452   \n\n      skill_count  \n0              33  \n1              32  \n2              30  \n3              34  \n4              31  \n...           ...  \n1495           32  \n1496           38  \n1497           32  \n1498           30  \n1499           30  \n\n[1500 rows x 19 columns]",
      "text/html": "<div>\n<style scoped>\n    .dataframe tbody tr th:only-of-type {\n        vertical-align: middle;\n    }\n\n    .dataframe tbody tr th {\n        vertical-align: top;\n    }\n\n    .dataframe thead th {\n        text-align: right;\n    }\n</style>\n<table border=\"1\" class=\"dataframe\">\n  <thead>\n    <tr style=\"text-align: right;\">\n      <th></th>\n      <th>job_link</th>\n      <th>last_processed_time</th>\n      <th>got_summary</th>\n      <th>got_ner</th>\n      <th>is_being_worked</th>\n      <th>job_title</th>\n      <th>company</th>\n      <th>job_location</th>\n      <th>first_seen</th>\n      <th>search_city</th>\n      <th>search_country</th>\n      <th>search_position</th>\n      <th>job_level</th>\n      <th>job_type</th>\n      <th>job_skills</th>\n      <th>job_summary</th>\n      <th>id</th>\n      <th>summary_len</th>\n      <th>skill_count</th>\n    </tr>\n  </thead>\n  <tbody>\n    <tr>\n      <th>0</th>\n      <td>https://www.linkedin.com/jobs/view/software-ar...</td>\n      <td>2024-01-19 09:45:09.215838+00</td>\n      <td>t</td>\n      <td>t</td>\n      <td>f</td>\n      <td>Software Architect</td>\n      <td>Harris Computer</td>\n      <td>Florida, United States</td>\n      <td>2024-01-13</td>\n      <td>Beverly Hills</td>\n      <td>United States</td>\n      <td>Director Technical</td>\n      <td>Mid senior</td>\n      <td>Onsite</td>\n      <td>Product architecture, Engineering processes, C...</td>\n      <td>As Architect you will define the products’ hig...</td>\n      <td>340370</td>\n      <td>6407</td>\n      <td>33</td>\n    </tr>\n    <tr>\n      <th>1</th>\n      <td>https://www.linkedin.com/jobs/view/senior-syst...</td>\n      <td>2024-01-19 09:45:09.215838+00</td>\n      <td>t</td>\n      <td>t</td>\n      <td>f</td>\n      <td>Senior System Engineer</td>\n      <td>ExLabs</td>\n      <td>Long Beach, CA</td>\n      <td>2024-01-13</td>\n      <td>Compton</td>\n      <td>United States</td>\n      <td>Maintenance Data Analyst</td>\n      <td>Mid senior</td>\n      <td>Onsite</td>\n      <td>Systems engineering, Technical oversight, Requ...</td>\n      <td>Job Title: Sr. System Engineer\\nCompany: ExLab...</td>\n      <td>640026</td>\n      <td>6308</td>\n      <td>32</td>\n    </tr>\n    <tr>\n      <th>2</th>\n      <td>https://www.linkedin.com/jobs/view/senior-data...</td>\n      <td>2024-01-20 11:15:59.804413+00</td>\n      <td>t</td>\n      <td>t</td>\n      <td>f</td>\n      <td>Senior Data Scientist</td>\n      <td>Workforce Connections</td>\n      <td>St Louis, MO</td>\n      <td>2024-01-14</td>\n      <td>Belleville</td>\n      <td>United States</td>\n      <td>Chemist</td>\n      <td>Mid senior</td>\n      <td>Onsite</td>\n      <td>Data Science, Data Analysis, Machine Learning,...</td>\n      <td>Location: Onsite, St. Louis MO 63146\\nJob Resp...</td>\n      <td>1096469</td>\n      <td>3635</td>\n      <td>30</td>\n    </tr>\n    <tr>\n      <th>3</th>\n      <td>https://www.linkedin.com/jobs/view/distinguish...</td>\n      <td>2024-01-19 22:25:24.801979+00</td>\n      <td>t</td>\n      <td>t</td>\n      <td>f</td>\n      <td>Distinguished Applied Researcher</td>\n      <td>Jobs for Humanity</td>\n      <td>Fort Worth, TX</td>\n      <td>2024-01-15</td>\n      <td>Fort Worth</td>\n      <td>United States</td>\n      <td>Director Research</td>\n      <td>Mid senior</td>\n      <td>Onsite</td>\n      <td>AI, Applied Research, Machine Learning, Natura...</td>\n      <td>Company Description\\nJobs for Humanity is part...</td>\n      <td>998553</td>\n      <td>4011</td>\n      <td>34</td>\n    </tr>\n    <tr>\n      <th>4</th>\n      <td>https://www.linkedin.com/jobs/view/systems-adm...</td>\n      <td>2024-01-21 01:06:09.90334+00</td>\n      <td>t</td>\n      <td>t</td>\n      <td>f</td>\n      <td>Systems Administrator</td>\n      <td>Leidos</td>\n      <td>Colorado Springs, CO</td>\n      <td>2024-01-14</td>\n      <td>Cripple Creek</td>\n      <td>United States</td>\n      <td>Tier</td>\n      <td>Mid senior</td>\n      <td>Onsite</td>\n      <td>System Administration, IT Operating Systems, C...</td>\n      <td>Description\\nThe Leidos Digital Modernization ...</td>\n      <td>1189859</td>\n      <td>4117</td>\n      <td>31</td>\n    </tr>\n    <tr>\n      <th>...</th>\n      <td>...</td>\n      <td>...</td>\n      <td>...</td>\n      <td>...</td>\n      <td>...</td>\n      <td>...</td>\n      <td>...</td>\n      <td>...</td>\n      <td>...</td>\n      <td>...</td>\n      <td>...</td>\n      <td>...</td>\n      <td>...</td>\n      <td>...</td>\n      <td>...</td>\n      <td>...</td>\n      <td>...</td>\n      <td>...</td>\n      <td>...</td>\n    </tr>\n    <tr>\n      <th>1495</th>\n      <td>https://uk.linkedin.com/jobs/view/workshop-con...</td>\n      <td>2024-01-19 09:45:09.215838+00</td>\n      <td>t</td>\n      <td>t</td>\n      <td>f</td>\n      <td>Workshop Controller</td>\n      <td>Activate Group Limited</td>\n      <td>Bury St. Edmunds, England, United Kingdom</td>\n      <td>2024-01-13</td>\n      <td>Ipswich</td>\n      <td>United Kingdom</td>\n      <td>Controller</td>\n      <td>Mid senior</td>\n      <td>Onsite</td>\n      <td>Workshop Control, Body Shop Management, HighQu...</td>\n      <td>Job title: Workshop Controller\\nDepartment: Ac...</td>\n      <td>321651</td>\n      <td>4703</td>\n      <td>32</td>\n    </tr>\n    <tr>\n      <th>1496</th>\n      <td>https://www.linkedin.com/jobs/view/x-ray-techn...</td>\n      <td>2024-01-21 04:16:54.473867+00</td>\n      <td>t</td>\n      <td>t</td>\n      <td>f</td>\n      <td>X-Ray Technologist</td>\n      <td>Fast Pace Health</td>\n      <td>Grant, AL</td>\n      <td>2024-01-17</td>\n      <td>Guntersville</td>\n      <td>United States</td>\n      <td>Ultrasound Technologist</td>\n      <td>Mid senior</td>\n      <td>Onsite</td>\n      <td>XRay Technologist, HIPAA, Patient intake, Nurs...</td>\n      <td>Posting Title: X-Ray Technologist Overview:\\nF...</td>\n      <td>1230454</td>\n      <td>5704</td>\n      <td>38</td>\n    </tr>\n    <tr>\n      <th>1497</th>\n      <td>https://www.linkedin.com/jobs/view/xfinity-ret...</td>\n      <td>2024-01-19 23:17:04.320124+00</td>\n      <td>t</td>\n      <td>t</td>\n      <td>f</td>\n      <td>Xfinity Retail Sales Consultant</td>\n      <td>XFINITY Store by Comcast</td>\n      <td>East Brunswick, NJ</td>\n      <td>2024-01-14</td>\n      <td>Long Branch</td>\n      <td>United States</td>\n      <td>Sales-Service Promoter</td>\n      <td>Mid senior</td>\n      <td>Onsite</td>\n      <td>Customer service, Product demonstration, Probl...</td>\n      <td>Job Summary\\nResponsible for assisting and con...</td>\n      <td>159258</td>\n      <td>4839</td>\n      <td>32</td>\n    </tr>\n    <tr>\n      <th>1498</th>\n      <td>https://www.linkedin.com/jobs/view/yard-associ...</td>\n      <td>2024-01-19 09:45:09.215838+00</td>\n      <td>t</td>\n      <td>t</td>\n      <td>f</td>\n      <td>Yard Associate (SkillBridge)</td>\n      <td>ARMOR Initiative</td>\n      <td>Kansas City, MO</td>\n      <td>2024-01-13</td>\n      <td>Leavenworth</td>\n      <td>United States</td>\n      <td>Orderly</td>\n      <td>Associate</td>\n      <td>Onsite</td>\n      <td>DoD SkillBridge Internship, Fulltime training,...</td>\n      <td>The ARMOR Initiative DoD SkillBridge Internshi...</td>\n      <td>774643</td>\n      <td>2277</td>\n      <td>30</td>\n    </tr>\n    <tr>\n      <th>1499</th>\n      <td>https://www.linkedin.com/jobs/view/yoga-instru...</td>\n      <td>2024-01-19 09:45:09.215838+00</td>\n      <td>t</td>\n      <td>t</td>\n      <td>f</td>\n      <td>Yoga Instructor</td>\n      <td>Active Wellness</td>\n      <td>Plantation, FL</td>\n      <td>2024-01-13</td>\n      <td>Sarasota</td>\n      <td>United States</td>\n      <td>Instructor</td>\n      <td>Mid senior</td>\n      <td>Onsite</td>\n      <td>Yoga, Pranayama, Handson direction, Safe and e...</td>\n      <td>Job Description\\nJob Title: Yoga Instructor\\nP...</td>\n      <td>700821</td>\n      <td>3452</td>\n      <td>30</td>\n    </tr>\n  </tbody>\n</table>\n<p>1500 rows × 19 columns</p>\n</div>"
     },
     "execution_count": 17,
     "metadata": {},
     "output_type": "execute_result"
    }
   ],
   "source": [
    "sampled_df = pd.concat([resp_df_sample, resp_df_max], ignore_index=True)\n",
    "sampled_df"
   ],
   "metadata": {
    "collapsed": false,
    "ExecuteTime": {
     "end_time": "2025-02-28T00:54:13.835832Z",
     "start_time": "2025-02-28T00:54:13.828234Z"
    }
   },
   "id": "56c616cd70f6fe40",
   "execution_count": 17
  },
  {
   "cell_type": "code",
   "outputs": [
    {
     "data": {
      "text/plain": "1500"
     },
     "execution_count": 18,
     "metadata": {},
     "output_type": "execute_result"
    }
   ],
   "source": [
    "sampled_df['id'].nunique()"
   ],
   "metadata": {
    "collapsed": false,
    "ExecuteTime": {
     "end_time": "2025-02-28T00:54:13.838866Z",
     "start_time": "2025-02-28T00:54:13.836507Z"
    }
   },
   "id": "e754b592fed5ac30",
   "execution_count": 18
  },
  {
   "cell_type": "markdown",
   "source": [
    "## Writing the sampled data"
   ],
   "metadata": {
    "collapsed": false
   },
   "id": "b340996c32d094d3"
  },
  {
   "cell_type": "code",
   "outputs": [
    {
     "data": {
      "text/plain": "                                              job_link  \\\n0    https://www.linkedin.com/jobs/view/software-ar...   \n1    https://www.linkedin.com/jobs/view/senior-syst...   \n2    https://www.linkedin.com/jobs/view/senior-data...   \n3    https://www.linkedin.com/jobs/view/distinguish...   \n4    https://www.linkedin.com/jobs/view/systems-adm...   \n..                                                 ...   \n495  https://www.linkedin.com/jobs/view/arnp-at-fas...   \n496  https://www.linkedin.com/jobs/view/assistant-m...   \n497  https://ca.linkedin.com/jobs/view/academic-adv...   \n498  https://www.linkedin.com/jobs/view/account-exe...   \n499  https://www.linkedin.com/jobs/view/account-exe...   \n\n               last_processed_time got_summary got_ner is_being_worked  \\\n0    2024-01-19 09:45:09.215838+00           t       t               f   \n1    2024-01-19 09:45:09.215838+00           t       t               f   \n2    2024-01-20 11:15:59.804413+00           t       t               f   \n3    2024-01-19 22:25:24.801979+00           t       t               f   \n4     2024-01-21 01:06:09.90334+00           t       t               f   \n..                             ...         ...     ...             ...   \n495  2024-01-20 11:08:01.254837+00           t       t               f   \n496  2024-01-20 03:22:05.147606+00           t       t               f   \n497  2024-01-19 09:45:09.215838+00           t       t               f   \n498  2024-01-19 09:45:09.215838+00           t       t               f   \n499  2024-01-19 09:45:09.215838+00           t       t               f   \n\n                                   job_title                   company  \\\n0                         Software Architect           Harris Computer   \n1                     Senior System Engineer                    ExLabs   \n2                      Senior Data Scientist     Workforce Connections   \n3           Distinguished Applied Researcher         Jobs for Humanity   \n4                      Systems Administrator                    Leidos   \n..                                       ...                       ...   \n495                                     ARNP          Fast Pace Health   \n496                        ASSISTANT MANAGER  d'Lite Healthy On The Go   \n497                         Academic Advisor  Mount Allison University   \n498          Account Executive Digital Sales         Salem Media Group   \n499  Account Executive, Industrial Equipment    Better Talent Advisors   \n\n                         job_location  first_seen        search_city  \\\n0              Florida, United States  2024-01-13      Beverly Hills   \n1                      Long Beach, CA  2024-01-13            Compton   \n2                        St Louis, MO  2024-01-14         Belleville   \n3                      Fort Worth, TX  2024-01-15         Fort Worth   \n4                Colorado Springs, CO  2024-01-14      Cripple Creek   \n..                                ...         ...                ...   \n495                         Prien, LA  2024-01-14       Lake Charles   \n496                    Scottsdale, AZ  2024-01-15           Chandler   \n497  Sackville, New Brunswick, Canada  2024-01-13  Sarnia-Clearwater   \n498                    Alexandria, VA  2024-01-12            Dunkirk   \n499                   San Antonio, TX  2024-01-12        San Antonio   \n\n    search_country           search_position   job_level job_type  \\\n0    United States        Director Technical  Mid senior   Onsite   \n1    United States  Maintenance Data Analyst  Mid senior   Onsite   \n2    United States                   Chemist  Mid senior   Onsite   \n3    United States         Director Research  Mid senior   Onsite   \n4    United States                      Tier  Mid senior   Onsite   \n..             ...                       ...         ...      ...   \n495  United States        Nurse Practitioner  Mid senior   Onsite   \n496  United States           Complaint Clerk  Mid senior   Onsite   \n497         Canada   Foreign-Student Adviser  Mid senior   Onsite   \n498  United States         Account Executive  Mid senior   Onsite   \n499  United States         Account Executive  Mid senior   Onsite   \n\n                                            job_skills  \\\n0    Product architecture, Engineering processes, C...   \n1    Systems engineering, Technical oversight, Requ...   \n2    Data Science, Data Analysis, Machine Learning,...   \n3    AI, Applied Research, Machine Learning, Natura...   \n4    System Administration, IT Operating Systems, C...   \n..                                                 ...   \n495  Family Nurse Practitioner, Teamwork, Communica...   \n496  Restaurant management, Leadership, Customer se...   \n497  Academic advising, Transfer credit assessment,...   \n498  Sales, Account Executive, Media Strategist, Bu...   \n499  Sales, Territory Management, Variable Frequenc...   \n\n                                           job_summary       id  summary_len  \\\n0    As Architect you will define the products’ hig...   340370         6407   \n1    Job Title: Sr. System Engineer\\nCompany: ExLab...   640026         6308   \n2    Location: Onsite, St. Louis MO 63146\\nJob Resp...  1096469         3635   \n3    Company Description\\nJobs for Humanity is part...   998553         4011   \n4    Description\\nThe Leidos Digital Modernization ...  1189859         4117   \n..                                                 ...      ...          ...   \n495  Posting Title: Family Nurse Practitioner Overv...   955798         6118   \n496  Location: Scottsdale, AZ\\nEmployment Type: Ful...    13071         5375   \n497  Position Description\\nReporting to the Registr...   368698         6775   \n498  Overview\\nSalem Media - Washington D.C.\\noffer...   440051         2451   \n499  With over 100 years in business, our family of...   435981         2130   \n\n     skill_count  \n0             33  \n1             32  \n2             30  \n3             34  \n4             31  \n..           ...  \n495           31  \n496           43  \n497           48  \n498           40  \n499           30  \n\n[500 rows x 19 columns]",
      "text/html": "<div>\n<style scoped>\n    .dataframe tbody tr th:only-of-type {\n        vertical-align: middle;\n    }\n\n    .dataframe tbody tr th {\n        vertical-align: top;\n    }\n\n    .dataframe thead th {\n        text-align: right;\n    }\n</style>\n<table border=\"1\" class=\"dataframe\">\n  <thead>\n    <tr style=\"text-align: right;\">\n      <th></th>\n      <th>job_link</th>\n      <th>last_processed_time</th>\n      <th>got_summary</th>\n      <th>got_ner</th>\n      <th>is_being_worked</th>\n      <th>job_title</th>\n      <th>company</th>\n      <th>job_location</th>\n      <th>first_seen</th>\n      <th>search_city</th>\n      <th>search_country</th>\n      <th>search_position</th>\n      <th>job_level</th>\n      <th>job_type</th>\n      <th>job_skills</th>\n      <th>job_summary</th>\n      <th>id</th>\n      <th>summary_len</th>\n      <th>skill_count</th>\n    </tr>\n  </thead>\n  <tbody>\n    <tr>\n      <th>0</th>\n      <td>https://www.linkedin.com/jobs/view/software-ar...</td>\n      <td>2024-01-19 09:45:09.215838+00</td>\n      <td>t</td>\n      <td>t</td>\n      <td>f</td>\n      <td>Software Architect</td>\n      <td>Harris Computer</td>\n      <td>Florida, United States</td>\n      <td>2024-01-13</td>\n      <td>Beverly Hills</td>\n      <td>United States</td>\n      <td>Director Technical</td>\n      <td>Mid senior</td>\n      <td>Onsite</td>\n      <td>Product architecture, Engineering processes, C...</td>\n      <td>As Architect you will define the products’ hig...</td>\n      <td>340370</td>\n      <td>6407</td>\n      <td>33</td>\n    </tr>\n    <tr>\n      <th>1</th>\n      <td>https://www.linkedin.com/jobs/view/senior-syst...</td>\n      <td>2024-01-19 09:45:09.215838+00</td>\n      <td>t</td>\n      <td>t</td>\n      <td>f</td>\n      <td>Senior System Engineer</td>\n      <td>ExLabs</td>\n      <td>Long Beach, CA</td>\n      <td>2024-01-13</td>\n      <td>Compton</td>\n      <td>United States</td>\n      <td>Maintenance Data Analyst</td>\n      <td>Mid senior</td>\n      <td>Onsite</td>\n      <td>Systems engineering, Technical oversight, Requ...</td>\n      <td>Job Title: Sr. System Engineer\\nCompany: ExLab...</td>\n      <td>640026</td>\n      <td>6308</td>\n      <td>32</td>\n    </tr>\n    <tr>\n      <th>2</th>\n      <td>https://www.linkedin.com/jobs/view/senior-data...</td>\n      <td>2024-01-20 11:15:59.804413+00</td>\n      <td>t</td>\n      <td>t</td>\n      <td>f</td>\n      <td>Senior Data Scientist</td>\n      <td>Workforce Connections</td>\n      <td>St Louis, MO</td>\n      <td>2024-01-14</td>\n      <td>Belleville</td>\n      <td>United States</td>\n      <td>Chemist</td>\n      <td>Mid senior</td>\n      <td>Onsite</td>\n      <td>Data Science, Data Analysis, Machine Learning,...</td>\n      <td>Location: Onsite, St. Louis MO 63146\\nJob Resp...</td>\n      <td>1096469</td>\n      <td>3635</td>\n      <td>30</td>\n    </tr>\n    <tr>\n      <th>3</th>\n      <td>https://www.linkedin.com/jobs/view/distinguish...</td>\n      <td>2024-01-19 22:25:24.801979+00</td>\n      <td>t</td>\n      <td>t</td>\n      <td>f</td>\n      <td>Distinguished Applied Researcher</td>\n      <td>Jobs for Humanity</td>\n      <td>Fort Worth, TX</td>\n      <td>2024-01-15</td>\n      <td>Fort Worth</td>\n      <td>United States</td>\n      <td>Director Research</td>\n      <td>Mid senior</td>\n      <td>Onsite</td>\n      <td>AI, Applied Research, Machine Learning, Natura...</td>\n      <td>Company Description\\nJobs for Humanity is part...</td>\n      <td>998553</td>\n      <td>4011</td>\n      <td>34</td>\n    </tr>\n    <tr>\n      <th>4</th>\n      <td>https://www.linkedin.com/jobs/view/systems-adm...</td>\n      <td>2024-01-21 01:06:09.90334+00</td>\n      <td>t</td>\n      <td>t</td>\n      <td>f</td>\n      <td>Systems Administrator</td>\n      <td>Leidos</td>\n      <td>Colorado Springs, CO</td>\n      <td>2024-01-14</td>\n      <td>Cripple Creek</td>\n      <td>United States</td>\n      <td>Tier</td>\n      <td>Mid senior</td>\n      <td>Onsite</td>\n      <td>System Administration, IT Operating Systems, C...</td>\n      <td>Description\\nThe Leidos Digital Modernization ...</td>\n      <td>1189859</td>\n      <td>4117</td>\n      <td>31</td>\n    </tr>\n    <tr>\n      <th>...</th>\n      <td>...</td>\n      <td>...</td>\n      <td>...</td>\n      <td>...</td>\n      <td>...</td>\n      <td>...</td>\n      <td>...</td>\n      <td>...</td>\n      <td>...</td>\n      <td>...</td>\n      <td>...</td>\n      <td>...</td>\n      <td>...</td>\n      <td>...</td>\n      <td>...</td>\n      <td>...</td>\n      <td>...</td>\n      <td>...</td>\n      <td>...</td>\n    </tr>\n    <tr>\n      <th>495</th>\n      <td>https://www.linkedin.com/jobs/view/arnp-at-fas...</td>\n      <td>2024-01-20 11:08:01.254837+00</td>\n      <td>t</td>\n      <td>t</td>\n      <td>f</td>\n      <td>ARNP</td>\n      <td>Fast Pace Health</td>\n      <td>Prien, LA</td>\n      <td>2024-01-14</td>\n      <td>Lake Charles</td>\n      <td>United States</td>\n      <td>Nurse Practitioner</td>\n      <td>Mid senior</td>\n      <td>Onsite</td>\n      <td>Family Nurse Practitioner, Teamwork, Communica...</td>\n      <td>Posting Title: Family Nurse Practitioner Overv...</td>\n      <td>955798</td>\n      <td>6118</td>\n      <td>31</td>\n    </tr>\n    <tr>\n      <th>496</th>\n      <td>https://www.linkedin.com/jobs/view/assistant-m...</td>\n      <td>2024-01-20 03:22:05.147606+00</td>\n      <td>t</td>\n      <td>t</td>\n      <td>f</td>\n      <td>ASSISTANT MANAGER</td>\n      <td>d'Lite Healthy On The Go</td>\n      <td>Scottsdale, AZ</td>\n      <td>2024-01-15</td>\n      <td>Chandler</td>\n      <td>United States</td>\n      <td>Complaint Clerk</td>\n      <td>Mid senior</td>\n      <td>Onsite</td>\n      <td>Restaurant management, Leadership, Customer se...</td>\n      <td>Location: Scottsdale, AZ\\nEmployment Type: Ful...</td>\n      <td>13071</td>\n      <td>5375</td>\n      <td>43</td>\n    </tr>\n    <tr>\n      <th>497</th>\n      <td>https://ca.linkedin.com/jobs/view/academic-adv...</td>\n      <td>2024-01-19 09:45:09.215838+00</td>\n      <td>t</td>\n      <td>t</td>\n      <td>f</td>\n      <td>Academic Advisor</td>\n      <td>Mount Allison University</td>\n      <td>Sackville, New Brunswick, Canada</td>\n      <td>2024-01-13</td>\n      <td>Sarnia-Clearwater</td>\n      <td>Canada</td>\n      <td>Foreign-Student Adviser</td>\n      <td>Mid senior</td>\n      <td>Onsite</td>\n      <td>Academic advising, Transfer credit assessment,...</td>\n      <td>Position Description\\nReporting to the Registr...</td>\n      <td>368698</td>\n      <td>6775</td>\n      <td>48</td>\n    </tr>\n    <tr>\n      <th>498</th>\n      <td>https://www.linkedin.com/jobs/view/account-exe...</td>\n      <td>2024-01-19 09:45:09.215838+00</td>\n      <td>t</td>\n      <td>t</td>\n      <td>f</td>\n      <td>Account Executive Digital Sales</td>\n      <td>Salem Media Group</td>\n      <td>Alexandria, VA</td>\n      <td>2024-01-12</td>\n      <td>Dunkirk</td>\n      <td>United States</td>\n      <td>Account Executive</td>\n      <td>Mid senior</td>\n      <td>Onsite</td>\n      <td>Sales, Account Executive, Media Strategist, Bu...</td>\n      <td>Overview\\nSalem Media - Washington D.C.\\noffer...</td>\n      <td>440051</td>\n      <td>2451</td>\n      <td>40</td>\n    </tr>\n    <tr>\n      <th>499</th>\n      <td>https://www.linkedin.com/jobs/view/account-exe...</td>\n      <td>2024-01-19 09:45:09.215838+00</td>\n      <td>t</td>\n      <td>t</td>\n      <td>f</td>\n      <td>Account Executive, Industrial Equipment</td>\n      <td>Better Talent Advisors</td>\n      <td>San Antonio, TX</td>\n      <td>2024-01-12</td>\n      <td>San Antonio</td>\n      <td>United States</td>\n      <td>Account Executive</td>\n      <td>Mid senior</td>\n      <td>Onsite</td>\n      <td>Sales, Territory Management, Variable Frequenc...</td>\n      <td>With over 100 years in business, our family of...</td>\n      <td>435981</td>\n      <td>2130</td>\n      <td>30</td>\n    </tr>\n  </tbody>\n</table>\n<p>500 rows × 19 columns</p>\n</div>"
     },
     "metadata": {},
     "output_type": "display_data"
    },
    {
     "data": {
      "text/plain": "                                              job_link  \\\n500  https://www.linkedin.com/jobs/view/account-exe...   \n501  https://www.linkedin.com/jobs/view/account-exe...   \n502  https://www.linkedin.com/jobs/view/account-sup...   \n503  https://www.linkedin.com/jobs/view/accountant-...   \n504  https://www.linkedin.com/jobs/view/accounting-...   \n..                                                 ...   \n995  https://www.linkedin.com/jobs/view/manufacturi...   \n996  https://www.linkedin.com/jobs/view/marketing-c...   \n997  https://uk.linkedin.com/jobs/view/marketing-ex...   \n998  https://www.linkedin.com/jobs/view/marketing-s...   \n999  https://www.linkedin.com/jobs/view/master-elec...   \n\n               last_processed_time got_summary got_ner is_being_worked  \\\n500  2024-01-19 09:45:09.215838+00           t       t               f   \n501  2024-01-19 09:45:09.215838+00           t       t               f   \n502   2024-01-19 12:35:07.03423+00           t       t               f   \n503  2024-01-19 09:45:09.215838+00           t       t               f   \n504  2024-01-19 09:45:09.215838+00           t       t               f   \n..                             ...         ...     ...             ...   \n995  2024-01-21 05:25:14.377269+00           t       t               f   \n996   2024-01-20 04:24:04.26509+00           t       t               f   \n997  2024-01-19 09:45:09.215838+00           t       t               f   \n998  2024-01-19 09:45:09.215838+00           t       t               f   \n999  2024-01-19 09:45:09.215838+00           t       t               f   \n\n                                job_title                      company  \\\n500  Account Executive, Industrial Supply       Better Talent Advisors   \n501      Account Executive, Public Sector       Better Talent Advisors   \n502                    Account Supervisor  Publicis Digital Experience   \n503                         Accountant II                     Curaleaf   \n504                  Accounting Assistant    Jones Grove IT Recruiting   \n..                                    ...                          ...   \n995              Manufacturing Supervisor          Volm Companies Inc.   \n996                 Marketing Coordinator      Employee Owned Holdings   \n997                   Marketing Executive             APT Travel Group   \n998                  Marketing Specialist                 VP Logistics   \n999                    Master Electrician                    Ascension   \n\n                        job_location  first_seen     search_city  \\\n500                     Stamford, CT  2024-01-12      Bridgeport   \n501                    Rochester, NY  2024-01-12      Williamson   \n502                   Birmingham, MI  2024-01-16          Macomb   \n503                   Scottsdale, AZ  2024-01-12        Glendale   \n504                  Charlotte Metro  2024-01-12       Hollywood   \n..                               ...         ...             ...   \n995                       Antigo, WI  2024-01-14       Wisconsin   \n996                      Houston, TX  2024-01-14         Baytown   \n997  London, England, United Kingdom  2024-01-13  Greater London   \n998                     Waukegan, IL  2024-01-13   North Chicago   \n999                   Southfield, MI  2024-01-13        Oak Park   \n\n     search_country       search_position   job_level job_type  \\\n500   United States     Account Executive  Mid senior   Onsite   \n501   United States     Account Executive  Mid senior   Onsite   \n502   United States    Supervisor Drawing  Mid senior   Onsite   \n503   United States      Accounting Clerk  Mid senior   Onsite   \n504   United States      Accounting Clerk  Mid senior   Onsite   \n..              ...                   ...         ...      ...   \n995   United States  Superintendent Sales  Mid senior   Onsite   \n996   United States    Retirement Officer   Associate   Onsite   \n997  United Kingdom       Director Social  Mid senior   Onsite   \n998   United States                 Guide   Associate   Onsite   \n999   United States           Electrician  Mid senior   Onsite   \n\n                                            job_skills  \\\n500  Sales, Prospecting, Relationship Building, Bel...   \n501  Sales, Territory Management, Public Sector Sal...   \n502  CRM, Automotive marketing, Subscriptions servi...   \n503  General ledger accounting, Financial analysis,...   \n504  Accounting/Bookkeeping, Billing, Accounts Paya...   \n..                                                 ...   \n995  ERP systems, Spreadsheets, Word processing, Co...   \n996  eCommerce, Online shopping, Customer registrat...   \n997  Marketing, B2C, Trade, TTL, Tactical Campaigns...   \n998  Marketing Strategies, Marketing Materials, Mar...   \n999  Electrical Systems, Equipment Maintenance, Rep...   \n\n                                           job_summary       id  summary_len  \\\n500  With over 100 years in business, our family of...   359965         2141   \n501  With over 100 years in business, our family of...   192937         2220   \n502  Hi there! We’re Razorfish. We’ve been leading ...    34636         6510   \n503  Curaleaf Holdings, Inc. (CSE: CURA) (OTCQX: CU...   260902         6262   \n504  Accounting Assistant/Bookkeeper Direct Hire Ch...   477644         2737   \n..                                                 ...      ...          ...   \n995  Job Title:\\nManufacturing Supervisor C\\nReport...  1287615         5863   \n996  Employee Owned Holdings, Inc. (EOHI) is a fami...   838752         5771   \n997  ABOUT US - Based In London, United Kingdom\\nAP...   589429         5303   \n998  Job Summary:\\nThe Marketing Specialist is resp...   235002         5127   \n999  Details\\nDepartment: Plant Operations\\nSchedul...   612646         6678   \n\n     skill_count  \n500           36  \n501           34  \n502           32  \n503           32  \n504           36  \n..           ...  \n995           53  \n996           37  \n997           30  \n998           30  \n999           50  \n\n[500 rows x 19 columns]",
      "text/html": "<div>\n<style scoped>\n    .dataframe tbody tr th:only-of-type {\n        vertical-align: middle;\n    }\n\n    .dataframe tbody tr th {\n        vertical-align: top;\n    }\n\n    .dataframe thead th {\n        text-align: right;\n    }\n</style>\n<table border=\"1\" class=\"dataframe\">\n  <thead>\n    <tr style=\"text-align: right;\">\n      <th></th>\n      <th>job_link</th>\n      <th>last_processed_time</th>\n      <th>got_summary</th>\n      <th>got_ner</th>\n      <th>is_being_worked</th>\n      <th>job_title</th>\n      <th>company</th>\n      <th>job_location</th>\n      <th>first_seen</th>\n      <th>search_city</th>\n      <th>search_country</th>\n      <th>search_position</th>\n      <th>job_level</th>\n      <th>job_type</th>\n      <th>job_skills</th>\n      <th>job_summary</th>\n      <th>id</th>\n      <th>summary_len</th>\n      <th>skill_count</th>\n    </tr>\n  </thead>\n  <tbody>\n    <tr>\n      <th>500</th>\n      <td>https://www.linkedin.com/jobs/view/account-exe...</td>\n      <td>2024-01-19 09:45:09.215838+00</td>\n      <td>t</td>\n      <td>t</td>\n      <td>f</td>\n      <td>Account Executive, Industrial Supply</td>\n      <td>Better Talent Advisors</td>\n      <td>Stamford, CT</td>\n      <td>2024-01-12</td>\n      <td>Bridgeport</td>\n      <td>United States</td>\n      <td>Account Executive</td>\n      <td>Mid senior</td>\n      <td>Onsite</td>\n      <td>Sales, Prospecting, Relationship Building, Bel...</td>\n      <td>With over 100 years in business, our family of...</td>\n      <td>359965</td>\n      <td>2141</td>\n      <td>36</td>\n    </tr>\n    <tr>\n      <th>501</th>\n      <td>https://www.linkedin.com/jobs/view/account-exe...</td>\n      <td>2024-01-19 09:45:09.215838+00</td>\n      <td>t</td>\n      <td>t</td>\n      <td>f</td>\n      <td>Account Executive, Public Sector</td>\n      <td>Better Talent Advisors</td>\n      <td>Rochester, NY</td>\n      <td>2024-01-12</td>\n      <td>Williamson</td>\n      <td>United States</td>\n      <td>Account Executive</td>\n      <td>Mid senior</td>\n      <td>Onsite</td>\n      <td>Sales, Territory Management, Public Sector Sal...</td>\n      <td>With over 100 years in business, our family of...</td>\n      <td>192937</td>\n      <td>2220</td>\n      <td>34</td>\n    </tr>\n    <tr>\n      <th>502</th>\n      <td>https://www.linkedin.com/jobs/view/account-sup...</td>\n      <td>2024-01-19 12:35:07.03423+00</td>\n      <td>t</td>\n      <td>t</td>\n      <td>f</td>\n      <td>Account Supervisor</td>\n      <td>Publicis Digital Experience</td>\n      <td>Birmingham, MI</td>\n      <td>2024-01-16</td>\n      <td>Macomb</td>\n      <td>United States</td>\n      <td>Supervisor Drawing</td>\n      <td>Mid senior</td>\n      <td>Onsite</td>\n      <td>CRM, Automotive marketing, Subscriptions servi...</td>\n      <td>Hi there! We’re Razorfish. We’ve been leading ...</td>\n      <td>34636</td>\n      <td>6510</td>\n      <td>32</td>\n    </tr>\n    <tr>\n      <th>503</th>\n      <td>https://www.linkedin.com/jobs/view/accountant-...</td>\n      <td>2024-01-19 09:45:09.215838+00</td>\n      <td>t</td>\n      <td>t</td>\n      <td>f</td>\n      <td>Accountant II</td>\n      <td>Curaleaf</td>\n      <td>Scottsdale, AZ</td>\n      <td>2024-01-12</td>\n      <td>Glendale</td>\n      <td>United States</td>\n      <td>Accounting Clerk</td>\n      <td>Mid senior</td>\n      <td>Onsite</td>\n      <td>General ledger accounting, Financial analysis,...</td>\n      <td>Curaleaf Holdings, Inc. (CSE: CURA) (OTCQX: CU...</td>\n      <td>260902</td>\n      <td>6262</td>\n      <td>32</td>\n    </tr>\n    <tr>\n      <th>504</th>\n      <td>https://www.linkedin.com/jobs/view/accounting-...</td>\n      <td>2024-01-19 09:45:09.215838+00</td>\n      <td>t</td>\n      <td>t</td>\n      <td>f</td>\n      <td>Accounting Assistant</td>\n      <td>Jones Grove IT Recruiting</td>\n      <td>Charlotte Metro</td>\n      <td>2024-01-12</td>\n      <td>Hollywood</td>\n      <td>United States</td>\n      <td>Accounting Clerk</td>\n      <td>Mid senior</td>\n      <td>Onsite</td>\n      <td>Accounting/Bookkeeping, Billing, Accounts Paya...</td>\n      <td>Accounting Assistant/Bookkeeper Direct Hire Ch...</td>\n      <td>477644</td>\n      <td>2737</td>\n      <td>36</td>\n    </tr>\n    <tr>\n      <th>...</th>\n      <td>...</td>\n      <td>...</td>\n      <td>...</td>\n      <td>...</td>\n      <td>...</td>\n      <td>...</td>\n      <td>...</td>\n      <td>...</td>\n      <td>...</td>\n      <td>...</td>\n      <td>...</td>\n      <td>...</td>\n      <td>...</td>\n      <td>...</td>\n      <td>...</td>\n      <td>...</td>\n      <td>...</td>\n      <td>...</td>\n      <td>...</td>\n    </tr>\n    <tr>\n      <th>995</th>\n      <td>https://www.linkedin.com/jobs/view/manufacturi...</td>\n      <td>2024-01-21 05:25:14.377269+00</td>\n      <td>t</td>\n      <td>t</td>\n      <td>f</td>\n      <td>Manufacturing Supervisor</td>\n      <td>Volm Companies Inc.</td>\n      <td>Antigo, WI</td>\n      <td>2024-01-14</td>\n      <td>Wisconsin</td>\n      <td>United States</td>\n      <td>Superintendent Sales</td>\n      <td>Mid senior</td>\n      <td>Onsite</td>\n      <td>ERP systems, Spreadsheets, Word processing, Co...</td>\n      <td>Job Title:\\nManufacturing Supervisor C\\nReport...</td>\n      <td>1287615</td>\n      <td>5863</td>\n      <td>53</td>\n    </tr>\n    <tr>\n      <th>996</th>\n      <td>https://www.linkedin.com/jobs/view/marketing-c...</td>\n      <td>2024-01-20 04:24:04.26509+00</td>\n      <td>t</td>\n      <td>t</td>\n      <td>f</td>\n      <td>Marketing Coordinator</td>\n      <td>Employee Owned Holdings</td>\n      <td>Houston, TX</td>\n      <td>2024-01-14</td>\n      <td>Baytown</td>\n      <td>United States</td>\n      <td>Retirement Officer</td>\n      <td>Associate</td>\n      <td>Onsite</td>\n      <td>eCommerce, Online shopping, Customer registrat...</td>\n      <td>Employee Owned Holdings, Inc. (EOHI) is a fami...</td>\n      <td>838752</td>\n      <td>5771</td>\n      <td>37</td>\n    </tr>\n    <tr>\n      <th>997</th>\n      <td>https://uk.linkedin.com/jobs/view/marketing-ex...</td>\n      <td>2024-01-19 09:45:09.215838+00</td>\n      <td>t</td>\n      <td>t</td>\n      <td>f</td>\n      <td>Marketing Executive</td>\n      <td>APT Travel Group</td>\n      <td>London, England, United Kingdom</td>\n      <td>2024-01-13</td>\n      <td>Greater London</td>\n      <td>United Kingdom</td>\n      <td>Director Social</td>\n      <td>Mid senior</td>\n      <td>Onsite</td>\n      <td>Marketing, B2C, Trade, TTL, Tactical Campaigns...</td>\n      <td>ABOUT US - Based In London, United Kingdom\\nAP...</td>\n      <td>589429</td>\n      <td>5303</td>\n      <td>30</td>\n    </tr>\n    <tr>\n      <th>998</th>\n      <td>https://www.linkedin.com/jobs/view/marketing-s...</td>\n      <td>2024-01-19 09:45:09.215838+00</td>\n      <td>t</td>\n      <td>t</td>\n      <td>f</td>\n      <td>Marketing Specialist</td>\n      <td>VP Logistics</td>\n      <td>Waukegan, IL</td>\n      <td>2024-01-13</td>\n      <td>North Chicago</td>\n      <td>United States</td>\n      <td>Guide</td>\n      <td>Associate</td>\n      <td>Onsite</td>\n      <td>Marketing Strategies, Marketing Materials, Mar...</td>\n      <td>Job Summary:\\nThe Marketing Specialist is resp...</td>\n      <td>235002</td>\n      <td>5127</td>\n      <td>30</td>\n    </tr>\n    <tr>\n      <th>999</th>\n      <td>https://www.linkedin.com/jobs/view/master-elec...</td>\n      <td>2024-01-19 09:45:09.215838+00</td>\n      <td>t</td>\n      <td>t</td>\n      <td>f</td>\n      <td>Master Electrician</td>\n      <td>Ascension</td>\n      <td>Southfield, MI</td>\n      <td>2024-01-13</td>\n      <td>Oak Park</td>\n      <td>United States</td>\n      <td>Electrician</td>\n      <td>Mid senior</td>\n      <td>Onsite</td>\n      <td>Electrical Systems, Equipment Maintenance, Rep...</td>\n      <td>Details\\nDepartment: Plant Operations\\nSchedul...</td>\n      <td>612646</td>\n      <td>6678</td>\n      <td>50</td>\n    </tr>\n  </tbody>\n</table>\n<p>500 rows × 19 columns</p>\n</div>"
     },
     "metadata": {},
     "output_type": "display_data"
    },
    {
     "data": {
      "text/plain": "                                               job_link  \\\n1000  https://www.linkedin.com/jobs/view/master-sche...   \n1001  https://www.linkedin.com/jobs/view/master-tech...   \n1002  https://www.linkedin.com/jobs/view/material-ha...   \n1003  https://www.linkedin.com/jobs/view/materials-m...   \n1004  https://www.linkedin.com/jobs/view/materials-p...   \n...                                                 ...   \n1495  https://uk.linkedin.com/jobs/view/workshop-con...   \n1496  https://www.linkedin.com/jobs/view/x-ray-techn...   \n1497  https://www.linkedin.com/jobs/view/xfinity-ret...   \n1498  https://www.linkedin.com/jobs/view/yard-associ...   \n1499  https://www.linkedin.com/jobs/view/yoga-instru...   \n\n                last_processed_time got_summary got_ner is_being_worked  \\\n1000  2024-01-21 13:08:00.689444+00           t       t               f   \n1001  2024-01-19 09:45:09.215838+00           t       t               f   \n1002  2024-01-21 15:59:00.747387+00           t       t               f   \n1003  2024-01-21 01:30:05.765203+00           t       t               f   \n1004  2024-01-19 13:06:03.847966+00           t       t               f   \n...                             ...         ...     ...             ...   \n1495  2024-01-19 09:45:09.215838+00           t       t               f   \n1496  2024-01-21 04:16:54.473867+00           t       t               f   \n1497  2024-01-19 23:17:04.320124+00           t       t               f   \n1498  2024-01-19 09:45:09.215838+00           t       t               f   \n1499  2024-01-19 09:45:09.215838+00           t       t               f   \n\n                            job_title                    company  \\\n1000                 Master Scheduler  Baltimore Aircoil Company   \n1001                Master Technician    A. O. Smith Corporation   \n1002                 Material Handler   IMI Critical Engineering   \n1003                Materials Manager                     Pregis   \n1004                Materials Planner             Faraday Future   \n...                               ...                        ...   \n1495              Workshop Controller     Activate Group Limited   \n1496               X-Ray Technologist           Fast Pace Health   \n1497  Xfinity Retail Sales Consultant   XFINITY Store by Comcast   \n1498     Yard Associate (SkillBridge)           ARMOR Initiative   \n1499                  Yoga Instructor            Active Wellness   \n\n                                   job_location  first_seen   search_city  \\\n1000                                 Dayton, TN  2024-01-17     Tennessee   \n1001                                Lebanon, TN  2024-01-12     Watertown   \n1002                 Rancho Santa Margarita, CA  2024-01-16        Corona   \n1003                            Bensenville, IL  2024-01-16         Elgin   \n1004                                Hanford, CA  2024-01-14         Selma   \n...                                         ...         ...           ...   \n1495  Bury St. Edmunds, England, United Kingdom  2024-01-13       Ipswich   \n1496                                  Grant, AL  2024-01-17  Guntersville   \n1497                         East Brunswick, NJ  2024-01-14   Long Branch   \n1498                            Kansas City, MO  2024-01-13   Leavenworth   \n1499                             Plantation, FL  2024-01-13      Sarasota   \n\n      search_country               search_position   job_level job_type  \\\n1000   United States                 Traffic Agent  Mid senior   Onsite   \n1001   United States                     Assembler  Mid senior   Onsite   \n1002   United States              Route Supervisor   Associate   Onsite   \n1003   United States  Manager Procurement Services  Mid senior   Onsite   \n1004   United States                     Scheduler  Mid senior   Onsite   \n...              ...                           ...         ...      ...   \n1495  United Kingdom                    Controller  Mid senior   Onsite   \n1496   United States       Ultrasound Technologist  Mid senior   Onsite   \n1497   United States        Sales-Service Promoter  Mid senior   Onsite   \n1498   United States                       Orderly   Associate   Onsite   \n1499   United States                    Instructor  Mid senior   Onsite   \n\n                                             job_skills  \\\n1000  Operations, Supply Chain, MRP systems, SAP ERP...   \n1001  Engineering, Product Development, Innovation, ...   \n1002  Forklift operation, Stacker operation, Metal c...   \n1003  Leadership, Talent management, 5S program, Pro...   \n1004  SAP, MRP software, Excel, Word, PowerPoint, Ou...   \n...                                                 ...   \n1495  Workshop Control, Body Shop Management, HighQu...   \n1496  XRay Technologist, HIPAA, Patient intake, Nurs...   \n1497  Customer service, Product demonstration, Probl...   \n1498  DoD SkillBridge Internship, Fulltime training,...   \n1499  Yoga, Pranayama, Handson direction, Safe and e...   \n\n                                            job_summary       id  summary_len  \\\n1000  Baltimore Aircoil Company (BAC), an Amsted Ind...   866062         5864   \n1001  Company / Location Information\\nWater technolo...   531893         4514   \n1002  About IMI\\nIMI plc, the specialist engineering...   927220         6292   \n1003  We're Not Just in the Packaging Business - We'...  1195068         5323   \n1004  The Company:\\nFaraday Future (FF) is a Califor...   818707         5205   \n...                                                 ...      ...          ...   \n1495  Job title: Workshop Controller\\nDepartment: Ac...   321651         4703   \n1496  Posting Title: X-Ray Technologist Overview:\\nF...  1230454         5704   \n1497  Job Summary\\nResponsible for assisting and con...   159258         4839   \n1498  The ARMOR Initiative DoD SkillBridge Internshi...   774643         2277   \n1499  Job Description\\nJob Title: Yoga Instructor\\nP...   700821         3452   \n\n      skill_count  \n1000           77  \n1001           32  \n1002           80  \n1003           42  \n1004           30  \n...           ...  \n1495           32  \n1496           38  \n1497           32  \n1498           30  \n1499           30  \n\n[500 rows x 19 columns]",
      "text/html": "<div>\n<style scoped>\n    .dataframe tbody tr th:only-of-type {\n        vertical-align: middle;\n    }\n\n    .dataframe tbody tr th {\n        vertical-align: top;\n    }\n\n    .dataframe thead th {\n        text-align: right;\n    }\n</style>\n<table border=\"1\" class=\"dataframe\">\n  <thead>\n    <tr style=\"text-align: right;\">\n      <th></th>\n      <th>job_link</th>\n      <th>last_processed_time</th>\n      <th>got_summary</th>\n      <th>got_ner</th>\n      <th>is_being_worked</th>\n      <th>job_title</th>\n      <th>company</th>\n      <th>job_location</th>\n      <th>first_seen</th>\n      <th>search_city</th>\n      <th>search_country</th>\n      <th>search_position</th>\n      <th>job_level</th>\n      <th>job_type</th>\n      <th>job_skills</th>\n      <th>job_summary</th>\n      <th>id</th>\n      <th>summary_len</th>\n      <th>skill_count</th>\n    </tr>\n  </thead>\n  <tbody>\n    <tr>\n      <th>1000</th>\n      <td>https://www.linkedin.com/jobs/view/master-sche...</td>\n      <td>2024-01-21 13:08:00.689444+00</td>\n      <td>t</td>\n      <td>t</td>\n      <td>f</td>\n      <td>Master Scheduler</td>\n      <td>Baltimore Aircoil Company</td>\n      <td>Dayton, TN</td>\n      <td>2024-01-17</td>\n      <td>Tennessee</td>\n      <td>United States</td>\n      <td>Traffic Agent</td>\n      <td>Mid senior</td>\n      <td>Onsite</td>\n      <td>Operations, Supply Chain, MRP systems, SAP ERP...</td>\n      <td>Baltimore Aircoil Company (BAC), an Amsted Ind...</td>\n      <td>866062</td>\n      <td>5864</td>\n      <td>77</td>\n    </tr>\n    <tr>\n      <th>1001</th>\n      <td>https://www.linkedin.com/jobs/view/master-tech...</td>\n      <td>2024-01-19 09:45:09.215838+00</td>\n      <td>t</td>\n      <td>t</td>\n      <td>f</td>\n      <td>Master Technician</td>\n      <td>A. O. Smith Corporation</td>\n      <td>Lebanon, TN</td>\n      <td>2024-01-12</td>\n      <td>Watertown</td>\n      <td>United States</td>\n      <td>Assembler</td>\n      <td>Mid senior</td>\n      <td>Onsite</td>\n      <td>Engineering, Product Development, Innovation, ...</td>\n      <td>Company / Location Information\\nWater technolo...</td>\n      <td>531893</td>\n      <td>4514</td>\n      <td>32</td>\n    </tr>\n    <tr>\n      <th>1002</th>\n      <td>https://www.linkedin.com/jobs/view/material-ha...</td>\n      <td>2024-01-21 15:59:00.747387+00</td>\n      <td>t</td>\n      <td>t</td>\n      <td>f</td>\n      <td>Material Handler</td>\n      <td>IMI Critical Engineering</td>\n      <td>Rancho Santa Margarita, CA</td>\n      <td>2024-01-16</td>\n      <td>Corona</td>\n      <td>United States</td>\n      <td>Route Supervisor</td>\n      <td>Associate</td>\n      <td>Onsite</td>\n      <td>Forklift operation, Stacker operation, Metal c...</td>\n      <td>About IMI\\nIMI plc, the specialist engineering...</td>\n      <td>927220</td>\n      <td>6292</td>\n      <td>80</td>\n    </tr>\n    <tr>\n      <th>1003</th>\n      <td>https://www.linkedin.com/jobs/view/materials-m...</td>\n      <td>2024-01-21 01:30:05.765203+00</td>\n      <td>t</td>\n      <td>t</td>\n      <td>f</td>\n      <td>Materials Manager</td>\n      <td>Pregis</td>\n      <td>Bensenville, IL</td>\n      <td>2024-01-16</td>\n      <td>Elgin</td>\n      <td>United States</td>\n      <td>Manager Procurement Services</td>\n      <td>Mid senior</td>\n      <td>Onsite</td>\n      <td>Leadership, Talent management, 5S program, Pro...</td>\n      <td>We're Not Just in the Packaging Business - We'...</td>\n      <td>1195068</td>\n      <td>5323</td>\n      <td>42</td>\n    </tr>\n    <tr>\n      <th>1004</th>\n      <td>https://www.linkedin.com/jobs/view/materials-p...</td>\n      <td>2024-01-19 13:06:03.847966+00</td>\n      <td>t</td>\n      <td>t</td>\n      <td>f</td>\n      <td>Materials Planner</td>\n      <td>Faraday Future</td>\n      <td>Hanford, CA</td>\n      <td>2024-01-14</td>\n      <td>Selma</td>\n      <td>United States</td>\n      <td>Scheduler</td>\n      <td>Mid senior</td>\n      <td>Onsite</td>\n      <td>SAP, MRP software, Excel, Word, PowerPoint, Ou...</td>\n      <td>The Company:\\nFaraday Future (FF) is a Califor...</td>\n      <td>818707</td>\n      <td>5205</td>\n      <td>30</td>\n    </tr>\n    <tr>\n      <th>...</th>\n      <td>...</td>\n      <td>...</td>\n      <td>...</td>\n      <td>...</td>\n      <td>...</td>\n      <td>...</td>\n      <td>...</td>\n      <td>...</td>\n      <td>...</td>\n      <td>...</td>\n      <td>...</td>\n      <td>...</td>\n      <td>...</td>\n      <td>...</td>\n      <td>...</td>\n      <td>...</td>\n      <td>...</td>\n      <td>...</td>\n      <td>...</td>\n    </tr>\n    <tr>\n      <th>1495</th>\n      <td>https://uk.linkedin.com/jobs/view/workshop-con...</td>\n      <td>2024-01-19 09:45:09.215838+00</td>\n      <td>t</td>\n      <td>t</td>\n      <td>f</td>\n      <td>Workshop Controller</td>\n      <td>Activate Group Limited</td>\n      <td>Bury St. Edmunds, England, United Kingdom</td>\n      <td>2024-01-13</td>\n      <td>Ipswich</td>\n      <td>United Kingdom</td>\n      <td>Controller</td>\n      <td>Mid senior</td>\n      <td>Onsite</td>\n      <td>Workshop Control, Body Shop Management, HighQu...</td>\n      <td>Job title: Workshop Controller\\nDepartment: Ac...</td>\n      <td>321651</td>\n      <td>4703</td>\n      <td>32</td>\n    </tr>\n    <tr>\n      <th>1496</th>\n      <td>https://www.linkedin.com/jobs/view/x-ray-techn...</td>\n      <td>2024-01-21 04:16:54.473867+00</td>\n      <td>t</td>\n      <td>t</td>\n      <td>f</td>\n      <td>X-Ray Technologist</td>\n      <td>Fast Pace Health</td>\n      <td>Grant, AL</td>\n      <td>2024-01-17</td>\n      <td>Guntersville</td>\n      <td>United States</td>\n      <td>Ultrasound Technologist</td>\n      <td>Mid senior</td>\n      <td>Onsite</td>\n      <td>XRay Technologist, HIPAA, Patient intake, Nurs...</td>\n      <td>Posting Title: X-Ray Technologist Overview:\\nF...</td>\n      <td>1230454</td>\n      <td>5704</td>\n      <td>38</td>\n    </tr>\n    <tr>\n      <th>1497</th>\n      <td>https://www.linkedin.com/jobs/view/xfinity-ret...</td>\n      <td>2024-01-19 23:17:04.320124+00</td>\n      <td>t</td>\n      <td>t</td>\n      <td>f</td>\n      <td>Xfinity Retail Sales Consultant</td>\n      <td>XFINITY Store by Comcast</td>\n      <td>East Brunswick, NJ</td>\n      <td>2024-01-14</td>\n      <td>Long Branch</td>\n      <td>United States</td>\n      <td>Sales-Service Promoter</td>\n      <td>Mid senior</td>\n      <td>Onsite</td>\n      <td>Customer service, Product demonstration, Probl...</td>\n      <td>Job Summary\\nResponsible for assisting and con...</td>\n      <td>159258</td>\n      <td>4839</td>\n      <td>32</td>\n    </tr>\n    <tr>\n      <th>1498</th>\n      <td>https://www.linkedin.com/jobs/view/yard-associ...</td>\n      <td>2024-01-19 09:45:09.215838+00</td>\n      <td>t</td>\n      <td>t</td>\n      <td>f</td>\n      <td>Yard Associate (SkillBridge)</td>\n      <td>ARMOR Initiative</td>\n      <td>Kansas City, MO</td>\n      <td>2024-01-13</td>\n      <td>Leavenworth</td>\n      <td>United States</td>\n      <td>Orderly</td>\n      <td>Associate</td>\n      <td>Onsite</td>\n      <td>DoD SkillBridge Internship, Fulltime training,...</td>\n      <td>The ARMOR Initiative DoD SkillBridge Internshi...</td>\n      <td>774643</td>\n      <td>2277</td>\n      <td>30</td>\n    </tr>\n    <tr>\n      <th>1499</th>\n      <td>https://www.linkedin.com/jobs/view/yoga-instru...</td>\n      <td>2024-01-19 09:45:09.215838+00</td>\n      <td>t</td>\n      <td>t</td>\n      <td>f</td>\n      <td>Yoga Instructor</td>\n      <td>Active Wellness</td>\n      <td>Plantation, FL</td>\n      <td>2024-01-13</td>\n      <td>Sarasota</td>\n      <td>United States</td>\n      <td>Instructor</td>\n      <td>Mid senior</td>\n      <td>Onsite</td>\n      <td>Yoga, Pranayama, Handson direction, Safe and e...</td>\n      <td>Job Description\\nJob Title: Yoga Instructor\\nP...</td>\n      <td>700821</td>\n      <td>3452</td>\n      <td>30</td>\n    </tr>\n  </tbody>\n</table>\n<p>500 rows × 19 columns</p>\n</div>"
     },
     "metadata": {},
     "output_type": "display_data"
    }
   ],
   "source": [
    "display(sampled_df.head(500))\n",
    "display(sampled_df.head(1000).tail(500))\n",
    "display(sampled_df.tail(500))"
   ],
   "metadata": {
    "collapsed": false,
    "ExecuteTime": {
     "end_time": "2025-02-28T00:54:13.857245Z",
     "start_time": "2025-02-28T00:54:13.839514Z"
    }
   },
   "id": "414df1f9a065c2c8",
   "execution_count": 19
  },
  {
   "cell_type": "code",
   "outputs": [],
   "source": [
    "# Writing to 3 different sample files\n",
    "sampled_df.head(500).to_csv(f\"{path}/data/sampled_linkedin_jd_skills/sampled_jd_skills_set1.csv\", index=False)\n",
    "sampled_df.head(1000).tail(500).to_csv(f\"{path}/data/sampled_linkedin_jd_skills/sampled_jd_skills_set2.csv\", index=False)\n",
    "sampled_df.tail(500).to_csv(f\"{path}/data/sampled_linkedin_jd_skills/sampled_jd_skills_set3.csv\", index=False)"
   ],
   "metadata": {
    "collapsed": false,
    "ExecuteTime": {
     "end_time": "2025-02-28T00:54:13.980758Z",
     "start_time": "2025-02-28T00:54:13.858047Z"
    }
   },
   "id": "6fd00ceb4cf36fc2",
   "execution_count": 20
  }
 ],
 "metadata": {
  "kernelspec": {
   "name": "ars",
   "language": "python",
   "display_name": "Python (ARS)"
  },
  "language_info": {
   "codemirror_mode": {
    "name": "ipython",
    "version": 2
   },
   "file_extension": ".py",
   "mimetype": "text/x-python",
   "name": "python",
   "nbconvert_exporter": "python",
   "pygments_lexer": "ipython2",
   "version": "2.7.6"
  }
 },
 "nbformat": 4,
 "nbformat_minor": 5
}
