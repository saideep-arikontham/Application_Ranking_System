{
 "cells": [
  {
   "cell_type": "markdown",
   "source": [
    "# Generating synthetic Resumes"
   ],
   "metadata": {
    "collapsed": false
   },
   "id": "6a3c17b5dae3fcef"
  },
  {
   "cell_type": "markdown",
   "source": [
    "## Importing libraries"
   ],
   "metadata": {
    "collapsed": false
   },
   "id": "f7764ad329b7af87"
  },
  {
   "cell_type": "code",
   "outputs": [],
   "source": [
    "from langchain_core.prompts import ChatPromptTemplate\n",
    "from langchain_ollama.llms import OllamaLLM\n",
    "from langchain_nvidia_ai_endpoints import ChatNVIDIA\n",
    "import asyncio\n",
    "import time\n",
    "import nest_asyncio\n",
    "import json\n",
    "from faker import Faker\n",
    "\n",
    "import os\n",
    "import pandas as pd\n",
    "\n",
    "# Set Pandas to display all columns\n",
    "pd.set_option('display.max_columns', None)"
   ],
   "metadata": {
    "collapsed": false,
    "ExecuteTime": {
     "end_time": "2025-03-01T17:54:04.573637Z",
     "start_time": "2025-03-01T17:54:03.962270Z"
    }
   },
   "id": "bbadd149006314db",
   "execution_count": 1
  },
  {
   "cell_type": "code",
   "outputs": [
    {
     "name": "stdout",
     "output_type": "stream",
     "text": [
      "/Users/saideepbunny/Projects/Application_Ranking_System\n"
     ]
    }
   ],
   "source": [
    "import os\n",
    "import sys\n",
    "from pathlib import Path\n",
    "\n",
    "path = Path(os.path.dirname(os.getcwd()))\n",
    "path = str(path)\n",
    "print(path)\n",
    "sys.path.insert(1, path)"
   ],
   "metadata": {
    "collapsed": false,
    "ExecuteTime": {
     "end_time": "2025-03-01T17:54:04.576970Z",
     "start_time": "2025-03-01T17:54:04.574585Z"
    }
   },
   "id": "98783e51b2042256",
   "execution_count": 2
  },
  {
   "cell_type": "markdown",
   "source": [
    "## Reading the data"
   ],
   "metadata": {
    "collapsed": false
   },
   "id": "53739bd2748bdc65"
  },
  {
   "cell_type": "code",
   "outputs": [],
   "source": [
    "# There are 3 sets, this notebook will be run for 3 times by changing the set_number value. \n",
    "# This is because of the NVIDIA API credit limitation.\n",
    "set_number = 3"
   ],
   "metadata": {
    "collapsed": false,
    "ExecuteTime": {
     "end_time": "2025-03-01T17:54:04.579066Z",
     "start_time": "2025-03-01T17:54:04.577572Z"
    }
   },
   "id": "b5abc7dead4b90e",
   "execution_count": 3
  },
  {
   "cell_type": "code",
   "outputs": [
    {
     "data": {
      "text/plain": "                                              job_link  \\\n0    https://www.linkedin.com/jobs/view/master-sche...   \n1    https://www.linkedin.com/jobs/view/master-tech...   \n2    https://www.linkedin.com/jobs/view/material-ha...   \n3    https://www.linkedin.com/jobs/view/materials-m...   \n4    https://www.linkedin.com/jobs/view/materials-p...   \n..                                                 ...   \n495  https://uk.linkedin.com/jobs/view/workshop-con...   \n496  https://www.linkedin.com/jobs/view/x-ray-techn...   \n497  https://www.linkedin.com/jobs/view/xfinity-ret...   \n498  https://www.linkedin.com/jobs/view/yard-associ...   \n499  https://www.linkedin.com/jobs/view/yoga-instru...   \n\n               last_processed_time got_summary got_ner is_being_worked  \\\n0    2024-01-21 13:08:00.689444+00           t       t               f   \n1    2024-01-19 09:45:09.215838+00           t       t               f   \n2    2024-01-21 15:59:00.747387+00           t       t               f   \n3    2024-01-21 01:30:05.765203+00           t       t               f   \n4    2024-01-19 13:06:03.847966+00           t       t               f   \n..                             ...         ...     ...             ...   \n495  2024-01-19 09:45:09.215838+00           t       t               f   \n496  2024-01-21 04:16:54.473867+00           t       t               f   \n497  2024-01-19 23:17:04.320124+00           t       t               f   \n498  2024-01-19 09:45:09.215838+00           t       t               f   \n499  2024-01-19 09:45:09.215838+00           t       t               f   \n\n                           job_title                    company  \\\n0                   Master Scheduler  Baltimore Aircoil Company   \n1                  Master Technician    A. O. Smith Corporation   \n2                   Material Handler   IMI Critical Engineering   \n3                  Materials Manager                     Pregis   \n4                  Materials Planner             Faraday Future   \n..                               ...                        ...   \n495              Workshop Controller     Activate Group Limited   \n496               X-Ray Technologist           Fast Pace Health   \n497  Xfinity Retail Sales Consultant   XFINITY Store by Comcast   \n498     Yard Associate (SkillBridge)           ARMOR Initiative   \n499                  Yoga Instructor            Active Wellness   \n\n                                  job_location  first_seen   search_city  \\\n0                                   Dayton, TN  2024-01-17     Tennessee   \n1                                  Lebanon, TN  2024-01-12     Watertown   \n2                   Rancho Santa Margarita, CA  2024-01-16        Corona   \n3                              Bensenville, IL  2024-01-16         Elgin   \n4                                  Hanford, CA  2024-01-14         Selma   \n..                                         ...         ...           ...   \n495  Bury St. Edmunds, England, United Kingdom  2024-01-13       Ipswich   \n496                                  Grant, AL  2024-01-17  Guntersville   \n497                         East Brunswick, NJ  2024-01-14   Long Branch   \n498                            Kansas City, MO  2024-01-13   Leavenworth   \n499                             Plantation, FL  2024-01-13      Sarasota   \n\n     search_country               search_position   job_level job_type  \\\n0     United States                 Traffic Agent  Mid senior   Onsite   \n1     United States                     Assembler  Mid senior   Onsite   \n2     United States              Route Supervisor   Associate   Onsite   \n3     United States  Manager Procurement Services  Mid senior   Onsite   \n4     United States                     Scheduler  Mid senior   Onsite   \n..              ...                           ...         ...      ...   \n495  United Kingdom                    Controller  Mid senior   Onsite   \n496   United States       Ultrasound Technologist  Mid senior   Onsite   \n497   United States        Sales-Service Promoter  Mid senior   Onsite   \n498   United States                       Orderly   Associate   Onsite   \n499   United States                    Instructor  Mid senior   Onsite   \n\n                                            job_skills  \\\n0    Operations, Supply Chain, MRP systems, SAP ERP...   \n1    Engineering, Product Development, Innovation, ...   \n2    Forklift operation, Stacker operation, Metal c...   \n3    Leadership, Talent management, 5S program, Pro...   \n4    SAP, MRP software, Excel, Word, PowerPoint, Ou...   \n..                                                 ...   \n495  Workshop Control, Body Shop Management, HighQu...   \n496  XRay Technologist, HIPAA, Patient intake, Nurs...   \n497  Customer service, Product demonstration, Probl...   \n498  DoD SkillBridge Internship, Fulltime training,...   \n499  Yoga, Pranayama, Handson direction, Safe and e...   \n\n                                           job_summary       id  summary_len  \\\n0    Baltimore Aircoil Company (BAC), an Amsted Ind...   866062         5864   \n1    Company / Location Information\\nWater technolo...   531893         4514   \n2    About IMI\\nIMI plc, the specialist engineering...   927220         6292   \n3    We're Not Just in the Packaging Business - We'...  1195068         5323   \n4    The Company:\\nFaraday Future (FF) is a Califor...   818707         5205   \n..                                                 ...      ...          ...   \n495  Job title: Workshop Controller\\nDepartment: Ac...   321651         4703   \n496  Posting Title: X-Ray Technologist Overview:\\nF...  1230454         5704   \n497  Job Summary\\nResponsible for assisting and con...   159258         4839   \n498  The ARMOR Initiative DoD SkillBridge Internshi...   774643         2277   \n499  Job Description\\nJob Title: Yoga Instructor\\nP...   700821         3452   \n\n     skill_count  \n0             77  \n1             32  \n2             80  \n3             42  \n4             30  \n..           ...  \n495           32  \n496           38  \n497           32  \n498           30  \n499           30  \n\n[500 rows x 19 columns]",
      "text/html": "<div>\n<style scoped>\n    .dataframe tbody tr th:only-of-type {\n        vertical-align: middle;\n    }\n\n    .dataframe tbody tr th {\n        vertical-align: top;\n    }\n\n    .dataframe thead th {\n        text-align: right;\n    }\n</style>\n<table border=\"1\" class=\"dataframe\">\n  <thead>\n    <tr style=\"text-align: right;\">\n      <th></th>\n      <th>job_link</th>\n      <th>last_processed_time</th>\n      <th>got_summary</th>\n      <th>got_ner</th>\n      <th>is_being_worked</th>\n      <th>job_title</th>\n      <th>company</th>\n      <th>job_location</th>\n      <th>first_seen</th>\n      <th>search_city</th>\n      <th>search_country</th>\n      <th>search_position</th>\n      <th>job_level</th>\n      <th>job_type</th>\n      <th>job_skills</th>\n      <th>job_summary</th>\n      <th>id</th>\n      <th>summary_len</th>\n      <th>skill_count</th>\n    </tr>\n  </thead>\n  <tbody>\n    <tr>\n      <th>0</th>\n      <td>https://www.linkedin.com/jobs/view/master-sche...</td>\n      <td>2024-01-21 13:08:00.689444+00</td>\n      <td>t</td>\n      <td>t</td>\n      <td>f</td>\n      <td>Master Scheduler</td>\n      <td>Baltimore Aircoil Company</td>\n      <td>Dayton, TN</td>\n      <td>2024-01-17</td>\n      <td>Tennessee</td>\n      <td>United States</td>\n      <td>Traffic Agent</td>\n      <td>Mid senior</td>\n      <td>Onsite</td>\n      <td>Operations, Supply Chain, MRP systems, SAP ERP...</td>\n      <td>Baltimore Aircoil Company (BAC), an Amsted Ind...</td>\n      <td>866062</td>\n      <td>5864</td>\n      <td>77</td>\n    </tr>\n    <tr>\n      <th>1</th>\n      <td>https://www.linkedin.com/jobs/view/master-tech...</td>\n      <td>2024-01-19 09:45:09.215838+00</td>\n      <td>t</td>\n      <td>t</td>\n      <td>f</td>\n      <td>Master Technician</td>\n      <td>A. O. Smith Corporation</td>\n      <td>Lebanon, TN</td>\n      <td>2024-01-12</td>\n      <td>Watertown</td>\n      <td>United States</td>\n      <td>Assembler</td>\n      <td>Mid senior</td>\n      <td>Onsite</td>\n      <td>Engineering, Product Development, Innovation, ...</td>\n      <td>Company / Location Information\\nWater technolo...</td>\n      <td>531893</td>\n      <td>4514</td>\n      <td>32</td>\n    </tr>\n    <tr>\n      <th>2</th>\n      <td>https://www.linkedin.com/jobs/view/material-ha...</td>\n      <td>2024-01-21 15:59:00.747387+00</td>\n      <td>t</td>\n      <td>t</td>\n      <td>f</td>\n      <td>Material Handler</td>\n      <td>IMI Critical Engineering</td>\n      <td>Rancho Santa Margarita, CA</td>\n      <td>2024-01-16</td>\n      <td>Corona</td>\n      <td>United States</td>\n      <td>Route Supervisor</td>\n      <td>Associate</td>\n      <td>Onsite</td>\n      <td>Forklift operation, Stacker operation, Metal c...</td>\n      <td>About IMI\\nIMI plc, the specialist engineering...</td>\n      <td>927220</td>\n      <td>6292</td>\n      <td>80</td>\n    </tr>\n    <tr>\n      <th>3</th>\n      <td>https://www.linkedin.com/jobs/view/materials-m...</td>\n      <td>2024-01-21 01:30:05.765203+00</td>\n      <td>t</td>\n      <td>t</td>\n      <td>f</td>\n      <td>Materials Manager</td>\n      <td>Pregis</td>\n      <td>Bensenville, IL</td>\n      <td>2024-01-16</td>\n      <td>Elgin</td>\n      <td>United States</td>\n      <td>Manager Procurement Services</td>\n      <td>Mid senior</td>\n      <td>Onsite</td>\n      <td>Leadership, Talent management, 5S program, Pro...</td>\n      <td>We're Not Just in the Packaging Business - We'...</td>\n      <td>1195068</td>\n      <td>5323</td>\n      <td>42</td>\n    </tr>\n    <tr>\n      <th>4</th>\n      <td>https://www.linkedin.com/jobs/view/materials-p...</td>\n      <td>2024-01-19 13:06:03.847966+00</td>\n      <td>t</td>\n      <td>t</td>\n      <td>f</td>\n      <td>Materials Planner</td>\n      <td>Faraday Future</td>\n      <td>Hanford, CA</td>\n      <td>2024-01-14</td>\n      <td>Selma</td>\n      <td>United States</td>\n      <td>Scheduler</td>\n      <td>Mid senior</td>\n      <td>Onsite</td>\n      <td>SAP, MRP software, Excel, Word, PowerPoint, Ou...</td>\n      <td>The Company:\\nFaraday Future (FF) is a Califor...</td>\n      <td>818707</td>\n      <td>5205</td>\n      <td>30</td>\n    </tr>\n    <tr>\n      <th>...</th>\n      <td>...</td>\n      <td>...</td>\n      <td>...</td>\n      <td>...</td>\n      <td>...</td>\n      <td>...</td>\n      <td>...</td>\n      <td>...</td>\n      <td>...</td>\n      <td>...</td>\n      <td>...</td>\n      <td>...</td>\n      <td>...</td>\n      <td>...</td>\n      <td>...</td>\n      <td>...</td>\n      <td>...</td>\n      <td>...</td>\n      <td>...</td>\n    </tr>\n    <tr>\n      <th>495</th>\n      <td>https://uk.linkedin.com/jobs/view/workshop-con...</td>\n      <td>2024-01-19 09:45:09.215838+00</td>\n      <td>t</td>\n      <td>t</td>\n      <td>f</td>\n      <td>Workshop Controller</td>\n      <td>Activate Group Limited</td>\n      <td>Bury St. Edmunds, England, United Kingdom</td>\n      <td>2024-01-13</td>\n      <td>Ipswich</td>\n      <td>United Kingdom</td>\n      <td>Controller</td>\n      <td>Mid senior</td>\n      <td>Onsite</td>\n      <td>Workshop Control, Body Shop Management, HighQu...</td>\n      <td>Job title: Workshop Controller\\nDepartment: Ac...</td>\n      <td>321651</td>\n      <td>4703</td>\n      <td>32</td>\n    </tr>\n    <tr>\n      <th>496</th>\n      <td>https://www.linkedin.com/jobs/view/x-ray-techn...</td>\n      <td>2024-01-21 04:16:54.473867+00</td>\n      <td>t</td>\n      <td>t</td>\n      <td>f</td>\n      <td>X-Ray Technologist</td>\n      <td>Fast Pace Health</td>\n      <td>Grant, AL</td>\n      <td>2024-01-17</td>\n      <td>Guntersville</td>\n      <td>United States</td>\n      <td>Ultrasound Technologist</td>\n      <td>Mid senior</td>\n      <td>Onsite</td>\n      <td>XRay Technologist, HIPAA, Patient intake, Nurs...</td>\n      <td>Posting Title: X-Ray Technologist Overview:\\nF...</td>\n      <td>1230454</td>\n      <td>5704</td>\n      <td>38</td>\n    </tr>\n    <tr>\n      <th>497</th>\n      <td>https://www.linkedin.com/jobs/view/xfinity-ret...</td>\n      <td>2024-01-19 23:17:04.320124+00</td>\n      <td>t</td>\n      <td>t</td>\n      <td>f</td>\n      <td>Xfinity Retail Sales Consultant</td>\n      <td>XFINITY Store by Comcast</td>\n      <td>East Brunswick, NJ</td>\n      <td>2024-01-14</td>\n      <td>Long Branch</td>\n      <td>United States</td>\n      <td>Sales-Service Promoter</td>\n      <td>Mid senior</td>\n      <td>Onsite</td>\n      <td>Customer service, Product demonstration, Probl...</td>\n      <td>Job Summary\\nResponsible for assisting and con...</td>\n      <td>159258</td>\n      <td>4839</td>\n      <td>32</td>\n    </tr>\n    <tr>\n      <th>498</th>\n      <td>https://www.linkedin.com/jobs/view/yard-associ...</td>\n      <td>2024-01-19 09:45:09.215838+00</td>\n      <td>t</td>\n      <td>t</td>\n      <td>f</td>\n      <td>Yard Associate (SkillBridge)</td>\n      <td>ARMOR Initiative</td>\n      <td>Kansas City, MO</td>\n      <td>2024-01-13</td>\n      <td>Leavenworth</td>\n      <td>United States</td>\n      <td>Orderly</td>\n      <td>Associate</td>\n      <td>Onsite</td>\n      <td>DoD SkillBridge Internship, Fulltime training,...</td>\n      <td>The ARMOR Initiative DoD SkillBridge Internshi...</td>\n      <td>774643</td>\n      <td>2277</td>\n      <td>30</td>\n    </tr>\n    <tr>\n      <th>499</th>\n      <td>https://www.linkedin.com/jobs/view/yoga-instru...</td>\n      <td>2024-01-19 09:45:09.215838+00</td>\n      <td>t</td>\n      <td>t</td>\n      <td>f</td>\n      <td>Yoga Instructor</td>\n      <td>Active Wellness</td>\n      <td>Plantation, FL</td>\n      <td>2024-01-13</td>\n      <td>Sarasota</td>\n      <td>United States</td>\n      <td>Instructor</td>\n      <td>Mid senior</td>\n      <td>Onsite</td>\n      <td>Yoga, Pranayama, Handson direction, Safe and e...</td>\n      <td>Job Description\\nJob Title: Yoga Instructor\\nP...</td>\n      <td>700821</td>\n      <td>3452</td>\n      <td>30</td>\n    </tr>\n  </tbody>\n</table>\n<p>500 rows × 19 columns</p>\n</div>"
     },
     "execution_count": 4,
     "metadata": {},
     "output_type": "execute_result"
    }
   ],
   "source": [
    "df = pd.read_csv(f\"{path}/data/sampled_linkedin_jd_skills/sampled_jd_skills_set{set_number}.csv\")\n",
    "df"
   ],
   "metadata": {
    "collapsed": false,
    "ExecuteTime": {
     "end_time": "2025-03-01T17:54:04.624276Z",
     "start_time": "2025-03-01T17:54:04.580374Z"
    }
   },
   "id": "820971482b63736d",
   "execution_count": 4
  },
  {
   "cell_type": "code",
   "outputs": [
    {
     "data": {
      "text/plain": "500"
     },
     "execution_count": 5,
     "metadata": {},
     "output_type": "execute_result"
    }
   ],
   "source": [
    "df['id'].nunique()"
   ],
   "metadata": {
    "collapsed": false,
    "ExecuteTime": {
     "end_time": "2025-03-01T17:54:04.628584Z",
     "start_time": "2025-03-01T17:54:04.625135Z"
    }
   },
   "id": "1d4320b110f3093d",
   "execution_count": 5
  },
  {
   "cell_type": "markdown",
   "source": [
    "## Selecting required columns"
   ],
   "metadata": {
    "collapsed": false
   },
   "id": "e48f154c699586cb"
  },
  {
   "cell_type": "code",
   "outputs": [
    {
     "data": {
      "text/plain": "          id                        job_title                    company  \\\n0     866062                 Master Scheduler  Baltimore Aircoil Company   \n1     531893                Master Technician    A. O. Smith Corporation   \n2     927220                 Material Handler   IMI Critical Engineering   \n3    1195068                Materials Manager                     Pregis   \n4     818707                Materials Planner             Faraday Future   \n..       ...                              ...                        ...   \n495   321651              Workshop Controller     Activate Group Limited   \n496  1230454               X-Ray Technologist           Fast Pace Health   \n497   159258  Xfinity Retail Sales Consultant   XFINITY Store by Comcast   \n498   774643     Yard Associate (SkillBridge)           ARMOR Initiative   \n499   700821                  Yoga Instructor            Active Wellness   \n\n                                            job_skills  \\\n0    Operations, Supply Chain, MRP systems, SAP ERP...   \n1    Engineering, Product Development, Innovation, ...   \n2    Forklift operation, Stacker operation, Metal c...   \n3    Leadership, Talent management, 5S program, Pro...   \n4    SAP, MRP software, Excel, Word, PowerPoint, Ou...   \n..                                                 ...   \n495  Workshop Control, Body Shop Management, HighQu...   \n496  XRay Technologist, HIPAA, Patient intake, Nurs...   \n497  Customer service, Product demonstration, Probl...   \n498  DoD SkillBridge Internship, Fulltime training,...   \n499  Yoga, Pranayama, Handson direction, Safe and e...   \n\n                                           job_summary  \n0    Baltimore Aircoil Company (BAC), an Amsted Ind...  \n1    Company / Location Information\\nWater technolo...  \n2    About IMI\\nIMI plc, the specialist engineering...  \n3    We're Not Just in the Packaging Business - We'...  \n4    The Company:\\nFaraday Future (FF) is a Califor...  \n..                                                 ...  \n495  Job title: Workshop Controller\\nDepartment: Ac...  \n496  Posting Title: X-Ray Technologist Overview:\\nF...  \n497  Job Summary\\nResponsible for assisting and con...  \n498  The ARMOR Initiative DoD SkillBridge Internshi...  \n499  Job Description\\nJob Title: Yoga Instructor\\nP...  \n\n[500 rows x 5 columns]",
      "text/html": "<div>\n<style scoped>\n    .dataframe tbody tr th:only-of-type {\n        vertical-align: middle;\n    }\n\n    .dataframe tbody tr th {\n        vertical-align: top;\n    }\n\n    .dataframe thead th {\n        text-align: right;\n    }\n</style>\n<table border=\"1\" class=\"dataframe\">\n  <thead>\n    <tr style=\"text-align: right;\">\n      <th></th>\n      <th>id</th>\n      <th>job_title</th>\n      <th>company</th>\n      <th>job_skills</th>\n      <th>job_summary</th>\n    </tr>\n  </thead>\n  <tbody>\n    <tr>\n      <th>0</th>\n      <td>866062</td>\n      <td>Master Scheduler</td>\n      <td>Baltimore Aircoil Company</td>\n      <td>Operations, Supply Chain, MRP systems, SAP ERP...</td>\n      <td>Baltimore Aircoil Company (BAC), an Amsted Ind...</td>\n    </tr>\n    <tr>\n      <th>1</th>\n      <td>531893</td>\n      <td>Master Technician</td>\n      <td>A. O. Smith Corporation</td>\n      <td>Engineering, Product Development, Innovation, ...</td>\n      <td>Company / Location Information\\nWater technolo...</td>\n    </tr>\n    <tr>\n      <th>2</th>\n      <td>927220</td>\n      <td>Material Handler</td>\n      <td>IMI Critical Engineering</td>\n      <td>Forklift operation, Stacker operation, Metal c...</td>\n      <td>About IMI\\nIMI plc, the specialist engineering...</td>\n    </tr>\n    <tr>\n      <th>3</th>\n      <td>1195068</td>\n      <td>Materials Manager</td>\n      <td>Pregis</td>\n      <td>Leadership, Talent management, 5S program, Pro...</td>\n      <td>We're Not Just in the Packaging Business - We'...</td>\n    </tr>\n    <tr>\n      <th>4</th>\n      <td>818707</td>\n      <td>Materials Planner</td>\n      <td>Faraday Future</td>\n      <td>SAP, MRP software, Excel, Word, PowerPoint, Ou...</td>\n      <td>The Company:\\nFaraday Future (FF) is a Califor...</td>\n    </tr>\n    <tr>\n      <th>...</th>\n      <td>...</td>\n      <td>...</td>\n      <td>...</td>\n      <td>...</td>\n      <td>...</td>\n    </tr>\n    <tr>\n      <th>495</th>\n      <td>321651</td>\n      <td>Workshop Controller</td>\n      <td>Activate Group Limited</td>\n      <td>Workshop Control, Body Shop Management, HighQu...</td>\n      <td>Job title: Workshop Controller\\nDepartment: Ac...</td>\n    </tr>\n    <tr>\n      <th>496</th>\n      <td>1230454</td>\n      <td>X-Ray Technologist</td>\n      <td>Fast Pace Health</td>\n      <td>XRay Technologist, HIPAA, Patient intake, Nurs...</td>\n      <td>Posting Title: X-Ray Technologist Overview:\\nF...</td>\n    </tr>\n    <tr>\n      <th>497</th>\n      <td>159258</td>\n      <td>Xfinity Retail Sales Consultant</td>\n      <td>XFINITY Store by Comcast</td>\n      <td>Customer service, Product demonstration, Probl...</td>\n      <td>Job Summary\\nResponsible for assisting and con...</td>\n    </tr>\n    <tr>\n      <th>498</th>\n      <td>774643</td>\n      <td>Yard Associate (SkillBridge)</td>\n      <td>ARMOR Initiative</td>\n      <td>DoD SkillBridge Internship, Fulltime training,...</td>\n      <td>The ARMOR Initiative DoD SkillBridge Internshi...</td>\n    </tr>\n    <tr>\n      <th>499</th>\n      <td>700821</td>\n      <td>Yoga Instructor</td>\n      <td>Active Wellness</td>\n      <td>Yoga, Pranayama, Handson direction, Safe and e...</td>\n      <td>Job Description\\nJob Title: Yoga Instructor\\nP...</td>\n    </tr>\n  </tbody>\n</table>\n<p>500 rows × 5 columns</p>\n</div>"
     },
     "execution_count": 6,
     "metadata": {},
     "output_type": "execute_result"
    }
   ],
   "source": [
    "data_df = df[['id', 'job_title', 'company', 'job_skills', 'job_summary']].copy()\n",
    "data_df"
   ],
   "metadata": {
    "collapsed": false,
    "ExecuteTime": {
     "end_time": "2025-03-01T17:54:04.635118Z",
     "start_time": "2025-03-01T17:54:04.629299Z"
    }
   },
   "id": "46e0cdaba9a0c1b2",
   "execution_count": 6
  },
  {
   "cell_type": "markdown",
   "source": [
    "## Defining prompt template"
   ],
   "metadata": {
    "collapsed": false
   },
   "id": "3b550e9a24de7b23"
  },
  {
   "cell_type": "code",
   "outputs": [],
   "source": [
    "category_requirements = {\n",
    "    \"Complete Mismatch\": \"\"\"\n",
    "    The resume is highly professional but entirely unsuitable for the job. There is no meaningful alignment between the candidate's background and the job requirements.\n",
    "\n",
    "    - **Career Path:**  \n",
    "      - The candidate has spent their career in an industry that is entirely unrelated to the job. \n",
    "\n",
    "    - **Skills:**  \n",
    "      - There is no significant overlap between the candidate’s skills and the job requirements.  \n",
    "      - The candidate specializes in an entirely different domain and lacks both fundamental and advanced job-related skills.  \n",
    "      - Example: A mechanical engineer with expertise in CAD software applying for a data science role requiring Python and ML expertise.  \n",
    "\n",
    "    - **Experience:**  \n",
    "      - The candidate has extensive work experience, but all of it is in a completely different field.  \n",
    "      - Past roles have no transferable experience applicable to the new position.  \n",
    "\n",
    "    - **Education & Certifications:**  \n",
    "      - The candidate has degrees and certifications that do not contribute to the job requirements.  \n",
    "      - Their educational background and certifications are completely irrelevant to the job requirements.\n",
    "      \n",
    "    Be creative in choosing different background for the candidates that is irrelevant to the job requirements.\n",
    "    \"\"\",\n",
    "    \n",
    "    \"Underwhelming\": \"\"\"\n",
    "    The resume has some relevant aspects but falls noticeably short of the job requirements. The candidate may show potential but lacks key qualifications or experience to perform effectively in the role. The resume must satisfy at least one of the following conditions, though it may meet multiple.\n",
    "\n",
    "    - **Experience:**  \n",
    "      - The candidate has experience, but it is 30-50% less than the required level.  \n",
    "      - Applying for a mid-level role but has only entry-level experience or internship work.  \n",
    "      - Experience is somewhat related but lacks depth or key responsibilities expected for the role.  \n",
    "      - Example: A candidate applying for a data science position with only one year of experience in data entry and no hands-on machine learning projects.  \n",
    "\n",
    "    - **Skills:**  \n",
    "      - The candidate possesses 40-60% of the required skills but lacks proficiency in essential ones.  \n",
    "      - Skills are at a basic level when the job requires advanced knowledge.  \n",
    "      - Example: A software engineer applying for a full-stack role but only has frontend development experience and lacks backend/database knowledge.  \n",
    "\n",
    "    - **Projects/Work:**  \n",
    "      -- The experience falls short of the Responsibilities mentioned in **Job Description**\n",
    "      - The candidate has worked on projects, but they are limited in scope and do not demonstrate complex problem-solving.  \n",
    "      - Example: A candidate applying for an AI role who has only completed beginner-level projects like basic data visualization but has no experience building predictive models or deploying solutions.  \n",
    "\n",
    "    - **Education & Certifications:**  \n",
    "      - The candidate has a degree that is somewhat related but lacks specialized coursework, certifications, or domain expertise required for the job.  \n",
    "      - Example: An applicant with a general engineering degree applying for a cybersecurity role without security-specific training or certification.  \n",
    "    \"\"\",\n",
    "    \n",
    "    \"Good Fit\": \"\"\"\n",
    "    The resume is a strong match for the job and meets all key expectations. The candidate is well-qualified and aligns well with the role requirements.\n",
    "\n",
    "    - **Experience:**  \n",
    "      - The candidate has experience that meets or slightly exceeds the required level.  \n",
    "      - A progressive career trajectory is evident, showing growth in responsibility and expertise.  \n",
    "      - Example: A candidate applying for a mid-level data science role with 3+ years of experience in building machine learning models and optimizing data pipelines.  \n",
    "\n",
    "    - **Skills:**  \n",
    "      - 95-100% alignment with job requirements.  \n",
    "      - The candidate has demonstrated real-world application of skills, rather than just listing them.  \n",
    "      - Example: A full-stack developer listing React, Node.js, and PostgreSQL as key technologies and showing their application in past work.  \n",
    "\n",
    "    - **Projects/Work:**  \n",
    "      - The experience must be closer to the Responsibilities mentioned in **Job Description**.\n",
    "      - The candidate presents projects using an **Action-Problem-Result (APR)** format:  \n",
    "        - Performed [advanced strategic action] to resolve [complex systemic problem] resulting in [exceptional measurable outcomes with broad impact]. Use some kind of number as a metric for measurable outcome.\n",
    "      - Example: *Engineered an end-to-end claim complexity scoring ML pipeline, negating ~3 minutes of manual classification per claim, improving processing time by 20%.*  \n",
    "      - Build 4-5 bullet points for work experience.\n",
    "\n",
    "    - **Education & Certifications:**  \n",
    "      - The candidate's educational background is an exact match for the job, including relevant degrees and certifications.  \n",
    "      - Example: A software engineer applying for a backend development role with a Computer Science degree and AWS certification.  \n",
    "    \"\"\",\n",
    "    \n",
    "    \"Overqualified\": \"\"\"\n",
    "    The resume significantly exceeds job requirements, indicating that the candidate may be too advanced for the role.\n",
    "\n",
    "    - **Experience:**  \n",
    "      - The candidate has 3-5+ years more experience than required.  \n",
    "      - Holding leadership or advanced roles (e.g., senior manager, lead engineer) while applying for non-leadership positions.  \n",
    "      - Example: A data scientist with 10 years of experience and a track record of leading AI teams applying for a data analyst position.  \n",
    "\n",
    "    - **Skills:**  \n",
    "      - The candidate possesses every required skill and additional high-level expertise beyond what the job demands.  \n",
    "      - Example: A candidate applying for a software engineering role listing expertise in not only Python, Java, and C++, but also niche skills like CUDA programming for GPU acceleration.  \n",
    "\n",
    "    - **Projects/Work:**  \n",
    "      - The experience must be completely similar to the Responsibilities mentioned in **Job Description**.\n",
    "      - The candidate presents projects using an **Action-Problem-Result (APR)** format:  \n",
    "        - Performed [advanced strategic action] to resolve [complex systemic problem] resulting in [exceptional measurable outcomes with broad impact]. Use some kind of number as a metric for measurable outcome.\n",
    "      - Example: *Revised the existing claim assignment process to automatically assign claims classified by scoring engine to agents by prioritizing highly complex claims, achieving 100% automation.* \n",
    "      - Build 6 bullet points for work experience. \n",
    "\n",
    "    - **Education & Certifications:**  \n",
    "      - The candidate holds degrees and certifications beyond what is required for the role.  \n",
    "      - Example: A PhD in Artificial Intelligence applying for a mid-level software engineering position that only requires a Masters's degree.  \n",
    "\n",
    "    - **Career Progression:**  \n",
    "      - The candidate has a track record of rapid career growth, indicating they may be better suited for a senior role rather than the one they are applying for.  \n",
    "      - Example: Someone who went from junior developer to senior software architect in five years applying for a mid-level role.  \n",
    "    \"\"\"\n",
    "}\n",
    "\n",
    "\n",
    "# Candidate fit categories\n",
    "categories = [\"Complete Mismatch\", \"Underwhelming\", \"Good Fit\", \"Overqualified\"]"
   ],
   "metadata": {
    "collapsed": false,
    "ExecuteTime": {
     "end_time": "2025-03-01T17:54:04.639201Z",
     "start_time": "2025-03-01T17:54:04.635929Z"
    }
   },
   "id": "743390ed6948467c",
   "execution_count": 7
  },
  {
   "cell_type": "code",
   "outputs": [],
   "source": [
    "# Resume Generation Prompt for LLaMA Models\n",
    "\n",
    "resume_template = \"\"\"\n",
    "You are an expert resume writer with specialized knowledge in talent acquisition and hiring practices helping {name} to apply for a job. Your task is to generate a tailored, content-rich resume based on the provided inputs while strictly adhering to the specified fit category constraints. Below are the details of the job that the candidate will be applying to:\n",
    "\n",
    "## **Job Details**:\n",
    "{name} is applying for the company {company}. Below are the details for the job that the candidate will be applying to:\n",
    "- **Role:** {job_role}\n",
    "- **Job Description:** {jd}\n",
    "- **Required Skills:** {skills}\n",
    "\n",
    "**NOTE**: {name} will not have access to Required skills at the time of applying.\n",
    "\n",
    "## **Fit Category:** {fit_category}\n",
    "## **Category Requirements:**  \n",
    "{category_requirements}\n",
    "\n",
    "## **Instructions**:\n",
    "1. **Resume Objective**  \n",
    "   - Generate a professional resume that precisely aligns with the specified fit category ({fit_category}).\n",
    "   - Ensure the resume maintains industry standards and meets professional expectations.\n",
    "   - Structure the resume to be at least **600 words** with clearly defined sections.\n",
    "\n",
    "2. **Mandatory Sections**  \n",
    "   - **Education**: University, degree title, major, graduation year, GPA.\n",
    "   - **Skills**: Comma separated list of skills that include technical skills, soft skills, technologies, and other skills. List at least 15 and at most 40. Try not to exceed 40.\n",
    "   - **Work Experience**: Consists of company names, roles, employment type, duration, and detailed bullet points. Constitutes the work experience and work done for the company. Choose a company name, employment type and duration without leaving it blank. Be creative with the company names. **The company name should not be same as the one mentioned in Job Description**.\n",
    "   \n",
    "\n",
    "3. **Optional Sections (Context-Based)**  \n",
    "   - **Projects**: Required if work experience is limited, with clear descriptions and technology stack. This constitutes of the personal and academic projects.\n",
    "   - **Professional Summary**: Tailored to the fit category.\n",
    "   - **Certifications/Accomplishments**: Adjusted based on qualification level.\n",
    "   - **Additional Relevant Sections**: If beneficial, add elements such as leadership, research, or publications.\n",
    "\n",
    "4. **Formatting Guidelines**  \n",
    "   - Use **clear section headings**.\n",
    "   - Precede each bullet point with **\"-\"**.\n",
    "   - Make sure to include at least one of the sections from \"Work experience\" and \"Projects\" section. \n",
    "   - Mark key entities (**institutions, companies, project names**) with **\"*\"**.\n",
    "   - Each bullet point must be in between **150-180 characters**.\n",
    "   - Include:\n",
    "     - **4-6 bullet points** for work experience. \n",
    "     - **2-3 bullet points** per project.\n",
    "\n",
    "5. **Category-Specific Constraints**  \n",
    "   - **Complete Mismatch (0-30% relevance)**:\n",
    "     - Generate a resume from an **entirely different career path**.\n",
    "     - Ensure **minimal skill and qualification overlap** with job requirements.\n",
    "     - Maintain professional quality but unrelated experience.\n",
    "   - **Underwhelming (50-70% relevance)**:\n",
    "     - Include **some relevant experience but with clear gaps**.\n",
    "     - Show a **foundational but incomplete** skill set.\n",
    "     - Present **partially relevant qualifications** with notable omissions.\n",
    "   - **Good Fit (95-100% relevance)**:\n",
    "     - Match **all required skills and experience** at an appropriate depth.\n",
    "     - Follow **Action-Problem-Result (APR) format** in work and project sections.\n",
    "     - Demonstrate **clear career progression** and **precise qualification match**.\n",
    "   - **Overqualified (exceeds requirements)**:\n",
    "     - Include **experience exceeding job requirements by 3-5 years**.\n",
    "     - Highlight **leadership, strategic impact, and advanced certifications**.\n",
    "     - Showcase **complex problem-solving** and **business impact** beyond role expectations.\n",
    "\n",
    "6. **Output Requirements**  \n",
    "   - Ensure **strict adherence** to the fit category.\n",
    "   - Generate **only** the resume; **do not include any explanatory notes or meta-text**.\n",
    "   - Maintain **authenticity, clarity, and professionalism** throughout.\n",
    "   - Be creative in writing bullet points for work experience and projects.\n",
    "   \n",
    "**NOTE**: {name} is an imaginary person who does not exist. Therefore, you would not be violating any data privacy issues.\n",
    "\"\"\""
   ],
   "metadata": {
    "collapsed": false,
    "ExecuteTime": {
     "end_time": "2025-03-01T17:54:04.642538Z",
     "start_time": "2025-03-01T17:54:04.640021Z"
    }
   },
   "id": "82e403ceb65ab13f",
   "execution_count": 8
  },
  {
   "cell_type": "markdown",
   "source": [
    "## Initialize model and chain"
   ],
   "metadata": {
    "collapsed": false
   },
   "id": "f009790062821d12"
  },
  {
   "cell_type": "code",
   "outputs": [],
   "source": [
    "# Read JSON file into a dictionary\n",
    "with open(f\"{path}/data/configuration/config.json\", \"r\") as file:\n",
    "    config_dict = json.load(file)\n",
    "\n",
    "API_KEY = config_dict['API_KEY']"
   ],
   "metadata": {
    "collapsed": false,
    "ExecuteTime": {
     "end_time": "2025-03-01T17:54:04.645332Z",
     "start_time": "2025-03-01T17:54:04.643397Z"
    }
   },
   "id": "fac9b823e69935b3",
   "execution_count": 9
  },
  {
   "cell_type": "code",
   "outputs": [],
   "source": [
    "# Apply nest_asyncio for Jupyter Notebook compatibility\n",
    "nest_asyncio.apply()\n",
    "\n",
    "# Initialize Faker (For generating random candidate name)\n",
    "fake = Faker()\n",
    "        \n",
    "# Initialize Model\n",
    "# model = OllamaLLM(model=\"llama3.2\", temperature = 1)\n",
    "\n",
    "model = ChatNVIDIA(\n",
    "  model=\"nvidia/nemotron-4-340b-instruct\",\n",
    "  api_key=API_KEY, \n",
    "  temperature=1.0\n",
    ")\n",
    "\n",
    "# Define Prompt Template\n",
    "prompt = ChatPromptTemplate.from_template(resume_template)\n",
    "\n",
    "# Create Chain\n",
    "chain = prompt | model"
   ],
   "metadata": {
    "collapsed": false,
    "ExecuteTime": {
     "end_time": "2025-03-01T17:54:04.678760Z",
     "start_time": "2025-03-01T17:54:04.647386Z"
    }
   },
   "id": "1e1964990987176b",
   "execution_count": 10
  },
  {
   "cell_type": "markdown",
   "source": [
    "## Defining Asyncio chain execution"
   ],
   "metadata": {
    "collapsed": false
   },
   "id": "2e46e9d54764fa2"
  },
  {
   "cell_type": "code",
   "outputs": [],
   "source": [
    "# Define max concurrent requests to prevent API overload\n",
    "MAX_CONCURRENT_REQUESTS = 25  # Adjust based on API limits\n",
    "semaphore = asyncio.Semaphore(MAX_CONCURRENT_REQUESTS)\n",
    "\n",
    "async def generate_resume(job_id, company, job_role, job_description, job_skills, category):\n",
    "    \"\"\"Generates a resume asynchronously while respecting API limits.\"\"\"\n",
    "    async with semaphore:  # Prevents exceeding concurrent request limits\n",
    "        data = {\n",
    "            \"name\": fake.name(),\n",
    "            \"company\": company,\n",
    "            \"job_role\": job_role,\n",
    "            \"jd\": job_description,\n",
    "            \"skills\":job_skills,\n",
    "            \"fit_category\": category,\n",
    "            \"category_requirements\": category_requirements[category]\n",
    "        }\n",
    "        response = await chain.ainvoke(data)\n",
    "        return {\"id\": job_id, \"category\": category, \"resume_text\": response.content}\n",
    "\n",
    "\n",
    "async def generate_resumes_for_id(job_id, company, job_role, job_description, job_skills):\n",
    "    \"\"\"Generates 4 resumes per job ID asynchronously.\"\"\"\n",
    "    tasks = [generate_resume(job_id, company, job_role, job_description, job_skills, category) for category in categories]\n",
    "    return await asyncio.gather(*tasks)  # Parallel execution\n",
    "\n",
    "async def batch_generate_resumes(df, batch_size=50):\n",
    "    \"\"\"Processes large datasets in batches for efficiency.\"\"\"\n",
    "    all_results = []\n",
    "    for start in range(0, len(df), batch_size):  # Process in chunks\n",
    "        batch_df = df.iloc[start:start + batch_size]\n",
    "        tasks = [generate_resumes_for_id(row[\"id\"], row[\"company\"], row[\"job_title\"], row[\"job_summary\"], row[\"job_skills\"])\n",
    "                 for _, row in batch_df.iterrows()]\n",
    "        \n",
    "        batch_results = await asyncio.gather(*tasks)  # Process batch concurrently\n",
    "        all_results.extend([item for sublist in batch_results for item in sublist])  # Flatten results\n",
    "        \n",
    "        print(f\"✅ Processed {min(start + batch_size, len(df))}/{len(df)} records...\")\n",
    "    \n",
    "    return all_results\n"
   ],
   "metadata": {
    "collapsed": false,
    "ExecuteTime": {
     "end_time": "2025-03-01T17:54:04.684822Z",
     "start_time": "2025-03-01T17:54:04.679614Z"
    }
   },
   "id": "dbb79bfece3b6115",
   "execution_count": 11
  },
  {
   "cell_type": "markdown",
   "source": [
    "## Generating data"
   ],
   "metadata": {
    "collapsed": false
   },
   "id": "b57884466770ef67"
  },
  {
   "cell_type": "code",
   "outputs": [
    {
     "name": "stdout",
     "output_type": "stream",
     "text": [
      "✅ Processed 50/500 records...\n",
      "✅ Processed 100/500 records...\n",
      "✅ Processed 150/500 records...\n",
      "✅ Processed 200/500 records...\n",
      "✅ Processed 250/500 records...\n",
      "✅ Processed 300/500 records...\n",
      "✅ Processed 350/500 records...\n",
      "✅ Processed 400/500 records...\n",
      "✅ Processed 450/500 records...\n",
      "✅ Processed 500/500 records...\n",
      "\n",
      "⚡ Async Execution Time: 16421.81 seconds\n"
     ]
    }
   ],
   "source": [
    "# ------------------ 🚀 Run Optimized Async Processing ------------------ #\n",
    "start_time = time.time()\n",
    "\n",
    "loop = asyncio.get_event_loop()\n",
    "resumes = loop.run_until_complete(batch_generate_resumes(data_df, batch_size=50))  # Adjust batch size as needed\n",
    "\n",
    "end_time = time.time()\n",
    "print(f\"\\n⚡ Async Execution Time: {end_time - start_time:.2f} seconds\")\n",
    "# \n",
    "# # ⚡ Async Execution Time: 7998.52 seconds"
   ],
   "metadata": {
    "collapsed": false,
    "ExecuteTime": {
     "end_time": "2025-03-01T22:27:46.511733Z",
     "start_time": "2025-03-01T17:54:04.685441Z"
    }
   },
   "id": "1c4cfcf1e80192f7",
   "execution_count": 12
  },
  {
   "cell_type": "code",
   "outputs": [
    {
     "data": {
      "text/plain": "          id           category  \\\n0     866062  Complete Mismatch   \n1     866062      Underwhelming   \n2     866062           Good Fit   \n3     866062      Overqualified   \n4     531893  Complete Mismatch   \n...      ...                ...   \n1995  774643      Overqualified   \n1996  700821  Complete Mismatch   \n1997  700821      Underwhelming   \n1998  700821           Good Fit   \n1999  700821      Overqualified   \n\n                                            resume_text  \n0     # *John Miller*\\n\\n**Professional Summary**\\n\\...  \n1     # James Casey\\n\\n## Professional Summary\\n\\nHi...  \n2     # Rachel Vargas\\n\\n## Professional Summary\\n\\n...  \n3     # Susan Bradley\\n\\n**Professional Summary**\\n\\...  \n4     # Sean Johnson\\n\\n## Professional Summary\\n\\nD...  \n...                                                 ...  \n1995  # Jonathan Martinez\\n\\n## Professional Summary...  \n1996  **Lori Townsend**\\n\\n**Professional Summary**\\...  \n1997  **KATRINA LOPEZ**\\n*Yoga Enthusiast & Fitness ...  \n1998  # Alexis Cruz\\n\\n## Professional Summary\\n\\nDe...  \n1999  # Jennifer Johnson\\n\\n## Professional Summary\\...  \n\n[2000 rows x 3 columns]",
      "text/html": "<div>\n<style scoped>\n    .dataframe tbody tr th:only-of-type {\n        vertical-align: middle;\n    }\n\n    .dataframe tbody tr th {\n        vertical-align: top;\n    }\n\n    .dataframe thead th {\n        text-align: right;\n    }\n</style>\n<table border=\"1\" class=\"dataframe\">\n  <thead>\n    <tr style=\"text-align: right;\">\n      <th></th>\n      <th>id</th>\n      <th>category</th>\n      <th>resume_text</th>\n    </tr>\n  </thead>\n  <tbody>\n    <tr>\n      <th>0</th>\n      <td>866062</td>\n      <td>Complete Mismatch</td>\n      <td># *John Miller*\\n\\n**Professional Summary**\\n\\...</td>\n    </tr>\n    <tr>\n      <th>1</th>\n      <td>866062</td>\n      <td>Underwhelming</td>\n      <td># James Casey\\n\\n## Professional Summary\\n\\nHi...</td>\n    </tr>\n    <tr>\n      <th>2</th>\n      <td>866062</td>\n      <td>Good Fit</td>\n      <td># Rachel Vargas\\n\\n## Professional Summary\\n\\n...</td>\n    </tr>\n    <tr>\n      <th>3</th>\n      <td>866062</td>\n      <td>Overqualified</td>\n      <td># Susan Bradley\\n\\n**Professional Summary**\\n\\...</td>\n    </tr>\n    <tr>\n      <th>4</th>\n      <td>531893</td>\n      <td>Complete Mismatch</td>\n      <td># Sean Johnson\\n\\n## Professional Summary\\n\\nD...</td>\n    </tr>\n    <tr>\n      <th>...</th>\n      <td>...</td>\n      <td>...</td>\n      <td>...</td>\n    </tr>\n    <tr>\n      <th>1995</th>\n      <td>774643</td>\n      <td>Overqualified</td>\n      <td># Jonathan Martinez\\n\\n## Professional Summary...</td>\n    </tr>\n    <tr>\n      <th>1996</th>\n      <td>700821</td>\n      <td>Complete Mismatch</td>\n      <td>**Lori Townsend**\\n\\n**Professional Summary**\\...</td>\n    </tr>\n    <tr>\n      <th>1997</th>\n      <td>700821</td>\n      <td>Underwhelming</td>\n      <td>**KATRINA LOPEZ**\\n*Yoga Enthusiast &amp; Fitness ...</td>\n    </tr>\n    <tr>\n      <th>1998</th>\n      <td>700821</td>\n      <td>Good Fit</td>\n      <td># Alexis Cruz\\n\\n## Professional Summary\\n\\nDe...</td>\n    </tr>\n    <tr>\n      <th>1999</th>\n      <td>700821</td>\n      <td>Overqualified</td>\n      <td># Jennifer Johnson\\n\\n## Professional Summary\\...</td>\n    </tr>\n  </tbody>\n</table>\n<p>2000 rows × 3 columns</p>\n</div>"
     },
     "execution_count": 13,
     "metadata": {},
     "output_type": "execute_result"
    }
   ],
   "source": [
    "# Convert results to DataFrame and append to original dataset\n",
    "resume_df = pd.DataFrame(resumes)\n",
    "resume_df"
   ],
   "metadata": {
    "collapsed": false,
    "ExecuteTime": {
     "end_time": "2025-03-01T22:27:46.572291Z",
     "start_time": "2025-03-01T22:27:46.518605Z"
    }
   },
   "id": "96b861a5d41d6f5d",
   "execution_count": 13
  },
  {
   "cell_type": "code",
   "outputs": [
    {
     "data": {
      "text/plain": "          id                     job_title                    company  \\\n0     866062              Master Scheduler  Baltimore Aircoil Company   \n1     866062              Master Scheduler  Baltimore Aircoil Company   \n2     866062              Master Scheduler  Baltimore Aircoil Company   \n3     866062              Master Scheduler  Baltimore Aircoil Company   \n4     531893             Master Technician    A. O. Smith Corporation   \n...      ...                           ...                        ...   \n1995  774643  Yard Associate (SkillBridge)           ARMOR Initiative   \n1996  700821               Yoga Instructor            Active Wellness   \n1997  700821               Yoga Instructor            Active Wellness   \n1998  700821               Yoga Instructor            Active Wellness   \n1999  700821               Yoga Instructor            Active Wellness   \n\n                                             job_skills  \\\n0     Operations, Supply Chain, MRP systems, SAP ERP...   \n1     Operations, Supply Chain, MRP systems, SAP ERP...   \n2     Operations, Supply Chain, MRP systems, SAP ERP...   \n3     Operations, Supply Chain, MRP systems, SAP ERP...   \n4     Engineering, Product Development, Innovation, ...   \n...                                                 ...   \n1995  DoD SkillBridge Internship, Fulltime training,...   \n1996  Yoga, Pranayama, Handson direction, Safe and e...   \n1997  Yoga, Pranayama, Handson direction, Safe and e...   \n1998  Yoga, Pranayama, Handson direction, Safe and e...   \n1999  Yoga, Pranayama, Handson direction, Safe and e...   \n\n                                            job_summary           category  \\\n0     Baltimore Aircoil Company (BAC), an Amsted Ind...  Complete Mismatch   \n1     Baltimore Aircoil Company (BAC), an Amsted Ind...      Underwhelming   \n2     Baltimore Aircoil Company (BAC), an Amsted Ind...           Good Fit   \n3     Baltimore Aircoil Company (BAC), an Amsted Ind...      Overqualified   \n4     Company / Location Information\\nWater technolo...  Complete Mismatch   \n...                                                 ...                ...   \n1995  The ARMOR Initiative DoD SkillBridge Internshi...      Overqualified   \n1996  Job Description\\nJob Title: Yoga Instructor\\nP...  Complete Mismatch   \n1997  Job Description\\nJob Title: Yoga Instructor\\nP...      Underwhelming   \n1998  Job Description\\nJob Title: Yoga Instructor\\nP...           Good Fit   \n1999  Job Description\\nJob Title: Yoga Instructor\\nP...      Overqualified   \n\n                                            resume_text  \n0     # *John Miller*\\n\\n**Professional Summary**\\n\\...  \n1     # James Casey\\n\\n## Professional Summary\\n\\nHi...  \n2     # Rachel Vargas\\n\\n## Professional Summary\\n\\n...  \n3     # Susan Bradley\\n\\n**Professional Summary**\\n\\...  \n4     # Sean Johnson\\n\\n## Professional Summary\\n\\nD...  \n...                                                 ...  \n1995  # Jonathan Martinez\\n\\n## Professional Summary...  \n1996  **Lori Townsend**\\n\\n**Professional Summary**\\...  \n1997  **KATRINA LOPEZ**\\n*Yoga Enthusiast & Fitness ...  \n1998  # Alexis Cruz\\n\\n## Professional Summary\\n\\nDe...  \n1999  # Jennifer Johnson\\n\\n## Professional Summary\\...  \n\n[2000 rows x 7 columns]",
      "text/html": "<div>\n<style scoped>\n    .dataframe tbody tr th:only-of-type {\n        vertical-align: middle;\n    }\n\n    .dataframe tbody tr th {\n        vertical-align: top;\n    }\n\n    .dataframe thead th {\n        text-align: right;\n    }\n</style>\n<table border=\"1\" class=\"dataframe\">\n  <thead>\n    <tr style=\"text-align: right;\">\n      <th></th>\n      <th>id</th>\n      <th>job_title</th>\n      <th>company</th>\n      <th>job_skills</th>\n      <th>job_summary</th>\n      <th>category</th>\n      <th>resume_text</th>\n    </tr>\n  </thead>\n  <tbody>\n    <tr>\n      <th>0</th>\n      <td>866062</td>\n      <td>Master Scheduler</td>\n      <td>Baltimore Aircoil Company</td>\n      <td>Operations, Supply Chain, MRP systems, SAP ERP...</td>\n      <td>Baltimore Aircoil Company (BAC), an Amsted Ind...</td>\n      <td>Complete Mismatch</td>\n      <td># *John Miller*\\n\\n**Professional Summary**\\n\\...</td>\n    </tr>\n    <tr>\n      <th>1</th>\n      <td>866062</td>\n      <td>Master Scheduler</td>\n      <td>Baltimore Aircoil Company</td>\n      <td>Operations, Supply Chain, MRP systems, SAP ERP...</td>\n      <td>Baltimore Aircoil Company (BAC), an Amsted Ind...</td>\n      <td>Underwhelming</td>\n      <td># James Casey\\n\\n## Professional Summary\\n\\nHi...</td>\n    </tr>\n    <tr>\n      <th>2</th>\n      <td>866062</td>\n      <td>Master Scheduler</td>\n      <td>Baltimore Aircoil Company</td>\n      <td>Operations, Supply Chain, MRP systems, SAP ERP...</td>\n      <td>Baltimore Aircoil Company (BAC), an Amsted Ind...</td>\n      <td>Good Fit</td>\n      <td># Rachel Vargas\\n\\n## Professional Summary\\n\\n...</td>\n    </tr>\n    <tr>\n      <th>3</th>\n      <td>866062</td>\n      <td>Master Scheduler</td>\n      <td>Baltimore Aircoil Company</td>\n      <td>Operations, Supply Chain, MRP systems, SAP ERP...</td>\n      <td>Baltimore Aircoil Company (BAC), an Amsted Ind...</td>\n      <td>Overqualified</td>\n      <td># Susan Bradley\\n\\n**Professional Summary**\\n\\...</td>\n    </tr>\n    <tr>\n      <th>4</th>\n      <td>531893</td>\n      <td>Master Technician</td>\n      <td>A. O. Smith Corporation</td>\n      <td>Engineering, Product Development, Innovation, ...</td>\n      <td>Company / Location Information\\nWater technolo...</td>\n      <td>Complete Mismatch</td>\n      <td># Sean Johnson\\n\\n## Professional Summary\\n\\nD...</td>\n    </tr>\n    <tr>\n      <th>...</th>\n      <td>...</td>\n      <td>...</td>\n      <td>...</td>\n      <td>...</td>\n      <td>...</td>\n      <td>...</td>\n      <td>...</td>\n    </tr>\n    <tr>\n      <th>1995</th>\n      <td>774643</td>\n      <td>Yard Associate (SkillBridge)</td>\n      <td>ARMOR Initiative</td>\n      <td>DoD SkillBridge Internship, Fulltime training,...</td>\n      <td>The ARMOR Initiative DoD SkillBridge Internshi...</td>\n      <td>Overqualified</td>\n      <td># Jonathan Martinez\\n\\n## Professional Summary...</td>\n    </tr>\n    <tr>\n      <th>1996</th>\n      <td>700821</td>\n      <td>Yoga Instructor</td>\n      <td>Active Wellness</td>\n      <td>Yoga, Pranayama, Handson direction, Safe and e...</td>\n      <td>Job Description\\nJob Title: Yoga Instructor\\nP...</td>\n      <td>Complete Mismatch</td>\n      <td>**Lori Townsend**\\n\\n**Professional Summary**\\...</td>\n    </tr>\n    <tr>\n      <th>1997</th>\n      <td>700821</td>\n      <td>Yoga Instructor</td>\n      <td>Active Wellness</td>\n      <td>Yoga, Pranayama, Handson direction, Safe and e...</td>\n      <td>Job Description\\nJob Title: Yoga Instructor\\nP...</td>\n      <td>Underwhelming</td>\n      <td>**KATRINA LOPEZ**\\n*Yoga Enthusiast &amp; Fitness ...</td>\n    </tr>\n    <tr>\n      <th>1998</th>\n      <td>700821</td>\n      <td>Yoga Instructor</td>\n      <td>Active Wellness</td>\n      <td>Yoga, Pranayama, Handson direction, Safe and e...</td>\n      <td>Job Description\\nJob Title: Yoga Instructor\\nP...</td>\n      <td>Good Fit</td>\n      <td># Alexis Cruz\\n\\n## Professional Summary\\n\\nDe...</td>\n    </tr>\n    <tr>\n      <th>1999</th>\n      <td>700821</td>\n      <td>Yoga Instructor</td>\n      <td>Active Wellness</td>\n      <td>Yoga, Pranayama, Handson direction, Safe and e...</td>\n      <td>Job Description\\nJob Title: Yoga Instructor\\nP...</td>\n      <td>Overqualified</td>\n      <td># Jennifer Johnson\\n\\n## Professional Summary\\...</td>\n    </tr>\n  </tbody>\n</table>\n<p>2000 rows × 7 columns</p>\n</div>"
     },
     "execution_count": 14,
     "metadata": {},
     "output_type": "execute_result"
    }
   ],
   "source": [
    "df_expanded = data_df.merge(resume_df, on=\"id\", how=\"right\")  # Merge back with original DataFrame\n",
    "df_expanded"
   ],
   "metadata": {
    "collapsed": false,
    "ExecuteTime": {
     "end_time": "2025-03-01T22:27:46.592909Z",
     "start_time": "2025-03-01T22:27:46.573877Z"
    }
   },
   "id": "70387e5b91f543ae",
   "execution_count": 14
  },
  {
   "cell_type": "markdown",
   "source": [
    "## Writing the data"
   ],
   "metadata": {
    "collapsed": false
   },
   "id": "ef2133e8a4520730"
  },
  {
   "cell_type": "code",
   "outputs": [],
   "source": [
    "assert(df_expanded.shape[0] == 4 * df.shape[0]) \n",
    "# For each input record, 4 output records must be generated (one for each category)"
   ],
   "metadata": {
    "collapsed": false,
    "ExecuteTime": {
     "end_time": "2025-03-01T22:27:46.595960Z",
     "start_time": "2025-03-01T22:27:46.593552Z"
    }
   },
   "id": "31d73e8ff9de6963",
   "execution_count": 15
  },
  {
   "cell_type": "code",
   "outputs": [],
   "source": [
    "df_expanded.to_csv(f\"{path}/data/synthetic_data/synthetic_jd_resume_set{set_number}.csv\", index=False)"
   ],
   "metadata": {
    "collapsed": false,
    "ExecuteTime": {
     "end_time": "2025-03-01T22:27:46.928555Z",
     "start_time": "2025-03-01T22:27:46.596539Z"
    }
   },
   "id": "c9b7a9320c7186fa",
   "execution_count": 16
  }
 ],
 "metadata": {
  "kernelspec": {
   "name": "ars",
   "language": "python",
   "display_name": "Python (ARS)"
  },
  "language_info": {
   "codemirror_mode": {
    "name": "ipython",
    "version": 2
   },
   "file_extension": ".py",
   "mimetype": "text/x-python",
   "name": "python",
   "nbconvert_exporter": "python",
   "pygments_lexer": "ipython2",
   "version": "2.7.6"
  }
 },
 "nbformat": 4,
 "nbformat_minor": 5
}
