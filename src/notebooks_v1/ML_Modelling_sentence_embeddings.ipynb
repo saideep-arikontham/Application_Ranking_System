{
 "cells": [
  {
   "cell_type": "markdown",
   "id": "5938511e9ca304d0",
   "metadata": {
    "collapsed": false
   },
   "source": [
    "# Baseline Modelling"
   ]
  },
  {
   "cell_type": "markdown",
   "id": "c6c9bc98d6413f73",
   "metadata": {
    "collapsed": false
   },
   "source": [
    "## Importing libraries"
   ]
  },
  {
   "cell_type": "code",
   "execution_count": 2,
   "id": "initial_id",
   "metadata": {
    "ExecuteTime": {
     "end_time": "2025-03-08T05:10:51.519410Z",
     "start_time": "2025-03-08T05:10:47.577776Z"
    }
   },
   "outputs": [],
   "source": [
    "import pandas as pd\n",
    "import numpy as np\n",
    "import matplotlib.pyplot as plt\n",
    "import seaborn as sns\n",
    "\n",
    "import re\n",
    "import string\n",
    "import nltk\n",
    "from nltk.corpus import stopwords\n",
    "\n",
    "from sklearn.feature_extraction.text import TfidfVectorizer\n",
    "from scipy.sparse import hstack\n",
    "from sklearn.model_selection import train_test_split\n",
    "\n",
    "from sklearn.model_selection import cross_val_score, KFold\n",
    "from sklearn.tree import DecisionTreeClassifier\n",
    "from sklearn.ensemble import RandomForestClassifier\n",
    "from xgboost import XGBClassifier\n",
    "from sklearn.metrics import accuracy_score, precision_score, recall_score, f1_score, confusion_matrix, classification_report, make_scorer\n",
    "\n",
    "from sentence_transformers import SentenceTransformer\n"
   ]
  },
  {
   "cell_type": "code",
   "execution_count": 3,
   "id": "5120572f76dc6ace",
   "metadata": {
    "collapsed": false,
    "ExecuteTime": {
     "end_time": "2025-03-08T05:10:51.522590Z",
     "start_time": "2025-03-08T05:10:51.520381Z"
    }
   },
   "outputs": [
    {
     "name": "stdout",
     "output_type": "stream",
     "text": [
      "/Users/saideepbunny/Projects/Application_Ranking_System\n"
     ]
    }
   ],
   "source": [
    "import os\n",
    "import sys\n",
    "from pathlib import Path\n",
    "\n",
    "path = Path(os.path.dirname(os.getcwd()))\n",
    "path = str(path)\n",
    "print(path)\n",
    "sys.path.insert(1, path)"
   ]
  },
  {
   "cell_type": "markdown",
   "id": "c2333ef71af2333d",
   "metadata": {
    "collapsed": false
   },
   "source": [
    "## Reading the data"
   ]
  },
  {
   "cell_type": "code",
   "execution_count": 4,
   "id": "601ff9ce3279e9c2",
   "metadata": {
    "collapsed": false,
    "ExecuteTime": {
     "end_time": "2025-03-08T05:10:51.869516Z",
     "start_time": "2025-03-08T05:10:51.523207Z"
    }
   },
   "outputs": [
    {
     "data": {
      "text/plain": "                                               job_data  \\\n0     Master Scheduler\\nBaltimore Aircoil Company (B...   \n1     Master Scheduler\\nBaltimore Aircoil Company (B...   \n2     Master Scheduler\\nBaltimore Aircoil Company (B...   \n3     Master Scheduler\\nBaltimore Aircoil Company (B...   \n4     Master Technician\\nCompany / Location Informat...   \n...                                                 ...   \n5995  Account Executive Digital Sales\\nOverview\\nSal...   \n5996  Account Executive, Industrial Equipment\\nWith ...   \n5997  Account Executive, Industrial Equipment\\nWith ...   \n5998  Account Executive, Industrial Equipment\\nWith ...   \n5999  Account Executive, Industrial Equipment\\nWith ...   \n\n                                            resume_data              label  \n0     # *John Miller*\\n\\n**Professional Summary**\\n\\...  Complete Mismatch  \n1     # James Casey\\n\\n## Professional Summary\\n\\nHi...      Underwhelming  \n2     # Rachel Vargas\\n\\n## Professional Summary\\n\\n...           Good Fit  \n3     # Susan Bradley\\n\\n**Professional Summary**\\n\\...      Overqualified  \n4     # Sean Johnson\\n\\n## Professional Summary\\n\\nD...  Complete Mismatch  \n...                                                 ...                ...  \n5995  # Todd Walters\\n\\n**Professional Summary**\\n\\n...      Overqualified  \n5996  **DOUGLAS BLAKE**\\n\\n**Professional Summary**\\...  Complete Mismatch  \n5997  # Kyle Villegas\\n\\n## Professional Summary\\n\\n...      Underwhelming  \n5998  # Charles Preston\\n\\n**Professional Summary**\\...           Good Fit  \n5999  # James Gardner\\n\\n**Professional Summary**\\n\\...  Complete Mismatch  \n\n[6000 rows x 3 columns]",
      "text/html": "<div>\n<style scoped>\n    .dataframe tbody tr th:only-of-type {\n        vertical-align: middle;\n    }\n\n    .dataframe tbody tr th {\n        vertical-align: top;\n    }\n\n    .dataframe thead th {\n        text-align: right;\n    }\n</style>\n<table border=\"1\" class=\"dataframe\">\n  <thead>\n    <tr style=\"text-align: right;\">\n      <th></th>\n      <th>job_data</th>\n      <th>resume_data</th>\n      <th>label</th>\n    </tr>\n  </thead>\n  <tbody>\n    <tr>\n      <th>0</th>\n      <td>Master Scheduler\\nBaltimore Aircoil Company (B...</td>\n      <td># *John Miller*\\n\\n**Professional Summary**\\n\\...</td>\n      <td>Complete Mismatch</td>\n    </tr>\n    <tr>\n      <th>1</th>\n      <td>Master Scheduler\\nBaltimore Aircoil Company (B...</td>\n      <td># James Casey\\n\\n## Professional Summary\\n\\nHi...</td>\n      <td>Underwhelming</td>\n    </tr>\n    <tr>\n      <th>2</th>\n      <td>Master Scheduler\\nBaltimore Aircoil Company (B...</td>\n      <td># Rachel Vargas\\n\\n## Professional Summary\\n\\n...</td>\n      <td>Good Fit</td>\n    </tr>\n    <tr>\n      <th>3</th>\n      <td>Master Scheduler\\nBaltimore Aircoil Company (B...</td>\n      <td># Susan Bradley\\n\\n**Professional Summary**\\n\\...</td>\n      <td>Overqualified</td>\n    </tr>\n    <tr>\n      <th>4</th>\n      <td>Master Technician\\nCompany / Location Informat...</td>\n      <td># Sean Johnson\\n\\n## Professional Summary\\n\\nD...</td>\n      <td>Complete Mismatch</td>\n    </tr>\n    <tr>\n      <th>...</th>\n      <td>...</td>\n      <td>...</td>\n      <td>...</td>\n    </tr>\n    <tr>\n      <th>5995</th>\n      <td>Account Executive Digital Sales\\nOverview\\nSal...</td>\n      <td># Todd Walters\\n\\n**Professional Summary**\\n\\n...</td>\n      <td>Overqualified</td>\n    </tr>\n    <tr>\n      <th>5996</th>\n      <td>Account Executive, Industrial Equipment\\nWith ...</td>\n      <td>**DOUGLAS BLAKE**\\n\\n**Professional Summary**\\...</td>\n      <td>Complete Mismatch</td>\n    </tr>\n    <tr>\n      <th>5997</th>\n      <td>Account Executive, Industrial Equipment\\nWith ...</td>\n      <td># Kyle Villegas\\n\\n## Professional Summary\\n\\n...</td>\n      <td>Underwhelming</td>\n    </tr>\n    <tr>\n      <th>5998</th>\n      <td>Account Executive, Industrial Equipment\\nWith ...</td>\n      <td># Charles Preston\\n\\n**Professional Summary**\\...</td>\n      <td>Good Fit</td>\n    </tr>\n    <tr>\n      <th>5999</th>\n      <td>Account Executive, Industrial Equipment\\nWith ...</td>\n      <td># James Gardner\\n\\n**Professional Summary**\\n\\...</td>\n      <td>Complete Mismatch</td>\n    </tr>\n  </tbody>\n</table>\n<p>6000 rows × 3 columns</p>\n</div>"
     },
     "execution_count": 4,
     "metadata": {},
     "output_type": "execute_result"
    }
   ],
   "source": [
    "df = pd.read_csv(f\"{path}/data/synthetic_data/synthetic_data_v1.csv\")\n",
    "df"
   ]
  },
  {
   "cell_type": "code",
   "execution_count": 5,
   "id": "2a50d157b42d8a82",
   "metadata": {
    "collapsed": false,
    "ExecuteTime": {
     "end_time": "2025-03-08T05:10:51.872491Z",
     "start_time": "2025-03-08T05:10:51.870700Z"
    }
   },
   "outputs": [
    {
     "name": "stdout",
     "output_type": "stream",
     "text": [
      "Number of rows in the dataset: 6000\n",
      "Number of columns in the dataset: 3\n"
     ]
    }
   ],
   "source": [
    "print(\"Number of rows in the dataset:\", df.shape[0])\n",
    "print(\"Number of columns in the dataset:\", df.shape[1])"
   ]
  },
  {
   "cell_type": "code",
   "execution_count": 6,
   "id": "26be598b9db7348",
   "metadata": {
    "collapsed": false,
    "ExecuteTime": {
     "end_time": "2025-03-08T05:10:51.876219Z",
     "start_time": "2025-03-08T05:10:51.873056Z"
    }
   },
   "outputs": [
    {
     "data": {
      "text/plain": "label\nComplete Mismatch    1518\nUnderwhelming        1499\nGood Fit             1498\nOverqualified        1485\nName: count, dtype: int64"
     },
     "execution_count": 6,
     "metadata": {},
     "output_type": "execute_result"
    }
   ],
   "source": [
    "df['label'].value_counts()"
   ]
  },
  {
   "cell_type": "markdown",
   "id": "d652aa33a2d395ce",
   "metadata": {
    "collapsed": false
   },
   "source": [
    "## Data preprocessing"
   ]
  },
  {
   "cell_type": "code",
   "execution_count": 7,
   "id": "964cda1055b21dd8",
   "metadata": {
    "collapsed": false,
    "ExecuteTime": {
     "end_time": "2025-03-08T05:10:51.969823Z",
     "start_time": "2025-03-08T05:10:51.876888Z"
    }
   },
   "outputs": [
    {
     "name": "stdout",
     "output_type": "stream",
     "text": [
      "{\"wasn't\", 'he', 'ain', \"they've\", 'so', 'd', \"it'll\", 'before', \"shan't\", 'doing', \"hadn't\", 'me', 'ours', 'being', 'of', 'that', \"that'll\", \"they're\", 'overqualified', 'all', 'didn', 'those', 'how', 'our', \"couldn't\", 'shouldn', 'has', 'off', 'had', 'on', 'or', 'nor', 'own', \"isn't\", 'most', \"she'll\", 'the', 'this', 've', 'against', \"you've\", 'an', 'been', 'here', 'too', 'wasn', 'don', 'other', 'below', \"hasn't\", \"he's\", 'when', \"should've\", 'while', 'not', 'is', \"it'd\", 'as', 'but', 'doesn', 's', 'weren', 'will', 're', 'some', \"he'll\", 'mismatch', 'my', 'wouldn', 'them', 'yours', \"haven't\", 'having', 'aren', 'these', 'they', \"i'm\", 'down', \"we've\", 'his', 'yourself', 'until', 'once', 'needn', \"shouldn't\", 'than', \"won't\", 'myself', 'into', 'were', 'there', 'now', \"you'll\", 'under', 'over', 'hers', 'did', 'same', \"she's\", \"you're\", 'theirs', 'by', 'hadn', 'y', \"he'd\", \"weren't\", 'during', 'out', \"they'll\", \"they'd\", 'any', 'up', 'because', 'can', 'if', \"i'd\", \"you'd\", \"i'll\", 'which', 'hasn', 'few', 'shan', 'both', 'for', 'itself', \"aren't\", 'about', 'and', \"don't\", 'should', 'ma', 'where', 't', 'couldn', \"wouldn't\", 'was', 'underqualified', 'himself', \"we'd\", 'after', 'll', \"we're\", 'only', 'good', 'him', 'no', 'whom', 'such', 'm', 'their', 'you', 'at', 'very', 'above', 'her', 'each', 'then', 'we', 'why', 'herself', 'further', \"didn't\", \"doesn't\", 'does', 'isn', 'a', \"we'll\", 'do', 'won', 'am', \"it's\", 'your', 'through', 'are', 'i', \"mustn't\", 'mustn', 'from', 'yourselves', 'it', 'ourselves', 'to', 'o', 'what', 'have', 'themselves', 'be', 'between', \"needn't\", \"she'd\", 'haven', 'in', 'just', 'who', 'with', \"mightn't\", 'more', 'she', \"i've\", 'again', 'its', 'mightn'}\n"
     ]
    },
    {
     "name": "stderr",
     "output_type": "stream",
     "text": [
      "[nltk_data] Downloading package stopwords to\n",
      "[nltk_data]     /Users/saideepbunny/nltk_data...\n",
      "[nltk_data]   Package stopwords is already up-to-date!\n"
     ]
    }
   ],
   "source": [
    "# Download stopwords if not already downloaded\n",
    "nltk.download('stopwords')\n",
    "stop_words = set(stopwords.words('english'))\n",
    "stop_words.add(\"overqualified\")\n",
    "stop_words.add(\"underqualified\")\n",
    "stop_words.add(\"mismatch\")\n",
    "stop_words.add(\"good\")\n",
    "print(stop_words)"
   ]
  },
  {
   "cell_type": "code",
   "execution_count": 8,
   "id": "58c3a1326fbe8f6a",
   "metadata": {
    "collapsed": false,
    "ExecuteTime": {
     "end_time": "2025-03-08T05:10:51.973205Z",
     "start_time": "2025-03-08T05:10:51.970560Z"
    }
   },
   "outputs": [],
   "source": [
    "def preprocess_text(text):\n",
    "    # Convert to lowercase\n",
    "    text = text.lower()\n",
    "\n",
    "    # Remove unwanted symbols except %, $, /, and .\n",
    "    text = re.sub(r\"[^a-z0-9\\s%$/.-]\", \"\", text)\n",
    "\n",
    "    # Preserve hyphens only when followed by a number (e.g., 2005-2010, 2010-present)\n",
    "    text = re.sub(r\"-(?!\\d)\", \"\", text)  # Remove hyphens not followed by a digit\n",
    "\n",
    "    # Preserve GPA-like formats (e.g., 3.8/4.0)\n",
    "    text = re.sub(r\"(?<!\\d)/|/(?!\\d)\", \" \", text)  # Remove '/' unless between numbers\n",
    "\n",
    "    # Remove periods (\".\") if they are immediately after a word but not numbers (e.g., \"good.\" → \"good\", but keep 3.8)\n",
    "    text = re.sub(r\"\\b(\\w+)\\.(?!\\d)\", r\"\\1\", text)\n",
    "\n",
    "    # Remove newline characters\n",
    "    text = text.replace(\"\\n\", \" \").replace(\"\\r\", \" \")\n",
    "\n",
    "    # Remove any show less and show more texts\n",
    "    text = text.replace(\"show less\", \"\").replace(\"show more\", \"\")\n",
    "    # Remove stopwords\n",
    "    stop_words = set(stopwords.words(\"english\"))\n",
    "    text = \" \".join(word for word in text.split() if word not in stop_words)\n",
    "\n",
    "    return text"
   ]
  },
  {
   "cell_type": "code",
   "execution_count": 9,
   "id": "be4ab91fc1810e47",
   "metadata": {
    "collapsed": false,
    "ExecuteTime": {
     "end_time": "2025-03-08T05:10:57.505497Z",
     "start_time": "2025-03-08T05:10:51.973803Z"
    }
   },
   "outputs": [],
   "source": [
    "df['job_data_preprocessed'] = df['job_data'].apply(preprocess_text)\n",
    "df['resume_data_preprocessed'] = df['resume_data'].apply(preprocess_text)"
   ]
  },
  {
   "cell_type": "code",
   "execution_count": 10,
   "id": "1f0082d39c1486be",
   "metadata": {
    "collapsed": false,
    "ExecuteTime": {
     "end_time": "2025-03-08T05:10:57.509097Z",
     "start_time": "2025-03-08T05:10:57.506465Z"
    }
   },
   "outputs": [
    {
     "name": "stdout",
     "output_type": "stream",
     "text": [
      "Master Scheduler\n",
      "Baltimore Aircoil Company (BAC), an Amsted Industry, is a proudly employee-owned, equal-opportunity company who is committed to upholding a diverse, inclusive culture that thrives on teamwork and a spirit of enterprise. We are the global leader in sustainable solutions for evaporative cooling, thermal storage, and heat transfer equipment with headquarters located in Jessup, Maryland and manufacturing located in Madera, CA, Milford, DE and Dayton, TN. The Master Scheduler, BAC Dayton is a key member of the Dayton, Tennessee Supply Chain Team, to include Baltimore Aircoil Company (BAC) and Coil Design operations. If you want to make an impact, have a sense of belonging and a desire to grow. Every reason to join us begins with YOU!\n",
      "POSITION PURPOSE\n",
      "The Master Scheduler, BAC Dayton is a key member of the Dayton, Tennessee Supply Chain Team, to include Baltimore Aircoil Company (BAC) and Coil Design operations. Role manages the daily plant supply chain operations to maximize manufacturing efficiency, minimize cost, drive quality, and ensure on-time delivery of supplies and finished goods. The Master Scheduler has overall site responsibility for production control & manufacturing scheduling. The position drives improvement in safety, quality, and operations performance.\n",
      "Knowledge & Skills\n",
      "Minimum of 4 years’ experience in operations or supply chain\n",
      "Experience with and understanding of MRP systems.\n",
      "Experience with SAP ERP system is a plus.\n",
      "Must possess a high degree of ownership and sense of urgency in support of manufacturing schedules and plant sales goals.\n",
      "Ability to integrate sales orders to master schedule, utilizing MRP for supply needs, while understanding staffing needs/hours per work center.\n",
      "Manage load leveling & bottleneck scheduling.\n",
      "Implement/Manage operations input/output by controls reporting.\n",
      "Provide input to finance team on S&OP (Sales & operations planning) as it relates to incoming volume, future forecast & capacity.\n",
      "Must be a good communicator (verbal and written) and able to integrate with and work within a team environment.\n",
      "Must possess and display leadership skills related to capacity management, layered manufacturing to meet customer deliverables.\n",
      "Strong organizational, interpersonal, analytical and follow-up skills.\n",
      "High degree of initiative and ownership, attention to detail, and the discipline to follow through on assigned tasks.\n",
      "Advanced Microsoft Office user with an emphasis on Excel\n",
      "Understand and ability to apply Lean Manufacturing Methodologies and JIT concepts.\n",
      "Bachelor’s degree a plus (Business, Operations Management, Accounting)\n",
      "NATURE & SCOPE\n",
      "This position will report directly to the Supply Chain Manager\n",
      "Direct interaction with Finance, Engineering, Purchasing, Production, Customer Service, and External Customers\n",
      "Responsible for all plant scheduling to include BAC and Coil Design.\n",
      "Principal Accountabilities\n",
      "Supervise, develop, and continuously improve the scheduling team.\n",
      "Meet regularly with direct reports, provide SMART objectives, development opportunities, and timely feedback.\n",
      "Verify Unit and Aftermarket orders with Bill of Materials, Order Details, and Submittals with manufacturing and engineering to assure Fit, Form, and Function\n",
      "Schedule Unit and Aftermarket Orders utilizing ERP. Ensure all workflow and information is complete to successfully firm and release unit orders allowing timely visibility in MRP.\n",
      "Create and maintain master production schedules by balancing machine, person, and material resources to optimize plant efficiency.\n",
      "Create and maintain master production schedule to meet On Time Delivery related to Customer Expectations, Traffic Constraints, and Internal Business Goals\n",
      "Work closely with the Production Team to ensure they are set up for success via the scheduling process.\n",
      "Additional Responsibilities\n",
      "Spend time in the factory as necessary to understand product, material flow, and flow of information.\n",
      "Provide support to the rest of the Supply Chain team, as needed.\n",
      "Collaborate globally with BAC and Amsted Supply Chain teams.\n",
      "Train others as appropriate\n",
      "Change Agent – strong communicator with influencing abilities with frontline teams\n",
      "WORKING CONDITIONS\n",
      "The physical demands described here are representative of those that must be met by an employee to successfully perform the essential functions of this job. Reasonable accommodations may be made to enable individuals with disabilities to perform the essential functions of the job. While performing this job, the employee is regularly required to stand and walk up to 20% of the time. This position requires occasional lifting up to fifty pounds and travel up to 10% of the time. Exposures include elevated noise levels associated with a manufacturing environment, fluctuations in temperature ambient conditions as well as intermittent exposure to the weather in and about the yard and dock areas. Occasional weekend work is typical, and availability is expected for any of the three operating shifts.\n",
      "Equal Opportunity Employer/Protected Veterans/Individuals with Disabilities The contractor will not discharge or in any other manner discriminate against employees or applicants because they have inquired about, discussed, or disclosed their own pay or the pay of another employee or applicant. However, employees who have access to the compensation information of other employees or applicants as a part of their essential job functions cannot disclose the pay of other employees or applicants to individuals who do not otherwise have access to compensation information, unless the disclosure is (a) in response to a formal complaint or charge, (b) in furtherance of an investigation, proceeding, hearing, or action, including an investigation conducted by the employer, or (c) consistent with the contractor’s legal duty to furnish information. 41 CFR 60-1.35(c)\n",
      "Show more\n",
      "Show less\n",
      "Operations, Supply Chain, MRP systems, SAP ERP system, Master scheduling, Production control, Manufacturing scheduling, Safety, Quality, Operations performance, Ownership, Urgency, Manufacturing schedules, Plant sales goals, Sales orders, Master schedule, Supply needs, Staffing needs, Work center, Load leveling, Bottleneck scheduling, Operations input, Output reporting, Sales & operations planning, Communication, Teamwork, Leadership, Capacity management, Layered manufacturing, Organization, Interpersonal skills, Analytical skills, Followup skills, Initiative, Attention to detail, Microsoft Office, Excel, Lean Manufacturing Methodologies, JIT concepts, Bachelor's degree, Business, Operations Management, Accounting, Scheduling team, SMART objectives, Development opportunities, Feedback, Bill of Materials, Order Details, Submittals, Manufacturing, Engineering, Fit, Form, Function, Machine resources, Person resources, Material resources, Production Team, Factory, Product flow, Material flow, Information flow, BAC Supply Chain teams, Amsted Supply Chain teams, Training, Communication, Influencing abilities, Standing, Walking, Lifting, Travel, Noise levels, Temperature fluctuations, Weather exposure, Weekend work, Operating shifts\n",
      "\n",
      "******************************************************\n",
      "\n",
      "master scheduler baltimore aircoil company bac amsted industry proudly employeeowned equalopportunity company committed upholding diverse inclusive culture thrives teamwork spirit enterprise global leader sustainable solutions evaporative cooling thermal storage heat transfer equipment headquarters located jessup maryland manufacturing located madera ca milford de dayton tn master scheduler bac dayton key member dayton tennessee supply chain team include baltimore aircoil company bac coil design operations want make impact sense belonging desire grow every reason join us begins position purpose master scheduler bac dayton key member dayton tennessee supply chain team include baltimore aircoil company bac coil design operations role manages daily plant supply chain operations maximize manufacturing efficiency minimize cost drive quality ensure ontime delivery supplies finished goods master scheduler overall site responsibility production control manufacturing scheduling position drives improvement safety quality operations performance knowledge skills minimum 4 years experience operations supply chain experience understanding mrp systems experience sap erp system plus must possess high degree ownership sense urgency support manufacturing schedules plant sales goals ability integrate sales orders master schedule utilizing mrp supply needs understanding staffing needs hours per work center manage load leveling bottleneck scheduling implement manage operations input output controls reporting provide input finance team sop sales operations planning relates incoming volume future forecast capacity must good communicator verbal written able integrate work within team environment must possess display leadership skills related capacity management layered manufacturing meet customer deliverables strong organizational interpersonal analytical followup skills high degree initiative ownership attention detail discipline follow assigned tasks advanced microsoft office user emphasis excel understand ability apply lean manufacturing methodologies jit concepts bachelors degree plus business operations management accounting nature scope position report directly supply chain manager direct interaction finance engineering purchasing production customer service external customers responsible plant scheduling include bac coil design principal accountabilities supervise develop continuously improve scheduling team meet regularly direct reports provide smart objectives development opportunities timely feedback verify unit aftermarket orders bill materials order details submittals manufacturing engineering assure fit form function schedule unit aftermarket orders utilizing erp ensure workflow information complete successfully firm release unit orders allowing timely visibility mrp create maintain master production schedules balancing machine person material resources optimize plant efficiency create maintain master production schedule meet time delivery related customer expectations traffic constraints internal business goals work closely production team ensure set success via scheduling process additional responsibilities spend time factory necessary understand product material flow flow information provide support rest supply chain team needed collaborate globally bac amsted supply chain teams train others appropriate change agent strong communicator influencing abilities frontline teams working conditions physical demands described representative must met employee successfully perform essential functions job reasonable accommodations may made enable individuals disabilities perform essential functions job performing job employee regularly required stand walk 20% time position requires occasional lifting fifty pounds travel 10% time exposures include elevated noise levels associated manufacturing environment fluctuations temperature ambient conditions well intermittent exposure weather yard dock areas occasional weekend work typical availability expected three operating shifts equal opportunity employer protected veterans individuals disabilities contractor discharge manner discriminate employees applicants inquired discussed disclosed pay pay another employee applicant however employees access compensation information employees applicants part essential job functions cannot disclose pay employees applicants individuals otherwise access compensation information unless disclosure response formal complaint charge b furtherance investigation proceeding hearing action including investigation conducted employer c consistent contractors legal duty furnish information 41 cfr 60-1.35c operations supply chain mrp systems sap erp system master scheduling production control manufacturing scheduling safety quality operations performance ownership urgency manufacturing schedules plant sales goals sales orders master schedule supply needs staffing needs work center load leveling bottleneck scheduling operations input output reporting sales operations planning communication teamwork leadership capacity management layered manufacturing organization interpersonal skills analytical skills followup skills initiative attention detail microsoft office excel lean manufacturing methodologies jit concepts bachelors degree business operations management accounting scheduling team smart objectives development opportunities feedback bill materials order details submittals manufacturing engineering fit form function machine resources person resources material resources production team factory product flow material flow information flow bac supply chain teams amsted supply chain teams training communication influencing abilities standing walking lifting travel noise levels temperature fluctuations weather exposure weekend work operating shifts\n"
     ]
    }
   ],
   "source": [
    "print(df.iloc[1]['job_data'])\n",
    "print(\"\\n******************************************************\\n\")\n",
    "print(df.iloc[1]['job_data_preprocessed'])"
   ]
  },
  {
   "cell_type": "code",
   "execution_count": 11,
   "id": "3fbfe1054b16c964",
   "metadata": {
    "collapsed": false,
    "ExecuteTime": {
     "end_time": "2025-03-08T05:10:57.513590Z",
     "start_time": "2025-03-08T05:10:57.511548Z"
    }
   },
   "outputs": [
    {
     "name": "stdout",
     "output_type": "stream",
     "text": [
      "# James Casey\n",
      "\n",
      "## Professional Summary\n",
      "\n",
      "Highly motivated and detail-oriented professional with experience in operations and supply chain management. Proven track record of managing production control, manufacturing scheduling, and safety initiatives. Seeking to leverage my skills and experience to contribute to a dynamic team as a Master Scheduler.\n",
      "\n",
      "## Skills\n",
      "\n",
      "Operations, Supply Chain, MRP systems, Master scheduling, Production control, Manufacturing scheduling, Safety, Quality, Operations performance, Ownership, Urgency, Sales orders, Master schedule, Supply needs, Staffing needs, Load leveling, Bottleneck scheduling, Operations input, Output reporting, Sales & operations planning, Communication, Teamwork, Leadership, Capacity management, Layered manufacturing, Organization, Interpersonal skills, Analytical skills, Follow-up skills, Initiative, Attention to detail, Microsoft Office, Excel, Lean Manufacturing Methodologies, JIT concepts, Business, Operations Management, Accounting\n",
      "\n",
      "## Education\n",
      "\n",
      "*University of Maryland*, Bachelor of Science in Business Administration, 2015\n",
      "\n",
      "## Work Experience\n",
      "\n",
      "**Operations Supervisor, *ABC Manufacturing*, 2018-present**\n",
      "\n",
      "- Oversee daily plant operations, ensuring on-time delivery of supplies and finished goods.\n",
      "- Implement and manage operations input/output by controls reporting.\n",
      "- Collaborate with finance team on S&OP, providing input on incoming volume, future forecast, and capacity.\n",
      "- Manage load leveling and bottleneck scheduling to optimize plant efficiency.\n",
      "- Ensure compliance with safety regulations and quality standards.\n",
      "\n",
      "**Supply Chain Coordinator, *XYZ Corporation*, 2016-2018**\n",
      "\n",
      "- Assisted in managing production control and manufacturing scheduling for a mid-sized manufacturing firm.\n",
      "- Utilized MRP systems to balance machine, person, and material resources.\n",
      "- Collaborated with production, engineering, and customer service teams to ensure smooth operations.\n",
      "- Developed and maintained master production schedules to meet On Time Delivery goals.\n",
      "\n",
      "## Projects\n",
      "\n",
      "**Production Scheduling System, *ABC Manufacturing*, 2020**\n",
      "\n",
      "- Implemented a new production scheduling system, reducing lead times by 15%.\n",
      "- Utilized SAP ERP system to create and maintain master production schedules.\n",
      "\n",
      "**Lean Manufacturing Initiative, *XYZ Corporation*, 2017**\n",
      "\n",
      "- Participated in a lean manufacturing initiative, reducing waste and increasing efficiency by 10%.\n",
      "- Applied JIT concepts and Lean Manufacturing Methodologies to improve material flow and information flow.\n",
      "\n",
      "\n",
      "******************************************************\n",
      "\n",
      "james casey professional summary highly motivated detailoriented professional experience operations supply chain management proven track record managing production control manufacturing scheduling safety initiatives seeking leverage skills experience contribute dynamic team master scheduler skills operations supply chain mrp systems master scheduling production control manufacturing scheduling safety quality operations performance ownership urgency sales orders master schedule supply needs staffing needs load leveling bottleneck scheduling operations input output reporting sales operations planning communication teamwork leadership capacity management layered manufacturing organization interpersonal skills analytical skills followup skills initiative attention detail microsoft office excel lean manufacturing methodologies jit concepts business operations management accounting education university maryland bachelor science business administration 2015 work experience operations supervisor abc manufacturing 2018present oversee daily plant operations ensuring ontime delivery supplies finished goods implement manage operations input output controls reporting collaborate finance team sop providing input incoming volume future forecast capacity manage load leveling bottleneck scheduling optimize plant efficiency ensure compliance safety regulations quality standards supply chain coordinator xyz corporation 2016-2018 assisted managing production control manufacturing scheduling midsized manufacturing firm utilized mrp systems balance machine person material resources collaborated production engineering customer service teams ensure smooth operations developed maintained master production schedules meet time delivery goals projects production scheduling system abc manufacturing 2020 implemented new production scheduling system reducing lead times 15%. utilized sap erp system create maintain master production schedules lean manufacturing initiative xyz corporation 2017 participated lean manufacturing initiative reducing waste increasing efficiency 10%. applied jit concepts lean manufacturing methodologies improve material flow information flow\n"
     ]
    }
   ],
   "source": [
    "print(df.iloc[1]['resume_data'])\n",
    "print(\"\\n******************************************************\\n\")\n",
    "print(df.iloc[1]['resume_data_preprocessed'])"
   ]
  },
  {
   "cell_type": "markdown",
   "id": "bbe64610082e1472",
   "metadata": {
    "collapsed": false
   },
   "source": [
    "## Modelling: Sentence Embeddings"
   ]
  },
  {
   "cell_type": "markdown",
   "id": "dd359693dd7374d8",
   "metadata": {
    "collapsed": false
   },
   "source": [
    "### Utility functions"
   ]
  },
  {
   "cell_type": "code",
   "execution_count": 12,
   "id": "94c938ad5dae2b04",
   "metadata": {
    "collapsed": false,
    "ExecuteTime": {
     "end_time": "2025-03-08T05:10:57.517973Z",
     "start_time": "2025-03-08T05:10:57.514169Z"
    }
   },
   "outputs": [],
   "source": [
    "def cross_validation_scores(model, X, y, n_splits=5):\n",
    "    # Define k-fold cross-validation\n",
    "    kf = KFold(n_splits=5, shuffle=True, random_state=42)\n",
    "    \n",
    "    # Perform cross-validation\n",
    "    scores = cross_val_score(model, X, y, cv=kf, scoring='accuracy')\n",
    "    \n",
    "    # Print results\n",
    "    print(f\"Cross-validation scores: {scores}\")\n",
    "    print(f\"Mean accuracy: {scores.mean():.4f}\")\n",
    "    print(f\"Standard deviation: {scores.std():.4f}\")\n",
    "    \n",
    "    \n",
    "def plot_confusion_matrix(y_true, y_pred, labels=None, title=\"Confusion Matrix\"):\n",
    "    \"\"\"\n",
    "    Displays a confusion matrix using seaborn heatmap.\n",
    "\n",
    "    Parameters:\n",
    "    y_true : list or array\n",
    "        True labels.\n",
    "    y_pred : list or array\n",
    "        Predicted labels.\n",
    "    labels : list, optional\n",
    "        Class labels for the confusion matrix.\n",
    "    title : str, optional\n",
    "        Title of the plot.\n",
    "    \"\"\"\n",
    "    cm = confusion_matrix(y_true, y_pred, labels=labels)\n",
    "    plt.figure(figsize=(8, 7))\n",
    "    sns.heatmap(cm, annot=True, fmt='d', cmap='Blues', xticklabels=labels, yticklabels=labels)\n",
    "    plt.xlabel(\"Predicted Label\")\n",
    "    plt.ylabel(\"True Label\")\n",
    "    plt.title(title)\n",
    "    plt.show()\n",
    "\n",
    "\n",
    "def chunk_text(text, max_length=512, overlap=50):\n",
    "    \"\"\"\n",
    "    Splits text into overlapping chunks.\n",
    "    \"\"\"\n",
    "    words = text.split()\n",
    "    chunks = []\n",
    "    for i in range(0, len(words), max_length - overlap):\n",
    "        chunk = \" \".join(words[i:i+max_length])\n",
    "        chunks.append(chunk)\n",
    "        if i + max_length >= len(words):\n",
    "            break\n",
    "    return chunks\n",
    "\n",
    "def get_text_embedding(text, model):\n",
    "    \"\"\"\n",
    "    Converts large text into embeddings using chunking + mean pooling.\n",
    "    \"\"\"\n",
    "    chunks = chunk_text(text)\n",
    "    embeddings = model.encode(chunks, convert_to_numpy=True)  # Get embeddings\n",
    "    return np.mean(embeddings, axis=0)  # Aggregate embeddings using mean pooling"
   ]
  },
  {
   "cell_type": "markdown",
   "id": "460289c62e12cd49",
   "metadata": {
    "collapsed": false
   },
   "source": [
    "### Generating embeddings"
   ]
  },
  {
   "cell_type": "code",
   "execution_count": 13,
   "id": "33b8a6de1385d511",
   "metadata": {
    "collapsed": false,
    "ExecuteTime": {
     "end_time": "2025-03-08T05:10:59.171425Z",
     "start_time": "2025-03-08T05:10:57.518668Z"
    }
   },
   "outputs": [],
   "source": [
    "embedding_df = pd.DataFrame()\n",
    "\n",
    "# Load a Transformer model\n",
    "embedding_model = SentenceTransformer('all-mpnet-base-v2') #768 dimension vector space\n"
   ]
  },
  {
   "cell_type": "code",
   "execution_count": 14,
   "id": "c636502b-627d-4b34-933c-0ca94953f3f7",
   "metadata": {
    "ExecuteTime": {
     "end_time": "2025-03-08T05:31:35.799599Z",
     "start_time": "2025-03-08T05:10:59.176400Z"
    }
   },
   "outputs": [
    {
     "data": {
      "text/plain": "           f_1       f_2       f_3       f_4       f_5       f_6       f_7  \\\n0     0.018428  0.029744 -0.029598  0.020638 -0.002045  0.024787 -0.000230   \n1     0.021307  0.021493 -0.036527  0.010626  0.010570  0.031550  0.024833   \n2     0.011452  0.016750 -0.042194  0.003188  0.008405  0.004845  0.022481   \n3     0.015665  0.001300 -0.038212  0.003785  0.014372  0.020898  0.028037   \n4     0.015209  0.014843 -0.030631 -0.010830 -0.006648  0.025149 -0.005646   \n...        ...       ...       ...       ...       ...       ...       ...   \n5995  0.075150  0.068498 -0.030138 -0.054559  0.018980  0.005732  0.027167   \n5996  0.045434  0.065664 -0.028174 -0.038250  0.020036  0.035680 -0.016634   \n5997  0.053587  0.038829 -0.031973 -0.036432  0.030304  0.002427 -0.001389   \n5998  0.037198  0.057212 -0.030077 -0.017417  0.007491 -0.006065 -0.019598   \n5999  0.057302  0.081523 -0.023100 -0.021983  0.031779  0.015267 -0.040664   \n\n           f_8       f_9      f_10  ...     f_759     f_760     f_761  \\\n0     0.030693 -0.032532 -0.034612  ...  0.002223 -0.005173 -0.025733   \n1     0.017546 -0.052825 -0.036968  ...  0.008675 -0.004230 -0.033390   \n2     0.009291 -0.050268 -0.025193  ...  0.021842 -0.000587 -0.017207   \n3     0.018895 -0.057002 -0.032166  ...  0.011852  0.010193  0.009997   \n4     0.034000 -0.018253 -0.023902  ... -0.011883  0.003671 -0.013184   \n...        ...       ...       ...  ...       ...       ...       ...   \n5995 -0.000290 -0.036058 -0.076405  ...  0.006502  0.008733 -0.044143   \n5996  0.020833 -0.024164 -0.024964  ... -0.000115  0.000700 -0.038505   \n5997 -0.009611 -0.020060 -0.074911  ...  0.001593  0.006102 -0.008557   \n5998  0.004696 -0.040753 -0.078779  ... -0.025979  0.017489  0.000180   \n5999  0.013823 -0.052024 -0.087894  ...  0.012119  0.005973 -0.023749   \n\n         f_762     f_763     f_764     f_765     f_766     f_767     f_768  \n0     0.027371 -0.024355 -0.017763 -0.011107 -0.009124  0.006882 -0.027897  \n1     0.028432 -0.019858  0.000580  0.003700  0.000010 -0.046121 -0.040561  \n2     0.019057 -0.015288  0.013859 -0.004045  0.000730 -0.039691 -0.046043  \n3     0.019825 -0.018690 -0.017523 -0.011263 -0.002338 -0.040661 -0.042966  \n4     0.021477 -0.005643  0.002305  0.002030 -0.015366  0.022123 -0.023859  \n...        ...       ...       ...       ...       ...       ...       ...  \n5995  0.041533 -0.022989 -0.024925 -0.016434 -0.011162  0.029791 -0.029931  \n5996  0.044218 -0.015787  0.030061 -0.019183 -0.006678  0.038340 -0.036816  \n5997  0.027873 -0.016664 -0.019409 -0.014764 -0.014005  0.015960 -0.029828  \n5998  0.023178  0.009362  0.008642 -0.008427 -0.024600  0.006933 -0.025316  \n5999  0.054386 -0.015089 -0.020432 -0.007801 -0.006881  0.011516 -0.036953  \n\n[6000 rows x 768 columns]",
      "text/html": "<div>\n<style scoped>\n    .dataframe tbody tr th:only-of-type {\n        vertical-align: middle;\n    }\n\n    .dataframe tbody tr th {\n        vertical-align: top;\n    }\n\n    .dataframe thead th {\n        text-align: right;\n    }\n</style>\n<table border=\"1\" class=\"dataframe\">\n  <thead>\n    <tr style=\"text-align: right;\">\n      <th></th>\n      <th>f_1</th>\n      <th>f_2</th>\n      <th>f_3</th>\n      <th>f_4</th>\n      <th>f_5</th>\n      <th>f_6</th>\n      <th>f_7</th>\n      <th>f_8</th>\n      <th>f_9</th>\n      <th>f_10</th>\n      <th>...</th>\n      <th>f_759</th>\n      <th>f_760</th>\n      <th>f_761</th>\n      <th>f_762</th>\n      <th>f_763</th>\n      <th>f_764</th>\n      <th>f_765</th>\n      <th>f_766</th>\n      <th>f_767</th>\n      <th>f_768</th>\n    </tr>\n  </thead>\n  <tbody>\n    <tr>\n      <th>0</th>\n      <td>0.018428</td>\n      <td>0.029744</td>\n      <td>-0.029598</td>\n      <td>0.020638</td>\n      <td>-0.002045</td>\n      <td>0.024787</td>\n      <td>-0.000230</td>\n      <td>0.030693</td>\n      <td>-0.032532</td>\n      <td>-0.034612</td>\n      <td>...</td>\n      <td>0.002223</td>\n      <td>-0.005173</td>\n      <td>-0.025733</td>\n      <td>0.027371</td>\n      <td>-0.024355</td>\n      <td>-0.017763</td>\n      <td>-0.011107</td>\n      <td>-0.009124</td>\n      <td>0.006882</td>\n      <td>-0.027897</td>\n    </tr>\n    <tr>\n      <th>1</th>\n      <td>0.021307</td>\n      <td>0.021493</td>\n      <td>-0.036527</td>\n      <td>0.010626</td>\n      <td>0.010570</td>\n      <td>0.031550</td>\n      <td>0.024833</td>\n      <td>0.017546</td>\n      <td>-0.052825</td>\n      <td>-0.036968</td>\n      <td>...</td>\n      <td>0.008675</td>\n      <td>-0.004230</td>\n      <td>-0.033390</td>\n      <td>0.028432</td>\n      <td>-0.019858</td>\n      <td>0.000580</td>\n      <td>0.003700</td>\n      <td>0.000010</td>\n      <td>-0.046121</td>\n      <td>-0.040561</td>\n    </tr>\n    <tr>\n      <th>2</th>\n      <td>0.011452</td>\n      <td>0.016750</td>\n      <td>-0.042194</td>\n      <td>0.003188</td>\n      <td>0.008405</td>\n      <td>0.004845</td>\n      <td>0.022481</td>\n      <td>0.009291</td>\n      <td>-0.050268</td>\n      <td>-0.025193</td>\n      <td>...</td>\n      <td>0.021842</td>\n      <td>-0.000587</td>\n      <td>-0.017207</td>\n      <td>0.019057</td>\n      <td>-0.015288</td>\n      <td>0.013859</td>\n      <td>-0.004045</td>\n      <td>0.000730</td>\n      <td>-0.039691</td>\n      <td>-0.046043</td>\n    </tr>\n    <tr>\n      <th>3</th>\n      <td>0.015665</td>\n      <td>0.001300</td>\n      <td>-0.038212</td>\n      <td>0.003785</td>\n      <td>0.014372</td>\n      <td>0.020898</td>\n      <td>0.028037</td>\n      <td>0.018895</td>\n      <td>-0.057002</td>\n      <td>-0.032166</td>\n      <td>...</td>\n      <td>0.011852</td>\n      <td>0.010193</td>\n      <td>0.009997</td>\n      <td>0.019825</td>\n      <td>-0.018690</td>\n      <td>-0.017523</td>\n      <td>-0.011263</td>\n      <td>-0.002338</td>\n      <td>-0.040661</td>\n      <td>-0.042966</td>\n    </tr>\n    <tr>\n      <th>4</th>\n      <td>0.015209</td>\n      <td>0.014843</td>\n      <td>-0.030631</td>\n      <td>-0.010830</td>\n      <td>-0.006648</td>\n      <td>0.025149</td>\n      <td>-0.005646</td>\n      <td>0.034000</td>\n      <td>-0.018253</td>\n      <td>-0.023902</td>\n      <td>...</td>\n      <td>-0.011883</td>\n      <td>0.003671</td>\n      <td>-0.013184</td>\n      <td>0.021477</td>\n      <td>-0.005643</td>\n      <td>0.002305</td>\n      <td>0.002030</td>\n      <td>-0.015366</td>\n      <td>0.022123</td>\n      <td>-0.023859</td>\n    </tr>\n    <tr>\n      <th>...</th>\n      <td>...</td>\n      <td>...</td>\n      <td>...</td>\n      <td>...</td>\n      <td>...</td>\n      <td>...</td>\n      <td>...</td>\n      <td>...</td>\n      <td>...</td>\n      <td>...</td>\n      <td>...</td>\n      <td>...</td>\n      <td>...</td>\n      <td>...</td>\n      <td>...</td>\n      <td>...</td>\n      <td>...</td>\n      <td>...</td>\n      <td>...</td>\n      <td>...</td>\n      <td>...</td>\n    </tr>\n    <tr>\n      <th>5995</th>\n      <td>0.075150</td>\n      <td>0.068498</td>\n      <td>-0.030138</td>\n      <td>-0.054559</td>\n      <td>0.018980</td>\n      <td>0.005732</td>\n      <td>0.027167</td>\n      <td>-0.000290</td>\n      <td>-0.036058</td>\n      <td>-0.076405</td>\n      <td>...</td>\n      <td>0.006502</td>\n      <td>0.008733</td>\n      <td>-0.044143</td>\n      <td>0.041533</td>\n      <td>-0.022989</td>\n      <td>-0.024925</td>\n      <td>-0.016434</td>\n      <td>-0.011162</td>\n      <td>0.029791</td>\n      <td>-0.029931</td>\n    </tr>\n    <tr>\n      <th>5996</th>\n      <td>0.045434</td>\n      <td>0.065664</td>\n      <td>-0.028174</td>\n      <td>-0.038250</td>\n      <td>0.020036</td>\n      <td>0.035680</td>\n      <td>-0.016634</td>\n      <td>0.020833</td>\n      <td>-0.024164</td>\n      <td>-0.024964</td>\n      <td>...</td>\n      <td>-0.000115</td>\n      <td>0.000700</td>\n      <td>-0.038505</td>\n      <td>0.044218</td>\n      <td>-0.015787</td>\n      <td>0.030061</td>\n      <td>-0.019183</td>\n      <td>-0.006678</td>\n      <td>0.038340</td>\n      <td>-0.036816</td>\n    </tr>\n    <tr>\n      <th>5997</th>\n      <td>0.053587</td>\n      <td>0.038829</td>\n      <td>-0.031973</td>\n      <td>-0.036432</td>\n      <td>0.030304</td>\n      <td>0.002427</td>\n      <td>-0.001389</td>\n      <td>-0.009611</td>\n      <td>-0.020060</td>\n      <td>-0.074911</td>\n      <td>...</td>\n      <td>0.001593</td>\n      <td>0.006102</td>\n      <td>-0.008557</td>\n      <td>0.027873</td>\n      <td>-0.016664</td>\n      <td>-0.019409</td>\n      <td>-0.014764</td>\n      <td>-0.014005</td>\n      <td>0.015960</td>\n      <td>-0.029828</td>\n    </tr>\n    <tr>\n      <th>5998</th>\n      <td>0.037198</td>\n      <td>0.057212</td>\n      <td>-0.030077</td>\n      <td>-0.017417</td>\n      <td>0.007491</td>\n      <td>-0.006065</td>\n      <td>-0.019598</td>\n      <td>0.004696</td>\n      <td>-0.040753</td>\n      <td>-0.078779</td>\n      <td>...</td>\n      <td>-0.025979</td>\n      <td>0.017489</td>\n      <td>0.000180</td>\n      <td>0.023178</td>\n      <td>0.009362</td>\n      <td>0.008642</td>\n      <td>-0.008427</td>\n      <td>-0.024600</td>\n      <td>0.006933</td>\n      <td>-0.025316</td>\n    </tr>\n    <tr>\n      <th>5999</th>\n      <td>0.057302</td>\n      <td>0.081523</td>\n      <td>-0.023100</td>\n      <td>-0.021983</td>\n      <td>0.031779</td>\n      <td>0.015267</td>\n      <td>-0.040664</td>\n      <td>0.013823</td>\n      <td>-0.052024</td>\n      <td>-0.087894</td>\n      <td>...</td>\n      <td>0.012119</td>\n      <td>0.005973</td>\n      <td>-0.023749</td>\n      <td>0.054386</td>\n      <td>-0.015089</td>\n      <td>-0.020432</td>\n      <td>-0.007801</td>\n      <td>-0.006881</td>\n      <td>0.011516</td>\n      <td>-0.036953</td>\n    </tr>\n  </tbody>\n</table>\n<p>6000 rows × 768 columns</p>\n</div>"
     },
     "execution_count": 14,
     "metadata": {},
     "output_type": "execute_result"
    }
   ],
   "source": [
    "# Compute embeddings\n",
    "overall_data = \"Job Description:\\n\" + df['job_data_preprocessed'] + \"\\nResume:\\n\" + df['resume_data_preprocessed'] \n",
    "overall_d1 = overall_data.apply(lambda x: get_text_embedding(x, embedding_model))\n",
    "\n",
    "embedding_df = pd.DataFrame(overall_d1.tolist(), index=df.index, columns = [f\"f_{i+1}\" for i in range(len(overall_d1.tolist()[0]))])\n",
    "embedding_df"
   ]
  },
  {
   "cell_type": "markdown",
   "id": "5f56f728d50e54a9",
   "metadata": {
    "collapsed": false
   },
   "source": [
    "### Defining X and y"
   ]
  },
  {
   "cell_type": "code",
   "execution_count": 15,
   "id": "c0f6727c80883642",
   "metadata": {
    "collapsed": false,
    "ExecuteTime": {
     "end_time": "2025-03-08T05:31:35.812746Z",
     "start_time": "2025-03-08T05:31:35.803582Z"
    }
   },
   "outputs": [],
   "source": [
    "# Stack embeddings horizontally\n",
    "X = embedding_df.copy()\n",
    "y = df['label']"
   ]
  },
  {
   "cell_type": "markdown",
   "id": "1eee1875ec1e1e00",
   "metadata": {
    "collapsed": false
   },
   "source": [
    "### Train Test split"
   ]
  },
  {
   "cell_type": "code",
   "execution_count": 16,
   "id": "57e6ebaeee899b25",
   "metadata": {
    "collapsed": false,
    "ExecuteTime": {
     "end_time": "2025-03-08T05:31:35.861847Z",
     "start_time": "2025-03-08T05:31:35.813950Z"
    }
   },
   "outputs": [
    {
     "name": "stdout",
     "output_type": "stream",
     "text": [
      "Train data shape:  (4800, 768)\n",
      "Test data shape:  (1200, 768)\n"
     ]
    }
   ],
   "source": [
    "# Assuming X contains features and y contains labels\n",
    "X_train, X_test, y_train, y_test = train_test_split(X, y, test_size=0.2, stratify=y)\n",
    "\n",
    "print(\"Train data shape: \", X_train.shape)\n",
    "print(\"Test data shape: \", X_test.shape)"
   ]
  },
  {
   "cell_type": "markdown",
   "id": "f27261b9d9331f1a",
   "metadata": {
    "collapsed": false
   },
   "source": [
    "### DecisionTreeClassifier"
   ]
  },
  {
   "cell_type": "code",
   "execution_count": 17,
   "id": "4aab57ffb0cab09b",
   "metadata": {
    "collapsed": false,
    "ExecuteTime": {
     "end_time": "2025-03-08T05:31:53.877298Z",
     "start_time": "2025-03-08T05:31:35.862630Z"
    }
   },
   "outputs": [
    {
     "name": "stdout",
     "output_type": "stream",
     "text": [
      "Cross-validation scores: [0.34479167 0.328125   0.34270833 0.3625     0.35416667]\n",
      "Mean accuracy: 0.3465\n",
      "Standard deviation: 0.0116\n"
     ]
    }
   ],
   "source": [
    "model_4class = DecisionTreeClassifier(random_state=42)  # Example model\n",
    "cross_validation_scores(model_4class, X_train, y_train, n_splits=5)"
   ]
  },
  {
   "cell_type": "code",
   "execution_count": 18,
   "id": "daa891ccaff03ca7",
   "metadata": {
    "collapsed": false,
    "ExecuteTime": {
     "end_time": "2025-03-08T05:31:57.351278Z",
     "start_time": "2025-03-08T05:31:53.881653Z"
    }
   },
   "outputs": [
    {
     "name": "stdout",
     "output_type": "stream",
     "text": [
      "\n",
      "Classification Report:\n",
      "                   precision    recall  f1-score   support\n",
      "\n",
      "Complete Mismatch       0.57      0.55      0.56       304\n",
      "         Good Fit       0.23      0.24      0.24       299\n",
      "    Overqualified       0.26      0.27      0.26       297\n",
      "    Underwhelming       0.32      0.30      0.31       300\n",
      "\n",
      "         accuracy                           0.34      1200\n",
      "        macro avg       0.34      0.34      0.34      1200\n",
      "     weighted avg       0.35      0.34      0.34      1200\n"
     ]
    }
   ],
   "source": [
    "# Train model on full training set\n",
    "model_4class.fit(X_train, y_train)\n",
    "\n",
    "# Evaluate on test set\n",
    "y_pred = model_4class.predict(X_test)\n",
    "\n",
    "print(\"\\nClassification Report:\")\n",
    "print(classification_report(y_test, y_pred))"
   ]
  },
  {
   "cell_type": "code",
   "execution_count": 19,
   "id": "a65bb4c8ca3c9fe1",
   "metadata": {
    "collapsed": false,
    "ExecuteTime": {
     "end_time": "2025-03-08T05:31:57.742107Z",
     "start_time": "2025-03-08T05:31:57.352677Z"
    }
   },
   "outputs": [
    {
     "data": {
      "text/plain": "<Figure size 800x700 with 2 Axes>",
      "image/png": "[encoded data removed]"
     },
     "metadata": {},
     "output_type": "display_data"
    }
   ],
   "source": [
    "plot_confusion_matrix(y_test, y_pred, [\"Complete Mismatch\", \"Good Fit\", \"Overqualified\", \"Underwhelming\"])"
   ]
  },
  {
   "cell_type": "markdown",
   "id": "fbbb29ed9ac18b6a",
   "metadata": {
    "collapsed": false
   },
   "source": [
    "### RandomForestClassifier"
   ]
  },
  {
   "cell_type": "code",
   "execution_count": 20,
   "id": "3f9b234e0f61533d",
   "metadata": {
    "collapsed": false,
    "ExecuteTime": {
     "end_time": "2025-03-08T05:32:28.922174Z",
     "start_time": "2025-03-08T05:31:57.743126Z"
    }
   },
   "outputs": [
    {
     "name": "stdout",
     "output_type": "stream",
     "text": [
      "Cross-validation scores: [0.390625   0.390625   0.38854167 0.40833333 0.39270833]\n",
      "Mean accuracy: 0.3942\n",
      "Standard deviation: 0.0072\n"
     ]
    }
   ],
   "source": [
    "model_4class = RandomForestClassifier(random_state=42)  # Example model\n",
    "cross_validation_scores(model_4class, X_train, y_train, n_splits=5)"
   ]
  },
  {
   "cell_type": "code",
   "execution_count": 21,
   "id": "87bf092b91d34cca",
   "metadata": {
    "collapsed": false,
    "ExecuteTime": {
     "end_time": "2025-03-08T05:32:37.230478Z",
     "start_time": "2025-03-08T05:32:28.923994Z"
    }
   },
   "outputs": [
    {
     "name": "stdout",
     "output_type": "stream",
     "text": [
      "\n",
      "Classification Report:\n",
      "                   precision    recall  f1-score   support\n",
      "\n",
      "Complete Mismatch       0.76      0.79      0.77       304\n",
      "         Good Fit       0.11      0.13      0.12       299\n",
      "    Overqualified       0.17      0.16      0.17       297\n",
      "    Underwhelming       0.37      0.32      0.34       300\n",
      "\n",
      "         accuracy                           0.35      1200\n",
      "        macro avg       0.35      0.35      0.35      1200\n",
      "     weighted avg       0.36      0.35      0.35      1200\n"
     ]
    }
   ],
   "source": [
    "# Train model on full training set\n",
    "model_4class.fit(X_train, y_train)\n",
    "\n",
    "# Evaluate on test set\n",
    "y_pred = model_4class.predict(X_test)\n",
    "\n",
    "print(\"\\nClassification Report:\")\n",
    "print(classification_report(y_test, y_pred))"
   ]
  },
  {
   "cell_type": "code",
   "execution_count": 22,
   "id": "aded14e3e43ca406",
   "metadata": {
    "collapsed": false,
    "ExecuteTime": {
     "end_time": "2025-03-08T05:32:37.332504Z",
     "start_time": "2025-03-08T05:32:37.231492Z"
    }
   },
   "outputs": [
    {
     "data": {
      "text/plain": "<Figure size 800x700 with 2 Axes>",
      "image/png": "[encoded data removed]"
     },
     "metadata": {},
     "output_type": "display_data"
    }
   ],
   "source": [
    "plot_confusion_matrix(y_test, y_pred, [\"Complete Mismatch\", \"Good Fit\", \"Overqualified\", \"Underwhelming\"])"
   ]
  },
  {
   "cell_type": "markdown",
   "source": [
    "### XGBClassifier : Multi class classification"
   ],
   "metadata": {
    "collapsed": false
   },
   "id": "bdc837de0784bd62"
  },
  {
   "cell_type": "code",
   "outputs": [
    {
     "name": "stderr",
     "output_type": "stream",
     "text": [
      "/var/folders/t5/tflj5hjs197_vv37fw2sdhdr0000gn/T/ipykernel_42888/3337498069.py:2: FutureWarning: Downcasting behavior in `replace` is deprecated and will be removed in a future version. To retain the old behavior, explicitly call `result.infer_objects(copy=False)`. To opt-in to the future behavior, set `pd.set_option('future.no_silent_downcasting', True)`\n",
      "  y = df['label'].replace({\"Complete Mismatch\": 0, \"Underwhelming\":1, \"Good Fit\":2, \"Overqualified\":3})\n"
     ]
    }
   ],
   "source": [
    "X = embedding_df.copy()\n",
    "y = df['label'].replace({\"Complete Mismatch\": 0, \"Underwhelming\":1, \"Good Fit\":2, \"Overqualified\":3})"
   ],
   "metadata": {
    "collapsed": false,
    "ExecuteTime": {
     "end_time": "2025-03-08T05:32:37.375312Z",
     "start_time": "2025-03-08T05:32:37.333863Z"
    }
   },
   "id": "ef07d6d068cd4f5",
   "execution_count": 23
  },
  {
   "cell_type": "code",
   "outputs": [
    {
     "name": "stdout",
     "output_type": "stream",
     "text": [
      "Train data shape:  (4800, 768)\n",
      "Test data shape:  (1200, 768)\n"
     ]
    }
   ],
   "source": [
    "# Assuming X contains features and y contains labels\n",
    "X_train, X_test, y_train, y_test = train_test_split(X, y, test_size=0.2, stratify=y)\n",
    "\n",
    "print(\"Train data shape: \", X_train.shape)\n",
    "print(\"Test data shape: \", X_test.shape)"
   ],
   "metadata": {
    "collapsed": false,
    "ExecuteTime": {
     "end_time": "2025-03-08T05:32:37.393363Z",
     "start_time": "2025-03-08T05:32:37.376188Z"
    }
   },
   "id": "2c424f3912572365",
   "execution_count": 24
  },
  {
   "cell_type": "code",
   "outputs": [
    {
     "name": "stdout",
     "output_type": "stream",
     "text": [
      "Cross-validation scores: [0.44479167 0.46354167 0.48645833 0.459375   0.46458333]\n",
      "Mean accuracy: 0.4637\n",
      "Standard deviation: 0.0134\n"
     ]
    }
   ],
   "source": [
    "xgb_4class = XGBClassifier(random_state=42)  # Example model\n",
    "cross_validation_scores(xgb_4class, X_train, y_train, n_splits=5)"
   ],
   "metadata": {
    "collapsed": false,
    "ExecuteTime": {
     "end_time": "2025-03-08T05:33:50.040741Z",
     "start_time": "2025-03-08T05:32:37.395441Z"
    }
   },
   "id": "f9831417cf281b84",
   "execution_count": 25
  },
  {
   "cell_type": "code",
   "outputs": [
    {
     "name": "stdout",
     "output_type": "stream",
     "text": [
      "\n",
      "Classification Report:\n",
      "              precision    recall  f1-score   support\n",
      "\n",
      "           0       0.85      0.82      0.83       303\n",
      "           1       0.49      0.47      0.48       300\n",
      "           2       0.21      0.23      0.22       300\n",
      "           3       0.29      0.28      0.28       297\n",
      "\n",
      "    accuracy                           0.45      1200\n",
      "   macro avg       0.46      0.45      0.46      1200\n",
      "weighted avg       0.46      0.45      0.46      1200\n"
     ]
    }
   ],
   "source": [
    "# Train model on full training set\n",
    "xgb_4class.fit(X_train, y_train)\n",
    "\n",
    "# Evaluate on test set\n",
    "y_pred = xgb_4class.predict(X_test)\n",
    "\n",
    "print(\"\\nClassification Report:\")\n",
    "print(classification_report(y_test, y_pred))"
   ],
   "metadata": {
    "collapsed": false,
    "ExecuteTime": {
     "end_time": "2025-03-08T05:34:05.924970Z",
     "start_time": "2025-03-08T05:33:50.042161Z"
    }
   },
   "id": "af3c1855fbb7fd61",
   "execution_count": 26
  },
  {
   "cell_type": "code",
   "outputs": [
    {
     "data": {
      "text/plain": "<Figure size 800x700 with 2 Axes>",
      "image/png": "[encoded data removed]"
     },
     "metadata": {},
     "output_type": "display_data"
    }
   ],
   "source": [
    "plot_confusion_matrix(y_test, y_pred, [0, 1, 2, 3])"
   ],
   "metadata": {
    "collapsed": false,
    "ExecuteTime": {
     "end_time": "2025-03-08T05:34:05.998286Z",
     "start_time": "2025-03-08T05:34:05.925797Z"
    }
   },
   "id": "35532a85bab5e8cf",
   "execution_count": 27
  },
  {
   "cell_type": "markdown",
   "source": [
    "### XGBClassifier : Binary Classification"
   ],
   "metadata": {
    "collapsed": false
   },
   "id": "622d8352cc93f4f8"
  },
  {
   "cell_type": "markdown",
   "source": [
    "- Complete Mismatch and Underwhelming are bad fits (0)\n",
    "- Good fit and Overqualified are good fits (1)"
   ],
   "metadata": {
    "collapsed": false
   },
   "id": "1c597a05c9a1de17"
  },
  {
   "cell_type": "code",
   "outputs": [
    {
     "name": "stderr",
     "output_type": "stream",
     "text": [
      "/var/folders/t5/tflj5hjs197_vv37fw2sdhdr0000gn/T/ipykernel_42888/2897412205.py:2: FutureWarning: Downcasting behavior in `replace` is deprecated and will be removed in a future version. To retain the old behavior, explicitly call `result.infer_objects(copy=False)`. To opt-in to the future behavior, set `pd.set_option('future.no_silent_downcasting', True)`\n",
      "  y = df['label'].replace({\"Complete Mismatch\": 0, \"Underwhelming\":0, \"Good Fit\":1, \"Overqualified\":1})\n"
     ]
    }
   ],
   "source": [
    "X = embedding_df.copy()\n",
    "y = df['label'].replace({\"Complete Mismatch\": 0, \"Underwhelming\":0, \"Good Fit\":1, \"Overqualified\":1})"
   ],
   "metadata": {
    "collapsed": false,
    "ExecuteTime": {
     "end_time": "2025-03-08T05:34:06.011320Z",
     "start_time": "2025-03-08T05:34:06.000003Z"
    }
   },
   "id": "bf85374e95d4f5f3",
   "execution_count": 28
  },
  {
   "cell_type": "code",
   "outputs": [
    {
     "name": "stdout",
     "output_type": "stream",
     "text": [
      "Train data shape:  (4800, 768)\n",
      "Test data shape:  (1200, 768)\n"
     ]
    }
   ],
   "source": [
    "# Assuming X contains features and y contains labels\n",
    "X_train, X_test, y_train, y_test = train_test_split(X, y, test_size=0.2, stratify=y)\n",
    "\n",
    "print(\"Train data shape: \", X_train.shape)\n",
    "print(\"Test data shape: \", X_test.shape)"
   ],
   "metadata": {
    "collapsed": false,
    "ExecuteTime": {
     "end_time": "2025-03-08T05:34:06.028115Z",
     "start_time": "2025-03-08T05:34:06.016702Z"
    }
   },
   "id": "d5c7fd0e5d8a581a",
   "execution_count": 29
  },
  {
   "cell_type": "code",
   "outputs": [
    {
     "name": "stdout",
     "output_type": "stream",
     "text": [
      "Cross-validation scores: [0.78541667 0.77708333 0.76041667 0.796875   0.77395833]\n",
      "Mean accuracy: 0.7787\n",
      "Standard deviation: 0.0121\n"
     ]
    }
   ],
   "source": [
    "xgb_2class = XGBClassifier(random_state=42)  # Example model\n",
    "cross_validation_scores(xgb_2class, X_train, y_train, n_splits=5)"
   ],
   "metadata": {
    "collapsed": false,
    "ExecuteTime": {
     "end_time": "2025-03-08T05:34:24.162428Z",
     "start_time": "2025-03-08T05:34:06.028725Z"
    }
   },
   "id": "3a5921ae3e4bbe1d",
   "execution_count": 30
  },
  {
   "cell_type": "code",
   "outputs": [
    {
     "name": "stdout",
     "output_type": "stream",
     "text": [
      "\n",
      "Classification Report:\n",
      "              precision    recall  f1-score   support\n",
      "\n",
      "           0       0.83      0.80      0.82       603\n",
      "           1       0.80      0.84      0.82       597\n",
      "\n",
      "    accuracy                           0.82      1200\n",
      "   macro avg       0.82      0.82      0.82      1200\n",
      "weighted avg       0.82      0.82      0.82      1200\n"
     ]
    }
   ],
   "source": [
    "# Train model on full training set\n",
    "xgb_2class.fit(X_train, y_train)\n",
    "\n",
    "# Evaluate on test set\n",
    "y_pred = xgb_2class.predict(X_test)\n",
    "\n",
    "print(\"\\nClassification Report:\")\n",
    "print(classification_report(y_test, y_pred))"
   ],
   "metadata": {
    "collapsed": false,
    "ExecuteTime": {
     "end_time": "2025-03-08T05:34:28.401193Z",
     "start_time": "2025-03-08T05:34:24.163094Z"
    }
   },
   "id": "d66d3853a7c4ad32",
   "execution_count": 31
  },
  {
   "cell_type": "code",
   "outputs": [
    {
     "data": {
      "text/plain": "<Figure size 800x700 with 2 Axes>",
      "image/png": "[encoded data removed]"
     },
     "metadata": {},
     "output_type": "display_data"
    }
   ],
   "source": [
    "plot_confusion_matrix(y_test, y_pred, [0, 1])"
   ],
   "metadata": {
    "collapsed": false,
    "ExecuteTime": {
     "end_time": "2025-03-08T05:34:28.469456Z",
     "start_time": "2025-03-08T05:34:28.402017Z"
    }
   },
   "id": "95f3eafca73ed512",
   "execution_count": 32
  },
  {
   "cell_type": "code",
   "outputs": [],
   "source": [
    "rd=\"\"\"\n",
    "A Data Scientist with 3 years of experience in developing machine learning pipelines and models to address business needs. Also\n",
    "experienced in communicating insights to enhance strategic decision-making and improve performance outcomes.\n",
    "EDUCATION\n",
    "Master Of Science In Data Science\n",
    "Northeastern University | GPA: 3.93 / 4.00 Portland, Maine | Sep 2023\n",
    "- May 2025\n",
    "Bachelor Of Technology In Computer Science\n",
    "Vardhaman College of Engineering | GPA: 8.84 / 10.00 Hyderabad | May 2017\n",
    "- Jun 2021\n",
    "WORK EXPERIENCE\n",
    "Data Engineer Co-Op | Full-time Jul 2024\n",
    "- Present\n",
    "EAI at Northeastern University\n",
    "• Engineered an end-to-end claim complexity scoring ML pipeline for MEMIC, negating ~3 minutes of mannual classification per claim.\n",
    "• Developed a robust claim complexity scoring model and reduced false negatives by 20%, streamlining the Claim Assignment Engine's efficiency within 6 months.\n",
    "• Identified an issue with prediction validation, which led to employing advanced testing validated by statistical tests.\n",
    "• Revised the existing claim assignment process to automatically assign claims classified by scoring engine to agents by prioritizing highly complex claims, achieving 100% automation.\n",
    "• Communicated weekly insights to clients, enhancing strategic decision-making and improving performance outcomes through\n",
    "experimental findings and suggesting actionable plans.\n",
    "Azure Data Engineer | Full-time Aug 2021\n",
    "- Jul 2023\n",
    "LTIMindtree\n",
    "• Resolved customer issues from Azure cloud services with an average solution acceptance rate of 50%, consistently for over one year.\n",
    "• Utilized Azure Databricks data engineering environment to solve business problems for customers and improve data quality by 35%.\n",
    "• Automated ETL pipelines for big data extraction and processing using Data factory and Dataflows, reducing processing time by 40%.\n",
    "• Recognized as a highly motivated member of Azure Collective on Stack Overflow, contributing 404 answers and reaching 428k people.\n",
    "• Developed a Question Moderator Model that improved question validation efficiency, saving 10% of time monthly by minimizing\n",
    "invalid question engagement.\n",
    "PROJECTS\n",
    "Application Ranking System Sep 2024\n",
    "- Apr 2025\n",
    "• Built an AI-powered Application Ranking System using cosine similarity, FAISS, and a custom scoring formula for efficient ranking.\n",
    "Aims to improve hiring by reducing bias, rewarding well-crafted resumes, and offering a fair ranking system for job applications.\n",
    "Stance Detection Model Using Generative AI\n",
    "• Developed a Huggingface space using fine-tuned text classification LLM to detect the stance using manually labeled and synthetic data.\n",
    "Leveraged LoRA fine-tuning to train only ~1% of LLM's parameters in Roberta base model's architecture to achieve 0.80 accuracy.\n",
    "\n",
    "SKILLS\n",
    "Programming: Python, SQL Server, Java, Data Structures and Algorithms, Problem-\n",
    "solving skills\n",
    "Machine Learning: Machine Learning, Regression, Classification, Data Cleaning, Data preprocessing, Data transformation, Feature\n",
    "Engineering, Data Visualization, XGBoost, Cross Validation, Deep learning, Neural Networks, Natural Language Processing, Transformers,\n",
    "Sentiment Analysis, Huggingface, Large Language models, Fine tuning, Prompt Engineering, Generative AI, RAG, Agentic AI\n",
    "Libraries: NumPy, Pandas, Matplotlib, Scikit-\n",
    "Learn, xgboost, SciPy, spaCy, Pytorch, Tensorflow, Optuna, Langchain, ollama, transformers\n",
    "Others: Jupyter, Azure, Git, SSMS, PowerBI, Microsoft Excel, Databricks, PySpark, Documentation, Statistical analysis\n",
    "\"\"\"\n",
    "\n",
    "jd=\"\"\"\n",
    "Construction project engineer\n",
    "JARDINE is a premier construction management and general contracting firm based in Centerville, Utah. We specialize in commercial construction with a focus on historic renovations, mountain and resort construction, light industrial projects, pharmaceutical and nutraceutical facilities, clean rooms, lab spaces, retail environments, food & beverage spaces, and tenant improvements. Our approach prioritizes collaborative project delivery methods such as Construction Management/General Contracting, Design-Build, Design Assist, and Cost-Plus to ensure successful project outcomes.\n",
    "\n",
    "Role Description\n",
    "JARDINE is seeking a full-time, on-site Construction Project Engineer to join our team in the Salt Lake City Metropolitan Area. This role is instrumental in supporting project execution, ensuring smooth coordination between field teams, subcontractors, and project management. The Construction Project Engineer will be actively involved in project coordination, construction engineering, RFI's, submittals, and communication to drive project success.\n",
    "\n",
    "Key Responsibilities\n",
    "Project Coordination: Support project managers and field teams in scheduling, logistics, and workflow efficiency.\n",
    "Construction Engineering: Assist in design reviews, constructability analysis, and technical problem-solving.\n",
    "Quality Control: Ensure compliance with project specifications, safety standards, and best practices.\n",
    "Submittals & RFIs: Prepare, track, and manage submittals, RFIs, and change orders throughout the project lifecycle.\n",
    "Communication: Maintain clear and effective communication between project stakeholders, including subcontractors, suppliers, and clients.\n",
    "Documentation & Reporting: Keep detailed records of project progress, budgets, and schedules using construction management software.\n",
    "Qualifications\n",
    "Strong project coordination and construction engineering skills.\n",
    "Experience in RFI and submittal processes.\n",
    "Excellent written and verbal communication skills.\n",
    "Proficiency in construction project management software (e.g., Procore, Bluebeam, MS Project).\n",
    "Ability to read and interpret construction drawings and specifications.\n",
    "Bachelor’s degree in Construction Management, Civil Engineering, or a related field.\n",
    "Relevant certifications such as PE (Professional Engineer) or PMP (Project Management Professional) are a plus.\n",
    "Why Join JARDINE?\n",
    "Competitive salary based on experience.\n",
    "Health benefits, 401(k), and paid time off.\n",
    "Opportunities for career growth and professional development.\n",
    "A collaborative, team-oriented work environment.\n",
    "\n",
    "Project Coordination, Construction Engineering, RFI Process, Submittals Management, Quality Control, Scheduling, Logistics, Workflow Efficiency, Constructability Analysis, Technical Problem-Solving, Compliance with Safety Standards, Change Order Management, Stakeholder Communication, Documentation, Reporting, Construction Management Software (Procore, Bluebeam, MS Project), Construction Drawings Interpretation, Budget Tracking, Civil Engineering, Construction Management, Project Management, Professional Certifications (PE, PMP).\n",
    "\"\"\""
   ],
   "metadata": {
    "collapsed": false,
    "ExecuteTime": {
     "end_time": "2025-03-08T05:34:28.473315Z",
     "start_time": "2025-03-08T05:34:28.470260Z"
    }
   },
   "id": "ceda86b53063c60c",
   "execution_count": 33
  },
  {
   "cell_type": "code",
   "outputs": [
    {
     "data": {
      "text/plain": "                                            job_data  \\\n0  \\nConstruction project engineer\\nJARDINE is a ...   \n\n                                         resume_data  \n0  \\nA Data Scientist with 3 years of experience ...  ",
      "text/html": "<div>\n<style scoped>\n    .dataframe tbody tr th:only-of-type {\n        vertical-align: middle;\n    }\n\n    .dataframe tbody tr th {\n        vertical-align: top;\n    }\n\n    .dataframe thead th {\n        text-align: right;\n    }\n</style>\n<table border=\"1\" class=\"dataframe\">\n  <thead>\n    <tr style=\"text-align: right;\">\n      <th></th>\n      <th>job_data</th>\n      <th>resume_data</th>\n    </tr>\n  </thead>\n  <tbody>\n    <tr>\n      <th>0</th>\n      <td>\\nConstruction project engineer\\nJARDINE is a ...</td>\n      <td>\\nA Data Scientist with 3 years of experience ...</td>\n    </tr>\n  </tbody>\n</table>\n</div>"
     },
     "execution_count": 34,
     "metadata": {},
     "output_type": "execute_result"
    }
   ],
   "source": [
    "real_df = pd.DataFrame([{\"job_data\":jd, \"resume_data\":rd}])\n",
    "real_df"
   ],
   "metadata": {
    "collapsed": false,
    "ExecuteTime": {
     "end_time": "2025-03-08T05:34:28.479361Z",
     "start_time": "2025-03-08T05:34:28.473997Z"
    }
   },
   "id": "8276b116a4fe00b3",
   "execution_count": 34
  },
  {
   "cell_type": "code",
   "outputs": [
    {
     "name": "stdout",
     "output_type": "stream",
     "text": [
      "\n",
      "A Data Scientist with 3 years of experience in developing machine learning pipelines and models to address business needs. Also\n",
      "experienced in communicating insights to enhance strategic decision-making and improve performance outcomes.\n",
      "EDUCATION\n",
      "Master Of Science In Data Science\n",
      "Northeastern University | GPA: 3.93 / 4.00 Portland, Maine | Sep 2023\n",
      "- May 2025\n",
      "Bachelor Of Technology In Computer Science\n",
      "Vardhaman College of Engineering | GPA: 8.84 / 10.00 Hyderabad | May 2017\n",
      "- Jun 2021\n",
      "WORK EXPERIENCE\n",
      "Data Engineer Co-Op | Full-time Jul 2024\n",
      "- Present\n",
      "EAI at Northeastern University\n",
      "• Engineered an end-to-end claim complexity scoring ML pipeline for MEMIC, negating ~3 minutes of mannual classification per claim.\n",
      "• Developed a robust claim complexity scoring model and reduced false negatives by 20%, streamlining the Claim Assignment Engine's efficiency within 6 months.\n",
      "• Identified an issue with prediction validation, which led to employing advanced testing validated by statistical tests.\n",
      "• Revised the existing claim assignment process to automatically assign claims classified by scoring engine to agents by prioritizing highly complex claims, achieving 100% automation.\n",
      "• Communicated weekly insights to clients, enhancing strategic decision-making and improving performance outcomes through\n",
      "experimental findings and suggesting actionable plans.\n",
      "Azure Data Engineer | Full-time Aug 2021\n",
      "- Jul 2023\n",
      "LTIMindtree\n",
      "• Resolved customer issues from Azure cloud services with an average solution acceptance rate of 50%, consistently for over one year.\n",
      "• Utilized Azure Databricks data engineering environment to solve business problems for customers and improve data quality by 35%.\n",
      "• Automated ETL pipelines for big data extraction and processing using Data factory and Dataflows, reducing processing time by 40%.\n",
      "• Recognized as a highly motivated member of Azure Collective on Stack Overflow, contributing 404 answers and reaching 428k people.\n",
      "• Developed a Question Moderator Model that improved question validation efficiency, saving 10% of time monthly by minimizing\n",
      "invalid question engagement.\n",
      "PROJECTS\n",
      "Application Ranking System Sep 2024\n",
      "- Apr 2025\n",
      "• Built an AI-powered Application Ranking System using cosine similarity, FAISS, and a custom scoring formula for efficient ranking.\n",
      "Aims to improve hiring by reducing bias, rewarding well-crafted resumes, and offering a fair ranking system for job applications.\n",
      "Stance Detection Model Using Generative AI\n",
      "• Developed a Huggingface space using fine-tuned text classification LLM to detect the stance using manually labeled and synthetic data.\n",
      "Leveraged LoRA fine-tuning to train only ~1% of LLM's parameters in Roberta base model's architecture to achieve 0.80 accuracy.\n",
      "\n",
      "SKILLS\n",
      "Programming: Python, SQL Server, Java, Data Structures and Algorithms, Problem-\n",
      "solving skills\n",
      "Machine Learning: Machine Learning, Regression, Classification, Data Cleaning, Data preprocessing, Data transformation, Feature\n",
      "Engineering, Data Visualization, XGBoost, Cross Validation, Deep learning, Neural Networks, Natural Language Processing, Transformers,\n",
      "Sentiment Analysis, Huggingface, Large Language models, Fine tuning, Prompt Engineering, Generative AI, RAG, Agentic AI\n",
      "Libraries: NumPy, Pandas, Matplotlib, Scikit-\n",
      "Learn, xgboost, SciPy, spaCy, Pytorch, Tensorflow, Optuna, Langchain, ollama, transformers\n",
      "Others: Jupyter, Azure, Git, SSMS, PowerBI, Microsoft Excel, Databricks, PySpark, Documentation, Statistical analysis\n"
     ]
    }
   ],
   "source": [
    "print(real_df.iloc[0]['resume_data'])"
   ],
   "metadata": {
    "collapsed": false,
    "ExecuteTime": {
     "end_time": "2025-03-08T05:34:28.482082Z",
     "start_time": "2025-03-08T05:34:28.480214Z"
    }
   },
   "id": "4f5101ad7c400e10",
   "execution_count": 35
  },
  {
   "cell_type": "markdown",
   "source": [
    " True label is assigned based on the understanding.\n",
    "\n",
    "- Above resume is a complete mismatch to Site Reliability Engineer, because it is completely different skill and expertise requirement.\n",
    "- Above resume is an Underwhelming to Data Scientist L4, because it is the same core area but the resume lacks key skills required like A/B testing.\n",
    "- Above resume is a good fit for Data Scientist requiring similar expertise and experience.\n",
    "- Above resume is an overqualified fit for the Data Engineer position which required skills that are far less compared to what the candidate possess"
   ],
   "metadata": {
    "collapsed": false
   },
   "id": "7781cd15b1ef5ae1"
  },
  {
   "cell_type": "code",
   "outputs": [
    {
     "data": {
      "text/plain": "       f_1       f_2       f_3       f_4       f_5       f_6       f_7  \\\n0  0.02746  0.074395 -0.044027 -0.020334  0.015358  0.010736 -0.013945   \n\n        f_8       f_9      f_10  ...    f_759     f_760     f_761     f_762  \\\n0  0.002697 -0.052822 -0.023759  ... -0.01144  0.003331 -0.016823  0.028028   \n\n   f_763     f_764     f_765     f_766     f_767    f_768  \n0 -0.008 -0.033974 -0.028421 -0.004494  0.002082 -0.03323  \n\n[1 rows x 768 columns]",
      "text/html": "<div>\n<style scoped>\n    .dataframe tbody tr th:only-of-type {\n        vertical-align: middle;\n    }\n\n    .dataframe tbody tr th {\n        vertical-align: top;\n    }\n\n    .dataframe thead th {\n        text-align: right;\n    }\n</style>\n<table border=\"1\" class=\"dataframe\">\n  <thead>\n    <tr style=\"text-align: right;\">\n      <th></th>\n      <th>f_1</th>\n      <th>f_2</th>\n      <th>f_3</th>\n      <th>f_4</th>\n      <th>f_5</th>\n      <th>f_6</th>\n      <th>f_7</th>\n      <th>f_8</th>\n      <th>f_9</th>\n      <th>f_10</th>\n      <th>...</th>\n      <th>f_759</th>\n      <th>f_760</th>\n      <th>f_761</th>\n      <th>f_762</th>\n      <th>f_763</th>\n      <th>f_764</th>\n      <th>f_765</th>\n      <th>f_766</th>\n      <th>f_767</th>\n      <th>f_768</th>\n    </tr>\n  </thead>\n  <tbody>\n    <tr>\n      <th>0</th>\n      <td>0.02746</td>\n      <td>0.074395</td>\n      <td>-0.044027</td>\n      <td>-0.020334</td>\n      <td>0.015358</td>\n      <td>0.010736</td>\n      <td>-0.013945</td>\n      <td>0.002697</td>\n      <td>-0.052822</td>\n      <td>-0.023759</td>\n      <td>...</td>\n      <td>-0.01144</td>\n      <td>0.003331</td>\n      <td>-0.016823</td>\n      <td>0.028028</td>\n      <td>-0.008</td>\n      <td>-0.033974</td>\n      <td>-0.028421</td>\n      <td>-0.004494</td>\n      <td>0.002082</td>\n      <td>-0.03323</td>\n    </tr>\n  </tbody>\n</table>\n<p>1 rows × 768 columns</p>\n</div>"
     },
     "execution_count": 40,
     "metadata": {},
     "output_type": "execute_result"
    }
   ],
   "source": [
    "real_df['job_data_preprocessed'] = real_df['job_data'].apply(preprocess_text)\n",
    "real_df['resume_data_preprocessed'] = real_df['resume_data'].apply(preprocess_text)\n",
    "\n",
    "# Compute embeddings\n",
    "combined_data = \"Job Description:\\n\" + real_df['job_data_preprocessed'] + \"\\nResume:\\n\" + real_df['resume_data_preprocessed'] \n",
    "combined_d1 = combined_data.apply(lambda x: get_text_embedding(x, embedding_model))\n",
    "\n",
    "edf = pd.DataFrame(combined_d1.tolist(), index=real_df.index, columns = [f\"f_{i+1}\" for i in range(len(combined_d1.tolist()[0]))])\n",
    "edf"
   ],
   "metadata": {
    "collapsed": false,
    "ExecuteTime": {
     "end_time": "2025-03-08T05:37:17.010842Z",
     "start_time": "2025-03-08T05:37:16.339542Z"
    }
   },
   "id": "7e0efe5792e8cfd6",
   "execution_count": 40
  },
  {
   "cell_type": "markdown",
   "source": [
    "### Results"
   ],
   "metadata": {
    "collapsed": false
   },
   "id": "710c853af31a06ca"
  },
  {
   "cell_type": "code",
   "outputs": [
    {
     "name": "stdout",
     "output_type": "stream",
     "text": [
      "Predicted category for 4-category classification:  [2]\n",
      "Predicted probabilities for 4-category classification:  [[0.00829086 0.01819922 0.76907605 0.20443384]]\n"
     ]
    }
   ],
   "source": [
    "print(\"Predicted category for 4-category classification: \",xgb_4class.predict(edf))\n",
    "print(\"Predicted probabilities for 4-category classification: \",xgb_4class.predict_proba(edf))"
   ],
   "metadata": {
    "collapsed": false,
    "ExecuteTime": {
     "end_time": "2025-03-08T05:37:19.820884Z",
     "start_time": "2025-03-08T05:37:19.685447Z"
    }
   },
   "id": "1755860c286bfda0",
   "execution_count": 41
  },
  {
   "cell_type": "code",
   "outputs": [
    {
     "data": {
      "text/plain": "array([[0.00829086, 0.01819922, 0.76907605, 0.20443384]], dtype=float32)"
     },
     "execution_count": 42,
     "metadata": {},
     "output_type": "execute_result"
    }
   ],
   "source": [
    "xgb_4class.predict_proba(edf)"
   ],
   "metadata": {
    "collapsed": false,
    "ExecuteTime": {
     "end_time": "2025-03-08T05:37:24.539826Z",
     "start_time": "2025-03-08T05:37:24.477802Z"
    }
   },
   "id": "3c5865cd65f76342",
   "execution_count": 42
  },
  {
   "cell_type": "markdown",
   "source": [
    "#### Two Class prediction\n",
    "\n",
    "Expected output is 0 : Bad"
   ],
   "metadata": {
    "collapsed": false
   },
   "id": "3ae0e43e374db5b5"
  },
  {
   "cell_type": "code",
   "outputs": [
    {
     "name": "stdout",
     "output_type": "stream",
     "text": [
      "Predicted category for 2-category classification:  [1]\n",
      "Predicted category for 2-category classification:  [[0.07921147 0.9207885 ]]\n"
     ]
    }
   ],
   "source": [
    "print(\"Predicted category for 2-category classification: \",xgb_2class.predict(edf))\n",
    "print(\"Predicted category for 2-category classification: \",xgb_2class.predict_proba(edf))"
   ],
   "metadata": {
    "collapsed": false,
    "ExecuteTime": {
     "end_time": "2025-03-08T05:37:26.547894Z",
     "start_time": "2025-03-08T05:37:26.416097Z"
    }
   },
   "id": "5ee2e8261c72757b",
   "execution_count": 43
  },
  {
   "cell_type": "code",
   "outputs": [
    {
     "data": {
      "text/plain": "array([[0.07921147, 0.9207885 ]], dtype=float32)"
     },
     "execution_count": 44,
     "metadata": {},
     "output_type": "execute_result"
    }
   ],
   "source": [
    "xgb_2class.predict_proba(edf)"
   ],
   "metadata": {
    "collapsed": false,
    "ExecuteTime": {
     "end_time": "2025-03-08T05:37:30.610334Z",
     "start_time": "2025-03-08T05:37:30.549653Z"
    }
   },
   "id": "a6a53382c1c23d09",
   "execution_count": 44
  },
  {
   "cell_type": "code",
   "outputs": [],
   "source": [],
   "metadata": {
    "collapsed": false
   },
   "id": "72908a3285b57cbc"
  }
 ],
 "metadata": {
  "kernelspec": {
   "display_name": "Python (ARS)",
   "language": "python",
   "name": "ars"
  },
  "language_info": {
   "codemirror_mode": {
    "name": "ipython",
    "version": 3
   },
   "file_extension": ".py",
   "mimetype": "text/x-python",
   "name": "python",
   "nbconvert_exporter": "python",
   "pygments_lexer": "ipython3",
   "version": "3.12.1"
  }
 },
 "nbformat": 4,
 "nbformat_minor": 5
}
