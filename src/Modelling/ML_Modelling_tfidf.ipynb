{
 "cells": [
  {
   "cell_type": "markdown",
   "id": "5938511e9ca304d0",
   "metadata": {
    "collapsed": false
   },
   "source": [
    "# Baseline Modelling"
   ]
  },
  {
   "cell_type": "markdown",
   "id": "c6c9bc98d6413f73",
   "metadata": {
    "collapsed": false
   },
   "source": [
    "## Importing libraries"
   ]
  },
  {
   "cell_type": "code",
   "execution_count": 1,
   "id": "initial_id",
   "metadata": {
    "ExecuteTime": {
     "end_time": "2025-03-07T00:18:00.896766Z",
     "start_time": "2025-03-07T00:18:00.421047Z"
    }
   },
   "outputs": [],
   "source": [
    "import pandas as pd\n",
    "import numpy as np\n",
    "import matplotlib.pyplot as plt\n",
    "import seaborn as sns\n",
    "\n",
    "import re\n",
    "import string\n",
    "import nltk\n",
    "from nltk.corpus import stopwords\n",
    "\n",
    "from sklearn.feature_extraction.text import TfidfVectorizer\n",
    "from scipy.sparse import hstack\n",
    "from sklearn.model_selection import train_test_split\n",
    "\n",
    "from sklearn.model_selection import cross_val_score, KFold\n",
    "from sklearn.tree import DecisionTreeClassifier\n",
    "from sklearn.ensemble import RandomForestClassifier\n",
    "from sklearn.metrics import accuracy_score, precision_score, recall_score, f1_score, confusion_matrix, classification_report\n",
    "\n",
    "from scipy.sparse import issparse\n",
    "from sklearn.manifold import TSNE"
   ]
  },
  {
   "cell_type": "code",
   "execution_count": 2,
   "id": "5120572f76dc6ace",
   "metadata": {
    "collapsed": false,
    "ExecuteTime": {
     "end_time": "2025-03-07T00:18:00.899797Z",
     "start_time": "2025-03-07T00:18:00.897357Z"
    }
   },
   "outputs": [
    {
     "name": "stdout",
     "output_type": "stream",
     "text": [
      "/Users/saideepbunny/Projects/Application_Ranking_System\n"
     ]
    }
   ],
   "source": [
    "import os\n",
    "import sys\n",
    "from pathlib import Path\n",
    "\n",
    "path = Path(os.path.dirname(os.getcwd()))\n",
    "path = str(path)\n",
    "print(path)\n",
    "sys.path.insert(1, path)"
   ]
  },
  {
   "cell_type": "markdown",
   "id": "c2333ef71af2333d",
   "metadata": {
    "collapsed": false
   },
   "source": [
    "## Reading the data"
   ]
  },
  {
   "cell_type": "code",
   "execution_count": 3,
   "id": "601ff9ce3279e9c2",
   "metadata": {
    "collapsed": false,
    "ExecuteTime": {
     "end_time": "2025-03-07T00:18:01.228753Z",
     "start_time": "2025-03-07T00:18:00.900999Z"
    }
   },
   "outputs": [
    {
     "data": {
      "text/plain": "                                               job_data  \\\n0     Master Scheduler\\nBaltimore Aircoil Company (B...   \n1     Master Scheduler\\nBaltimore Aircoil Company (B...   \n2     Master Scheduler\\nBaltimore Aircoil Company (B...   \n3     Master Scheduler\\nBaltimore Aircoil Company (B...   \n4     Master Technician\\nCompany / Location Informat...   \n...                                                 ...   \n5995  Account Executive Digital Sales\\nOverview\\nSal...   \n5996  Account Executive, Industrial Equipment\\nWith ...   \n5997  Account Executive, Industrial Equipment\\nWith ...   \n5998  Account Executive, Industrial Equipment\\nWith ...   \n5999  Account Executive, Industrial Equipment\\nWith ...   \n\n                                            resume_data              label  \n0     # *John Miller*\\n\\n**Professional Summary**\\n\\...  Complete Mismatch  \n1     # James Casey\\n\\n## Professional Summary\\n\\nHi...      Underwhelming  \n2     # Rachel Vargas\\n\\n## Professional Summary\\n\\n...           Good Fit  \n3     # Susan Bradley\\n\\n**Professional Summary**\\n\\...      Overqualified  \n4     # Sean Johnson\\n\\n## Professional Summary\\n\\nD...  Complete Mismatch  \n...                                                 ...                ...  \n5995  # Todd Walters\\n\\n**Professional Summary**\\n\\n...      Overqualified  \n5996  **DOUGLAS BLAKE**\\n\\n**Professional Summary**\\...  Complete Mismatch  \n5997  # Kyle Villegas\\n\\n## Professional Summary\\n\\n...      Underwhelming  \n5998  # Charles Preston\\n\\n**Professional Summary**\\...           Good Fit  \n5999  # James Gardner\\n\\n**Professional Summary**\\n\\...  Complete Mismatch  \n\n[6000 rows x 3 columns]",
      "text/html": "<div>\n<style scoped>\n    .dataframe tbody tr th:only-of-type {\n        vertical-align: middle;\n    }\n\n    .dataframe tbody tr th {\n        vertical-align: top;\n    }\n\n    .dataframe thead th {\n        text-align: right;\n    }\n</style>\n<table border=\"1\" class=\"dataframe\">\n  <thead>\n    <tr style=\"text-align: right;\">\n      <th></th>\n      <th>job_data</th>\n      <th>resume_data</th>\n      <th>label</th>\n    </tr>\n  </thead>\n  <tbody>\n    <tr>\n      <th>0</th>\n      <td>Master Scheduler\\nBaltimore Aircoil Company (B...</td>\n      <td># *John Miller*\\n\\n**Professional Summary**\\n\\...</td>\n      <td>Complete Mismatch</td>\n    </tr>\n    <tr>\n      <th>1</th>\n      <td>Master Scheduler\\nBaltimore Aircoil Company (B...</td>\n      <td># James Casey\\n\\n## Professional Summary\\n\\nHi...</td>\n      <td>Underwhelming</td>\n    </tr>\n    <tr>\n      <th>2</th>\n      <td>Master Scheduler\\nBaltimore Aircoil Company (B...</td>\n      <td># Rachel Vargas\\n\\n## Professional Summary\\n\\n...</td>\n      <td>Good Fit</td>\n    </tr>\n    <tr>\n      <th>3</th>\n      <td>Master Scheduler\\nBaltimore Aircoil Company (B...</td>\n      <td># Susan Bradley\\n\\n**Professional Summary**\\n\\...</td>\n      <td>Overqualified</td>\n    </tr>\n    <tr>\n      <th>4</th>\n      <td>Master Technician\\nCompany / Location Informat...</td>\n      <td># Sean Johnson\\n\\n## Professional Summary\\n\\nD...</td>\n      <td>Complete Mismatch</td>\n    </tr>\n    <tr>\n      <th>...</th>\n      <td>...</td>\n      <td>...</td>\n      <td>...</td>\n    </tr>\n    <tr>\n      <th>5995</th>\n      <td>Account Executive Digital Sales\\nOverview\\nSal...</td>\n      <td># Todd Walters\\n\\n**Professional Summary**\\n\\n...</td>\n      <td>Overqualified</td>\n    </tr>\n    <tr>\n      <th>5996</th>\n      <td>Account Executive, Industrial Equipment\\nWith ...</td>\n      <td>**DOUGLAS BLAKE**\\n\\n**Professional Summary**\\...</td>\n      <td>Complete Mismatch</td>\n    </tr>\n    <tr>\n      <th>5997</th>\n      <td>Account Executive, Industrial Equipment\\nWith ...</td>\n      <td># Kyle Villegas\\n\\n## Professional Summary\\n\\n...</td>\n      <td>Underwhelming</td>\n    </tr>\n    <tr>\n      <th>5998</th>\n      <td>Account Executive, Industrial Equipment\\nWith ...</td>\n      <td># Charles Preston\\n\\n**Professional Summary**\\...</td>\n      <td>Good Fit</td>\n    </tr>\n    <tr>\n      <th>5999</th>\n      <td>Account Executive, Industrial Equipment\\nWith ...</td>\n      <td># James Gardner\\n\\n**Professional Summary**\\n\\...</td>\n      <td>Complete Mismatch</td>\n    </tr>\n  </tbody>\n</table>\n<p>6000 rows × 3 columns</p>\n</div>"
     },
     "execution_count": 3,
     "metadata": {},
     "output_type": "execute_result"
    }
   ],
   "source": [
    "df = pd.read_csv(f\"{path}/data/synthetic_data/synthetic_data_v1.csv\")\n",
    "df"
   ]
  },
  {
   "cell_type": "code",
   "execution_count": 4,
   "id": "2a50d157b42d8a82",
   "metadata": {
    "collapsed": false,
    "ExecuteTime": {
     "end_time": "2025-03-07T00:18:01.231400Z",
     "start_time": "2025-03-07T00:18:01.229542Z"
    }
   },
   "outputs": [
    {
     "name": "stdout",
     "output_type": "stream",
     "text": [
      "Number of rows in the dataset: 6000\n",
      "Number of columns in the dataset: 3\n"
     ]
    }
   ],
   "source": [
    "print(\"Number of rows in the dataset:\", df.shape[0])\n",
    "print(\"Number of columns in the dataset:\", df.shape[1])"
   ]
  },
  {
   "cell_type": "code",
   "execution_count": 5,
   "id": "26be598b9db7348",
   "metadata": {
    "collapsed": false,
    "ExecuteTime": {
     "end_time": "2025-03-07T00:18:01.235567Z",
     "start_time": "2025-03-07T00:18:01.231987Z"
    }
   },
   "outputs": [
    {
     "data": {
      "text/plain": "label\nComplete Mismatch    1518\nUnderwhelming        1499\nGood Fit             1498\nOverqualified        1485\nName: count, dtype: int64"
     },
     "execution_count": 5,
     "metadata": {},
     "output_type": "execute_result"
    }
   ],
   "source": [
    "df['label'].value_counts()"
   ]
  },
  {
   "cell_type": "markdown",
   "id": "d652aa33a2d395ce",
   "metadata": {
    "collapsed": false
   },
   "source": [
    "## Data preprocessing"
   ]
  },
  {
   "cell_type": "code",
   "execution_count": 6,
   "id": "964cda1055b21dd8",
   "metadata": {
    "collapsed": false,
    "ExecuteTime": {
     "end_time": "2025-03-07T00:18:01.311774Z",
     "start_time": "2025-03-07T00:18:01.236239Z"
    }
   },
   "outputs": [
    {
     "name": "stdout",
     "output_type": "stream",
     "text": [
      "{'couldn', 'weren', 'has', 'needn', 'same', 'are', 'an', \"i'm\", 'overqualified', 'had', 'in', \"it's\", 'out', 'some', \"they've\", 'you', 'only', 'at', 'for', 'theirs', 'him', 'were', \"they're\", 'off', \"i've\", 'himself', 'there', 'up', \"weren't\", 'through', 's', 'ain', 'mustn', 'but', \"hadn't\", 'nor', 'our', 'should', 'does', \"he'd\", 'have', 'too', 'or', \"he'll\", 'them', 'just', 'will', 'he', \"he's\", 'its', 'do', \"shouldn't\", \"that'll\", 'having', 'which', 'we', 'o', 'more', 'good', 'they', 'am', 'don', \"wasn't\", 'y', 'than', 'his', \"doesn't\", \"won't\", 'yourself', \"hasn't\", 'once', 'themselves', 'into', 'no', 'those', 'was', 'underqualified', 'yours', 'doesn', 'while', \"couldn't\", 'each', \"needn't\", 'their', 'from', 'haven', 'can', \"you'd\", 'and', 'ma', \"you're\", \"you've\", 'if', 'mightn', 'd', 'when', 'the', \"didn't\", 'it', \"it'll\", \"haven't\", 'all', 't', 'to', 'herself', 'very', 'under', 'whom', 'then', 'how', 'further', 'a', \"i'll\", \"she's\", 'of', 'this', 'over', 'll', \"you'll\", \"she'll\", 'i', \"shan't\", 're', \"it'd\", 'above', 'other', 'doing', 'few', 'her', 'shouldn', 'did', 'after', 'won', 'aren', 'she', 'myself', 'that', 'about', 'what', 'your', \"aren't\", 'my', 'didn', \"mightn't\", \"they'd\", \"should've\", 'these', 'been', 'yourselves', 'isn', 'ourselves', 'down', 'as', \"she'd\", 've', 'not', \"we'd\", 'here', \"wouldn't\", 'before', 'wasn', \"we'll\", 'shan', 'hers', 'by', \"i'd\", \"we've\", 'mismatch', 'between', 'during', 'now', 'wouldn', 'itself', 'both', 'why', \"isn't\", 'on', 'm', 'where', 'with', 'below', 'until', 'again', 'hasn', 'me', 'because', \"we're\", 'such', 'be', 'hadn', 'against', 'being', 'is', 'most', 'ours', \"they'll\", 'who', 'so', \"don't\", 'own', 'any', \"mustn't\"}\n"
     ]
    },
    {
     "name": "stderr",
     "output_type": "stream",
     "text": [
      "[nltk_data] Downloading package stopwords to\n",
      "[nltk_data]     /Users/saideepbunny/nltk_data...\n",
      "[nltk_data]   Package stopwords is already up-to-date!\n"
     ]
    }
   ],
   "source": [
    "# Download stopwords if not already downloaded\n",
    "nltk.download('stopwords')\n",
    "stop_words = set(stopwords.words('english'))\n",
    "stop_words.add(\"overqualified\")\n",
    "stop_words.add(\"underqualified\")\n",
    "stop_words.add(\"mismatch\")\n",
    "stop_words.add(\"good\")\n",
    "print(stop_words)"
   ]
  },
  {
   "cell_type": "code",
   "execution_count": 7,
   "id": "58c3a1326fbe8f6a",
   "metadata": {
    "collapsed": false,
    "ExecuteTime": {
     "end_time": "2025-03-07T00:18:01.316509Z",
     "start_time": "2025-03-07T00:18:01.313405Z"
    }
   },
   "outputs": [],
   "source": [
    "def preprocess_text(text):\n",
    "    # Convert to lowercase\n",
    "    text = text.lower()\n",
    "\n",
    "    # Remove unwanted symbols except %, $, /, and .\n",
    "    text = re.sub(r\"[^a-z0-9\\s%$/.-]\", \"\", text)\n",
    "\n",
    "    # Preserve hyphens only when followed by a number (e.g., 2005-2010, 2010-present)\n",
    "    text = re.sub(r\"-(?!\\d)\", \"\", text)  # Remove hyphens not followed by a digit\n",
    "\n",
    "    # Preserve GPA-like formats (e.g., 3.8/4.0)\n",
    "    text = re.sub(r\"(?<!\\d)/|/(?!\\d)\", \" \", text)  # Remove '/' unless between numbers\n",
    "\n",
    "    # Remove periods (\".\") if they are immediately after a word but not numbers (e.g., \"good.\" → \"good\", but keep 3.8)\n",
    "    text = re.sub(r\"\\b(\\w+)\\.(?!\\d)\", r\"\\1\", text)\n",
    "\n",
    "    # Remove newline characters\n",
    "    text = text.replace(\"\\n\", \" \").replace(\"\\r\", \" \")\n",
    "\n",
    "    # Remove any show less and show more texts\n",
    "    text = text.replace(\"show less\", \"\").replace(\"show more\", \"\")\n",
    "    # Remove stopwords\n",
    "    stop_words = set(stopwords.words(\"english\"))\n",
    "    text = \" \".join(word for word in text.split() if word not in stop_words)\n",
    "\n",
    "    return text"
   ]
  },
  {
   "cell_type": "code",
   "execution_count": 8,
   "id": "be4ab91fc1810e47",
   "metadata": {
    "collapsed": false,
    "ExecuteTime": {
     "end_time": "2025-03-07T00:18:06.706943Z",
     "start_time": "2025-03-07T00:18:01.317094Z"
    }
   },
   "outputs": [],
   "source": [
    "df['job_data_preprocessed'] = df['job_data'].apply(preprocess_text)\n",
    "df['resume_data_preprocessed'] = df['resume_data'].apply(preprocess_text)"
   ]
  },
  {
   "cell_type": "code",
   "execution_count": 9,
   "id": "1f0082d39c1486be",
   "metadata": {
    "collapsed": false,
    "ExecuteTime": {
     "end_time": "2025-03-07T00:18:06.711287Z",
     "start_time": "2025-03-07T00:18:06.708978Z"
    }
   },
   "outputs": [
    {
     "name": "stdout",
     "output_type": "stream",
     "text": [
      "Mortgage Advisor\n",
      "At Pinnacle, our goal is to create an atmosphere where people become fully engaged, enjoy what they're doing and be successful. We work to ensure that every associate embraces what makes Pinnacle different and unique. For us, it starts with hiring the right people.\n",
      "We hire like-minded individuals who share our values of Integrity, Fairness, Learning, Results, Partnership, Balance, and Discipline.\n",
      "We hire experienced professionals who understand the industry and provide effective advice.\n",
      "We hire candidates who demonstrate a passion for client service. People who understand that distinctive service is more than smiling and being friendly – it’s about creating a client experience that is unmatched.\n",
      "But attracting the right people is only half the battle. We have to ensure that every associate understands their actions affects the outcomes of the firm. Our Position Descriptions are not designed to list every aspect of a position but to serve as a general overview.\n",
      "Summary Of Position\n",
      "A Mortgage Advisor should demonstrate commitment to delivering distinctive service. This position is responsible for originating substantial mortgage loan volume and loan revenue in accordance with Pinnacle’s values and mission as well as investor underwriting guidelines to assure timely loan funding and comply with all state, federal and investor compliance requirements, and regulations.\n",
      "Primary Responsibilities\n",
      "Provide distinctive service to clients and prospects , in person and over the telephone. Respond to client inquiries and satisfactorily resolve client issues. Support firm-wide achievement of the three-ring standard (all phones answered by a live person within three rings).\n",
      "Market mortgage products and services provided by Pinnacle Mortgage.\n",
      "Pre-qualify client prospects in a thorough and timely manner.\n",
      "Complete loan applications . Accept, prepare, and complete loan applications for submission to the Mortgage Advisor Assistant for processing, then further review by underwriting.\n",
      "Manage monthly close list and loan pipeline.\n",
      "Maintain current knowledge of mortgage industry. Stay up to date with current mortgage trends, products, policies, and processes.\n",
      "Ensure compliance with the Firm’s credit and mortgage lending policies and Federal regulations for all loans under their responsibility.\n",
      "Meet all the client’s financial needs , both business and personal, and refers clients to other specialty areas such as Trust, Investments, Insurance, Treasury Management, etc. as appropriate.\n",
      "Assist other team members as needed to ensure delivery of distinctive service.\n",
      "Perform other related duties and responsibilities as assigned .\n",
      "Description Of Experience, Education, And Training\n",
      "High School Education – College degree preferred.\n",
      "Minimum of 10 years’ experience in the financial services and/or mortgage industry.\n",
      "Proficient in Microsoft Office (Word, Excel, and PowerPoint) or related software.\n",
      "Proficient in mortgage loan origination software.\n",
      "Knowledge of Fannie Mae, Freddie Mac, FHA, USDA, VA, & Jumbo loan underwriting guidelines.\n",
      "Basic knowledge of bank services and products; including state and federal compliance regulations and requirements.\n",
      "Nationwide Mortgage Licensing System and Registry (NMLS) registration required.\n",
      "Description Of Capabilites, Physical Requirements, And Abilities\n",
      "Effective sales and negotiation skills.\n",
      "Excellent verbal and written communication skills.\n",
      "Effective interpersonal skills, including public speaking and presentation skills.\n",
      "Must be able to multi-task competing priorities and meet tight deadlines.\n",
      "Excellent organizational skills and attention to detail.\n",
      "Strong analytical and problem-solving skills.\n",
      "Excellent client service skills. Tact and diplomacy in dealing with both clients and associates.\n",
      "The physical activities of this job include but are not limited to the ability to stand and sit for prolonged periods of time, use of manual dexterity, verbal communication, visual acuity, repetitive motion, and the ability to hear. Often long periods of mental concentration are required. Other activities are the ability to bend, climb, balance, stoop, kneel, crouch, reach, walk, push, pull, lift, and grasp.\n",
      "POSITION STATUS: NON-EXEMPT\n",
      "DATE:\n",
      "09.07.2021\n",
      "Pinnacle is an Equal Opportunity and Affirmative Action Employer committed to supporting a culture of inclusivity that builds a diverse workforce so we can support the many different communities we serve. All otherwise qualified associates and applicants will receive consideration for employment without regard to race, color, religion, sex, sexual orientation, gender expression and/or identity, national origin, age (40 and over), genetic information, disability, protected military or veteran status, pregnancy or pregnancy-related conditions, or other status protected by law.\n",
      "Show more\n",
      "Show less\n",
      "Mortgage Loan Origination, Microsoft Office, Mortgage Loan Origination Software, Fannie Mae, Freddie Mac, FHA, USDA, VA, Jumbo Loan Underwriting Guidelines, Nationwide Mortgage Licensing System and Registry (NMLS), Sales, Negotiation, Verbal Communication, Written Communication, Interpersonal Skills, Public Speaking, Presentation Skills, Multitasking, Meeting Deadlines, Analytical Skills, ProblemSolving Skills, Client Service Skills, Tact, Diplomacy, Manual Dexterity, Visual Acuity, Repetitive Motion, Hearing, Mental Concentration, Bending, Climbing, Balancing, Stooping, Kneeling, Crouching, Reaching, Walking, Pushing, Pulling, Lifting, Grasping\n",
      "\n",
      "******************************************************\n",
      "\n",
      "mortgage advisor pinnacle goal create atmosphere people become fully engaged enjoy theyre successful work ensure every associate embraces makes pinnacle different unique us starts hiring right people hire likeminded individuals share values integrity fairness learning results partnership balance discipline hire experienced professionals understand industry provide effective advice hire candidates demonstrate passion client service people understand distinctive service smiling friendly creating client experience unmatched attracting right people half battle ensure every associate understands actions affects outcomes firm position descriptions designed list every aspect position serve general overview summary position mortgage advisor demonstrate commitment delivering distinctive service position responsible originating substantial mortgage loan volume loan revenue accordance pinnacles values mission well investor underwriting guidelines assure timely loan funding comply state federal investor compliance requirements regulations primary responsibilities provide distinctive service clients prospects person telephone respond client inquiries satisfactorily resolve client issues support firmwide achievement threering standard phones answered live person within three rings market mortgage products services provided pinnacle mortgage prequalify client prospects thorough timely manner complete loan applications . accept prepare complete loan applications submission mortgage advisor assistant processing review underwriting manage monthly close list loan pipeline maintain current knowledge mortgage industry stay date current mortgage trends products policies processes ensure compliance firms credit mortgage lending policies federal regulations loans responsibility meet clients financial needs business personal refers clients specialty areas trust investments insurance treasury management etc appropriate assist team members needed ensure delivery distinctive service perform related duties responsibilities assigned . description experience education training high school education college degree preferred minimum 10 years experience financial services mortgage industry proficient microsoft office word excel powerpoint related software proficient mortgage loan origination software knowledge fannie mae freddie mac fha usda va jumbo loan underwriting guidelines basic knowledge bank services products including state federal compliance regulations requirements nationwide mortgage licensing system registry nmls registration required description capabilites physical requirements abilities effective sales negotiation skills excellent verbal written communication skills effective interpersonal skills including public speaking presentation skills must able multitask competing priorities meet tight deadlines excellent organizational skills attention detail strong analytical problemsolving skills excellent client service skills tact diplomacy dealing clients associates physical activities job include limited ability stand sit prolonged periods time use manual dexterity verbal communication visual acuity repetitive motion ability hear often long periods mental concentration required activities ability bend climb balance stoop kneel crouch reach walk push pull lift grasp position status nonexempt date 09.07.2021 pinnacle equal opportunity affirmative action employer committed supporting culture inclusivity builds diverse workforce support many different communities serve otherwise qualified associates applicants receive consideration employment without regard race color religion sex sexual orientation gender expression identity national origin age 40 genetic information disability protected military veteran status pregnancy pregnancyrelated conditions status protected law mortgage loan origination microsoft office mortgage loan origination software fannie mae freddie mac fha usda va jumbo loan underwriting guidelines nationwide mortgage licensing system registry nmls sales negotiation verbal communication written communication interpersonal skills public speaking presentation skills multitasking meeting deadlines analytical skills problemsolving skills client service skills tact diplomacy manual dexterity visual acuity repetitive motion hearing mental concentration bending climbing balancing stooping kneeling crouching reaching walking pushing pulling lifting grasping\n"
     ]
    }
   ],
   "source": [
    "print(df.iloc[100]['job_data'])\n",
    "print(\"\\n******************************************************\\n\")\n",
    "print(df.iloc[100]['job_data_preprocessed'])"
   ]
  },
  {
   "cell_type": "code",
   "execution_count": 10,
   "id": "3fbfe1054b16c964",
   "metadata": {
    "collapsed": false,
    "ExecuteTime": {
     "end_time": "2025-03-07T00:18:06.714326Z",
     "start_time": "2025-03-07T00:18:06.712352Z"
    }
   },
   "outputs": [
    {
     "name": "stdout",
     "output_type": "stream",
     "text": [
      "# *Heather Neal*\n",
      "\n",
      "**Professional Summary**\n",
      "\n",
      "Dedicated and experienced *Veterinarian* with a strong background in animal care and welfare. Proven ability to manage high-volume caseloads, provide compassionate care, and maintain positive relationships with clients. Seeking to leverage expertise in a new and challenging role.\n",
      "\n",
      "**Skills**\n",
      "\n",
      "- Animal handling and restraint\n",
      "- Surgical procedures\n",
      "- Diagnostic testing and interpretation\n",
      "- Client communication and education\n",
      "- Electronic medical records management\n",
      "- Team leadership and development\n",
      "- Public speaking and presentations\n",
      "- Microsoft Office (Word, Excel, PowerPoint)\n",
      "- Veterinary software (AVImark, ImproMed)\n",
      "- Animal nutrition and behavior\n",
      "- Emergency and critical care\n",
      "- Exotic animal medicine\n",
      "- Preventative care and wellness\n",
      "\n",
      "**Education**\n",
      "\n",
      "*University of California, Davis*\n",
      "\n",
      "- Doctor of Veterinary Medicine, 2005\n",
      "- GPA: 3.8/4.0\n",
      "\n",
      "**Work Experience**\n",
      "\n",
      "*ABC Animal Hospital*\n",
      "\n",
      "- *Veterinarian*, Full-time, 2010-2021\n",
      "  - Provided comprehensive medical and surgical care for small animals, including dogs, cats, and exotic pets\n",
      "  - Managed a high-volume caseload, averaging 20-25 patients per day\n",
      "  - Collaborated with a team of veterinarians, technicians, and support staff to ensure exceptional patient care\n",
      "  - Utilized veterinary software (AVImark) to manage patient records, scheduling, and inventory\n",
      "\n",
      "*XYZ Veterinary Clinic*\n",
      "\n",
      "- *Associate Veterinarian*, Full-time, 2005-2010\n",
      "  - Performed routine and emergency surgical procedures, including spays, neuters, and mass removals\n",
      "  - Conducted diagnostic testing and interpretation, including bloodwork, urinalysis, and imaging\n",
      "  - Communicated effectively with clients to educate them on treatment options, preventative care, and home care\n",
      "  - Participated in continuing education opportunities to stay current on industry advancements and best practices\n",
      "\n",
      "**Projects**\n",
      "\n",
      "*Community Outreach and Education*\n",
      "\n",
      "- Developed and presented educational seminars on pet care and welfare for local schools, community groups, and animal shelters\n",
      "- Collaborated with local animal welfare organizations to provide discounted veterinary services and resources for low-income pet owners\n",
      "\n",
      "*Veterinary Software Implementation*\n",
      "\n",
      "- Led the transition from paper records to electronic medical records using veterinary software (ImproMed)\n",
      "- Trained staff on software usage and best practices, resulting in increased efficiency and accuracy in record-keeping\n",
      "\n",
      "**Certifications/Accomplishments**\n",
      "\n",
      "- *American Veterinary Medical Association* (AVMA) Member\n",
      "- *California Veterinary Medical Association* (CVMA) Member\n",
      "- *Veterinary Emergency and Critical Care Society* (VECCS) Member\n",
      "- *Fear Free Certified Professional*\n",
      "\n",
      "**Leadership**\n",
      "\n",
      "- Served as a mentor for new veterinarians and veterinary students, providing guidance and support in clinical skills and client communication\n",
      "- Led staff training and development initiatives, including continuing education opportunities and team-building activities\n",
      "\n",
      "**Publications**\n",
      "\n",
      "- Co-authored a research paper on the impact of spay/neuter programs on animal welfare and population control, published in the *Journal of the American Veterinary Medical Association* (JAVMA)\n",
      "\n",
      "**Additional Information**\n",
      "\n",
      "- Proficient in Spanish, allowing for effective communication with a diverse client base\n",
      "- Active volunteer with local animal shelters and rescue organizations, providing veterinary care and support for animals in need\n",
      "\n",
      "******************************************************\n",
      "\n",
      "heather neal professional summary dedicated experienced veterinarian strong background animal care welfare proven ability manage highvolume caseloads provide compassionate care maintain positive relationships clients seeking leverage expertise new challenging role skills animal handling restraint surgical procedures diagnostic testing interpretation client communication education electronic medical records management team leadership development public speaking presentations microsoft office word excel powerpoint veterinary software avimark impromed animal nutrition behavior emergency critical care exotic animal medicine preventative care wellness education university california davis doctor veterinary medicine 2005 gpa 3.8/4.0 work experience abc animal hospital veterinarian fulltime 2010-2021 provided comprehensive medical surgical care small animals including dogs cats exotic pets managed highvolume caseload averaging 20-25 patients per day collaborated team veterinarians technicians support staff ensure exceptional patient care utilized veterinary software avimark manage patient records scheduling inventory xyz veterinary clinic associate veterinarian fulltime 2005-2010 performed routine emergency surgical procedures including spays neuters mass removals conducted diagnostic testing interpretation including bloodwork urinalysis imaging communicated effectively clients educate treatment options preventative care home care participated continuing education opportunities stay current industry advancements best practices projects community outreach education developed presented educational seminars pet care welfare local schools community groups animal shelters collaborated local animal welfare organizations provide discounted veterinary services resources lowincome pet owners veterinary software implementation led transition paper records electronic medical records using veterinary software impromed trained staff software usage best practices resulting increased efficiency accuracy recordkeeping certifications accomplishments american veterinary medical association avma member california veterinary medical association cvma member veterinary emergency critical care society veccs member fear free certified professional leadership served mentor new veterinarians veterinary students providing guidance support clinical skills client communication led staff training development initiatives including continuing education opportunities teambuilding activities publications coauthored research paper impact spay neuter programs animal welfare population control published journal american veterinary medical association javma additional information proficient spanish allowing effective communication diverse client base active volunteer local animal shelters rescue organizations providing veterinary care support animals need\n"
     ]
    }
   ],
   "source": [
    "print(df.iloc[100]['resume_data'])\n",
    "print(\"\\n******************************************************\\n\")\n",
    "print(df.iloc[100]['resume_data_preprocessed'])"
   ]
  },
  {
   "cell_type": "markdown",
   "id": "c75021a1b8df1fc5",
   "metadata": {
    "collapsed": false
   },
   "source": [
    "## Modelling: TF-IDF"
   ]
  },
  {
   "cell_type": "markdown",
   "source": [
    "### Utility Functions"
   ],
   "metadata": {
    "collapsed": false
   },
   "id": "781a156d4192d576"
  },
  {
   "cell_type": "code",
   "outputs": [],
   "source": [
    "def cross_validation_scores(model, X, y, n_splits=5):\n",
    "    # Define k-fold cross-validation\n",
    "    kf = KFold(n_splits=5, shuffle=True, random_state=42)\n",
    "    \n",
    "    # Perform cross-validation\n",
    "    scores = cross_val_score(model, X, y, cv=kf, scoring='accuracy')\n",
    "    \n",
    "    # Print results\n",
    "    print(f\"Cross-validation scores: {scores}\")\n",
    "    print(f\"Mean accuracy: {scores.mean():.4f}\")\n",
    "    print(f\"Standard deviation: {scores.std():.4f}\")\n",
    "    \n",
    "    \n",
    "def plot_confusion_matrix(y_true, y_pred, labels=None, title=\"Confusion Matrix\"):\n",
    "    \"\"\"\n",
    "    Displays a confusion matrix using seaborn heatmap.\n",
    "\n",
    "    Parameters:\n",
    "    y_true : list or array\n",
    "        True labels.\n",
    "    y_pred : list or array\n",
    "        Predicted labels.\n",
    "    labels : list, optional\n",
    "        Class labels for the confusion matrix.\n",
    "    title : str, optional\n",
    "        Title of the plot.\n",
    "    \"\"\"\n",
    "    cm = confusion_matrix(y_true, y_pred, labels=labels)\n",
    "    plt.figure(figsize=(8, 7))\n",
    "    sns.heatmap(cm, annot=True, fmt='d', cmap='Blues', xticklabels=labels, yticklabels=labels)\n",
    "    plt.xlabel(\"Predicted Label\")\n",
    "    plt.ylabel(\"True Label\")\n",
    "    plt.title(title)\n",
    "    plt.show()"
   ],
   "metadata": {
    "collapsed": false,
    "ExecuteTime": {
     "end_time": "2025-03-07T00:18:06.717837Z",
     "start_time": "2025-03-07T00:18:06.714844Z"
    }
   },
   "id": "5a1d3ce4f01893f1",
   "execution_count": 11
  },
  {
   "cell_type": "markdown",
   "id": "49bc73df538621b8",
   "metadata": {
    "collapsed": false
   },
   "source": [
    "### Defining X and y"
   ]
  },
  {
   "cell_type": "code",
   "execution_count": 12,
   "id": "3c122ab91d997f25",
   "metadata": {
    "collapsed": false,
    "ExecuteTime": {
     "end_time": "2025-03-07T00:18:06.723047Z",
     "start_time": "2025-03-07T00:18:06.718572Z"
    }
   },
   "outputs": [],
   "source": [
    "X = df[['job_data_preprocessed', 'resume_data_preprocessed']].copy()\n",
    "y = df['label']"
   ]
  },
  {
   "cell_type": "markdown",
   "id": "9446912c3b783fa1",
   "metadata": {
    "collapsed": false
   },
   "source": [
    "### Train test split"
   ]
  },
  {
   "cell_type": "code",
   "execution_count": 13,
   "id": "13048ca237be4ae8",
   "metadata": {
    "collapsed": false,
    "ExecuteTime": {
     "end_time": "2025-03-07T00:18:06.732227Z",
     "start_time": "2025-03-07T00:18:06.723756Z"
    }
   },
   "outputs": [
    {
     "name": "stdout",
     "output_type": "stream",
     "text": [
      "Train data shape:  (4800, 2)\n",
      "Test data shape:  (1200, 2)\n"
     ]
    }
   ],
   "source": [
    "# Assuming X contains features and y contains labels\n",
    "X_train, X_test, y_train, y_test = train_test_split(X, y, test_size=0.2, stratify=y)\n",
    "\n",
    "print(\"Train data shape: \", X_train.shape)\n",
    "print(\"Test data shape: \", X_test.shape)"
   ]
  },
  {
   "cell_type": "markdown",
   "id": "580855f27a6f7baf",
   "metadata": {
    "collapsed": false
   },
   "source": [
    "### Performing TF-IDF"
   ]
  },
  {
   "cell_type": "code",
   "execution_count": 14,
   "id": "55dc8c13e2139bbc",
   "metadata": {
    "collapsed": false,
    "ExecuteTime": {
     "end_time": "2025-03-07T00:18:08.672226Z",
     "start_time": "2025-03-07T00:18:06.732938Z"
    }
   },
   "outputs": [],
   "source": [
    "# Initialize separate TF-IDF vectorizers\n",
    "tfidf1 = TfidfVectorizer(max_df=0.8, min_df=0.2, max_features=7500)\n",
    "tfidf2 = TfidfVectorizer(max_df=0.8, min_df=0.2, max_features=7500)\n",
    "\n",
    "# Transform text columns separately\n",
    "X_train_tfidf1 = tfidf1.fit_transform(X_train['job_data_preprocessed'])\n",
    "X_train_tfidf2 = tfidf2.fit_transform(X_train['resume_data_preprocessed'])\n",
    "\n",
    "# Combine TF-IDF features (horizontally stack them)\n",
    "X_train_transformed = hstack([X_train_tfidf1, X_train_tfidf2])\n",
    "\n",
    "\n",
    "# Transform text columns separately\n",
    "X_test_tfidf1 = tfidf1.transform(X_test['job_data_preprocessed'])\n",
    "X_test_tfidf2 = tfidf2.transform(X_test['resume_data_preprocessed'])\n",
    "\n",
    "# Combine TF-IDF features (horizontally stack them)\n",
    "X_test_transformed = hstack([X_test_tfidf1, X_test_tfidf2])"
   ]
  },
  {
   "cell_type": "markdown",
   "source": [
    "### Decision Tree Classifier"
   ],
   "metadata": {
    "collapsed": false
   },
   "id": "8aa82a572d392e40"
  },
  {
   "cell_type": "code",
   "execution_count": 15,
   "id": "30bcde726a3803d2",
   "metadata": {
    "collapsed": false,
    "ExecuteTime": {
     "end_time": "2025-03-07T00:18:12.831578Z",
     "start_time": "2025-03-07T00:18:08.672810Z"
    }
   },
   "outputs": [
    {
     "name": "stdout",
     "output_type": "stream",
     "text": [
      "Cross-validation scores: [0.84166667 0.85625    0.828125   0.84270833 0.83333333]\n",
      "Mean accuracy: 0.8404\n",
      "Standard deviation: 0.0096\n"
     ]
    }
   ],
   "source": [
    "model = DecisionTreeClassifier(random_state=42)  # Example model\n",
    "cross_validation_scores(model, X_train_transformed, y_train, n_splits=5)\n"
   ]
  },
  {
   "cell_type": "code",
   "execution_count": 16,
   "id": "b4da677265999b8e",
   "metadata": {
    "collapsed": false,
    "ExecuteTime": {
     "end_time": "2025-03-07T00:18:13.979274Z",
     "start_time": "2025-03-07T00:18:12.832254Z"
    }
   },
   "outputs": [
    {
     "name": "stdout",
     "output_type": "stream",
     "text": [
      "\n",
      "Classification Report:\n",
      "                   precision    recall  f1-score   support\n",
      "\n",
      "Complete Mismatch       0.83      0.81      0.82       304\n",
      "         Good Fit       0.80      0.79      0.79       299\n",
      "    Overqualified       0.80      0.84      0.82       297\n",
      "    Underwhelming       0.87      0.86      0.86       300\n",
      "\n",
      "         accuracy                           0.82      1200\n",
      "        macro avg       0.83      0.83      0.82      1200\n",
      "     weighted avg       0.83      0.82      0.82      1200\n"
     ]
    }
   ],
   "source": [
    "# Train model on full training set\n",
    "model.fit(X_train_transformed, y_train)\n",
    "\n",
    "# Evaluate on test set\n",
    "y_pred = model.predict(X_test_transformed)\n",
    "\n",
    "print(\"\\nClassification Report:\")\n",
    "print(classification_report(y_test, y_pred))"
   ]
  },
  {
   "cell_type": "code",
   "execution_count": 17,
   "id": "6247d13730289e21",
   "metadata": {
    "collapsed": false,
    "ExecuteTime": {
     "end_time": "2025-03-07T00:18:14.080469Z",
     "start_time": "2025-03-07T00:18:13.979910Z"
    }
   },
   "outputs": [
    {
     "data": {
      "text/plain": "<Figure size 800x700 with 2 Axes>",
      "image/png": "[encoded data removed]"
     },
     "metadata": {},
     "output_type": "display_data"
    }
   ],
   "source": [
    "plot_confusion_matrix(y_test, y_pred, [\"Complete Mismatch\", \"Good Fit\", \"Overqualified\", \"Underwhelming\"])"
   ]
  },
  {
   "cell_type": "markdown",
   "id": "914cf3b6a633aec",
   "metadata": {
    "collapsed": false
   },
   "source": [
    "### RandomForestClassifier"
   ]
  },
  {
   "cell_type": "code",
   "execution_count": 18,
   "id": "d68e8b3c494bee75",
   "metadata": {
    "collapsed": false,
    "ExecuteTime": {
     "end_time": "2025-03-07T00:18:26.110797Z",
     "start_time": "2025-03-07T00:18:14.081162Z"
    }
   },
   "outputs": [
    {
     "name": "stdout",
     "output_type": "stream",
     "text": [
      "Cross-validation scores: [0.95520833 0.9625     0.93958333 0.946875   0.940625  ]\n",
      "Mean accuracy: 0.9490\n",
      "Standard deviation: 0.0088\n"
     ]
    }
   ],
   "source": [
    "model = RandomForestClassifier(random_state=42)  # Example model\n",
    "cross_validation_scores(model, X_train_transformed, y_train, n_splits=5)\n"
   ]
  },
  {
   "cell_type": "code",
   "execution_count": 19,
   "id": "e245230b6896d34e",
   "metadata": {
    "collapsed": false,
    "ExecuteTime": {
     "end_time": "2025-03-07T00:18:29.397595Z",
     "start_time": "2025-03-07T00:18:26.111751Z"
    }
   },
   "outputs": [
    {
     "name": "stdout",
     "output_type": "stream",
     "text": [
      "\n",
      "Classification Report:\n",
      "                   precision    recall  f1-score   support\n",
      "\n",
      "Complete Mismatch       0.96      0.97      0.97       304\n",
      "         Good Fit       0.92      0.94      0.93       299\n",
      "    Overqualified       0.95      0.93      0.94       297\n",
      "    Underwhelming       0.98      0.96      0.97       300\n",
      "\n",
      "         accuracy                           0.95      1200\n",
      "        macro avg       0.95      0.95      0.95      1200\n",
      "     weighted avg       0.95      0.95      0.95      1200\n"
     ]
    }
   ],
   "source": [
    "# Train model on full training set\n",
    "model.fit(X_train_transformed, y_train)\n",
    "\n",
    "# Evaluate on test set\n",
    "y_pred = model.predict(X_test_transformed)\n",
    "\n",
    "print(\"\\nClassification Report:\")\n",
    "print(classification_report(y_test, y_pred))"
   ]
  },
  {
   "cell_type": "code",
   "execution_count": 20,
   "id": "3c55599b812a2b8c",
   "metadata": {
    "collapsed": false,
    "ExecuteTime": {
     "end_time": "2025-03-07T00:18:29.472454Z",
     "start_time": "2025-03-07T00:18:29.398257Z"
    }
   },
   "outputs": [
    {
     "data": {
      "text/plain": "<Figure size 800x700 with 2 Axes>",
      "image/png": "[encoded data removed]"
     },
     "metadata": {},
     "output_type": "display_data"
    }
   ],
   "source": [
    "plot_confusion_matrix(y_test, y_pred, [\"Complete Mismatch\", \"Good Fit\", \"Overqualified\", \"Underwhelming\"])"
   ]
  },
  {
   "cell_type": "code",
   "outputs": [
    {
     "data": {
      "text/plain": "array([[0.03, 0.01, 0.  , 0.96],\n       [0.16, 0.02, 0.08, 0.74],\n       [0.03, 0.  , 0.  , 0.97],\n       ...,\n       [0.06, 0.47, 0.46, 0.01],\n       [0.26, 0.05, 0.  , 0.69],\n       [0.16, 0.2 , 0.61, 0.03]], shape=(1200, 4))"
     },
     "execution_count": 21,
     "metadata": {},
     "output_type": "execute_result"
    }
   ],
   "source": [
    "# 1-Complete Mismatch\n",
    "# 2-Good fit\n",
    "# 2-Overqualified\n",
    "# 3-Underwhelming\n",
    "\n",
    "model.predict_proba(X_test_transformed)"
   ],
   "metadata": {
    "collapsed": false,
    "ExecuteTime": {
     "end_time": "2025-03-07T00:18:29.498740Z",
     "start_time": "2025-03-07T00:18:29.473153Z"
    }
   },
   "id": "d373d5e0d6faf904",
   "execution_count": 21
  },
  {
   "cell_type": "markdown",
   "id": "966ca149ac84df5c",
   "metadata": {
    "collapsed": false
   },
   "source": [
    "#### Checking for most important features\n",
    "\n",
    "Since we are using TF-IDF, words would be our features. We are trying to see if there are any features that are directly correlated to target. This gives us information if there is any Data Leakage"
   ]
  },
  {
   "cell_type": "code",
   "execution_count": 22,
   "id": "131704ba696cb238",
   "metadata": {
    "collapsed": false,
    "ExecuteTime": {
     "end_time": "2025-03-07T00:18:29.506159Z",
     "start_time": "2025-03-07T00:18:29.499418Z"
    }
   },
   "outputs": [],
   "source": [
    "# Get Feature Importance from XGBoost\n",
    "feature_importance = model.feature_importances_\n",
    "\n",
    "# Get Feature Names\n",
    "job_features = np.array(tfidf1.get_feature_names_out())  # Job description words\n",
    "resume_features = np.array(tfidf2.get_feature_names_out())  # Resume words\n",
    "\n",
    "# Split importance back into Job Description & Resume parts\n",
    "job_feature_importance = feature_importance[:len(job_features)]\n",
    "resume_feature_importance = feature_importance[len(job_features):]\n",
    "\n",
    "# Create Sorted DataFrames\n",
    "job_df = pd.DataFrame({'Word': job_features, 'Importance': job_feature_importance}).sort_values(by=\"Importance\", ascending=False)\n",
    "resume_df = pd.DataFrame({'Word': resume_features, 'Importance': resume_feature_importance}).sort_values(by=\"Importance\", ascending=False)"
   ]
  },
  {
   "cell_type": "code",
   "execution_count": 23,
   "id": "26396c3d64191656",
   "metadata": {
    "collapsed": false,
    "ExecuteTime": {
     "end_time": "2025-03-07T00:18:29.511467Z",
     "start_time": "2025-03-07T00:18:29.506842Z"
    }
   },
   "outputs": [
    {
     "data": {
      "text/plain": "             Word  Importance\n98    engineering    0.001711\n37           care    0.001619\n78         design    0.001334\n34       business    0.001310\n302     technical    0.001282\n82    development    0.001165\n175       manager    0.001151\n297       systems    0.001131\n2         ability    0.001117\n333         years    0.001040\n179       medical    0.001021\n90      education    0.001016\n295       support    0.001012\n127        health    0.001010\n279      services    0.000993\n282      software    0.000987\n151           job    0.000963\n263  requirements    0.000946\n262      required    0.000941\n139       include    0.000936\n329       working    0.000915\n283     solutions    0.000901\n223      position    0.000897\n187          must    0.000872\n217      planning    0.000871\n286         staff    0.000865\n312      training    0.000855\n145   information    0.000850\n269          role    0.000840\n101   environment    0.000838",
      "text/html": "<div>\n<style scoped>\n    .dataframe tbody tr th:only-of-type {\n        vertical-align: middle;\n    }\n\n    .dataframe tbody tr th {\n        vertical-align: top;\n    }\n\n    .dataframe thead th {\n        text-align: right;\n    }\n</style>\n<table border=\"1\" class=\"dataframe\">\n  <thead>\n    <tr style=\"text-align: right;\">\n      <th></th>\n      <th>Word</th>\n      <th>Importance</th>\n    </tr>\n  </thead>\n  <tbody>\n    <tr>\n      <th>98</th>\n      <td>engineering</td>\n      <td>0.001711</td>\n    </tr>\n    <tr>\n      <th>37</th>\n      <td>care</td>\n      <td>0.001619</td>\n    </tr>\n    <tr>\n      <th>78</th>\n      <td>design</td>\n      <td>0.001334</td>\n    </tr>\n    <tr>\n      <th>34</th>\n      <td>business</td>\n      <td>0.001310</td>\n    </tr>\n    <tr>\n      <th>302</th>\n      <td>technical</td>\n      <td>0.001282</td>\n    </tr>\n    <tr>\n      <th>82</th>\n      <td>development</td>\n      <td>0.001165</td>\n    </tr>\n    <tr>\n      <th>175</th>\n      <td>manager</td>\n      <td>0.001151</td>\n    </tr>\n    <tr>\n      <th>297</th>\n      <td>systems</td>\n      <td>0.001131</td>\n    </tr>\n    <tr>\n      <th>2</th>\n      <td>ability</td>\n      <td>0.001117</td>\n    </tr>\n    <tr>\n      <th>333</th>\n      <td>years</td>\n      <td>0.001040</td>\n    </tr>\n    <tr>\n      <th>179</th>\n      <td>medical</td>\n      <td>0.001021</td>\n    </tr>\n    <tr>\n      <th>90</th>\n      <td>education</td>\n      <td>0.001016</td>\n    </tr>\n    <tr>\n      <th>295</th>\n      <td>support</td>\n      <td>0.001012</td>\n    </tr>\n    <tr>\n      <th>127</th>\n      <td>health</td>\n      <td>0.001010</td>\n    </tr>\n    <tr>\n      <th>279</th>\n      <td>services</td>\n      <td>0.000993</td>\n    </tr>\n    <tr>\n      <th>282</th>\n      <td>software</td>\n      <td>0.000987</td>\n    </tr>\n    <tr>\n      <th>151</th>\n      <td>job</td>\n      <td>0.000963</td>\n    </tr>\n    <tr>\n      <th>263</th>\n      <td>requirements</td>\n      <td>0.000946</td>\n    </tr>\n    <tr>\n      <th>262</th>\n      <td>required</td>\n      <td>0.000941</td>\n    </tr>\n    <tr>\n      <th>139</th>\n      <td>include</td>\n      <td>0.000936</td>\n    </tr>\n    <tr>\n      <th>329</th>\n      <td>working</td>\n      <td>0.000915</td>\n    </tr>\n    <tr>\n      <th>283</th>\n      <td>solutions</td>\n      <td>0.000901</td>\n    </tr>\n    <tr>\n      <th>223</th>\n      <td>position</td>\n      <td>0.000897</td>\n    </tr>\n    <tr>\n      <th>187</th>\n      <td>must</td>\n      <td>0.000872</td>\n    </tr>\n    <tr>\n      <th>217</th>\n      <td>planning</td>\n      <td>0.000871</td>\n    </tr>\n    <tr>\n      <th>286</th>\n      <td>staff</td>\n      <td>0.000865</td>\n    </tr>\n    <tr>\n      <th>312</th>\n      <td>training</td>\n      <td>0.000855</td>\n    </tr>\n    <tr>\n      <th>145</th>\n      <td>information</td>\n      <td>0.000850</td>\n    </tr>\n    <tr>\n      <th>269</th>\n      <td>role</td>\n      <td>0.000840</td>\n    </tr>\n    <tr>\n      <th>101</th>\n      <td>environment</td>\n      <td>0.000838</td>\n    </tr>\n  </tbody>\n</table>\n</div>"
     },
     "execution_count": 23,
     "metadata": {},
     "output_type": "execute_result"
    }
   ],
   "source": [
    "job_df.head(30)"
   ]
  },
  {
   "cell_type": "code",
   "execution_count": 24,
   "id": "a8d6fbb003b037e5",
   "metadata": {
    "collapsed": false,
    "ExecuteTime": {
     "end_time": "2025-03-07T00:18:29.516636Z",
     "start_time": "2025-03-07T00:18:29.512197Z"
    }
   },
   "outputs": [
    {
     "data": {
      "text/plain": "            Word  Importance\n148      seeking    0.038998\n4           2010    0.026097\n29    background    0.024763\n157    strategic    0.024308\n12            25    0.023720\n3           2005    0.022018\n13            30    0.021849\n94       leading    0.020940\n75        highly    0.018375\n97      leverage    0.017574\n152      skilled    0.016431\n71     extensive    0.016390\n26      assisted    0.015716\n129       proven    0.015457\n60       driving    0.015390\n2             20    0.015051\n1             15    0.012605\n135     reducing    0.012526\n70     expertise    0.012239\n39       complex    0.012190\n69   experienced    0.011962\n111          new    0.011840\n141    resulting    0.011664\n180        years    0.011433\n81     improving    0.010860\n52     dedicated    0.010532\n93    leadership    0.010082\n172        track    0.009942\n142         role    0.009376\n134       record    0.009268",
      "text/html": "<div>\n<style scoped>\n    .dataframe tbody tr th:only-of-type {\n        vertical-align: middle;\n    }\n\n    .dataframe tbody tr th {\n        vertical-align: top;\n    }\n\n    .dataframe thead th {\n        text-align: right;\n    }\n</style>\n<table border=\"1\" class=\"dataframe\">\n  <thead>\n    <tr style=\"text-align: right;\">\n      <th></th>\n      <th>Word</th>\n      <th>Importance</th>\n    </tr>\n  </thead>\n  <tbody>\n    <tr>\n      <th>148</th>\n      <td>seeking</td>\n      <td>0.038998</td>\n    </tr>\n    <tr>\n      <th>4</th>\n      <td>2010</td>\n      <td>0.026097</td>\n    </tr>\n    <tr>\n      <th>29</th>\n      <td>background</td>\n      <td>0.024763</td>\n    </tr>\n    <tr>\n      <th>157</th>\n      <td>strategic</td>\n      <td>0.024308</td>\n    </tr>\n    <tr>\n      <th>12</th>\n      <td>25</td>\n      <td>0.023720</td>\n    </tr>\n    <tr>\n      <th>3</th>\n      <td>2005</td>\n      <td>0.022018</td>\n    </tr>\n    <tr>\n      <th>13</th>\n      <td>30</td>\n      <td>0.021849</td>\n    </tr>\n    <tr>\n      <th>94</th>\n      <td>leading</td>\n      <td>0.020940</td>\n    </tr>\n    <tr>\n      <th>75</th>\n      <td>highly</td>\n      <td>0.018375</td>\n    </tr>\n    <tr>\n      <th>97</th>\n      <td>leverage</td>\n      <td>0.017574</td>\n    </tr>\n    <tr>\n      <th>152</th>\n      <td>skilled</td>\n      <td>0.016431</td>\n    </tr>\n    <tr>\n      <th>71</th>\n      <td>extensive</td>\n      <td>0.016390</td>\n    </tr>\n    <tr>\n      <th>26</th>\n      <td>assisted</td>\n      <td>0.015716</td>\n    </tr>\n    <tr>\n      <th>129</th>\n      <td>proven</td>\n      <td>0.015457</td>\n    </tr>\n    <tr>\n      <th>60</th>\n      <td>driving</td>\n      <td>0.015390</td>\n    </tr>\n    <tr>\n      <th>2</th>\n      <td>20</td>\n      <td>0.015051</td>\n    </tr>\n    <tr>\n      <th>1</th>\n      <td>15</td>\n      <td>0.012605</td>\n    </tr>\n    <tr>\n      <th>135</th>\n      <td>reducing</td>\n      <td>0.012526</td>\n    </tr>\n    <tr>\n      <th>70</th>\n      <td>expertise</td>\n      <td>0.012239</td>\n    </tr>\n    <tr>\n      <th>39</th>\n      <td>complex</td>\n      <td>0.012190</td>\n    </tr>\n    <tr>\n      <th>69</th>\n      <td>experienced</td>\n      <td>0.011962</td>\n    </tr>\n    <tr>\n      <th>111</th>\n      <td>new</td>\n      <td>0.011840</td>\n    </tr>\n    <tr>\n      <th>141</th>\n      <td>resulting</td>\n      <td>0.011664</td>\n    </tr>\n    <tr>\n      <th>180</th>\n      <td>years</td>\n      <td>0.011433</td>\n    </tr>\n    <tr>\n      <th>81</th>\n      <td>improving</td>\n      <td>0.010860</td>\n    </tr>\n    <tr>\n      <th>52</th>\n      <td>dedicated</td>\n      <td>0.010532</td>\n    </tr>\n    <tr>\n      <th>93</th>\n      <td>leadership</td>\n      <td>0.010082</td>\n    </tr>\n    <tr>\n      <th>172</th>\n      <td>track</td>\n      <td>0.009942</td>\n    </tr>\n    <tr>\n      <th>142</th>\n      <td>role</td>\n      <td>0.009376</td>\n    </tr>\n    <tr>\n      <th>134</th>\n      <td>record</td>\n      <td>0.009268</td>\n    </tr>\n  </tbody>\n</table>\n</div>"
     },
     "execution_count": 24,
     "metadata": {},
     "output_type": "execute_result"
    }
   ],
   "source": [
    "resume_df.head(30)"
   ]
  },
  {
   "cell_type": "markdown",
   "id": "33596e34a41d446a",
   "metadata": {
    "collapsed": false
   },
   "source": [
    "The high performance might be due to clear decision boundaries as each of the resume with different fit categories is designed to be widely different from one category to another."
   ]
  }
 ],
 "metadata": {
  "kernelspec": {
   "display_name": "Python (ARS)",
   "language": "python",
   "name": "ars"
  },
  "language_info": {
   "codemirror_mode": {
    "name": "ipython",
    "version": 3
   },
   "file_extension": ".py",
   "mimetype": "text/x-python",
   "name": "python",
   "nbconvert_exporter": "python",
   "pygments_lexer": "ipython3",
   "version": "3.12.1"
  }
 },
 "nbformat": 4,
 "nbformat_minor": 5
}
