{
 "cells": [
  {
   "cell_type": "markdown",
   "id": "5938511e9ca304d0",
   "metadata": {
    "collapsed": false
   },
   "source": [
    "# Baseline Modelling"
   ]
  },
  {
   "cell_type": "markdown",
   "id": "c6c9bc98d6413f73",
   "metadata": {
    "collapsed": false
   },
   "source": [
    "## Importing libraries"
   ]
  },
  {
   "cell_type": "code",
   "execution_count": 1,
   "id": "initial_id",
   "metadata": {
    "ExecuteTime": {
     "end_time": "2025-03-06T23:39:55.674710Z",
     "start_time": "2025-03-06T23:39:51.089857Z"
    }
   },
   "outputs": [],
   "source": [
    "import pandas as pd\n",
    "import numpy as np\n",
    "import matplotlib.pyplot as plt\n",
    "import seaborn as sns\n",
    "\n",
    "import re\n",
    "import string\n",
    "import nltk\n",
    "from nltk.corpus import stopwords\n",
    "\n",
    "from sklearn.feature_extraction.text import TfidfVectorizer\n",
    "from scipy.sparse import hstack\n",
    "from sklearn.model_selection import train_test_split\n",
    "\n",
    "from sklearn.model_selection import cross_val_score, KFold\n",
    "from sklearn.tree import DecisionTreeClassifier\n",
    "from sklearn.ensemble import RandomForestClassifier\n",
    "from xgboost import XGBClassifier\n",
    "from sklearn.metrics import accuracy_score, precision_score, recall_score, f1_score, confusion_matrix, classification_report, make_scorer\n",
    "\n",
    "from sentence_transformers import SentenceTransformer\n"
   ]
  },
  {
   "cell_type": "code",
   "execution_count": 2,
   "id": "5120572f76dc6ace",
   "metadata": {
    "collapsed": false,
    "ExecuteTime": {
     "end_time": "2025-03-06T23:39:55.682698Z",
     "start_time": "2025-03-06T23:39:55.677652Z"
    }
   },
   "outputs": [
    {
     "name": "stdout",
     "output_type": "stream",
     "text": [
      "/Users/saideepbunny/Projects/Application_Ranking_System\n"
     ]
    }
   ],
   "source": [
    "import os\n",
    "import sys\n",
    "from pathlib import Path\n",
    "\n",
    "path = Path(os.path.dirname(os.getcwd()))\n",
    "path = str(path)\n",
    "print(path)\n",
    "sys.path.insert(1, path)"
   ]
  },
  {
   "cell_type": "markdown",
   "id": "c2333ef71af2333d",
   "metadata": {
    "collapsed": false
   },
   "source": [
    "## Reading the data"
   ]
  },
  {
   "cell_type": "code",
   "execution_count": 3,
   "id": "601ff9ce3279e9c2",
   "metadata": {
    "collapsed": false,
    "ExecuteTime": {
     "end_time": "2025-03-06T23:39:56.055624Z",
     "start_time": "2025-03-06T23:39:55.685634Z"
    }
   },
   "outputs": [
    {
     "data": {
      "text/plain": "                                               job_data  \\\n0     Master Scheduler\\nBaltimore Aircoil Company (B...   \n1     Master Scheduler\\nBaltimore Aircoil Company (B...   \n2     Master Scheduler\\nBaltimore Aircoil Company (B...   \n3     Master Scheduler\\nBaltimore Aircoil Company (B...   \n4     Master Technician\\nCompany / Location Informat...   \n...                                                 ...   \n5995  Account Executive Digital Sales\\nOverview\\nSal...   \n5996  Account Executive, Industrial Equipment\\nWith ...   \n5997  Account Executive, Industrial Equipment\\nWith ...   \n5998  Account Executive, Industrial Equipment\\nWith ...   \n5999  Account Executive, Industrial Equipment\\nWith ...   \n\n                                            resume_data              label  \n0     # *John Miller*\\n\\n**Professional Summary**\\n\\...  Complete Mismatch  \n1     # James Casey\\n\\n## Professional Summary\\n\\nHi...      Underwhelming  \n2     # Rachel Vargas\\n\\n## Professional Summary\\n\\n...           Good Fit  \n3     # Susan Bradley\\n\\n**Professional Summary**\\n\\...      Overqualified  \n4     # Sean Johnson\\n\\n## Professional Summary\\n\\nD...  Complete Mismatch  \n...                                                 ...                ...  \n5995  # Todd Walters\\n\\n**Professional Summary**\\n\\n...      Overqualified  \n5996  **DOUGLAS BLAKE**\\n\\n**Professional Summary**\\...  Complete Mismatch  \n5997  # Kyle Villegas\\n\\n## Professional Summary\\n\\n...      Underwhelming  \n5998  # Charles Preston\\n\\n**Professional Summary**\\...           Good Fit  \n5999  # James Gardner\\n\\n**Professional Summary**\\n\\...  Complete Mismatch  \n\n[6000 rows x 3 columns]",
      "text/html": "<div>\n<style scoped>\n    .dataframe tbody tr th:only-of-type {\n        vertical-align: middle;\n    }\n\n    .dataframe tbody tr th {\n        vertical-align: top;\n    }\n\n    .dataframe thead th {\n        text-align: right;\n    }\n</style>\n<table border=\"1\" class=\"dataframe\">\n  <thead>\n    <tr style=\"text-align: right;\">\n      <th></th>\n      <th>job_data</th>\n      <th>resume_data</th>\n      <th>label</th>\n    </tr>\n  </thead>\n  <tbody>\n    <tr>\n      <th>0</th>\n      <td>Master Scheduler\\nBaltimore Aircoil Company (B...</td>\n      <td># *John Miller*\\n\\n**Professional Summary**\\n\\...</td>\n      <td>Complete Mismatch</td>\n    </tr>\n    <tr>\n      <th>1</th>\n      <td>Master Scheduler\\nBaltimore Aircoil Company (B...</td>\n      <td># James Casey\\n\\n## Professional Summary\\n\\nHi...</td>\n      <td>Underwhelming</td>\n    </tr>\n    <tr>\n      <th>2</th>\n      <td>Master Scheduler\\nBaltimore Aircoil Company (B...</td>\n      <td># Rachel Vargas\\n\\n## Professional Summary\\n\\n...</td>\n      <td>Good Fit</td>\n    </tr>\n    <tr>\n      <th>3</th>\n      <td>Master Scheduler\\nBaltimore Aircoil Company (B...</td>\n      <td># Susan Bradley\\n\\n**Professional Summary**\\n\\...</td>\n      <td>Overqualified</td>\n    </tr>\n    <tr>\n      <th>4</th>\n      <td>Master Technician\\nCompany / Location Informat...</td>\n      <td># Sean Johnson\\n\\n## Professional Summary\\n\\nD...</td>\n      <td>Complete Mismatch</td>\n    </tr>\n    <tr>\n      <th>...</th>\n      <td>...</td>\n      <td>...</td>\n      <td>...</td>\n    </tr>\n    <tr>\n      <th>5995</th>\n      <td>Account Executive Digital Sales\\nOverview\\nSal...</td>\n      <td># Todd Walters\\n\\n**Professional Summary**\\n\\n...</td>\n      <td>Overqualified</td>\n    </tr>\n    <tr>\n      <th>5996</th>\n      <td>Account Executive, Industrial Equipment\\nWith ...</td>\n      <td>**DOUGLAS BLAKE**\\n\\n**Professional Summary**\\...</td>\n      <td>Complete Mismatch</td>\n    </tr>\n    <tr>\n      <th>5997</th>\n      <td>Account Executive, Industrial Equipment\\nWith ...</td>\n      <td># Kyle Villegas\\n\\n## Professional Summary\\n\\n...</td>\n      <td>Underwhelming</td>\n    </tr>\n    <tr>\n      <th>5998</th>\n      <td>Account Executive, Industrial Equipment\\nWith ...</td>\n      <td># Charles Preston\\n\\n**Professional Summary**\\...</td>\n      <td>Good Fit</td>\n    </tr>\n    <tr>\n      <th>5999</th>\n      <td>Account Executive, Industrial Equipment\\nWith ...</td>\n      <td># James Gardner\\n\\n**Professional Summary**\\n\\...</td>\n      <td>Complete Mismatch</td>\n    </tr>\n  </tbody>\n</table>\n<p>6000 rows × 3 columns</p>\n</div>"
     },
     "execution_count": 3,
     "metadata": {},
     "output_type": "execute_result"
    }
   ],
   "source": [
    "df = pd.read_csv(f\"{path}/data/synthetic_data/synthetic_data_v1.csv\")\n",
    "df"
   ]
  },
  {
   "cell_type": "code",
   "execution_count": 4,
   "id": "2a50d157b42d8a82",
   "metadata": {
    "collapsed": false,
    "ExecuteTime": {
     "end_time": "2025-03-06T23:39:56.064970Z",
     "start_time": "2025-03-06T23:39:56.062670Z"
    }
   },
   "outputs": [
    {
     "name": "stdout",
     "output_type": "stream",
     "text": [
      "Number of rows in the dataset: 6000\n",
      "Number of columns in the dataset: 3\n"
     ]
    }
   ],
   "source": [
    "print(\"Number of rows in the dataset:\", df.shape[0])\n",
    "print(\"Number of columns in the dataset:\", df.shape[1])"
   ]
  },
  {
   "cell_type": "code",
   "execution_count": 5,
   "id": "26be598b9db7348",
   "metadata": {
    "collapsed": false,
    "ExecuteTime": {
     "end_time": "2025-03-06T23:39:56.072610Z",
     "start_time": "2025-03-06T23:39:56.065815Z"
    }
   },
   "outputs": [
    {
     "data": {
      "text/plain": "label\nComplete Mismatch    1518\nUnderwhelming        1499\nGood Fit             1498\nOverqualified        1485\nName: count, dtype: int64"
     },
     "execution_count": 5,
     "metadata": {},
     "output_type": "execute_result"
    }
   ],
   "source": [
    "df['label'].value_counts()"
   ]
  },
  {
   "cell_type": "markdown",
   "id": "d652aa33a2d395ce",
   "metadata": {
    "collapsed": false
   },
   "source": [
    "## Data preprocessing"
   ]
  },
  {
   "cell_type": "code",
   "execution_count": 6,
   "id": "964cda1055b21dd8",
   "metadata": {
    "collapsed": false,
    "ExecuteTime": {
     "end_time": "2025-03-06T23:39:56.159537Z",
     "start_time": "2025-03-06T23:39:56.073755Z"
    }
   },
   "outputs": [
    {
     "name": "stdout",
     "output_type": "stream",
     "text": [
      "{'while', \"wasn't\", 'don', \"he's\", 'once', 'other', 'whom', \"hadn't\", 'has', 'doesn', \"we're\", 'until', 'which', \"haven't\", \"it'd\", 'himself', 'the', 'out', 'if', \"mightn't\", 'ours', 'y', 'yours', 'she', 'couldn', 'our', \"he'd\", 's', \"they'll\", 'my', 'then', 'does', 'of', 'do', 'who', \"isn't\", 'some', 'more', \"we've\", \"hasn't\", 'will', 'after', 'each', 'hadn', 'no', 'above', 'can', 'was', 'weren', 'shan', \"shan't\", 'up', 'd', 'below', 'there', 'not', \"we'd\", 'have', \"i'll\", 'both', 'underqualified', 'those', 'such', 'than', 'in', 'aren', 'themselves', 'mustn', 're', \"that'll\", 'your', 'about', 've', \"it's\", 'we', 'mismatch', 'or', 'through', 'where', 'o', 'with', \"couldn't\", 'i', 'itself', 'a', 'her', 'just', 'on', 'he', 'them', 'should', 'is', 'yourselves', 'doing', 'are', \"doesn't\", 'isn', \"he'll\", \"you'll\", 'didn', 'when', 'be', \"she's\", \"you're\", \"i'm\", 'had', 'into', 'wouldn', 'again', 'its', 'off', \"she'd\", 'ain', 'shouldn', 'him', 'were', \"they've\", 'they', 'over', 'before', 'me', \"didn't\", 'most', 'to', 'so', \"i've\", \"they're\", 'ourselves', \"she'll\", 'his', 'been', \"don't\", 'under', 'down', 'being', 'few', 'yourself', 'how', \"you've\", \"won't\", 'by', \"mustn't\", 'as', 'at', 'ma', 'now', 'what', \"shouldn't\", 'too', 'between', 'overqualified', 'hers', 't', 'that', 'and', 'myself', 'during', \"weren't\", 'did', 'll', 'own', 'because', \"you'd\", 'good', 'these', 'nor', 'only', 'same', 'an', \"we'll\", 'any', 'theirs', 'here', 'am', 'needn', 'against', \"they'd\", \"i'd\", 'very', 'hasn', 'from', 'their', 'this', 'all', 'for', 'it', 'mightn', 'you', \"wouldn't\", 'won', 'but', 'haven', \"should've\", 'wasn', 'herself', \"it'll\", \"aren't\", 'having', 'why', 'm', \"needn't\", 'further'}\n"
     ]
    },
    {
     "name": "stderr",
     "output_type": "stream",
     "text": [
      "[nltk_data] Downloading package stopwords to\n",
      "[nltk_data]     /Users/saideepbunny/nltk_data...\n",
      "[nltk_data]   Package stopwords is already up-to-date!\n"
     ]
    }
   ],
   "source": [
    "# Download stopwords if not already downloaded\n",
    "nltk.download('stopwords')\n",
    "stop_words = set(stopwords.words('english'))\n",
    "stop_words.add(\"overqualified\")\n",
    "stop_words.add(\"underqualified\")\n",
    "stop_words.add(\"mismatch\")\n",
    "stop_words.add(\"good\")\n",
    "print(stop_words)"
   ]
  },
  {
   "cell_type": "code",
   "execution_count": 7,
   "id": "58c3a1326fbe8f6a",
   "metadata": {
    "collapsed": false,
    "ExecuteTime": {
     "end_time": "2025-03-06T23:39:56.163372Z",
     "start_time": "2025-03-06T23:39:56.160469Z"
    }
   },
   "outputs": [],
   "source": [
    "def preprocess_text(text):\n",
    "    # Convert to lowercase\n",
    "    text = text.lower()\n",
    "\n",
    "    # Remove unwanted symbols except %, $, /, and .\n",
    "    text = re.sub(r\"[^a-z0-9\\s%$/.-]\", \"\", text)\n",
    "\n",
    "    # Preserve hyphens only when followed by a number (e.g., 2005-2010, 2010-present)\n",
    "    text = re.sub(r\"-(?!\\d)\", \"\", text)  # Remove hyphens not followed by a digit\n",
    "\n",
    "    # Preserve GPA-like formats (e.g., 3.8/4.0)\n",
    "    text = re.sub(r\"(?<!\\d)/|/(?!\\d)\", \" \", text)  # Remove '/' unless between numbers\n",
    "\n",
    "    # Remove periods (\".\") if they are immediately after a word but not numbers (e.g., \"good.\" → \"good\", but keep 3.8)\n",
    "    text = re.sub(r\"\\b(\\w+)\\.(?!\\d)\", r\"\\1\", text)\n",
    "\n",
    "    # Remove newline characters\n",
    "    text = text.replace(\"\\n\", \" \").replace(\"\\r\", \" \")\n",
    "\n",
    "    # Remove any show less and show more texts\n",
    "    text = text.replace(\"show less\", \"\").replace(\"show more\", \"\")\n",
    "    # Remove stopwords\n",
    "    stop_words = set(stopwords.words(\"english\"))\n",
    "    text = \" \".join(word for word in text.split() if word not in stop_words)\n",
    "\n",
    "    return text"
   ]
  },
  {
   "cell_type": "code",
   "execution_count": 8,
   "id": "be4ab91fc1810e47",
   "metadata": {
    "collapsed": false,
    "ExecuteTime": {
     "end_time": "2025-03-06T23:40:02.503079Z",
     "start_time": "2025-03-06T23:39:56.164146Z"
    }
   },
   "outputs": [],
   "source": [
    "df['job_data_preprocessed'] = df['job_data'].apply(preprocess_text)\n",
    "df['resume_data_preprocessed'] = df['resume_data'].apply(preprocess_text)"
   ]
  },
  {
   "cell_type": "code",
   "execution_count": 9,
   "id": "1f0082d39c1486be",
   "metadata": {
    "collapsed": false,
    "ExecuteTime": {
     "end_time": "2025-03-06T23:40:02.517259Z",
     "start_time": "2025-03-06T23:40:02.504694Z"
    }
   },
   "outputs": [
    {
     "name": "stdout",
     "output_type": "stream",
     "text": [
      "Master Scheduler\n",
      "Baltimore Aircoil Company (BAC), an Amsted Industry, is a proudly employee-owned, equal-opportunity company who is committed to upholding a diverse, inclusive culture that thrives on teamwork and a spirit of enterprise. We are the global leader in sustainable solutions for evaporative cooling, thermal storage, and heat transfer equipment with headquarters located in Jessup, Maryland and manufacturing located in Madera, CA, Milford, DE and Dayton, TN. The Master Scheduler, BAC Dayton is a key member of the Dayton, Tennessee Supply Chain Team, to include Baltimore Aircoil Company (BAC) and Coil Design operations. If you want to make an impact, have a sense of belonging and a desire to grow. Every reason to join us begins with YOU!\n",
      "POSITION PURPOSE\n",
      "The Master Scheduler, BAC Dayton is a key member of the Dayton, Tennessee Supply Chain Team, to include Baltimore Aircoil Company (BAC) and Coil Design operations. Role manages the daily plant supply chain operations to maximize manufacturing efficiency, minimize cost, drive quality, and ensure on-time delivery of supplies and finished goods. The Master Scheduler has overall site responsibility for production control & manufacturing scheduling. The position drives improvement in safety, quality, and operations performance.\n",
      "Knowledge & Skills\n",
      "Minimum of 4 years’ experience in operations or supply chain\n",
      "Experience with and understanding of MRP systems.\n",
      "Experience with SAP ERP system is a plus.\n",
      "Must possess a high degree of ownership and sense of urgency in support of manufacturing schedules and plant sales goals.\n",
      "Ability to integrate sales orders to master schedule, utilizing MRP for supply needs, while understanding staffing needs/hours per work center.\n",
      "Manage load leveling & bottleneck scheduling.\n",
      "Implement/Manage operations input/output by controls reporting.\n",
      "Provide input to finance team on S&OP (Sales & operations planning) as it relates to incoming volume, future forecast & capacity.\n",
      "Must be a good communicator (verbal and written) and able to integrate with and work within a team environment.\n",
      "Must possess and display leadership skills related to capacity management, layered manufacturing to meet customer deliverables.\n",
      "Strong organizational, interpersonal, analytical and follow-up skills.\n",
      "High degree of initiative and ownership, attention to detail, and the discipline to follow through on assigned tasks.\n",
      "Advanced Microsoft Office user with an emphasis on Excel\n",
      "Understand and ability to apply Lean Manufacturing Methodologies and JIT concepts.\n",
      "Bachelor’s degree a plus (Business, Operations Management, Accounting)\n",
      "NATURE & SCOPE\n",
      "This position will report directly to the Supply Chain Manager\n",
      "Direct interaction with Finance, Engineering, Purchasing, Production, Customer Service, and External Customers\n",
      "Responsible for all plant scheduling to include BAC and Coil Design.\n",
      "Principal Accountabilities\n",
      "Supervise, develop, and continuously improve the scheduling team.\n",
      "Meet regularly with direct reports, provide SMART objectives, development opportunities, and timely feedback.\n",
      "Verify Unit and Aftermarket orders with Bill of Materials, Order Details, and Submittals with manufacturing and engineering to assure Fit, Form, and Function\n",
      "Schedule Unit and Aftermarket Orders utilizing ERP. Ensure all workflow and information is complete to successfully firm and release unit orders allowing timely visibility in MRP.\n",
      "Create and maintain master production schedules by balancing machine, person, and material resources to optimize plant efficiency.\n",
      "Create and maintain master production schedule to meet On Time Delivery related to Customer Expectations, Traffic Constraints, and Internal Business Goals\n",
      "Work closely with the Production Team to ensure they are set up for success via the scheduling process.\n",
      "Additional Responsibilities\n",
      "Spend time in the factory as necessary to understand product, material flow, and flow of information.\n",
      "Provide support to the rest of the Supply Chain team, as needed.\n",
      "Collaborate globally with BAC and Amsted Supply Chain teams.\n",
      "Train others as appropriate\n",
      "Change Agent – strong communicator with influencing abilities with frontline teams\n",
      "WORKING CONDITIONS\n",
      "The physical demands described here are representative of those that must be met by an employee to successfully perform the essential functions of this job. Reasonable accommodations may be made to enable individuals with disabilities to perform the essential functions of the job. While performing this job, the employee is regularly required to stand and walk up to 20% of the time. This position requires occasional lifting up to fifty pounds and travel up to 10% of the time. Exposures include elevated noise levels associated with a manufacturing environment, fluctuations in temperature ambient conditions as well as intermittent exposure to the weather in and about the yard and dock areas. Occasional weekend work is typical, and availability is expected for any of the three operating shifts.\n",
      "Equal Opportunity Employer/Protected Veterans/Individuals with Disabilities The contractor will not discharge or in any other manner discriminate against employees or applicants because they have inquired about, discussed, or disclosed their own pay or the pay of another employee or applicant. However, employees who have access to the compensation information of other employees or applicants as a part of their essential job functions cannot disclose the pay of other employees or applicants to individuals who do not otherwise have access to compensation information, unless the disclosure is (a) in response to a formal complaint or charge, (b) in furtherance of an investigation, proceeding, hearing, or action, including an investigation conducted by the employer, or (c) consistent with the contractor’s legal duty to furnish information. 41 CFR 60-1.35(c)\n",
      "Show more\n",
      "Show less\n",
      "Operations, Supply Chain, MRP systems, SAP ERP system, Master scheduling, Production control, Manufacturing scheduling, Safety, Quality, Operations performance, Ownership, Urgency, Manufacturing schedules, Plant sales goals, Sales orders, Master schedule, Supply needs, Staffing needs, Work center, Load leveling, Bottleneck scheduling, Operations input, Output reporting, Sales & operations planning, Communication, Teamwork, Leadership, Capacity management, Layered manufacturing, Organization, Interpersonal skills, Analytical skills, Followup skills, Initiative, Attention to detail, Microsoft Office, Excel, Lean Manufacturing Methodologies, JIT concepts, Bachelor's degree, Business, Operations Management, Accounting, Scheduling team, SMART objectives, Development opportunities, Feedback, Bill of Materials, Order Details, Submittals, Manufacturing, Engineering, Fit, Form, Function, Machine resources, Person resources, Material resources, Production Team, Factory, Product flow, Material flow, Information flow, BAC Supply Chain teams, Amsted Supply Chain teams, Training, Communication, Influencing abilities, Standing, Walking, Lifting, Travel, Noise levels, Temperature fluctuations, Weather exposure, Weekend work, Operating shifts\n",
      "\n",
      "******************************************************\n",
      "\n",
      "master scheduler baltimore aircoil company bac amsted industry proudly employeeowned equalopportunity company committed upholding diverse inclusive culture thrives teamwork spirit enterprise global leader sustainable solutions evaporative cooling thermal storage heat transfer equipment headquarters located jessup maryland manufacturing located madera ca milford de dayton tn master scheduler bac dayton key member dayton tennessee supply chain team include baltimore aircoil company bac coil design operations want make impact sense belonging desire grow every reason join us begins position purpose master scheduler bac dayton key member dayton tennessee supply chain team include baltimore aircoil company bac coil design operations role manages daily plant supply chain operations maximize manufacturing efficiency minimize cost drive quality ensure ontime delivery supplies finished goods master scheduler overall site responsibility production control manufacturing scheduling position drives improvement safety quality operations performance knowledge skills minimum 4 years experience operations supply chain experience understanding mrp systems experience sap erp system plus must possess high degree ownership sense urgency support manufacturing schedules plant sales goals ability integrate sales orders master schedule utilizing mrp supply needs understanding staffing needs hours per work center manage load leveling bottleneck scheduling implement manage operations input output controls reporting provide input finance team sop sales operations planning relates incoming volume future forecast capacity must good communicator verbal written able integrate work within team environment must possess display leadership skills related capacity management layered manufacturing meet customer deliverables strong organizational interpersonal analytical followup skills high degree initiative ownership attention detail discipline follow assigned tasks advanced microsoft office user emphasis excel understand ability apply lean manufacturing methodologies jit concepts bachelors degree plus business operations management accounting nature scope position report directly supply chain manager direct interaction finance engineering purchasing production customer service external customers responsible plant scheduling include bac coil design principal accountabilities supervise develop continuously improve scheduling team meet regularly direct reports provide smart objectives development opportunities timely feedback verify unit aftermarket orders bill materials order details submittals manufacturing engineering assure fit form function schedule unit aftermarket orders utilizing erp ensure workflow information complete successfully firm release unit orders allowing timely visibility mrp create maintain master production schedules balancing machine person material resources optimize plant efficiency create maintain master production schedule meet time delivery related customer expectations traffic constraints internal business goals work closely production team ensure set success via scheduling process additional responsibilities spend time factory necessary understand product material flow flow information provide support rest supply chain team needed collaborate globally bac amsted supply chain teams train others appropriate change agent strong communicator influencing abilities frontline teams working conditions physical demands described representative must met employee successfully perform essential functions job reasonable accommodations may made enable individuals disabilities perform essential functions job performing job employee regularly required stand walk 20% time position requires occasional lifting fifty pounds travel 10% time exposures include elevated noise levels associated manufacturing environment fluctuations temperature ambient conditions well intermittent exposure weather yard dock areas occasional weekend work typical availability expected three operating shifts equal opportunity employer protected veterans individuals disabilities contractor discharge manner discriminate employees applicants inquired discussed disclosed pay pay another employee applicant however employees access compensation information employees applicants part essential job functions cannot disclose pay employees applicants individuals otherwise access compensation information unless disclosure response formal complaint charge b furtherance investigation proceeding hearing action including investigation conducted employer c consistent contractors legal duty furnish information 41 cfr 60-1.35c operations supply chain mrp systems sap erp system master scheduling production control manufacturing scheduling safety quality operations performance ownership urgency manufacturing schedules plant sales goals sales orders master schedule supply needs staffing needs work center load leveling bottleneck scheduling operations input output reporting sales operations planning communication teamwork leadership capacity management layered manufacturing organization interpersonal skills analytical skills followup skills initiative attention detail microsoft office excel lean manufacturing methodologies jit concepts bachelors degree business operations management accounting scheduling team smart objectives development opportunities feedback bill materials order details submittals manufacturing engineering fit form function machine resources person resources material resources production team factory product flow material flow information flow bac supply chain teams amsted supply chain teams training communication influencing abilities standing walking lifting travel noise levels temperature fluctuations weather exposure weekend work operating shifts\n"
     ]
    }
   ],
   "source": [
    "print(df.iloc[1]['job_data'])\n",
    "print(\"\\n******************************************************\\n\")\n",
    "print(df.iloc[1]['job_data_preprocessed'])"
   ]
  },
  {
   "cell_type": "code",
   "execution_count": 10,
   "id": "3fbfe1054b16c964",
   "metadata": {
    "collapsed": false,
    "ExecuteTime": {
     "end_time": "2025-03-06T23:40:02.527219Z",
     "start_time": "2025-03-06T23:40:02.524742Z"
    }
   },
   "outputs": [
    {
     "name": "stdout",
     "output_type": "stream",
     "text": [
      "# James Casey\n",
      "\n",
      "## Professional Summary\n",
      "\n",
      "Highly motivated and detail-oriented professional with experience in operations and supply chain management. Proven track record of managing production control, manufacturing scheduling, and safety initiatives. Seeking to leverage my skills and experience to contribute to a dynamic team as a Master Scheduler.\n",
      "\n",
      "## Skills\n",
      "\n",
      "Operations, Supply Chain, MRP systems, Master scheduling, Production control, Manufacturing scheduling, Safety, Quality, Operations performance, Ownership, Urgency, Sales orders, Master schedule, Supply needs, Staffing needs, Load leveling, Bottleneck scheduling, Operations input, Output reporting, Sales & operations planning, Communication, Teamwork, Leadership, Capacity management, Layered manufacturing, Organization, Interpersonal skills, Analytical skills, Follow-up skills, Initiative, Attention to detail, Microsoft Office, Excel, Lean Manufacturing Methodologies, JIT concepts, Business, Operations Management, Accounting\n",
      "\n",
      "## Education\n",
      "\n",
      "*University of Maryland*, Bachelor of Science in Business Administration, 2015\n",
      "\n",
      "## Work Experience\n",
      "\n",
      "**Operations Supervisor, *ABC Manufacturing*, 2018-present**\n",
      "\n",
      "- Oversee daily plant operations, ensuring on-time delivery of supplies and finished goods.\n",
      "- Implement and manage operations input/output by controls reporting.\n",
      "- Collaborate with finance team on S&OP, providing input on incoming volume, future forecast, and capacity.\n",
      "- Manage load leveling and bottleneck scheduling to optimize plant efficiency.\n",
      "- Ensure compliance with safety regulations and quality standards.\n",
      "\n",
      "**Supply Chain Coordinator, *XYZ Corporation*, 2016-2018**\n",
      "\n",
      "- Assisted in managing production control and manufacturing scheduling for a mid-sized manufacturing firm.\n",
      "- Utilized MRP systems to balance machine, person, and material resources.\n",
      "- Collaborated with production, engineering, and customer service teams to ensure smooth operations.\n",
      "- Developed and maintained master production schedules to meet On Time Delivery goals.\n",
      "\n",
      "## Projects\n",
      "\n",
      "**Production Scheduling System, *ABC Manufacturing*, 2020**\n",
      "\n",
      "- Implemented a new production scheduling system, reducing lead times by 15%.\n",
      "- Utilized SAP ERP system to create and maintain master production schedules.\n",
      "\n",
      "**Lean Manufacturing Initiative, *XYZ Corporation*, 2017**\n",
      "\n",
      "- Participated in a lean manufacturing initiative, reducing waste and increasing efficiency by 10%.\n",
      "- Applied JIT concepts and Lean Manufacturing Methodologies to improve material flow and information flow.\n",
      "\n",
      "\n",
      "******************************************************\n",
      "\n",
      "james casey professional summary highly motivated detailoriented professional experience operations supply chain management proven track record managing production control manufacturing scheduling safety initiatives seeking leverage skills experience contribute dynamic team master scheduler skills operations supply chain mrp systems master scheduling production control manufacturing scheduling safety quality operations performance ownership urgency sales orders master schedule supply needs staffing needs load leveling bottleneck scheduling operations input output reporting sales operations planning communication teamwork leadership capacity management layered manufacturing organization interpersonal skills analytical skills followup skills initiative attention detail microsoft office excel lean manufacturing methodologies jit concepts business operations management accounting education university maryland bachelor science business administration 2015 work experience operations supervisor abc manufacturing 2018present oversee daily plant operations ensuring ontime delivery supplies finished goods implement manage operations input output controls reporting collaborate finance team sop providing input incoming volume future forecast capacity manage load leveling bottleneck scheduling optimize plant efficiency ensure compliance safety regulations quality standards supply chain coordinator xyz corporation 2016-2018 assisted managing production control manufacturing scheduling midsized manufacturing firm utilized mrp systems balance machine person material resources collaborated production engineering customer service teams ensure smooth operations developed maintained master production schedules meet time delivery goals projects production scheduling system abc manufacturing 2020 implemented new production scheduling system reducing lead times 15%. utilized sap erp system create maintain master production schedules lean manufacturing initiative xyz corporation 2017 participated lean manufacturing initiative reducing waste increasing efficiency 10%. applied jit concepts lean manufacturing methodologies improve material flow information flow\n"
     ]
    }
   ],
   "source": [
    "print(df.iloc[1]['resume_data'])\n",
    "print(\"\\n******************************************************\\n\")\n",
    "print(df.iloc[1]['resume_data_preprocessed'])"
   ]
  },
  {
   "cell_type": "markdown",
   "id": "bbe64610082e1472",
   "metadata": {
    "collapsed": false
   },
   "source": [
    "## Modelling: Sentence Embeddings"
   ]
  },
  {
   "cell_type": "markdown",
   "id": "dd359693dd7374d8",
   "metadata": {
    "collapsed": false
   },
   "source": [
    "### Utility functions"
   ]
  },
  {
   "cell_type": "code",
   "execution_count": 11,
   "id": "94c938ad5dae2b04",
   "metadata": {
    "collapsed": false,
    "ExecuteTime": {
     "end_time": "2025-03-06T23:40:02.531901Z",
     "start_time": "2025-03-06T23:40:02.527952Z"
    }
   },
   "outputs": [],
   "source": [
    "def cross_validation_scores(model, X, y, n_splits=5):\n",
    "    # Define k-fold cross-validation\n",
    "    kf = KFold(n_splits=5, shuffle=True, random_state=42)\n",
    "    \n",
    "    # Perform cross-validation\n",
    "    scores = cross_val_score(model, X, y, cv=kf, scoring='accuracy')\n",
    "    \n",
    "    # Print results\n",
    "    print(f\"Cross-validation scores: {scores}\")\n",
    "    print(f\"Mean accuracy: {scores.mean():.4f}\")\n",
    "    print(f\"Standard deviation: {scores.std():.4f}\")\n",
    "    \n",
    "    \n",
    "def plot_confusion_matrix(y_true, y_pred, labels=None, title=\"Confusion Matrix\"):\n",
    "    \"\"\"\n",
    "    Displays a confusion matrix using seaborn heatmap.\n",
    "\n",
    "    Parameters:\n",
    "    y_true : list or array\n",
    "        True labels.\n",
    "    y_pred : list or array\n",
    "        Predicted labels.\n",
    "    labels : list, optional\n",
    "        Class labels for the confusion matrix.\n",
    "    title : str, optional\n",
    "        Title of the plot.\n",
    "    \"\"\"\n",
    "    cm = confusion_matrix(y_true, y_pred, labels=labels)\n",
    "    plt.figure(figsize=(8, 7))\n",
    "    sns.heatmap(cm, annot=True, fmt='d', cmap='Blues', xticklabels=labels, yticklabels=labels)\n",
    "    plt.xlabel(\"Predicted Label\")\n",
    "    plt.ylabel(\"True Label\")\n",
    "    plt.title(title)\n",
    "    plt.show()\n",
    "\n",
    "\n",
    "def chunk_text(text, max_length=512, overlap=50):\n",
    "    \"\"\"\n",
    "    Splits text into overlapping chunks.\n",
    "    \"\"\"\n",
    "    words = text.split()\n",
    "    chunks = []\n",
    "    for i in range(0, len(words), max_length - overlap):\n",
    "        chunk = \" \".join(words[i:i+max_length])\n",
    "        chunks.append(chunk)\n",
    "        if i + max_length >= len(words):\n",
    "            break\n",
    "    return chunks\n",
    "\n",
    "def get_text_embedding(text, model):\n",
    "    \"\"\"\n",
    "    Converts large text into embeddings using chunking + mean pooling.\n",
    "    \"\"\"\n",
    "    chunks = chunk_text(text)\n",
    "    embeddings = model.encode(chunks, convert_to_numpy=True)  # Get embeddings\n",
    "    return np.mean(embeddings, axis=0)  # Aggregate embeddings using mean pooling"
   ]
  },
  {
   "cell_type": "markdown",
   "id": "460289c62e12cd49",
   "metadata": {
    "collapsed": false
   },
   "source": [
    "### Generating embeddings"
   ]
  },
  {
   "cell_type": "code",
   "execution_count": 12,
   "id": "33b8a6de1385d511",
   "metadata": {
    "collapsed": false,
    "ExecuteTime": {
     "end_time": "2025-03-06T23:40:04.466188Z",
     "start_time": "2025-03-06T23:40:02.532779Z"
    }
   },
   "outputs": [],
   "source": [
    "embedding_df = pd.DataFrame()\n",
    "\n",
    "# Load a Transformer model\n",
    "embedding_model = SentenceTransformer('all-mpnet-base-v2') #768 dimension vector space\n"
   ]
  },
  {
   "cell_type": "code",
   "execution_count": 13,
   "id": "c636502b-627d-4b34-933c-0ca94953f3f7",
   "metadata": {
    "ExecuteTime": {
     "end_time": "2025-03-07T00:02:59.242664Z",
     "start_time": "2025-03-06T23:40:04.469374Z"
    }
   },
   "outputs": [
    {
     "data": {
      "text/plain": "          jd_1      jd_2      jd_3      jd_4      jd_5      jd_6      jd_7  \\\n0     0.009577  0.006245 -0.033296  0.011508  0.010937  0.031040  0.027990   \n1     0.009577  0.006245 -0.033296  0.011508  0.010937  0.031040  0.027990   \n2     0.009577  0.006245 -0.033296  0.011508  0.010937  0.031040  0.027990   \n3     0.009577  0.006245 -0.033296  0.011508  0.010937  0.031040  0.027990   \n4    -0.010420 -0.033459 -0.032495 -0.045843 -0.010880  0.029193  0.024162   \n...        ...       ...       ...       ...       ...       ...       ...   \n5995  0.077558  0.065484 -0.029228 -0.041669  0.024160  0.008118  0.029876   \n5996  0.041520  0.087291 -0.027078 -0.021404  0.037023  0.017331 -0.016720   \n5997  0.041520  0.087291 -0.027078 -0.021404  0.037023  0.017331 -0.016720   \n5998  0.041520  0.087291 -0.027078 -0.021404  0.037023  0.017331 -0.016720   \n5999  0.041520  0.087291 -0.027078 -0.021404  0.037023  0.017331 -0.016720   \n\n          jd_8      jd_9     jd_10  ...     r_759     r_760     r_761  \\\n0     0.012026 -0.036721 -0.018761  ... -0.028887  0.009025 -0.027261   \n1     0.012026 -0.036721 -0.018761  ...  0.008974  0.045976  0.007253   \n2     0.012026 -0.036721 -0.018761  ...  0.032656  0.017854  0.029796   \n3     0.012026 -0.036721 -0.018761  ... -0.010185  0.040874  0.018428   \n4     0.022396 -0.011753 -0.018466  ... -0.005320  0.018147 -0.031401   \n...        ...       ...       ...  ...       ...       ...       ...   \n5995 -0.000238 -0.026611 -0.068392  ... -0.014344  0.016800 -0.027923   \n5996  0.002071 -0.025603 -0.056898  ... -0.029710  0.018241 -0.053562   \n5997  0.002071 -0.025603 -0.056898  ... -0.028676  0.010334 -0.025344   \n5998  0.002071 -0.025603 -0.056898  ... -0.061163  0.036026 -0.016092   \n5999  0.002071 -0.025603 -0.056898  ... -0.040956  0.008482  0.028978   \n\n         r_762     r_763     r_764     r_765     r_766     r_767     r_768  \n0     0.019367 -0.019691 -0.069188 -0.014478  0.005515  0.055554 -0.023629  \n1     0.016612 -0.024913 -0.034840  0.007707 -0.011463  0.010438 -0.044241  \n2     0.008518 -0.022498  0.002091 -0.012543 -0.000042 -0.022655 -0.057506  \n3     0.005628 -0.027361 -0.047506 -0.007277  0.004484 -0.026369 -0.061704  \n4     0.031785 -0.030024 -0.030181 -0.022365  0.003535  0.085359 -0.009603  \n...        ...       ...       ...       ...       ...       ...       ...  \n5995  0.032383 -0.027306 -0.016949 -0.027304  0.016285  0.002847 -0.026341  \n5996  0.040958 -0.026269  0.021377  0.000972  0.012668  0.056699 -0.043082  \n5997  0.026858 -0.019152 -0.019665 -0.020374  0.004647  0.031211 -0.032664  \n5998  0.026519 -0.010434  0.006242 -0.010167 -0.002530 -0.027904 -0.041730  \n5999  0.028231  0.000455 -0.050958 -0.026718  0.011742 -0.023707 -0.037031  \n\n[6000 rows x 1536 columns]",
      "text/html": "<div>\n<style scoped>\n    .dataframe tbody tr th:only-of-type {\n        vertical-align: middle;\n    }\n\n    .dataframe tbody tr th {\n        vertical-align: top;\n    }\n\n    .dataframe thead th {\n        text-align: right;\n    }\n</style>\n<table border=\"1\" class=\"dataframe\">\n  <thead>\n    <tr style=\"text-align: right;\">\n      <th></th>\n      <th>jd_1</th>\n      <th>jd_2</th>\n      <th>jd_3</th>\n      <th>jd_4</th>\n      <th>jd_5</th>\n      <th>jd_6</th>\n      <th>jd_7</th>\n      <th>jd_8</th>\n      <th>jd_9</th>\n      <th>jd_10</th>\n      <th>...</th>\n      <th>r_759</th>\n      <th>r_760</th>\n      <th>r_761</th>\n      <th>r_762</th>\n      <th>r_763</th>\n      <th>r_764</th>\n      <th>r_765</th>\n      <th>r_766</th>\n      <th>r_767</th>\n      <th>r_768</th>\n    </tr>\n  </thead>\n  <tbody>\n    <tr>\n      <th>0</th>\n      <td>0.009577</td>\n      <td>0.006245</td>\n      <td>-0.033296</td>\n      <td>0.011508</td>\n      <td>0.010937</td>\n      <td>0.031040</td>\n      <td>0.027990</td>\n      <td>0.012026</td>\n      <td>-0.036721</td>\n      <td>-0.018761</td>\n      <td>...</td>\n      <td>-0.028887</td>\n      <td>0.009025</td>\n      <td>-0.027261</td>\n      <td>0.019367</td>\n      <td>-0.019691</td>\n      <td>-0.069188</td>\n      <td>-0.014478</td>\n      <td>0.005515</td>\n      <td>0.055554</td>\n      <td>-0.023629</td>\n    </tr>\n    <tr>\n      <th>1</th>\n      <td>0.009577</td>\n      <td>0.006245</td>\n      <td>-0.033296</td>\n      <td>0.011508</td>\n      <td>0.010937</td>\n      <td>0.031040</td>\n      <td>0.027990</td>\n      <td>0.012026</td>\n      <td>-0.036721</td>\n      <td>-0.018761</td>\n      <td>...</td>\n      <td>0.008974</td>\n      <td>0.045976</td>\n      <td>0.007253</td>\n      <td>0.016612</td>\n      <td>-0.024913</td>\n      <td>-0.034840</td>\n      <td>0.007707</td>\n      <td>-0.011463</td>\n      <td>0.010438</td>\n      <td>-0.044241</td>\n    </tr>\n    <tr>\n      <th>2</th>\n      <td>0.009577</td>\n      <td>0.006245</td>\n      <td>-0.033296</td>\n      <td>0.011508</td>\n      <td>0.010937</td>\n      <td>0.031040</td>\n      <td>0.027990</td>\n      <td>0.012026</td>\n      <td>-0.036721</td>\n      <td>-0.018761</td>\n      <td>...</td>\n      <td>0.032656</td>\n      <td>0.017854</td>\n      <td>0.029796</td>\n      <td>0.008518</td>\n      <td>-0.022498</td>\n      <td>0.002091</td>\n      <td>-0.012543</td>\n      <td>-0.000042</td>\n      <td>-0.022655</td>\n      <td>-0.057506</td>\n    </tr>\n    <tr>\n      <th>3</th>\n      <td>0.009577</td>\n      <td>0.006245</td>\n      <td>-0.033296</td>\n      <td>0.011508</td>\n      <td>0.010937</td>\n      <td>0.031040</td>\n      <td>0.027990</td>\n      <td>0.012026</td>\n      <td>-0.036721</td>\n      <td>-0.018761</td>\n      <td>...</td>\n      <td>-0.010185</td>\n      <td>0.040874</td>\n      <td>0.018428</td>\n      <td>0.005628</td>\n      <td>-0.027361</td>\n      <td>-0.047506</td>\n      <td>-0.007277</td>\n      <td>0.004484</td>\n      <td>-0.026369</td>\n      <td>-0.061704</td>\n    </tr>\n    <tr>\n      <th>4</th>\n      <td>-0.010420</td>\n      <td>-0.033459</td>\n      <td>-0.032495</td>\n      <td>-0.045843</td>\n      <td>-0.010880</td>\n      <td>0.029193</td>\n      <td>0.024162</td>\n      <td>0.022396</td>\n      <td>-0.011753</td>\n      <td>-0.018466</td>\n      <td>...</td>\n      <td>-0.005320</td>\n      <td>0.018147</td>\n      <td>-0.031401</td>\n      <td>0.031785</td>\n      <td>-0.030024</td>\n      <td>-0.030181</td>\n      <td>-0.022365</td>\n      <td>0.003535</td>\n      <td>0.085359</td>\n      <td>-0.009603</td>\n    </tr>\n    <tr>\n      <th>...</th>\n      <td>...</td>\n      <td>...</td>\n      <td>...</td>\n      <td>...</td>\n      <td>...</td>\n      <td>...</td>\n      <td>...</td>\n      <td>...</td>\n      <td>...</td>\n      <td>...</td>\n      <td>...</td>\n      <td>...</td>\n      <td>...</td>\n      <td>...</td>\n      <td>...</td>\n      <td>...</td>\n      <td>...</td>\n      <td>...</td>\n      <td>...</td>\n      <td>...</td>\n      <td>...</td>\n    </tr>\n    <tr>\n      <th>5995</th>\n      <td>0.077558</td>\n      <td>0.065484</td>\n      <td>-0.029228</td>\n      <td>-0.041669</td>\n      <td>0.024160</td>\n      <td>0.008118</td>\n      <td>0.029876</td>\n      <td>-0.000238</td>\n      <td>-0.026611</td>\n      <td>-0.068392</td>\n      <td>...</td>\n      <td>-0.014344</td>\n      <td>0.016800</td>\n      <td>-0.027923</td>\n      <td>0.032383</td>\n      <td>-0.027306</td>\n      <td>-0.016949</td>\n      <td>-0.027304</td>\n      <td>0.016285</td>\n      <td>0.002847</td>\n      <td>-0.026341</td>\n    </tr>\n    <tr>\n      <th>5996</th>\n      <td>0.041520</td>\n      <td>0.087291</td>\n      <td>-0.027078</td>\n      <td>-0.021404</td>\n      <td>0.037023</td>\n      <td>0.017331</td>\n      <td>-0.016720</td>\n      <td>0.002071</td>\n      <td>-0.025603</td>\n      <td>-0.056898</td>\n      <td>...</td>\n      <td>-0.029710</td>\n      <td>0.018241</td>\n      <td>-0.053562</td>\n      <td>0.040958</td>\n      <td>-0.026269</td>\n      <td>0.021377</td>\n      <td>0.000972</td>\n      <td>0.012668</td>\n      <td>0.056699</td>\n      <td>-0.043082</td>\n    </tr>\n    <tr>\n      <th>5997</th>\n      <td>0.041520</td>\n      <td>0.087291</td>\n      <td>-0.027078</td>\n      <td>-0.021404</td>\n      <td>0.037023</td>\n      <td>0.017331</td>\n      <td>-0.016720</td>\n      <td>0.002071</td>\n      <td>-0.025603</td>\n      <td>-0.056898</td>\n      <td>...</td>\n      <td>-0.028676</td>\n      <td>0.010334</td>\n      <td>-0.025344</td>\n      <td>0.026858</td>\n      <td>-0.019152</td>\n      <td>-0.019665</td>\n      <td>-0.020374</td>\n      <td>0.004647</td>\n      <td>0.031211</td>\n      <td>-0.032664</td>\n    </tr>\n    <tr>\n      <th>5998</th>\n      <td>0.041520</td>\n      <td>0.087291</td>\n      <td>-0.027078</td>\n      <td>-0.021404</td>\n      <td>0.037023</td>\n      <td>0.017331</td>\n      <td>-0.016720</td>\n      <td>0.002071</td>\n      <td>-0.025603</td>\n      <td>-0.056898</td>\n      <td>...</td>\n      <td>-0.061163</td>\n      <td>0.036026</td>\n      <td>-0.016092</td>\n      <td>0.026519</td>\n      <td>-0.010434</td>\n      <td>0.006242</td>\n      <td>-0.010167</td>\n      <td>-0.002530</td>\n      <td>-0.027904</td>\n      <td>-0.041730</td>\n    </tr>\n    <tr>\n      <th>5999</th>\n      <td>0.041520</td>\n      <td>0.087291</td>\n      <td>-0.027078</td>\n      <td>-0.021404</td>\n      <td>0.037023</td>\n      <td>0.017331</td>\n      <td>-0.016720</td>\n      <td>0.002071</td>\n      <td>-0.025603</td>\n      <td>-0.056898</td>\n      <td>...</td>\n      <td>-0.040956</td>\n      <td>0.008482</td>\n      <td>0.028978</td>\n      <td>0.028231</td>\n      <td>0.000455</td>\n      <td>-0.050958</td>\n      <td>-0.026718</td>\n      <td>0.011742</td>\n      <td>-0.023707</td>\n      <td>-0.037031</td>\n    </tr>\n  </tbody>\n</table>\n<p>6000 rows × 1536 columns</p>\n</div>"
     },
     "execution_count": 13,
     "metadata": {},
     "output_type": "execute_result"
    }
   ],
   "source": [
    "# Compute embeddings\n",
    "jd_data = df['job_data_preprocessed'].apply(lambda x: get_text_embedding(x, embedding_model))\n",
    "jd_df = pd.DataFrame(jd_data.tolist(), index=df.index, columns = [f\"jd_{i+1}\" for i in range(len(jd_data.tolist()[0]))])\n",
    "\n",
    "resume_data = df['resume_data_preprocessed'].apply(lambda x: get_text_embedding(x, embedding_model))\n",
    "resume_df = pd.DataFrame(resume_data.tolist(), index=df.index, columns = [f\"r_{i+1}\" for i in range(len(resume_data.tolist()[0]))])\n",
    "\n",
    "\n",
    "embedding_df = pd.concat([jd_df, resume_df], axis=1)\n",
    "embedding_df"
   ]
  },
  {
   "cell_type": "markdown",
   "id": "5f56f728d50e54a9",
   "metadata": {
    "collapsed": false
   },
   "source": [
    "### Defining X and y"
   ]
  },
  {
   "cell_type": "code",
   "execution_count": 14,
   "id": "c0f6727c80883642",
   "metadata": {
    "collapsed": false,
    "ExecuteTime": {
     "end_time": "2025-03-07T00:02:59.293276Z",
     "start_time": "2025-03-07T00:02:59.246898Z"
    }
   },
   "outputs": [],
   "source": [
    "# Stack embeddings horizontally\n",
    "X = embedding_df.copy()\n",
    "y = df['label']"
   ]
  },
  {
   "cell_type": "markdown",
   "id": "1eee1875ec1e1e00",
   "metadata": {
    "collapsed": false
   },
   "source": [
    "### Train Test split"
   ]
  },
  {
   "cell_type": "code",
   "execution_count": 15,
   "id": "57e6ebaeee899b25",
   "metadata": {
    "collapsed": false,
    "ExecuteTime": {
     "end_time": "2025-03-07T00:02:59.356287Z",
     "start_time": "2025-03-07T00:02:59.295083Z"
    }
   },
   "outputs": [
    {
     "name": "stdout",
     "output_type": "stream",
     "text": [
      "Train data shape:  (4800, 1536)\n",
      "Test data shape:  (1200, 1536)\n"
     ]
    }
   ],
   "source": [
    "# Assuming X contains features and y contains labels\n",
    "X_train, X_test, y_train, y_test = train_test_split(X, y, test_size=0.2, stratify=y)\n",
    "\n",
    "print(\"Train data shape: \", X_train.shape)\n",
    "print(\"Test data shape: \", X_test.shape)"
   ]
  },
  {
   "cell_type": "markdown",
   "id": "f27261b9d9331f1a",
   "metadata": {
    "collapsed": false
   },
   "source": [
    "### DecisionTreeClassifier"
   ]
  },
  {
   "cell_type": "code",
   "execution_count": 16,
   "id": "4aab57ffb0cab09b",
   "metadata": {
    "collapsed": false,
    "ExecuteTime": {
     "end_time": "2025-03-07T00:03:23.694886Z",
     "start_time": "2025-03-07T00:02:59.357293Z"
    }
   },
   "outputs": [
    {
     "name": "stdout",
     "output_type": "stream",
     "text": [
      "Cross-validation scores: [0.521875   0.521875   0.49375    0.54583333 0.52604167]\n",
      "Mean accuracy: 0.5219\n",
      "Standard deviation: 0.0166\n"
     ]
    }
   ],
   "source": [
    "model = DecisionTreeClassifier(random_state=42)  # Example model\n",
    "cross_validation_scores(model, X_train, y_train, n_splits=5)"
   ]
  },
  {
   "cell_type": "code",
   "execution_count": 17,
   "id": "daa891ccaff03ca7",
   "metadata": {
    "collapsed": false,
    "ExecuteTime": {
     "end_time": "2025-03-07T00:03:29.699738Z",
     "start_time": "2025-03-07T00:03:23.696136Z"
    }
   },
   "outputs": [
    {
     "name": "stdout",
     "output_type": "stream",
     "text": [
      "\n",
      "Classification Report:\n",
      "                   precision    recall  f1-score   support\n",
      "\n",
      "Complete Mismatch       0.74      0.74      0.74       304\n",
      "         Good Fit       0.38      0.35      0.36       299\n",
      "    Overqualified       0.43      0.46      0.45       297\n",
      "    Underwhelming       0.56      0.58      0.57       300\n",
      "\n",
      "         accuracy                           0.53      1200\n",
      "        macro avg       0.53      0.53      0.53      1200\n",
      "     weighted avg       0.53      0.53      0.53      1200\n"
     ]
    }
   ],
   "source": [
    "# Train model on full training set\n",
    "model.fit(X_train, y_train)\n",
    "\n",
    "# Evaluate on test set\n",
    "y_pred = model.predict(X_test)\n",
    "\n",
    "print(\"\\nClassification Report:\")\n",
    "print(classification_report(y_test, y_pred))"
   ]
  },
  {
   "cell_type": "code",
   "execution_count": 18,
   "id": "a65bb4c8ca3c9fe1",
   "metadata": {
    "collapsed": false,
    "ExecuteTime": {
     "end_time": "2025-03-07T00:03:30.078883Z",
     "start_time": "2025-03-07T00:03:29.700519Z"
    }
   },
   "outputs": [
    {
     "data": {
      "text/plain": "<Figure size 800x700 with 2 Axes>",
      "image/png": "[encoded data removed]"
     },
     "metadata": {},
     "output_type": "display_data"
    }
   ],
   "source": [
    "plot_confusion_matrix(y_test, y_pred, [\"Complete Mismatch\", \"Good Fit\", \"Overqualified\", \"Underwhelming\"])"
   ]
  },
  {
   "cell_type": "markdown",
   "id": "fbbb29ed9ac18b6a",
   "metadata": {
    "collapsed": false
   },
   "source": [
    "### RandomForestClassifier"
   ]
  },
  {
   "cell_type": "code",
   "execution_count": 19,
   "id": "3f9b234e0f61533d",
   "metadata": {
    "collapsed": false,
    "ExecuteTime": {
     "end_time": "2025-03-07T00:04:08.980424Z",
     "start_time": "2025-03-07T00:03:30.079615Z"
    }
   },
   "outputs": [
    {
     "name": "stdout",
     "output_type": "stream",
     "text": [
      "Cross-validation scores: [0.65520833 0.63645833 0.65625    0.67708333 0.66979167]\n",
      "Mean accuracy: 0.6590\n",
      "Standard deviation: 0.0140\n"
     ]
    }
   ],
   "source": [
    "model = RandomForestClassifier(random_state=42)  # Example model\n",
    "cross_validation_scores(model, X_train, y_train, n_splits=5)"
   ]
  },
  {
   "cell_type": "code",
   "execution_count": 20,
   "id": "87bf092b91d34cca",
   "metadata": {
    "collapsed": false,
    "ExecuteTime": {
     "end_time": "2025-03-07T00:04:19.187212Z",
     "start_time": "2025-03-07T00:04:08.981773Z"
    }
   },
   "outputs": [
    {
     "name": "stdout",
     "output_type": "stream",
     "text": [
      "\n",
      "Classification Report:\n",
      "                   precision    recall  f1-score   support\n",
      "\n",
      "Complete Mismatch       0.95      0.92      0.94       304\n",
      "         Good Fit       0.37      0.36      0.36       299\n",
      "    Overqualified       0.46      0.49      0.48       297\n",
      "    Underwhelming       0.77      0.75      0.76       300\n",
      "\n",
      "         accuracy                           0.63      1200\n",
      "        macro avg       0.64      0.63      0.63      1200\n",
      "     weighted avg       0.64      0.63      0.63      1200\n"
     ]
    }
   ],
   "source": [
    "# Train model on full training set\n",
    "model.fit(X_train, y_train)\n",
    "\n",
    "# Evaluate on test set\n",
    "y_pred = model.predict(X_test)\n",
    "\n",
    "print(\"\\nClassification Report:\")\n",
    "print(classification_report(y_test, y_pred))"
   ]
  },
  {
   "cell_type": "code",
   "execution_count": 21,
   "id": "aded14e3e43ca406",
   "metadata": {
    "collapsed": false,
    "ExecuteTime": {
     "end_time": "2025-03-07T00:04:19.273939Z",
     "start_time": "2025-03-07T00:04:19.188007Z"
    }
   },
   "outputs": [
    {
     "data": {
      "text/plain": "<Figure size 800x700 with 2 Axes>",
      "image/png": "[encoded data removed]"
     },
     "metadata": {},
     "output_type": "display_data"
    }
   ],
   "source": [
    "plot_confusion_matrix(y_test, y_pred, [\"Complete Mismatch\", \"Good Fit\", \"Overqualified\", \"Underwhelming\"])"
   ]
  },
  {
   "cell_type": "markdown",
   "source": [
    "### XGBClassifier : Multi class classification"
   ],
   "metadata": {
    "collapsed": false
   },
   "id": "bdc837de0784bd62"
  },
  {
   "cell_type": "code",
   "outputs": [
    {
     "name": "stderr",
     "output_type": "stream",
     "text": [
      "/var/folders/t5/tflj5hjs197_vv37fw2sdhdr0000gn/T/ipykernel_24026/3337498069.py:2: FutureWarning: Downcasting behavior in `replace` is deprecated and will be removed in a future version. To retain the old behavior, explicitly call `result.infer_objects(copy=False)`. To opt-in to the future behavior, set `pd.set_option('future.no_silent_downcasting', True)`\n",
      "  y = df['label'].replace({\"Complete Mismatch\": 0, \"Underwhelming\":1, \"Good Fit\":2, \"Overqualified\":3})\n"
     ]
    }
   ],
   "source": [
    "X = embedding_df.copy()\n",
    "y = df['label'].replace({\"Complete Mismatch\": 0, \"Underwhelming\":1, \"Good Fit\":2, \"Overqualified\":3})"
   ],
   "metadata": {
    "collapsed": false,
    "ExecuteTime": {
     "end_time": "2025-03-07T00:04:19.322081Z",
     "start_time": "2025-03-07T00:04:19.274844Z"
    }
   },
   "id": "ef07d6d068cd4f5",
   "execution_count": 22
  },
  {
   "cell_type": "code",
   "outputs": [
    {
     "name": "stdout",
     "output_type": "stream",
     "text": [
      "Train data shape:  (4800, 1536)\n",
      "Test data shape:  (1200, 1536)\n"
     ]
    }
   ],
   "source": [
    "# Assuming X contains features and y contains labels\n",
    "X_train, X_test, y_train, y_test = train_test_split(X, y, test_size=0.2, stratify=y)\n",
    "\n",
    "print(\"Train data shape: \", X_train.shape)\n",
    "print(\"Test data shape: \", X_test.shape)"
   ],
   "metadata": {
    "collapsed": false,
    "ExecuteTime": {
     "end_time": "2025-03-07T00:04:19.342378Z",
     "start_time": "2025-03-07T00:04:19.322842Z"
    }
   },
   "id": "2c424f3912572365",
   "execution_count": 23
  },
  {
   "cell_type": "code",
   "outputs": [
    {
     "name": "stdout",
     "output_type": "stream",
     "text": [
      "Cross-validation scores: [0.78645833 0.79479167 0.790625   0.76041667 0.77291667]\n",
      "Mean accuracy: 0.7810\n",
      "Standard deviation: 0.0127\n"
     ]
    }
   ],
   "source": [
    "model = XGBClassifier(random_state=42)  # Example model\n",
    "cross_validation_scores(model, X_train, y_train, n_splits=5)"
   ],
   "metadata": {
    "collapsed": false,
    "ExecuteTime": {
     "end_time": "2025-03-07T00:06:11.343833Z",
     "start_time": "2025-03-07T00:04:19.342999Z"
    }
   },
   "id": "f9831417cf281b84",
   "execution_count": 24
  },
  {
   "cell_type": "code",
   "outputs": [
    {
     "name": "stdout",
     "output_type": "stream",
     "text": [
      "\n",
      "Classification Report:\n",
      "              precision    recall  f1-score   support\n",
      "\n",
      "           0       0.96      0.90      0.93       304\n",
      "           1       0.88      0.84      0.86       300\n",
      "           2       0.61      0.67      0.63       299\n",
      "           3       0.67      0.67      0.67       297\n",
      "\n",
      "    accuracy                           0.77      1200\n",
      "   macro avg       0.78      0.77      0.77      1200\n",
      "weighted avg       0.78      0.77      0.77      1200\n"
     ]
    }
   ],
   "source": [
    "# Train model on full training set\n",
    "model.fit(X_train, y_train)\n",
    "\n",
    "# Evaluate on test set\n",
    "y_pred = model.predict(X_test)\n",
    "\n",
    "print(\"\\nClassification Report:\")\n",
    "print(classification_report(y_test, y_pred))"
   ],
   "metadata": {
    "collapsed": false,
    "ExecuteTime": {
     "end_time": "2025-03-07T00:06:37.208924Z",
     "start_time": "2025-03-07T00:06:11.345211Z"
    }
   },
   "id": "af3c1855fbb7fd61",
   "execution_count": 25
  },
  {
   "cell_type": "code",
   "outputs": [
    {
     "data": {
      "text/plain": "<Figure size 800x700 with 2 Axes>",
      "image/png": "[encoded data removed]"
     },
     "metadata": {},
     "output_type": "display_data"
    }
   ],
   "source": [
    "plot_confusion_matrix(y_test, y_pred, [0, 1, 2, 3])"
   ],
   "metadata": {
    "collapsed": false,
    "ExecuteTime": {
     "end_time": "2025-03-07T00:06:37.281242Z",
     "start_time": "2025-03-07T00:06:37.210070Z"
    }
   },
   "id": "35532a85bab5e8cf",
   "execution_count": 26
  },
  {
   "cell_type": "markdown",
   "source": [
    "### XGBClassifier : Binary Classification"
   ],
   "metadata": {
    "collapsed": false
   },
   "id": "622d8352cc93f4f8"
  },
  {
   "cell_type": "markdown",
   "source": [
    "- Complete Mismatch and Underwhelming are bad fits (0)\n",
    "- Good fit and Overqualified are good fits (1)"
   ],
   "metadata": {
    "collapsed": false
   },
   "id": "1c597a05c9a1de17"
  },
  {
   "cell_type": "code",
   "outputs": [
    {
     "name": "stderr",
     "output_type": "stream",
     "text": [
      "/var/folders/t5/tflj5hjs197_vv37fw2sdhdr0000gn/T/ipykernel_24026/2897412205.py:2: FutureWarning: Downcasting behavior in `replace` is deprecated and will be removed in a future version. To retain the old behavior, explicitly call `result.infer_objects(copy=False)`. To opt-in to the future behavior, set `pd.set_option('future.no_silent_downcasting', True)`\n",
      "  y = df['label'].replace({\"Complete Mismatch\": 0, \"Underwhelming\":0, \"Good Fit\":1, \"Overqualified\":1})\n"
     ]
    }
   ],
   "source": [
    "X = embedding_df.copy()\n",
    "y = df['label'].replace({\"Complete Mismatch\": 0, \"Underwhelming\":0, \"Good Fit\":1, \"Overqualified\":1})"
   ],
   "metadata": {
    "collapsed": false,
    "ExecuteTime": {
     "end_time": "2025-03-07T00:06:37.308584Z",
     "start_time": "2025-03-07T00:06:37.281957Z"
    }
   },
   "id": "bf85374e95d4f5f3",
   "execution_count": 27
  },
  {
   "cell_type": "code",
   "outputs": [
    {
     "name": "stdout",
     "output_type": "stream",
     "text": [
      "Train data shape:  (4800, 1536)\n",
      "Test data shape:  (1200, 1536)\n"
     ]
    }
   ],
   "source": [
    "# Assuming X contains features and y contains labels\n",
    "X_train, X_test, y_train, y_test = train_test_split(X, y, test_size=0.2, stratify=y)\n",
    "\n",
    "print(\"Train data shape: \", X_train.shape)\n",
    "print(\"Test data shape: \", X_test.shape)"
   ],
   "metadata": {
    "collapsed": false,
    "ExecuteTime": {
     "end_time": "2025-03-07T00:06:37.328902Z",
     "start_time": "2025-03-07T00:06:37.312291Z"
    }
   },
   "id": "d5c7fd0e5d8a581a",
   "execution_count": 28
  },
  {
   "cell_type": "code",
   "outputs": [
    {
     "name": "stdout",
     "output_type": "stream",
     "text": [
      "Cross-validation scores: [0.93645833 0.93645833 0.95729167 0.91979167 0.94166667]\n",
      "Mean accuracy: 0.9383\n",
      "Standard deviation: 0.0120\n"
     ]
    }
   ],
   "source": [
    "model = XGBClassifier(random_state=42)  # Example model\n",
    "cross_validation_scores(model, X_train, y_train, n_splits=5)"
   ],
   "metadata": {
    "collapsed": false,
    "ExecuteTime": {
     "end_time": "2025-03-07T00:07:05.693602Z",
     "start_time": "2025-03-07T00:06:37.329414Z"
    }
   },
   "id": "3a5921ae3e4bbe1d",
   "execution_count": 29
  },
  {
   "cell_type": "code",
   "outputs": [
    {
     "name": "stdout",
     "output_type": "stream",
     "text": [
      "\n",
      "Classification Report:\n",
      "              precision    recall  f1-score   support\n",
      "\n",
      "           0       0.95      0.95      0.95       603\n",
      "           1       0.94      0.94      0.94       597\n",
      "\n",
      "    accuracy                           0.94      1200\n",
      "   macro avg       0.94      0.94      0.94      1200\n",
      "weighted avg       0.94      0.94      0.94      1200\n"
     ]
    }
   ],
   "source": [
    "# Train model on full training set\n",
    "model.fit(X_train, y_train)\n",
    "\n",
    "# Evaluate on test set\n",
    "y_pred = model.predict(X_test)\n",
    "\n",
    "print(\"\\nClassification Report:\")\n",
    "print(classification_report(y_test, y_pred))"
   ],
   "metadata": {
    "collapsed": false,
    "ExecuteTime": {
     "end_time": "2025-03-07T00:07:13.355263Z",
     "start_time": "2025-03-07T00:07:05.694973Z"
    }
   },
   "id": "d66d3853a7c4ad32",
   "execution_count": 30
  },
  {
   "cell_type": "code",
   "outputs": [
    {
     "data": {
      "text/plain": "<Figure size 800x700 with 2 Axes>",
      "image/png": "[encoded data removed]"
     },
     "metadata": {},
     "output_type": "display_data"
    }
   ],
   "source": [
    "plot_confusion_matrix(y_test, y_pred, [0, 1])"
   ],
   "metadata": {
    "collapsed": false,
    "ExecuteTime": {
     "end_time": "2025-03-07T00:07:13.432732Z",
     "start_time": "2025-03-07T00:07:13.356565Z"
    }
   },
   "id": "95f3eafca73ed512",
   "execution_count": 31
  }
 ],
 "metadata": {
  "kernelspec": {
   "display_name": "Python (ARS)",
   "language": "python",
   "name": "ars"
  },
  "language_info": {
   "codemirror_mode": {
    "name": "ipython",
    "version": 3
   },
   "file_extension": ".py",
   "mimetype": "text/x-python",
   "name": "python",
   "nbconvert_exporter": "python",
   "pygments_lexer": "ipython3",
   "version": "3.12.1"
  }
 },
 "nbformat": 4,
 "nbformat_minor": 5
}
